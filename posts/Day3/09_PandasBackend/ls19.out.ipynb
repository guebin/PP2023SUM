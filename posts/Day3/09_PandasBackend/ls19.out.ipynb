{
  "cells": [
    {
      "cell_type": "markdown",
      "metadata": {},
      "source": [
        "# Lesson 20: 핸드폰점유율, 팁, 인사자료 분석 (깨끗한 데이터)\n",
        "\n",
        "최규빈  \n",
        "2023-02-01\n",
        "\n",
        "<a href=\"https://colab.research.google.com/github/guebin/IP2023WIN/blob/main/posts/Day3/09_PandasBackend/2023-02-01-Lesson20.ipynb\"><img src=\"https://colab.research.google.com/assets/colab-badge.svg\" style=\"text-align: left\"></a>\n",
        "\n",
        "# ref\n",
        "\n",
        "<https://guebin.github.io/DV2022/posts/2022-11-14-11wk-1.html#data2-핸드폰점유율>\n",
        "\n",
        "# import"
      ],
      "id": "eb4fa4b9-77c5-479c-a4f2-9d147e04ce3a"
    },
    {
      "cell_type": "code",
      "execution_count": 2,
      "metadata": {
        "vscode": {
          "languageId": "python"
        }
      },
      "outputs": [],
      "source": [
        "import numpy as np \n",
        "import pandas as pd "
      ],
      "id": "15901c5b-e9c8-492a-8516-538c83a62f37"
    },
    {
      "cell_type": "code",
      "execution_count": 3,
      "metadata": {
        "vscode": {
          "languageId": "python"
        }
      },
      "outputs": [],
      "source": [
        "#!pip install pandas_datareader \n",
        "from pandas_datareader import data as pdr "
      ],
      "id": "ae1f2870-f4df-4d90-9dcd-377ad1abcccb"
    },
    {
      "cell_type": "markdown",
      "metadata": {},
      "source": [
        "## data: 핸드폰점유율"
      ],
      "id": "883cc3fa-80b0-4d8f-85d3-e2c84886ffcb"
    },
    {
      "cell_type": "code",
      "execution_count": 9,
      "metadata": {
        "vscode": {
          "languageId": "python"
        }
      },
      "outputs": [],
      "source": [
        "df = pd.read_csv('https://raw.githubusercontent.com/kalilurrahman/datasets/main/mobilephonemktshare2020.csv')\n",
        "df"
      ],
      "id": "45c0c293-01b2-430c-9443-2cbbe0088d97"
    },
    {
      "cell_type": "markdown",
      "metadata": {},
      "source": [
        "## matplotlib: 2개의 y를 겹쳐그리기\n",
        "\n",
        "`-` 예시1"
      ],
      "id": "e4d00bc5-a94a-47f4-8713-e91987230d26"
    },
    {
      "cell_type": "code",
      "execution_count": 5,
      "metadata": {
        "vscode": {
          "languageId": "python"
        }
      },
      "outputs": [
        {
          "output_type": "display_data",
          "metadata": {},
          "data": {
            "image/png": "[encoded data removed]"
          }
        }
      ],
      "source": [
        "df.plot.bar(x='Date',y=['Samsung','Apple'])"
      ],
      "id": "9d08bbd9-7729-4350-8173-e70e3b3fbe03"
    },
    {
      "cell_type": "markdown",
      "metadata": {},
      "source": [
        "`-` 예시2: width 옵션으로 폭조정"
      ],
      "id": "6cc06fb4-05ed-4395-9fe3-91bf6d9e6039"
    },
    {
      "cell_type": "code",
      "execution_count": 6,
      "metadata": {
        "vscode": {
          "languageId": "python"
        }
      },
      "outputs": [
        {
          "output_type": "display_data",
          "metadata": {},
          "data": {
            "image/png": "[encoded data removed]"
          }
        }
      ],
      "source": [
        "df.plot.bar(x='Date',y=['Samsung','Apple'],width=0.8)"
      ],
      "id": "8c4ff105-f337-4336-bb7a-ad26de8c6d98"
    },
    {
      "cell_type": "markdown",
      "metadata": {},
      "source": [
        "## matplotlib: 2개의 y를 겹쳐그리기 + x,y 플립\n",
        "\n",
        "`-` 예시1: barh를 이용하여 플립"
      ],
      "id": "2a797216-d07d-4896-a1e1-801405301756"
    },
    {
      "cell_type": "code",
      "execution_count": 7,
      "metadata": {
        "vscode": {
          "languageId": "python"
        }
      },
      "outputs": [
        {
          "output_type": "display_data",
          "metadata": {},
          "data": {
            "image/png": "[encoded data removed]"
          }
        }
      ],
      "source": [
        "df.plot.barh(x='Date',y=['Samsung','Apple'],width=0.8)"
      ],
      "id": "cb4d93e1-e8c3-41ee-bd83-ce3b72cbd602"
    },
    {
      "cell_type": "markdown",
      "metadata": {},
      "source": [
        "## plotly: 모든y를 stacked bar로 나타내기\n",
        "\n",
        "`-` 예시1"
      ],
      "id": "9abd6871-1d87-4d05-a282-7768d9a7c04d"
    },
    {
      "cell_type": "code",
      "execution_count": 8,
      "metadata": {
        "vscode": {
          "languageId": "python"
        }
      },
      "outputs": [],
      "source": [
        "df.melt(id_vars='Date').plot.bar(backend='plotly',x='Date',y='value',color='variable')"
      ],
      "id": "7fb86cb7-aaef-49c0-817c-50d49f4afe6a"
    },
    {
      "cell_type": "markdown",
      "metadata": {},
      "source": [
        "## plotly: 3개의 y를 겹쳐그리기\n",
        "\n",
        "`-` 예시1"
      ],
      "id": "29bb007d-c0a1-430d-9d3c-84a902678770"
    },
    {
      "cell_type": "code",
      "execution_count": 20,
      "metadata": {
        "vscode": {
          "languageId": "python"
        }
      },
      "outputs": [],
      "source": [
        "df.melt(id_vars='Date')\\\n",
        ".query(' variable==\"Samsung\" or variable==\"Apple\" or variable==\"Huawei\"')"
      ],
      "id": "f7c1944b-6f11-4740-916c-7f74892e40de"
    },
    {
      "cell_type": "code",
      "execution_count": 23,
      "metadata": {
        "vscode": {
          "languageId": "python"
        }
      },
      "outputs": [],
      "source": [
        "df.melt(id_vars='Date')\\\n",
        ".query(' variable==\"Samsung\" or variable==\"Apple\" or variable==\"Huawei\"')\\\n",
        ".plot.bar(backend='plotly',x='Date',y='value',color='variable',barmode='group')"
      ],
      "id": "31c0fbde-4c9f-42b9-9d70-d839c3269e4a"
    },
    {
      "cell_type": "markdown",
      "metadata": {},
      "source": [
        "## plotly: 3개의 y를 겹쳐그리기 + text\n",
        "\n",
        "`-` 예시1"
      ],
      "id": "839deb30-3e06-4f0b-a4d5-9b67569786f9"
    },
    {
      "cell_type": "code",
      "execution_count": 58,
      "metadata": {
        "vscode": {
          "languageId": "python"
        }
      },
      "outputs": [],
      "source": [
        "df.melt(id_vars='Date')\\\n",
        ".query(' variable==\"Samsung\" or variable==\"Apple\" or variable==\"Huawei\"')\\\n",
        ".plot.bar(backend='plotly',x='value',y='Date',color='variable',barmode='group',text='value',height=1200)"
      ],
      "id": "4063910b-b6b0-4b8a-bf17-753c6fd82954"
    },
    {
      "cell_type": "markdown",
      "metadata": {},
      "source": [
        "## plotly: 면분할로 subplot그리기 (facet_col)"
      ],
      "id": "f9e59a70-2c9f-4b7e-99c4-102925849a9e"
    },
    {
      "cell_type": "code",
      "execution_count": 59,
      "metadata": {
        "vscode": {
          "languageId": "python"
        }
      },
      "outputs": [],
      "source": [
        "df.melt(id_vars='Date').query(' variable==\"Samsung\" or variable==\"Apple\"')\\\n",
        ".plot.bar(backend='plotly',x='Date',y='value',color='variable',barmode='group',facet_col='variable')"
      ],
      "id": "6129553a-b140-4db7-bd2c-6d41514f5f1b"
    },
    {
      "cell_type": "markdown",
      "metadata": {},
      "source": [
        "## plotly: 면분할로 subplot그리기 (facet_row)"
      ],
      "id": "aac8029e-5dfb-4d4b-b2a7-d38d25430a9c"
    },
    {
      "cell_type": "code",
      "execution_count": 60,
      "metadata": {
        "vscode": {
          "languageId": "python"
        }
      },
      "outputs": [],
      "source": [
        "df.melt(id_vars='Date').query(' variable==\"Samsung\" or variable==\"Apple\"')\\\n",
        ".plot.bar(backend='plotly',x='Date',y='value',color='variable',barmode='group',facet_row='variable')"
      ],
      "id": "2e6ac855-9303-4fba-9633-54a1f9af5eb3"
    },
    {
      "cell_type": "markdown",
      "metadata": {},
      "source": [
        "# boxplot\n",
        "\n",
        "## data: 팁"
      ],
      "id": "e79d17cd-581e-45c0-b357-dca35ffd5b73"
    },
    {
      "cell_type": "code",
      "execution_count": 24,
      "metadata": {
        "vscode": {
          "languageId": "python"
        }
      },
      "outputs": [],
      "source": [
        "import plotly.express as px \n",
        "df = px.data.tips() \n",
        "df"
      ],
      "id": "8470de8b-42cc-496d-9714-50ab26920b10"
    },
    {
      "cell_type": "markdown",
      "metadata": {},
      "source": [
        "## plotly: 팁의 박스플랏\n",
        "\n",
        "`-` y=‘tip’"
      ],
      "id": "fe88d6be-a1e0-4793-af3f-fa0de4bdb36c"
    },
    {
      "cell_type": "code",
      "execution_count": 29,
      "metadata": {
        "vscode": {
          "languageId": "python"
        }
      },
      "outputs": [],
      "source": [
        "df.plot.box(backend='plotly',y='tip',width=500,height=500)"
      ],
      "id": "ef92a6d0-a683-401b-b792-b522627b774e"
    },
    {
      "cell_type": "markdown",
      "metadata": {},
      "source": [
        "## plotly: 시간에 따른 팁의 박스플랏\n",
        "\n",
        "`-` y=`'tip'`, x=`'time'`"
      ],
      "id": "9e4ac9eb-d61f-4703-9c18-63ae4bb459c0"
    },
    {
      "cell_type": "code",
      "execution_count": 63,
      "metadata": {
        "vscode": {
          "languageId": "python"
        }
      },
      "outputs": [],
      "source": [
        "df.plot.box(backend='plotly',x='time',y='tip',width=500,height=500)"
      ],
      "id": "ac827f1e-0f5c-4a61-90e8-a6cbbefd86a8"
    },
    {
      "cell_type": "markdown",
      "metadata": {},
      "source": [
        "-   저녁에 좀 더 잘주는것 같음\n",
        "\n",
        "## plotly: 시간과 성별에 따른 팁의 박스플랏\n",
        "\n",
        "`-` 예시1: y=`'tip'`, x=`'time'`, color=`'sex'`"
      ],
      "id": "ab100c9d-0563-4de9-ac84-bf3c47e9de4c"
    },
    {
      "cell_type": "code",
      "execution_count": 32,
      "metadata": {
        "vscode": {
          "languageId": "python"
        }
      },
      "outputs": [],
      "source": [
        "df.plot.box(backend='plotly',x='time',y='tip',color='sex',width=500,height=500)"
      ],
      "id": "1638dc7e-a2a6-4e99-a8e5-12d186357737"
    },
    {
      "cell_type": "markdown",
      "metadata": {},
      "source": [
        "`-` 예시2: y=`'tip'`, x=`'time'`, color=`'sex'`, points=`'all'`"
      ],
      "id": "13fa71d5-c7d9-41b3-8029-94f872105103"
    },
    {
      "cell_type": "code",
      "execution_count": 65,
      "metadata": {
        "vscode": {
          "languageId": "python"
        }
      },
      "outputs": [],
      "source": [
        "df.plot.box(backend='plotly',x='time',y='tip',color='sex',points='all',width=500,height=500)"
      ],
      "id": "9e1c4767-2ffa-4ede-becc-be7c237db2b2"
    },
    {
      "cell_type": "markdown",
      "metadata": {},
      "source": [
        "## plotly: 시간,성별,요일에 따른 팁의 박스플랏\n",
        "\n",
        "`-` 예시1: y=`'tip'`, x=`'time'`, color=`'sex'`, facet_col=`'day'`"
      ],
      "id": "33163e0c-ed5e-437f-9139-15518bbcfc5b"
    },
    {
      "cell_type": "code",
      "execution_count": 33,
      "metadata": {
        "vscode": {
          "languageId": "python"
        }
      },
      "outputs": [],
      "source": [
        "df.plot.box(backend='plotly', facet_row='day',x='time',y='tip',color='sex',points='all',height=1000)"
      ],
      "id": "1acec66c-8771-4fb2-b40d-66f82a25abe1"
    },
    {
      "cell_type": "markdown",
      "metadata": {},
      "source": [
        "`-` 예시2: y=`'tip'`, color=`'sex'`, facet_col=`'time'`,\n",
        "facet_row=`'day'`"
      ],
      "id": "cfef5aa5-b1b6-489c-b7bb-4bd16a1d84a7"
    },
    {
      "cell_type": "code",
      "execution_count": 34,
      "metadata": {
        "vscode": {
          "languageId": "python"
        }
      },
      "outputs": [],
      "source": [
        "df.plot.box(backend='plotly',facet_col='time', facet_row='day',y='tip',color='sex',points='all',height=1000)"
      ],
      "id": "789ec9c7-ad5e-41d4-a978-1a492b8ef795"
    },
    {
      "cell_type": "markdown",
      "metadata": {},
      "source": [
        "## plotly: 시간,성별,요일,흡연에 따른 팁의 박스플랏"
      ],
      "id": "4cbed641-fbb4-414e-a335-c4f0c657c48e"
    },
    {
      "cell_type": "code",
      "execution_count": 68,
      "metadata": {
        "vscode": {
          "languageId": "python"
        }
      },
      "outputs": [],
      "source": [
        "df.plot.box(backend='plotly',facet_col='time', facet_row='day',x='smoker',y='tip',color='sex',points='all',height=1000)"
      ],
      "id": "6be6192d-c233-4472-9c5a-ff6422b90395"
    },
    {
      "cell_type": "markdown",
      "metadata": {},
      "source": [
        "# histogram\n",
        "\n",
        "## data: 인사자료"
      ],
      "id": "0c134441-c825-44a2-9286-1fefedff9ae2"
    },
    {
      "cell_type": "code",
      "execution_count": 69,
      "metadata": {
        "vscode": {
          "languageId": "python"
        }
      },
      "outputs": [],
      "source": [
        "df = pd.read_csv('https://raw.githubusercontent.com/guebin/DV2022/master/posts/HRDataset_v14.csv')\n",
        "df"
      ],
      "id": "7c2493c7-495e-4b9f-8221-eed751eb0102"
    },
    {
      "cell_type": "markdown",
      "metadata": {},
      "source": [
        "## 인종별 급여비교 (단순 groupby)"
      ],
      "id": "bcd9040f-d984-4678-bbe8-82f03ce7b25a"
    },
    {
      "cell_type": "code",
      "execution_count": 70,
      "metadata": {
        "vscode": {
          "languageId": "python"
        }
      },
      "outputs": [],
      "source": [
        "df.groupby('RaceDesc').agg({'Salary':[np.mean,\"count\"]})"
      ],
      "id": "a1db0556-8c78-448e-81da-45a465b7d513"
    },
    {
      "cell_type": "markdown",
      "metadata": {},
      "source": [
        "## 급여의 시각화\n",
        "\n",
        "`-` 예시1"
      ],
      "id": "0092618a-2e04-401d-90bd-22d3e0bf48d6"
    },
    {
      "cell_type": "code",
      "execution_count": 71,
      "metadata": {
        "vscode": {
          "languageId": "python"
        }
      },
      "outputs": [],
      "source": [
        "df.query('RaceDesc == \"Black or African American\" or RaceDesc == \"White\"')\\\n",
        ".plot.hist(backend='plotly',x='Salary',color='RaceDesc',facet_col='RaceDesc')"
      ],
      "id": "f3327c7f-cd5d-4bc4-8b6e-c7522ffabeec"
    },
    {
      "cell_type": "markdown",
      "metadata": {},
      "source": [
        "`-` 예시2"
      ],
      "id": "06a031cc-2f7d-49f6-9bb5-6df6a95e136f"
    },
    {
      "cell_type": "code",
      "execution_count": 72,
      "metadata": {
        "vscode": {
          "languageId": "python"
        }
      },
      "outputs": [],
      "source": [
        "df.query('RaceDesc == \"Black or African American\" or RaceDesc == \"White\"')\\\n",
        ".plot.hist(backend='plotly',x='Salary',color='RaceDesc',facet_col='RaceDesc',histnorm='probability')"
      ],
      "id": "02a39056-825b-4018-9262-de1f82c6b0ad"
    }
  ],
  "nbformat": 4,
  "nbformat_minor": 5,
  "metadata": {
    "kernelspec": {
      "name": "python3",
      "display_name": "Python 3",
      "language": "python"
    }
  }
}