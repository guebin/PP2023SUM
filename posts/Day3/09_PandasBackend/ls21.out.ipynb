{
  "cells": [
    {
      "cell_type": "markdown",
      "metadata": {},
      "source": [
        "# Lesson 22: 버블차트 애니메이션\n",
        "\n",
        "최규빈  \n",
        "2023-07-26\n",
        "\n",
        "<a href=\"https://colab.research.google.com/github/guebin/IP2023WIN/blob/main/posts/Day3/09_PandasBackend/2023-02-01-Lesson22.ipynb\"><img src=\"https://colab.research.google.com/assets/colab-badge.svg\" style=\"text-align: left\"></a>\n",
        "\n",
        "# ref\n",
        "\n",
        "<https://guebin.github.io/DV2022/posts/2022-11-23-12wk-2.html#세계지도-그리기>\n",
        "\n",
        "# import"
      ],
      "id": "b513bd6a-dd5d-4e36-bdd4-fc34ad89af81"
    },
    {
      "cell_type": "code",
      "execution_count": 1,
      "metadata": {
        "vscode": {
          "languageId": "python"
        }
      },
      "outputs": [],
      "source": [
        "import pandas as pd\n",
        "import plotly.express as px"
      ],
      "id": "eb37c92f-72b4-4f38-9713-85b01b4e05b3"
    },
    {
      "cell_type": "markdown",
      "metadata": {},
      "source": [
        "# `px.scatter_geo`\n",
        "\n",
        "## 세계지도 그리기\n",
        "\n",
        "`-` 기본그리기1"
      ],
      "id": "916354c1-414f-47dd-a918-6c4ad92e2e5b"
    },
    {
      "cell_type": "code",
      "execution_count": 2,
      "metadata": {
        "vscode": {
          "languageId": "python"
        }
      },
      "outputs": [],
      "source": [
        "px.scatter_geo()"
      ],
      "id": "289d72c6-861a-486f-b69b-a04d24aa1942"
    },
    {
      "cell_type": "markdown",
      "metadata": {},
      "source": [
        "`-` 기본그리기2"
      ],
      "id": "bf298e97-ea62-435d-b251-8c69cdf92d89"
    },
    {
      "cell_type": "code",
      "execution_count": 3,
      "metadata": {
        "vscode": {
          "languageId": "python"
        }
      },
      "outputs": [],
      "source": [
        "px.scatter_geo(projection='natural earth')"
      ],
      "id": "2edfa50c-5e33-4365-862a-08f7e5e42ee0"
    },
    {
      "cell_type": "markdown",
      "metadata": {},
      "source": [
        "## 세계지도 + 버블\n",
        "\n",
        "`-` 좌표에 점을 찍어보기1"
      ],
      "id": "4799422c-9a51-4235-82d2-ce431f84e48a"
    },
    {
      "cell_type": "code",
      "execution_count": 4,
      "metadata": {
        "vscode": {
          "languageId": "python"
        }
      },
      "outputs": [],
      "source": [
        "df=pd.DataFrame({'lat':[0,38],'lon':[0,127],'size':[5,20]})\n",
        "df"
      ],
      "id": "5bf06e00-14ed-4184-bda2-83036dc0b28d"
    },
    {
      "cell_type": "code",
      "execution_count": 19,
      "metadata": {
        "vscode": {
          "languageId": "python"
        }
      },
      "outputs": [],
      "source": [
        "px.scatter_geo(df,lat='lat',lon='lon',size='size')"
      ],
      "id": "9734023a-e964-4a1a-912d-ab7297f79d18"
    },
    {
      "cell_type": "markdown",
      "metadata": {},
      "source": [
        "`-` 좌표에 점을 찍어보기2"
      ],
      "id": "3fdab53f-7fc9-493c-ace6-faa1ce4000ba"
    },
    {
      "cell_type": "code",
      "execution_count": 8,
      "metadata": {
        "vscode": {
          "languageId": "python"
        }
      },
      "outputs": [],
      "source": [
        "df=pd.DataFrame({'iso_alpha':['KOR','JPN'],'size':[10,2]})\n",
        "df"
      ],
      "id": "2ac6f845-918f-4505-afec-8bd4401ff017"
    },
    {
      "cell_type": "code",
      "execution_count": 9,
      "metadata": {
        "vscode": {
          "languageId": "python"
        }
      },
      "outputs": [],
      "source": [
        "px.scatter_geo(df,locations='iso_alpha',size='size')"
      ],
      "id": "105ccf00-7f40-47ec-b4b6-d2dccbd89924"
    },
    {
      "cell_type": "markdown",
      "metadata": {},
      "source": [
        "## Gapminder data 시각화\n",
        "\n",
        "`-` [Gapminder](https://en.wikipedia.org/wiki/Gapminder_Foundation)\n",
        "\n",
        "-   스웨덴 스톡홀름에 등록된 비영리 벤처 기업\n",
        "-   [Trendalyzer](https://en.wikipedia.org/wiki/Trendalyzer)\n",
        "    소프트웨어를 개발하여 애니메이션 거품 그래프를 생성 $\\to$\n",
        "    소프트웨어는 2006년, Gapminder의 개발자는 2007년에 글고..\n",
        "\n",
        "> <https://www.youtube.com/watch?v=N91kkT-vC6w>\n",
        "\n",
        "`-` Gapminder data: 국가별 기대수명, 1인당 GDP, 인구에 대한 데이터 -\n",
        "특징: 연도별로 정리가 되어있다."
      ],
      "id": "81f063cd-0a3b-4cfe-83f4-d087fb92c786"
    },
    {
      "cell_type": "code",
      "execution_count": 10,
      "metadata": {
        "vscode": {
          "languageId": "python"
        }
      },
      "outputs": [],
      "source": [
        "df = px.data.gapminder()\n",
        "df"
      ],
      "id": "af061ec7-8c34-4141-a89e-339574e12177"
    },
    {
      "cell_type": "markdown",
      "metadata": {},
      "source": [
        "`-` 2007년만 추출"
      ],
      "id": "46cbb9ea-98da-453c-bd64-ace72fb9d9e0"
    },
    {
      "cell_type": "code",
      "execution_count": 13,
      "metadata": {
        "vscode": {
          "languageId": "python"
        }
      },
      "outputs": [],
      "source": [
        "df.query('year==2007')"
      ],
      "id": "cae1b0d4-725f-40f7-8bd8-ccf898ec65ba"
    },
    {
      "cell_type": "markdown",
      "metadata": {},
      "source": [
        "`-` 시각화예시1: (x,y) = (lon,lat) = locations"
      ],
      "id": "b5716519-bf21-473d-9718-e439fd631011"
    },
    {
      "cell_type": "code",
      "execution_count": 24,
      "metadata": {
        "vscode": {
          "languageId": "python"
        }
      },
      "outputs": [],
      "source": [
        "px.scatter_geo(\n",
        "    data_frame = df.query('year==2007'),\n",
        "    locations= 'iso_alpha'\n",
        ")"
      ],
      "id": "303874de-d5eb-4a29-a8e5-f223013a96e1"
    },
    {
      "cell_type": "markdown",
      "metadata": {},
      "source": [
        "`-` 시각화예시2: (x,y) = (lon,lat) = locations, size= pop"
      ],
      "id": "1bd73462-b528-44f8-b748-e7b3862c606b"
    },
    {
      "cell_type": "code",
      "execution_count": 14,
      "metadata": {
        "vscode": {
          "languageId": "python"
        }
      },
      "outputs": [],
      "source": [
        "px.scatter_geo(\n",
        "    data_frame = df.query('year==2007'),\n",
        "    locations= 'iso_alpha',\n",
        "    size='pop'\n",
        ")"
      ],
      "id": "2f82abc9-69e4-4053-abdb-e37c9bb32cf8"
    },
    {
      "cell_type": "markdown",
      "metadata": {},
      "source": [
        "`-` 시각화예시3: (x,y) = (lon,lat) = locations, size= pop, color=\n",
        "continent"
      ],
      "id": "265bc1b9-fc0d-410e-98bf-b211fc0c4169"
    },
    {
      "cell_type": "code",
      "execution_count": 26,
      "metadata": {
        "vscode": {
          "languageId": "python"
        }
      },
      "outputs": [],
      "source": [
        "px.scatter_geo(\n",
        "    data_frame = df.query('year==2007'),\n",
        "    locations= 'iso_alpha',\n",
        "    size='pop',\n",
        "    color='continent'\n",
        ")"
      ],
      "id": "649de6f5-065a-4a4a-beb2-d97b28498914"
    },
    {
      "cell_type": "markdown",
      "metadata": {},
      "source": [
        "# `px.scatter_geo` + animation\n",
        "\n",
        "`-` 시각화예시1"
      ],
      "id": "c51d84a4-a92f-4a0c-9f22-6e28e4dd14d5"
    },
    {
      "cell_type": "code",
      "execution_count": 15,
      "metadata": {
        "vscode": {
          "languageId": "python"
        }
      },
      "outputs": [],
      "source": [
        "px.scatter_geo(\n",
        "    data_frame = df,\n",
        "    locations= 'iso_alpha',\n",
        "    size='pop',\n",
        "    color='continent',\n",
        "    animation_frame='year'\n",
        ")"
      ],
      "id": "ac7f2c71-d577-402d-acf9-4cf656fdb1ed"
    },
    {
      "cell_type": "code",
      "execution_count": 28,
      "metadata": {
        "vscode": {
          "languageId": "python"
        }
      },
      "outputs": [],
      "source": [
        "px.scatter_geo(\n",
        "    data_frame = df,\n",
        "    projection = 'natural earth',\n",
        "    locations= 'iso_alpha',\n",
        "    size='pop',\n",
        "    color='continent',\n",
        "    animation_frame='year'\n",
        ")"
      ],
      "id": "9a7ea0d9-1c4c-4fb6-b14a-08a0b9807045"
    }
  ],
  "nbformat": 4,
  "nbformat_minor": 5,
  "metadata": {
    "kernelspec": {
      "name": "python3",
      "display_name": "Python 3 (ipykernel)",
      "language": "python"
    },
    "language_info": {
      "name": "python",
      "codemirror_mode": {
        "name": "ipython",
        "version": "3"
      },
      "file_extension": ".py",
      "mimetype": "text/x-python",
      "nbconvert_exporter": "python",
      "pygments_lexer": "ipython3",
      "version": "3.10.12"
    }
  }
}