{
 "cells": [
  {
   "cell_type": "raw",
   "id": "b17a7a42-20e9-47e4-a3dd-3027d366cd47",
   "metadata": {},
   "source": [
    "---\n",
    "title: \"Lesson 13: 데이터 입출력\"\n",
    "author: \"최규빈\"\n",
    "date: \"07/25/2023\"\n",
    "---"
   ]
  },
  {
   "cell_type": "markdown",
   "id": "0a2c0e2e-e336-478c-aad6-d4eb7d61a9dc",
   "metadata": {},
   "source": [
    "# 입출력 "
   ]
  },
  {
   "cell_type": "markdown",
   "id": "46e51d57-7e95-4bfd-bafd-a1eb8d25cdf4",
   "metadata": {},
   "source": [
    "## sys "
   ]
  },
  {
   "cell_type": "code",
   "execution_count": 1,
   "id": "e43c827b-713a-4777-a6d6-e6cf78c96a45",
   "metadata": {},
   "outputs": [
    {
     "data": {
      "text/plain": [
       "''"
      ]
     },
     "execution_count": 1,
     "metadata": {},
     "output_type": "execute_result"
    }
   ],
   "source": [
    "import sys \n",
    "\n",
    "sys.stdin.readline()"
   ]
  },
  {
   "cell_type": "code",
   "execution_count": 65,
   "id": "feef364c-1cc1-4dbb-ab7f-92310b0641ef",
   "metadata": {},
   "outputs": [
    {
     "ename": "NameError",
     "evalue": "name 'sys' is not defined",
     "output_type": "error",
     "traceback": [
      "\u001b[0;31m---------------------------------------------------------------------------\u001b[0m",
      "\u001b[0;31mNameError\u001b[0m                                 Traceback (most recent call last)",
      "Cell \u001b[0;32mIn[65], line 1\u001b[0m\n\u001b[0;32m----> 1\u001b[0m \u001b[43msys\u001b[49m\u001b[38;5;241m.\u001b[39margv \n",
      "\u001b[0;31mNameError\u001b[0m: name 'sys' is not defined"
     ]
    }
   ],
   "source": [
    "sys.argv "
   ]
  },
  {
   "cell_type": "markdown",
   "id": "6957ec14-1a53-42eb-b5e2-d4939956d180",
   "metadata": {},
   "source": [
    "## os.path"
   ]
  },
  {
   "cell_type": "markdown",
   "id": "e8c5df16-14ba-482a-bb62-e70228a65eab",
   "metadata": {},
   "source": [
    "## pathlib"
   ]
  },
  {
   "cell_type": "markdown",
   "id": "c2c94c1b-ba5d-45b2-9900-6aa25499c0e3",
   "metadata": {},
   "source": [
    "## json"
   ]
  },
  {
   "cell_type": "markdown",
   "id": "fb36ab79-a51d-45cf-8cf9-8b4ff7d981d2",
   "metadata": {},
   "source": [
    "## base64"
   ]
  },
  {
   "cell_type": "markdown",
   "id": "131330dd-bec9-432a-8967-f55cf919bb1c",
   "metadata": {},
   "source": [
    "## html.parser"
   ]
  },
  {
   "cell_type": "code",
   "execution_count": null,
   "id": "bff3b94e-fe8d-4dd9-a72c-5f70df608a40",
   "metadata": {},
   "outputs": [],
   "source": []
  }
 ],
 "metadata": {
  "kernelspec": {
   "display_name": "",
   "name": ""
  },
  "language_info": {
   "name": ""
  }
 },
 "nbformat": 4,
 "nbformat_minor": 5
}
