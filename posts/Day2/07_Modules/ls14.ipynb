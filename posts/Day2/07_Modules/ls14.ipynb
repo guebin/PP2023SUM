{
 "cells": [
  {
   "cell_type": "raw",
   "id": "bbbfd46e-6656-4d48-b53c-5fb1a876e30a",
   "metadata": {},
   "source": [
    "---\n",
    "title: \"Lesson 14: re, datatime, heapq, bisect\"\n",
    "author: \"최규빈\"\n",
    "date: \"07/25/2023\"\n",
    "---"
   ]
  },
  {
   "cell_type": "markdown",
   "id": "9ad7b546-bf6b-4eb9-85d4-7230bc0986a2",
   "metadata": {},
   "source": [
    "# re "
   ]
  },
  {
   "cell_type": "code",
   "execution_count": 39,
   "id": "305fc87e-a0d8-4c60-a78a-088029c7b828",
   "metadata": {},
   "outputs": [],
   "source": [
    "import re"
   ]
  },
  {
   "cell_type": "code",
   "execution_count": 41,
   "id": "0a6ac2bf-6647-49ff-9a3b-3ceb506596ec",
   "metadata": {},
   "outputs": [
    {
     "data": {
      "text/plain": [
       "'20230723123045'"
      ]
     },
     "execution_count": 41,
     "metadata": {},
     "output_type": "execute_result"
    }
   ],
   "source": [
    "re.sub('[-:/ ]','',\"2023-07/23 12:30:45\")"
   ]
  },
  {
   "cell_type": "markdown",
   "id": "8b03f12a-6223-49a6-ae42-7edb87a08aa3",
   "metadata": {},
   "source": [
    "# datetime "
   ]
  },
  {
   "cell_type": "code",
   "execution_count": 42,
   "id": "23cbf86c-cb42-487c-aee8-8a8b318112b4",
   "metadata": {},
   "outputs": [],
   "source": [
    "import datetime"
   ]
  },
  {
   "cell_type": "markdown",
   "id": "e360970d-1781-4953-95ff-63b7fe882357",
   "metadata": {},
   "source": [
    "`-` 날짜의 선언 "
   ]
  },
  {
   "cell_type": "code",
   "execution_count": 43,
   "id": "ac8cee2b-e07a-4666-b594-80a781d6addf",
   "metadata": {},
   "outputs": [
    {
     "data": {
      "text/plain": [
       "datetime.date(2019, 12, 14)"
      ]
     },
     "execution_count": 43,
     "metadata": {},
     "output_type": "execute_result"
    }
   ],
   "source": [
    "day1 = datetime.date(2019, 12, 14)\n",
    "day1"
   ]
  },
  {
   "cell_type": "code",
   "execution_count": 45,
   "id": "643006a1-a91c-448d-8ea7-396526fe7b69",
   "metadata": {},
   "outputs": [
    {
     "data": {
      "text/plain": [
       "datetime.date(2021, 6, 5)"
      ]
     },
     "execution_count": 45,
     "metadata": {},
     "output_type": "execute_result"
    }
   ],
   "source": [
    "day2 = datetime.date(2021, 6, 5)\n",
    "day2"
   ]
  },
  {
   "cell_type": "markdown",
   "id": "204f1319-2051-4232-988b-16c2e67d50b6",
   "metadata": {},
   "source": [
    "`-` 차이를 알아보자. "
   ]
  },
  {
   "cell_type": "code",
   "execution_count": 46,
   "id": "75c7c4cc-489b-43ef-be78-72c2449e701d",
   "metadata": {},
   "outputs": [
    {
     "data": {
      "text/plain": [
       "datetime.timedelta(days=539)"
      ]
     },
     "execution_count": 46,
     "metadata": {},
     "output_type": "execute_result"
    }
   ],
   "source": [
    "day2-day1"
   ]
  },
  {
   "cell_type": "markdown",
   "id": "1e6ece1e-d96a-4d3f-a091-5cf63d806f17",
   "metadata": {},
   "source": [
    "`-` 요일을 알아보자. "
   ]
  },
  {
   "cell_type": "code",
   "execution_count": 52,
   "id": "28016794-0e70-4d56-96af-c40b7d6881c7",
   "metadata": {},
   "outputs": [
    {
     "data": {
      "text/plain": [
       "5"
      ]
     },
     "execution_count": 52,
     "metadata": {},
     "output_type": "execute_result"
    }
   ],
   "source": [
    "day1.weekday()"
   ]
  },
  {
   "cell_type": "markdown",
   "id": "3501cb92-dedb-481b-995c-021805c4ff4b",
   "metadata": {},
   "source": [
    "`-` 응용 "
   ]
  },
  {
   "cell_type": "code",
   "execution_count": 62,
   "id": "5ddaa0c6-e5bd-4138-bf0b-be4e51771c1c",
   "metadata": {},
   "outputs": [
    {
     "data": {
      "text/plain": [
       "datetime.date(2023, 7, 23)"
      ]
     },
     "execution_count": 62,
     "metadata": {},
     "output_type": "execute_result"
    }
   ],
   "source": [
    "tdy = datetime.date.today()\n",
    "tdy"
   ]
  },
  {
   "cell_type": "code",
   "execution_count": 63,
   "id": "c8fe9af2-bed6-48eb-ac40-0d69b4ac3cd1",
   "metadata": {},
   "outputs": [],
   "source": [
    "diff = datetime.timedelta(days=1)"
   ]
  },
  {
   "cell_type": "code",
   "execution_count": 64,
   "id": "f453edbc-e66d-4868-ba55-026d5778501a",
   "metadata": {},
   "outputs": [
    {
     "data": {
      "text/plain": [
       "datetime.date(2023, 7, 24)"
      ]
     },
     "execution_count": 64,
     "metadata": {},
     "output_type": "execute_result"
    }
   ],
   "source": [
    "tdy + diff "
   ]
  },
  {
   "cell_type": "markdown",
   "id": "d74fa856-d63b-4e8e-b40d-fe4620d3e91a",
   "metadata": {},
   "source": [
    "# heapq"
   ]
  },
  {
   "cell_type": "markdown",
   "id": "a92bef31-d00b-4f9d-bdbe-618ad6a0da87",
   "metadata": {},
   "source": [
    "# bisect"
   ]
  },
  {
   "cell_type": "markdown",
   "id": "c5a58712-32c8-4175-bf00-8b4a88026d5c",
   "metadata": {},
   "source": [
    "# time "
   ]
  }
 ],
 "metadata": {
  "kernelspec": {
   "display_name": "Python 3 (ipykernel)",
   "language": "python",
   "name": "python3"
  },
  "language_info": {
   "codemirror_mode": {
    "name": "ipython",
    "version": 3
   },
   "file_extension": ".py",
   "mimetype": "text/x-python",
   "name": "python",
   "nbconvert_exporter": "python",
   "pygments_lexer": "ipython3",
   "version": "3.10.12"
  }
 },
 "nbformat": 4,
 "nbformat_minor": 5
}
