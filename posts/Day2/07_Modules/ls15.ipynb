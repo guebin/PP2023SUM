{
 "cells": [
  {
   "cell_type": "raw",
   "id": "52d06792-bfb7-42bb-93d4-0c8585984bd3",
   "metadata": {},
   "source": [
    "---\n",
    "title: \"Lesson 15: collect\"\n",
    "author: \"최규빈\"\n",
    "date: \"07/25/2023\"\n",
    "---"
   ]
  },
  {
   "cell_type": "markdown",
   "id": "36626819-87c9-4b56-964a-1965dbca3d27",
   "metadata": {
    "jp-MarkdownHeadingCollapsed": true
   },
   "source": [
    "# collect"
   ]
  }
 ],
 "metadata": {
  "kernelspec": {
   "display_name": "Python 3 (ipykernel)",
   "language": "python",
   "name": "python3"
  },
  "language_info": {
   "codemirror_mode": {
    "name": "ipython",
    "version": 3
   },
   "file_extension": ".py",
   "mimetype": "text/x-python",
   "name": "python",
   "nbconvert_exporter": "python",
   "pygments_lexer": "ipython3",
   "version": "3.10.12"
  }
 },
 "nbformat": 4,
 "nbformat_minor": 5
}
