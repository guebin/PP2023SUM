{
 "cells": [
  {
   "cell_type": "raw",
   "id": "bbbfd46e-6656-4d48-b53c-5fb1a876e30a",
   "metadata": {},
   "source": [
    "---\n",
    "title: \"Lesson 10: 소스코드 관리, 모듈, 라이브러리\"\n",
    "author: \"최규빈\"\n",
    "date: \"01/31/2023\"\n",
    "---"
   ]
  },
  {
   "cell_type": "markdown",
   "id": "91e26dc6-ecba-431e-b397-c6259efa40b2",
   "metadata": {},
   "source": [
    "<a href=\"https://colab.research.google.com/github/guebin/IP2023WIN/blob/main/posts/Day2/05_Modules/2023-01-31-Lesson10.ipynb\"><img src=\"https://colab.research.google.com/assets/colab-badge.svg\" style=\"text-align: left\"></a>"
   ]
  },
  {
   "cell_type": "markdown",
   "id": "f42c779f-beb5-44d3-8e9e-15f22d79ab08",
   "metadata": {},
   "source": [
    "생략함. 아래의 강의를 참고하세요. "
   ]
  },
  {
   "cell_type": "markdown",
   "id": "02b91aa5-94a8-4cba-a9f5-ed2673c9d263",
   "metadata": {},
   "source": [
    "[파이썬입문: (4주차) 3월23일](https://guebin.github.io/IP2022/2022/03/28/(4%EC%A3%BC%EC%B0%A8)-3%EC%9B%9428%EC%9D%BC.html)"
   ]
  },
  {
   "cell_type": "markdown",
   "id": "ffa8f03c-d581-4ae8-b9d9-6ca70b4aed81",
   "metadata": {},
   "source": [
    "[파이썬입문: (5주차) 4월4일](https://guebin.github.io/IP2022/2022/04/03/(5%EC%A3%BC%EC%B0%A8)-4%EC%9B%942%EC%9D%BC.html)"
   ]
  }
 ],
 "metadata": {
  "kernelspec": {
   "display_name": "Python 3",
   "language": "python",
   "name": "python3"
  },
  "language_info": {
   "codemirror_mode": {
    "name": "ipython",
    "version": 3
   },
   "file_extension": ".py",
   "mimetype": "text/x-python",
   "name": "python",
   "nbconvert_exporter": "python",
   "pygments_lexer": "ipython3",
   "version": "3.7.15"
  }
 },
 "nbformat": 4,
 "nbformat_minor": 5
}
