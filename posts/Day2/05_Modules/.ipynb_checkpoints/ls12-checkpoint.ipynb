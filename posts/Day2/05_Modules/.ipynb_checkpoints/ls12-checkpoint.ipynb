{
 "cells": [
  {
   "cell_type": "raw",
   "id": "1e7f5b8f-29ce-47d9-96c6-39f8ca47e1d6",
   "metadata": {},
   "source": [
    "---\n",
    "title: \"Lesson 12: 반복관련 표준모듈 -- itertools\"\n",
    "author: \"최규빈\"\n",
    "date: \"07/25/2023\"\n",
    "---"
   ]
  },
  {
   "cell_type": "markdown",
   "id": "4026e073-d219-44ae-bb14-47201f5ef4f3",
   "metadata": {},
   "source": [
    "<a href=\"https://colab.research.google.com/github/guebin/IP2023WIN/blob/main/posts/Day3/07_DataWrangling/2023-02-01-Lesson14.ipynb\"><img src=\"https://colab.research.google.com/assets/colab-badge.svg\" style=\"text-align: left\"></a>"
   ]
  }
 ],
 "metadata": {
  "kernelspec": {
   "display_name": "Python 3 (ipykernel)",
   "language": "python",
   "name": "python3"
  },
  "language_info": {
   "codemirror_mode": {
    "name": "ipython",
    "version": 3
   },
   "file_extension": ".py",
   "mimetype": "text/x-python",
   "name": "python",
   "nbconvert_exporter": "python",
   "pygments_lexer": "ipython3",
   "version": "3.10.12"
  }
 },
 "nbformat": 4,
 "nbformat_minor": 5
}
