{
 "cells": [
  {
   "cell_type": "raw",
   "id": "746a8b3d-fdcd-4416-8d1d-bac86098c1b1",
   "metadata": {},
   "source": [
    "---\n",
    "title: \"Lesson 10: 데이터 입출력 및 파일관리\"\n",
    "author: \"최규빈\"\n",
    "date: \"07/25/2023\"\n",
    "---"
   ]
  },
  {
   "cell_type": "markdown",
   "id": "b2d560c7-0da8-4ff2-b252-65b2a7bbf709",
   "metadata": {},
   "source": [
    "<a href=\"https://colab.research.google.com/github/guebin/PP2023SUM/blob/main/posts/Day2/04_DataIO/2023-07-24-Lesson11.ipynb\"><img src=\"https://colab.research.google.com/assets/colab-badge.svg\" style=\"text-align: left\"></a>"
   ]
  },
  {
   "cell_type": "markdown",
   "id": "335af2b4-8a3f-45fd-8c53-0bd121a0f7d4",
   "metadata": {},
   "source": [
    "# imports "
   ]
  },
  {
   "cell_type": "code",
   "execution_count": 1,
   "id": "3a87c3c8-e1d4-4429-9410-86ee794b65ef",
   "metadata": {},
   "outputs": [],
   "source": [
    "import numpy as np\n",
    "import pandas as pd\n",
    "import os "
   ]
  },
  {
   "cell_type": "markdown",
   "id": "3b7b1316-f5d2-47c5-b8f6-ee88f46a03a7",
   "metadata": {},
   "source": [
    "# txt 파일 생성 "
   ]
  },
  {
   "cell_type": "markdown",
   "id": "5467e1f1-43ea-418a-b030-3769d65e8ad9",
   "metadata": {},
   "source": [
    "`-` 예제1: 메모장을 키고 'test.txt'파일을 만들자. 파일에 'asdf'를 추가해보자. "
   ]
  },
  {
   "cell_type": "code",
   "execution_count": 32,
   "id": "9b582671-a8d9-4c3e-8d50-4f87c8788dfb",
   "metadata": {},
   "outputs": [],
   "source": [
    "file = open('test.txt','w') ## 새로울 파일을 만들고 파일이름을 test.txt 로 만들어줌"
   ]
  },
  {
   "cell_type": "code",
   "execution_count": 22,
   "id": "61cea3c3-5931-4230-9806-1cdaff261a8a",
   "metadata": {},
   "outputs": [],
   "source": [
    "!cat test.txt # 메모장의 내용엔 아무것도 없음"
   ]
  },
  {
   "cell_type": "code",
   "execution_count": 33,
   "id": "42da2c1d-b7e5-4495-ade6-c76062ea6b50",
   "metadata": {},
   "outputs": [
    {
     "data": {
      "text/plain": [
       "<_io.TextIOWrapper name='test.txt' mode='w' encoding='UTF-8'>"
      ]
     },
     "execution_count": 33,
     "metadata": {},
     "output_type": "execute_result"
    }
   ],
   "source": [
    "file.__enter__() # 메모장을 켰음 "
   ]
  },
  {
   "cell_type": "code",
   "execution_count": 34,
   "id": "dc2908df-673d-4e11-a0af-4753198c68dd",
   "metadata": {},
   "outputs": [
    {
     "data": {
      "text/plain": [
       "4"
      ]
     },
     "execution_count": 34,
     "metadata": {},
     "output_type": "execute_result"
    }
   ],
   "source": [
    "file.write('asdf') # 메모장에 asdf 라고 적음"
   ]
  },
  {
   "cell_type": "code",
   "execution_count": 35,
   "id": "e9924c42-1db3-4694-9035-e8622b4e39c3",
   "metadata": {},
   "outputs": [],
   "source": [
    "file.__exit__() # 메모장을 끔 "
   ]
  },
  {
   "cell_type": "code",
   "execution_count": 36,
   "id": "d336ec5c-8935-4ae7-b26c-8c96866e57b1",
   "metadata": {},
   "outputs": [
    {
     "name": "stdout",
     "output_type": "stream",
     "text": [
      "asdf"
     ]
    }
   ],
   "source": [
    "!cat test.txt"
   ]
  },
  {
   "cell_type": "markdown",
   "id": "22d01691-2ab4-4e99-8442-5b70380ad446",
   "metadata": {},
   "source": [
    "`-` 예제2: with 문을 이용하여 예제1과 동일한 효과를 주는 코드를 작성하라. "
   ]
  },
  {
   "cell_type": "code",
   "execution_count": 38,
   "id": "c9b1347d-b0fd-494d-8dc2-f42d673260a1",
   "metadata": {},
   "outputs": [],
   "source": [
    "# 텍스트 파일 생성 및 내용 쓰기\n",
    "with open('test.txt', 'w') as file:\n",
    "    file.write('aaaa')"
   ]
  },
  {
   "cell_type": "markdown",
   "id": "414074b8-5e59-424b-a657-bcdaa6c10421",
   "metadata": {},
   "source": [
    "# txt 파일에서 라인 읽어오기 "
   ]
  },
  {
   "cell_type": "markdown",
   "id": "c7e8a4a8-5ba2-4d4b-86fb-30017a5b5782",
   "metadata": {},
   "source": [
    "`-` 예제1: 'test.txt'에서 문자를 읽어오기"
   ]
  },
  {
   "cell_type": "code",
   "execution_count": 40,
   "id": "4b355bc9-a1d7-4831-9a6d-ebbce0527d6f",
   "metadata": {},
   "outputs": [],
   "source": [
    "with open('test.txt', 'r') as file: \n",
    "    lines = file.readlines()"
   ]
  },
  {
   "cell_type": "code",
   "execution_count": 41,
   "id": "34c6da9c-61fa-4df7-b21d-f402c5590456",
   "metadata": {},
   "outputs": [
    {
     "data": {
      "text/plain": [
       "['aaaa']"
      ]
     },
     "execution_count": 41,
     "metadata": {},
     "output_type": "execute_result"
    }
   ],
   "source": [
    "lines"
   ]
  },
  {
   "cell_type": "markdown",
   "id": "31b72927-fca6-4a3d-87e6-9e972390e8d6",
   "metadata": {},
   "source": [
    "# 파일삭제 "
   ]
  },
  {
   "cell_type": "code",
   "execution_count": 43,
   "id": "9dfe856c-cbc8-4506-bc2f-c61521ea07ba",
   "metadata": {},
   "outputs": [],
   "source": [
    "os.remove('test.txt')"
   ]
  },
  {
   "cell_type": "markdown",
   "id": "bc4bdd4a-1b19-4194-9cc4-da375e735434",
   "metadata": {},
   "source": [
    "# 파일 다운로드"
   ]
  },
  {
   "cell_type": "code",
   "execution_count": null,
   "id": "4ee18399-15ae-4067-87d7-2ff8380441bd",
   "metadata": {},
   "outputs": [],
   "source": []
  }
 ],
 "metadata": {
  "kernelspec": {
   "display_name": "Python 3 (ipykernel)",
   "language": "python",
   "name": "python3"
  },
  "language_info": {
   "codemirror_mode": {
    "name": "ipython",
    "version": 3
   },
   "file_extension": ".py",
   "mimetype": "text/x-python",
   "name": "python",
   "nbconvert_exporter": "python",
   "pygments_lexer": "ipython3",
   "version": "3.10.12"
  }
 },
 "nbformat": 4,
 "nbformat_minor": 5
}
