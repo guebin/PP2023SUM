{
 "cells": [
  {
   "cell_type": "raw",
   "id": "fd97e4ab-6d0b-4f3e-897a-f8e9b9e28f50",
   "metadata": {},
   "source": [
    "---\n",
    "title: \"Lesson 12: 소스코드 관리, 모듈, 라이브러리\"\n",
    "author: \"최규빈\"\n",
    "date: \"07/25/2023\"\n",
    "---"
   ]
  },
  {
   "cell_type": "markdown",
   "id": "8f12842c-51e4-4314-9b4e-bd1ef9208b83",
   "metadata": {},
   "source": [
    "<a href=\"https://colab.research.google.com/github/guebin/PP2023SUM/blob/main/posts/Day2/05_Modules/ls12.ipynb\"><img src=\"https://colab.research.google.com/assets/colab-badge.svg\" style=\"text-align: left\"></a>"
   ]
  },
  {
   "cell_type": "markdown",
   "id": "98133add-7c9f-4aee-a4ff-79bf05ebb72b",
   "metadata": {},
   "source": [
    "`-` 생략함. 아래의 강의를 참고 \n",
    "\n",
    "- \"[파이썬입문: (4주차) 3월23일](https://guebin.github.io/IP2022/2022/03/28/(4%EC%A3%BC%EC%B0%A8)-3%EC%9B%9428%EC%9D%BC.html)\"\n",
    "- \"[파이썬입문: (5주차) 4월4일](https://guebin.github.io/IP2022/2022/04/03/(5%EC%A3%BC%EC%B0%A8)-4%EC%9B%942%EC%9D%BC.html)\""
   ]
  }
 ],
 "metadata": {
  "kernelspec": {
   "display_name": "Python 3 (ipykernel)",
   "language": "python",
   "name": "python3"
  },
  "language_info": {
   "codemirror_mode": {
    "name": "ipython",
    "version": 3
   },
   "file_extension": ".py",
   "mimetype": "text/x-python",
   "name": "python",
   "nbconvert_exporter": "python",
   "pygments_lexer": "ipython3",
   "version": "3.10.12"
  }
 },
 "nbformat": 4,
 "nbformat_minor": 5
}
