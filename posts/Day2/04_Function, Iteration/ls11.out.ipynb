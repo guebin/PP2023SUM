{
  "cells": [
    {
      "cell_type": "markdown",
      "metadata": {},
      "source": [
        "# Lesson 11: groupby\n",
        "\n",
        "최규빈  \n",
        "2023-07-25\n",
        "\n",
        "<a href=\"https://colab.research.google.com/github/guebin/PP2023SUM/blob/main/posts/Day2/04_Function, Iteration/ls11.ipynb\"><img src=\"https://colab.research.google.com/assets/colab-badge.svg\" style=\"text-align: left\"></a>"
      ],
      "id": "f207529a-4155-4061-b01d-345bbe5cbadd"
    },
    {
      "cell_type": "code",
      "execution_count": 24,
      "metadata": {},
      "outputs": [],
      "source": [
        "import numpy as np\n",
        "import pandas as pd"
      ],
      "id": "38fb6f53-1e47-444b-8d0c-22e4e91e8cc3"
    },
    {
      "cell_type": "markdown",
      "metadata": {},
      "source": [
        "# df.groupby\n",
        "\n",
        "`-` 예제1: 아래의 예제에서 그룹별 평균을 구하여라."
      ],
      "id": "1493202f-3a42-4b68-8b73-31fe33b57d75"
    },
    {
      "cell_type": "code",
      "execution_count": 26,
      "metadata": {},
      "outputs": [],
      "source": [
        "_category = ['A']*5+['B']*5\n",
        "_value = np.concatenate([np.random.randn(5), np.random.randn(5)+10])\n",
        "df = pd.DataFrame({'category':_category, 'value':_value})\n",
        "df"
      ],
      "id": "24d9842d-daf0-41db-a660-012f12276e68"
    },
    {
      "cell_type": "markdown",
      "metadata": {},
      "source": [
        "`-` 방법1: groupby를 이용하지 않는 방법들"
      ],
      "id": "670dedb0-897d-4cf8-b4ff-9c9ce714b90a"
    },
    {
      "cell_type": "code",
      "execution_count": 45,
      "metadata": {},
      "outputs": [],
      "source": [
        "# 이렇게 해도 되고 \n",
        "df[df.category == 'A'].value.mean(), df[df.category == 'B'].value.mean()"
      ],
      "id": "75e94ada-751d-44f8-94ad-98fa985b4ace"
    },
    {
      "cell_type": "code",
      "execution_count": 44,
      "metadata": {},
      "outputs": [],
      "source": [
        "# 이것도 가능\n",
        "{s:df[df.category == s].value.mean() for s in set(df.category)}"
      ],
      "id": "55765c4c-7e4f-4854-9663-64a9587b9d9e"
    },
    {
      "cell_type": "markdown",
      "metadata": {},
      "source": [
        "`-` 방법2: groupby만 사용"
      ],
      "id": "c677e874-7fe7-48db-8c07-d814e7d79831"
    },
    {
      "cell_type": "code",
      "execution_count": 49,
      "metadata": {},
      "outputs": [],
      "source": [
        "grouped_list = list(df.groupby('category'))\n",
        "grouped_list"
      ],
      "id": "ce3607e0-d567-46c2-9305-c6a7d41ad465"
    },
    {
      "cell_type": "code",
      "execution_count": 55,
      "metadata": {},
      "outputs": [],
      "source": [
        "bundle1, bundle2 = grouped_list"
      ],
      "id": "b2bc80b3-7d5a-4d76-8062-7819291c1109"
    },
    {
      "cell_type": "code",
      "execution_count": 60,
      "metadata": {},
      "outputs": [],
      "source": [
        "group_name1, sub_df1 = bundle1"
      ],
      "id": "5a632ba7-9229-4bb1-8591-7c55e3e4a98f"
    },
    {
      "cell_type": "code",
      "execution_count": 64,
      "metadata": {},
      "outputs": [],
      "source": [
        "display(sub_df1)"
      ],
      "id": "51b7dbff-fa54-4c13-a34f-77716b434fba"
    },
    {
      "cell_type": "code",
      "execution_count": 73,
      "metadata": {},
      "outputs": [
        {
          "output_type": "stream",
          "name": "stdout",
          "text": [
            "A\n",
            "B"
          ]
        }
      ],
      "source": [
        "for group_name, sub_df in df.groupby('category'):\n",
        "    print(group_name)\n",
        "    display(sub_df)"
      ],
      "id": "8d6e1c23-ce2b-4e46-b645-18e1c2e9cc2d"
    },
    {
      "cell_type": "code",
      "execution_count": 77,
      "metadata": {},
      "outputs": [],
      "source": [
        "{group_name:sub_df.value.mean() for group_name, sub_df in df.groupby('category')}"
      ],
      "id": "22be16d3-3251-4b49-91c9-e21dda0a5fc1"
    },
    {
      "cell_type": "markdown",
      "metadata": {},
      "source": [
        "`-` 방법3: groupby().aggregate()"
      ],
      "id": "f70e648f-05cc-4333-9e25-f76b08fe8cf9"
    },
    {
      "cell_type": "code",
      "execution_count": 85,
      "metadata": {},
      "outputs": [],
      "source": [
        "grouped = df.groupby('category')\n",
        "grouped.aggregate(np.mean)"
      ],
      "id": "e0e23e46-fc72-49fd-ab8f-199128eb75a2"
    },
    {
      "cell_type": "code",
      "execution_count": 88,
      "metadata": {},
      "outputs": [],
      "source": [
        "df.groupby(['category']).aggregate(np.mean)"
      ],
      "id": "ce591e43-eb30-4b9f-b569-d69bcb89dbbb"
    },
    {
      "cell_type": "markdown",
      "metadata": {},
      "source": [
        "***groupby(?)에서 올 수 있는 구조***\n",
        "\n",
        "-   열의이름\n",
        "-   \\[열의이름,열의이름\\]\n",
        "\n",
        "***aggregate(?)에서 올 수 있는 구조***\n",
        "\n",
        "-   함수: 함수자체[1]가 오거나, 함수를 의미하는 문자열[2] 이 올 수 있음.\n",
        "-   리스트: \\[함수, 함수\\] \\# 여기에서 함수자리에는 함수자체, 혹은\n",
        "    함수문자열 아무것이나 올 수 있음.\n",
        "-   딕셔너리1: {열의이름:함수}\n",
        "-   딕셔너리2: {열의이름:\\[함수,함수\\]}\n",
        "\n",
        "[1] np.mean,sum\n",
        "\n",
        "[2] ‘size’, ‘count’, ‘sum’, ‘mean’, ‘median’, ‘min’, ‘max’, ‘std’, ‘var’"
      ],
      "id": "26d8b069-0e10-4953-8661-30573e8e6ca8"
    },
    {
      "cell_type": "code",
      "execution_count": 122,
      "metadata": {},
      "outputs": [],
      "source": [
        "df.groupby(['category']).aggregate({'value':[np.mean,'size']})"
      ],
      "id": "9ff010f9-0122-4416-97c9-d27a0bb8d322"
    },
    {
      "cell_type": "markdown",
      "metadata": {},
      "source": [
        "# pd.cut + df.groupby\n",
        "\n",
        "`-` 구간별 count"
      ],
      "id": "df3980d8-b80b-4c8e-bb60-826023e3f46c"
    },
    {
      "cell_type": "code",
      "execution_count": 123,
      "metadata": {},
      "outputs": [],
      "source": [
        "arr = np.random.rand(1000)"
      ],
      "id": "e8dc8d6a-ea82-4fe8-8405-10b492002148"
    },
    {
      "cell_type": "code",
      "execution_count": 126,
      "metadata": {},
      "outputs": [],
      "source": [
        "_bin = [0, 0.2, 0.5, 0.9, 1]\n",
        "_bin"
      ],
      "id": "9586603e-b18a-4cea-ae1e-1c0d062d39ef"
    },
    {
      "cell_type": "markdown",
      "metadata": {},
      "source": [
        "`-` \\[0,0.2,0.5,0.9,1\\] 구간에 몇개의 숫자들이 있는지 알고 싶고, 구간별\n",
        "평균도 알고싶다."
      ],
      "id": "914d828f-5fbf-4dea-b8b1-c03bfdde1e75"
    },
    {
      "cell_type": "code",
      "execution_count": 140,
      "metadata": {},
      "outputs": [],
      "source": [
        "pd.DataFrame({'cat':pd.cut(arr,_bin), 'arr':arr}).groupby('cat').aggregate({'arr':['size',np.mean]})"
      ],
      "id": "cc59f1de-9698-4165-9d3d-010a9c3d8ea8"
    },
    {
      "cell_type": "markdown",
      "metadata": {},
      "source": [
        "# flights data"
      ],
      "id": "e870d4ad-13d7-4ad8-8037-73837662eccd"
    },
    {
      "cell_type": "code",
      "execution_count": 6,
      "metadata": {
        "vscode": {
          "languageId": "python"
        }
      },
      "outputs": [
        {
          "output_type": "stream",
          "name": "stdout",
          "text": [
            "<class 'pandas.core.frame.DataFrame'>\n",
            "RangeIndex: 58492 entries, 0 to 58491\n",
            "Data columns (total 14 columns):\n",
            " #   Column     Non-Null Count  Dtype  \n",
            "---  ------     --------------  -----  \n",
            " 0   MONTH      58492 non-null  int64  \n",
            " 1   DAY        58492 non-null  int64  \n",
            " 2   WEEKDAY    58492 non-null  int64  \n",
            " 3   AIRLINE    58492 non-null  object \n",
            " 4   ORG_AIR    58492 non-null  object \n",
            " 5   DEST_AIR   58492 non-null  object \n",
            " 6   SCHED_DEP  58492 non-null  int64  \n",
            " 7   DEP_DELAY  57659 non-null  float64\n",
            " 8   AIR_TIME   57474 non-null  float64\n",
            " 9   DIST       58492 non-null  int64  \n",
            " 10  SCHED_ARR  58492 non-null  int64  \n",
            " 11  ARR_DELAY  57474 non-null  float64\n",
            " 12  DIVERTED   58492 non-null  int64  \n",
            " 13  CANCELLED  58492 non-null  int64  \n",
            "dtypes: float64(3), int64(8), object(3)\n",
            "memory usage: 6.2+ MB"
          ]
        }
      ],
      "source": [
        "df=pd.read_csv('https://raw.githubusercontent.com/PacktPublishing/Pandas-Cookbook/master/data/flights.csv')\n",
        "df.info()"
      ],
      "id": "c7c1864a-b6ee-4256-9c7c-876e43334c9c"
    },
    {
      "cell_type": "markdown",
      "metadata": {},
      "source": [
        "`-` 예제1: 항공사(AIRLINE)별로 도착지연시간의(ARR_DELAY)의 평균을\n",
        "구하라.\n",
        "\n",
        "`-` 예제2: 항공사(AIRLINE)별로 비행취소건수(CANCELLED)의 합계를 구하라.\n",
        "취소건수가 가장 높은 두개의 항공사는 어디인가?\n",
        "\n",
        "`-` 예제3: 항공사(AIRLINE)별로 비행취소율(CANCELLED)을 구하라.\n",
        "비행취소율이 가장 높은 두개의 항공사는 어디인가?\n",
        "\n",
        "`-` 예제4: 비행취소율이 가장 높은 두개의 항공사(AIRLINE)를 선택하라. 그\n",
        "두 항공사에 대하여 요일별(WEEKDAY) 비행취소율(CANCELLED)을 조사하라.\n",
        "\n",
        "`-` 예제5: 아래는 운행거리의 요약통계량이다."
      ],
      "id": "83b36c70-6e18-4619-8bb8-7c9d2ec2871e"
    },
    {
      "cell_type": "code",
      "execution_count": 7,
      "metadata": {
        "vscode": {
          "languageId": "python"
        }
      },
      "outputs": [],
      "source": [
        "df.DIST.describe()"
      ],
      "id": "fbee8cc5-6bfc-4155-a000-88c22ab91830"
    },
    {
      "cell_type": "markdown",
      "metadata": {},
      "source": [
        "운행거리를 구간별로 `[-np.inf,391,690,1199,np.inf]`와 같이 나눈뒤\n",
        "비행취소건수와 취소율을 구하여라.\n",
        "\n",
        "# Quiz: HRDataset_v14 자료분석\n",
        "\n",
        "아래의 코드를 활용하여 Kaggle의\n",
        "[HRdataset](https://www.kaggle.com/datasets/rhuebner/human-resources-data-set)을\n",
        "불러오라."
      ],
      "id": "f46027c3-0b8b-4883-af3e-1e74e84f36a5"
    },
    {
      "cell_type": "code",
      "execution_count": 8,
      "metadata": {
        "vscode": {
          "languageId": "python"
        }
      },
      "outputs": [],
      "source": [
        "df = pd.read_csv('https://raw.githubusercontent.com/guebin/DV2022/master/posts/HRDataset_v14.csv')\n",
        "df"
      ],
      "id": "9c904ab1-95d4-4fae-ac52-464de2f638a5"
    },
    {
      "cell_type": "markdown",
      "metadata": {},
      "source": [
        "다음을 읽고 참 거짓을 판단하여라.\n",
        "\n",
        "`1`. 근무인원수가 가장 많은 인종(RaceDesc)은 ’White’이며 이는\n",
        "’Asian’인종과 ’Black or African American’의 합보다 많다.\n",
        "\n",
        "`2`. ’RaceDesc==White’의 성별(Sex)임금차이는 2000이상이다.\n",
        "\n",
        "`3`. 퇴직한사람(Termd==1)은 모두 104명이며 백인여성의 퇴직자수가 가장\n",
        "많다.\n",
        "\n",
        "`4`. 퇴직한사람중 아시아인의 비율은 10%가 넘지 않는다.\n",
        "\n",
        "아래를 조사하라.\n",
        "\n",
        "`5`. \\[성별(Sex), 결혼유무(MarriedID)\\] 별 연봉(Salary)의 평균을\n",
        "조사하라. 어떠한 그룹이 가장 평균연봉이 적은가?\n",
        "\n",
        "`6`. \\[성별(Sex), 인종별(RaceDesc)\\] 별 연봉(Salary)의\n",
        "중앙값(‘median’)을 조사하라. 연봉의 중앙값이 가장 높은 그룹은 무엇인가?\n",
        "\n",
        "`7`. \\[성별(Sex), 인종별(RaceDesc)\\] 별 연봉(Salary)의\n",
        "중앙값(‘median’)과 근무인원수를 함께 조사하라. 연봉의 중앙값이 가장 높은\n",
        "그룹이 혜택을 받는 그룹이라고 느껴지는가?"
      ],
      "id": "389cfde0-a0c6-4814-a8ab-fcdd049f5154"
    }
  ],
  "nbformat": 4,
  "nbformat_minor": 5,
  "metadata": {
    "kernelspec": {
      "name": "python3",
      "display_name": "Python 3 (ipykernel)",
      "language": "python"
    },
    "language_info": {
      "name": "python",
      "codemirror_mode": {
        "name": "ipython",
        "version": "3"
      },
      "file_extension": ".py",
      "mimetype": "text/x-python",
      "nbconvert_exporter": "python",
      "pygments_lexer": "ipython3",
      "version": "3.10.12"
    }
  }
}