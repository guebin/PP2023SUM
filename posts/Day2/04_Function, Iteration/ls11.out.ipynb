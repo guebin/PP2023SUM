{
  "cells": [
    {
      "cell_type": "markdown",
      "metadata": {},
      "source": [
        "# Lesson 11: groupby\n",
        "\n",
        "최규빈  \n",
        "2023-07-25\n",
        "\n",
        "# 판다스: groupby\n",
        "\n",
        "## flights data"
      ],
      "id": "9210d891-7bdf-4a98-9605-2967fafe7fa5"
    },
    {
      "cell_type": "code",
      "execution_count": 2,
      "metadata": {
        "vscode": {
          "languageId": "python"
        }
      },
      "outputs": [
        {
          "output_type": "stream",
          "name": "stdout",
          "text": [
            "<class 'pandas.core.frame.DataFrame'>\n",
            "RangeIndex: 58492 entries, 0 to 58491\n",
            "Data columns (total 14 columns):\n",
            " #   Column     Non-Null Count  Dtype  \n",
            "---  ------     --------------  -----  \n",
            " 0   MONTH      58492 non-null  int64  \n",
            " 1   DAY        58492 non-null  int64  \n",
            " 2   WEEKDAY    58492 non-null  int64  \n",
            " 3   AIRLINE    58492 non-null  object \n",
            " 4   ORG_AIR    58492 non-null  object \n",
            " 5   DEST_AIR   58492 non-null  object \n",
            " 6   SCHED_DEP  58492 non-null  int64  \n",
            " 7   DEP_DELAY  57659 non-null  float64\n",
            " 8   AIR_TIME   57474 non-null  float64\n",
            " 9   DIST       58492 non-null  int64  \n",
            " 10  SCHED_ARR  58492 non-null  int64  \n",
            " 11  ARR_DELAY  57474 non-null  float64\n",
            " 12  DIVERTED   58492 non-null  int64  \n",
            " 13  CANCELLED  58492 non-null  int64  \n",
            "dtypes: float64(3), int64(8), object(3)\n",
            "memory usage: 6.2+ MB"
          ]
        }
      ],
      "source": [
        "df=pd.read_csv('https://raw.githubusercontent.com/PacktPublishing/Pandas-Cookbook/master/data/flights.csv')\n",
        "df.info()"
      ],
      "id": "c7c1864a-b6ee-4256-9c7c-876e43334c9c"
    },
    {
      "cell_type": "markdown",
      "metadata": {},
      "source": [
        "## get_groups\n",
        "\n",
        "`-` groupby - 데이터프레임을 여러개의 서브데이터프레임으로 나누는 기술 -\n",
        "단독으로 쓸 이유는 별로 없다. $\\to$ 그룹을 나누고 each 그룹마다 어떠한\n",
        "“변수”에 “연산”을 하기 위함."
      ],
      "id": "ec0fb585-6083-4c2d-a562-a0afd3d6213c"
    },
    {
      "cell_type": "code",
      "execution_count": 20,
      "metadata": {
        "vscode": {
          "languageId": "python"
        }
      },
      "outputs": [],
      "source": [
        "df.groupby(by=\"AIRLINE\")"
      ],
      "id": "3f2da0e3-262a-4ed3-b80c-27a24b953731"
    },
    {
      "cell_type": "markdown",
      "metadata": {},
      "source": [
        "-   지금 이것이 항공사별로 데이터프레임이 나누어진 상태임\n",
        "\n",
        "`-` 진짜 sub dataframe 으로 나누어져 있는지 확인"
      ],
      "id": "0a46bb0e-eb07-4915-8fd5-d278df8fa785"
    },
    {
      "cell_type": "code",
      "execution_count": 21,
      "metadata": {
        "vscode": {
          "languageId": "python"
        }
      },
      "outputs": [],
      "source": [
        "grouped = df.groupby(by=\"AIRLINE\")\n",
        "grouped.groups.keys()"
      ],
      "id": "c2c07abb-0ef7-4f7e-a1ac-baee13aed917"
    },
    {
      "cell_type": "code",
      "execution_count": 54,
      "metadata": {
        "vscode": {
          "languageId": "python"
        }
      },
      "outputs": [],
      "source": [
        "display(grouped.get_group('AS'))"
      ],
      "id": "560d0406-3d4b-4d5c-84a1-d4acb86dcae1"
    },
    {
      "cell_type": "code",
      "execution_count": 24,
      "metadata": {
        "vscode": {
          "languageId": "python"
        }
      },
      "outputs": [],
      "source": [
        "grouped.groups.keys()"
      ],
      "id": "9922b61f-b915-493e-b707-6730fe1f9de0"
    },
    {
      "cell_type": "code",
      "execution_count": 26,
      "metadata": {
        "vscode": {
          "languageId": "python"
        }
      },
      "outputs": [],
      "source": [
        "#collapse_output\n",
        "for key in grouped.groups.keys():\n",
        "    display(grouped.get_group(key))"
      ],
      "id": "f1f943ae-2dc8-47e4-9e0c-e0de6fd010e9"
    },
    {
      "cell_type": "markdown",
      "metadata": {},
      "source": [
        "## 범주형변수를 기준으로 groupby -\\> agg"
      ],
      "id": "24cfbf79-3719-4df5-a008-33e669601502"
    },
    {
      "cell_type": "code",
      "execution_count": 33,
      "metadata": {
        "vscode": {
          "languageId": "python"
        }
      },
      "outputs": [],
      "source": [
        "df.columns"
      ],
      "id": "b044a4a9-c89a-4f23-bade-d12e1e5a7f35"
    },
    {
      "cell_type": "code",
      "execution_count": 37,
      "metadata": {
        "vscode": {
          "languageId": "python"
        }
      },
      "outputs": [],
      "source": [
        "grouped.get_group('AA').ARR_DELAY.mean(),grouped.get_group('WN').ARR_DELAY.mean()"
      ],
      "id": "cc7aeabd-ead2-4934-88e9-325a7467f448"
    },
    {
      "cell_type": "markdown",
      "metadata": {},
      "source": [
        "### `#` EX1: \\[AIRLINE\\] $\\to$ {ARR_DELAY:mean}\n",
        "\n",
        "`-` 방법1: grouby() $\\to$ .agg({colname: function})\n",
        "\n",
        "(예시1)"
      ],
      "id": "dca1ea6f-05ef-46a0-b35e-3065cb2d09ff"
    },
    {
      "cell_type": "code",
      "execution_count": 43,
      "metadata": {
        "vscode": {
          "languageId": "python"
        }
      },
      "outputs": [],
      "source": [
        "df.groupby(by=\"AIRLINE\").agg({'ARR_DELAY':np.mean})"
      ],
      "id": "8a79e9e1-f982-48b2-9515-21ad219e2be5"
    },
    {
      "cell_type": "markdown",
      "metadata": {},
      "source": [
        "(예시2)"
      ],
      "id": "0ac45507-9f6a-470a-983b-257633135ea2"
    },
    {
      "cell_type": "code",
      "execution_count": 57,
      "metadata": {
        "vscode": {
          "languageId": "python"
        }
      },
      "outputs": [],
      "source": [
        "df.groupby(by=\"AIRLINE\").agg({'ARR_DELAY':'mean'})"
      ],
      "id": "638dce22-50b1-4bde-9a66-ec9645f93fa1"
    },
    {
      "cell_type": "markdown",
      "metadata": {},
      "source": [
        "`-` 방법2: grouby() $\\to$ key로 column선택 $\\to$ .agg(f) or .f()\n",
        "\n",
        "(예시1)"
      ],
      "id": "d5bf11d5-cf66-4c4a-80f3-b588a79834cd"
    },
    {
      "cell_type": "code",
      "execution_count": 49,
      "metadata": {
        "vscode": {
          "languageId": "python"
        }
      },
      "outputs": [],
      "source": [
        "df.groupby(by='AIRLINE')['ARR_DELAY'].agg(np.mean)"
      ],
      "id": "f7effa0c-cca5-434d-9183-6ebaaecbff74"
    },
    {
      "cell_type": "markdown",
      "metadata": {},
      "source": [
        "(예시2)"
      ],
      "id": "f32c1da7-6340-419a-b956-c6c0e8722e3a"
    },
    {
      "cell_type": "code",
      "execution_count": 59,
      "metadata": {
        "vscode": {
          "languageId": "python"
        }
      },
      "outputs": [],
      "source": [
        "df.groupby(by='AIRLINE')['ARR_DELAY'].agg(\"mean\")"
      ],
      "id": "6a3c7668-7d29-4d75-8880-d4197c015ee8"
    },
    {
      "cell_type": "markdown",
      "metadata": {},
      "source": [
        "(예시3)"
      ],
      "id": "569e5e0a-8792-44ea-9c9d-d989af6fb2a0"
    },
    {
      "cell_type": "code",
      "execution_count": 60,
      "metadata": {
        "vscode": {
          "languageId": "python"
        }
      },
      "outputs": [],
      "source": [
        "df.groupby(by='AIRLINE')['ARR_DELAY'].mean()"
      ],
      "id": "a125e730-63ea-4b6a-8589-ef48800619eb"
    },
    {
      "cell_type": "markdown",
      "metadata": {},
      "source": [
        "### `#` EX2: \\[AIRLINE,WEEKDAY\\] $\\to$ {CANCELLED:sum}\n",
        "\n",
        "`-` 방법1\n",
        "\n",
        "(예시1)"
      ],
      "id": "78e13664-d5c1-43b8-8ebd-26ffa0b34113"
    },
    {
      "cell_type": "code",
      "execution_count": 61,
      "metadata": {
        "vscode": {
          "languageId": "python"
        }
      },
      "outputs": [],
      "source": [
        "df.groupby(by=[\"AIRLINE\",\"WEEKDAY\"]).agg({\"CANCELLED\":np.sum})"
      ],
      "id": "dea3c5b4-8284-4039-9a4b-c2d467a70b2f"
    },
    {
      "cell_type": "markdown",
      "metadata": {},
      "source": [
        "(예시2)"
      ],
      "id": "464c773c-101a-4295-81b0-25d5743a5593"
    },
    {
      "cell_type": "code",
      "execution_count": 62,
      "metadata": {
        "vscode": {
          "languageId": "python"
        }
      },
      "outputs": [],
      "source": [
        "df.groupby(by=[\"AIRLINE\",\"WEEKDAY\"]).agg({\"CANCELLED\":\"sum\"})"
      ],
      "id": "f7f48707-a69f-49bd-a0c0-7846a98b8833"
    },
    {
      "cell_type": "markdown",
      "metadata": {},
      "source": [
        "`-` 방법2\n",
        "\n",
        "(예시1)"
      ],
      "id": "8dc3f294-3f1c-4b83-862e-99194c26b8fd"
    },
    {
      "cell_type": "code",
      "execution_count": 63,
      "metadata": {
        "vscode": {
          "languageId": "python"
        }
      },
      "outputs": [],
      "source": [
        "df.groupby(by=[\"AIRLINE\",\"WEEKDAY\"])[[\"CANCELLED\"]].agg(np.sum)"
      ],
      "id": "bc3f52b1-0e90-4b76-9fef-2a92afd6b260"
    },
    {
      "cell_type": "markdown",
      "metadata": {},
      "source": [
        "(예시2)"
      ],
      "id": "d855b22a-8125-4344-9106-b62d81d03680"
    },
    {
      "cell_type": "code",
      "execution_count": 64,
      "metadata": {
        "vscode": {
          "languageId": "python"
        }
      },
      "outputs": [],
      "source": [
        "df.groupby(by=[\"AIRLINE\",\"WEEKDAY\"])[\"CANCELLED\"].agg(\"sum\")"
      ],
      "id": "41036ef5-347d-4ba6-8ed8-eb3cd4a5c0b6"
    },
    {
      "cell_type": "markdown",
      "metadata": {},
      "source": [
        "(예시3)"
      ],
      "id": "8db598d6-0b88-495d-9d9a-cc3444aea052"
    },
    {
      "cell_type": "code",
      "execution_count": 65,
      "metadata": {
        "vscode": {
          "languageId": "python"
        }
      },
      "outputs": [],
      "source": [
        "df.groupby(by=[\"AIRLINE\",\"WEEKDAY\"])[\"CANCELLED\"].sum()"
      ],
      "id": "7908a135-2288-41d3-b1fe-052fb2072dff"
    },
    {
      "cell_type": "code",
      "execution_count": 66,
      "metadata": {
        "vscode": {
          "languageId": "python"
        }
      },
      "outputs": [],
      "source": [
        "df.DIVERTED"
      ],
      "id": "87b75cff-1913-4566-bbbc-00151a487f60"
    },
    {
      "cell_type": "markdown",
      "metadata": {},
      "source": [
        "### `#` EX3: \\[AIRLINE,WEEKDAY\\] $\\to$ {CANCELLED:sum,mean}, {DIVERTED: sum,mean}\n",
        "\n",
        "`-` 방법1\n",
        "\n",
        "(예시1)"
      ],
      "id": "b0a8ef4d-6b15-458b-bf44-c7c204d3b4bc"
    },
    {
      "cell_type": "code",
      "execution_count": 67,
      "metadata": {
        "vscode": {
          "languageId": "python"
        }
      },
      "outputs": [],
      "source": [
        "df.groupby([\"AIRLINE\",\"WEEKDAY\"])\\\n",
        ".agg({\"CANCELLED\":[np.sum,np.mean],\"DIVERTED\":[np.sum,np.mean]})"
      ],
      "id": "8f5c2aa8-19b6-498e-a1ef-70dc941c33b9"
    },
    {
      "cell_type": "markdown",
      "metadata": {},
      "source": [
        "(예시2)"
      ],
      "id": "83f22604-7349-4c94-ab86-0d19a0ceac95"
    },
    {
      "cell_type": "code",
      "execution_count": 68,
      "metadata": {
        "vscode": {
          "languageId": "python"
        }
      },
      "outputs": [],
      "source": [
        "df.groupby([\"AIRLINE\",\"WEEKDAY\"])\\\n",
        ".agg({\"CANCELLED\":[\"sum\",\"mean\"],\"DIVERTED\":[\"sum\",\"mean\"]})"
      ],
      "id": "02a5a28d-68a5-469c-b3da-5a44b72a5f1a"
    },
    {
      "cell_type": "markdown",
      "metadata": {},
      "source": [
        "`-` 방법2\n",
        "\n",
        "(예시1)"
      ],
      "id": "ccf8cc2a-04c4-4ffc-a645-321c62d2134c"
    },
    {
      "cell_type": "code",
      "execution_count": 69,
      "metadata": {
        "vscode": {
          "languageId": "python"
        }
      },
      "outputs": [],
      "source": [
        "df.groupby([\"AIRLINE\",\"WEEKDAY\"])[[\"CANCELLED\",\"DIVERTED\"]]\\\n",
        ".agg([np.sum,np.mean])"
      ],
      "id": "a986cff1-8922-49b9-becd-fe45c4f8542b"
    },
    {
      "cell_type": "markdown",
      "metadata": {},
      "source": [
        "(예시2)"
      ],
      "id": "d4a726ba-fd73-47d2-add2-704eb98539ab"
    },
    {
      "cell_type": "code",
      "execution_count": 70,
      "metadata": {
        "vscode": {
          "languageId": "python"
        }
      },
      "outputs": [],
      "source": [
        "df.groupby([\"AIRLINE\",\"WEEKDAY\"])[[\"CANCELLED\",\"DIVERTED\"]]\\\n",
        ".agg([\"sum\",\"mean\"])"
      ],
      "id": "961081d8-cc3d-4caa-b583-1f5c7b9cece7"
    },
    {
      "cell_type": "markdown",
      "metadata": {},
      "source": [
        "(예시3) – 사용불가능\n",
        "\n",
        "### `#` EX4: \\[AIRLINE,WEEKDAY\\] $\\to$ {CANCELLED:sum,mean,count}, {AIR_TIME: mean,var}\n",
        "\n",
        "`-` 방법1\n",
        "\n",
        "(예시1)"
      ],
      "id": "f37ea071-750f-4289-956f-6343e5e215f0"
    },
    {
      "cell_type": "code",
      "execution_count": 71,
      "metadata": {
        "vscode": {
          "languageId": "python"
        }
      },
      "outputs": [],
      "source": [
        "df.groupby([\"AIRLINE\",\"WEEKDAY\"])\\\n",
        ".agg({'CANCELLED':[np.sum,np.mean,len],'AIR_TIME':[np.mean,np.var]})"
      ],
      "id": "3079ec54-47b4-4873-97f1-94c1e4011d5d"
    },
    {
      "cell_type": "markdown",
      "metadata": {},
      "source": [
        "(예시2)"
      ],
      "id": "7978da7e-5eaa-4a0b-a81f-3c0ab6e6bd32"
    },
    {
      "cell_type": "code",
      "execution_count": 72,
      "metadata": {
        "vscode": {
          "languageId": "python"
        }
      },
      "outputs": [],
      "source": [
        "df.groupby([\"AIRLINE\",\"WEEKDAY\"])\\\n",
        ".agg({'CANCELLED':[\"sum\",\"mean\",\"count\"],'AIR_TIME':[\"mean\",\"var\"]})"
      ],
      "id": "78379bb4-665e-4ff6-aed0-05bf3f92547b"
    },
    {
      "cell_type": "markdown",
      "metadata": {},
      "source": [
        "(사용자정의함수)"
      ],
      "id": "3a790f34-39a7-483f-befe-34eed0f10e7f"
    },
    {
      "cell_type": "code",
      "execution_count": 73,
      "metadata": {
        "vscode": {
          "languageId": "python"
        }
      },
      "outputs": [],
      "source": [
        "df.groupby([\"AIRLINE\",\"WEEKDAY\"])\\\n",
        ".agg({'CANCELLED':[np.sum,np.mean,len],\n",
        "      'AIR_TIME':[np.mean,lambda x: np.std(x,ddof=1)**2]})"
      ],
      "id": "2c2eddf4-5094-496b-8cf5-e82f67452104"
    },
    {
      "cell_type": "markdown",
      "metadata": {},
      "source": [
        "## 연속형변수를 기준으로 groupby -\\> agg"
      ],
      "id": "abe5799e-5af9-410c-928b-0405bc0e4e91"
    },
    {
      "cell_type": "code",
      "execution_count": 74,
      "metadata": {
        "vscode": {
          "languageId": "python"
        }
      },
      "outputs": [],
      "source": [
        "df.T"
      ],
      "id": "05cf59fb-5da4-431d-9f2c-53ab954d55a2"
    },
    {
      "cell_type": "code",
      "execution_count": 75,
      "metadata": {
        "vscode": {
          "languageId": "python"
        }
      },
      "outputs": [],
      "source": [
        "df.DIST.describe()"
      ],
      "id": "fbee8cc5-6bfc-4155-a000-88c22ab91830"
    },
    {
      "cell_type": "code",
      "execution_count": 76,
      "metadata": {
        "vscode": {
          "languageId": "python"
        }
      },
      "outputs": [],
      "source": [
        "df.assign(DIST2 = pd.cut(df.DIST,[-np.inf,391,690,1199,np.inf]))\\\n",
        ".groupby([\"AIRLINE\",\"DIST2\"]).agg({'CANCELLED':[\"sum\",\"mean\",\"count\"]})"
      ],
      "id": "8797ac5c-bf21-4946-b509-748ace69dbeb"
    },
    {
      "cell_type": "code",
      "execution_count": 77,
      "metadata": {
        "vscode": {
          "languageId": "python"
        }
      },
      "outputs": [],
      "source": [
        "pd.cut(df.DIST,[-np.inf,400,700,1200,np.inf],labels=['~400','400~700','700~1200','1200~'])"
      ],
      "id": "740c4840-8a54-464b-8db5-f97b63bb9f89"
    },
    {
      "cell_type": "code",
      "execution_count": 78,
      "metadata": {
        "vscode": {
          "languageId": "python"
        }
      },
      "outputs": [],
      "source": [
        "df.assign(DIST2 = pd.cut(df.DIST,[-np.inf,400,700,1200,np.inf],labels=['~400','400~700','700~1200','1200~']))\\\n",
        ".groupby([\"AIRLINE\",\"DIST2\"]).agg({'CANCELLED':[\"sum\",\"mean\",\"count\"]})"
      ],
      "id": "5c7d1aab-d544-475c-910b-2748b32a99f0"
    },
    {
      "cell_type": "markdown",
      "metadata": {},
      "source": [
        "## HRDataset_v14 자료분석\n",
        "\n",
        "아래의 코드를 활용하여 Kaggle의\n",
        "[HRdataset](https://www.kaggle.com/datasets/rhuebner/human-resources-data-set)을\n",
        "불러오라."
      ],
      "id": "21f4de3f-b039-43b4-86bd-115e64c79bf2"
    },
    {
      "cell_type": "code",
      "execution_count": 50,
      "metadata": {
        "vscode": {
          "languageId": "python"
        }
      },
      "outputs": [],
      "source": [
        "df = pd.read_csv('https://raw.githubusercontent.com/guebin/DV2022/master/posts/HRDataset_v14.csv')\n",
        "df"
      ],
      "id": "9c904ab1-95d4-4fae-ac52-464de2f638a5"
    },
    {
      "cell_type": "code",
      "execution_count": 53,
      "metadata": {
        "vscode": {
          "languageId": "python"
        }
      },
      "outputs": [],
      "source": [
        "df.groupby('RaceDesc')"
      ],
      "id": "0a08ba3a-7cb6-43c9-8814-3b750f10545c"
    },
    {
      "cell_type": "markdown",
      "metadata": {},
      "source": [
        "데이터를 조사하고 올바르게 분석한 사람을 모두 고르라. (모두 맞칠경우만\n",
        "정답으로 인정)\n",
        "\n",
        "-   소윤: 근무인원수가 가장 많은 인종(RaceDesc)은 ’White’이며 이는\n",
        "    ’Asian’인종과 ’Black or African American’의 합보다 많다.\n",
        "-   다호: ’RaceDesc==White’의 성별(Sex)임금차이는 2000이상이다.\n",
        "-   하니: 퇴직한사람(Termd==1)은 모두 104명이며 백인여성의 퇴직자수가\n",
        "    가장 많다.\n",
        "-   도한: 퇴직한사람중 아시아인의 비율은 10%가 넘지 않는다.\n",
        "\n",
        "(풀이)\n",
        "\n",
        "모두 참이다.\n",
        "\n",
        "**데이터조사**"
      ],
      "id": "518a1ec0-393d-4c92-9c7f-85e606a62764"
    },
    {
      "cell_type": "code",
      "execution_count": 78,
      "metadata": {
        "vscode": {
          "languageId": "python"
        }
      },
      "outputs": [
        {
          "output_type": "stream",
          "name": "stdout",
          "text": [
            "<class 'pandas.core.frame.DataFrame'>\n",
            "RangeIndex: 311 entries, 0 to 310\n",
            "Data columns (total 36 columns):\n",
            " #   Column                      Non-Null Count  Dtype  \n",
            "---  ------                      --------------  -----  \n",
            " 0   Employee_Name               311 non-null    object \n",
            " 1   EmpID                       311 non-null    int64  \n",
            " 2   MarriedID                   311 non-null    int64  \n",
            " 3   MaritalStatusID             311 non-null    int64  \n",
            " 4   GenderID                    311 non-null    int64  \n",
            " 5   EmpStatusID                 311 non-null    int64  \n",
            " 6   DeptID                      311 non-null    int64  \n",
            " 7   PerfScoreID                 311 non-null    int64  \n",
            " 8   FromDiversityJobFairID      311 non-null    int64  \n",
            " 9   Salary                      311 non-null    int64  \n",
            " 10  Termd                       311 non-null    int64  \n",
            " 11  PositionID                  311 non-null    int64  \n",
            " 12  Position                    311 non-null    object \n",
            " 13  State                       311 non-null    object \n",
            " 14  Zip                         311 non-null    int64  \n",
            " 15  DOB                         311 non-null    object \n",
            " 16  Sex                         311 non-null    object \n",
            " 17  MaritalDesc                 311 non-null    object \n",
            " 18  CitizenDesc                 311 non-null    object \n",
            " 19  HispanicLatino              311 non-null    object \n",
            " 20  RaceDesc                    311 non-null    object \n",
            " 21  DateofHire                  311 non-null    object \n",
            " 22  DateofTermination           104 non-null    object \n",
            " 23  TermReason                  311 non-null    object \n",
            " 24  EmploymentStatus            311 non-null    object \n",
            " 25  Department                  311 non-null    object \n",
            " 26  ManagerName                 311 non-null    object \n",
            " 27  ManagerID                   303 non-null    float64\n",
            " 28  RecruitmentSource           311 non-null    object \n",
            " 29  PerformanceScore            311 non-null    object \n",
            " 30  EngagementSurvey            311 non-null    float64\n",
            " 31  EmpSatisfaction             311 non-null    int64  \n",
            " 32  SpecialProjectsCount        311 non-null    int64  \n",
            " 33  LastPerformanceReview_Date  311 non-null    object \n",
            " 34  DaysLateLast30              311 non-null    int64  \n",
            " 35  Absences                    311 non-null    int64  \n",
            "dtypes: float64(2), int64(16), object(18)\n",
            "memory usage: 87.6+ KB"
          ]
        }
      ],
      "source": [
        "df.info()"
      ],
      "id": "0f720027-6a8e-46d9-875a-8b8df38dabd0"
    },
    {
      "cell_type": "markdown",
      "metadata": {},
      "source": [
        "-   EmpID가 missing이 없는 열임\n",
        "\n",
        "***소윤: 근무인원수가 가장 많은 인종(RaceDesc)은 ’White’이며 이는\n",
        "’Asian’인종과 ’Black or African American’의 합보다 많다. — 참***"
      ],
      "id": "d8c9219a-d7cf-4a51-82e0-dc6f5bc198e3"
    },
    {
      "cell_type": "code",
      "execution_count": 79,
      "metadata": {
        "vscode": {
          "languageId": "python"
        }
      },
      "outputs": [],
      "source": [
        "df.groupby(by='RaceDesc').agg({'EmpID':len})"
      ],
      "id": "23923083-484c-493e-812a-34f2e0797b6c"
    },
    {
      "cell_type": "code",
      "execution_count": 80,
      "metadata": {
        "vscode": {
          "languageId": "python"
        }
      },
      "outputs": [],
      "source": [
        "29+80"
      ],
      "id": "5bc579f7-efde-45ef-9ce8-85d7802f7802"
    },
    {
      "cell_type": "markdown",
      "metadata": {},
      "source": [
        "***다호: ’RaceDesc==White’의 성별(Sex)임금차이는 2000이상이다. — 참***"
      ],
      "id": "41536158-0841-4307-966f-400b7e5d9bf1"
    },
    {
      "cell_type": "code",
      "execution_count": 81,
      "metadata": {
        "vscode": {
          "languageId": "python"
        }
      },
      "outputs": [],
      "source": [
        "df.groupby(by=['RaceDesc','Sex']).agg({'Salary':np.mean})"
      ],
      "id": "5cc3aadd-6f95-4415-bf2e-109b47ea9515"
    },
    {
      "cell_type": "code",
      "execution_count": 82,
      "metadata": {
        "vscode": {
          "languageId": "python"
        }
      },
      "outputs": [],
      "source": [
        "68846.519231 - 65334.132530"
      ],
      "id": "5c8c7999-688a-4f14-ae74-9e57c3306ccb"
    },
    {
      "cell_type": "markdown",
      "metadata": {},
      "source": [
        "***하니: 퇴직한사람(Termd==1)은 모두 104명이며 백인여성의 퇴직자수가\n",
        "가장 많다. — 참***"
      ],
      "id": "eb4df2b5-576c-42ea-8bad-d3f8801ef4d2"
    },
    {
      "cell_type": "code",
      "execution_count": 83,
      "metadata": {
        "vscode": {
          "languageId": "python"
        }
      },
      "outputs": [],
      "source": [
        "(df.Termd==1).sum()"
      ],
      "id": "7cf56358-8f6e-449b-a753-3a36b29ea055"
    },
    {
      "cell_type": "code",
      "execution_count": 84,
      "metadata": {
        "vscode": {
          "languageId": "python"
        }
      },
      "outputs": [],
      "source": [
        "df.groupby(by=['RaceDesc','Sex']).agg({'Termd':np.sum})"
      ],
      "id": "41cbf9b2-c864-4d03-89c1-37ebaa7023b1"
    },
    {
      "cell_type": "markdown",
      "metadata": {},
      "source": [
        "***도한: 퇴직한사람중 아시아인의 비율은 10%가 넘지 않는다. — 참***"
      ],
      "id": "75c0f0bb-c0ba-4fde-af4b-8ff6982524bf"
    },
    {
      "cell_type": "code",
      "execution_count": 85,
      "metadata": {
        "vscode": {
          "languageId": "python"
        }
      },
      "outputs": [],
      "source": [
        "(df.Termd==1).sum()"
      ],
      "id": "1b5ba9c8-3624-4537-87e1-d383764ebe06"
    },
    {
      "cell_type": "code",
      "execution_count": 86,
      "metadata": {
        "vscode": {
          "languageId": "python"
        }
      },
      "outputs": [],
      "source": [
        "df.groupby(by=['RaceDesc']).agg({'Termd':np.sum})"
      ],
      "id": "7abb5e0f-bf92-45d0-b68b-c5ab92413f54"
    },
    {
      "cell_type": "markdown",
      "metadata": {},
      "source": [
        "# Quiz\n",
        "\n",
        "다음과 같은 데이터프레임을 불러온 뒤 물음에 답하라"
      ],
      "id": "9461e65a-6742-47d5-867e-8a341ce7ea27"
    },
    {
      "cell_type": "code",
      "execution_count": 518,
      "metadata": {
        "vscode": {
          "languageId": "python"
        }
      },
      "outputs": [],
      "source": [
        "df=pd.read_csv('https://raw.githubusercontent.com/guebin/DV2022/master/_notebooks/dv2022.csv')\n",
        "df"
      ],
      "id": "c585ab11-0f85-4303-b31f-fb3c72d2725e"
    },
    {
      "cell_type": "markdown",
      "metadata": {},
      "source": [
        "`(1)` 기말고사 성적이 중간고사 성적보다 향상된 학생들을 출력하라. 즉 mid\n",
        "\\< fin 인 학생들을 출력하라. (다양한 방법으로 연습할 것, 제출은 한 가지\n",
        "방법으로 구현해도 감점없음)"
      ],
      "id": "c531bd81-0212-4158-99bd-0b45ea0fa725"
    },
    {
      "cell_type": "code",
      "execution_count": 521,
      "metadata": {
        "vscode": {
          "languageId": "python"
        }
      },
      "outputs": [],
      "source": [
        "# 구현결과가 아래와 같아야 한다. "
      ],
      "id": "99b06609-82e5-45c4-a03c-f584a18194b1"
    },
    {
      "cell_type": "markdown",
      "metadata": {},
      "source": [
        "`(2)` 기말고사 성적이 중간고사 성적보다 향상된 학생들의 출석과 레포트\n",
        "점수를 출력하라."
      ],
      "id": "252f748b-15e5-4357-bb0a-3e061b8643b8"
    },
    {
      "cell_type": "code",
      "execution_count": 523,
      "metadata": {
        "vscode": {
          "languageId": "python"
        }
      },
      "outputs": [],
      "source": [
        "# 구현결과가 아래와 같아야 한다. "
      ],
      "id": "3fc63727-d137-4886-a60c-4646972b1c55"
    },
    {
      "cell_type": "code",
      "execution_count": 64,
      "metadata": {
        "vscode": {
          "languageId": "python"
        }
      },
      "outputs": [],
      "source": [
        "df = pd.DataFrame({'a':[1,2,3,4],'b':[2,3,4,5],'c':[3,4,5,6],'d':[4,5,6,7]})\n",
        "df"
      ],
      "id": "bfcd9f1a-31e6-44b1-bc22-b8112f201eef"
    },
    {
      "cell_type": "markdown",
      "metadata": {},
      "source": [
        "## `2`.\n",
        "\n",
        "아래의 결과를 관찰하고 drop의 기능을 유추하라.\n",
        "\n",
        "(예시1)"
      ],
      "id": "92d13283-8a90-45fc-8a19-e26b9adcd763"
    },
    {
      "cell_type": "code",
      "execution_count": 65,
      "metadata": {
        "vscode": {
          "languageId": "python"
        }
      },
      "outputs": [],
      "source": [
        "df.drop(columns='a')"
      ],
      "id": "265d0292-694a-4c16-b928-039f30030799"
    },
    {
      "cell_type": "markdown",
      "metadata": {},
      "source": [
        "(예시2)"
      ],
      "id": "9a9b1f6d-bdb5-4752-9a3c-5990221954ff"
    },
    {
      "cell_type": "code",
      "execution_count": 66,
      "metadata": {
        "vscode": {
          "languageId": "python"
        }
      },
      "outputs": [],
      "source": [
        "df.drop(columns=['a','b'])"
      ],
      "id": "2df1fb09-1a58-43b1-81cd-6ce9cbaff453"
    },
    {
      "cell_type": "markdown",
      "metadata": {},
      "source": [
        "(예시3)"
      ],
      "id": "ad15d4e8-d085-4a02-b4ed-29c4e7bca7c8"
    },
    {
      "cell_type": "code",
      "execution_count": 67,
      "metadata": {
        "vscode": {
          "languageId": "python"
        }
      },
      "outputs": [],
      "source": [
        "df.drop(index=0)"
      ],
      "id": "eea03586-b24b-4123-813c-b763f7235328"
    },
    {
      "cell_type": "markdown",
      "metadata": {},
      "source": [
        "(예시4)"
      ],
      "id": "864f6a24-ce3c-4ce7-b69c-019918e2c89c"
    },
    {
      "cell_type": "code",
      "execution_count": 71,
      "metadata": {
        "vscode": {
          "languageId": "python"
        }
      },
      "outputs": [],
      "source": [
        "df.drop(index=range(2,4))"
      ],
      "id": "40eb1d5c-c42c-4c4d-9d6d-46865af82198"
    },
    {
      "cell_type": "markdown",
      "metadata": {},
      "source": [
        "문제: `df` 에서 a,c열을 삭제하고 첫행을 삭제하라."
      ],
      "id": "620bb37f-9e52-4684-93e5-6f31f38e3ca2"
    },
    {
      "cell_type": "code",
      "execution_count": 78,
      "metadata": {
        "vscode": {
          "languageId": "python"
        }
      },
      "outputs": [],
      "source": [
        "#출력결과는 아래와 같아야 한다. "
      ],
      "id": "7a39cea1-a05f-4da3-8fba-04b3eeaa911f"
    }
  ],
  "nbformat": 4,
  "nbformat_minor": 5,
  "metadata": {
    "kernelspec": {
      "name": "python3",
      "display_name": "Python 3 (ipykernel)",
      "language": "python"
    },
    "language_info": {
      "name": "python",
      "codemirror_mode": {
        "name": "ipython",
        "version": "3"
      },
      "file_extension": ".py",
      "mimetype": "text/x-python",
      "nbconvert_exporter": "python",
      "pygments_lexer": "ipython3",
      "version": "3.10.12"
    }
  }
}