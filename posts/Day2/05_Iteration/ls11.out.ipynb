{
  "cells": [
    {
      "cell_type": "markdown",
      "metadata": {},
      "source": [
        "# Lesson 11: map, itertools\n",
        "\n",
        "최규빈  \n",
        "2023-07-25\n",
        "\n",
        "<a href=\"https://colab.research.google.com/github/guebin/IP2023WIN/blob/main/posts/Day2/06_Functions, ControlFlow/2023-01-31-Lesson11.ipynb\"><img src=\"https://colab.research.google.com/assets/colab-badge.svg\" style=\"text-align: left\"></a>\n",
        "\n",
        "# ref\n",
        "\n",
        "<https://guebin.github.io/DV2022/posts/2022-10-12-6wk-12.html>\n",
        "\n",
        "# imports"
      ],
      "id": "80ba959a-e48f-472e-97cf-7557bc41bcbb"
    },
    {
      "cell_type": "code",
      "execution_count": 1,
      "metadata": {
        "vscode": {
          "languageId": "python"
        }
      },
      "outputs": [],
      "source": [
        "import numpy as np\n",
        "import pandas as pd\n",
        "import matplotlib.pyplot as plt"
      ],
      "id": "c85bf122-ebe4-4be2-af24-9f6ef0844fc3"
    },
    {
      "cell_type": "markdown",
      "metadata": {},
      "source": [
        "# map ($\\star$)\n",
        "\n",
        "`-` 개념: \\$(f,\\[x_1,x_2,,x_n\\] )=\\$\n",
        "\n",
        "`-` 예제1:"
      ],
      "id": "83f9680e-11f1-49a4-9ddd-371b24b0b580"
    },
    {
      "cell_type": "code",
      "execution_count": 166,
      "metadata": {
        "vscode": {
          "languageId": "python"
        }
      },
      "outputs": [],
      "source": [
        "x = [1,2,3] \n",
        "f = lambda x: x+1 \n",
        "y = list(map(f,x))"
      ],
      "id": "85c3e321-2141-45b9-9331-7ea8db420397"
    },
    {
      "cell_type": "markdown",
      "metadata": {},
      "source": [
        "(다른구현1)"
      ],
      "id": "83f69877-d03d-4934-9f46-1eaef0f4609b"
    },
    {
      "cell_type": "code",
      "execution_count": 136,
      "metadata": {
        "vscode": {
          "languageId": "python"
        }
      },
      "outputs": [],
      "source": [
        "list(map(lambda x: x+1,[1,2,3]))"
      ],
      "id": "bffd6eca-0b2d-4cf2-bd14-77db489fd436"
    },
    {
      "cell_type": "markdown",
      "metadata": {},
      "source": [
        "(다른구현2)"
      ],
      "id": "33c9511f-f86c-4884-928c-39323486fd01"
    },
    {
      "cell_type": "code",
      "execution_count": 176,
      "metadata": {
        "vscode": {
          "languageId": "python"
        }
      },
      "outputs": [],
      "source": [
        "f = lambda x: x+1 \n",
        "[f(xi) for xi in [1,2,3]]"
      ],
      "id": "8c11a8e6-625b-457a-92a6-be6d693ccc8d"
    },
    {
      "cell_type": "markdown",
      "metadata": {},
      "source": [
        "(다른구현3)"
      ],
      "id": "0c43125c-8fca-428f-96af-143375d770bf"
    },
    {
      "cell_type": "code",
      "execution_count": 140,
      "metadata": {
        "vscode": {
          "languageId": "python"
        }
      },
      "outputs": [],
      "source": [
        "[(lambda x: x+1)(xi) for xi in [1,2,3]]"
      ],
      "id": "c2a523c5-a5c5-4ba0-83f4-c9b99db7d130"
    },
    {
      "cell_type": "markdown",
      "metadata": {},
      "source": [
        "(다른구현4)–최악"
      ],
      "id": "4b793893-bc53-4a3f-9868-5965cbe8e9cf"
    },
    {
      "cell_type": "code",
      "execution_count": 178,
      "metadata": {
        "vscode": {
          "languageId": "python"
        }
      },
      "outputs": [],
      "source": [
        "y = [] \n",
        "x = [1,2,3] \n",
        "f = lambda x: x+1 \n",
        "for xi in x:\n",
        "    y.append(f(xi))"
      ],
      "id": "eb565af8-cf95-41e7-b27d-d3a5c82b4fd3"
    },
    {
      "cell_type": "code",
      "execution_count": 179,
      "metadata": {
        "vscode": {
          "languageId": "python"
        }
      },
      "outputs": [],
      "source": [
        "y"
      ],
      "id": "3b67d153-279c-447f-8b16-6b3ece3f5f1f"
    },
    {
      "cell_type": "markdown",
      "metadata": {},
      "source": [
        "(다른구현5)–더 최악"
      ],
      "id": "50112771-c9b4-4d49-99a8-948ba6b7090b"
    },
    {
      "cell_type": "code",
      "execution_count": 143,
      "metadata": {
        "vscode": {
          "languageId": "python"
        }
      },
      "outputs": [],
      "source": [
        "y = [] \n",
        "x = [1,2,3] \n",
        "f = lambda x: x+1 \n",
        "for i in range(len(x)):\n",
        "    y.append(f(x[i]))"
      ],
      "id": "dd028d4a-4989-4f1d-b639-6dc5b8fee6fb"
    },
    {
      "cell_type": "code",
      "execution_count": 144,
      "metadata": {
        "vscode": {
          "languageId": "python"
        }
      },
      "outputs": [],
      "source": [
        "y"
      ],
      "id": "0dd61748-2122-43ce-a879-e3591038aeed"
    },
    {
      "cell_type": "markdown",
      "metadata": {},
      "source": [
        "**Quiz**\n",
        "\n",
        "$x=[1,2,3,4,5]$에 대하여 $x^2$을 수행하는 함수를 구현하라.\n",
        "\n",
        "`-` 예제2: 문자열을 입력으로 받고 대문자이면 True, 소문자이면 False\n",
        "\n",
        "    입력: A,B,C,a,b,c\n",
        "    출력: T,T,T,F,F,F"
      ],
      "id": "f1eeff4e-a0cb-4058-8ba3-90c25bac2b1f"
    },
    {
      "cell_type": "code",
      "execution_count": 210,
      "metadata": {
        "vscode": {
          "languageId": "python"
        }
      },
      "outputs": [],
      "source": [
        "x= list('ABCabc')\n",
        "# x = ['A','B','C','a','b','c']\n",
        "f = lambda s: s.isupper()\n",
        "y = list(map(f,x))"
      ],
      "id": "56544d74-bd03-4f29-9313-6737ec673521"
    },
    {
      "cell_type": "code",
      "execution_count": 211,
      "metadata": {
        "vscode": {
          "languageId": "python"
        }
      },
      "outputs": [],
      "source": [
        "x,y"
      ],
      "id": "bb421e54-2b8a-4c4b-abcd-7ba64d18f83d"
    },
    {
      "cell_type": "markdown",
      "metadata": {},
      "source": [
        "`-` 예제3: 두개의 입력을 받는 함수 (map을 이용하는 것이 리스트\n",
        "컴프리헨션보다 조금 편한것 같다)"
      ],
      "id": "66f84204-6d17-43ad-892e-9cfa591843f1"
    },
    {
      "cell_type": "code",
      "execution_count": 268,
      "metadata": {
        "vscode": {
          "languageId": "python"
        }
      },
      "outputs": [],
      "source": [
        "list(map(lambda x,y: x+y, [1,2,3],[-1,-2,-3]))"
      ],
      "id": "14030c67-409f-4745-ac2f-757944b89689"
    },
    {
      "cell_type": "markdown",
      "metadata": {},
      "source": [
        "(다른구현)– 리스트컴프리헨션"
      ],
      "id": "0929e439-5eb7-4c84-9ec2-3edf48c6fa00"
    },
    {
      "cell_type": "code",
      "execution_count": 269,
      "metadata": {
        "vscode": {
          "languageId": "python"
        }
      },
      "outputs": [],
      "source": [
        "f = lambda x,y: x+y \n",
        "[f(x,y) for x,y in zip([1,2,3],[-1,-2,-3])] "
      ],
      "id": "55e3261f-f6f3-4366-b02c-aa97a04edcda"
    },
    {
      "cell_type": "markdown",
      "metadata": {},
      "source": [
        "**quiz**"
      ],
      "id": "a5b8a0c5-c15a-4811-8e09-89ea9f2d1b7b"
    },
    {
      "cell_type": "code",
      "execution_count": 216,
      "metadata": {
        "vscode": {
          "languageId": "python"
        }
      },
      "outputs": [],
      "source": [
        "t=np.linspace(-3.14,3.14,100)\n",
        "x=np.sin(t)\n",
        "y=np.cos(t)"
      ],
      "id": "ee95f407-207e-41f2-9354-5a091e16cad6"
    },
    {
      "cell_type": "code",
      "execution_count": 218,
      "metadata": {
        "vscode": {
          "languageId": "python"
        }
      },
      "outputs": [
        {
          "output_type": "display_data",
          "metadata": {},
          "data": {
            "image/png": "[encoded data removed]"
          }
        }
      ],
      "source": [
        "plt.plot(t,x)\n",
        "plt.plot(t,y)"
      ],
      "id": "228495ac-71e3-4c16-aaea-5bd9654e48a0"
    },
    {
      "cell_type": "markdown",
      "metadata": {},
      "source": [
        "$f(x,y) = \\max(x,y)$ 를 구현하여 ${\\bf x}$,${\\bf y}$ 각 원소에 적용하고\n",
        "결과를 시각화 하라."
      ],
      "id": "c93d5410-d2e0-429d-82aa-eee539e00ee7"
    },
    {
      "cell_type": "code",
      "execution_count": 231,
      "metadata": {
        "vscode": {
          "languageId": "python"
        }
      },
      "outputs": [],
      "source": [
        "f = (lambda x,y: max(x,y))\n",
        "f(3,4)"
      ],
      "id": "9be59fd0-984f-4606-bf11-fa259767eca2"
    },
    {
      "cell_type": "code",
      "execution_count": 236,
      "metadata": {
        "vscode": {
          "languageId": "python"
        }
      },
      "outputs": [],
      "source": [
        "z= list(map(f,x,y))"
      ],
      "id": "4788b92a-370d-48c5-958c-c0a883c6de76"
    },
    {
      "cell_type": "code",
      "execution_count": 238,
      "metadata": {
        "vscode": {
          "languageId": "python"
        }
      },
      "outputs": [
        {
          "output_type": "display_data",
          "metadata": {},
          "data": {
            "image/png": "[encoded data removed]"
          }
        }
      ],
      "source": [
        "plt.plot(t,z)"
      ],
      "id": "bb237cbb-8b05-4dd3-b398-56429e26ea54"
    },
    {
      "cell_type": "markdown",
      "metadata": {},
      "source": [
        "`-` 예제4: map은 “하나의 함수에 다양한 입력”을 적용하는 경우에만\n",
        "사용가능, 리스트컴프리헨션은 “다양한 함수에 다양한 입력” 지원"
      ],
      "id": "a7563fd0-2713-46d5-b357-8b4c1cf5c697"
    },
    {
      "cell_type": "code",
      "execution_count": 239,
      "metadata": {
        "vscode": {
          "languageId": "python"
        }
      },
      "outputs": [],
      "source": [
        "flst = [lambda x: x+1, lambda x: x+2, lambda x:x+3] "
      ],
      "id": "db9ddd88-83bb-43f9-81bc-03fa5e81bcc4"
    },
    {
      "cell_type": "markdown",
      "metadata": {},
      "source": [
        "map으로 구현시도 $\\to$ 실패"
      ],
      "id": "fd30456e-ce35-4c15-95a3-6bc5f54fb049"
    },
    {
      "cell_type": "code",
      "execution_count": 259,
      "metadata": {
        "vscode": {
          "languageId": "python"
        }
      },
      "outputs": [],
      "source": [
        "list(map(flst,[-1,-2,-3])) # 결과가 0,0,0"
      ],
      "id": "2825a705-084a-4bce-8e1f-da91539ae0cf"
    },
    {
      "cell_type": "markdown",
      "metadata": {},
      "source": [
        "리스트컴프리헨션으로 구현시도 $\\to$ 성공"
      ],
      "id": "9e0ce7a7-ee40-4a7a-b86a-abcf4daec645"
    },
    {
      "cell_type": "code",
      "execution_count": 272,
      "metadata": {
        "vscode": {
          "languageId": "python"
        }
      },
      "outputs": [],
      "source": [
        "[f(x) for f,x in zip(flst,[-1,-2,-3])]"
      ],
      "id": "8522634a-9db2-410e-b389-73eda3e74cd7"
    },
    {
      "cell_type": "markdown",
      "metadata": {},
      "source": [
        "`-` 종합: map과 리스트컴프리헨션과 비교\n",
        "\n",
        "-   map은 for문을 위한 $i$등의 인덱스를 쓰지 않지만 리스트컴프리헨션은\n",
        "    필요함\n",
        "-   map은 좀더 리스트컴프리헨션보다 제약적으로 사용할 수 밖에 없음.\n",
        "\n",
        "# imports"
      ],
      "id": "cb57c349-b448-470f-8fe4-53f832166e8b"
    },
    {
      "cell_type": "code",
      "execution_count": 1,
      "metadata": {
        "vscode": {
          "languageId": "python"
        }
      },
      "outputs": [],
      "source": [
        "import numpy as np\n",
        "import pandas as pd\n",
        "import matplotlib.pyplot as plt "
      ],
      "id": "581353f3-0bd0-4063-a5b6-23505aae35b1"
    },
    {
      "cell_type": "markdown",
      "metadata": {},
      "source": [
        "# Quiz\n",
        "\n",
        "다음과 같은 데이터프레임을 불러온 뒤 물음에 답하라"
      ],
      "id": "9949ce7b-aa22-445a-abda-274df9975e8e"
    },
    {
      "cell_type": "code",
      "execution_count": 518,
      "metadata": {
        "vscode": {
          "languageId": "python"
        }
      },
      "outputs": [],
      "source": [
        "df=pd.read_csv('https://raw.githubusercontent.com/guebin/DV2022/master/_notebooks/dv2022.csv')\n",
        "df"
      ],
      "id": "f78cdd5b-2ada-4570-92e4-7efab96f8e89"
    },
    {
      "cell_type": "markdown",
      "metadata": {},
      "source": [
        "`(1)` 기말고사 성적이 중간고사 성적보다 향상된 학생들을 출력하라. 즉 mid\n",
        "\\< fin 인 학생들을 출력하라. (다양한 방법으로 연습할 것, 제출은 한 가지\n",
        "방법으로 구현해도 감점없음)"
      ],
      "id": "ca1d1323-5ca2-4a20-b920-cf554a67ece5"
    },
    {
      "cell_type": "code",
      "execution_count": 521,
      "metadata": {
        "vscode": {
          "languageId": "python"
        }
      },
      "outputs": [],
      "source": [
        "# 구현결과가 아래와 같아야 한다. "
      ],
      "id": "c69c8998-90cb-4319-9dc9-359301fa0d91"
    },
    {
      "cell_type": "markdown",
      "metadata": {},
      "source": [
        "`(2)` 기말고사 성적이 중간고사 성적보다 향상된 학생들의 출석과 레포트\n",
        "점수를 출력하라."
      ],
      "id": "e2a0953d-221f-4693-92a4-db54a4a0663b"
    },
    {
      "cell_type": "code",
      "execution_count": 523,
      "metadata": {
        "vscode": {
          "languageId": "python"
        }
      },
      "outputs": [],
      "source": [
        "# 구현결과가 아래와 같아야 한다. "
      ],
      "id": "8ca6e2ce-a4d5-48c3-96b2-50b48aa4b261"
    },
    {
      "cell_type": "code",
      "execution_count": 64,
      "metadata": {
        "vscode": {
          "languageId": "python"
        }
      },
      "outputs": [],
      "source": [
        "df = pd.DataFrame({'a':[1,2,3,4],'b':[2,3,4,5],'c':[3,4,5,6],'d':[4,5,6,7]})\n",
        "df"
      ],
      "id": "eb0a9caf-80b5-485f-b110-c318b09931df"
    },
    {
      "cell_type": "markdown",
      "metadata": {},
      "source": [
        "## `2`.\n",
        "\n",
        "아래의 결과를 관찰하고 drop의 기능을 유추하라.\n",
        "\n",
        "(예시1)"
      ],
      "id": "40727cac-a780-4668-99b1-064e09d69b27"
    },
    {
      "cell_type": "code",
      "execution_count": 65,
      "metadata": {
        "vscode": {
          "languageId": "python"
        }
      },
      "outputs": [],
      "source": [
        "df.drop(columns='a')"
      ],
      "id": "669c32da-894c-44cd-9838-dcc1a69217d2"
    },
    {
      "cell_type": "markdown",
      "metadata": {},
      "source": [
        "(예시2)"
      ],
      "id": "bff88504-5498-4657-8a77-e1f90787e330"
    },
    {
      "cell_type": "code",
      "execution_count": 66,
      "metadata": {
        "vscode": {
          "languageId": "python"
        }
      },
      "outputs": [],
      "source": [
        "df.drop(columns=['a','b'])"
      ],
      "id": "b1273532-3263-4ed0-8028-e98d7a0a94fc"
    },
    {
      "cell_type": "markdown",
      "metadata": {},
      "source": [
        "(예시3)"
      ],
      "id": "bc2b1e28-46b6-4c99-b635-7709404b9399"
    },
    {
      "cell_type": "code",
      "execution_count": 67,
      "metadata": {
        "vscode": {
          "languageId": "python"
        }
      },
      "outputs": [],
      "source": [
        "df.drop(index=0)"
      ],
      "id": "3d9b4e2a-e621-4eab-8849-954577b536e2"
    },
    {
      "cell_type": "markdown",
      "metadata": {},
      "source": [
        "(예시4)"
      ],
      "id": "d0688d3f-5a65-44a9-8d8e-4d4573d2237b"
    },
    {
      "cell_type": "code",
      "execution_count": 71,
      "metadata": {
        "vscode": {
          "languageId": "python"
        }
      },
      "outputs": [],
      "source": [
        "df.drop(index=range(2,4))"
      ],
      "id": "31af93ac-09a4-4728-af25-8febffc31d99"
    },
    {
      "cell_type": "markdown",
      "metadata": {},
      "source": [
        "문제: `df` 에서 a,c열을 삭제하고 첫행을 삭제하라."
      ],
      "id": "ef63700c-2aaa-4f98-929e-ff78b5f6187d"
    },
    {
      "cell_type": "code",
      "execution_count": 78,
      "metadata": {
        "vscode": {
          "languageId": "python"
        }
      },
      "outputs": [],
      "source": [
        "#출력결과는 아래와 같아야 한다. "
      ],
      "id": "f8e2f70a-d296-411a-bbfb-7c835f296945"
    }
  ],
  "nbformat": 4,
  "nbformat_minor": 5,
  "metadata": {
    "kernelspec": {
      "name": "python3",
      "display_name": "Python 3 (ipykernel)",
      "language": "python"
    },
    "language_info": {
      "name": "python",
      "codemirror_mode": {
        "name": "ipython",
        "version": "3"
      },
      "file_extension": ".py",
      "mimetype": "text/x-python",
      "nbconvert_exporter": "python",
      "pygments_lexer": "ipython3",
      "version": "3.10.12"
    }
  }
}