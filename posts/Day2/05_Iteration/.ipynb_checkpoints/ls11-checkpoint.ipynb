{
 "cells": [
  {
   "cell_type": "raw",
   "id": "fc5662c4-b09e-4325-a11f-c765d9a03e95",
   "metadata": {},
   "source": [
    "---\n",
    "title: \"Lesson 11: map, itertools\"\n",
    "author: \"최규빈\"\n",
    "date: \"07/25/2023\"\n",
    "---"
   ]
  },
  {
   "cell_type": "markdown",
   "id": "b2d560c7-0da8-4ff2-b252-65b2a7bbf709",
   "metadata": {},
   "source": [
    "<a href=\"https://colab.research.google.com/github/guebin/IP2023WIN/blob/main/posts/Day2/06_Functions, ControlFlow/2023-01-31-Lesson11.ipynb\"><img src=\"https://colab.research.google.com/assets/colab-badge.svg\" style=\"text-align: left\"></a>"
   ]
  },
  {
   "cell_type": "markdown",
   "id": "1d9a8a3b",
   "metadata": {},
   "source": [
    "# ref"
   ]
  },
  {
   "cell_type": "markdown",
   "id": "d1feec3b",
   "metadata": {},
   "source": [
    "<https://guebin.github.io/DV2022/posts/2022-10-12-6wk-12.html>"
   ]
  },
  {
   "cell_type": "markdown",
   "id": "d9c68cbc-8cdc-47fd-b9bc-daadbc8a6c53",
   "metadata": {},
   "source": [
    "# imports"
   ]
  },
  {
   "cell_type": "code",
   "execution_count": 1,
   "id": "c85bf122-ebe4-4be2-af24-9f6ef0844fc3",
   "metadata": {
    "vscode": {
     "languageId": "python"
    }
   },
   "outputs": [],
   "source": [
    "import numpy as np\n",
    "import pandas as pd\n",
    "import matplotlib.pyplot as plt"
   ]
  },
  {
   "cell_type": "markdown",
   "id": "be683c2d-2b5d-4d43-834b-a97e184b2f5a",
   "metadata": {
    "tags": []
   },
   "source": [
    "# map ($\\star$)"
   ]
  },
  {
   "cell_type": "markdown",
   "id": "6e798cc8-f82c-4936-83bc-8453ef4e4467",
   "metadata": {},
   "source": [
    "`-` 개념: $\\text{map}\\left(f,[x_1,x_2,\\dots,x_n] \\right)=\\left[f(x_1),f(x_2),\\dots,f(x_n) \\right] $"
   ]
  },
  {
   "cell_type": "markdown",
   "id": "8713f497-2545-427b-a8f4-b332e828ed37",
   "metadata": {},
   "source": [
    "`-` 예제1: "
   ]
  },
  {
   "cell_type": "code",
   "execution_count": 166,
   "id": "85c3e321-2141-45b9-9331-7ea8db420397",
   "metadata": {
    "vscode": {
     "languageId": "python"
    }
   },
   "outputs": [],
   "source": [
    "x = [1,2,3] \n",
    "f = lambda x: x+1 \n",
    "y = list(map(f,x))"
   ]
  },
  {
   "cell_type": "markdown",
   "id": "9471e692-fc1e-4266-81f3-2d04140753ab",
   "metadata": {},
   "source": [
    "(다른구현1)"
   ]
  },
  {
   "cell_type": "code",
   "execution_count": 136,
   "id": "bffd6eca-0b2d-4cf2-bd14-77db489fd436",
   "metadata": {
    "vscode": {
     "languageId": "python"
    }
   },
   "outputs": [
    {
     "data": {
      "text/plain": [
       "[2, 3, 4]"
      ]
     },
     "execution_count": 136,
     "metadata": {},
     "output_type": "execute_result"
    }
   ],
   "source": [
    "list(map(lambda x: x+1,[1,2,3]))"
   ]
  },
  {
   "cell_type": "markdown",
   "id": "6c555343-8547-4935-a481-35f77ca28ae3",
   "metadata": {},
   "source": [
    "(다른구현2)"
   ]
  },
  {
   "cell_type": "code",
   "execution_count": 176,
   "id": "8c11a8e6-625b-457a-92a6-be6d693ccc8d",
   "metadata": {
    "vscode": {
     "languageId": "python"
    }
   },
   "outputs": [
    {
     "data": {
      "text/plain": [
       "[2, 3, 4]"
      ]
     },
     "execution_count": 176,
     "metadata": {},
     "output_type": "execute_result"
    }
   ],
   "source": [
    "f = lambda x: x+1 \n",
    "[f(xi) for xi in [1,2,3]]"
   ]
  },
  {
   "cell_type": "markdown",
   "id": "5a798110-d206-4b0e-be4e-ba6171bd5f44",
   "metadata": {},
   "source": [
    "(다른구현3)"
   ]
  },
  {
   "cell_type": "code",
   "execution_count": 140,
   "id": "c2a523c5-a5c5-4ba0-83f4-c9b99db7d130",
   "metadata": {
    "vscode": {
     "languageId": "python"
    }
   },
   "outputs": [
    {
     "data": {
      "text/plain": [
       "[2, 3, 4]"
      ]
     },
     "execution_count": 140,
     "metadata": {},
     "output_type": "execute_result"
    }
   ],
   "source": [
    "[(lambda x: x+1)(xi) for xi in [1,2,3]]"
   ]
  },
  {
   "cell_type": "markdown",
   "id": "9bff635e-2388-4886-b0e1-ad5031303833",
   "metadata": {},
   "source": [
    "(다른구현4)--최악"
   ]
  },
  {
   "cell_type": "code",
   "execution_count": 178,
   "id": "eb565af8-cf95-41e7-b27d-d3a5c82b4fd3",
   "metadata": {
    "vscode": {
     "languageId": "python"
    }
   },
   "outputs": [],
   "source": [
    "y = [] \n",
    "x = [1,2,3] \n",
    "f = lambda x: x+1 \n",
    "for xi in x:\n",
    "    y.append(f(xi))"
   ]
  },
  {
   "cell_type": "code",
   "execution_count": 179,
   "id": "3b67d153-279c-447f-8b16-6b3ece3f5f1f",
   "metadata": {
    "vscode": {
     "languageId": "python"
    }
   },
   "outputs": [
    {
     "data": {
      "text/plain": [
       "[2, 3, 4]"
      ]
     },
     "execution_count": 179,
     "metadata": {},
     "output_type": "execute_result"
    }
   ],
   "source": [
    "y"
   ]
  },
  {
   "cell_type": "markdown",
   "id": "ffec1225-31c7-4664-9910-b38ab6d616db",
   "metadata": {},
   "source": [
    "(다른구현5)--더 최악"
   ]
  },
  {
   "cell_type": "code",
   "execution_count": 143,
   "id": "dd028d4a-4989-4f1d-b639-6dc5b8fee6fb",
   "metadata": {
    "vscode": {
     "languageId": "python"
    }
   },
   "outputs": [],
   "source": [
    "y = [] \n",
    "x = [1,2,3] \n",
    "f = lambda x: x+1 \n",
    "for i in range(len(x)):\n",
    "    y.append(f(x[i]))"
   ]
  },
  {
   "cell_type": "code",
   "execution_count": 144,
   "id": "0dd61748-2122-43ce-a879-e3591038aeed",
   "metadata": {
    "vscode": {
     "languageId": "python"
    }
   },
   "outputs": [
    {
     "data": {
      "text/plain": [
       "[2, 3, 4]"
      ]
     },
     "execution_count": 144,
     "metadata": {},
     "output_type": "execute_result"
    }
   ],
   "source": [
    "y"
   ]
  },
  {
   "cell_type": "markdown",
   "id": "0d273609-7634-4dad-a918-b8f199c3269e",
   "metadata": {},
   "source": [
    "**Quiz**"
   ]
  },
  {
   "cell_type": "markdown",
   "id": "43a7febf-5bcd-4319-8ba7-2e865f4facdc",
   "metadata": {},
   "source": [
    "$x=[1,2,3,4,5]$에 대하여 $x^2$을 수행하는 함수를 구현하라. "
   ]
  },
  {
   "cell_type": "markdown",
   "id": "f9f838ff-7172-4100-88d6-0d8d93d506f5",
   "metadata": {},
   "source": [
    "`-` 예제2: 문자열을 입력으로 받고 대문자이면 True, 소문자이면 False \n",
    "```\n",
    "입력: A,B,C,a,b,c\n",
    "출력: T,T,T,F,F,F\n",
    "```"
   ]
  },
  {
   "cell_type": "code",
   "execution_count": 210,
   "id": "56544d74-bd03-4f29-9313-6737ec673521",
   "metadata": {
    "vscode": {
     "languageId": "python"
    }
   },
   "outputs": [],
   "source": [
    "x= list('ABCabc')\n",
    "# x = ['A','B','C','a','b','c']\n",
    "f = lambda s: s.isupper()\n",
    "y = list(map(f,x))"
   ]
  },
  {
   "cell_type": "code",
   "execution_count": 211,
   "id": "bb421e54-2b8a-4c4b-abcd-7ba64d18f83d",
   "metadata": {
    "vscode": {
     "languageId": "python"
    }
   },
   "outputs": [
    {
     "data": {
      "text/plain": [
       "(['A', 'B', 'C', 'a', 'b', 'c'], [True, True, True, False, False, False])"
      ]
     },
     "execution_count": 211,
     "metadata": {},
     "output_type": "execute_result"
    }
   ],
   "source": [
    "x,y"
   ]
  },
  {
   "cell_type": "markdown",
   "id": "1e0e8260-c0de-4d31-96af-f6fc18d6b7fc",
   "metadata": {},
   "source": [
    "`-` 예제3: 두개의 입력을 받는 함수 (map을 이용하는 것이 리스트 컴프리헨션보다 조금 편한것 같다) "
   ]
  },
  {
   "cell_type": "code",
   "execution_count": 268,
   "id": "14030c67-409f-4745-ac2f-757944b89689",
   "metadata": {
    "vscode": {
     "languageId": "python"
    }
   },
   "outputs": [
    {
     "data": {
      "text/plain": [
       "[0, 0, 0]"
      ]
     },
     "execution_count": 268,
     "metadata": {},
     "output_type": "execute_result"
    }
   ],
   "source": [
    "list(map(lambda x,y: x+y, [1,2,3],[-1,-2,-3]))"
   ]
  },
  {
   "cell_type": "markdown",
   "id": "06f46de2-2f7d-466d-b96a-513b3cb3ef7d",
   "metadata": {},
   "source": [
    "(다른구현)-- 리스트컴프리헨션 "
   ]
  },
  {
   "cell_type": "code",
   "execution_count": 269,
   "id": "55e3261f-f6f3-4366-b02c-aa97a04edcda",
   "metadata": {
    "vscode": {
     "languageId": "python"
    }
   },
   "outputs": [
    {
     "data": {
      "text/plain": [
       "[0, 0, 0]"
      ]
     },
     "execution_count": 269,
     "metadata": {},
     "output_type": "execute_result"
    }
   ],
   "source": [
    "f = lambda x,y: x+y \n",
    "[f(x,y) for x,y in zip([1,2,3],[-1,-2,-3])] "
   ]
  },
  {
   "cell_type": "markdown",
   "id": "196402c1-3812-4f8b-a31f-066a202c9609",
   "metadata": {},
   "source": [
    "**quiz**"
   ]
  },
  {
   "cell_type": "code",
   "execution_count": 216,
   "id": "ee95f407-207e-41f2-9354-5a091e16cad6",
   "metadata": {
    "vscode": {
     "languageId": "python"
    }
   },
   "outputs": [],
   "source": [
    "t=np.linspace(-3.14,3.14,100)\n",
    "x=np.sin(t)\n",
    "y=np.cos(t)"
   ]
  },
  {
   "cell_type": "code",
   "execution_count": 218,
   "id": "228495ac-71e3-4c16-aaea-5bd9654e48a0",
   "metadata": {
    "vscode": {
     "languageId": "python"
    }
   },
   "outputs": [
    {
     "data": {
      "text/plain": [
       "[<matplotlib.lines.Line2D at 0x7f662b1b3790>]"
      ]
     },
     "execution_count": 218,
     "metadata": {},
     "output_type": "execute_result"
    },
    {
     "data": {
      "image/png": "[encoded data removed]",
      "text/plain": [
       "<Figure size 432x288 with 1 Axes>"
      ]
     },
     "metadata": {
      "needs_background": "light"
     },
     "output_type": "display_data"
    }
   ],
   "source": [
    "plt.plot(t,x)\n",
    "plt.plot(t,y)"
   ]
  },
  {
   "cell_type": "markdown",
   "id": "3237674b-279e-4deb-a21c-ff55c3fec319",
   "metadata": {},
   "source": [
    "$f(x,y) = \\max(x,y)$ 를 구현하여 ${\\bf x}$,${\\bf y}$ 각 원소에 적용하고 결과를 시각화 하라. "
   ]
  },
  {
   "cell_type": "code",
   "execution_count": 231,
   "id": "9be59fd0-984f-4606-bf11-fa259767eca2",
   "metadata": {
    "vscode": {
     "languageId": "python"
    }
   },
   "outputs": [
    {
     "data": {
      "text/plain": [
       "4"
      ]
     },
     "execution_count": 231,
     "metadata": {},
     "output_type": "execute_result"
    }
   ],
   "source": [
    "f = (lambda x,y: max(x,y))\n",
    "f(3,4)"
   ]
  },
  {
   "cell_type": "code",
   "execution_count": 236,
   "id": "4788b92a-370d-48c5-958c-c0a883c6de76",
   "metadata": {
    "vscode": {
     "languageId": "python"
    }
   },
   "outputs": [],
   "source": [
    "z= list(map(f,x,y))"
   ]
  },
  {
   "cell_type": "code",
   "execution_count": 238,
   "id": "bb237cbb-8b05-4dd3-b398-56429e26ea54",
   "metadata": {
    "vscode": {
     "languageId": "python"
    }
   },
   "outputs": [
    {
     "data": {
      "text/plain": [
       "[<matplotlib.lines.Line2D at 0x7f662b3d5b50>]"
      ]
     },
     "execution_count": 238,
     "metadata": {},
     "output_type": "execute_result"
    },
    {
     "data": {
      "image/png": "[encoded data removed]",
      "text/plain": [
       "<Figure size 432x288 with 1 Axes>"
      ]
     },
     "metadata": {
      "needs_background": "light"
     },
     "output_type": "display_data"
    }
   ],
   "source": [
    "plt.plot(t,z)"
   ]
  },
  {
   "cell_type": "markdown",
   "id": "db45869c-ae67-486d-a07d-cb24424aa332",
   "metadata": {},
   "source": [
    "`-` 예제4: map은 \"하나의 함수에 다양한 입력\"을 적용하는 경우에만 사용가능, 리스트컴프리헨션은 \"다양한 함수에 다양한 입력\" 지원 "
   ]
  },
  {
   "cell_type": "code",
   "execution_count": 239,
   "id": "db9ddd88-83bb-43f9-81bc-03fa5e81bcc4",
   "metadata": {
    "vscode": {
     "languageId": "python"
    }
   },
   "outputs": [],
   "source": [
    "flst = [lambda x: x+1, lambda x: x+2, lambda x:x+3] "
   ]
  },
  {
   "cell_type": "markdown",
   "id": "ba4d56c8-f643-43a4-b039-875ea88facf5",
   "metadata": {},
   "source": [
    "map으로 구현시도 $\\to$ 실패 "
   ]
  },
  {
   "cell_type": "code",
   "execution_count": 259,
   "id": "2825a705-084a-4bce-8e1f-da91539ae0cf",
   "metadata": {
    "vscode": {
     "languageId": "python"
    }
   },
   "outputs": [
    {
     "ename": "TypeError",
     "evalue": "'list' object is not callable",
     "output_type": "error",
     "traceback": [
      "\u001b[0;31m---------------------------------------------------------------------------\u001b[0m",
      "\u001b[0;31mTypeError\u001b[0m                                 Traceback (most recent call last)",
      "\u001b[0;32m<ipython-input-259-d48bf8019ad0>\u001b[0m in \u001b[0;36m<module>\u001b[0;34m\u001b[0m\n\u001b[0;32m----> 1\u001b[0;31m \u001b[0mlist\u001b[0m\u001b[0;34m(\u001b[0m\u001b[0mmap\u001b[0m\u001b[0;34m(\u001b[0m\u001b[0mflst\u001b[0m\u001b[0;34m,\u001b[0m\u001b[0;34m[\u001b[0m\u001b[0;34m-\u001b[0m\u001b[0;36m1\u001b[0m\u001b[0;34m,\u001b[0m\u001b[0;34m-\u001b[0m\u001b[0;36m2\u001b[0m\u001b[0;34m,\u001b[0m\u001b[0;34m-\u001b[0m\u001b[0;36m3\u001b[0m\u001b[0;34m]\u001b[0m\u001b[0;34m)\u001b[0m\u001b[0;34m)\u001b[0m \u001b[0;31m# 결과가 0,0,0\u001b[0m\u001b[0;34m\u001b[0m\u001b[0;34m\u001b[0m\u001b[0m\n\u001b[0m",
      "\u001b[0;31mTypeError\u001b[0m: 'list' object is not callable"
     ]
    }
   ],
   "source": [
    "list(map(flst,[-1,-2,-3])) # 결과가 0,0,0"
   ]
  },
  {
   "cell_type": "markdown",
   "id": "3bfdedef-73ec-49d8-89a8-b01df300d9ed",
   "metadata": {},
   "source": [
    "리스트컴프리헨션으로 구현시도 $\\to$ 성공 "
   ]
  },
  {
   "cell_type": "code",
   "execution_count": 272,
   "id": "8522634a-9db2-410e-b389-73eda3e74cd7",
   "metadata": {
    "vscode": {
     "languageId": "python"
    }
   },
   "outputs": [
    {
     "data": {
      "text/plain": [
       "[0, 0, 0]"
      ]
     },
     "execution_count": 272,
     "metadata": {},
     "output_type": "execute_result"
    }
   ],
   "source": [
    "[f(x) for f,x in zip(flst,[-1,-2,-3])]"
   ]
  },
  {
   "cell_type": "markdown",
   "id": "a6418f11-1353-4ab3-a915-f28e6f6ba4e8",
   "metadata": {},
   "source": [
    "`-` 종합: map과 리스트컴프리헨션과 비교\n",
    "\n",
    "- map은 for문을 위한 $i$등의 인덱스를 쓰지 않지만 리스트컴프리헨션은 필요함 \n",
    "- map은 좀더 리스트컴프리헨션보다 제약적으로 사용할 수 밖에 없음. "
   ]
  },
  {
   "cell_type": "markdown",
   "id": "844ce57c-c763-49f3-b3e9-42b2c9f40050",
   "metadata": {},
   "source": [
    "# imports"
   ]
  },
  {
   "cell_type": "code",
   "execution_count": 1,
   "id": "581353f3-0bd0-4063-a5b6-23505aae35b1",
   "metadata": {
    "vscode": {
     "languageId": "python"
    }
   },
   "outputs": [],
   "source": [
    "import numpy as np\n",
    "import pandas as pd\n",
    "import matplotlib.pyplot as plt "
   ]
  },
  {
   "cell_type": "markdown",
   "id": "171c2f18-a64e-4068-90c0-59fc1dcb694c",
   "metadata": {},
   "source": [
    "# Quiz"
   ]
  },
  {
   "cell_type": "markdown",
   "id": "c56cbcb4-c0fc-4570-8a59-39b9d6142782",
   "metadata": {},
   "source": [
    "다음과 같은 데이터프레임을 불러온 뒤 물음에 답하라 "
   ]
  },
  {
   "cell_type": "code",
   "execution_count": 518,
   "id": "f78cdd5b-2ada-4570-92e4-7efab96f8e89",
   "metadata": {
    "vscode": {
     "languageId": "python"
    }
   },
   "outputs": [
    {
     "data": {
      "text/html": [
       "<div>\n",
       "<style scoped>\n",
       "    .dataframe tbody tr th:only-of-type {\n",
       "        vertical-align: middle;\n",
       "    }\n",
       "\n",
       "    .dataframe tbody tr th {\n",
       "        vertical-align: top;\n",
       "    }\n",
       "\n",
       "    .dataframe thead th {\n",
       "        text-align: right;\n",
       "    }\n",
       "</style>\n",
       "<table border=\"1\" class=\"dataframe\">\n",
       "  <thead>\n",
       "    <tr style=\"text-align: right;\">\n",
       "      <th></th>\n",
       "      <th>att</th>\n",
       "      <th>rep</th>\n",
       "      <th>mid</th>\n",
       "      <th>fin</th>\n",
       "    </tr>\n",
       "  </thead>\n",
       "  <tbody>\n",
       "    <tr>\n",
       "      <th>0</th>\n",
       "      <td>65</td>\n",
       "      <td>45</td>\n",
       "      <td>0</td>\n",
       "      <td>10</td>\n",
       "    </tr>\n",
       "    <tr>\n",
       "      <th>1</th>\n",
       "      <td>95</td>\n",
       "      <td>30</td>\n",
       "      <td>60</td>\n",
       "      <td>10</td>\n",
       "    </tr>\n",
       "    <tr>\n",
       "      <th>2</th>\n",
       "      <td>65</td>\n",
       "      <td>85</td>\n",
       "      <td>15</td>\n",
       "      <td>20</td>\n",
       "    </tr>\n",
       "    <tr>\n",
       "      <th>3</th>\n",
       "      <td>55</td>\n",
       "      <td>35</td>\n",
       "      <td>35</td>\n",
       "      <td>5</td>\n",
       "    </tr>\n",
       "    <tr>\n",
       "      <th>4</th>\n",
       "      <td>80</td>\n",
       "      <td>60</td>\n",
       "      <td>55</td>\n",
       "      <td>70</td>\n",
       "    </tr>\n",
       "    <tr>\n",
       "      <th>...</th>\n",
       "      <td>...</td>\n",
       "      <td>...</td>\n",
       "      <td>...</td>\n",
       "      <td>...</td>\n",
       "    </tr>\n",
       "    <tr>\n",
       "      <th>195</th>\n",
       "      <td>55</td>\n",
       "      <td>70</td>\n",
       "      <td>40</td>\n",
       "      <td>95</td>\n",
       "    </tr>\n",
       "    <tr>\n",
       "      <th>196</th>\n",
       "      <td>65</td>\n",
       "      <td>85</td>\n",
       "      <td>25</td>\n",
       "      <td>85</td>\n",
       "    </tr>\n",
       "    <tr>\n",
       "      <th>197</th>\n",
       "      <td>85</td>\n",
       "      <td>85</td>\n",
       "      <td>100</td>\n",
       "      <td>10</td>\n",
       "    </tr>\n",
       "    <tr>\n",
       "      <th>198</th>\n",
       "      <td>80</td>\n",
       "      <td>65</td>\n",
       "      <td>35</td>\n",
       "      <td>60</td>\n",
       "    </tr>\n",
       "    <tr>\n",
       "      <th>199</th>\n",
       "      <td>50</td>\n",
       "      <td>95</td>\n",
       "      <td>45</td>\n",
       "      <td>85</td>\n",
       "    </tr>\n",
       "  </tbody>\n",
       "</table>\n",
       "<p>200 rows × 4 columns</p>\n",
       "</div>"
      ],
      "text/plain": [
       "     att  rep  mid  fin\n",
       "0     65   45    0   10\n",
       "1     95   30   60   10\n",
       "2     65   85   15   20\n",
       "3     55   35   35    5\n",
       "4     80   60   55   70\n",
       "..   ...  ...  ...  ...\n",
       "195   55   70   40   95\n",
       "196   65   85   25   85\n",
       "197   85   85  100   10\n",
       "198   80   65   35   60\n",
       "199   50   95   45   85\n",
       "\n",
       "[200 rows x 4 columns]"
      ]
     },
     "execution_count": 518,
     "metadata": {},
     "output_type": "execute_result"
    }
   ],
   "source": [
    "df=pd.read_csv('https://raw.githubusercontent.com/guebin/DV2022/master/_notebooks/dv2022.csv')\n",
    "df"
   ]
  },
  {
   "cell_type": "markdown",
   "id": "203ff5e2-a146-48ea-b8cd-34d5de0f84b0",
   "metadata": {},
   "source": [
    "`(1)` 기말고사 성적이 중간고사 성적보다 향상된 학생들을 출력하라. 즉 mid < fin 인 학생들을 출력하라. (다양한 방법으로 연습할 것, 제출은 한 가지 방법으로 구현해도 감점없음) "
   ]
  },
  {
   "cell_type": "code",
   "execution_count": 521,
   "id": "c69c8998-90cb-4319-9dc9-359301fa0d91",
   "metadata": {
    "vscode": {
     "languageId": "python"
    }
   },
   "outputs": [
    {
     "data": {
      "text/html": [
       "<div>\n",
       "<style scoped>\n",
       "    .dataframe tbody tr th:only-of-type {\n",
       "        vertical-align: middle;\n",
       "    }\n",
       "\n",
       "    .dataframe tbody tr th {\n",
       "        vertical-align: top;\n",
       "    }\n",
       "\n",
       "    .dataframe thead th {\n",
       "        text-align: right;\n",
       "    }\n",
       "</style>\n",
       "<table border=\"1\" class=\"dataframe\">\n",
       "  <thead>\n",
       "    <tr style=\"text-align: right;\">\n",
       "      <th></th>\n",
       "      <th>att</th>\n",
       "      <th>rep</th>\n",
       "      <th>mid</th>\n",
       "      <th>fin</th>\n",
       "    </tr>\n",
       "  </thead>\n",
       "  <tbody>\n",
       "    <tr>\n",
       "      <th>0</th>\n",
       "      <td>65</td>\n",
       "      <td>45</td>\n",
       "      <td>0</td>\n",
       "      <td>10</td>\n",
       "    </tr>\n",
       "    <tr>\n",
       "      <th>2</th>\n",
       "      <td>65</td>\n",
       "      <td>85</td>\n",
       "      <td>15</td>\n",
       "      <td>20</td>\n",
       "    </tr>\n",
       "    <tr>\n",
       "      <th>4</th>\n",
       "      <td>80</td>\n",
       "      <td>60</td>\n",
       "      <td>55</td>\n",
       "      <td>70</td>\n",
       "    </tr>\n",
       "    <tr>\n",
       "      <th>5</th>\n",
       "      <td>75</td>\n",
       "      <td>40</td>\n",
       "      <td>75</td>\n",
       "      <td>85</td>\n",
       "    </tr>\n",
       "    <tr>\n",
       "      <th>6</th>\n",
       "      <td>65</td>\n",
       "      <td>70</td>\n",
       "      <td>60</td>\n",
       "      <td>75</td>\n",
       "    </tr>\n",
       "    <tr>\n",
       "      <th>...</th>\n",
       "      <td>...</td>\n",
       "      <td>...</td>\n",
       "      <td>...</td>\n",
       "      <td>...</td>\n",
       "    </tr>\n",
       "    <tr>\n",
       "      <th>194</th>\n",
       "      <td>65</td>\n",
       "      <td>40</td>\n",
       "      <td>65</td>\n",
       "      <td>70</td>\n",
       "    </tr>\n",
       "    <tr>\n",
       "      <th>195</th>\n",
       "      <td>55</td>\n",
       "      <td>70</td>\n",
       "      <td>40</td>\n",
       "      <td>95</td>\n",
       "    </tr>\n",
       "    <tr>\n",
       "      <th>196</th>\n",
       "      <td>65</td>\n",
       "      <td>85</td>\n",
       "      <td>25</td>\n",
       "      <td>85</td>\n",
       "    </tr>\n",
       "    <tr>\n",
       "      <th>198</th>\n",
       "      <td>80</td>\n",
       "      <td>65</td>\n",
       "      <td>35</td>\n",
       "      <td>60</td>\n",
       "    </tr>\n",
       "    <tr>\n",
       "      <th>199</th>\n",
       "      <td>50</td>\n",
       "      <td>95</td>\n",
       "      <td>45</td>\n",
       "      <td>85</td>\n",
       "    </tr>\n",
       "  </tbody>\n",
       "</table>\n",
       "<p>93 rows × 4 columns</p>\n",
       "</div>"
      ],
      "text/plain": [
       "     att  rep  mid  fin\n",
       "0     65   45    0   10\n",
       "2     65   85   15   20\n",
       "4     80   60   55   70\n",
       "5     75   40   75   85\n",
       "6     65   70   60   75\n",
       "..   ...  ...  ...  ...\n",
       "194   65   40   65   70\n",
       "195   55   70   40   95\n",
       "196   65   85   25   85\n",
       "198   80   65   35   60\n",
       "199   50   95   45   85\n",
       "\n",
       "[93 rows x 4 columns]"
      ]
     },
     "execution_count": 521,
     "metadata": {},
     "output_type": "execute_result"
    }
   ],
   "source": [
    "# 구현결과가 아래와 같아야 한다. "
   ]
  },
  {
   "cell_type": "markdown",
   "id": "9fe9feba-09dc-4e25-a411-5659fc4b0a4f",
   "metadata": {},
   "source": [
    "`(2)` 기말고사 성적이 중간고사 성적보다 향상된 학생들의 출석과 레포트 점수를 출력하라. "
   ]
  },
  {
   "cell_type": "code",
   "execution_count": 523,
   "id": "8ca6e2ce-a4d5-48c3-96b2-50b48aa4b261",
   "metadata": {
    "vscode": {
     "languageId": "python"
    }
   },
   "outputs": [
    {
     "data": {
      "text/html": [
       "<div>\n",
       "<style scoped>\n",
       "    .dataframe tbody tr th:only-of-type {\n",
       "        vertical-align: middle;\n",
       "    }\n",
       "\n",
       "    .dataframe tbody tr th {\n",
       "        vertical-align: top;\n",
       "    }\n",
       "\n",
       "    .dataframe thead th {\n",
       "        text-align: right;\n",
       "    }\n",
       "</style>\n",
       "<table border=\"1\" class=\"dataframe\">\n",
       "  <thead>\n",
       "    <tr style=\"text-align: right;\">\n",
       "      <th></th>\n",
       "      <th>att</th>\n",
       "      <th>rep</th>\n",
       "    </tr>\n",
       "  </thead>\n",
       "  <tbody>\n",
       "    <tr>\n",
       "      <th>0</th>\n",
       "      <td>65</td>\n",
       "      <td>45</td>\n",
       "    </tr>\n",
       "    <tr>\n",
       "      <th>2</th>\n",
       "      <td>65</td>\n",
       "      <td>85</td>\n",
       "    </tr>\n",
       "    <tr>\n",
       "      <th>4</th>\n",
       "      <td>80</td>\n",
       "      <td>60</td>\n",
       "    </tr>\n",
       "    <tr>\n",
       "      <th>5</th>\n",
       "      <td>75</td>\n",
       "      <td>40</td>\n",
       "    </tr>\n",
       "    <tr>\n",
       "      <th>6</th>\n",
       "      <td>65</td>\n",
       "      <td>70</td>\n",
       "    </tr>\n",
       "    <tr>\n",
       "      <th>...</th>\n",
       "      <td>...</td>\n",
       "      <td>...</td>\n",
       "    </tr>\n",
       "    <tr>\n",
       "      <th>194</th>\n",
       "      <td>65</td>\n",
       "      <td>40</td>\n",
       "    </tr>\n",
       "    <tr>\n",
       "      <th>195</th>\n",
       "      <td>55</td>\n",
       "      <td>70</td>\n",
       "    </tr>\n",
       "    <tr>\n",
       "      <th>196</th>\n",
       "      <td>65</td>\n",
       "      <td>85</td>\n",
       "    </tr>\n",
       "    <tr>\n",
       "      <th>198</th>\n",
       "      <td>80</td>\n",
       "      <td>65</td>\n",
       "    </tr>\n",
       "    <tr>\n",
       "      <th>199</th>\n",
       "      <td>50</td>\n",
       "      <td>95</td>\n",
       "    </tr>\n",
       "  </tbody>\n",
       "</table>\n",
       "<p>93 rows × 2 columns</p>\n",
       "</div>"
      ],
      "text/plain": [
       "     att  rep\n",
       "0     65   45\n",
       "2     65   85\n",
       "4     80   60\n",
       "5     75   40\n",
       "6     65   70\n",
       "..   ...  ...\n",
       "194   65   40\n",
       "195   55   70\n",
       "196   65   85\n",
       "198   80   65\n",
       "199   50   95\n",
       "\n",
       "[93 rows x 2 columns]"
      ]
     },
     "execution_count": 523,
     "metadata": {},
     "output_type": "execute_result"
    }
   ],
   "source": [
    "# 구현결과가 아래와 같아야 한다. "
   ]
  },
  {
   "cell_type": "code",
   "execution_count": 64,
   "id": "eb0a9caf-80b5-485f-b110-c318b09931df",
   "metadata": {
    "vscode": {
     "languageId": "python"
    }
   },
   "outputs": [
    {
     "data": {
      "text/html": [
       "<div>\n",
       "<style scoped>\n",
       "    .dataframe tbody tr th:only-of-type {\n",
       "        vertical-align: middle;\n",
       "    }\n",
       "\n",
       "    .dataframe tbody tr th {\n",
       "        vertical-align: top;\n",
       "    }\n",
       "\n",
       "    .dataframe thead th {\n",
       "        text-align: right;\n",
       "    }\n",
       "</style>\n",
       "<table border=\"1\" class=\"dataframe\">\n",
       "  <thead>\n",
       "    <tr style=\"text-align: right;\">\n",
       "      <th></th>\n",
       "      <th>a</th>\n",
       "      <th>b</th>\n",
       "      <th>c</th>\n",
       "      <th>d</th>\n",
       "    </tr>\n",
       "  </thead>\n",
       "  <tbody>\n",
       "    <tr>\n",
       "      <th>0</th>\n",
       "      <td>1</td>\n",
       "      <td>2</td>\n",
       "      <td>3</td>\n",
       "      <td>4</td>\n",
       "    </tr>\n",
       "    <tr>\n",
       "      <th>1</th>\n",
       "      <td>2</td>\n",
       "      <td>3</td>\n",
       "      <td>4</td>\n",
       "      <td>5</td>\n",
       "    </tr>\n",
       "    <tr>\n",
       "      <th>2</th>\n",
       "      <td>3</td>\n",
       "      <td>4</td>\n",
       "      <td>5</td>\n",
       "      <td>6</td>\n",
       "    </tr>\n",
       "    <tr>\n",
       "      <th>3</th>\n",
       "      <td>4</td>\n",
       "      <td>5</td>\n",
       "      <td>6</td>\n",
       "      <td>7</td>\n",
       "    </tr>\n",
       "  </tbody>\n",
       "</table>\n",
       "</div>"
      ],
      "text/plain": [
       "   a  b  c  d\n",
       "0  1  2  3  4\n",
       "1  2  3  4  5\n",
       "2  3  4  5  6\n",
       "3  4  5  6  7"
      ]
     },
     "execution_count": 64,
     "metadata": {},
     "output_type": "execute_result"
    }
   ],
   "source": [
    "df = pd.DataFrame({'a':[1,2,3,4],'b':[2,3,4,5],'c':[3,4,5,6],'d':[4,5,6,7]})\n",
    "df"
   ]
  },
  {
   "cell_type": "markdown",
   "id": "44ec6f82-07c3-4619-a3af-f390b59b9a7b",
   "metadata": {},
   "source": [
    "## `2`."
   ]
  },
  {
   "cell_type": "markdown",
   "id": "d4ac5851-9a4e-4c36-a0f7-7c33ef3ca2d9",
   "metadata": {},
   "source": [
    "아래의 결과를 관찰하고 drop의 기능을 유추하라. "
   ]
  },
  {
   "cell_type": "markdown",
   "id": "11494d3e-b95e-44df-b681-15dd412499a1",
   "metadata": {},
   "source": [
    "(예시1)"
   ]
  },
  {
   "cell_type": "code",
   "execution_count": 65,
   "id": "669c32da-894c-44cd-9838-dcc1a69217d2",
   "metadata": {
    "vscode": {
     "languageId": "python"
    }
   },
   "outputs": [
    {
     "data": {
      "text/html": [
       "<div>\n",
       "<style scoped>\n",
       "    .dataframe tbody tr th:only-of-type {\n",
       "        vertical-align: middle;\n",
       "    }\n",
       "\n",
       "    .dataframe tbody tr th {\n",
       "        vertical-align: top;\n",
       "    }\n",
       "\n",
       "    .dataframe thead th {\n",
       "        text-align: right;\n",
       "    }\n",
       "</style>\n",
       "<table border=\"1\" class=\"dataframe\">\n",
       "  <thead>\n",
       "    <tr style=\"text-align: right;\">\n",
       "      <th></th>\n",
       "      <th>b</th>\n",
       "      <th>c</th>\n",
       "      <th>d</th>\n",
       "    </tr>\n",
       "  </thead>\n",
       "  <tbody>\n",
       "    <tr>\n",
       "      <th>0</th>\n",
       "      <td>2</td>\n",
       "      <td>3</td>\n",
       "      <td>4</td>\n",
       "    </tr>\n",
       "    <tr>\n",
       "      <th>1</th>\n",
       "      <td>3</td>\n",
       "      <td>4</td>\n",
       "      <td>5</td>\n",
       "    </tr>\n",
       "    <tr>\n",
       "      <th>2</th>\n",
       "      <td>4</td>\n",
       "      <td>5</td>\n",
       "      <td>6</td>\n",
       "    </tr>\n",
       "    <tr>\n",
       "      <th>3</th>\n",
       "      <td>5</td>\n",
       "      <td>6</td>\n",
       "      <td>7</td>\n",
       "    </tr>\n",
       "  </tbody>\n",
       "</table>\n",
       "</div>"
      ],
      "text/plain": [
       "   b  c  d\n",
       "0  2  3  4\n",
       "1  3  4  5\n",
       "2  4  5  6\n",
       "3  5  6  7"
      ]
     },
     "execution_count": 65,
     "metadata": {},
     "output_type": "execute_result"
    }
   ],
   "source": [
    "df.drop(columns='a')"
   ]
  },
  {
   "cell_type": "markdown",
   "id": "dd84a836-48bc-4763-8157-c0a92ab3e716",
   "metadata": {},
   "source": [
    "(예시2)"
   ]
  },
  {
   "cell_type": "code",
   "execution_count": 66,
   "id": "b1273532-3263-4ed0-8028-e98d7a0a94fc",
   "metadata": {
    "vscode": {
     "languageId": "python"
    }
   },
   "outputs": [
    {
     "data": {
      "text/html": [
       "<div>\n",
       "<style scoped>\n",
       "    .dataframe tbody tr th:only-of-type {\n",
       "        vertical-align: middle;\n",
       "    }\n",
       "\n",
       "    .dataframe tbody tr th {\n",
       "        vertical-align: top;\n",
       "    }\n",
       "\n",
       "    .dataframe thead th {\n",
       "        text-align: right;\n",
       "    }\n",
       "</style>\n",
       "<table border=\"1\" class=\"dataframe\">\n",
       "  <thead>\n",
       "    <tr style=\"text-align: right;\">\n",
       "      <th></th>\n",
       "      <th>c</th>\n",
       "      <th>d</th>\n",
       "    </tr>\n",
       "  </thead>\n",
       "  <tbody>\n",
       "    <tr>\n",
       "      <th>0</th>\n",
       "      <td>3</td>\n",
       "      <td>4</td>\n",
       "    </tr>\n",
       "    <tr>\n",
       "      <th>1</th>\n",
       "      <td>4</td>\n",
       "      <td>5</td>\n",
       "    </tr>\n",
       "    <tr>\n",
       "      <th>2</th>\n",
       "      <td>5</td>\n",
       "      <td>6</td>\n",
       "    </tr>\n",
       "    <tr>\n",
       "      <th>3</th>\n",
       "      <td>6</td>\n",
       "      <td>7</td>\n",
       "    </tr>\n",
       "  </tbody>\n",
       "</table>\n",
       "</div>"
      ],
      "text/plain": [
       "   c  d\n",
       "0  3  4\n",
       "1  4  5\n",
       "2  5  6\n",
       "3  6  7"
      ]
     },
     "execution_count": 66,
     "metadata": {},
     "output_type": "execute_result"
    }
   ],
   "source": [
    "df.drop(columns=['a','b'])"
   ]
  },
  {
   "cell_type": "markdown",
   "id": "ddf613d1-57a4-4119-b894-5f01581509bf",
   "metadata": {},
   "source": [
    "(예시3)"
   ]
  },
  {
   "cell_type": "code",
   "execution_count": 67,
   "id": "3d9b4e2a-e621-4eab-8849-954577b536e2",
   "metadata": {
    "vscode": {
     "languageId": "python"
    }
   },
   "outputs": [
    {
     "data": {
      "text/html": [
       "<div>\n",
       "<style scoped>\n",
       "    .dataframe tbody tr th:only-of-type {\n",
       "        vertical-align: middle;\n",
       "    }\n",
       "\n",
       "    .dataframe tbody tr th {\n",
       "        vertical-align: top;\n",
       "    }\n",
       "\n",
       "    .dataframe thead th {\n",
       "        text-align: right;\n",
       "    }\n",
       "</style>\n",
       "<table border=\"1\" class=\"dataframe\">\n",
       "  <thead>\n",
       "    <tr style=\"text-align: right;\">\n",
       "      <th></th>\n",
       "      <th>a</th>\n",
       "      <th>b</th>\n",
       "      <th>c</th>\n",
       "      <th>d</th>\n",
       "    </tr>\n",
       "  </thead>\n",
       "  <tbody>\n",
       "    <tr>\n",
       "      <th>1</th>\n",
       "      <td>2</td>\n",
       "      <td>3</td>\n",
       "      <td>4</td>\n",
       "      <td>5</td>\n",
       "    </tr>\n",
       "    <tr>\n",
       "      <th>2</th>\n",
       "      <td>3</td>\n",
       "      <td>4</td>\n",
       "      <td>5</td>\n",
       "      <td>6</td>\n",
       "    </tr>\n",
       "    <tr>\n",
       "      <th>3</th>\n",
       "      <td>4</td>\n",
       "      <td>5</td>\n",
       "      <td>6</td>\n",
       "      <td>7</td>\n",
       "    </tr>\n",
       "  </tbody>\n",
       "</table>\n",
       "</div>"
      ],
      "text/plain": [
       "   a  b  c  d\n",
       "1  2  3  4  5\n",
       "2  3  4  5  6\n",
       "3  4  5  6  7"
      ]
     },
     "execution_count": 67,
     "metadata": {},
     "output_type": "execute_result"
    }
   ],
   "source": [
    "df.drop(index=0)"
   ]
  },
  {
   "cell_type": "markdown",
   "id": "6f23dc05-53d0-476f-a7a6-64728abd4fd6",
   "metadata": {},
   "source": [
    "(예시4)"
   ]
  },
  {
   "cell_type": "code",
   "execution_count": 71,
   "id": "31af93ac-09a4-4728-af25-8febffc31d99",
   "metadata": {
    "vscode": {
     "languageId": "python"
    }
   },
   "outputs": [
    {
     "data": {
      "text/html": [
       "<div>\n",
       "<style scoped>\n",
       "    .dataframe tbody tr th:only-of-type {\n",
       "        vertical-align: middle;\n",
       "    }\n",
       "\n",
       "    .dataframe tbody tr th {\n",
       "        vertical-align: top;\n",
       "    }\n",
       "\n",
       "    .dataframe thead th {\n",
       "        text-align: right;\n",
       "    }\n",
       "</style>\n",
       "<table border=\"1\" class=\"dataframe\">\n",
       "  <thead>\n",
       "    <tr style=\"text-align: right;\">\n",
       "      <th></th>\n",
       "      <th>a</th>\n",
       "      <th>b</th>\n",
       "      <th>c</th>\n",
       "      <th>d</th>\n",
       "    </tr>\n",
       "  </thead>\n",
       "  <tbody>\n",
       "    <tr>\n",
       "      <th>0</th>\n",
       "      <td>1</td>\n",
       "      <td>2</td>\n",
       "      <td>3</td>\n",
       "      <td>4</td>\n",
       "    </tr>\n",
       "    <tr>\n",
       "      <th>1</th>\n",
       "      <td>2</td>\n",
       "      <td>3</td>\n",
       "      <td>4</td>\n",
       "      <td>5</td>\n",
       "    </tr>\n",
       "  </tbody>\n",
       "</table>\n",
       "</div>"
      ],
      "text/plain": [
       "   a  b  c  d\n",
       "0  1  2  3  4\n",
       "1  2  3  4  5"
      ]
     },
     "execution_count": 71,
     "metadata": {},
     "output_type": "execute_result"
    }
   ],
   "source": [
    "df.drop(index=range(2,4))"
   ]
  },
  {
   "cell_type": "markdown",
   "id": "0d367699-8cc8-4e8e-b707-4e1f6c99f0e3",
   "metadata": {},
   "source": [
    "문제: `df` 에서 a,c열을 삭제하고 첫행을 삭제하라. "
   ]
  },
  {
   "cell_type": "code",
   "execution_count": 78,
   "id": "f8e2f70a-d296-411a-bbfb-7c835f296945",
   "metadata": {
    "vscode": {
     "languageId": "python"
    }
   },
   "outputs": [
    {
     "data": {
      "text/html": [
       "<div>\n",
       "<style scoped>\n",
       "    .dataframe tbody tr th:only-of-type {\n",
       "        vertical-align: middle;\n",
       "    }\n",
       "\n",
       "    .dataframe tbody tr th {\n",
       "        vertical-align: top;\n",
       "    }\n",
       "\n",
       "    .dataframe thead th {\n",
       "        text-align: right;\n",
       "    }\n",
       "</style>\n",
       "<table border=\"1\" class=\"dataframe\">\n",
       "  <thead>\n",
       "    <tr style=\"text-align: right;\">\n",
       "      <th></th>\n",
       "      <th>b</th>\n",
       "      <th>d</th>\n",
       "    </tr>\n",
       "  </thead>\n",
       "  <tbody>\n",
       "    <tr>\n",
       "      <th>1</th>\n",
       "      <td>3</td>\n",
       "      <td>5</td>\n",
       "    </tr>\n",
       "    <tr>\n",
       "      <th>2</th>\n",
       "      <td>4</td>\n",
       "      <td>6</td>\n",
       "    </tr>\n",
       "    <tr>\n",
       "      <th>3</th>\n",
       "      <td>5</td>\n",
       "      <td>7</td>\n",
       "    </tr>\n",
       "  </tbody>\n",
       "</table>\n",
       "</div>"
      ],
      "text/plain": [
       "   b  d\n",
       "1  3  5\n",
       "2  4  6\n",
       "3  5  7"
      ]
     },
     "execution_count": 78,
     "metadata": {},
     "output_type": "execute_result"
    }
   ],
   "source": [
    "#출력결과는 아래와 같아야 한다. "
   ]
  }
 ],
 "metadata": {
  "kernelspec": {
   "display_name": "Python 3 (ipykernel)",
   "language": "python",
   "name": "python3"
  },
  "language_info": {
   "codemirror_mode": {
    "name": "ipython",
    "version": 3
   },
   "file_extension": ".py",
   "mimetype": "text/x-python",
   "name": "python",
   "nbconvert_exporter": "python",
   "pygments_lexer": "ipython3",
   "version": "3.10.12"
  }
 },
 "nbformat": 4,
 "nbformat_minor": 5
}
