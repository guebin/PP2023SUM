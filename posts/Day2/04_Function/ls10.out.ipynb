{
  "cells": [
    {
      "cell_type": "markdown",
      "metadata": {},
      "source": [
        "# Lesson 10: functools\n",
        "\n",
        "최규빈  \n",
        "2023-07-25\n",
        "\n",
        "# `cmp_to_key`\n",
        "\n",
        "> `cmp_to_key`는 comparison to key의 약자이다.\n",
        "\n",
        "`-` 나만의 기준으로 정렬하고 싶다면?"
      ],
      "id": "45ce287c-8c4f-4a5b-bd40-b73344c0d943"
    },
    {
      "cell_type": "code",
      "execution_count": 15,
      "metadata": {},
      "outputs": [],
      "source": [
        "import functools"
      ],
      "id": "3a6b1497-4ea5-4f40-b307-f394798602b7"
    },
    {
      "cell_type": "code",
      "execution_count": 21,
      "metadata": {},
      "outputs": [],
      "source": [
        "def key_func(a, b):\n",
        "    return len(a) - len(b)"
      ],
      "id": "8655f58a-cb73-41fc-bb88-cf85161d411c"
    },
    {
      "cell_type": "code",
      "execution_count": 22,
      "metadata": {},
      "outputs": [],
      "source": [
        "sorted(['abc','abcd','cd','a'], key=functools.cmp_to_key(key_func))"
      ],
      "id": "2361580e-f114-479e-adac-79b47f80fe75"
    },
    {
      "cell_type": "markdown",
      "metadata": {},
      "source": [
        "# `lru_cache`"
      ],
      "id": "489bbe52-cd68-436b-b8f1-47599c210fb1"
    },
    {
      "cell_type": "code",
      "execution_count": 23,
      "metadata": {},
      "outputs": [
        {
          "output_type": "stream",
          "name": "stdout",
          "text": [
            "55\n",
            "55\n",
            "5\n",
            "6765"
          ]
        }
      ],
      "source": [
        "@functools.lru_cache(maxsize=3)  # 캐시 크기를 3으로 설정\n",
        "def fibonacci(n):\n",
        "    if n <= 2:\n",
        "        return 1\n",
        "    return fibonacci(n - 1) + fibonacci(n - 2)\n",
        "\n",
        "# 처음 호출은 계산이 필요하므로 느릴 수 있습니다.\n",
        "print(fibonacci(10))  # 출력 결과: 55\n",
        "\n",
        "# 같은 인자로 함수를 다시 호출하면 캐시된 결과가 반환되므로 빠릅니다.\n",
        "print(fibonacci(10))  # 출력 결과: 55\n",
        "\n",
        "print(fibonacci(5))  # 출력 결과: 5\n",
        "\n",
        "# 이전에 계산되지 않은 인자는 캐시되지 않으므로 느립니다.\n",
        "print(fibonacci(20))  # 출력 결과: 6765\n"
      ],
      "id": "3c58dffb-31ea-446f-92ab-dfa364af906c"
    },
    {
      "cell_type": "markdown",
      "metadata": {},
      "source": [
        "# `partial`"
      ],
      "id": "71abd554-c480-4106-a01e-836951a07b4e"
    },
    {
      "cell_type": "code",
      "execution_count": null,
      "metadata": {},
      "outputs": [],
      "source": [
        "import functools\n",
        "\n",
        "# 원본 함수\n",
        "def multiply(a, b):\n",
        "    return a * b\n",
        "\n",
        "# functools.partial() 함수를 사용하여 첫 번째 인자를 2로 고정한 새로운 함수 생성\n",
        "double = functools.partial(multiply, 2)\n",
        "\n",
        "# 새로운 함수를 사용하여 나머지 인자를 입력하여 곱셈 수행\n",
        "result1 = double(3)  # 2 * 3 = 6\n",
        "result2 = double(5)  # 2 * 5 = 10\n",
        "\n",
        "print(result1)  # 출력 결과: 6\n",
        "print(result2)  # 출력 결과: 10\n"
      ],
      "id": "e9e6aa79-c884-42af-b7a6-dae060186e3a"
    },
    {
      "cell_type": "markdown",
      "metadata": {},
      "source": [
        "# `reduce`"
      ],
      "id": "a4e3901a-d9cb-4aae-abad-538b6a167669"
    },
    {
      "cell_type": "code",
      "execution_count": 24,
      "metadata": {},
      "outputs": [
        {
          "output_type": "stream",
          "name": "stdout",
          "text": [
            "15"
          ]
        }
      ],
      "source": [
        "import functools\n",
        "\n",
        "data = [1, 2, 3, 4, 5]\n",
        "result = functools.reduce(lambda x, y: x + y, data)\n",
        "print(result)  # 15 출력"
      ],
      "id": "8f961dbb-09ed-4870-b62d-450abc6465ce"
    },
    {
      "cell_type": "code",
      "execution_count": 25,
      "metadata": {},
      "outputs": [
        {
          "output_type": "stream",
          "name": "stdout",
          "text": [
            "8"
          ]
        }
      ],
      "source": [
        "num_list = [3, 2, 8, 1, 6, 7]\n",
        "max_num = functools.reduce(lambda x, y: x if x > y else y, num_list)\n",
        "print(max_num)  # 8 출력"
      ],
      "id": "e8e8fb1a-7126-421a-bb59-2cc16107d72a"
    },
    {
      "cell_type": "markdown",
      "metadata": {},
      "source": [
        "# `wraps`"
      ],
      "id": "abf32388-b8dd-41ea-a07e-3c0a738e9025"
    },
    {
      "cell_type": "code",
      "execution_count": 26,
      "metadata": {},
      "outputs": [
        {
          "output_type": "stream",
          "name": "stdout",
          "text": [
            "Calling the decorated function\n",
            "Hello, Alice!\n",
            "say_hello\n",
            "Greet someone by their name."
          ]
        }
      ],
      "source": [
        "import functools\n",
        "\n",
        "# 데코레이터 함수\n",
        "def my_decorator(func):\n",
        "    @functools.wraps(func)\n",
        "    def wrapper(*args, **kwargs):\n",
        "        print(\"Calling the decorated function\")\n",
        "        return func(*args, **kwargs)\n",
        "    return wrapper\n",
        "\n",
        "@my_decorator\n",
        "def say_hello(name):\n",
        "    \"\"\"Greet someone by their name.\"\"\"\n",
        "    print(f\"Hello, {name}!\")\n",
        "\n",
        "# 데코레이터를 사용하여 함수 호출\n",
        "say_hello(\"Alice\")\n",
        "print(say_hello.__name__)  # 출력 결과: \"say_hello\"\n",
        "print(say_hello.__doc__)   # 출력 결과: \"Greet someone by their name.\"\n"
      ],
      "id": "2d5b64fe-2235-4be0-9756-aae55fad596a"
    }
  ],
  "nbformat": 4,
  "nbformat_minor": 5,
  "metadata": {
    "kernelspec": {
      "name": "python3",
      "display_name": "Python 3 (ipykernel)",
      "language": "python"
    },
    "language_info": {
      "name": "python",
      "codemirror_mode": {
        "name": "ipython",
        "version": "3"
      },
      "file_extension": ".py",
      "mimetype": "text/x-python",
      "nbconvert_exporter": "python",
      "pygments_lexer": "ipython3",
      "version": "3.10.12"
    }
  }
}