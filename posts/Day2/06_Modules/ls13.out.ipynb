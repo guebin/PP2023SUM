{
  "cells": [
    {
      "cell_type": "markdown",
      "metadata": {},
      "source": [
        "# Lesson 13: 데이터 입출력\n",
        "\n",
        "최규빈  \n",
        "2023-07-25\n",
        "\n",
        "# 입출력\n",
        "\n",
        "## sys"
      ],
      "id": "e6d377f1-92fc-4c84-8659-1902b7532e46"
    },
    {
      "cell_type": "code",
      "execution_count": 1,
      "metadata": {},
      "outputs": [],
      "source": [
        "import sys \n",
        "\n",
        "sys.stdin.readline()"
      ],
      "id": "e43c827b-713a-4777-a6d6-e6cf78c96a45"
    },
    {
      "cell_type": "code",
      "execution_count": 65,
      "metadata": {},
      "outputs": [],
      "source": [
        "sys.argv "
      ],
      "id": "feef364c-1cc1-4dbb-ab7f-92310b0641ef"
    },
    {
      "cell_type": "markdown",
      "metadata": {},
      "source": [
        "## os.path\n",
        "\n",
        "## pathlib\n",
        "\n",
        "## json\n",
        "\n",
        "## base64\n",
        "\n",
        "## html.parser"
      ],
      "id": "88d9e4ad-d347-430d-88b0-653388c6977e"
    }
  ],
  "nbformat": 4,
  "nbformat_minor": 5,
  "metadata": {
    "kernelspec": {
      "name": "python3",
      "display_name": "Python 3 (ipykernel)",
      "language": "python"
    },
    "language_info": {
      "name": "python",
      "codemirror_mode": {
        "name": "ipython",
        "version": "3"
      },
      "file_extension": ".py",
      "mimetype": "text/x-python",
      "nbconvert_exporter": "python",
      "pygments_lexer": "ipython3",
      "version": "3.10.12"
    }
  }
}