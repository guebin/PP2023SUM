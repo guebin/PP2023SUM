{
  "cells": [
    {
      "cell_type": "markdown",
      "metadata": {},
      "source": [
        "# Lesson 12: pandas + lambda, map\n",
        "\n",
        "최규빈  \n",
        "2023-07-25\n",
        "\n",
        "<a href=\"https://colab.research.google.com/github/guebin/IP2023WIN/blob/main/posts/Day2/06_Functions, ControlFlow/2023-01-31-Lesson12.ipynb\"><img src=\"https://colab.research.google.com/assets/colab-badge.svg\" style=\"text-align: left\"></a>\n",
        "\n",
        "# ref\n",
        "\n",
        "<https://guebin.github.io/DV2022/posts/2022-10-12-6wk-12.html#판다스-인덱싱-1단계-인덱싱의-4가지-컨셉>\n",
        "\n",
        "<https://guebin.github.io/DV2022/posts/2022-10-17-7wk-1.html>\n",
        "\n",
        "<https://guebin.github.io/DV2022/posts/2022-10-24-8wk-12.html#판다스-새로운-열의-할당-2단계-연쇄할당>\n",
        "\n",
        "# imports"
      ],
      "id": "1952cc99-f3ee-4760-a535-d42deb9a1e3f"
    },
    {
      "cell_type": "code",
      "execution_count": 1,
      "metadata": {
        "vscode": {
          "languageId": "python"
        }
      },
      "outputs": [],
      "source": [
        "import numpy as np\n",
        "import pandas as pd\n",
        "import matplotlib.pyplot as plt "
      ],
      "id": "bced11ae-41b1-4149-816f-cb2b443b50b6"
    },
    {
      "cell_type": "markdown",
      "metadata": {},
      "source": [
        "# 복습\n",
        "\n",
        "`-` 아래와 같은 정보를 가지는 데이터 프레임을 생성하라.\n",
        "\n",
        "|     | att | rep | mid | fin |\n",
        "|:---:|:---:|:---:|:---:|:---:|\n",
        "|  0  | 65  | 45  |  0  | 10  |\n",
        "|  1  | 25  | 45  | 20  | 50  |\n",
        "|  2  | 45  | 45  | 10  | 60  |\n",
        "|  3  | 35  | 35  | 10  | 80  |"
      ],
      "id": "ebd24ca4-b993-4d24-a410-3216923d45a3"
    },
    {
      "cell_type": "code",
      "execution_count": 12,
      "metadata": {
        "vscode": {
          "languageId": "python"
        }
      },
      "outputs": [],
      "source": [
        "df = pd.DataFrame({'att':[65,25,45,35], 'rep':[45,45,45,35], 'mid':[0,20,10,10], 'fin':[10,50,60,80]})\n",
        "df"
      ],
      "id": "f5fe1a79-640c-4cb4-b680-1be2966b1925"
    },
    {
      "cell_type": "code",
      "execution_count": 15,
      "metadata": {
        "vscode": {
          "languageId": "python"
        }
      },
      "outputs": [],
      "source": [
        "df.to_csv(\"sample.csv\",index=False)\n",
        "pd.read_csv(\"sample.csv\")"
      ],
      "id": "089e3369-c120-4100-915f-d37113a6a0f6"
    },
    {
      "cell_type": "markdown",
      "metadata": {},
      "source": [
        "`-` 이 데이터 프레임을 “sample.csv” 파일로 저장하라.\n",
        "\n",
        "**힌트** 아래코드를 이용\n",
        "\n",
        "``` python\n",
        "df.to_csv(\"sample.csv\",index=False)\n",
        "```\n",
        "\n",
        "`-` 저장된 데이터 프레임을 다시 불러오고 df2로 저장하라.\n",
        "\n",
        "**힌트**\n",
        "\n",
        "``` python\n",
        "pd.read_csv(\"sample.csv\") 이용 \n",
        "```\n",
        "\n",
        "# 판다스: 인덱싱 1단계– 인덱싱의 4가지 컨셉\n",
        "\n",
        "## 데이터프레임 준비\n",
        "\n",
        "`-` 데이터준비"
      ],
      "id": "1e352421-f886-4e68-b1fd-6dbe8127bfba"
    },
    {
      "cell_type": "code",
      "execution_count": 17,
      "metadata": {
        "vscode": {
          "languageId": "python"
        }
      },
      "outputs": [],
      "source": [
        "df=pd.read_csv('https://raw.githubusercontent.com/guebin/DV2022/master/posts/dv2022.csv')\n",
        "df"
      ],
      "id": "f41d9b87-d639-4e12-b48e-52d7b1651633"
    },
    {
      "cell_type": "markdown",
      "metadata": {},
      "source": [
        "`-` 앞으로는 위와 같은 df형태를 가정할 것이다. 즉 column의 이름은\n",
        "문자열, row의 이름은 0부터 시작하는 정수로 가정한다.\n",
        "\n",
        "`-` 아래와 같은 형태는 일단 생각하지 않는다."
      ],
      "id": "f2d58049-8236-45c9-92f2-059565c17bfc"
    },
    {
      "cell_type": "code",
      "execution_count": 21,
      "metadata": {
        "vscode": {
          "languageId": "python"
        }
      },
      "outputs": [],
      "source": [
        "pd.DataFrame({'att':[60,65,80,90],'rep':[50,100,90,100]},index=['규빈','영미','성준','혜미'])"
      ],
      "id": "9bad4655-f72c-4dbe-8c7a-c01973e225d4"
    },
    {
      "cell_type": "markdown",
      "metadata": {},
      "source": [
        "## df의 4가지 컨셉\n",
        "\n",
        "`-` 원소에 접근하는 4가지 방법: `.`, `[]`, `.iloc[]`, `.loc[]`\n",
        "\n",
        "## 컨셉1: 클래스느낌\n",
        "\n",
        "`-` 컨셉1: df는 인스턴스이다. 그리고 df.att, df.rep,df.mid, df.fin 와\n",
        "같이 col이름에 대응하는 속성이 있다."
      ],
      "id": "7dde326d-684f-479f-8037-6a637428128a"
    },
    {
      "cell_type": "code",
      "execution_count": 5,
      "metadata": {
        "vscode": {
          "languageId": "python"
        }
      },
      "outputs": [],
      "source": [
        "df.head()"
      ],
      "id": "2fd217f9-27a7-4aac-95a7-081256fe5709"
    },
    {
      "cell_type": "code",
      "execution_count": 294,
      "metadata": {
        "vscode": {
          "languageId": "python"
        }
      },
      "outputs": [],
      "source": [
        "df.fin"
      ],
      "id": "54c96fc3-62b0-4396-82bc-f74e3e92b6c0"
    },
    {
      "cell_type": "markdown",
      "metadata": {},
      "source": [
        "`-` 언제유용? col의 이름을 대충 알고 있을 경우 자동완성으로 쉽게\n",
        "선택가능\n",
        "\n",
        "## 컨셉2: 딕셔너리 + $\\alpha$ 느낌\n",
        "\n",
        "`-` 컨셉2: df는 컬럼이름이 key, 컬럼의데이터가 value가 되는 dictionary로\n",
        "이해할 수 있다. 즉 아래의 dct와 같은 딕셔너리로 이해할 수 있다."
      ],
      "id": "e6c026a1-689b-42d4-be3f-7e10cdb01117"
    },
    {
      "cell_type": "code",
      "execution_count": 35,
      "metadata": {
        "vscode": {
          "languageId": "python"
        }
      },
      "outputs": [],
      "source": [
        "dct = dict(df) \n",
        "#dct"
      ],
      "id": "cf8c592c-8d38-454e-b0c8-44f9bdf187f3"
    },
    {
      "cell_type": "markdown",
      "metadata": {},
      "source": [
        "(예시) .keys() 메소드를 이용하여 컬럼들의 이름을 살펴볼 수 있음."
      ],
      "id": "4752eebe-8526-499c-9b41-8c2a81963cd9"
    },
    {
      "cell_type": "code",
      "execution_count": 37,
      "metadata": {
        "vscode": {
          "languageId": "python"
        }
      },
      "outputs": [],
      "source": [
        "dct.keys()"
      ],
      "id": "1ffbd889-880a-4070-862a-b91a0a6075f7"
    },
    {
      "cell_type": "code",
      "execution_count": 16,
      "metadata": {
        "vscode": {
          "languageId": "python"
        }
      },
      "outputs": [],
      "source": [
        "dct.keys(), df.keys()"
      ],
      "id": "7802df23-0c93-46e1-bd2a-e629ba1f19a9"
    },
    {
      "cell_type": "markdown",
      "metadata": {},
      "source": [
        "### `#` col indexing\n",
        "\n",
        "`-` 예시1: dct가 가능하면 df도 가능하다."
      ],
      "id": "6900b37a-62df-49aa-8e43-10f102ba9f78"
    },
    {
      "cell_type": "code",
      "execution_count": 40,
      "metadata": {
        "vscode": {
          "languageId": "python"
        }
      },
      "outputs": [],
      "source": [
        "df['att']\n",
        "#dct['att'] "
      ],
      "id": "32947fdd-c6f5-45a6-8168-7f4792bde96a"
    },
    {
      "cell_type": "markdown",
      "metadata": {},
      "source": [
        "`-` 예시2: dct가 가능하면 df도 가능하다. (2)"
      ],
      "id": "915d9a1c-75c6-4bd9-b60e-4a34755716c7"
    },
    {
      "cell_type": "code",
      "execution_count": 18,
      "metadata": {
        "vscode": {
          "languageId": "python"
        }
      },
      "outputs": [],
      "source": [
        "df.get('att')\n",
        "#dct.get('att') "
      ],
      "id": "aa931d95-549e-48a8-979e-425aa635390a"
    },
    {
      "cell_type": "markdown",
      "metadata": {},
      "source": [
        "`-` 예시3: dct에서 불가능하지만 df에서 가능한것도 있다."
      ],
      "id": "8308daf1-a097-4e2c-9526-712d8e11e6da"
    },
    {
      "cell_type": "code",
      "execution_count": 19,
      "metadata": {
        "vscode": {
          "languageId": "python"
        }
      },
      "outputs": [],
      "source": [
        "dct.get(['att','rep'])"
      ],
      "id": "01f8f1d3-a0bf-4981-ac02-23c7e7f8767d"
    },
    {
      "cell_type": "code",
      "execution_count": 20,
      "metadata": {
        "vscode": {
          "languageId": "python"
        }
      },
      "outputs": [],
      "source": [
        "df.get(['att','rep'])"
      ],
      "id": "5338ff3c-cde2-49fd-a156-c6c284bfab1b"
    },
    {
      "cell_type": "markdown",
      "metadata": {},
      "source": [
        "`-` 예시4: dct에서 불가능하지만 df에서 가능한것도 있다. (2)"
      ],
      "id": "a9513c13-ad9a-41d0-9124-49149dfd8510"
    },
    {
      "cell_type": "code",
      "execution_count": 21,
      "metadata": {
        "vscode": {
          "languageId": "python"
        }
      },
      "outputs": [],
      "source": [
        "dct[['att','rep']]"
      ],
      "id": "724dc325-1e5f-4697-9639-dfd111e4c750"
    },
    {
      "cell_type": "code",
      "execution_count": 57,
      "metadata": {
        "vscode": {
          "languageId": "python"
        }
      },
      "outputs": [],
      "source": [
        "df[['att','rep']]"
      ],
      "id": "93163bf0-5775-4881-a8c9-8bb12cdad250"
    },
    {
      "cell_type": "markdown",
      "metadata": {},
      "source": [
        "### `#` row indexing\n",
        "\n",
        "`-` 예시5: dct에서 불가능하지만 df에서 가능한것도 있다. (3)"
      ],
      "id": "2f46831a-9233-439e-ac09-62419a3f8e28"
    },
    {
      "cell_type": "code",
      "execution_count": 64,
      "metadata": {
        "vscode": {
          "languageId": "python"
        }
      },
      "outputs": [],
      "source": [
        "dct[:5] "
      ],
      "id": "f39d28bf-3fdf-49fc-9f16-ec333f79a360"
    },
    {
      "cell_type": "code",
      "execution_count": 65,
      "metadata": {
        "vscode": {
          "languageId": "python"
        }
      },
      "outputs": [],
      "source": [
        "df[:5]"
      ],
      "id": "c80c3e6e-6a26-4789-8d5d-cd82d7beca3f"
    },
    {
      "cell_type": "markdown",
      "metadata": {},
      "source": [
        "**Quiz**\n",
        "\n",
        "1.  df의 마지막 열을 출력\n",
        "2.  df의 마지막 행을 출력\n",
        "\n",
        "## 컨셉3: 넘파이느낌\n",
        "\n",
        "`-` 컨셉3: `df.iloc`은 넘파이에러이처럼 생각가능하다. 즉 아래의 arr와\n",
        "같은 넘파이어레이로 생각가능하다."
      ],
      "id": "ac1e76d6-663f-4abb-af22-36645007b8dd"
    },
    {
      "cell_type": "code",
      "execution_count": 71,
      "metadata": {
        "vscode": {
          "languageId": "python"
        }
      },
      "outputs": [],
      "source": [
        "arr = np.array(df)\n",
        "#arr"
      ],
      "id": "f7512075-24e2-4620-ab62-9770759bab85"
    },
    {
      "cell_type": "markdown",
      "metadata": {},
      "source": [
        "### `#` row indexing\n",
        "\n",
        "`-` 예시1: 단일레이블"
      ],
      "id": "ce321f6e-7096-4a89-8575-9182988d3f9a"
    },
    {
      "cell_type": "code",
      "execution_count": 26,
      "metadata": {
        "vscode": {
          "languageId": "python"
        }
      },
      "outputs": [],
      "source": [
        "arr[0,:] # first row \n",
        "arr[0,] \n",
        "arr[0]"
      ],
      "id": "b57803e3-312d-42d4-bdc5-29b509e786e1"
    },
    {
      "cell_type": "code",
      "execution_count": 79,
      "metadata": {
        "vscode": {
          "languageId": "python"
        }
      },
      "outputs": [],
      "source": [
        "df.iloc[0,:] # first row \n",
        "df.iloc[0,] \n",
        "df.iloc[0]"
      ],
      "id": "bd109161-2b8f-4578-9c42-9eb7be8a8876"
    },
    {
      "cell_type": "markdown",
      "metadata": {},
      "source": [
        "`-` 예시2: 레이블의 리스트"
      ],
      "id": "04b6b98c-0fce-4c88-a5c4-e67cf8e44667"
    },
    {
      "cell_type": "code",
      "execution_count": 28,
      "metadata": {
        "vscode": {
          "languageId": "python"
        }
      },
      "outputs": [],
      "source": [
        "arr[[0,1,2],:] # 처음 3개의 row 선택 \n",
        "arr[[0,1,2],] \n",
        "arr[[0,1,2]]"
      ],
      "id": "ba6aedf3-1686-4510-b1a4-7eb0dc5db9b0"
    },
    {
      "cell_type": "code",
      "execution_count": 29,
      "metadata": {
        "vscode": {
          "languageId": "python"
        }
      },
      "outputs": [],
      "source": [
        "df.iloc[[0,1,2],:] # 처음 3개의 row 선택 \n",
        "df.iloc[[0,1,2],] \n",
        "df.iloc[[0,1,2]]"
      ],
      "id": "0e5d8ee5-792b-447e-9446-266dbdec7f7c"
    },
    {
      "cell_type": "markdown",
      "metadata": {},
      "source": [
        "`-` 예시3: 슬라이싱"
      ],
      "id": "211f5e0c-d27a-4da8-8bf6-9c33dd844e62"
    },
    {
      "cell_type": "code",
      "execution_count": 352,
      "metadata": {
        "vscode": {
          "languageId": "python"
        }
      },
      "outputs": [],
      "source": [
        "arr[0:3,:] # 처음 3개의 row선택, 끝점포함X\n",
        "arr[0:3,] \n",
        "arr[0:3]"
      ],
      "id": "2e238cde-4faf-4a69-acdf-6da18bbc2b26"
    },
    {
      "cell_type": "code",
      "execution_count": 353,
      "metadata": {
        "vscode": {
          "languageId": "python"
        }
      },
      "outputs": [],
      "source": [
        "df.iloc[0:3,:] # 처음 3개의 row선택, 끝점포함X\n",
        "df.iloc[0:3,] \n",
        "df.iloc[0:3]"
      ],
      "id": "0a0b7656-7a39-456a-a366-e41b6f114f3a"
    },
    {
      "cell_type": "markdown",
      "metadata": {},
      "source": [
        "### `#` col indexing\n",
        "\n",
        "`-` 예시1: 단일레이블"
      ],
      "id": "bd1ae0ca-d82f-464b-a4f8-b96440a1b8b4"
    },
    {
      "cell_type": "code",
      "execution_count": 362,
      "metadata": {
        "vscode": {
          "languageId": "python"
        }
      },
      "outputs": [],
      "source": [
        "df.iloc[:,0] # first column \n",
        "# arr[:,0] # first column "
      ],
      "id": "428e996b-63a4-4f38-9b5b-cab3c8451db4"
    },
    {
      "cell_type": "markdown",
      "metadata": {},
      "source": [
        "`-` 예시2: 레이블의 리스트"
      ],
      "id": "b23c9599-f9f3-4ed2-8dea-5787568a1b56"
    },
    {
      "cell_type": "code",
      "execution_count": 363,
      "metadata": {
        "vscode": {
          "languageId": "python"
        }
      },
      "outputs": [],
      "source": [
        "df.iloc[:,[0,2]] # col1, col3 을 선택\n",
        "# arr[:,[0,2]] # col1, col3 을 선택"
      ],
      "id": "648d5204-3dff-49f0-b0a7-8f5f3aad4669"
    },
    {
      "cell_type": "markdown",
      "metadata": {},
      "source": [
        "`-` 예시3: 슬랑이싱"
      ],
      "id": "d6a292fd-aa33-4ae0-af7d-a47de475f425"
    },
    {
      "cell_type": "code",
      "execution_count": 366,
      "metadata": {
        "vscode": {
          "languageId": "python"
        }
      },
      "outputs": [],
      "source": [
        "df.iloc[:,0:3] # 처음 3개의 col선택, 끝점포함X\n",
        "#arr[:,0:3]"
      ],
      "id": "bc90bc34-df88-4b18-a51a-fc30d577105b"
    },
    {
      "cell_type": "markdown",
      "metadata": {},
      "source": [
        "### `#` row + col indexing"
      ],
      "id": "58aab12d-e577-4fba-a990-c873afae916c"
    },
    {
      "cell_type": "code",
      "execution_count": 98,
      "metadata": {
        "vscode": {
          "languageId": "python"
        }
      },
      "outputs": [],
      "source": [
        "df.iloc[::2,:] ## 홀수번째(=짝수인덱스)행을 출력,"
      ],
      "id": "b6a1ca4b-2fd2-4d79-8d45-7a61ece53405"
    },
    {
      "cell_type": "markdown",
      "metadata": {},
      "source": [
        "**Quiz**\n",
        "\n",
        "1.  df의 마지막 열을 출력\n",
        "2.  df의 마지막 행을 출력\n",
        "3.  df의 마지막 행의 마지막 열을 출력\n",
        "4.  df의 짝수번째 열을 출력\n",
        "\n",
        "## 컨셉4: 데이터프레임 느낌\n",
        "\n",
        "`-` 컨셉4: `df.loc`은 새로운 느낌..\n",
        "\n",
        "### `#` row indexing\n",
        "\n",
        "`-` 예시1: 단일레이블"
      ],
      "id": "b871af38-4b39-4e8f-a8c2-97ac9ee70bd3"
    },
    {
      "cell_type": "code",
      "execution_count": 111,
      "metadata": {
        "vscode": {
          "languageId": "python"
        }
      },
      "outputs": [],
      "source": [
        "df.loc[0,:] # 첫번째 row를 선택 \n",
        "df.loc[0,]\n",
        "df.loc[0] "
      ],
      "id": "fcc5c835-86c6-43c0-9872-3ad2b74b1fcd"
    },
    {
      "cell_type": "markdown",
      "metadata": {},
      "source": [
        "`-` 예시2: 레이블의 리스트"
      ],
      "id": "09376dc2-d43b-4062-8ad5-76241e15f62c"
    },
    {
      "cell_type": "code",
      "execution_count": 112,
      "metadata": {
        "vscode": {
          "languageId": "python"
        }
      },
      "outputs": [],
      "source": [
        "df.loc[[0,1,2],:] # 처음 3개의 row를 선택 \n",
        "df.loc[[0,1,2],]\n",
        "df.loc[[0,1,2]] "
      ],
      "id": "949f2f05-0197-4ed9-867b-d92daa830647"
    },
    {
      "cell_type": "markdown",
      "metadata": {},
      "source": [
        "`-` 예시3: 슬라이싱 (끝점포함 O)"
      ],
      "id": "86f48d17-95e2-4d1c-bd27-b19bd14a13a1"
    },
    {
      "cell_type": "code",
      "execution_count": 114,
      "metadata": {
        "vscode": {
          "languageId": "python"
        }
      },
      "outputs": [],
      "source": [
        "df.loc[0:3,:] # 처음 4개의 row를 선택, 끝점포함 \n",
        "df.loc[0:3,]\n",
        "df.loc[0:3] "
      ],
      "id": "58a239ee-44df-43d4-a4fb-1cac87bf14af"
    },
    {
      "cell_type": "markdown",
      "metadata": {},
      "source": [
        "**Quiz**\n",
        "\n",
        "2번째 row부터 5번째 row까지 출력하라. loc과 iloc으로 각각 출력해볼 것\n",
        "(슬라이싱을 이용)\n",
        "\n",
        "### `#` col indexing\n",
        "\n",
        "`-` 예시1: 단일레이블"
      ],
      "id": "3481d1ac-95ea-4332-8e0e-ba94111bd8dc"
    },
    {
      "cell_type": "code",
      "execution_count": 393,
      "metadata": {
        "vscode": {
          "languageId": "python"
        }
      },
      "outputs": [],
      "source": [
        "df.loc[:,'att'] "
      ],
      "id": "a0bdf627-70e8-43a6-a1a6-d3db72642e71"
    },
    {
      "cell_type": "markdown",
      "metadata": {},
      "source": [
        "`-` 예시2: 레이블의 리스트"
      ],
      "id": "44547cf6-06ec-44c4-a7a4-84ac4a80da52"
    },
    {
      "cell_type": "code",
      "execution_count": 394,
      "metadata": {
        "vscode": {
          "languageId": "python"
        }
      },
      "outputs": [],
      "source": [
        "df.loc[:,['att','mid']] "
      ],
      "id": "2d5671b2-8180-4ada-b35a-355f75fc43c7"
    },
    {
      "cell_type": "markdown",
      "metadata": {},
      "source": [
        "`-` 예시3: 슬라이싱 (끝점포함 O)"
      ],
      "id": "ee4e6d4e-c036-440e-a72e-45936bd00a12"
    },
    {
      "cell_type": "code",
      "execution_count": 395,
      "metadata": {
        "vscode": {
          "languageId": "python"
        }
      },
      "outputs": [],
      "source": [
        "df.loc[:,'att':'mid'] # 끝점포함 "
      ],
      "id": "267153cf-0ab7-4048-81a6-d163c43f8914"
    },
    {
      "cell_type": "markdown",
      "metadata": {},
      "source": [
        "### `#` row + col indexing"
      ],
      "id": "957dfd01-4b77-4d83-9ae7-3e2ee291a86f"
    },
    {
      "cell_type": "code",
      "execution_count": 404,
      "metadata": {
        "vscode": {
          "languageId": "python"
        }
      },
      "outputs": [],
      "source": [
        "df.loc[::-1,'att':'mid'] # 끝점포함 "
      ],
      "id": "1dc59cfa-979e-44e0-9e2f-378402b9f7e3"
    },
    {
      "cell_type": "markdown",
      "metadata": {},
      "source": [
        "**Quiz**\n",
        "\n",
        "출석점수의 짝수번째 row를 출력하라.\n",
        "\n",
        "## 컨셉1~4 정리\n",
        "\n",
        "|                  | `.` | `[]` | `.iloc` | `.loc` |\n",
        "|:----------------:|:---:|:----:|:-------:|:------:|\n",
        "|  row/단일레이블  |  X  |  X   |    O    |   O    |\n",
        "|  col/단일레이블  |  O  |  O   |    O    |   O    |\n",
        "| row/레이블리스트 |  X  |  X   |    O    |   O    |\n",
        "| col/레이블리스트 |  X  |  O   |    O    |   O    |\n",
        "|   row/슬라이싱   |  X  |  O   |    O    |   O    |\n",
        "|   col/슬라이싱   |  X  |  X   |    O    |   O    |\n",
        "\n",
        "`-` col 이름을 알아야하는 부담감 - `.` : 앞글자만 대충 알아도 자동완성\n",
        "가능 - `[]`: 정확한 col 이름을 알아야 함 - `.loc`: 보통 정확한 col\n",
        "이름을 알아야 하지만 슬라이싱 이용시 양 끝의 컬럼이름만 알면 무방 -\n",
        "`.iloc`: 정확한 col 이름을 몰라도 번호로 인덱싱 가능\n",
        "\n",
        "`-` 자주하는 실수"
      ],
      "id": "9ab59801-0de2-478b-9a68-cb15172a70c7"
    },
    {
      "cell_type": "code",
      "execution_count": 134,
      "metadata": {
        "vscode": {
          "languageId": "python"
        }
      },
      "outputs": [],
      "source": [
        "df['att'] # 가능 \n",
        "# df.loc['att'] # 불가능\n",
        "df.loc[:,'att'] # 가능"
      ],
      "id": "ac4b2309-b521-4f05-8f81-404eb7b4139e"
    },
    {
      "cell_type": "markdown",
      "metadata": {},
      "source": [
        "# 판다스: 인덱싱 2단계– 필터링(특정조건에 맞는 row를 선택)\n",
        "\n",
        "## att \\> 90 and rep \\< 50\n",
        "\n",
        "`-` 방법1: .query()를 이용"
      ],
      "id": "a7b37395-01db-4b3e-aebf-7a52cac32986"
    },
    {
      "cell_type": "code",
      "execution_count": 138,
      "metadata": {
        "vscode": {
          "languageId": "python"
        }
      },
      "outputs": [],
      "source": [
        "df.query('att>90 and rep<50')"
      ],
      "id": "b585ea36-ffee-449b-8f9f-442ba54d1c18"
    },
    {
      "cell_type": "code",
      "execution_count": 139,
      "metadata": {
        "vscode": {
          "languageId": "python"
        }
      },
      "outputs": [],
      "source": [
        "df.query('(att>90)&(rep<50)') "
      ],
      "id": "19ec435c-d246-4bff-8828-4bc72e287061"
    },
    {
      "cell_type": "code",
      "execution_count": 141,
      "metadata": {
        "vscode": {
          "languageId": "python"
        }
      },
      "outputs": [],
      "source": [
        "df.query('att>90 & rep<50') "
      ],
      "id": "425f88c7-cdf0-4bc1-a130-59106c0d29fd"
    },
    {
      "cell_type": "markdown",
      "metadata": {},
      "source": [
        "`-` 방법2: \\[\\], `.iloc`, `.loc`\n",
        "\n",
        "(예비학습)"
      ],
      "id": "55b22aed-2794-4021-9a59-3a51180726a5"
    },
    {
      "cell_type": "code",
      "execution_count": 47,
      "metadata": {
        "vscode": {
          "languageId": "python"
        }
      },
      "outputs": [],
      "source": [
        "True&True, True&False, False&True, False&False"
      ],
      "id": "7d76e786-af8b-4f4d-9499-5fd459e9f7ee"
    },
    {
      "cell_type": "code",
      "execution_count": 48,
      "metadata": {
        "vscode": {
          "languageId": "python"
        }
      },
      "outputs": [],
      "source": [
        "True|True, True|False, False|True, False|False"
      ],
      "id": "0ebe3b78-a1bb-451b-b8fc-9da5943de01f"
    },
    {
      "cell_type": "code",
      "execution_count": 147,
      "metadata": {
        "vscode": {
          "languageId": "python"
        }
      },
      "outputs": [],
      "source": [
        "(df.att>90) & (df.rep<50)"
      ],
      "id": "43cda997-debc-4740-8c1d-0111b98b8d96"
    },
    {
      "cell_type": "markdown",
      "metadata": {},
      "source": [
        "예비학습 끝"
      ],
      "id": "50738d93-83cf-4210-86c5-08d47983aaf4"
    },
    {
      "cell_type": "code",
      "execution_count": 51,
      "metadata": {
        "vscode": {
          "languageId": "python"
        }
      },
      "outputs": [],
      "source": [
        "df[(df.att > 90)&(df.rep < 50)]\n",
        "df.loc[(df.att > 90)&(df.rep < 50)]\n",
        "df.iloc[list((df.att > 90)&(df.rep < 50))]"
      ],
      "id": "4602e917-fc8c-4c4c-9869-3b1b452bcb23"
    },
    {
      "cell_type": "markdown",
      "metadata": {},
      "source": [
        "`-` 방법3: \\[\\], `.iloc`, `.loc` // map, lambda"
      ],
      "id": "5146867b-1ec4-41f5-9998-52ffadcdf882"
    },
    {
      "cell_type": "code",
      "execution_count": 157,
      "metadata": {
        "vscode": {
          "languageId": "python"
        }
      },
      "outputs": [],
      "source": [
        "df.att > 90"
      ],
      "id": "ee7bd034-d505-40f7-972d-c7cf18760e1f"
    },
    {
      "cell_type": "code",
      "execution_count": 169,
      "metadata": {
        "vscode": {
          "languageId": "python"
        }
      },
      "outputs": [],
      "source": [
        "df[list(map(lambda x,y: (x>90)&(y<50), df.att, df.rep))]\n",
        "# df[map(lambda x,y: (x>90)&(y<50), df.att, df.rep)] # 이것은 불가능"
      ],
      "id": "b361be89-962e-409a-aa15-f309cccd1f72"
    },
    {
      "cell_type": "code",
      "execution_count": 497,
      "metadata": {
        "vscode": {
          "languageId": "python"
        }
      },
      "outputs": [],
      "source": [
        "df.iloc[list(map(lambda x,y: (x>90)&(y<50), df.att, df.rep))]\n",
        "df.iloc[map(lambda x,y: (x>90)&(y<50), df.att, df.rep)]"
      ],
      "id": "1bea95be-26a2-4202-935f-a61e24515b14"
    },
    {
      "cell_type": "code",
      "execution_count": 496,
      "metadata": {
        "vscode": {
          "languageId": "python"
        }
      },
      "outputs": [],
      "source": [
        "df.loc[list(map(lambda x,y: (x>90)&(y<50), df.att, df.rep))]\n",
        "df.loc[map(lambda x,y: (x>90)&(y<50), df.att, df.rep)]"
      ],
      "id": "63c00790-486a-427c-8a49-e2db29e85184"
    },
    {
      "cell_type": "markdown",
      "metadata": {},
      "source": [
        "## att \\> mean(att)\n",
        "\n",
        "`-` 방법1: .query()를 이용"
      ],
      "id": "2bc5b5b7-629b-4034-a317-60531378f1ee"
    },
    {
      "cell_type": "code",
      "execution_count": 507,
      "metadata": {
        "vscode": {
          "languageId": "python"
        }
      },
      "outputs": [],
      "source": [
        "df.query('att> att.mean()') "
      ],
      "id": "0d335dbb-037e-47cc-84e4-f0a71bd18a43"
    },
    {
      "cell_type": "markdown",
      "metadata": {},
      "source": [
        "`-` 방법2: \\[\\], `.iloc`, `.loc`"
      ],
      "id": "fdec3e55-8595-4d35-80f3-846dc6029a67"
    },
    {
      "cell_type": "code",
      "execution_count": 506,
      "metadata": {
        "vscode": {
          "languageId": "python"
        }
      },
      "outputs": [],
      "source": [
        "df[df.att > df.att.mean()]\n",
        "df.loc[df.att > df.att.mean()]\n",
        "df.iloc[list(df.att > df.att.mean())]"
      ],
      "id": "0870a4bf-1181-4c24-9b79-58fa0dda1910"
    },
    {
      "cell_type": "markdown",
      "metadata": {},
      "source": [
        "`-` 방법3: \\[\\], `.iloc`, `.loc` // map, lambda"
      ],
      "id": "e1e3bfb5-8b95-408e-83e8-f945f76cfa1d"
    },
    {
      "cell_type": "code",
      "execution_count": 513,
      "metadata": {
        "vscode": {
          "languageId": "python"
        }
      },
      "outputs": [],
      "source": [
        "df[list(map(lambda x: x>df.att.mean() , df.att))]\n",
        "# df[map(lambda x: x>df.att.mean() , df.att)] # 이것은 불가능"
      ],
      "id": "52e782f4-62c5-4228-a665-151312818da8"
    },
    {
      "cell_type": "code",
      "execution_count": 514,
      "metadata": {
        "vscode": {
          "languageId": "python"
        }
      },
      "outputs": [],
      "source": [
        "df.iloc[list(map(lambda x: x>df.att.mean() , df.att))]\n",
        "df.iloc[map(lambda x: x>df.att.mean() , df.att)]"
      ],
      "id": "6f939866-1ca9-4039-b465-4f342f9e0002"
    },
    {
      "cell_type": "code",
      "execution_count": 515,
      "metadata": {
        "vscode": {
          "languageId": "python"
        }
      },
      "outputs": [],
      "source": [
        "df.loc[list(map(lambda x: x>df.att.mean() , df.att))]\n",
        "df.loc[map(lambda x: x>df.att.mean() , df.att)]"
      ],
      "id": "81313954-6b0b-445d-8215-e36d34aad5b4"
    },
    {
      "cell_type": "markdown",
      "metadata": {},
      "source": [
        "|                  | `.` | `[]` | `.iloc` | `.loc` |\n",
        "|:----------------:|:---:|:----:|:-------:|:------:|\n",
        "|  row/단일레이블  |  X  |  X   |    O    |   O    |\n",
        "|  col/단일레이블  |  O  |  O   |    O    |   O    |\n",
        "| row/레이블리스트 |  X  |  X   |    O    |   O    |\n",
        "| col/레이블리스트 |  X  |  O   |    O    |   O    |\n",
        "|   row/슬라이싱   |  X  |  O   |    O    |   O    |\n",
        "|   col/슬라이싱   |  X  |  X   |    O    |   O    |\n",
        "|  row/bool,list   |  X  |  O   |    O    |   O    |\n",
        "|   row/bool,ser   |  X  |  O   |    X    |   O    |\n",
        "|   row/bool,map   |  X  |  X   |    O    |   O    |\n",
        "\n",
        "**Quiz**\n",
        "\n",
        "아래와 같은 데이터 프레임을 만들어라.\n",
        "\n",
        "|     |  name   | score |\n",
        "|:---:|:-------:|:-----:|\n",
        "|  0  | Guebin  |  50   |\n",
        "|  1  |  Jaein  |  60   |\n",
        "|  2  |  Daho   |  70   |\n",
        "|  3  | Seoyeon |  80   |\n",
        "\n",
        "이름이 5글자 이상이고 점수가 55점 이상한 학생을 출력하라."
      ],
      "id": "d401efb6-eb13-4651-8104-14639dc29c35"
    },
    {
      "cell_type": "code",
      "execution_count": 208,
      "metadata": {
        "vscode": {
          "languageId": "python"
        }
      },
      "outputs": [],
      "source": [
        "df=pd.DataFrame({'name':['Guebin','Jaein','Daho','Seoyeon'],'score':[50,60,70,80]})\n",
        "df"
      ],
      "id": "889ff139-1478-4a81-9634-3d0dfb0e617c"
    },
    {
      "cell_type": "code",
      "execution_count": 195,
      "metadata": {
        "vscode": {
          "languageId": "python"
        }
      },
      "outputs": [],
      "source": [
        "df[list(map((lambda name,score: (len(name) >= 5)& (score>55)),df.name,df.score))]"
      ],
      "id": "d187a0f8-d35d-40fe-91a0-059c4449ba96"
    },
    {
      "cell_type": "markdown",
      "metadata": {},
      "source": [
        "# 판다스: 인덱싱 3단계– column의 선택 (with 실전예제)\n",
        "\n",
        "## 데이터"
      ],
      "id": "7a4cbc78-8868-40b3-be90-79c36a040437"
    },
    {
      "cell_type": "code",
      "execution_count": 210,
      "metadata": {
        "vscode": {
          "languageId": "python"
        }
      },
      "outputs": [],
      "source": [
        "df=pd.read_csv('https://raw.githubusercontent.com/PacktPublishing/Pandas-Cookbook/master/data/movie.csv')\n",
        "df"
      ],
      "id": "ddaf5ca2-8ca8-4b89-b1d7-d98810791407"
    },
    {
      "cell_type": "markdown",
      "metadata": {},
      "source": [
        "**Quiz** 열의 이름을 출력하여 보자.\n",
        "\n",
        "## 기본인덱싱 (df 인덱싱공부 1단계 내용)\n",
        "\n",
        "`-` color ~ num_voted_user 를 뽑고 + aspect_ratio 도 추가적으로\n",
        "뽑고싶다. -\\> loc으로는 못하겠어요.."
      ],
      "id": "72c681c4-256f-4edf-97f1-9ec0201b5fbe"
    },
    {
      "cell_type": "code",
      "execution_count": 72,
      "metadata": {
        "vscode": {
          "languageId": "python"
        }
      },
      "outputs": [],
      "source": [
        "df.loc[:,['color':'num_voted_users','aspect_ratio']]"
      ],
      "id": "a590168b-cd6a-4d69-a73e-9ca7ed4a7cda"
    },
    {
      "cell_type": "markdown",
      "metadata": {},
      "source": [
        "`-` (팁) 복잡한 조건은 iloc으로 쓰는게 편할때가 있다. $\\to$ 그런데\n",
        "`df.columns` 변수들이 몇번인지 알아보기 힘듬 $\\to$ 아래와 같이 하면 열의\n",
        "이름을 인덱스와 함께 출력할 수 있음"
      ],
      "id": "d5aff30a-9145-4725-9639-e3edcd7f5d62"
    },
    {
      "cell_type": "code",
      "execution_count": 73,
      "metadata": {
        "vscode": {
          "languageId": "python"
        }
      },
      "outputs": [],
      "source": [
        "pd.Series(df.columns)"
      ],
      "id": "19b9502b-b82f-49d8-961c-9bd8df5cc982"
    },
    {
      "cell_type": "code",
      "execution_count": 74,
      "metadata": {
        "vscode": {
          "languageId": "python"
        }
      },
      "outputs": [],
      "source": [
        "list(range(13))+[26]"
      ],
      "id": "20a5daa2-ec9e-4e24-baf9-552f0fd84933"
    },
    {
      "cell_type": "code",
      "execution_count": 75,
      "metadata": {
        "vscode": {
          "languageId": "python"
        }
      },
      "outputs": [],
      "source": [
        "df.iloc[:,list(range(13))+[26]] "
      ],
      "id": "7998a44e-2e06-4178-92b0-044a106fe0e0"
    },
    {
      "cell_type": "markdown",
      "metadata": {},
      "source": [
        "## actor라는 단어가 포함된 column 선택\n",
        "\n",
        "`-` 다시 열의 이름들을 확인"
      ],
      "id": "645f777e-67b5-4f9a-b000-20d24d507359"
    },
    {
      "cell_type": "code",
      "execution_count": 76,
      "metadata": {
        "vscode": {
          "languageId": "python"
        }
      },
      "outputs": [],
      "source": [
        "df.columns"
      ],
      "id": "b840d0b5-a13d-43f8-8c18-190d3ebd5b1f"
    },
    {
      "cell_type": "markdown",
      "metadata": {},
      "source": [
        "`-` 방법1"
      ],
      "id": "215df550-5367-40e5-bf30-04ae0a096350"
    },
    {
      "cell_type": "code",
      "execution_count": 77,
      "metadata": {
        "vscode": {
          "languageId": "python"
        }
      },
      "outputs": [],
      "source": [
        "df.iloc[:,list(map(lambda x : 'actor' in x, df.columns) )]"
      ],
      "id": "b4fba079-cd25-4021-af85-70c08c362e35"
    },
    {
      "cell_type": "markdown",
      "metadata": {},
      "source": [
        "`-` 방법2"
      ],
      "id": "23fb3ae9-23b8-4665-b0b7-a8abff2749be"
    },
    {
      "cell_type": "code",
      "execution_count": 78,
      "metadata": {
        "vscode": {
          "languageId": "python"
        }
      },
      "outputs": [],
      "source": [
        "df.loc[:,list(map(lambda x : 'actor' in x, df.columns) )]"
      ],
      "id": "c5df58fc-5b3f-4ab3-ad1a-bd5019038651"
    },
    {
      "cell_type": "markdown",
      "metadata": {},
      "source": [
        "`-` 방법3"
      ],
      "id": "4a7d5138-b19b-4c16-9361-4af1953e33c6"
    },
    {
      "cell_type": "code",
      "execution_count": 79,
      "metadata": {
        "vscode": {
          "languageId": "python"
        }
      },
      "outputs": [],
      "source": [
        "df.iloc[:,map(lambda x : 'actor' in x, df.columns)]"
      ],
      "id": "3d89a022-027e-4e3b-9ba3-4872cf1f26ff"
    },
    {
      "cell_type": "markdown",
      "metadata": {},
      "source": [
        "`-` 방법4"
      ],
      "id": "30071ed6-0bfb-4736-9b1e-7b69b7e11cfc"
    },
    {
      "cell_type": "code",
      "execution_count": 80,
      "metadata": {
        "vscode": {
          "languageId": "python"
        }
      },
      "outputs": [],
      "source": [
        "df.loc[:,map(lambda x : 'actor' in x, df.columns)]"
      ],
      "id": "1e9eb5c3-6bd2-459b-84eb-6a5c5cbd299e"
    },
    {
      "cell_type": "markdown",
      "metadata": {},
      "source": [
        "## s로 끝나는 column 선택\n",
        "\n",
        "`-` 방법1"
      ],
      "id": "50b83b5f-44b1-4caf-908d-44ebce3d011e"
    },
    {
      "cell_type": "code",
      "execution_count": 81,
      "metadata": {
        "vscode": {
          "languageId": "python"
        }
      },
      "outputs": [],
      "source": [
        "df.iloc[:,map(lambda x: 's' == x[-1],df.columns )]"
      ],
      "id": "a762280d-1907-489f-a6a5-2503dde4758d"
    },
    {
      "cell_type": "markdown",
      "metadata": {},
      "source": [
        "`-` 방법2"
      ],
      "id": "28ff965a-6be2-4c64-988e-fcc4413ff7b7"
    },
    {
      "cell_type": "code",
      "execution_count": 82,
      "metadata": {
        "vscode": {
          "languageId": "python"
        }
      },
      "outputs": [],
      "source": [
        "df.loc[:,map(lambda x: 's' == x[-1],df.columns )]"
      ],
      "id": "3e331c09-cc24-46e2-b859-fd273eae0659"
    },
    {
      "cell_type": "markdown",
      "metadata": {},
      "source": [
        "## c 혹은 d로 시작하는 column 선택\n",
        "\n",
        "`-` 방법1"
      ],
      "id": "2ce9ec35-e141-411b-90e4-be91d68e4344"
    },
    {
      "cell_type": "code",
      "execution_count": 83,
      "metadata": {
        "vscode": {
          "languageId": "python"
        }
      },
      "outputs": [],
      "source": [
        "df.iloc[:,map(lambda x: 'c' == x[0] or 'd' == x[0] ,df.columns )]"
      ],
      "id": "a47b2f3b-cf45-4c92-999b-36676579d03a"
    },
    {
      "cell_type": "markdown",
      "metadata": {},
      "source": [
        "`-` 방법2"
      ],
      "id": "04961d7a-b949-4d58-a21d-70dadedc06e3"
    },
    {
      "cell_type": "code",
      "execution_count": 84,
      "metadata": {
        "vscode": {
          "languageId": "python"
        }
      },
      "outputs": [],
      "source": [
        "df.loc[:,map(lambda x: 'c' == x[0] or 'd' == x[0] ,df.columns )]"
      ],
      "id": "7896f787-498b-499f-91eb-bca5d89dbf62"
    },
    {
      "cell_type": "markdown",
      "metadata": {},
      "source": [
        "**quiz**\n",
        "\n",
        "1.  column이름에 `_`가 포함되어있는 열을 모두 출력하라.\n",
        "2.  column이름에 `_`가 포함되어있는 열은 모두 몇개인가?\n",
        "\n",
        "# 판다스: 새로운 열의 할당 1단계\n",
        "\n",
        "## 방법1: concat"
      ],
      "id": "cf94e7c2-dd82-4942-a7fc-84bf80884507"
    },
    {
      "cell_type": "code",
      "execution_count": 122,
      "metadata": {
        "vscode": {
          "languageId": "python"
        }
      },
      "outputs": [],
      "source": [
        "df = pd.DataFrame({'a':[1,2,3],'b':[2,3,4]})\n",
        "df"
      ],
      "id": "ffaa59f5-3bf8-49fa-a9a2-bcdabcf7b455"
    },
    {
      "cell_type": "code",
      "execution_count": 123,
      "metadata": {
        "vscode": {
          "languageId": "python"
        }
      },
      "outputs": [],
      "source": [
        "_df = pd.DataFrame({'c':[3,4,5]}) \n",
        "_df"
      ],
      "id": "b13a33e3-6153-4e35-9625-4611e0bfc3c3"
    },
    {
      "cell_type": "code",
      "execution_count": 124,
      "metadata": {
        "vscode": {
          "languageId": "python"
        }
      },
      "outputs": [],
      "source": [
        "pd.concat([df,_df],axis=1)"
      ],
      "id": "b311eb58-9f71-4b72-acd6-96dc04bd8112"
    },
    {
      "cell_type": "markdown",
      "metadata": {},
      "source": [
        "## 방법2: 4가지 컨셉에 따른 할당\n",
        "\n",
        "### `#` 컨셉1: 불가능"
      ],
      "id": "5d0b5d43-785f-4130-a705-fde2f60e5a10"
    },
    {
      "cell_type": "code",
      "execution_count": 125,
      "metadata": {
        "vscode": {
          "languageId": "python"
        }
      },
      "outputs": [],
      "source": [
        "df = pd.DataFrame({'a':[1,2,3],'b':[2,3,4]})\n",
        "df"
      ],
      "id": "a202d0e7-8f4b-483f-8561-a17616323b23"
    },
    {
      "cell_type": "code",
      "execution_count": 126,
      "metadata": {
        "vscode": {
          "languageId": "python"
        }
      },
      "outputs": [
        {
          "output_type": "stream",
          "name": "stderr",
          "text": [
            "/home/cgb2/anaconda3/envs/py37/lib/python3.7/site-packages/ipykernel_launcher.py:1: UserWarning: Pandas doesn't allow columns to be created via a new attribute name - see https://pandas.pydata.org/pandas-docs/stable/indexing.html#attribute-access\n",
            "  \"\"\"Entry point for launching an IPython kernel."
          ]
        }
      ],
      "source": [
        "df.c = pd.Series([1,2,3]) \n",
        "df"
      ],
      "id": "b69a1b4c-fd49-40ff-bfa7-c963397614ce"
    },
    {
      "cell_type": "markdown",
      "metadata": {},
      "source": [
        "### `#` 컨셉2: 가능\n",
        "\n",
        "(예시1)"
      ],
      "id": "ddc28f9c-432b-49c8-b38f-d0e1e60c240f"
    },
    {
      "cell_type": "code",
      "execution_count": 127,
      "metadata": {
        "vscode": {
          "languageId": "python"
        }
      },
      "outputs": [],
      "source": [
        "df = pd.DataFrame({'a':[1,2,3],'b':[2,3,4]})\n",
        "df"
      ],
      "id": "fda2afd9-73ed-490b-a918-cc4120c20b0b"
    },
    {
      "cell_type": "code",
      "execution_count": 128,
      "metadata": {
        "vscode": {
          "languageId": "python"
        }
      },
      "outputs": [],
      "source": [
        "df['c']=[3,4,5]\n",
        "df"
      ],
      "id": "eefe6304-3b97-4b0f-86f7-1d02cd5d3b90"
    },
    {
      "cell_type": "markdown",
      "metadata": {},
      "source": [
        "(예시2)"
      ],
      "id": "4bb5fb41-d5fe-4aab-bf6d-5fbb85c33d67"
    },
    {
      "cell_type": "code",
      "execution_count": 129,
      "metadata": {
        "vscode": {
          "languageId": "python"
        }
      },
      "outputs": [],
      "source": [
        "df = pd.DataFrame({'a':[1,2,3],'b':[2,3,4]})\n",
        "df"
      ],
      "id": "ce222c94-669b-4696-804c-91ea19c7479c"
    },
    {
      "cell_type": "code",
      "execution_count": 130,
      "metadata": {
        "vscode": {
          "languageId": "python"
        }
      },
      "outputs": [],
      "source": [
        "df[['c','d']]=np.array([[3,4,5],[4,5,6]]).T # 굳이.. \n",
        "df"
      ],
      "id": "8febad42-06fc-4969-8f56-91b803c0b79f"
    },
    {
      "cell_type": "markdown",
      "metadata": {},
      "source": [
        "(예시3)"
      ],
      "id": "807d24a4-69ec-40b7-ba8a-8e1ee1c552cc"
    },
    {
      "cell_type": "code",
      "execution_count": 131,
      "metadata": {
        "vscode": {
          "languageId": "python"
        }
      },
      "outputs": [],
      "source": [
        "df = pd.DataFrame({'a':[1,2,3],'b':[2,3,4]})\n",
        "df"
      ],
      "id": "8a2ff6b6-f1fd-40e8-b194-a4f0cdee2a71"
    },
    {
      "cell_type": "code",
      "execution_count": 132,
      "metadata": {
        "vscode": {
          "languageId": "python"
        }
      },
      "outputs": [],
      "source": [
        "df['c'],df['d']=[3,4,5],[4,5,6]\n",
        "df"
      ],
      "id": "5baf165b-cfbf-41f8-b6ee-e8d347b6732a"
    },
    {
      "cell_type": "markdown",
      "metadata": {},
      "source": [
        "### `#` 컨셉3: 불가능\n",
        "\n",
        "(예시1)"
      ],
      "id": "b09652c9-d955-40ee-9786-7ac523bcff93"
    },
    {
      "cell_type": "code",
      "execution_count": 133,
      "metadata": {
        "vscode": {
          "languageId": "python"
        }
      },
      "outputs": [],
      "source": [
        "df = pd.DataFrame({'a':[1,2,3],'b':[2,3,4]})\n",
        "df"
      ],
      "id": "1bdc2090-156d-4a42-9793-b4ef2b6881ca"
    },
    {
      "cell_type": "code",
      "execution_count": 134,
      "metadata": {
        "vscode": {
          "languageId": "python"
        }
      },
      "outputs": [],
      "source": [
        "df.iloc[:,2] = [3,4,5] \n",
        "df"
      ],
      "id": "3d113666-d342-4933-a309-46b89b93dac3"
    },
    {
      "cell_type": "markdown",
      "metadata": {},
      "source": [
        "### `#` 컨셉4: 가능\n",
        "\n",
        "(예시1)"
      ],
      "id": "5b3ccb2a-627a-4128-b3a1-1b063eb3c984"
    },
    {
      "cell_type": "code",
      "execution_count": 135,
      "metadata": {
        "vscode": {
          "languageId": "python"
        }
      },
      "outputs": [],
      "source": [
        "df = pd.DataFrame({'a':[1,2,3],'b':[2,3,4]})\n",
        "df"
      ],
      "id": "25eeff73-8c4f-49bc-98f1-27f9da6a020a"
    },
    {
      "cell_type": "code",
      "execution_count": 136,
      "metadata": {
        "vscode": {
          "languageId": "python"
        }
      },
      "outputs": [],
      "source": [
        "df.loc[:,'c'] = [3,4,5] \n",
        "df"
      ],
      "id": "5230c0c0-5d4f-4b04-a98d-9d9a191891f1"
    },
    {
      "cell_type": "markdown",
      "metadata": {},
      "source": [
        "(예시2)"
      ],
      "id": "844f5052-3e92-4cad-b568-6842472477b0"
    },
    {
      "cell_type": "code",
      "execution_count": 137,
      "metadata": {
        "vscode": {
          "languageId": "python"
        }
      },
      "outputs": [],
      "source": [
        "df = pd.DataFrame({'a':[1,2,3],'b':[2,3,4]})\n",
        "df"
      ],
      "id": "3c20f40b-ed00-43e7-9f2d-699f04c54019"
    },
    {
      "cell_type": "code",
      "execution_count": 138,
      "metadata": {
        "vscode": {
          "languageId": "python"
        }
      },
      "outputs": [],
      "source": [
        "df.loc[:,['c','d']] = np.array([[3,4,5],[4,5,6]]).T # 이거 솔직히 되는지 몰랐어요.. \n",
        "df"
      ],
      "id": "601de30d-4090-4353-9582-8d1c9cc360ae"
    },
    {
      "cell_type": "markdown",
      "metadata": {},
      "source": [
        "(예시3)"
      ],
      "id": "fb8346b5-49b3-4a01-9910-34e3f11c3a10"
    },
    {
      "cell_type": "code",
      "execution_count": 139,
      "metadata": {
        "vscode": {
          "languageId": "python"
        }
      },
      "outputs": [],
      "source": [
        "df = pd.DataFrame({'a':[1,2,3],'b':[2,3,4]})\n",
        "df"
      ],
      "id": "ef24c086-009c-43fe-ad18-5ace6b5220ae"
    },
    {
      "cell_type": "code",
      "execution_count": 140,
      "metadata": {
        "vscode": {
          "languageId": "python"
        }
      },
      "outputs": [],
      "source": [
        "df.loc[:,'c'],df.loc[:,'d'] = [3,4,5],[4,5,6] \n",
        "df"
      ],
      "id": "f17cddae-a4f7-4cf1-9a87-3951ac3bba3f"
    },
    {
      "cell_type": "markdown",
      "metadata": {},
      "source": [
        "## 방법3: `.assign`으로 할당 ($\\star$) – 제 최애"
      ],
      "id": "b81476f5-cd9c-4579-bc41-b530d2f56090"
    },
    {
      "cell_type": "code",
      "execution_count": 141,
      "metadata": {
        "vscode": {
          "languageId": "python"
        }
      },
      "outputs": [],
      "source": [
        "df = pd.DataFrame({'a':[1,2,3],'b':[2,3,4]})\n",
        "df"
      ],
      "id": "6c5edbf8-040a-4c66-9668-2042bad400ff"
    },
    {
      "cell_type": "code",
      "execution_count": 142,
      "metadata": {
        "vscode": {
          "languageId": "python"
        }
      },
      "outputs": [],
      "source": [
        "df.assign(c=[3,4,5])"
      ],
      "id": "6675b36c-5c63-4109-a5ef-7a7f4d2fe0ad"
    },
    {
      "cell_type": "code",
      "execution_count": 143,
      "metadata": {
        "vscode": {
          "languageId": "python"
        }
      },
      "outputs": [],
      "source": [
        "df.assign(c=[3,4,5],d=[4,5,6])"
      ],
      "id": "3ad7f325-25e6-46de-81a8-7be85c0c7568"
    },
    {
      "cell_type": "code",
      "execution_count": 144,
      "metadata": {
        "vscode": {
          "languageId": "python"
        }
      },
      "outputs": [],
      "source": [
        "df.assign(c=[3,4,5]).assign(d=[4,5,6])"
      ],
      "id": "23da9e30-283a-4c7b-977c-c8326b2fd993"
    },
    {
      "cell_type": "markdown",
      "metadata": {},
      "source": [
        "## 방법4: `.eval`을 이용한 할당"
      ],
      "id": "630d8180-3026-4c1b-b157-14fe1759261e"
    },
    {
      "cell_type": "code",
      "execution_count": 145,
      "metadata": {
        "vscode": {
          "languageId": "python"
        }
      },
      "outputs": [],
      "source": [
        "df = pd.DataFrame({'a':[1,2,3],'b':[2,3,4]})\n",
        "df"
      ],
      "id": "8e70779b-bae0-429f-8b6c-08b4bd14ee24"
    },
    {
      "cell_type": "code",
      "execution_count": 146,
      "metadata": {
        "vscode": {
          "languageId": "python"
        }
      },
      "outputs": [],
      "source": [
        "df.eval('c=[3,4,5]')"
      ],
      "id": "9e4f119b-1859-4b65-8b2f-22c1df321750"
    },
    {
      "cell_type": "code",
      "execution_count": 147,
      "metadata": {
        "vscode": {
          "languageId": "python"
        }
      },
      "outputs": [],
      "source": [
        "df.eval('c=[3,4,5]').eval('d=[4,5,6]')"
      ],
      "id": "b4732ba5-5231-4b92-86de-b52f26615bd4"
    },
    {
      "cell_type": "markdown",
      "metadata": {},
      "source": [
        "## 연습해보기\n",
        "\n",
        "### `#` 데이터프레임 생성"
      ],
      "id": "fbdb9a2b-0d31-4315-86b8-b3a306673869"
    },
    {
      "cell_type": "code",
      "execution_count": 111,
      "metadata": {
        "vscode": {
          "languageId": "python"
        }
      },
      "outputs": [],
      "source": [
        "df=pd.DataFrame({'x':np.random.randn(1000),'y':np.random.randn(1000)})\n",
        "df"
      ],
      "id": "a52c099c-3e80-4dac-a317-b113f54166b9"
    },
    {
      "cell_type": "markdown",
      "metadata": {},
      "source": [
        "### `#` 새로운열 `r`을 생성하고 $r=\\sqrt{x^2 + y^2}$를 계산\n",
        "\n",
        "`-` 방법1: 브로드캐스팅"
      ],
      "id": "41171fab-2b82-4441-b191-50035b07a3cd"
    },
    {
      "cell_type": "code",
      "execution_count": 112,
      "metadata": {
        "vscode": {
          "languageId": "python"
        }
      },
      "outputs": [],
      "source": [
        "df.assign(r=np.sqrt(df.x**2 + df.y**2))"
      ],
      "id": "d7d2172a-8ef2-4119-8df7-336d0e401478"
    },
    {
      "cell_type": "markdown",
      "metadata": {},
      "source": [
        "`-` 방법2: (**quiz**) lambda + map을 이용한 개별원소 계산\n",
        "\n",
        "`-` 방법3: eval"
      ],
      "id": "496a46d6-0e4e-4a87-8e5c-ea6e1d8c4a8d"
    },
    {
      "cell_type": "code",
      "execution_count": 114,
      "metadata": {
        "vscode": {
          "languageId": "python"
        }
      },
      "outputs": [],
      "source": [
        "df.eval('r=sqrt(x**2+y**2)')"
      ],
      "id": "7aa627e2-a8b0-465a-a74e-e160c8f6a3a9"
    },
    {
      "cell_type": "markdown",
      "metadata": {},
      "source": [
        "# 판다스: 새로운 열의 할당 2단계 (연쇄할당)\n",
        "\n",
        "## 모티브\n",
        "\n",
        "`-` 원본데이터를 가급적 손상시키지 않으면서 데이터를 변형하고 싶음."
      ],
      "id": "292b1946-f711-47b0-a0e6-356cb56f5808"
    },
    {
      "cell_type": "code",
      "execution_count": 3,
      "metadata": {
        "vscode": {
          "languageId": "python"
        }
      },
      "outputs": [],
      "source": [
        "df = pd.DataFrame({'A':range(0,5),'B':range(1,6)})\n",
        "df"
      ],
      "id": "f32009f6-0af3-40b4-b2b8-84e729f7fd20"
    },
    {
      "cell_type": "markdown",
      "metadata": {},
      "source": [
        "복사본 생성"
      ],
      "id": "e908bc6d-4e67-4277-b2dd-1af95a73b7a4"
    },
    {
      "cell_type": "code",
      "execution_count": 4,
      "metadata": {
        "vscode": {
          "languageId": "python"
        }
      },
      "outputs": [],
      "source": [
        "df2 = df \n",
        "df2"
      ],
      "id": "8b064e0d-420d-46eb-89b8-378702440df7"
    },
    {
      "cell_type": "code",
      "execution_count": 5,
      "metadata": {
        "vscode": {
          "languageId": "python"
        }
      },
      "outputs": [],
      "source": [
        "df2['C'] = (df2.A+ df2.B)/2\n",
        "df2"
      ],
      "id": "fb4af862-2065-4af7-b1a6-577b3121abe3"
    },
    {
      "cell_type": "code",
      "execution_count": 6,
      "metadata": {
        "vscode": {
          "languageId": "python"
        }
      },
      "outputs": [],
      "source": [
        "df2['D']= (df2.C - np.mean(df2.C))/np.std(df2.C) \n",
        "df2"
      ],
      "id": "83dbaca7-a09d-461b-be82-cf86bf79c325"
    },
    {
      "cell_type": "code",
      "execution_count": 7,
      "metadata": {
        "vscode": {
          "languageId": "python"
        }
      },
      "outputs": [],
      "source": [
        "df # 니가 왜 거기서 나와??"
      ],
      "id": "5f8701c1-6627-42f9-8188-f780dcdd2782"
    },
    {
      "cell_type": "markdown",
      "metadata": {},
      "source": [
        "## 해결책1: df.copy()이용, .eval()이용\n",
        "\n",
        "`-` 올바른코드1"
      ],
      "id": "f17f4363-80d6-40ca-9f14-58e719788f73"
    },
    {
      "cell_type": "code",
      "execution_count": 8,
      "metadata": {
        "vscode": {
          "languageId": "python"
        }
      },
      "outputs": [],
      "source": [
        "df = pd.DataFrame({'A':range(0,5),'B':range(1,6)})\n",
        "df2 = df.copy() \n",
        "df2['C'] = (df2.A+ df2.B)/2\n",
        "df2['D']= (df2.C - np.mean(df2.C))/np.std(df2.C) "
      ],
      "id": "04a8f1ef-f5f4-4523-9fab-cfd4cd519da4"
    },
    {
      "cell_type": "code",
      "execution_count": 9,
      "metadata": {
        "vscode": {
          "languageId": "python"
        }
      },
      "outputs": [],
      "source": [
        "df2"
      ],
      "id": "01e43a56-92ad-45d6-a724-a8e5fd4c21bb"
    },
    {
      "cell_type": "code",
      "execution_count": 10,
      "metadata": {
        "vscode": {
          "languageId": "python"
        }
      },
      "outputs": [],
      "source": [
        "df"
      ],
      "id": "b40223b1-5033-4f40-80af-4bd6457cdded"
    },
    {
      "cell_type": "markdown",
      "metadata": {},
      "source": [
        "`-` 올바른코드2"
      ],
      "id": "1a47fcde-bebd-4cb6-b03a-3fcc1e2f61a1"
    },
    {
      "cell_type": "code",
      "execution_count": 30,
      "metadata": {
        "vscode": {
          "languageId": "python"
        }
      },
      "outputs": [],
      "source": [
        "df = pd.DataFrame({'A':range(0,5),'B':range(1,6)})\n",
        "mean = np.mean \n",
        "std = np.std \n",
        "df.eval('C=(A+B)/2').eval('D=(C-@mean(C))/@std(C)')"
      ],
      "id": "636632e2-c637-4989-88b2-a3ba13ef94d1"
    },
    {
      "cell_type": "markdown",
      "metadata": {},
      "source": [
        "-   어디까지 eval expression 안에서 지원되는지 명확하지 않고\n",
        "-   외부에 함수를 선언하고 eval expression 안에 (**를?**) 붙이는게 좀\n",
        "    귀찮음\n",
        "\n",
        "`-` 올바른코드3 (assign) –\\> 실패"
      ],
      "id": "c1810a98-dc17-421a-b8d5-56a30b652e18"
    },
    {
      "cell_type": "code",
      "execution_count": 31,
      "metadata": {
        "vscode": {
          "languageId": "python"
        }
      },
      "outputs": [],
      "source": [
        "df = pd.DataFrame({'A':range(0,5),'B':range(1,6)})\n",
        "df.assign(C= (df.A+df.B)/2) "
      ],
      "id": "21f32336-b01d-4c07-8196-246bb9de62c2"
    },
    {
      "cell_type": "code",
      "execution_count": 32,
      "metadata": {
        "vscode": {
          "languageId": "python"
        }
      },
      "outputs": [],
      "source": [
        "df.assign(C= (df.A+df.B)/2).assign(D= (df.C- np.mean(df.C))/np.std(df.C))"
      ],
      "id": "34dcb1e5-f5ec-4a1f-b2c0-8b61fcf689e2"
    },
    {
      "cell_type": "markdown",
      "metadata": {},
      "source": [
        "아래와 같이 고쳐야함"
      ],
      "id": "73b7a928-d3ae-4ba8-88e5-dfcd90fcd93c"
    },
    {
      "cell_type": "code",
      "execution_count": 39,
      "metadata": {
        "vscode": {
          "languageId": "python"
        }
      },
      "outputs": [],
      "source": [
        "_df = df.assign(C= (df.A+df.B)/2)\n",
        "_df.assign(D= (_df.C- np.mean(_df.C))/np.std(_df.C))"
      ],
      "id": "038306ab-7e0e-4c94-a9e7-4ff277261ae8"
    },
    {
      "cell_type": "markdown",
      "metadata": {},
      "source": [
        "-   이건 우리의 철학이랑 안맞음..\n",
        "\n",
        "## 해결책2: assign을 이용한 연쇄할당\n",
        "\n",
        "실패한코드는 아래와 같다."
      ],
      "id": "7564bc25-76a2-453c-a8ac-f2c59b77622f"
    },
    {
      "cell_type": "code",
      "execution_count": 44,
      "metadata": {
        "vscode": {
          "languageId": "python"
        }
      },
      "outputs": [],
      "source": [
        "df.assign(C= (df.A+df.B)/2).assign(D= (df.C- np.mean(df.C))/np.std(df.C))"
      ],
      "id": "2596c083-64d0-4a06-8bbd-6216bd4e962c"
    },
    {
      "cell_type": "markdown",
      "metadata": {},
      "source": [
        "두번째 assign에서 표현된 df.C 에서, df가 `current df` (=\n",
        "`df.assign(C= (df.A+df.B)/2)` 까지 연산된 상태) 를 의미하도록 만들고\n",
        "싶다. $\\to$ 아래와 같이 `lambda df:` 를 추가하면 된다."
      ],
      "id": "7d46eb29-f4a1-4c1b-ba27-ca69d97666de"
    },
    {
      "cell_type": "code",
      "execution_count": 49,
      "metadata": {
        "vscode": {
          "languageId": "python"
        }
      },
      "outputs": [],
      "source": [
        "df.assign(C= (df.A+df.B)/2).assign(D= lambda df: (df.C- np.mean(df.C))/np.std(df.C))"
      ],
      "id": "771629ca-e38d-42d3-83b2-ff393f7f7c94"
    },
    {
      "cell_type": "markdown",
      "metadata": {},
      "source": [
        "`-` 연쇄할당"
      ],
      "id": "c39f9e55-2033-4c48-ae8f-b989b4c03343"
    },
    {
      "cell_type": "code",
      "execution_count": 55,
      "metadata": {
        "vscode": {
          "languageId": "python"
        }
      },
      "outputs": [],
      "source": [
        "df.assign(C = (df.A+df.B)/2).assign(D = lambda df: df.C +2).assign(E = lambda df: df.D - 2)"
      ],
      "id": "0fe4681b-f349-44d6-98d7-00c04f993b8b"
    },
    {
      "cell_type": "markdown",
      "metadata": {},
      "source": [
        "# Quiz\n",
        "\n",
        "다음과 같은 데이터프레임을 불러온 뒤 물음에 답하라"
      ],
      "id": "d24b2b4e-d9b0-440e-a096-9297e0ce0b54"
    },
    {
      "cell_type": "code",
      "execution_count": 518,
      "metadata": {
        "vscode": {
          "languageId": "python"
        }
      },
      "outputs": [],
      "source": [
        "df=pd.read_csv('https://raw.githubusercontent.com/guebin/DV2022/master/_notebooks/dv2022.csv')\n",
        "df"
      ],
      "id": "112abc1b-f176-41c3-8990-529107927aab"
    },
    {
      "cell_type": "markdown",
      "metadata": {},
      "source": [
        "`(1)` 기말고사 성적이 중간고사 성적보다 향상된 학생들을 출력하라. 즉 mid\n",
        "\\< fin 인 학생들을 출력하라. (다양한 방법으로 연습할 것, 제출은 한 가지\n",
        "방법으로 구현해도 감점없음)"
      ],
      "id": "dcbe76a3-3878-4908-b90c-f683b86ca241"
    },
    {
      "cell_type": "code",
      "execution_count": 521,
      "metadata": {
        "vscode": {
          "languageId": "python"
        }
      },
      "outputs": [],
      "source": [
        "# 구현결과가 아래와 같아야 한다. "
      ],
      "id": "75467ba7-895b-47e4-b90a-f226d163bc26"
    },
    {
      "cell_type": "markdown",
      "metadata": {},
      "source": [
        "`(2)` 기말고사 성적이 중간고사 성적보다 향상된 학생들의 출석과 레포트\n",
        "점수를 출력하라."
      ],
      "id": "e6474148-f4f9-4179-b552-0c74f2ecb5ef"
    },
    {
      "cell_type": "code",
      "execution_count": 523,
      "metadata": {
        "vscode": {
          "languageId": "python"
        }
      },
      "outputs": [],
      "source": [
        "# 구현결과가 아래와 같아야 한다. "
      ],
      "id": "0c9c89fb-d51e-4669-a5a4-90cb2b1203a9"
    },
    {
      "cell_type": "code",
      "execution_count": 64,
      "metadata": {
        "vscode": {
          "languageId": "python"
        }
      },
      "outputs": [],
      "source": [
        "df = pd.DataFrame({'a':[1,2,3,4],'b':[2,3,4,5],'c':[3,4,5,6],'d':[4,5,6,7]})\n",
        "df"
      ],
      "id": "c4954199-345d-4555-8623-d7fdf6853298"
    },
    {
      "cell_type": "markdown",
      "metadata": {},
      "source": [
        "## `2`.\n",
        "\n",
        "아래의 결과를 관찰하고 drop의 기능을 유추하라.\n",
        "\n",
        "(예시1)"
      ],
      "id": "cb62e9b9-247d-4d5c-ba25-47e83ed946e6"
    },
    {
      "cell_type": "code",
      "execution_count": 65,
      "metadata": {
        "vscode": {
          "languageId": "python"
        }
      },
      "outputs": [],
      "source": [
        "df.drop(columns='a')"
      ],
      "id": "aa431f5f-a12a-44e3-b255-2c1935a88e99"
    },
    {
      "cell_type": "markdown",
      "metadata": {},
      "source": [
        "(예시2)"
      ],
      "id": "8eb162b4-5129-4d68-a521-52cadd930d89"
    },
    {
      "cell_type": "code",
      "execution_count": 66,
      "metadata": {
        "vscode": {
          "languageId": "python"
        }
      },
      "outputs": [],
      "source": [
        "df.drop(columns=['a','b'])"
      ],
      "id": "4d7b050d-3585-4be1-aefd-3fc339a88fdf"
    },
    {
      "cell_type": "markdown",
      "metadata": {},
      "source": [
        "(예시3)"
      ],
      "id": "9c256e1e-91a7-4de6-8f3d-39db0216a09e"
    },
    {
      "cell_type": "code",
      "execution_count": 67,
      "metadata": {
        "vscode": {
          "languageId": "python"
        }
      },
      "outputs": [],
      "source": [
        "df.drop(index=0)"
      ],
      "id": "3f14b54d-6895-4fbf-a010-1f74e5db84d6"
    },
    {
      "cell_type": "markdown",
      "metadata": {},
      "source": [
        "(예시4)"
      ],
      "id": "1455b0ca-bc3a-4e83-bf1e-de305da2d52d"
    },
    {
      "cell_type": "code",
      "execution_count": 71,
      "metadata": {
        "vscode": {
          "languageId": "python"
        }
      },
      "outputs": [],
      "source": [
        "df.drop(index=range(2,4))"
      ],
      "id": "80942cfe-225f-498d-ab8b-c870c56319e2"
    },
    {
      "cell_type": "markdown",
      "metadata": {},
      "source": [
        "문제: `df` 에서 a,c열을 삭제하고 첫행을 삭제하라."
      ],
      "id": "73d3ba0e-cd09-4713-8df2-2326ce9ee928"
    },
    {
      "cell_type": "code",
      "execution_count": 78,
      "metadata": {
        "vscode": {
          "languageId": "python"
        }
      },
      "outputs": [],
      "source": [
        "#출력결과는 아래와 같아야 한다. "
      ],
      "id": "2b2e27f5-ed9d-4e58-bbdf-c18c3f4dbdad"
    }
  ],
  "nbformat": 4,
  "nbformat_minor": 5,
  "metadata": {
    "kernelspec": {
      "name": "python3",
      "display_name": "Python 3",
      "language": "python"
    },
    "language_info": {
      "name": "python",
      "codemirror_mode": {
        "name": "ipython",
        "version": "3"
      },
      "file_extension": ".py",
      "mimetype": "text/x-python",
      "nbconvert_exporter": "python",
      "pygments_lexer": "ipython3",
      "version": "3.8.16"
    }
  }
}