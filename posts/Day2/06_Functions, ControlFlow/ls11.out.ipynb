{
  "cells": [
    {
      "cell_type": "markdown",
      "metadata": {},
      "source": [
        "# Lesson 12: pandas + lambda, map\n",
        "\n",
        "최규빈  \n",
        "2023-01-31\n",
        "\n",
        "<a href=\"https://colab.research.google.com/github/guebin/IP2023WIN/blob/main/posts/Day2/06_Functions, ControlFlow/2023-01-31-Lesson12.ipynb\"><img src=\"https://colab.research.google.com/assets/colab-badge.svg\" style=\"text-align: left\"></a>\n",
        "\n",
        "# ref\n",
        "\n",
        "<https://guebin.github.io/DV2022/posts/2022-10-12-6wk-12.html#판다스-인덱싱-1단계-인덱싱의-4가지-컨셉>\n",
        "\n",
        "<https://guebin.github.io/DV2022/posts/2022-10-17-7wk-1.html>\n",
        "\n",
        "<https://guebin.github.io/DV2022/posts/2022-10-24-8wk-12.html#판다스-새로운-열의-할당-2단계-연쇄할당>\n",
        "\n",
        "# imports"
      ],
      "id": "f8d5c6dd-ea0c-48ad-9a0c-66c66d37ff87"
    },
    {
      "cell_type": "code",
      "execution_count": 1,
      "metadata": {
        "vscode": {
          "languageId": "python"
        }
      },
      "outputs": [],
      "source": [
        "import numpy as np\n",
        "import pandas as pd\n",
        "import matplotlib.pyplot as plt "
      ],
      "id": "bced11ae-41b1-4149-816f-cb2b443b50b6"
    },
    {
      "cell_type": "markdown",
      "metadata": {},
      "source": [
        "# 복습\n",
        "\n",
        "`-` 아래와 같은 정보를 가지는 데이터 프레임을 생성하라.\n",
        "\n",
        "|     | att | rep | mid | fin |\n",
        "|:---:|:---:|:---:|:---:|:---:|\n",
        "|  0  | 65  | 45  |  0  | 10  |\n",
        "|  1  | 25  | 45  | 20  | 50  |\n",
        "|  2  | 45  | 45  | 10  | 60  |\n",
        "|  3  | 35  | 35  | 10  | 80  |"
      ],
      "id": "1aad34ed-4a71-4ad1-afdb-551958a1a1d5"
    },
    {
      "cell_type": "code",
      "execution_count": 12,
      "metadata": {
        "vscode": {
          "languageId": "python"
        }
      },
      "outputs": [],
      "source": [
        "df = pd.DataFrame({'att':[65,25,45,35], 'rep':[45,45,45,35], 'mid':[0,20,10,10], 'fin':[10,50,60,80]})\n",
        "df"
      ],
      "id": "f5fe1a79-640c-4cb4-b680-1be2966b1925"
    },
    {
      "cell_type": "code",
      "execution_count": 15,
      "metadata": {
        "vscode": {
          "languageId": "python"
        }
      },
      "outputs": [],
      "source": [
        "df.to_csv(\"sample.csv\",index=False)\n",
        "pd.read_csv(\"sample.csv\")"
      ],
      "id": "089e3369-c120-4100-915f-d37113a6a0f6"
    },
    {
      "cell_type": "markdown",
      "metadata": {},
      "source": [
        "`-` 이 데이터 프레임을 “sample.csv” 파일로 저장하라.\n",
        "\n",
        "**힌트** 아래코드를 이용\n",
        "\n",
        "``` python\n",
        "df.to_csv(\"sample.csv\",index=False)\n",
        "```\n",
        "\n",
        "`-` 저장된 데이터 프레임을 다시 불러오고 df2로 저장하라.\n",
        "\n",
        "**힌트**\n",
        "\n",
        "``` python\n",
        "pd.read_csv(\"sample.csv\") 이용 \n",
        "```\n",
        "\n",
        "# 판다스: 인덱싱 1단계– 인덱싱의 4가지 컨셉\n",
        "\n",
        "## 데이터프레임 준비\n",
        "\n",
        "`-` 데이터준비"
      ],
      "id": "5758e5dd-7f32-49db-8b15-9556515e777b"
    },
    {
      "cell_type": "code",
      "execution_count": 17,
      "metadata": {
        "vscode": {
          "languageId": "python"
        }
      },
      "outputs": [],
      "source": [
        "df=pd.read_csv('https://raw.githubusercontent.com/guebin/DV2022/master/posts/dv2022.csv')\n",
        "df"
      ],
      "id": "f41d9b87-d639-4e12-b48e-52d7b1651633"
    },
    {
      "cell_type": "markdown",
      "metadata": {},
      "source": [
        "`-` 앞으로는 위와 같은 df형태를 가정할 것이다. 즉 column의 이름은\n",
        "문자열, row의 이름은 0부터 시작하는 정수로 가정한다.\n",
        "\n",
        "`-` 아래와 같은 형태는 일단 생각하지 않는다."
      ],
      "id": "cfa0121f-1e2e-466a-b165-ac19405c5cab"
    },
    {
      "cell_type": "code",
      "execution_count": 21,
      "metadata": {
        "vscode": {
          "languageId": "python"
        }
      },
      "outputs": [],
      "source": [
        "pd.DataFrame({'att':[60,65,80,90],'rep':[50,100,90,100]},index=['규빈','영미','성준','혜미'])"
      ],
      "id": "9bad4655-f72c-4dbe-8c7a-c01973e225d4"
    },
    {
      "cell_type": "markdown",
      "metadata": {},
      "source": [
        "## df의 4가지 컨셉\n",
        "\n",
        "`-` 원소에 접근하는 4가지 방법: `.`, `[]`, `.iloc[]`, `.loc[]`\n",
        "\n",
        "## 컨셉1: 클래스느낌\n",
        "\n",
        "`-` 컨셉1: df는 인스턴스이다. 그리고 df.att, df.rep,df.mid, df.fin 와\n",
        "같이 col이름에 대응하는 속성이 있다."
      ],
      "id": "2df16ef2-4ebc-4fb3-9a23-de226a4dd5cc"
    },
    {
      "cell_type": "code",
      "execution_count": 5,
      "metadata": {
        "vscode": {
          "languageId": "python"
        }
      },
      "outputs": [],
      "source": [
        "df.head()"
      ],
      "id": "2fd217f9-27a7-4aac-95a7-081256fe5709"
    },
    {
      "cell_type": "code",
      "execution_count": 294,
      "metadata": {
        "vscode": {
          "languageId": "python"
        }
      },
      "outputs": [],
      "source": [
        "df.fin"
      ],
      "id": "54c96fc3-62b0-4396-82bc-f74e3e92b6c0"
    },
    {
      "cell_type": "markdown",
      "metadata": {},
      "source": [
        "`-` 언제유용? col의 이름을 대충 알고 있을 경우 자동완성으로 쉽게\n",
        "선택가능\n",
        "\n",
        "## 컨셉2: 딕셔너리 + $\\alpha$ 느낌\n",
        "\n",
        "`-` 컨셉2: df는 컬럼이름이 key, 컬럼의데이터가 value가 되는 dictionary로\n",
        "이해할 수 있다. 즉 아래의 dct와 같은 딕셔너리로 이해할 수 있다."
      ],
      "id": "f8d26258-7753-4434-9463-2dc3aa453187"
    },
    {
      "cell_type": "code",
      "execution_count": 35,
      "metadata": {
        "vscode": {
          "languageId": "python"
        }
      },
      "outputs": [],
      "source": [
        "dct = dict(df) \n",
        "#dct"
      ],
      "id": "cf8c592c-8d38-454e-b0c8-44f9bdf187f3"
    },
    {
      "cell_type": "markdown",
      "metadata": {},
      "source": [
        "(예시) .keys() 메소드를 이용하여 컬럼들의 이름을 살펴볼 수 있음."
      ],
      "id": "56c0f50f-b18c-472e-818e-6c26807f911d"
    },
    {
      "cell_type": "code",
      "execution_count": 37,
      "metadata": {
        "vscode": {
          "languageId": "python"
        }
      },
      "outputs": [],
      "source": [
        "dct.keys()"
      ],
      "id": "1ffbd889-880a-4070-862a-b91a0a6075f7"
    },
    {
      "cell_type": "code",
      "execution_count": 16,
      "metadata": {
        "vscode": {
          "languageId": "python"
        }
      },
      "outputs": [],
      "source": [
        "dct.keys(), df.keys()"
      ],
      "id": "7802df23-0c93-46e1-bd2a-e629ba1f19a9"
    },
    {
      "cell_type": "markdown",
      "metadata": {},
      "source": [
        "### `#` col indexing\n",
        "\n",
        "`-` 예시1: dct가 가능하면 df도 가능하다."
      ],
      "id": "4aad227f-ad74-4881-808b-d2070fc062ce"
    },
    {
      "cell_type": "code",
      "execution_count": 40,
      "metadata": {
        "vscode": {
          "languageId": "python"
        }
      },
      "outputs": [],
      "source": [
        "df['att']\n",
        "#dct['att'] "
      ],
      "id": "32947fdd-c6f5-45a6-8168-7f4792bde96a"
    },
    {
      "cell_type": "markdown",
      "metadata": {},
      "source": [
        "`-` 예시2: dct가 가능하면 df도 가능하다. (2)"
      ],
      "id": "b35992e7-2879-43cc-b24e-4e0f2e5b970e"
    },
    {
      "cell_type": "code",
      "execution_count": 18,
      "metadata": {
        "vscode": {
          "languageId": "python"
        }
      },
      "outputs": [],
      "source": [
        "df.get('att')\n",
        "#dct.get('att') "
      ],
      "id": "aa931d95-549e-48a8-979e-425aa635390a"
    },
    {
      "cell_type": "markdown",
      "metadata": {},
      "source": [
        "`-` 예시3: dct에서 불가능하지만 df에서 가능한것도 있다."
      ],
      "id": "0190ce33-013b-4327-aa20-d0222c09e8e7"
    },
    {
      "cell_type": "code",
      "execution_count": 19,
      "metadata": {
        "vscode": {
          "languageId": "python"
        }
      },
      "outputs": [],
      "source": [
        "dct.get(['att','rep'])"
      ],
      "id": "01f8f1d3-a0bf-4981-ac02-23c7e7f8767d"
    },
    {
      "cell_type": "code",
      "execution_count": 20,
      "metadata": {
        "vscode": {
          "languageId": "python"
        }
      },
      "outputs": [],
      "source": [
        "df.get(['att','rep'])"
      ],
      "id": "5338ff3c-cde2-49fd-a156-c6c284bfab1b"
    },
    {
      "cell_type": "markdown",
      "metadata": {},
      "source": [
        "`-` 예시4: dct에서 불가능하지만 df에서 가능한것도 있다. (2)"
      ],
      "id": "8cd2b6ba-8963-487a-b472-c0932ecc3654"
    },
    {
      "cell_type": "code",
      "execution_count": 21,
      "metadata": {
        "vscode": {
          "languageId": "python"
        }
      },
      "outputs": [],
      "source": [
        "dct[['att','rep']]"
      ],
      "id": "724dc325-1e5f-4697-9639-dfd111e4c750"
    },
    {
      "cell_type": "code",
      "execution_count": 57,
      "metadata": {
        "vscode": {
          "languageId": "python"
        }
      },
      "outputs": [],
      "source": [
        "df[['att','rep']]"
      ],
      "id": "93163bf0-5775-4881-a8c9-8bb12cdad250"
    },
    {
      "cell_type": "markdown",
      "metadata": {},
      "source": [
        "### `#` row indexing\n",
        "\n",
        "`-` 예시5: dct에서 불가능하지만 df에서 가능한것도 있다. (3)"
      ],
      "id": "5f16b6a3-5bb6-4509-bac6-ac90c16bff82"
    },
    {
      "cell_type": "code",
      "execution_count": 64,
      "metadata": {
        "vscode": {
          "languageId": "python"
        }
      },
      "outputs": [],
      "source": [
        "dct[:5] "
      ],
      "id": "f39d28bf-3fdf-49fc-9f16-ec333f79a360"
    },
    {
      "cell_type": "code",
      "execution_count": 65,
      "metadata": {
        "vscode": {
          "languageId": "python"
        }
      },
      "outputs": [],
      "source": [
        "df[:5]"
      ],
      "id": "c80c3e6e-6a26-4789-8d5d-cd82d7beca3f"
    },
    {
      "cell_type": "markdown",
      "metadata": {},
      "source": [
        "**Quiz**\n",
        "\n",
        "1.  df의 마지막 열을 출력\n",
        "2.  df의 마지막 행을 출력\n",
        "\n",
        "## 컨셉3: 넘파이느낌\n",
        "\n",
        "`-` 컨셉3: `df.iloc`은 넘파이에러이처럼 생각가능하다. 즉 아래의 arr와\n",
        "같은 넘파이어레이로 생각가능하다."
      ],
      "id": "fdcd23d1-db01-4b58-b4cb-8626391664a3"
    },
    {
      "cell_type": "code",
      "execution_count": 71,
      "metadata": {
        "vscode": {
          "languageId": "python"
        }
      },
      "outputs": [],
      "source": [
        "arr = np.array(df)\n",
        "#arr"
      ],
      "id": "f7512075-24e2-4620-ab62-9770759bab85"
    },
    {
      "cell_type": "markdown",
      "metadata": {},
      "source": [
        "### `#` row indexing\n",
        "\n",
        "`-` 예시1: 단일레이블"
      ],
      "id": "6d45983d-8334-4ac3-a8eb-72132c8ab184"
    },
    {
      "cell_type": "code",
      "execution_count": 26,
      "metadata": {
        "vscode": {
          "languageId": "python"
        }
      },
      "outputs": [],
      "source": [
        "arr[0,:] # first row \n",
        "arr[0,] \n",
        "arr[0]"
      ],
      "id": "b57803e3-312d-42d4-bdc5-29b509e786e1"
    },
    {
      "cell_type": "code",
      "execution_count": 79,
      "metadata": {
        "vscode": {
          "languageId": "python"
        }
      },
      "outputs": [],
      "source": [
        "df.iloc[0,:] # first row \n",
        "df.iloc[0,] \n",
        "df.iloc[0]"
      ],
      "id": "bd109161-2b8f-4578-9c42-9eb7be8a8876"
    },
    {
      "cell_type": "markdown",
      "metadata": {},
      "source": [
        "`-` 예시2: 레이블의 리스트"
      ],
      "id": "c3c64da3-a923-4069-bc42-59ae683b5a9b"
    },
    {
      "cell_type": "code",
      "execution_count": 28,
      "metadata": {
        "vscode": {
          "languageId": "python"
        }
      },
      "outputs": [],
      "source": [
        "arr[[0,1,2],:] # 처음 3개의 row 선택 \n",
        "arr[[0,1,2],] \n",
        "arr[[0,1,2]]"
      ],
      "id": "ba6aedf3-1686-4510-b1a4-7eb0dc5db9b0"
    },
    {
      "cell_type": "code",
      "execution_count": 29,
      "metadata": {
        "vscode": {
          "languageId": "python"
        }
      },
      "outputs": [],
      "source": [
        "df.iloc[[0,1,2],:] # 처음 3개의 row 선택 \n",
        "df.iloc[[0,1,2],] \n",
        "df.iloc[[0,1,2]]"
      ],
      "id": "0e5d8ee5-792b-447e-9446-266dbdec7f7c"
    },
    {
      "cell_type": "markdown",
      "metadata": {},
      "source": [
        "`-` 예시3: 슬라이싱"
      ],
      "id": "28a7c9db-c7a4-4a73-b858-fb570182d5bc"
    },
    {
      "cell_type": "code",
      "execution_count": 352,
      "metadata": {
        "vscode": {
          "languageId": "python"
        }
      },
      "outputs": [],
      "source": [
        "arr[0:3,:] # 처음 3개의 row선택, 끝점포함X\n",
        "arr[0:3,] \n",
        "arr[0:3]"
      ],
      "id": "2e238cde-4faf-4a69-acdf-6da18bbc2b26"
    },
    {
      "cell_type": "code",
      "execution_count": 353,
      "metadata": {
        "vscode": {
          "languageId": "python"
        }
      },
      "outputs": [],
      "source": [
        "df.iloc[0:3,:] # 처음 3개의 row선택, 끝점포함X\n",
        "df.iloc[0:3,] \n",
        "df.iloc[0:3]"
      ],
      "id": "0a0b7656-7a39-456a-a366-e41b6f114f3a"
    },
    {
      "cell_type": "markdown",
      "metadata": {},
      "source": [
        "### `#` col indexing\n",
        "\n",
        "`-` 예시1: 단일레이블"
      ],
      "id": "ff0b1893-06a1-4946-8798-d77eb3c05fe9"
    },
    {
      "cell_type": "code",
      "execution_count": 362,
      "metadata": {
        "vscode": {
          "languageId": "python"
        }
      },
      "outputs": [],
      "source": [
        "df.iloc[:,0] # first column \n",
        "# arr[:,0] # first column "
      ],
      "id": "428e996b-63a4-4f38-9b5b-cab3c8451db4"
    },
    {
      "cell_type": "markdown",
      "metadata": {},
      "source": [
        "`-` 예시2: 레이블의 리스트"
      ],
      "id": "fb556040-6bcb-4314-804a-d13964b0dda4"
    },
    {
      "cell_type": "code",
      "execution_count": 363,
      "metadata": {
        "vscode": {
          "languageId": "python"
        }
      },
      "outputs": [],
      "source": [
        "df.iloc[:,[0,2]] # col1, col3 을 선택\n",
        "# arr[:,[0,2]] # col1, col3 을 선택"
      ],
      "id": "648d5204-3dff-49f0-b0a7-8f5f3aad4669"
    },
    {
      "cell_type": "markdown",
      "metadata": {},
      "source": [
        "`-` 예시3: 슬랑이싱"
      ],
      "id": "c91219d3-a57d-4a11-b018-bae392911dcb"
    },
    {
      "cell_type": "code",
      "execution_count": 366,
      "metadata": {
        "vscode": {
          "languageId": "python"
        }
      },
      "outputs": [],
      "source": [
        "df.iloc[:,0:3] # 처음 3개의 col선택, 끝점포함X\n",
        "#arr[:,0:3]"
      ],
      "id": "bc90bc34-df88-4b18-a51a-fc30d577105b"
    },
    {
      "cell_type": "markdown",
      "metadata": {},
      "source": [
        "### `#` row + col indexing"
      ],
      "id": "266a5b37-6149-4537-9f65-ddd20f6da501"
    },
    {
      "cell_type": "code",
      "execution_count": 98,
      "metadata": {
        "vscode": {
          "languageId": "python"
        }
      },
      "outputs": [],
      "source": [
        "df.iloc[::2,:] ## 홀수번째(=짝수인덱스)행을 출력,"
      ],
      "id": "b6a1ca4b-2fd2-4d79-8d45-7a61ece53405"
    },
    {
      "cell_type": "markdown",
      "metadata": {},
      "source": [
        "**Quiz**\n",
        "\n",
        "1.  df의 마지막 열을 출력\n",
        "2.  df의 마지막 행을 출력\n",
        "3.  df의 마지막 행의 마지막 열을 출력\n",
        "4.  df의 짝수번째 열을 출력\n",
        "\n",
        "## 컨셉4: 데이터프레임 느낌\n",
        "\n",
        "`-` 컨셉4: `df.loc`은 새로운 느낌..\n",
        "\n",
        "### `#` row indexing\n",
        "\n",
        "`-` 예시1: 단일레이블"
      ],
      "id": "26fc0c6c-3ed8-4e0b-acee-07fa0a34b287"
    },
    {
      "cell_type": "code",
      "execution_count": 111,
      "metadata": {
        "vscode": {
          "languageId": "python"
        }
      },
      "outputs": [],
      "source": [
        "df.loc[0,:] # 첫번째 row를 선택 \n",
        "df.loc[0,]\n",
        "df.loc[0] "
      ],
      "id": "fcc5c835-86c6-43c0-9872-3ad2b74b1fcd"
    },
    {
      "cell_type": "markdown",
      "metadata": {},
      "source": [
        "`-` 예시2: 레이블의 리스트"
      ],
      "id": "7f6d2bad-6163-4eec-b27f-5c879d019613"
    },
    {
      "cell_type": "code",
      "execution_count": 112,
      "metadata": {
        "vscode": {
          "languageId": "python"
        }
      },
      "outputs": [],
      "source": [
        "df.loc[[0,1,2],:] # 처음 3개의 row를 선택 \n",
        "df.loc[[0,1,2],]\n",
        "df.loc[[0,1,2]] "
      ],
      "id": "949f2f05-0197-4ed9-867b-d92daa830647"
    },
    {
      "cell_type": "markdown",
      "metadata": {},
      "source": [
        "`-` 예시3: 슬라이싱 (끝점포함 O)"
      ],
      "id": "23dd72b0-b447-43bd-98c0-fef4d42b9b84"
    },
    {
      "cell_type": "code",
      "execution_count": 114,
      "metadata": {
        "vscode": {
          "languageId": "python"
        }
      },
      "outputs": [],
      "source": [
        "df.loc[0:3,:] # 처음 4개의 row를 선택, 끝점포함 \n",
        "df.loc[0:3,]\n",
        "df.loc[0:3] "
      ],
      "id": "58a239ee-44df-43d4-a4fb-1cac87bf14af"
    },
    {
      "cell_type": "markdown",
      "metadata": {},
      "source": [
        "**Quiz**\n",
        "\n",
        "2번째 row부터 5번째 row까지 출력하라. loc과 iloc으로 각각 출력해볼 것\n",
        "(슬라이싱을 이용)\n",
        "\n",
        "### `#` col indexing\n",
        "\n",
        "`-` 예시1: 단일레이블"
      ],
      "id": "cf505b11-73a0-44ad-b211-808ad0b9b333"
    },
    {
      "cell_type": "code",
      "execution_count": 393,
      "metadata": {
        "vscode": {
          "languageId": "python"
        }
      },
      "outputs": [],
      "source": [
        "df.loc[:,'att'] "
      ],
      "id": "a0bdf627-70e8-43a6-a1a6-d3db72642e71"
    },
    {
      "cell_type": "markdown",
      "metadata": {},
      "source": [
        "`-` 예시2: 레이블의 리스트"
      ],
      "id": "6c556b14-68c1-43d3-8c24-48b8fc982d9a"
    },
    {
      "cell_type": "code",
      "execution_count": 394,
      "metadata": {
        "vscode": {
          "languageId": "python"
        }
      },
      "outputs": [],
      "source": [
        "df.loc[:,['att','mid']] "
      ],
      "id": "2d5671b2-8180-4ada-b35a-355f75fc43c7"
    },
    {
      "cell_type": "markdown",
      "metadata": {},
      "source": [
        "`-` 예시3: 슬라이싱 (끝점포함 O)"
      ],
      "id": "0ec596f3-f12a-40db-a705-9010676cd27f"
    },
    {
      "cell_type": "code",
      "execution_count": 395,
      "metadata": {
        "vscode": {
          "languageId": "python"
        }
      },
      "outputs": [],
      "source": [
        "df.loc[:,'att':'mid'] # 끝점포함 "
      ],
      "id": "267153cf-0ab7-4048-81a6-d163c43f8914"
    },
    {
      "cell_type": "markdown",
      "metadata": {},
      "source": [
        "### `#` row + col indexing"
      ],
      "id": "1569d4c3-0fab-4476-ae46-1e2311c77264"
    },
    {
      "cell_type": "code",
      "execution_count": 404,
      "metadata": {
        "vscode": {
          "languageId": "python"
        }
      },
      "outputs": [],
      "source": [
        "df.loc[::-1,'att':'mid'] # 끝점포함 "
      ],
      "id": "1dc59cfa-979e-44e0-9e2f-378402b9f7e3"
    },
    {
      "cell_type": "markdown",
      "metadata": {},
      "source": [
        "**Quiz**\n",
        "\n",
        "출석점수의 짝수번째 row를 출력하라.\n",
        "\n",
        "## 컨셉1~4 정리\n",
        "\n",
        "|                  | `.` | `[]` | `.iloc` | `.loc` |\n",
        "|:----------------:|:---:|:----:|:-------:|:------:|\n",
        "|  row/단일레이블  |  X  |  X   |    O    |   O    |\n",
        "|  col/단일레이블  |  O  |  O   |    O    |   O    |\n",
        "| row/레이블리스트 |  X  |  X   |    O    |   O    |\n",
        "| col/레이블리스트 |  X  |  O   |    O    |   O    |\n",
        "|   row/슬라이싱   |  X  |  O   |    O    |   O    |\n",
        "|   col/슬라이싱   |  X  |  X   |    O    |   O    |\n",
        "\n",
        "`-` col 이름을 알아야하는 부담감 - `.` : 앞글자만 대충 알아도 자동완성\n",
        "가능 - `[]`: 정확한 col 이름을 알아야 함 - `.loc`: 보통 정확한 col\n",
        "이름을 알아야 하지만 슬라이싱 이용시 양 끝의 컬럼이름만 알면 무방 -\n",
        "`.iloc`: 정확한 col 이름을 몰라도 번호로 인덱싱 가능\n",
        "\n",
        "`-` 자주하는 실수"
      ],
      "id": "ed09ad57-2b52-4153-9fd9-48406a2d7408"
    },
    {
      "cell_type": "code",
      "execution_count": 134,
      "metadata": {
        "vscode": {
          "languageId": "python"
        }
      },
      "outputs": [],
      "source": [
        "df['att'] # 가능 \n",
        "# df.loc['att'] # 불가능\n",
        "df.loc[:,'att'] # 가능"
      ],
      "id": "ac4b2309-b521-4f05-8f81-404eb7b4139e"
    },
    {
      "cell_type": "markdown",
      "metadata": {},
      "source": [
        "# 판다스: 인덱싱 2단계– 필터링(특정조건에 맞는 row를 선택)\n",
        "\n",
        "## att \\> 90 and rep \\< 50\n",
        "\n",
        "`-` 방법1: .query()를 이용"
      ],
      "id": "d151ff48-f663-44fa-86ed-7f37333942da"
    },
    {
      "cell_type": "code",
      "execution_count": 138,
      "metadata": {
        "vscode": {
          "languageId": "python"
        }
      },
      "outputs": [],
      "source": [
        "df.query('att>90 and rep<50')"
      ],
      "id": "b585ea36-ffee-449b-8f9f-442ba54d1c18"
    },
    {
      "cell_type": "code",
      "execution_count": 139,
      "metadata": {
        "vscode": {
          "languageId": "python"
        }
      },
      "outputs": [],
      "source": [
        "df.query('(att>90)&(rep<50)') "
      ],
      "id": "19ec435c-d246-4bff-8828-4bc72e287061"
    },
    {
      "cell_type": "code",
      "execution_count": 141,
      "metadata": {
        "vscode": {
          "languageId": "python"
        }
      },
      "outputs": [],
      "source": [
        "df.query('att>90 & rep<50') "
      ],
      "id": "425f88c7-cdf0-4bc1-a130-59106c0d29fd"
    },
    {
      "cell_type": "markdown",
      "metadata": {},
      "source": [
        "`-` 방법2: \\[\\], `.iloc`, `.loc`\n",
        "\n",
        "(예비학습)"
      ],
      "id": "2f264f22-e973-4c89-8341-146487bd5486"
    },
    {
      "cell_type": "code",
      "execution_count": 47,
      "metadata": {
        "vscode": {
          "languageId": "python"
        }
      },
      "outputs": [],
      "source": [
        "True&True, True&False, False&True, False&False"
      ],
      "id": "7d76e786-af8b-4f4d-9499-5fd459e9f7ee"
    },
    {
      "cell_type": "code",
      "execution_count": 48,
      "metadata": {
        "vscode": {
          "languageId": "python"
        }
      },
      "outputs": [],
      "source": [
        "True|True, True|False, False|True, False|False"
      ],
      "id": "0ebe3b78-a1bb-451b-b8fc-9da5943de01f"
    },
    {
      "cell_type": "code",
      "execution_count": 147,
      "metadata": {
        "vscode": {
          "languageId": "python"
        }
      },
      "outputs": [],
      "source": [
        "(df.att>90) & (df.rep<50)"
      ],
      "id": "43cda997-debc-4740-8c1d-0111b98b8d96"
    },
    {
      "cell_type": "markdown",
      "metadata": {},
      "source": [
        "예비학습 끝"
      ],
      "id": "cc626cf2-6e88-4e08-85b2-a9cd3b5a9358"
    },
    {
      "cell_type": "code",
      "execution_count": 51,
      "metadata": {
        "vscode": {
          "languageId": "python"
        }
      },
      "outputs": [],
      "source": [
        "df[(df.att > 90)&(df.rep < 50)]\n",
        "df.loc[(df.att > 90)&(df.rep < 50)]\n",
        "df.iloc[list((df.att > 90)&(df.rep < 50))]"
      ],
      "id": "4602e917-fc8c-4c4c-9869-3b1b452bcb23"
    },
    {
      "cell_type": "markdown",
      "metadata": {},
      "source": [
        "`-` 방법3: \\[\\], `.iloc`, `.loc` // map, lambda"
      ],
      "id": "0cbb838b-06b8-454b-9b11-211b8834ae28"
    },
    {
      "cell_type": "code",
      "execution_count": 157,
      "metadata": {
        "vscode": {
          "languageId": "python"
        }
      },
      "outputs": [],
      "source": [
        "df.att > 90"
      ],
      "id": "ee7bd034-d505-40f7-972d-c7cf18760e1f"
    },
    {
      "cell_type": "code",
      "execution_count": 169,
      "metadata": {
        "vscode": {
          "languageId": "python"
        }
      },
      "outputs": [],
      "source": [
        "df[list(map(lambda x,y: (x>90)&(y<50), df.att, df.rep))]\n",
        "# df[map(lambda x,y: (x>90)&(y<50), df.att, df.rep)] # 이것은 불가능"
      ],
      "id": "b361be89-962e-409a-aa15-f309cccd1f72"
    },
    {
      "cell_type": "code",
      "execution_count": 497,
      "metadata": {
        "vscode": {
          "languageId": "python"
        }
      },
      "outputs": [],
      "source": [
        "df.iloc[list(map(lambda x,y: (x>90)&(y<50), df.att, df.rep))]\n",
        "df.iloc[map(lambda x,y: (x>90)&(y<50), df.att, df.rep)]"
      ],
      "id": "1bea95be-26a2-4202-935f-a61e24515b14"
    },
    {
      "cell_type": "code",
      "execution_count": 496,
      "metadata": {
        "vscode": {
          "languageId": "python"
        }
      },
      "outputs": [],
      "source": [
        "df.loc[list(map(lambda x,y: (x>90)&(y<50), df.att, df.rep))]\n",
        "df.loc[map(lambda x,y: (x>90)&(y<50), df.att, df.rep)]"
      ],
      "id": "63c00790-486a-427c-8a49-e2db29e85184"
    },
    {
      "cell_type": "markdown",
      "metadata": {},
      "source": [
        "## att \\> mean(att)\n",
        "\n",
        "`-` 방법1: .query()를 이용"
      ],
      "id": "b50f5973-bcc5-4d5a-9ddc-8b2c471aff37"
    },
    {
      "cell_type": "code",
      "execution_count": 507,
      "metadata": {
        "vscode": {
          "languageId": "python"
        }
      },
      "outputs": [],
      "source": [
        "df.query('att> att.mean()') "
      ],
      "id": "0d335dbb-037e-47cc-84e4-f0a71bd18a43"
    },
    {
      "cell_type": "markdown",
      "metadata": {},
      "source": [
        "`-` 방법2: \\[\\], `.iloc`, `.loc`"
      ],
      "id": "ff7f964c-70e6-4f70-a8c5-bf9b73ff1c60"
    },
    {
      "cell_type": "code",
      "execution_count": 506,
      "metadata": {
        "vscode": {
          "languageId": "python"
        }
      },
      "outputs": [],
      "source": [
        "df[df.att > df.att.mean()]\n",
        "df.loc[df.att > df.att.mean()]\n",
        "df.iloc[list(df.att > df.att.mean())]"
      ],
      "id": "0870a4bf-1181-4c24-9b79-58fa0dda1910"
    },
    {
      "cell_type": "markdown",
      "metadata": {},
      "source": [
        "`-` 방법3: \\[\\], `.iloc`, `.loc` // map, lambda"
      ],
      "id": "6a1d4b7e-d564-4c33-9f1e-f7529a59bf56"
    },
    {
      "cell_type": "code",
      "execution_count": 513,
      "metadata": {
        "vscode": {
          "languageId": "python"
        }
      },
      "outputs": [],
      "source": [
        "df[list(map(lambda x: x>df.att.mean() , df.att))]\n",
        "# df[map(lambda x: x>df.att.mean() , df.att)] # 이것은 불가능"
      ],
      "id": "52e782f4-62c5-4228-a665-151312818da8"
    },
    {
      "cell_type": "code",
      "execution_count": 514,
      "metadata": {
        "vscode": {
          "languageId": "python"
        }
      },
      "outputs": [],
      "source": [
        "df.iloc[list(map(lambda x: x>df.att.mean() , df.att))]\n",
        "df.iloc[map(lambda x: x>df.att.mean() , df.att)]"
      ],
      "id": "6f939866-1ca9-4039-b465-4f342f9e0002"
    },
    {
      "cell_type": "code",
      "execution_count": 515,
      "metadata": {
        "vscode": {
          "languageId": "python"
        }
      },
      "outputs": [],
      "source": [
        "df.loc[list(map(lambda x: x>df.att.mean() , df.att))]\n",
        "df.loc[map(lambda x: x>df.att.mean() , df.att)]"
      ],
      "id": "81313954-6b0b-445d-8215-e36d34aad5b4"
    },
    {
      "cell_type": "markdown",
      "metadata": {},
      "source": [
        "|                  | `.` | `[]` | `.iloc` | `.loc` |\n",
        "|:----------------:|:---:|:----:|:-------:|:------:|\n",
        "|  row/단일레이블  |  X  |  X   |    O    |   O    |\n",
        "|  col/단일레이블  |  O  |  O   |    O    |   O    |\n",
        "| row/레이블리스트 |  X  |  X   |    O    |   O    |\n",
        "| col/레이블리스트 |  X  |  O   |    O    |   O    |\n",
        "|   row/슬라이싱   |  X  |  O   |    O    |   O    |\n",
        "|   col/슬라이싱   |  X  |  X   |    O    |   O    |\n",
        "|  row/bool,list   |  X  |  O   |    O    |   O    |\n",
        "|   row/bool,ser   |  X  |  O   |    X    |   O    |\n",
        "|   row/bool,map   |  X  |  X   |    O    |   O    |\n",
        "\n",
        "**Quiz**\n",
        "\n",
        "아래와 같은 데이터 프레임을 만들어라.\n",
        "\n",
        "|     |  name   | score |\n",
        "|:---:|:-------:|:-----:|\n",
        "|  0  | Guebin  |  50   |\n",
        "|  1  |  Jaein  |  60   |\n",
        "|  2  |  Daho   |  70   |\n",
        "|  3  | Seoyeon |  80   |\n",
        "\n",
        "이름이 5글자 이상이고 점수가 55점 이상한 학생을 출력하라."
      ],
      "id": "a9a5d2fe-a57d-49e5-bbca-0a3b294a4d8b"
    },
    {
      "cell_type": "code",
      "execution_count": 208,
      "metadata": {
        "vscode": {
          "languageId": "python"
        }
      },
      "outputs": [],
      "source": [
        "df=pd.DataFrame({'name':['Guebin','Jaein','Daho','Seoyeon'],'score':[50,60,70,80]})\n",
        "df"
      ],
      "id": "889ff139-1478-4a81-9634-3d0dfb0e617c"
    },
    {
      "cell_type": "code",
      "execution_count": 195,
      "metadata": {
        "vscode": {
          "languageId": "python"
        }
      },
      "outputs": [],
      "source": [
        "df[list(map((lambda name,score: (len(name) >= 5)& (score>55)),df.name,df.score))]"
      ],
      "id": "d187a0f8-d35d-40fe-91a0-059c4449ba96"
    },
    {
      "cell_type": "markdown",
      "metadata": {},
      "source": [
        "# 판다스: 인덱싱 3단계– column의 선택 (with 실전예제)\n",
        "\n",
        "## 데이터"
      ],
      "id": "e55b95a4-213d-4c8e-9e26-ec9b88974e3a"
    },
    {
      "cell_type": "code",
      "execution_count": 210,
      "metadata": {
        "vscode": {
          "languageId": "python"
        }
      },
      "outputs": [],
      "source": [
        "df=pd.read_csv('https://raw.githubusercontent.com/PacktPublishing/Pandas-Cookbook/master/data/movie.csv')\n",
        "df"
      ],
      "id": "ddaf5ca2-8ca8-4b89-b1d7-d98810791407"
    },
    {
      "cell_type": "markdown",
      "metadata": {},
      "source": [
        "**Quiz** 열의 이름을 출력하여 보자.\n",
        "\n",
        "## 기본인덱싱 (df 인덱싱공부 1단계 내용)\n",
        "\n",
        "`-` color ~ num_voted_user 를 뽑고 + aspect_ratio 도 추가적으로\n",
        "뽑고싶다. -\\> loc으로는 못하겠어요.."
      ],
      "id": "6b9871e2-8638-4bdb-98f1-fc28101a997c"
    },
    {
      "cell_type": "code",
      "execution_count": 72,
      "metadata": {
        "vscode": {
          "languageId": "python"
        }
      },
      "outputs": [],
      "source": [
        "df.loc[:,['color':'num_voted_users','aspect_ratio']]"
      ],
      "id": "a590168b-cd6a-4d69-a73e-9ca7ed4a7cda"
    },
    {
      "cell_type": "markdown",
      "metadata": {},
      "source": [
        "`-` (팁) 복잡한 조건은 iloc으로 쓰는게 편할때가 있다. $\\to$ 그런데\n",
        "`df.columns` 변수들이 몇번인지 알아보기 힘듬 $\\to$ 아래와 같이 하면 열의\n",
        "이름을 인덱스와 함께 출력할 수 있음"
      ],
      "id": "f7ee63a4-9be6-404f-9b82-ee8b83cc3686"
    },
    {
      "cell_type": "code",
      "execution_count": 73,
      "metadata": {
        "vscode": {
          "languageId": "python"
        }
      },
      "outputs": [],
      "source": [
        "pd.Series(df.columns)"
      ],
      "id": "19b9502b-b82f-49d8-961c-9bd8df5cc982"
    },
    {
      "cell_type": "code",
      "execution_count": 74,
      "metadata": {
        "vscode": {
          "languageId": "python"
        }
      },
      "outputs": [],
      "source": [
        "list(range(13))+[26]"
      ],
      "id": "20a5daa2-ec9e-4e24-baf9-552f0fd84933"
    },
    {
      "cell_type": "code",
      "execution_count": 75,
      "metadata": {
        "vscode": {
          "languageId": "python"
        }
      },
      "outputs": [],
      "source": [
        "df.iloc[:,list(range(13))+[26]] "
      ],
      "id": "7998a44e-2e06-4178-92b0-044a106fe0e0"
    },
    {
      "cell_type": "markdown",
      "metadata": {},
      "source": [
        "## actor라는 단어가 포함된 column 선택\n",
        "\n",
        "`-` 다시 열의 이름들을 확인"
      ],
      "id": "2e6b1277-ba57-4272-ac39-41323ac72744"
    },
    {
      "cell_type": "code",
      "execution_count": 76,
      "metadata": {
        "vscode": {
          "languageId": "python"
        }
      },
      "outputs": [],
      "source": [
        "df.columns"
      ],
      "id": "b840d0b5-a13d-43f8-8c18-190d3ebd5b1f"
    },
    {
      "cell_type": "markdown",
      "metadata": {},
      "source": [
        "`-` 방법1"
      ],
      "id": "186018e5-f517-4e53-90cb-bf403f9dc787"
    },
    {
      "cell_type": "code",
      "execution_count": 77,
      "metadata": {
        "vscode": {
          "languageId": "python"
        }
      },
      "outputs": [],
      "source": [
        "df.iloc[:,list(map(lambda x : 'actor' in x, df.columns) )]"
      ],
      "id": "b4fba079-cd25-4021-af85-70c08c362e35"
    },
    {
      "cell_type": "markdown",
      "metadata": {},
      "source": [
        "`-` 방법2"
      ],
      "id": "147af5be-1733-41b3-bb7b-63250939739d"
    },
    {
      "cell_type": "code",
      "execution_count": 78,
      "metadata": {
        "vscode": {
          "languageId": "python"
        }
      },
      "outputs": [],
      "source": [
        "df.loc[:,list(map(lambda x : 'actor' in x, df.columns) )]"
      ],
      "id": "c5df58fc-5b3f-4ab3-ad1a-bd5019038651"
    },
    {
      "cell_type": "markdown",
      "metadata": {},
      "source": [
        "`-` 방법3"
      ],
      "id": "f702b369-064f-4b71-8870-406aa7936035"
    },
    {
      "cell_type": "code",
      "execution_count": 79,
      "metadata": {
        "vscode": {
          "languageId": "python"
        }
      },
      "outputs": [],
      "source": [
        "df.iloc[:,map(lambda x : 'actor' in x, df.columns)]"
      ],
      "id": "3d89a022-027e-4e3b-9ba3-4872cf1f26ff"
    },
    {
      "cell_type": "markdown",
      "metadata": {},
      "source": [
        "`-` 방법4"
      ],
      "id": "97ac70d0-e788-4c1c-ab02-a0db3cd4e63f"
    },
    {
      "cell_type": "code",
      "execution_count": 80,
      "metadata": {
        "vscode": {
          "languageId": "python"
        }
      },
      "outputs": [],
      "source": [
        "df.loc[:,map(lambda x : 'actor' in x, df.columns)]"
      ],
      "id": "1e9eb5c3-6bd2-459b-84eb-6a5c5cbd299e"
    },
    {
      "cell_type": "markdown",
      "metadata": {},
      "source": [
        "## s로 끝나는 column 선택\n",
        "\n",
        "`-` 방법1"
      ],
      "id": "6aa998eb-9d48-4bf7-bbaa-2ef50290848c"
    },
    {
      "cell_type": "code",
      "execution_count": 81,
      "metadata": {
        "vscode": {
          "languageId": "python"
        }
      },
      "outputs": [],
      "source": [
        "df.iloc[:,map(lambda x: 's' == x[-1],df.columns )]"
      ],
      "id": "a762280d-1907-489f-a6a5-2503dde4758d"
    },
    {
      "cell_type": "markdown",
      "metadata": {},
      "source": [
        "`-` 방법2"
      ],
      "id": "3b3f4323-c91c-40db-849f-e3b1fce4fcd7"
    },
    {
      "cell_type": "code",
      "execution_count": 82,
      "metadata": {
        "vscode": {
          "languageId": "python"
        }
      },
      "outputs": [],
      "source": [
        "df.loc[:,map(lambda x: 's' == x[-1],df.columns )]"
      ],
      "id": "3e331c09-cc24-46e2-b859-fd273eae0659"
    },
    {
      "cell_type": "markdown",
      "metadata": {},
      "source": [
        "## c 혹은 d로 시작하는 column 선택\n",
        "\n",
        "`-` 방법1"
      ],
      "id": "6b40cc3b-39ae-43ab-85cf-553a51e3f3ba"
    },
    {
      "cell_type": "code",
      "execution_count": 83,
      "metadata": {
        "vscode": {
          "languageId": "python"
        }
      },
      "outputs": [],
      "source": [
        "df.iloc[:,map(lambda x: 'c' == x[0] or 'd' == x[0] ,df.columns )]"
      ],
      "id": "a47b2f3b-cf45-4c92-999b-36676579d03a"
    },
    {
      "cell_type": "markdown",
      "metadata": {},
      "source": [
        "`-` 방법2"
      ],
      "id": "3d2584b5-cc75-49c0-bbb5-09b34d3ca178"
    },
    {
      "cell_type": "code",
      "execution_count": 84,
      "metadata": {
        "vscode": {
          "languageId": "python"
        }
      },
      "outputs": [],
      "source": [
        "df.loc[:,map(lambda x: 'c' == x[0] or 'd' == x[0] ,df.columns )]"
      ],
      "id": "7896f787-498b-499f-91eb-bca5d89dbf62"
    },
    {
      "cell_type": "markdown",
      "metadata": {},
      "source": [
        "**quiz**\n",
        "\n",
        "1.  column이름에 `_`가 포함되어있는 열을 모두 출력하라.\n",
        "2.  column이름에 `_`가 포함되어있는 열은 모두 몇개인가?\n",
        "\n",
        "# 판다스: 새로운 열의 할당 1단계\n",
        "\n",
        "## 방법1: concat"
      ],
      "id": "666d9d09-9d0b-4961-a25e-3d70bbaa5942"
    },
    {
      "cell_type": "code",
      "execution_count": 122,
      "metadata": {
        "vscode": {
          "languageId": "python"
        }
      },
      "outputs": [],
      "source": [
        "df = pd.DataFrame({'a':[1,2,3],'b':[2,3,4]})\n",
        "df"
      ],
      "id": "ffaa59f5-3bf8-49fa-a9a2-bcdabcf7b455"
    },
    {
      "cell_type": "code",
      "execution_count": 123,
      "metadata": {
        "vscode": {
          "languageId": "python"
        }
      },
      "outputs": [],
      "source": [
        "_df = pd.DataFrame({'c':[3,4,5]}) \n",
        "_df"
      ],
      "id": "b13a33e3-6153-4e35-9625-4611e0bfc3c3"
    },
    {
      "cell_type": "code",
      "execution_count": 124,
      "metadata": {
        "vscode": {
          "languageId": "python"
        }
      },
      "outputs": [],
      "source": [
        "pd.concat([df,_df],axis=1)"
      ],
      "id": "b311eb58-9f71-4b72-acd6-96dc04bd8112"
    },
    {
      "cell_type": "markdown",
      "metadata": {},
      "source": [
        "## 방법2: 4가지 컨셉에 따른 할당\n",
        "\n",
        "### `#` 컨셉1: 불가능"
      ],
      "id": "81999a52-357b-40af-ad2f-ef12d0cb9645"
    },
    {
      "cell_type": "code",
      "execution_count": 125,
      "metadata": {
        "vscode": {
          "languageId": "python"
        }
      },
      "outputs": [],
      "source": [
        "df = pd.DataFrame({'a':[1,2,3],'b':[2,3,4]})\n",
        "df"
      ],
      "id": "a202d0e7-8f4b-483f-8561-a17616323b23"
    },
    {
      "cell_type": "code",
      "execution_count": 126,
      "metadata": {
        "vscode": {
          "languageId": "python"
        }
      },
      "outputs": [
        {
          "output_type": "stream",
          "name": "stderr",
          "text": [
            "/home/cgb2/anaconda3/envs/py37/lib/python3.7/site-packages/ipykernel_launcher.py:1: UserWarning: Pandas doesn't allow columns to be created via a new attribute name - see https://pandas.pydata.org/pandas-docs/stable/indexing.html#attribute-access\n",
            "  \"\"\"Entry point for launching an IPython kernel."
          ]
        }
      ],
      "source": [
        "df.c = pd.Series([1,2,3]) \n",
        "df"
      ],
      "id": "b69a1b4c-fd49-40ff-bfa7-c963397614ce"
    },
    {
      "cell_type": "markdown",
      "metadata": {},
      "source": [
        "### `#` 컨셉2: 가능\n",
        "\n",
        "(예시1)"
      ],
      "id": "860ccac8-5ed0-41ff-90e3-2be8ec7497cf"
    },
    {
      "cell_type": "code",
      "execution_count": 127,
      "metadata": {
        "vscode": {
          "languageId": "python"
        }
      },
      "outputs": [],
      "source": [
        "df = pd.DataFrame({'a':[1,2,3],'b':[2,3,4]})\n",
        "df"
      ],
      "id": "fda2afd9-73ed-490b-a918-cc4120c20b0b"
    },
    {
      "cell_type": "code",
      "execution_count": 128,
      "metadata": {
        "vscode": {
          "languageId": "python"
        }
      },
      "outputs": [],
      "source": [
        "df['c']=[3,4,5]\n",
        "df"
      ],
      "id": "eefe6304-3b97-4b0f-86f7-1d02cd5d3b90"
    },
    {
      "cell_type": "markdown",
      "metadata": {},
      "source": [
        "(예시2)"
      ],
      "id": "fc1a22b6-36b1-47a5-b546-aebb17c4c537"
    },
    {
      "cell_type": "code",
      "execution_count": 129,
      "metadata": {
        "vscode": {
          "languageId": "python"
        }
      },
      "outputs": [],
      "source": [
        "df = pd.DataFrame({'a':[1,2,3],'b':[2,3,4]})\n",
        "df"
      ],
      "id": "ce222c94-669b-4696-804c-91ea19c7479c"
    },
    {
      "cell_type": "code",
      "execution_count": 130,
      "metadata": {
        "vscode": {
          "languageId": "python"
        }
      },
      "outputs": [],
      "source": [
        "df[['c','d']]=np.array([[3,4,5],[4,5,6]]).T # 굳이.. \n",
        "df"
      ],
      "id": "8febad42-06fc-4969-8f56-91b803c0b79f"
    },
    {
      "cell_type": "markdown",
      "metadata": {},
      "source": [
        "(예시3)"
      ],
      "id": "60b4df2f-19ce-46f6-86a5-e44d1d61a501"
    },
    {
      "cell_type": "code",
      "execution_count": 131,
      "metadata": {
        "vscode": {
          "languageId": "python"
        }
      },
      "outputs": [],
      "source": [
        "df = pd.DataFrame({'a':[1,2,3],'b':[2,3,4]})\n",
        "df"
      ],
      "id": "8a2ff6b6-f1fd-40e8-b194-a4f0cdee2a71"
    },
    {
      "cell_type": "code",
      "execution_count": 132,
      "metadata": {
        "vscode": {
          "languageId": "python"
        }
      },
      "outputs": [],
      "source": [
        "df['c'],df['d']=[3,4,5],[4,5,6]\n",
        "df"
      ],
      "id": "5baf165b-cfbf-41f8-b6ee-e8d347b6732a"
    },
    {
      "cell_type": "markdown",
      "metadata": {},
      "source": [
        "### `#` 컨셉3: 불가능\n",
        "\n",
        "(예시1)"
      ],
      "id": "06c079ad-b831-4c62-bd7c-43c9e07386e3"
    },
    {
      "cell_type": "code",
      "execution_count": 133,
      "metadata": {
        "vscode": {
          "languageId": "python"
        }
      },
      "outputs": [],
      "source": [
        "df = pd.DataFrame({'a':[1,2,3],'b':[2,3,4]})\n",
        "df"
      ],
      "id": "1bdc2090-156d-4a42-9793-b4ef2b6881ca"
    },
    {
      "cell_type": "code",
      "execution_count": 134,
      "metadata": {
        "vscode": {
          "languageId": "python"
        }
      },
      "outputs": [],
      "source": [
        "df.iloc[:,2] = [3,4,5] \n",
        "df"
      ],
      "id": "3d113666-d342-4933-a309-46b89b93dac3"
    },
    {
      "cell_type": "markdown",
      "metadata": {},
      "source": [
        "### `#` 컨셉4: 가능\n",
        "\n",
        "(예시1)"
      ],
      "id": "da31c5b6-e699-440a-9a69-ab3c3a05661b"
    },
    {
      "cell_type": "code",
      "execution_count": 135,
      "metadata": {
        "vscode": {
          "languageId": "python"
        }
      },
      "outputs": [],
      "source": [
        "df = pd.DataFrame({'a':[1,2,3],'b':[2,3,4]})\n",
        "df"
      ],
      "id": "25eeff73-8c4f-49bc-98f1-27f9da6a020a"
    },
    {
      "cell_type": "code",
      "execution_count": 136,
      "metadata": {
        "vscode": {
          "languageId": "python"
        }
      },
      "outputs": [],
      "source": [
        "df.loc[:,'c'] = [3,4,5] \n",
        "df"
      ],
      "id": "5230c0c0-5d4f-4b04-a98d-9d9a191891f1"
    },
    {
      "cell_type": "markdown",
      "metadata": {},
      "source": [
        "(예시2)"
      ],
      "id": "505cfc33-0b4b-471b-9b8d-c39ba667ea4f"
    },
    {
      "cell_type": "code",
      "execution_count": 137,
      "metadata": {
        "vscode": {
          "languageId": "python"
        }
      },
      "outputs": [],
      "source": [
        "df = pd.DataFrame({'a':[1,2,3],'b':[2,3,4]})\n",
        "df"
      ],
      "id": "3c20f40b-ed00-43e7-9f2d-699f04c54019"
    },
    {
      "cell_type": "code",
      "execution_count": 138,
      "metadata": {
        "vscode": {
          "languageId": "python"
        }
      },
      "outputs": [],
      "source": [
        "df.loc[:,['c','d']] = np.array([[3,4,5],[4,5,6]]).T # 이거 솔직히 되는지 몰랐어요.. \n",
        "df"
      ],
      "id": "601de30d-4090-4353-9582-8d1c9cc360ae"
    },
    {
      "cell_type": "markdown",
      "metadata": {},
      "source": [
        "(예시3)"
      ],
      "id": "cb38fe34-0868-4492-8b1f-7329d276a7d3"
    },
    {
      "cell_type": "code",
      "execution_count": 139,
      "metadata": {
        "vscode": {
          "languageId": "python"
        }
      },
      "outputs": [],
      "source": [
        "df = pd.DataFrame({'a':[1,2,3],'b':[2,3,4]})\n",
        "df"
      ],
      "id": "ef24c086-009c-43fe-ad18-5ace6b5220ae"
    },
    {
      "cell_type": "code",
      "execution_count": 140,
      "metadata": {
        "vscode": {
          "languageId": "python"
        }
      },
      "outputs": [],
      "source": [
        "df.loc[:,'c'],df.loc[:,'d'] = [3,4,5],[4,5,6] \n",
        "df"
      ],
      "id": "f17cddae-a4f7-4cf1-9a87-3951ac3bba3f"
    },
    {
      "cell_type": "markdown",
      "metadata": {},
      "source": [
        "## 방법3: `.assign`으로 할당 ($\\star$) – 제 최애"
      ],
      "id": "9f74ccf0-fa6c-4ea4-873c-357ff436ffbe"
    },
    {
      "cell_type": "code",
      "execution_count": 141,
      "metadata": {
        "vscode": {
          "languageId": "python"
        }
      },
      "outputs": [],
      "source": [
        "df = pd.DataFrame({'a':[1,2,3],'b':[2,3,4]})\n",
        "df"
      ],
      "id": "6c5edbf8-040a-4c66-9668-2042bad400ff"
    },
    {
      "cell_type": "code",
      "execution_count": 142,
      "metadata": {
        "vscode": {
          "languageId": "python"
        }
      },
      "outputs": [],
      "source": [
        "df.assign(c=[3,4,5])"
      ],
      "id": "6675b36c-5c63-4109-a5ef-7a7f4d2fe0ad"
    },
    {
      "cell_type": "code",
      "execution_count": 143,
      "metadata": {
        "vscode": {
          "languageId": "python"
        }
      },
      "outputs": [],
      "source": [
        "df.assign(c=[3,4,5],d=[4,5,6])"
      ],
      "id": "3ad7f325-25e6-46de-81a8-7be85c0c7568"
    },
    {
      "cell_type": "code",
      "execution_count": 144,
      "metadata": {
        "vscode": {
          "languageId": "python"
        }
      },
      "outputs": [],
      "source": [
        "df.assign(c=[3,4,5]).assign(d=[4,5,6])"
      ],
      "id": "23da9e30-283a-4c7b-977c-c8326b2fd993"
    },
    {
      "cell_type": "markdown",
      "metadata": {},
      "source": [
        "## 방법4: `.eval`을 이용한 할당"
      ],
      "id": "a3d978e9-f6db-4c3d-b1f5-8359e3ae3afc"
    },
    {
      "cell_type": "code",
      "execution_count": 145,
      "metadata": {
        "vscode": {
          "languageId": "python"
        }
      },
      "outputs": [],
      "source": [
        "df = pd.DataFrame({'a':[1,2,3],'b':[2,3,4]})\n",
        "df"
      ],
      "id": "8e70779b-bae0-429f-8b6c-08b4bd14ee24"
    },
    {
      "cell_type": "code",
      "execution_count": 146,
      "metadata": {
        "vscode": {
          "languageId": "python"
        }
      },
      "outputs": [],
      "source": [
        "df.eval('c=[3,4,5]')"
      ],
      "id": "9e4f119b-1859-4b65-8b2f-22c1df321750"
    },
    {
      "cell_type": "code",
      "execution_count": 147,
      "metadata": {
        "vscode": {
          "languageId": "python"
        }
      },
      "outputs": [],
      "source": [
        "df.eval('c=[3,4,5]').eval('d=[4,5,6]')"
      ],
      "id": "b4732ba5-5231-4b92-86de-b52f26615bd4"
    },
    {
      "cell_type": "markdown",
      "metadata": {},
      "source": [
        "## 연습해보기\n",
        "\n",
        "### `#` 데이터프레임 생성"
      ],
      "id": "54749aa5-d3a5-4a80-873e-a6a71b006f23"
    },
    {
      "cell_type": "code",
      "execution_count": 111,
      "metadata": {
        "vscode": {
          "languageId": "python"
        }
      },
      "outputs": [],
      "source": [
        "df=pd.DataFrame({'x':np.random.randn(1000),'y':np.random.randn(1000)})\n",
        "df"
      ],
      "id": "a52c099c-3e80-4dac-a317-b113f54166b9"
    },
    {
      "cell_type": "markdown",
      "metadata": {},
      "source": [
        "### `#` 새로운열 `r`을 생성하고 $r=\\sqrt{x^2 + y^2}$를 계산\n",
        "\n",
        "`-` 방법1: 브로드캐스팅"
      ],
      "id": "d2a865b9-1f84-40a0-bccd-c3c78dea27e8"
    },
    {
      "cell_type": "code",
      "execution_count": 112,
      "metadata": {
        "vscode": {
          "languageId": "python"
        }
      },
      "outputs": [],
      "source": [
        "df.assign(r=np.sqrt(df.x**2 + df.y**2))"
      ],
      "id": "d7d2172a-8ef2-4119-8df7-336d0e401478"
    },
    {
      "cell_type": "markdown",
      "metadata": {},
      "source": [
        "`-` 방법2: (**quiz**) lambda + map을 이용한 개별원소 계산\n",
        "\n",
        "`-` 방법3: eval"
      ],
      "id": "4b9a86cc-1ed7-4949-a0d6-5e721dddc4b5"
    },
    {
      "cell_type": "code",
      "execution_count": 114,
      "metadata": {
        "vscode": {
          "languageId": "python"
        }
      },
      "outputs": [],
      "source": [
        "df.eval('r=sqrt(x**2+y**2)')"
      ],
      "id": "7aa627e2-a8b0-465a-a74e-e160c8f6a3a9"
    },
    {
      "cell_type": "markdown",
      "metadata": {},
      "source": [
        "# 판다스: 새로운 열의 할당 2단계 (연쇄할당)\n",
        "\n",
        "## 모티브\n",
        "\n",
        "`-` 원본데이터를 가급적 손상시키지 않으면서 데이터를 변형하고 싶음."
      ],
      "id": "d27ba7e0-4eb1-4e0b-8219-21481e9deecd"
    },
    {
      "cell_type": "code",
      "execution_count": 3,
      "metadata": {
        "vscode": {
          "languageId": "python"
        }
      },
      "outputs": [],
      "source": [
        "df = pd.DataFrame({'A':range(0,5),'B':range(1,6)})\n",
        "df"
      ],
      "id": "f32009f6-0af3-40b4-b2b8-84e729f7fd20"
    },
    {
      "cell_type": "markdown",
      "metadata": {},
      "source": [
        "복사본 생성"
      ],
      "id": "145a4768-98d9-4122-abd4-31efa892289d"
    },
    {
      "cell_type": "code",
      "execution_count": 4,
      "metadata": {
        "vscode": {
          "languageId": "python"
        }
      },
      "outputs": [],
      "source": [
        "df2 = df \n",
        "df2"
      ],
      "id": "8b064e0d-420d-46eb-89b8-378702440df7"
    },
    {
      "cell_type": "code",
      "execution_count": 5,
      "metadata": {
        "vscode": {
          "languageId": "python"
        }
      },
      "outputs": [],
      "source": [
        "df2['C'] = (df2.A+ df2.B)/2\n",
        "df2"
      ],
      "id": "fb4af862-2065-4af7-b1a6-577b3121abe3"
    },
    {
      "cell_type": "code",
      "execution_count": 6,
      "metadata": {
        "vscode": {
          "languageId": "python"
        }
      },
      "outputs": [],
      "source": [
        "df2['D']= (df2.C - np.mean(df2.C))/np.std(df2.C) \n",
        "df2"
      ],
      "id": "83dbaca7-a09d-461b-be82-cf86bf79c325"
    },
    {
      "cell_type": "code",
      "execution_count": 7,
      "metadata": {
        "vscode": {
          "languageId": "python"
        }
      },
      "outputs": [],
      "source": [
        "df # 니가 왜 거기서 나와??"
      ],
      "id": "5f8701c1-6627-42f9-8188-f780dcdd2782"
    },
    {
      "cell_type": "markdown",
      "metadata": {},
      "source": [
        "## 해결책1: df.copy()이용, .eval()이용\n",
        "\n",
        "`-` 올바른코드1"
      ],
      "id": "b63ad15f-33f4-4d77-bd25-7b308a6c26e1"
    },
    {
      "cell_type": "code",
      "execution_count": 8,
      "metadata": {
        "vscode": {
          "languageId": "python"
        }
      },
      "outputs": [],
      "source": [
        "df = pd.DataFrame({'A':range(0,5),'B':range(1,6)})\n",
        "df2 = df.copy() \n",
        "df2['C'] = (df2.A+ df2.B)/2\n",
        "df2['D']= (df2.C - np.mean(df2.C))/np.std(df2.C) "
      ],
      "id": "04a8f1ef-f5f4-4523-9fab-cfd4cd519da4"
    },
    {
      "cell_type": "code",
      "execution_count": 9,
      "metadata": {
        "vscode": {
          "languageId": "python"
        }
      },
      "outputs": [],
      "source": [
        "df2"
      ],
      "id": "01e43a56-92ad-45d6-a724-a8e5fd4c21bb"
    },
    {
      "cell_type": "code",
      "execution_count": 10,
      "metadata": {
        "vscode": {
          "languageId": "python"
        }
      },
      "outputs": [],
      "source": [
        "df"
      ],
      "id": "b40223b1-5033-4f40-80af-4bd6457cdded"
    },
    {
      "cell_type": "markdown",
      "metadata": {},
      "source": [
        "`-` 올바른코드2"
      ],
      "id": "9a28943d-98d8-4b2c-a291-d009cca446dc"
    },
    {
      "cell_type": "code",
      "execution_count": 30,
      "metadata": {
        "vscode": {
          "languageId": "python"
        }
      },
      "outputs": [],
      "source": [
        "df = pd.DataFrame({'A':range(0,5),'B':range(1,6)})\n",
        "mean = np.mean \n",
        "std = np.std \n",
        "df.eval('C=(A+B)/2').eval('D=(C-@mean(C))/@std(C)')"
      ],
      "id": "636632e2-c637-4989-88b2-a3ba13ef94d1"
    },
    {
      "cell_type": "markdown",
      "metadata": {},
      "source": [
        "-   어디까지 eval expression 안에서 지원되는지 명확하지 않고\n",
        "-   외부에 함수를 선언하고 eval expression 안에 (**를?**) 붙이는게 좀\n",
        "    귀찮음\n",
        "\n",
        "`-` 올바른코드3 (assign) –\\> 실패"
      ],
      "id": "e1b5e6c4-854a-438f-9a5b-6b676c69fd11"
    },
    {
      "cell_type": "code",
      "execution_count": 31,
      "metadata": {
        "vscode": {
          "languageId": "python"
        }
      },
      "outputs": [],
      "source": [
        "df = pd.DataFrame({'A':range(0,5),'B':range(1,6)})\n",
        "df.assign(C= (df.A+df.B)/2) "
      ],
      "id": "21f32336-b01d-4c07-8196-246bb9de62c2"
    },
    {
      "cell_type": "code",
      "execution_count": 32,
      "metadata": {
        "vscode": {
          "languageId": "python"
        }
      },
      "outputs": [],
      "source": [
        "df.assign(C= (df.A+df.B)/2).assign(D= (df.C- np.mean(df.C))/np.std(df.C))"
      ],
      "id": "34dcb1e5-f5ec-4a1f-b2c0-8b61fcf689e2"
    },
    {
      "cell_type": "markdown",
      "metadata": {},
      "source": [
        "아래와 같이 고쳐야함"
      ],
      "id": "6c4c2fcf-e864-4757-ba07-2167f5812ba8"
    },
    {
      "cell_type": "code",
      "execution_count": 39,
      "metadata": {
        "vscode": {
          "languageId": "python"
        }
      },
      "outputs": [],
      "source": [
        "_df = df.assign(C= (df.A+df.B)/2)\n",
        "_df.assign(D= (_df.C- np.mean(_df.C))/np.std(_df.C))"
      ],
      "id": "038306ab-7e0e-4c94-a9e7-4ff277261ae8"
    },
    {
      "cell_type": "markdown",
      "metadata": {},
      "source": [
        "-   이건 우리의 철학이랑 안맞음..\n",
        "\n",
        "## 해결책2: assign을 이용한 연쇄할당\n",
        "\n",
        "실패한코드는 아래와 같다."
      ],
      "id": "2316ca25-d32c-474f-ac3c-85a338973637"
    },
    {
      "cell_type": "code",
      "execution_count": 44,
      "metadata": {
        "vscode": {
          "languageId": "python"
        }
      },
      "outputs": [],
      "source": [
        "df.assign(C= (df.A+df.B)/2).assign(D= (df.C- np.mean(df.C))/np.std(df.C))"
      ],
      "id": "2596c083-64d0-4a06-8bbd-6216bd4e962c"
    },
    {
      "cell_type": "markdown",
      "metadata": {},
      "source": [
        "두번째 assign에서 표현된 df.C 에서, df가 `current df` (=\n",
        "`df.assign(C= (df.A+df.B)/2)` 까지 연산된 상태) 를 의미하도록 만들고\n",
        "싶다. $\\to$ 아래와 같이 `lambda df:` 를 추가하면 된다."
      ],
      "id": "c5fb4ba3-3da0-40ff-b21e-7cb92d58c24e"
    },
    {
      "cell_type": "code",
      "execution_count": 49,
      "metadata": {
        "vscode": {
          "languageId": "python"
        }
      },
      "outputs": [],
      "source": [
        "df.assign(C= (df.A+df.B)/2).assign(D= lambda df: (df.C- np.mean(df.C))/np.std(df.C))"
      ],
      "id": "771629ca-e38d-42d3-83b2-ff393f7f7c94"
    },
    {
      "cell_type": "markdown",
      "metadata": {},
      "source": [
        "`-` 연쇄할당"
      ],
      "id": "0afd716c-f904-4b87-bed7-381a12246568"
    },
    {
      "cell_type": "code",
      "execution_count": 55,
      "metadata": {
        "vscode": {
          "languageId": "python"
        }
      },
      "outputs": [],
      "source": [
        "df.assign(C = (df.A+df.B)/2).assign(D = lambda df: df.C +2).assign(E = lambda df: df.D - 2)"
      ],
      "id": "0fe4681b-f349-44d6-98d7-00c04f993b8b"
    },
    {
      "cell_type": "markdown",
      "metadata": {},
      "source": [
        "# Quiz\n",
        "\n",
        "다음과 같은 데이터프레임을 불러온 뒤 물음에 답하라"
      ],
      "id": "3c847c23-7a5c-4548-9533-d3e5b84bcdbc"
    },
    {
      "cell_type": "code",
      "execution_count": 518,
      "metadata": {
        "vscode": {
          "languageId": "python"
        }
      },
      "outputs": [],
      "source": [
        "df=pd.read_csv('https://raw.githubusercontent.com/guebin/DV2022/master/_notebooks/dv2022.csv')\n",
        "df"
      ],
      "id": "112abc1b-f176-41c3-8990-529107927aab"
    },
    {
      "cell_type": "markdown",
      "metadata": {},
      "source": [
        "`(1)` 기말고사 성적이 중간고사 성적보다 향상된 학생들을 출력하라. 즉 mid\n",
        "\\< fin 인 학생들을 출력하라. (다양한 방법으로 연습할 것, 제출은 한 가지\n",
        "방법으로 구현해도 감점없음)"
      ],
      "id": "91343e6e-aa72-4b1c-bc56-2561aeb8045c"
    },
    {
      "cell_type": "code",
      "execution_count": 521,
      "metadata": {
        "vscode": {
          "languageId": "python"
        }
      },
      "outputs": [],
      "source": [
        "# 구현결과가 아래와 같아야 한다. "
      ],
      "id": "75467ba7-895b-47e4-b90a-f226d163bc26"
    },
    {
      "cell_type": "markdown",
      "metadata": {},
      "source": [
        "`(2)` 기말고사 성적이 중간고사 성적보다 향상된 학생들의 출석과 레포트\n",
        "점수를 출력하라."
      ],
      "id": "25fbbe94-0f64-440c-a960-82ee696f5ebc"
    },
    {
      "cell_type": "code",
      "execution_count": 523,
      "metadata": {
        "vscode": {
          "languageId": "python"
        }
      },
      "outputs": [],
      "source": [
        "# 구현결과가 아래와 같아야 한다. "
      ],
      "id": "0c9c89fb-d51e-4669-a5a4-90cb2b1203a9"
    },
    {
      "cell_type": "code",
      "execution_count": 64,
      "metadata": {
        "vscode": {
          "languageId": "python"
        }
      },
      "outputs": [],
      "source": [
        "df = pd.DataFrame({'a':[1,2,3,4],'b':[2,3,4,5],'c':[3,4,5,6],'d':[4,5,6,7]})\n",
        "df"
      ],
      "id": "c4954199-345d-4555-8623-d7fdf6853298"
    },
    {
      "cell_type": "markdown",
      "metadata": {},
      "source": [
        "## `2`.\n",
        "\n",
        "아래의 결과를 관찰하고 drop의 기능을 유추하라.\n",
        "\n",
        "(예시1)"
      ],
      "id": "51d1b589-fce4-498b-b23b-63570f3b3573"
    },
    {
      "cell_type": "code",
      "execution_count": 65,
      "metadata": {
        "vscode": {
          "languageId": "python"
        }
      },
      "outputs": [],
      "source": [
        "df.drop(columns='a')"
      ],
      "id": "aa431f5f-a12a-44e3-b255-2c1935a88e99"
    },
    {
      "cell_type": "markdown",
      "metadata": {},
      "source": [
        "(예시2)"
      ],
      "id": "c3fa8299-4fbf-4840-8b90-92671c375b8d"
    },
    {
      "cell_type": "code",
      "execution_count": 66,
      "metadata": {
        "vscode": {
          "languageId": "python"
        }
      },
      "outputs": [],
      "source": [
        "df.drop(columns=['a','b'])"
      ],
      "id": "4d7b050d-3585-4be1-aefd-3fc339a88fdf"
    },
    {
      "cell_type": "markdown",
      "metadata": {},
      "source": [
        "(예시3)"
      ],
      "id": "eb303468-a22e-43e1-b1f5-7305ea0d210d"
    },
    {
      "cell_type": "code",
      "execution_count": 67,
      "metadata": {
        "vscode": {
          "languageId": "python"
        }
      },
      "outputs": [],
      "source": [
        "df.drop(index=0)"
      ],
      "id": "3f14b54d-6895-4fbf-a010-1f74e5db84d6"
    },
    {
      "cell_type": "markdown",
      "metadata": {},
      "source": [
        "(예시4)"
      ],
      "id": "25d40597-3d4f-4dda-a704-e59615cd4b91"
    },
    {
      "cell_type": "code",
      "execution_count": 71,
      "metadata": {
        "vscode": {
          "languageId": "python"
        }
      },
      "outputs": [],
      "source": [
        "df.drop(index=range(2,4))"
      ],
      "id": "80942cfe-225f-498d-ab8b-c870c56319e2"
    },
    {
      "cell_type": "markdown",
      "metadata": {},
      "source": [
        "문제: `df` 에서 a,c열을 삭제하고 첫행을 삭제하라."
      ],
      "id": "f9efbf1f-9694-494a-b1ad-5777d00ae50f"
    },
    {
      "cell_type": "code",
      "execution_count": 78,
      "metadata": {
        "vscode": {
          "languageId": "python"
        }
      },
      "outputs": [],
      "source": [
        "#출력결과는 아래와 같아야 한다. "
      ],
      "id": "2b2e27f5-ed9d-4e58-bbdf-c18c3f4dbdad"
    }
  ],
  "nbformat": 4,
  "nbformat_minor": 5,
  "metadata": {
    "kernelspec": {
      "name": "python3",
      "display_name": "Python 3",
      "language": "python"
    }
  }
}