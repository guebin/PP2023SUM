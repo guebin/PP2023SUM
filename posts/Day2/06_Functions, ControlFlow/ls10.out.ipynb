{
  "cells": [
    {
      "cell_type": "markdown",
      "metadata": {},
      "source": [
        "# Lesson 11: lambda, map\n",
        "\n",
        "최규빈  \n",
        "2023-01-31\n",
        "\n",
        "<a href=\"https://colab.research.google.com/github/guebin/IP2023WIN/blob/main/posts/Day2/06_Functions, ControlFlow/2023-01-31-Lesson11.ipynb\"><img src=\"https://colab.research.google.com/assets/colab-badge.svg\" style=\"text-align: left\"></a>\n",
        "\n",
        "# ref\n",
        "\n",
        "<https://guebin.github.io/DV2022/posts/2022-10-12-6wk-12.html>\n",
        "\n",
        "# imports"
      ],
      "id": "7d45d176-635c-46e5-bb5c-05d87da235b0"
    },
    {
      "cell_type": "code",
      "execution_count": 196,
      "metadata": {
        "vscode": {
          "languageId": "python"
        }
      },
      "outputs": [],
      "source": [
        "import numpy as np\n",
        "import pandas as pd\n",
        "import matplotlib.pyplot as plt"
      ],
      "id": "c85bf122-ebe4-4be2-af24-9f6ef0844fc3"
    },
    {
      "cell_type": "markdown",
      "metadata": {},
      "source": [
        "# lambda, map ($\\star$)\n",
        "\n",
        "## lambda\n",
        "\n",
        "`-` 예제1: 람다표현식(lambda expression)자체가 하나의 오브젝트임"
      ],
      "id": "4db0693f-f8af-4565-94b2-d1c214c0103e"
    },
    {
      "cell_type": "code",
      "execution_count": 2,
      "metadata": {
        "vscode": {
          "languageId": "python"
        }
      },
      "outputs": [],
      "source": [
        "lambda x: (x-2)**2 ### lambda x: (x-2)**2 가 실행되는 순간 메모리상에 함수 오브젝트가 저장됨 "
      ],
      "id": "75245ecf-61bd-4921-b6c5-93d9f9cd4ae2"
    },
    {
      "cell_type": "markdown",
      "metadata": {},
      "source": [
        "-   “lambda x: (x-2)\\*\\*2” 는 $lambda(x)=(x-2)^2$의 느낌으로 기억하면\n",
        "    쉬움\n",
        "\n",
        "**(사용방법)**"
      ],
      "id": "f974e0c6-097b-4f28-85b9-d8a792373eb0"
    },
    {
      "cell_type": "code",
      "execution_count": 192,
      "metadata": {
        "vscode": {
          "languageId": "python"
        }
      },
      "outputs": [],
      "source": [
        "(lambda x: (x-2)**2)(2) # 입력2 -> 출력 (2-2)^2 =0 "
      ],
      "id": "325475f7-0ade-4309-bece-a6f1b3e8debe"
    },
    {
      "cell_type": "code",
      "execution_count": 10,
      "metadata": {
        "vscode": {
          "languageId": "python"
        }
      },
      "outputs": [],
      "source": [
        "(lambda x: (x-2)**2)(5) # 입력5 -> 출력 (5-2)^2 =9"
      ],
      "id": "9ac50596-b3de-41a6-b05d-cc90c72620da"
    },
    {
      "cell_type": "code",
      "execution_count": 11,
      "metadata": {
        "vscode": {
          "languageId": "python"
        }
      },
      "outputs": [],
      "source": [
        "(lambda x: (x-2)**2)(6) # 입력6 -> 출력 (6-2)^2 =16"
      ],
      "id": "c598aa3c-8e77-4650-b0f6-920c1a23c2fa"
    },
    {
      "cell_type": "code",
      "execution_count": 12,
      "metadata": {
        "vscode": {
          "languageId": "python"
        }
      },
      "outputs": [],
      "source": [
        "(lambda x: (x-2)**2)(-2) # 입력-2 -> 출력 (-2-2)^2 =16"
      ],
      "id": "78346bec-d935-4097-9a8a-437b962d7066"
    },
    {
      "cell_type": "markdown",
      "metadata": {},
      "source": [
        "**Quiz**\n",
        "\n",
        "$f(x)=\\sqrt{x}$ 를 수행하는 함수를 lambda를 이용하여 구성하라.\n",
        "\n",
        "`-` 예제2: 람다표현식에 이름을 줄 수 있음."
      ],
      "id": "9cb39903-6fb3-44d4-a54c-5aae8c204ef0"
    },
    {
      "cell_type": "code",
      "execution_count": 196,
      "metadata": {
        "vscode": {
          "languageId": "python"
        }
      },
      "outputs": [],
      "source": [
        "f = lambda x: (x-2)**2"
      ],
      "id": "71c53a02-94cf-49eb-9bfd-08aaa425d127"
    },
    {
      "cell_type": "code",
      "execution_count": 197,
      "metadata": {
        "vscode": {
          "languageId": "python"
        }
      },
      "outputs": [],
      "source": [
        "f(2),f(4),f(6),f(-2)"
      ],
      "id": "0eac4cd0-ad8a-4229-ab9c-e3360baa52c9"
    },
    {
      "cell_type": "markdown",
      "metadata": {},
      "source": [
        "위의 코드는 아래와 같다."
      ],
      "id": "e2eb6869-5ba6-4388-8625-d1147e6cce25"
    },
    {
      "cell_type": "code",
      "execution_count": 198,
      "metadata": {
        "vscode": {
          "languageId": "python"
        }
      },
      "outputs": [],
      "source": [
        "def f(x):\n",
        "    return (x-2)**2\n",
        "f(2),f(4),f(6),f(-2)"
      ],
      "id": "6efb250e-7c59-4508-839c-9be3b97a078f"
    },
    {
      "cell_type": "markdown",
      "metadata": {},
      "source": [
        "`-` 예제3: 조건부 출력"
      ],
      "id": "bbeda5de-8f4e-489b-9280-669665f2aa07"
    },
    {
      "cell_type": "code",
      "execution_count": 32,
      "metadata": {
        "vscode": {
          "languageId": "python"
        }
      },
      "outputs": [],
      "source": [
        "f = lambda x,y: x if x>y else y # x,y가 입력 -> x>y 일때만 x를 리턴하고 그렇지않으면 y를 리턴 = 큰값을 리턴하라는 소리임 "
      ],
      "id": "5aa8270b-59cf-4a4a-a89d-557cb0044e9f"
    },
    {
      "cell_type": "code",
      "execution_count": 33,
      "metadata": {
        "vscode": {
          "languageId": "python"
        }
      },
      "outputs": [],
      "source": [
        "f(1,20)"
      ],
      "id": "65c1d4d8-d0d2-4a23-beab-55dda63ccf7f"
    },
    {
      "cell_type": "markdown",
      "metadata": {},
      "source": [
        "**Quiz**\n",
        "\n",
        "임의의 알파벳 문자열을 입력으로 하고, 알파벳이 대문자이면 “대문자\n",
        "입니다”를 출력하고 소문자이면 “소문자 입니다”를 출력하는 함수를\n",
        "구성하라.\n",
        "\n",
        "(힌트) 아래코드 이용"
      ],
      "id": "d5ea88b7-5616-401f-bae0-b2a17a41e239"
    },
    {
      "cell_type": "code",
      "execution_count": 54,
      "metadata": {
        "vscode": {
          "languageId": "python"
        }
      },
      "outputs": [],
      "source": [
        "'a'.isupper()"
      ],
      "id": "214b5b26-ab28-44a2-be54-4fec74c1394e"
    },
    {
      "cell_type": "markdown",
      "metadata": {},
      "source": [
        "`-` 예제4: 람다표현식들의 리스트"
      ],
      "id": "d0f20d74-ba9b-45fe-8899-ea5119762b79"
    },
    {
      "cell_type": "code",
      "execution_count": 67,
      "metadata": {
        "vscode": {
          "languageId": "python"
        }
      },
      "outputs": [],
      "source": [
        "fl = [lambda x: x, lambda x: x**2, lambda x: x**3]"
      ],
      "id": "1d5f4346-5eb6-4e07-b7cd-0f5373d5ac0a"
    },
    {
      "cell_type": "code",
      "execution_count": 102,
      "metadata": {
        "vscode": {
          "languageId": "python"
        }
      },
      "outputs": [
        {
          "output_type": "stream",
          "name": "stdout",
          "text": [
            "2\n",
            "4\n",
            "8"
          ]
        }
      ],
      "source": [
        "for f in fl: \n",
        "    print(f(2))"
      ],
      "id": "e539d67b-8554-4f4a-a797-d52b556906ad"
    },
    {
      "cell_type": "code",
      "execution_count": 92,
      "metadata": {
        "vscode": {
          "languageId": "python"
        }
      },
      "outputs": [
        {
          "output_type": "display_data",
          "metadata": {},
          "data": {
            "image/png": "[encoded data removed]"
          }
        }
      ],
      "source": [
        "x = np.linspace(-1,1,100)\n",
        "for f in fl:\n",
        "    plt.plot(x,f(x),'--') "
      ],
      "id": "8697886e-c116-4d42-b2f7-229044d87f77"
    },
    {
      "cell_type": "markdown",
      "metadata": {},
      "source": [
        "`-` 예제5: 람다표현식들의 딕셔너리"
      ],
      "id": "8c5c138b-56ef-42c7-a843-e13313e58433"
    },
    {
      "cell_type": "code",
      "execution_count": 115,
      "metadata": {
        "vscode": {
          "languageId": "python"
        }
      },
      "outputs": [],
      "source": [
        "fd = {'f1':lambda x: x, 'f2':lambda x: x**2, 'f3':lambda x: x**3}\n",
        "fd"
      ],
      "id": "d5a7b26e-ddf0-479e-9a53-db2ebc2d076e"
    },
    {
      "cell_type": "code",
      "execution_count": 121,
      "metadata": {
        "vscode": {
          "languageId": "python"
        }
      },
      "outputs": [
        {
          "output_type": "display_data",
          "metadata": {},
          "data": {
            "image/png": "[encoded data removed]"
          }
        }
      ],
      "source": [
        "for k in fd:\n",
        "    plt.plot(x,fd[k](x),'--')"
      ],
      "id": "5b065b83-ef32-463a-b19c-95feba8836ac"
    },
    {
      "cell_type": "markdown",
      "metadata": {},
      "source": [
        "`-` 예제6: 람다표현식을 리턴하는 함수 (함수를 리턴하는 함수)\n",
        "\n",
        "(예비학습) 함수 $g(x)$가 정의되어 있을때 $\\frac{d}{dx}g(x)$의 값을\n",
        "계산해보기"
      ],
      "id": "2ed8bee8-6ae6-4582-a549-4d80216d09ba"
    },
    {
      "cell_type": "code",
      "execution_count": 132,
      "metadata": {
        "vscode": {
          "languageId": "python"
        }
      },
      "outputs": [],
      "source": [
        "g = lambda x: x**2 "
      ],
      "id": "b1715189-5940-4a34-849b-6f210fdc6ca8"
    },
    {
      "cell_type": "code",
      "execution_count": 133,
      "metadata": {
        "vscode": {
          "languageId": "python"
        }
      },
      "outputs": [],
      "source": [
        "gg = lambda x : (g(x+0.001)-g(x))/0.001"
      ],
      "id": "b996a4b3-b233-4a30-990f-f5ee602d2eea"
    },
    {
      "cell_type": "code",
      "execution_count": 134,
      "metadata": {
        "vscode": {
          "languageId": "python"
        }
      },
      "outputs": [],
      "source": [
        "gg(4)"
      ],
      "id": "e60e6826-8b2c-4339-a932-fa90e3cef38b"
    },
    {
      "cell_type": "markdown",
      "metadata": {},
      "source": [
        "(목표) 도함수를 구해주는 `derivate` 함수를 정의하자. 이 함수는 임의의\n",
        "함수 g를 입력으로 받으면, g의 도함수(gg)가 리턴되는 기능을 가진다."
      ],
      "id": "c4ccada8-34a3-4871-b9ea-e610ae358a25"
    },
    {
      "cell_type": "code",
      "execution_count": 135,
      "metadata": {
        "vscode": {
          "languageId": "python"
        }
      },
      "outputs": [],
      "source": [
        "def derivate(g):\n",
        "    return lambda x : (g(x+0.001)-g(x))/0.001"
      ],
      "id": "42cee1b6-6d65-4c99-b825-c19b45f45bf6"
    },
    {
      "cell_type": "markdown",
      "metadata": {},
      "source": [
        "(사용1)"
      ],
      "id": "711762df-81d1-408a-a275-ccf5f3fc81d3"
    },
    {
      "cell_type": "code",
      "execution_count": 129,
      "metadata": {
        "vscode": {
          "languageId": "python"
        }
      },
      "outputs": [],
      "source": [
        "gg = derivate(g) "
      ],
      "id": "3d4a45c2-4210-4e96-98e7-cf8f37747d6e"
    },
    {
      "cell_type": "code",
      "execution_count": 212,
      "metadata": {
        "vscode": {
          "languageId": "python"
        }
      },
      "outputs": [],
      "source": [
        "x = np.linspace(0,6.28,1000) "
      ],
      "id": "23a4a41d-34d3-485e-be11-8d94118b96e4"
    },
    {
      "cell_type": "code",
      "execution_count": 213,
      "metadata": {
        "vscode": {
          "languageId": "python"
        }
      },
      "outputs": [
        {
          "output_type": "display_data",
          "metadata": {},
          "data": {
            "image/png": "[encoded data removed]"
          }
        }
      ],
      "source": [
        "plt.plot(x,g(x),label=r'$f(x)=sin(x)$')\n",
        "plt.plot(x,gg(x),label=r'$\\frac{d}{dx}f(x)=cos(x)$')\n",
        "plt.legend(fontsize=15)"
      ],
      "id": "ecdb4134-3da1-4436-a1e9-094666b41e97"
    },
    {
      "cell_type": "markdown",
      "metadata": {},
      "source": [
        "(사용2)"
      ],
      "id": "b4b226a0-86d5-4066-baa7-dd23b2f3d41f"
    },
    {
      "cell_type": "code",
      "execution_count": 146,
      "metadata": {
        "vscode": {
          "languageId": "python"
        }
      },
      "outputs": [],
      "source": [
        "g0 = lambda x: (1/6)*x**3\n",
        "g1 = derivate(g0) # (1/2)x^2 \n",
        "g2 = derivate(g1) # x "
      ],
      "id": "df76518f-e315-4282-8fdf-58778323e9dc"
    },
    {
      "cell_type": "code",
      "execution_count": 147,
      "metadata": {
        "vscode": {
          "languageId": "python"
        }
      },
      "outputs": [
        {
          "output_type": "display_data",
          "metadata": {},
          "data": {
            "image/png": "[encoded data removed]"
          }
        }
      ],
      "source": [
        "x = np.linspace(-1,1,100)\n",
        "plt.plot(x,g0(x),'--',label=r'$g_0(x)=\\frac{1}{6}x^3$')\n",
        "plt.plot(x,g1(x),'--',label=r'$g_1(x)=\\frac{1}{2}x^2$')\n",
        "plt.plot(x,g2(x),'--',label=r'$g_2(x)=x$')\n",
        "plt.legend(fontsize=15)"
      ],
      "id": "57cf4626-efc0-406f-b04f-6b2d016103a7"
    },
    {
      "cell_type": "markdown",
      "metadata": {},
      "source": [
        "`-` 예제7: 예제6의 다른표현"
      ],
      "id": "b7debf58-411a-4249-b7e6-32db90b38ab0"
    },
    {
      "cell_type": "code",
      "execution_count": 148,
      "metadata": {
        "vscode": {
          "languageId": "python"
        }
      },
      "outputs": [],
      "source": [
        "derivate = lambda g: lambda x : (g(x+0.001)-g(x))/0.001"
      ],
      "id": "cc3c8a73-418b-4d99-a76d-214f33f5ff23"
    },
    {
      "cell_type": "markdown",
      "metadata": {},
      "source": [
        "(사용1)"
      ],
      "id": "70c7fa53-93e1-4371-a490-e51cf6784fda"
    },
    {
      "cell_type": "code",
      "execution_count": 149,
      "metadata": {
        "vscode": {
          "languageId": "python"
        }
      },
      "outputs": [],
      "source": [
        "g = lambda x: np.sin(x) "
      ],
      "id": "48ae724c-9310-4f2e-8ddb-8ac8d415a26a"
    },
    {
      "cell_type": "code",
      "execution_count": 150,
      "metadata": {
        "vscode": {
          "languageId": "python"
        }
      },
      "outputs": [],
      "source": [
        "gg = derivate(g) "
      ],
      "id": "a331f4b9-ff20-4cbb-93bd-d36bb0db88f8"
    },
    {
      "cell_type": "code",
      "execution_count": 151,
      "metadata": {
        "vscode": {
          "languageId": "python"
        }
      },
      "outputs": [],
      "source": [
        "x = np.linspace(0,6.28,1000) "
      ],
      "id": "5bef4af5-b7b0-42fb-9565-c1398ebd3f9f"
    },
    {
      "cell_type": "code",
      "execution_count": 152,
      "metadata": {
        "vscode": {
          "languageId": "python"
        }
      },
      "outputs": [
        {
          "output_type": "display_data",
          "metadata": {},
          "data": {
            "image/png": "[encoded data removed]"
          }
        }
      ],
      "source": [
        "plt.plot(x,g(x),label=r'$f(x)=sin(x)$')\n",
        "plt.plot(x,gg(x),label=r'$\\frac{d}{dx}f(x)=cos(x)$')\n",
        "plt.legend(fontsize=15)"
      ],
      "id": "9f18bafe-8ae9-4812-897e-944162a11611"
    },
    {
      "cell_type": "markdown",
      "metadata": {},
      "source": [
        "(사용2)"
      ],
      "id": "b7ac7cf2-9f7b-4dc3-a42c-09219b4d7f18"
    },
    {
      "cell_type": "code",
      "execution_count": 153,
      "metadata": {
        "vscode": {
          "languageId": "python"
        }
      },
      "outputs": [],
      "source": [
        "g0 = lambda x: (1/6)*x**3\n",
        "g1 = derivate(g0) # (1/2)x^2 \n",
        "g2 = derivate(g1) # x "
      ],
      "id": "97b993ca-3620-4805-abd3-5a99ffd715a8"
    },
    {
      "cell_type": "code",
      "execution_count": 154,
      "metadata": {
        "vscode": {
          "languageId": "python"
        }
      },
      "outputs": [
        {
          "output_type": "display_data",
          "metadata": {},
          "data": {
            "image/png": "[encoded data removed]"
          }
        }
      ],
      "source": [
        "x = np.linspace(-1,1,100)\n",
        "plt.plot(x,g0(x),'--',label=r'$g_0(x)=\\frac{1}{6}x^3$')\n",
        "plt.plot(x,g1(x),'--',label=r'$g_1(x)=\\frac{1}{2}x^2$')\n",
        "plt.plot(x,g2(x),'--',label=r'$g_2(x)=x$')\n",
        "plt.legend(fontsize=15)"
      ],
      "id": "2d3361c4-657b-4d32-b117-d9657a8ccc0f"
    },
    {
      "cell_type": "markdown",
      "metadata": {},
      "source": [
        "## map\n",
        "\n",
        "`-` 개념: \\$(f,\\[x_1,x_2,,x_n\\] )=\\$\n",
        "\n",
        "`-` 예제1:"
      ],
      "id": "1b35ea12-d7b0-44b9-8cab-fc4e96c01da3"
    },
    {
      "cell_type": "code",
      "execution_count": 166,
      "metadata": {
        "vscode": {
          "languageId": "python"
        }
      },
      "outputs": [],
      "source": [
        "x = [1,2,3] \n",
        "f = lambda x: x+1 \n",
        "y = list(map(f,x))"
      ],
      "id": "85c3e321-2141-45b9-9331-7ea8db420397"
    },
    {
      "cell_type": "markdown",
      "metadata": {},
      "source": [
        "(다른구현1)"
      ],
      "id": "8d8c271a-d828-40f8-b023-5cd5808d340a"
    },
    {
      "cell_type": "code",
      "execution_count": 136,
      "metadata": {
        "vscode": {
          "languageId": "python"
        }
      },
      "outputs": [],
      "source": [
        "list(map(lambda x: x+1,[1,2,3]))"
      ],
      "id": "bffd6eca-0b2d-4cf2-bd14-77db489fd436"
    },
    {
      "cell_type": "markdown",
      "metadata": {},
      "source": [
        "(다른구현2)"
      ],
      "id": "1d95a455-556b-457d-9812-1136bc59751a"
    },
    {
      "cell_type": "code",
      "execution_count": 176,
      "metadata": {
        "vscode": {
          "languageId": "python"
        }
      },
      "outputs": [],
      "source": [
        "f = lambda x: x+1 \n",
        "[f(xi) for xi in [1,2,3]]"
      ],
      "id": "8c11a8e6-625b-457a-92a6-be6d693ccc8d"
    },
    {
      "cell_type": "markdown",
      "metadata": {},
      "source": [
        "(다른구현3)"
      ],
      "id": "1294aece-d863-4c97-a2c9-5de319cc59d7"
    },
    {
      "cell_type": "code",
      "execution_count": 140,
      "metadata": {
        "vscode": {
          "languageId": "python"
        }
      },
      "outputs": [],
      "source": [
        "[(lambda x: x+1)(xi) for xi in [1,2,3]]"
      ],
      "id": "c2a523c5-a5c5-4ba0-83f4-c9b99db7d130"
    },
    {
      "cell_type": "markdown",
      "metadata": {},
      "source": [
        "(다른구현4)–최악"
      ],
      "id": "e036e523-57f9-4825-928e-6da311e11846"
    },
    {
      "cell_type": "code",
      "execution_count": 178,
      "metadata": {
        "vscode": {
          "languageId": "python"
        }
      },
      "outputs": [],
      "source": [
        "y = [] \n",
        "x = [1,2,3] \n",
        "f = lambda x: x+1 \n",
        "for xi in x:\n",
        "    y.append(f(xi))"
      ],
      "id": "eb565af8-cf95-41e7-b27d-d3a5c82b4fd3"
    },
    {
      "cell_type": "code",
      "execution_count": 179,
      "metadata": {
        "vscode": {
          "languageId": "python"
        }
      },
      "outputs": [],
      "source": [
        "y"
      ],
      "id": "3b67d153-279c-447f-8b16-6b3ece3f5f1f"
    },
    {
      "cell_type": "markdown",
      "metadata": {},
      "source": [
        "(다른구현5)–더 최악"
      ],
      "id": "dcf99ee9-10db-4d0d-91fd-d2ca8505aa5b"
    },
    {
      "cell_type": "code",
      "execution_count": 143,
      "metadata": {
        "vscode": {
          "languageId": "python"
        }
      },
      "outputs": [],
      "source": [
        "y = [] \n",
        "x = [1,2,3] \n",
        "f = lambda x: x+1 \n",
        "for i in range(len(x)):\n",
        "    y.append(f(x[i]))"
      ],
      "id": "dd028d4a-4989-4f1d-b639-6dc5b8fee6fb"
    },
    {
      "cell_type": "code",
      "execution_count": 144,
      "metadata": {
        "vscode": {
          "languageId": "python"
        }
      },
      "outputs": [],
      "source": [
        "y"
      ],
      "id": "0dd61748-2122-43ce-a879-e3591038aeed"
    },
    {
      "cell_type": "markdown",
      "metadata": {},
      "source": [
        "**Quiz**\n",
        "\n",
        "$x=[1,2,3,4,5]$에 대하여 $x^2$을 수행하는 함수를 구현하라.\n",
        "\n",
        "`-` 예제2: 문자열을 입력으로 받고 대문자이면 True, 소문자이면 False\n",
        "\n",
        "    입력: A,B,C,a,b,c\n",
        "    출력: T,T,T,F,F,F"
      ],
      "id": "c5c5c9d6-5a8c-48a1-8d3e-cd284f7a8f18"
    },
    {
      "cell_type": "code",
      "execution_count": 210,
      "metadata": {
        "vscode": {
          "languageId": "python"
        }
      },
      "outputs": [],
      "source": [
        "x= list('ABCabc')\n",
        "# x = ['A','B','C','a','b','c']\n",
        "f = lambda s: s.isupper()\n",
        "y = list(map(f,x))"
      ],
      "id": "56544d74-bd03-4f29-9313-6737ec673521"
    },
    {
      "cell_type": "code",
      "execution_count": 211,
      "metadata": {
        "vscode": {
          "languageId": "python"
        }
      },
      "outputs": [],
      "source": [
        "x,y"
      ],
      "id": "bb421e54-2b8a-4c4b-abcd-7ba64d18f83d"
    },
    {
      "cell_type": "markdown",
      "metadata": {},
      "source": [
        "`-` 예제3: 두개의 입력을 받는 함수 (map을 이용하는 것이 리스트\n",
        "컴프리헨션보다 조금 편한것 같다)"
      ],
      "id": "1da05a43-1e27-4a5b-bb6b-fdde61c45ef8"
    },
    {
      "cell_type": "code",
      "execution_count": 268,
      "metadata": {
        "vscode": {
          "languageId": "python"
        }
      },
      "outputs": [],
      "source": [
        "list(map(lambda x,y: x+y, [1,2,3],[-1,-2,-3]))"
      ],
      "id": "14030c67-409f-4745-ac2f-757944b89689"
    },
    {
      "cell_type": "markdown",
      "metadata": {},
      "source": [
        "(다른구현)– 리스트컴프리헨션"
      ],
      "id": "87f59938-e1ad-4d74-a20c-b32b372a827f"
    },
    {
      "cell_type": "code",
      "execution_count": 269,
      "metadata": {
        "vscode": {
          "languageId": "python"
        }
      },
      "outputs": [],
      "source": [
        "f = lambda x,y: x+y \n",
        "[f(x,y) for x,y in zip([1,2,3],[-1,-2,-3])] "
      ],
      "id": "55e3261f-f6f3-4366-b02c-aa97a04edcda"
    },
    {
      "cell_type": "markdown",
      "metadata": {},
      "source": [
        "**quiz**"
      ],
      "id": "976ea0e3-0f39-4813-a6bf-68d44d72b01c"
    },
    {
      "cell_type": "code",
      "execution_count": 216,
      "metadata": {
        "vscode": {
          "languageId": "python"
        }
      },
      "outputs": [],
      "source": [
        "t=np.linspace(-3.14,3.14,100)\n",
        "x=np.sin(t)\n",
        "y=np.cos(t)"
      ],
      "id": "ee95f407-207e-41f2-9354-5a091e16cad6"
    },
    {
      "cell_type": "code",
      "execution_count": 218,
      "metadata": {
        "vscode": {
          "languageId": "python"
        }
      },
      "outputs": [
        {
          "output_type": "display_data",
          "metadata": {},
          "data": {
            "image/png": "[encoded data removed]"
          }
        }
      ],
      "source": [
        "plt.plot(t,x)\n",
        "plt.plot(t,y)"
      ],
      "id": "228495ac-71e3-4c16-aaea-5bd9654e48a0"
    },
    {
      "cell_type": "markdown",
      "metadata": {},
      "source": [
        "$f(x,y) = max(x,y)$ 를 구현하여 ${\\bf x}$,${\\bf y}$ 각 원소에 적용하고\n",
        "결과를 시각화 하라."
      ],
      "id": "4ae46472-6785-4b6e-be4c-c7d651417219"
    },
    {
      "cell_type": "code",
      "execution_count": 231,
      "metadata": {
        "vscode": {
          "languageId": "python"
        }
      },
      "outputs": [],
      "source": [
        "f = (lambda x,y: max(x,y))\n",
        "f(3,4)"
      ],
      "id": "9be59fd0-984f-4606-bf11-fa259767eca2"
    },
    {
      "cell_type": "code",
      "execution_count": 236,
      "metadata": {
        "vscode": {
          "languageId": "python"
        }
      },
      "outputs": [],
      "source": [
        "z= list(map(f,x,y))"
      ],
      "id": "4788b92a-370d-48c5-958c-c0a883c6de76"
    },
    {
      "cell_type": "code",
      "execution_count": 238,
      "metadata": {
        "vscode": {
          "languageId": "python"
        }
      },
      "outputs": [
        {
          "output_type": "display_data",
          "metadata": {},
          "data": {
            "image/png": "[encoded data removed]"
          }
        }
      ],
      "source": [
        "plt.plot(t,z)"
      ],
      "id": "bb237cbb-8b05-4dd3-b398-56429e26ea54"
    },
    {
      "cell_type": "markdown",
      "metadata": {},
      "source": [
        "`-` 예제4: map은 “하나의 함수에 다양한 입력”을 적용하는 경우에만\n",
        "사용가능, 리스트컴프리헨션은 “다양한 함수에 다양한 입력” 지원"
      ],
      "id": "80b33a41-b44a-4a01-b457-82617b1ced26"
    },
    {
      "cell_type": "code",
      "execution_count": 239,
      "metadata": {
        "vscode": {
          "languageId": "python"
        }
      },
      "outputs": [],
      "source": [
        "flst = [lambda x: x+1, lambda x: x+2, lambda x:x+3] "
      ],
      "id": "db9ddd88-83bb-43f9-81bc-03fa5e81bcc4"
    },
    {
      "cell_type": "markdown",
      "metadata": {},
      "source": [
        "map으로 구현시도 $\\to$ 실패"
      ],
      "id": "a11466e2-6b1f-4399-a552-648c2e723e2d"
    },
    {
      "cell_type": "code",
      "execution_count": 259,
      "metadata": {
        "vscode": {
          "languageId": "python"
        }
      },
      "outputs": [],
      "source": [
        "list(map(flst,[-1,-2,-3])) # 결과가 0,0,0"
      ],
      "id": "2825a705-084a-4bce-8e1f-da91539ae0cf"
    },
    {
      "cell_type": "markdown",
      "metadata": {},
      "source": [
        "리스트컴프리헨션으로 구현시도 $\\to$ 성공"
      ],
      "id": "e398032c-955d-47d1-bd69-0aab8adaa930"
    },
    {
      "cell_type": "code",
      "execution_count": 272,
      "metadata": {
        "vscode": {
          "languageId": "python"
        }
      },
      "outputs": [],
      "source": [
        "[f(x) for f,x in zip(flst,[-1,-2,-3])]"
      ],
      "id": "8522634a-9db2-410e-b389-73eda3e74cd7"
    },
    {
      "cell_type": "markdown",
      "metadata": {},
      "source": [
        "`-` 종합: map과 리스트컴프리헨션과 비교\n",
        "\n",
        "-   map은 for문을 위한 $i$등의 인덱스를 쓰지 않지만 리스트컴프리헨션은\n",
        "    필요함\n",
        "-   map은 좀더 리스트컴프리헨션보다 제약적으로 사용할 수 밖에 없음.\n",
        "\n",
        "# Quiz\n",
        "\n",
        "## `1`.\n",
        "\n",
        "아래와 같은 수열이 있다고 하자."
      ],
      "id": "20997889-6d9d-4589-93a5-f69568854eb4"
    },
    {
      "cell_type": "code",
      "execution_count": 268,
      "metadata": {
        "vscode": {
          "languageId": "python"
        }
      },
      "outputs": [],
      "source": [
        "x=np.random.randint(low=0,high=5,size=100)\n",
        "x"
      ],
      "id": "ba1c46b6-4e4a-428f-9914-7a4f385f874b"
    },
    {
      "cell_type": "markdown",
      "metadata": {},
      "source": [
        "${\\tt x}$의 각 원소에 아래와 같은 변환을 수행하라.\n",
        "\n",
        "-   0 $\\to$ ‘사과’\n",
        "-   1 $\\to$ ‘배’\n",
        "-   2 $\\to$ ‘오렌지’\n",
        "-   3 $\\to$ ‘자동차’\n",
        "-   4 $\\to$ ‘오토바이’"
      ],
      "id": "7197469a-6e3c-4de1-af79-c3edfc1ceade"
    },
    {
      "cell_type": "code",
      "execution_count": 279,
      "metadata": {
        "vscode": {
          "languageId": "python"
        }
      },
      "outputs": [],
      "source": [
        "_dct = {0:'사과',1:'배',2:'오렌지',3:'자동차',4:'오토바이'}\n",
        "lst = list(map(lambda x: _dct[x],x))\n",
        "lst[:10] # 첫 10개만 출력"
      ],
      "id": "ee69a37a-9351-497a-aa1b-9d1757999a3a"
    },
    {
      "cell_type": "markdown",
      "metadata": {},
      "source": [
        "## `2`.\n",
        "\n",
        "1의 결과에서 아래와 같은 변환을 수행하라.\n",
        "\n",
        "-   ‘사과’ $\\to$ ‘과일’\n",
        "-   ‘배’ $\\to$ ‘과일’\n",
        "-   ‘오렌지’ $\\to$ ‘과일’\n",
        "-   ‘자동차’ $\\to$ ‘탈것’\n",
        "-   ‘오토바이’ $\\to$ ‘탈것’"
      ],
      "id": "d9c5e119-c284-48fa-91b9-03e436d273ac"
    },
    {
      "cell_type": "code",
      "execution_count": 284,
      "metadata": {
        "vscode": {
          "languageId": "python"
        }
      },
      "outputs": [],
      "source": [
        "_dct = {'과일':['사과','배','오렌지'],'탈것':['자동차','오토바이']}\n",
        "rslt = [key for l in lst for key in _dct if l in _dct[key]]\n",
        "rslt[:10] # 첫 10개만 출력"
      ],
      "id": "1f3333ac-1ea9-4552-8d6a-f82ae7ba8a3a"
    }
  ],
  "nbformat": 4,
  "nbformat_minor": 5,
  "metadata": {
    "kernelspec": {
      "name": "python3",
      "display_name": "Python 3",
      "language": "python"
    },
    "language_info": {
      "name": "python",
      "codemirror_mode": {
        "name": "ipython",
        "version": "3"
      },
      "file_extension": ".py",
      "mimetype": "text/x-python",
      "nbconvert_exporter": "python",
      "pygments_lexer": "ipython3",
      "version": "3.8.16"
    }
  }
}