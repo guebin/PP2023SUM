{
 "cells": [
  {
   "cell_type": "raw",
   "id": "4401e7fb-8b75-412a-8479-bc3276c063e4",
   "metadata": {},
   "source": [
    "---\n",
    "title: \"Lesson 11: itertools\"\n",
    "author: \"최규빈\"\n",
    "date: \"07/25/2023\"\n",
    "---"
   ]
  },
  {
   "cell_type": "code",
   "execution_count": null,
   "id": "1fcf98a7-9be3-42f7-bf12-c368224ce844",
   "metadata": {},
   "outputs": [],
   "source": []
  }
 ],
 "metadata": {
  "kernelspec": {
   "display_name": "Python 3 (ipykernel)",
   "language": "python",
   "name": "python3"
  },
  "language_info": {
   "codemirror_mode": {
    "name": "ipython",
    "version": 3
   },
   "file_extension": ".py",
   "mimetype": "text/x-python",
   "name": "python",
   "nbconvert_exporter": "python",
   "pygments_lexer": "ipython3",
   "version": "3.10.12"
  }
 },
 "nbformat": 4,
 "nbformat_minor": 5
}
