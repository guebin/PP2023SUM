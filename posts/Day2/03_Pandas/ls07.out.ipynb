{
  "cells": [
    {
      "cell_type": "markdown",
      "metadata": {},
      "source": [
        "# Lesson 07: pandas 공부 1단계 ~ 2단계\n",
        "\n",
        "최규빈  \n",
        "2023-07-24\n",
        "\n",
        "<a href=\"https://colab.research.google.com/github/guebin/PP2023SUM/blob/main/posts/Day2/03_Pandas/ls07.ipynb\"><img src=\"https://colab.research.google.com/assets/colab-badge.svg\" style=\"text-align: left\"></a>\n",
        "\n",
        "# 강의영상\n",
        "\n",
        "<https://youtu.be/JkdKck7utkE>\n",
        "\n",
        "# imports"
      ],
      "id": "3a5b78a5-db11-4e4b-933c-7fb391f4fb09"
    },
    {
      "cell_type": "code",
      "execution_count": 1,
      "metadata": {},
      "outputs": [],
      "source": [
        "import numpy as np\n",
        "import pandas as pd "
      ],
      "id": "720575dc-3bcb-49f2-8550-66f6434d4fa4"
    },
    {
      "cell_type": "markdown",
      "metadata": {},
      "source": [
        "# pandas 공부 1단계: 선언 및 기본정보\n",
        "\n",
        "## 데이터프레임 선언\n",
        "\n",
        "`-` 방법1: dictionary에서 만든다."
      ],
      "id": "79a18737-06e9-4cb0-85e0-f24338565db4"
    },
    {
      "cell_type": "code",
      "execution_count": 2,
      "metadata": {},
      "outputs": [],
      "source": [
        "pd.DataFrame({'att':[30,40,50],'mid':[50,60,70]})"
      ],
      "id": "47aa63f6"
    },
    {
      "cell_type": "code",
      "execution_count": 3,
      "metadata": {},
      "outputs": [],
      "source": [
        "pd.DataFrame({'att':(30,40,50),'mid':(50,60,70)})"
      ],
      "id": "6aa55148"
    },
    {
      "cell_type": "code",
      "execution_count": 4,
      "metadata": {},
      "outputs": [],
      "source": [
        "pd.DataFrame({'att':np.array([30,40,50]),'mid':np.array([50,60,70])})"
      ],
      "id": "47768055"
    },
    {
      "cell_type": "markdown",
      "metadata": {},
      "source": [
        "`-` 방법: 2차원 ndarray에서 만든다."
      ],
      "id": "ce56f634-d3d1-42cd-897b-9b78b20066ed"
    },
    {
      "cell_type": "code",
      "execution_count": 23,
      "metadata": {},
      "outputs": [],
      "source": [
        "np.arange(2*3).reshape(2,3)"
      ],
      "id": "55290ccd"
    },
    {
      "cell_type": "code",
      "execution_count": 24,
      "metadata": {},
      "outputs": [],
      "source": [
        "pd.DataFrame(np.arange(2*3).reshape(2,3))"
      ],
      "id": "76fcfafd"
    },
    {
      "cell_type": "markdown",
      "metadata": {},
      "source": [
        "## 열의 이름 부여\n",
        "\n",
        "`-` 방법1: 딕셔너리를 통하여 만들면 딕셔너리의 key가 자동으로 열의\n",
        "이름이 된다."
      ],
      "id": "0806cb61-d169-4ad1-b65d-a5d34d093f6d"
    },
    {
      "cell_type": "code",
      "execution_count": 25,
      "metadata": {},
      "outputs": [],
      "source": [
        "pd.DataFrame({'att':np.array([30,40,50]),'mid':np.array([50,60,70])})"
      ],
      "id": "4fa3fb73"
    },
    {
      "cell_type": "markdown",
      "metadata": {},
      "source": [
        "`-` 방법2: pd.DataFrame()의 옵션에 columns를 이용"
      ],
      "id": "9e9ca2b6-55ef-4e8b-a324-6a5e7264343a"
    },
    {
      "cell_type": "code",
      "execution_count": 26,
      "metadata": {},
      "outputs": [],
      "source": [
        "pd.DataFrame(np.arange(2*3).reshape(2,3),columns=['X1','X2','X3'])"
      ],
      "id": "d616b21a"
    },
    {
      "cell_type": "markdown",
      "metadata": {},
      "source": [
        "`-` 방법3: df.columns에 원하는 열이름을 덮어씀 (1)"
      ],
      "id": "e9212337-951c-41b9-9202-df0fd2f1091b"
    },
    {
      "cell_type": "code",
      "execution_count": 27,
      "metadata": {},
      "outputs": [],
      "source": [
        "df=pd.DataFrame(np.arange(2*3).reshape(2,3))\n",
        "df"
      ],
      "id": "01927ad9"
    },
    {
      "cell_type": "code",
      "execution_count": 28,
      "metadata": {},
      "outputs": [],
      "source": [
        "df.columns = ['X1','X2','X3']\n",
        "df"
      ],
      "id": "3b0642b7"
    },
    {
      "cell_type": "markdown",
      "metadata": {},
      "source": [
        "`-` 방법4: df.columns에 원하는 열이름을 덮어씀 (2)"
      ],
      "id": "a8b395ec-cfb9-4b8a-9fcb-8c427391b06e"
    },
    {
      "cell_type": "code",
      "execution_count": 29,
      "metadata": {},
      "outputs": [],
      "source": [
        "df=pd.DataFrame(np.arange(2*3).reshape(2,3))\n",
        "df"
      ],
      "id": "224182f6"
    },
    {
      "cell_type": "code",
      "execution_count": 30,
      "metadata": {},
      "outputs": [],
      "source": [
        "df.columns = pd.Index(['X1','X2','X3'])"
      ],
      "id": "7687ffe6"
    },
    {
      "cell_type": "code",
      "execution_count": 31,
      "metadata": {},
      "outputs": [],
      "source": [
        "df"
      ],
      "id": "263d541f"
    },
    {
      "cell_type": "markdown",
      "metadata": {},
      "source": [
        "`-` 방법5: set_axis를 이용"
      ],
      "id": "2262c941-5bf0-4991-b9c0-88b0cc3e2eb5"
    },
    {
      "cell_type": "code",
      "execution_count": 5,
      "metadata": {},
      "outputs": [],
      "source": [
        "df=pd.DataFrame(np.arange(2*3).reshape(2,3))\n",
        "df"
      ],
      "id": "367d88fb-91e9-4c68-97e6-245659e56f76"
    },
    {
      "cell_type": "code",
      "execution_count": 8,
      "metadata": {},
      "outputs": [],
      "source": [
        "df.set_axis(pd.Index(['X1','X2','X3']),axis=1)"
      ],
      "id": "c87c873c-7a6e-47a0-bf3d-d10c4ec11409"
    },
    {
      "cell_type": "markdown",
      "metadata": {},
      "source": [
        "## 행의 이름 부여\n",
        "\n",
        "`-` 방법1: df.set_axis() 를 이용하여 덮어씌운다"
      ],
      "id": "693eaec3-917a-4000-b6c3-67e968f57f7e"
    },
    {
      "cell_type": "code",
      "execution_count": 9,
      "metadata": {},
      "outputs": [],
      "source": [
        "df=pd.DataFrame({'att':[30,40,50] , 'mid':[5,45,90]})\n",
        "df"
      ],
      "id": "5ffa95bd"
    },
    {
      "cell_type": "code",
      "execution_count": 12,
      "metadata": {},
      "outputs": [],
      "source": [
        "df.set_axis(pd.Index(['guebin','iu','hynn']),axis=0)"
      ],
      "id": "c899ddc8"
    },
    {
      "cell_type": "markdown",
      "metadata": {},
      "source": [
        "## 자료형, len, shape, for문의 반복변수"
      ],
      "id": "263a50d4-7896-4763-a9ae-5aa1327830c3"
    },
    {
      "cell_type": "code",
      "execution_count": 40,
      "metadata": {},
      "outputs": [],
      "source": [
        "df = pd.DataFrame({'att':[30,40,50],'mid':[5,45,90]})\n",
        "df"
      ],
      "id": "e73ea845"
    },
    {
      "cell_type": "markdown",
      "metadata": {},
      "source": [
        "`-` type"
      ],
      "id": "b9c0ca89-f994-4e52-a88b-22508e8f059b"
    },
    {
      "cell_type": "code",
      "execution_count": 41,
      "metadata": {},
      "outputs": [],
      "source": [
        "type(df)"
      ],
      "id": "d43ac14c"
    },
    {
      "cell_type": "markdown",
      "metadata": {},
      "source": [
        "`-` len"
      ],
      "id": "c7f97ab2-c042-4870-a483-79d2557bb8bc"
    },
    {
      "cell_type": "code",
      "execution_count": 42,
      "metadata": {},
      "outputs": [],
      "source": [
        "len(df) # row의 갯수 "
      ],
      "id": "f42e21d4"
    },
    {
      "cell_type": "markdown",
      "metadata": {},
      "source": [
        "`-` shape"
      ],
      "id": "09aa784d-2fd5-4e90-be3a-4d6b1d51239a"
    },
    {
      "cell_type": "code",
      "execution_count": 43,
      "metadata": {},
      "outputs": [],
      "source": [
        "df.shape "
      ],
      "id": "9e3a1218"
    },
    {
      "cell_type": "markdown",
      "metadata": {},
      "source": [
        "`-` for문의 반복변수"
      ],
      "id": "96dde980-2847-4489-a0e0-fd53c8f00a08"
    },
    {
      "cell_type": "code",
      "execution_count": 11,
      "metadata": {},
      "outputs": [],
      "source": [
        "df"
      ],
      "id": "ca7f7c17-33b8-483a-8116-39ad0d838c5e"
    },
    {
      "cell_type": "code",
      "execution_count": 19,
      "metadata": {},
      "outputs": [
        {
          "output_type": "stream",
          "name": "stdout",
          "text": [
            "att\n",
            "mid"
          ]
        }
      ],
      "source": [
        "for k in df:\n",
        "    print(k)"
      ],
      "id": "2958c6c8"
    },
    {
      "cell_type": "markdown",
      "metadata": {},
      "source": [
        "**참고:** df는 진짜 딕셔너리 느낌 강해요"
      ],
      "id": "7e83b9ad-9ff8-43c1-a955-6532b52fbc58"
    },
    {
      "cell_type": "code",
      "execution_count": 21,
      "metadata": {},
      "outputs": [],
      "source": [
        "df.keys()"
      ],
      "id": "a5666359-f888-4e4f-bbe7-1e2e168c3e5e"
    },
    {
      "cell_type": "code",
      "execution_count": 25,
      "metadata": {},
      "outputs": [
        {
          "output_type": "stream",
          "name": "stdout",
          "text": [
            "0    30\n",
            "1    40\n",
            "2    50\n",
            "Name: att, dtype: int64\n",
            "0     5\n",
            "1    45\n",
            "2    90\n",
            "Name: mid, dtype: int64"
          ]
        }
      ],
      "source": [
        "for col_name,col_array in df.items():\n",
        "    print(col_array)"
      ],
      "id": "4377ad9a"
    },
    {
      "cell_type": "markdown",
      "metadata": {},
      "source": [
        "# pandas 공부 2단계: 행과 열의 선택\n",
        "\n",
        "`-` 데이터"
      ],
      "id": "c4feef83-6686-4e1a-aba7-078043692abb"
    },
    {
      "cell_type": "code",
      "execution_count": 26,
      "metadata": {},
      "outputs": [],
      "source": [
        "np.random.seed(43052)\n",
        "att = np.random.choice(np.arange(10,21)*5,20)\n",
        "rep = np.random.choice(np.arange(5,21)*5,20)\n",
        "mid = np.random.choice(np.arange(0,21)*5,20)\n",
        "fin = np.random.choice(np.arange(0,21)*5,20)\n",
        "student_id = ['2022-12'+str(s) for s in np.random.choice(np.arange(300,501),20,replace=False)]"
      ],
      "id": "c0e3cf0f"
    },
    {
      "cell_type": "code",
      "execution_count": 29,
      "metadata": {},
      "outputs": [],
      "source": [
        "df = pd.DataFrame({'att':att,'rep':rep,'mid':mid,'fin':fin})\n",
        "df.head()"
      ],
      "id": "85267e83"
    },
    {
      "cell_type": "code",
      "execution_count": 30,
      "metadata": {},
      "outputs": [],
      "source": [
        "df2 = pd.DataFrame({'id':student_id,'att':att,'rep':rep,'mid':mid,'fin':fin})\n",
        "df2.head()"
      ],
      "id": "9672986f-b39d-47c9-8414-bed85c851c69"
    },
    {
      "cell_type": "markdown",
      "metadata": {},
      "source": [
        "## 열의 선택\n",
        "\n",
        "`-` 방법1: `df.?` + str\n",
        "\n",
        "`-` 방법2: `df[?]` + str, \\[str,str\\]"
      ],
      "id": "479f9b97-e6ba-466f-bd6d-137ab85e59be"
    },
    {
      "cell_type": "code",
      "execution_count": 349,
      "metadata": {},
      "outputs": [],
      "source": [
        "# df['att'] # str \n",
        "# df[['att']] # [str]\n",
        "# df[['att','rep']] # [str,str]"
      ],
      "id": "b4ce0d43-b31f-461c-b6e1-c0f4ccd4ae83"
    },
    {
      "cell_type": "markdown",
      "metadata": {},
      "source": [
        "`-` 방법3: `df.iloc[:,?]` + int, int:int, \\[int,int\\], \\[bool,bool\\],\n",
        "range"
      ],
      "id": "d0cb8a70-c321-4a2e-bf6d-017d1e86bff0"
    },
    {
      "cell_type": "code",
      "execution_count": 350,
      "metadata": {},
      "outputs": [],
      "source": [
        "# df.iloc[:,0] # int\n",
        "# df.iloc[:,-2:] # int:int - 슬라이싱\n",
        "# df.iloc[:,1::2] # int:int - 스트라이딩\n",
        "# df.iloc[:,[0]] # [int]\n",
        "# df.iloc[:,[0,1]] # [int,int]\n",
        "# df.iloc[:,[True,True,False,False]] # bool의 list \n",
        "# df.iloc[:,range(2)] # range"
      ],
      "id": "ddf35c44"
    },
    {
      "cell_type": "markdown",
      "metadata": {},
      "source": [
        "`-` 방법4: `df.loc[:,?]` + str, ‘str:str’, \\[str,str\\], \\[bool,bool\\]"
      ],
      "id": "ae29ed4d-a15b-4a27-bf9e-f612cdd42ada"
    },
    {
      "cell_type": "code",
      "execution_count": 357,
      "metadata": {},
      "outputs": [],
      "source": [
        "# df.loc[:,'att'] # str\n",
        "# df.loc[:,'rep':'mid'] # 'str':'str' -- 칼럼이름으로 슬라이싱 **\n",
        "# df.loc[:,'rep'::2] # 'str':'str' -- 칼럼이름으로 스트라이딩 ** \n",
        "# df.loc[:,['att']] # [str]\n",
        "# df.loc[:,['att','rep']] # [str,str]\n",
        "# df.loc[:,[True,False,False,True]] # bool의 list"
      ],
      "id": "c996519f"
    },
    {
      "cell_type": "markdown",
      "metadata": {},
      "source": [
        "## 행의 선택\n",
        "\n",
        "`-` 방법1: `df[]` + int:int, str:str, \\[bool,bool\\],\n",
        "pd.Series(\\[bool,bool\\]) – $(\\star\\star\\star\\star\\star)$"
      ],
      "id": "8f5beba3-23d4-4caa-b0ca-c336cbd34dd4"
    },
    {
      "cell_type": "code",
      "execution_count": 379,
      "metadata": {},
      "outputs": [],
      "source": [
        "# df[:2] # int:int -- 슬라이싱 // df.iloc[:2,:], df.iloc[:2] 와 같음\n",
        "# df[0:5:2] # int:int -- 스트라이딩 \n",
        "# df[:'2022-12312'] # str:str -- 슬라이싱 // df.loc[:'2022-12312'], df.loc[:'2022-12312',:] 와 같음\n",
        "# df[:'2022-12312':2] # str:str -- 스트라이딩\n",
        "# df[list(df.att < 70)] # [bool,bool]\n",
        "# df[df.att < 70] # pd.Series([bool,bool])"
      ],
      "id": "bfa1db85-d013-4cec-9bd5-201cfc83e3c2"
    },
    {
      "cell_type": "markdown",
      "metadata": {},
      "source": [
        "`-` 방법2: `df.iloc[]`, `df.iloc[,:]` + int, int:int, \\[int,int\\],\n",
        "\\[bool,bool\\], range"
      ],
      "id": "7bc2d214-f3a1-415b-a0a5-f95e1d7cab7e"
    },
    {
      "cell_type": "code",
      "execution_count": 381,
      "metadata": {},
      "outputs": [],
      "source": [
        "# df.iloc[0] # int \n",
        "# df.iloc[-2:] # int:int -- 슬라이싱\n",
        "# df.iloc[1::2] # int:int -- 스트라이딩\n",
        "# df.iloc[[0]] # [int]\n",
        "# df.iloc[[0,1]] # [int,int]\n",
        "# df.iloc[[True]+[False]*19] # [bool,bool]\n",
        "# df.iloc[range(2)] # range"
      ],
      "id": "17edc896"
    },
    {
      "cell_type": "code",
      "execution_count": 384,
      "metadata": {},
      "outputs": [],
      "source": [
        "# df.iloc[0,:] # int \n",
        "# df.iloc[-2:,:] # int:int -- 슬라이싱\n",
        "# df.iloc[1::2,:] # int:int -- 스트라이딩\n",
        "# df.iloc[[0],:] # [int]\n",
        "# df.iloc[[0,1],:] # [int,int]\n",
        "# df.iloc[[True]+[False]*19,:] # [bool,bool]\n",
        "# df.iloc[range(2),:] # range"
      ],
      "id": "27c47db1"
    },
    {
      "cell_type": "markdown",
      "metadata": {},
      "source": [
        "`-` 방법3: `df.loc[]`, `df.loc[,:]` + int, str, int:int, str:str,\n",
        "\\[int,int\\], \\[str,str\\], \\[bool,bool\\], pd.Series(\\[bool,bool\\])"
      ],
      "id": "5472ba76-8d3a-40d9-b07c-5f698593aa86"
    },
    {
      "cell_type": "code",
      "execution_count": 415,
      "metadata": {},
      "outputs": [],
      "source": [
        "# df2.loc[0] # int \n",
        "# df.loc['2022-12380'] # str \n",
        "# df2.loc[:2] # int:int \n",
        "# df.loc[:'2022-12363'] # str:str \n",
        "# df2.loc[[0,1]] # [int,int]\n",
        "# df.loc[['2022-12380','2022-12370']] # [str,str]\n",
        "# df.loc[[True]+[False]*19] # [bool,bool]\n",
        "# df.loc[df.att>70] # pd.Series([bool,bool]) "
      ],
      "id": "6c6eec49"
    },
    {
      "cell_type": "code",
      "execution_count": 416,
      "metadata": {},
      "outputs": [],
      "source": [
        "# df2.loc[0,:] # int \n",
        "# df.loc['2022-12380',:] # str \n",
        "# df2.loc[:2,:] # int:int \n",
        "# df.loc[:'2022-12363',:] # str:str \n",
        "# df2.loc[[0,1],:] # [int,int]\n",
        "# df.loc[['2022-12380','2022-12370'],:] # [str,str]\n",
        "# df.loc[[True]+[False]*19,:] # [bool,bool]\n",
        "# df.loc[df.att>70,:] # pd.Series([bool,bool]) "
      ],
      "id": "14c52144-881a-4b4a-929c-99072c559905"
    },
    {
      "cell_type": "markdown",
      "metadata": {},
      "source": [
        "## 요약\n",
        "\n",
        "`-` 알아두면 좋은 규칙\n",
        "\n",
        "-   `.iloc[]` 와 `.iloc[,:]`는 완전히 동등하다.\n",
        "-   `.loc[]` 와 `.loc[,:]`는 완전히 동등하다.\n",
        "\n",
        "`-` 정리\n",
        "\n",
        "|     type of indexer      | target | `.` | `[]` | `.iloc` |  `.loc`  | comment |\n",
        "|:------------------------:|:------:|:---:|:----:|:-------:|:--------:|:-------:|\n",
        "|           int            |  row   |  X  |  X   |    O    | $\\Delta$ |         |\n",
        "|           int            |  col   |  X  |  X   |    O    |    X     |         |\n",
        "|           str            |  row   |  X  |  X   |    X    |    O     |         |\n",
        "|           str            |  col   |  O  |  O   |    X    |    O     |         |\n",
        "|         int:int          |  row   |  X  |  O   |    O    | $\\Delta$ |         |\n",
        "|         int:int          |  col   |  X  |  X   |    O    |    X     |         |\n",
        "|         str:str          |  row   |  X  |  O   |    X    |    O     |         |\n",
        "|         str:str          |  col   |  X  |  X   |    X    |    O     |         |\n",
        "|       \\[int,int\\]        |  row   |  X  |  X   |    O    | $\\Delta$ |         |\n",
        "|       \\[int,int\\]        |  col   |  X  |  X   |    O    |    X     |         |\n",
        "|       \\[str,str\\]        |  row   |  X  |  X   |    X    |    O     |         |\n",
        "|       \\[str,str\\]        |  col   |  X  |  O   |    X    |    O     |         |\n",
        "|      \\[bool,bool\\]       |  row   |  X  |  O   |    O    |    O     |         |\n",
        "|      \\[bool,bool\\]       |  col   |  X  |  X   |    O    |    O     |         |\n",
        "| pd.Series(\\[bool,bool\\]) |  row   |  X  |  O   |    X    |    O     |         |\n",
        "\n",
        "## 제 스타일\n",
        "\n",
        "`-` **가장 안전한 코드**"
      ],
      "id": "083b9751-073f-471c-baed-e7413cb72e6c"
    },
    {
      "cell_type": "code",
      "execution_count": 65,
      "metadata": {},
      "outputs": [],
      "source": [
        "# df.loc[:,:]"
      ],
      "id": "ff90e607-a2af-4b4e-86d1-67a51bfb548e"
    },
    {
      "cell_type": "markdown",
      "metadata": {},
      "source": [
        "`-` 상황1: 하나의 col을 뽑으려 할때 좋은 코드"
      ],
      "id": "dd07197b-84b9-4c28-ac55-d03e174412c9"
    },
    {
      "cell_type": "code",
      "execution_count": 286,
      "metadata": {},
      "outputs": [],
      "source": [
        "# df.att # 최애 \n",
        "# df['att'] # 차애 \n",
        "# df[['att']] # 차애의 대안"
      ],
      "id": "8659f013-12f9-40c3-9d1b-ee2b6a008789"
    },
    {
      "cell_type": "markdown",
      "metadata": {},
      "source": [
        "`-` 상황2: row 슬라이싱을 할때 좋은 코드 $(\\star\\star\\star)$"
      ],
      "id": "a84a02ef-3b39-4c7b-b72a-cdb9ac360dd9"
    },
    {
      "cell_type": "code",
      "execution_count": 73,
      "metadata": {},
      "outputs": [],
      "source": [
        "# df[:5] # 최애, df.iloc[:5]와 같다. \n",
        "# df[:'2022-12312'] # 차애, df.loc[:'2022-12312'] 와 같다"
      ],
      "id": "578579b3-ab7b-4409-bfc2-eac5aeb6125b"
    },
    {
      "cell_type": "markdown",
      "metadata": {},
      "source": [
        "`-` 상황3: 조건에 맞는 row를 뽑을때 좋은 코드"
      ],
      "id": "9930c2a4-71a7-41a5-8a77-2054125de8d7"
    },
    {
      "cell_type": "code",
      "execution_count": 304,
      "metadata": {},
      "outputs": [],
      "source": [
        "# df[df.att<60] # 최애\n",
        "# df[[att<60 for att in df.att]] # 차애"
      ],
      "id": "374952df-9c9f-49da-bbe5-ba59fa03c20d"
    },
    {
      "cell_type": "markdown",
      "metadata": {},
      "source": [
        "`-` 상황4: 하나의 row를 뽑으려 할때 좋은 코드"
      ],
      "id": "f5cc34ad-325d-4989-bd69-b5d062e48204"
    },
    {
      "cell_type": "code",
      "execution_count": 305,
      "metadata": {},
      "outputs": [],
      "source": [
        "# df.loc[0] # 최애\n",
        "# df.iloc[0] # 최애 \n",
        "# df.loc[[0]] # 최애의 대안\n",
        "# df.iloc[[0]] # 최애의 대안"
      ],
      "id": "b6c8c863-be85-4e6a-a275-f386df649297"
    },
    {
      "cell_type": "markdown",
      "metadata": {},
      "source": [
        "`-` 상황5: (row,col)을 뽑으려 할때 좋은 코드"
      ],
      "id": "d21f34bb-9bd5-41cf-b37a-64b6acbf6d99"
    },
    {
      "cell_type": "code",
      "execution_count": 119,
      "metadata": {},
      "outputs": [],
      "source": [
        "# 방법1: pd.Series를 뽑고 -> 인덱스로접근\n",
        "# df.att[0]\n",
        "# df['att'][0]\n",
        "\n",
        "# 방법2: iloc, loc 으로 한번에 뽑기\n",
        "# df.iloc[0,0]\n",
        "# df.loc[0,'att']"
      ],
      "id": "6a3c5b60-63d7-4d00-8a52-d0bfa00b2cb5"
    },
    {
      "cell_type": "markdown",
      "metadata": {},
      "source": [
        "***위의 상황이외에는 `df.loc[:,:]`를 사용하는것이 유리하다***\n",
        "\n",
        "`-` 상황6: column 슬라이싱을 할때"
      ],
      "id": "e8cd898b-d1f4-400f-8c88-98f209c13876"
    },
    {
      "cell_type": "code",
      "execution_count": 223,
      "metadata": {},
      "outputs": [],
      "source": [
        "# df.loc[:,'att':'mid'] # 끝점포함"
      ],
      "id": "bb01bd9d-a8ca-48ed-8727-5798cc0347bc"
    },
    {
      "cell_type": "markdown",
      "metadata": {},
      "source": [
        "`-` 상황7: row + column 슬라이싱을 하는 가장 좋은 코드"
      ],
      "id": "75fb7e2f-33ba-4f58-81e4-bcd1e2416d00"
    },
    {
      "cell_type": "code",
      "execution_count": 224,
      "metadata": {},
      "outputs": [],
      "source": [
        "# df.loc[0:5,'att':'mid']"
      ],
      "id": "28b54ecb-9acf-47d3-9a62-c1d8cd3453ff"
    },
    {
      "cell_type": "markdown",
      "metadata": {},
      "source": [
        "`-` 상황8: 조건에 맞는 col을 뽑기에 가장 좋은 코드"
      ],
      "id": "dee62f36-2da7-4863-ae18-8276345ffd65"
    },
    {
      "cell_type": "code",
      "execution_count": 226,
      "metadata": {},
      "outputs": [],
      "source": [
        "# df.loc[:,[len(col_name)>2 for col_name in df.columns]]"
      ],
      "id": "0bd34bc6-1054-45a2-bcbd-a6872f44b38e"
    },
    {
      "cell_type": "markdown",
      "metadata": {},
      "source": [
        "`-` 상황9: 조건에 맞는 row, col을 뽑기에 가장 좋은 코드"
      ],
      "id": "f2846384-4c2a-4143-a7dc-9c938dcde5aa"
    },
    {
      "cell_type": "code",
      "execution_count": 242,
      "metadata": {},
      "outputs": [],
      "source": [
        "# df.loc[df.att<60,[len(col_name)>2 for col_name in df.columns]]"
      ],
      "id": "e4a995cb-340a-4aa4-b286-9b6aff53c14e"
    },
    {
      "cell_type": "markdown",
      "metadata": {},
      "source": [
        "## 제 스타일 X\n",
        "\n",
        "`-` 제가 안쓰는 코드1"
      ],
      "id": "97a73de4-8a1e-4bdf-9a4c-bbd13621d264"
    },
    {
      "cell_type": "code",
      "execution_count": 125,
      "metadata": {},
      "outputs": [],
      "source": [
        "df[:1]"
      ],
      "id": "a6cd5736"
    },
    {
      "cell_type": "markdown",
      "metadata": {},
      "source": [
        "이러면 내 입장에서는 마치 아래가 동작할 것 같잖아.."
      ],
      "id": "5e7ef819-25c8-4e6e-af35-a062572bd261"
    },
    {
      "cell_type": "code",
      "execution_count": 302,
      "metadata": {},
      "outputs": [],
      "source": [
        "df[0] "
      ],
      "id": "fdf15e20"
    },
    {
      "cell_type": "markdown",
      "metadata": {},
      "source": [
        "`-` 제가 안쓰는 코드2: bool의 list를 사용할때 iloc은 가급적 쓰지마세요"
      ],
      "id": "9f980ebd-4c3d-4c3b-89a6-38453986f0bc"
    },
    {
      "cell_type": "code",
      "execution_count": 128,
      "metadata": {},
      "outputs": [],
      "source": [
        "df.iloc[list(df['att']<80),:]"
      ],
      "id": "6494de36"
    },
    {
      "cell_type": "markdown",
      "metadata": {},
      "source": [
        "이러면 마치 아래도 동작할 것 같잖아.."
      ],
      "id": "63a01e33-891f-4704-b949-8c795e7b121a"
    },
    {
      "cell_type": "code",
      "execution_count": 419,
      "metadata": {},
      "outputs": [],
      "source": [
        "df.iloc[df['att']<80,:]"
      ],
      "id": "b46298e7"
    },
    {
      "cell_type": "markdown",
      "metadata": {},
      "source": [
        "# Quiz\n",
        "\n",
        "`(1)` 아래와 같은 데이터 프레임을 선언하라."
      ],
      "id": "80865a32-a2c9-402b-9d19-ebbdd50c63f9"
    },
    {
      "cell_type": "code",
      "execution_count": null,
      "metadata": {},
      "outputs": [],
      "source": [
        "from IPython.core.display import HTML \n",
        "HTML('<table border=\"1\" class=\"dataframe\">\\n  <thead>\\n    <tr style=\"text-align: right;\">\\n      <th></th>\\n      <th>A</th>\\n      <th>B</th>\\n    </tr>\\n  </thead>\\n  <tbody>\\n    <tr>\\n      <th>0</th>\\n      <td>1</td>\\n      <td>-2</td>\\n    </tr>\\n    <tr>\\n      <th>1</th>\\n      <td>2</td>\\n      <td>-3</td>\\n    </tr>\\n    <tr>\\n      <th>2</th>\\n      <td>3</td>\\n      <td>-4</td>\\n    </tr>\\n  </tbody>\\n</table>')"
      ],
      "id": "d8f559d7"
    },
    {
      "cell_type": "markdown",
      "metadata": {},
      "source": [
        "`(2)` Column을 이름을 X1, X2로 변경하라. 출력결과는 아래와 같아야 한다."
      ],
      "id": "0d6d49bc-90de-46cb-b2a4-5f8eb9287404"
    },
    {
      "cell_type": "code",
      "execution_count": null,
      "metadata": {},
      "outputs": [],
      "source": [
        "from IPython.core.display import HTML \n",
        "HTML('<table border=\"1\" class=\"dataframe\">\\n  <thead>\\n    <tr style=\"text-align: right;\">\\n      <th></th>\\n      <th>X1</th>\\n      <th>X2</th>\\n    </tr>\\n  </thead>\\n  <tbody>\\n    <tr>\\n      <th>0</th>\\n      <td>1</td>\\n      <td>-2</td>\\n    </tr>\\n    <tr>\\n      <th>1</th>\\n      <td>2</td>\\n      <td>-3</td>\\n    </tr>\\n    <tr>\\n      <th>2</th>\\n      <td>3</td>\\n      <td>-4</td>\\n    </tr>\\n  </tbody>\\n</table>')"
      ],
      "id": "4bf25299"
    },
    {
      "cell_type": "markdown",
      "metadata": {},
      "source": [
        "`(3)-(5)` 아래와 같은 자료를 고려하자."
      ],
      "id": "76c4e6b4-ed6c-4f20-8c4d-b0f1afb76f86"
    },
    {
      "cell_type": "code",
      "execution_count": 129,
      "metadata": {},
      "outputs": [],
      "source": [
        "df = pd.DataFrame(np.random.normal(size=(100,5)),columns=list('ABCDE'))\n",
        "df"
      ],
      "id": "00c887d0"
    },
    {
      "cell_type": "markdown",
      "metadata": {},
      "source": [
        "`(3)` B,D열을 선택하라."
      ],
      "id": "c2dfa0d9-8f49-4918-96cc-5309f20822bf"
    },
    {
      "cell_type": "code",
      "execution_count": 130,
      "metadata": {},
      "outputs": [],
      "source": [
        "df.loc[:,['B','D']]"
      ],
      "id": "3e273c28-24c9-41f5-9448-169ed5896ede"
    },
    {
      "cell_type": "markdown",
      "metadata": {},
      "source": [
        "`(4)` 마지막 10개의 row를 출력하라."
      ],
      "id": "8e4b922a-cb85-44bf-89b2-307ab8ea98dc"
    },
    {
      "cell_type": "code",
      "execution_count": 131,
      "metadata": {},
      "outputs": [],
      "source": [
        "df[-10:]"
      ],
      "id": "c4b60d47-d5fd-4c13-93a6-7f40e0596115"
    },
    {
      "cell_type": "markdown",
      "metadata": {},
      "source": [
        "`(5)` A,B 열의 처음 10개의 row를 출력하라."
      ],
      "id": "9011efd5-442e-46df-a743-d8c8c574baf2"
    },
    {
      "cell_type": "code",
      "execution_count": 133,
      "metadata": {},
      "outputs": [],
      "source": [
        "df.loc[:10,['A','B']]"
      ],
      "id": "46213a2d-b9f4-4f19-9a95-bf04305c7e73"
    },
    {
      "cell_type": "markdown",
      "metadata": {},
      "source": [
        "`(6)-(10)` 아래와 같은 자료를 고려하자."
      ],
      "id": "f42e2ecd-1564-44ab-bf42-1741daca67dc"
    },
    {
      "cell_type": "code",
      "execution_count": 134,
      "metadata": {},
      "outputs": [],
      "source": [
        "df=pd.read_csv('https://raw.githubusercontent.com/PacktPublishing/Pandas-Cookbook/master/data/movie.csv')\n",
        "df"
      ],
      "id": "b42e10d7"
    },
    {
      "cell_type": "markdown",
      "metadata": {},
      "source": [
        "`(6)` 이 데이터프레임에는 몇개의 컬럼이 있는지 count하라."
      ],
      "id": "8b07e7f1-9e28-45fb-8162-db3f0951a1b0"
    },
    {
      "cell_type": "code",
      "execution_count": 137,
      "metadata": {},
      "outputs": [],
      "source": [
        "len(df.columns)"
      ],
      "id": "824856a0-3b78-49cd-9837-e495d164302e"
    },
    {
      "cell_type": "markdown",
      "metadata": {},
      "source": [
        "`(7)` 데이터프레임의 컬럼이름이 c혹은 d로 시작하는 열은 몇개 있는지\n",
        "세어보라."
      ],
      "id": "7db3f521-a288-4329-8e84-c58c9209b293"
    },
    {
      "cell_type": "code",
      "execution_count": 141,
      "metadata": {},
      "outputs": [],
      "source": [
        "sum([l[0]=='c' or l[0]=='d' for l in df.columns])"
      ],
      "id": "602bec92-d4e0-48d6-85dd-24905c338996"
    },
    {
      "cell_type": "markdown",
      "metadata": {},
      "source": [
        "`(8)` c 혹은 d로 시작하는 열을 출력하라."
      ],
      "id": "780612a3-9a8e-4e55-bda9-2887812ea172"
    },
    {
      "cell_type": "code",
      "execution_count": 146,
      "metadata": {},
      "outputs": [],
      "source": [
        "df.loc[:,[l[0]=='c' or l[0]=='d' for l in df.columns]]"
      ],
      "id": "d8d1af24-272e-4868-89d8-50009d9677a7"
    },
    {
      "cell_type": "markdown",
      "metadata": {},
      "source": [
        "`(9)` 이 데이터프레임에서 ’actor’라는 단어가 포함된 열의 출력하라."
      ],
      "id": "f29aea2c-3b54-47e9-b5ec-ff5cef22bce7"
    },
    {
      "cell_type": "code",
      "execution_count": 153,
      "metadata": {},
      "outputs": [],
      "source": [
        "df.loc[:,['actor' in l for l in df.columns]]"
      ],
      "id": "be033865-fd56-4b18-9884-fce707079c4a"
    },
    {
      "cell_type": "markdown",
      "metadata": {},
      "source": [
        "`(10)` 이 데이터프레임에서 ’\\_’ 가 포함된 열을 출력하라."
      ],
      "id": "fe225bfa-180c-4161-b87b-60c00b2fb4bd"
    }
  ],
  "nbformat": 4,
  "nbformat_minor": 5,
  "metadata": {
    "kernelspec": {
      "name": "python3",
      "display_name": "Python 3 (ipykernel)",
      "language": "python"
    },
    "language_info": {
      "name": "python",
      "codemirror_mode": {
        "name": "ipython",
        "version": "3"
      },
      "file_extension": ".py",
      "mimetype": "text/x-python",
      "nbconvert_exporter": "python",
      "pygments_lexer": "ipython3",
      "version": "3.10.12"
    }
  }
}