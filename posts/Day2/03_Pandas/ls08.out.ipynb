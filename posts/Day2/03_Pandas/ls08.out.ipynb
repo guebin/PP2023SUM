{
  "cells": [
    {
      "cell_type": "markdown",
      "metadata": {},
      "source": [
        "# Lesson 08: pandas 공부 3단계\n",
        "\n",
        "최규빈  \n",
        "2023-07-24\n",
        "\n",
        "<a href=\"https://colab.research.google.com/github/guebin/PP2023SUM/blob/main/posts/Day2/03_Pandas/ls08.ipynb\"><img src=\"https://colab.research.google.com/assets/colab-badge.svg\" style=\"text-align: left\"></a>\n",
        "\n",
        "# 강의영상\n",
        "\n",
        "<https://youtu.be/4ArT-YZ7eAU>\n",
        "\n",
        "# imports"
      ],
      "id": "09525e46-9711-4370-82eb-ca0235e3898a"
    },
    {
      "cell_type": "code",
      "execution_count": 1,
      "metadata": {},
      "outputs": [],
      "source": [
        "import numpy as np\n",
        "import pandas as pd"
      ],
      "id": "0d527451-1e68-4cf4-a77d-f20fe9831983"
    },
    {
      "cell_type": "markdown",
      "metadata": {},
      "source": [
        "# pandas 공부 3단계: 필터링"
      ],
      "id": "422ea559-e62c-4393-8e6d-efa551cbba3e"
    },
    {
      "cell_type": "code",
      "execution_count": 2,
      "metadata": {},
      "outputs": [],
      "source": [
        "np.random.seed(43052)\n",
        "att = np.random.choice(np.arange(10,21)*5,20)\n",
        "rep = np.random.choice(np.arange(5,21)*5,20)\n",
        "mid = np.random.choice(np.arange(0,21)*5,20)\n",
        "fin = np.random.choice(np.arange(0,21)*5,20)\n",
        "key = ['2022-12'+str(s) for s in np.random.choice(np.arange(300,501),20,replace=False)]\n",
        "df = pd.DataFrame({'att':att,'rep':rep,'mid':mid,'fin':fin},index=key)\n",
        "df.head()"
      ],
      "id": "816924c6-2c45-487a-a051-49bec9a706f9"
    },
    {
      "cell_type": "markdown",
      "metadata": {},
      "source": [
        "## query ($\\star$)\n",
        "\n",
        "`-` 예제1: att==90 and fin\\>30"
      ],
      "id": "a68af85a-a444-40cc-ab55-964df7f16709"
    },
    {
      "cell_type": "code",
      "execution_count": 10,
      "metadata": {},
      "outputs": [],
      "source": [
        "df.query('att ==90 and fin >30')"
      ],
      "id": "4c6ccbc8-2c10-4e25-ad81-63ce539b0a7b"
    },
    {
      "cell_type": "markdown",
      "metadata": {},
      "source": [
        "`-` 예제2: att\\<rep and mid\\<fin"
      ],
      "id": "6aa80605-7432-4eed-93b0-0991739b7cfe"
    },
    {
      "cell_type": "code",
      "execution_count": 15,
      "metadata": {},
      "outputs": [],
      "source": [
        "df.query('att<rep and mid<fin')"
      ],
      "id": "0c5f2af5-1c30-4d6f-911c-8d4c4ccd8a0c"
    },
    {
      "cell_type": "markdown",
      "metadata": {},
      "source": [
        "`-` 예제3: att \\< rep \\< 80"
      ],
      "id": "c86d1507-2846-42cb-90c1-d6326c0ae718"
    },
    {
      "cell_type": "code",
      "execution_count": 20,
      "metadata": {},
      "outputs": [],
      "source": [
        "df.query('att<rep<80')"
      ],
      "id": "8e273fc9-3c1c-423c-8e00-9d1143f21088"
    },
    {
      "cell_type": "markdown",
      "metadata": {},
      "source": [
        "`-` 예제4: 50 \\< att \\<= 90 and mid \\< fin"
      ],
      "id": "10564e2e-2006-47ce-87f2-cebb4ac8c59b"
    },
    {
      "cell_type": "code",
      "execution_count": 25,
      "metadata": {},
      "outputs": [],
      "source": [
        "df.query('50<att<=90 and mid<fin')"
      ],
      "id": "3e143860-c657-4319-8bee-36ef0a830475"
    },
    {
      "cell_type": "markdown",
      "metadata": {},
      "source": [
        "`-` 예제5: (mid+fin)/2 \\>=60"
      ],
      "id": "88e67adc-1fac-4c82-818d-98557de37b4b"
    },
    {
      "cell_type": "code",
      "execution_count": 33,
      "metadata": {},
      "outputs": [],
      "source": [
        "df.query('(mid+fin)/2>=60')"
      ],
      "id": "c42df76d-b867-431e-8373-82c227464996"
    },
    {
      "cell_type": "markdown",
      "metadata": {},
      "source": [
        "`-` 예제6: att \\> mean(att)"
      ],
      "id": "5a32f019-540f-477e-97ac-c123297583e8"
    },
    {
      "cell_type": "code",
      "execution_count": 54,
      "metadata": {},
      "outputs": [],
      "source": [
        "df.query('att> att.mean()')"
      ],
      "id": "cd0b66b0-1dc6-4304-95e8-7d27fbf9a770"
    },
    {
      "cell_type": "markdown",
      "metadata": {},
      "source": [
        "## query 사용금지"
      ],
      "id": "c73b0e29-63ce-429c-b276-a6510bfc6cd6"
    }
  ],
  "nbformat": 4,
  "nbformat_minor": 5,
  "metadata": {
    "kernelspec": {
      "name": "python3",
      "display_name": "Python 3 (ipykernel)",
      "language": "python"
    },
    "language_info": {
      "name": "python",
      "codemirror_mode": {
        "name": "ipython",
        "version": "3"
      },
      "file_extension": ".py",
      "mimetype": "text/x-python",
      "nbconvert_exporter": "python",
      "pygments_lexer": "ipython3",
      "version": "3.10.12"
    }
  }
}