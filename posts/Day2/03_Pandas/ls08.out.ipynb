{
  "cells": [
    {
      "cell_type": "markdown",
      "metadata": {},
      "source": [
        "# Lesson 08: pandas 공부 3단계\n",
        "\n",
        "최규빈  \n",
        "2023-07-24\n",
        "\n",
        "<a href=\"https://colab.research.google.com/github/guebin/PP2023SUM/blob/main/posts/Day2/03_Pandas/ls08.ipynb\"><img src=\"https://colab.research.google.com/assets/colab-badge.svg\" style=\"text-align: left\"></a>\n",
        "\n",
        "# imports"
      ],
      "id": "aa9eac91-3881-4f56-8c07-720c5ee2c1d0"
    },
    {
      "cell_type": "code",
      "execution_count": 3,
      "metadata": {},
      "outputs": [],
      "source": [
        "import numpy as np\n",
        "import pandas as pd"
      ],
      "id": "0d527451-1e68-4cf4-a77d-f20fe9831983"
    },
    {
      "cell_type": "markdown",
      "metadata": {},
      "source": [
        "# pandas 공부 3단계: 필터링"
      ],
      "id": "54658733-9fd9-4a62-a4a5-a85285722e4c"
    },
    {
      "cell_type": "code",
      "execution_count": 4,
      "metadata": {},
      "outputs": [],
      "source": [
        "np.random.seed(43052)\n",
        "att = np.random.choice(np.arange(10,21)*5,20)\n",
        "rep = np.random.choice(np.arange(5,21)*5,20)\n",
        "mid = np.random.choice(np.arange(0,21)*5,20)\n",
        "fin = np.random.choice(np.arange(0,21)*5,20)\n",
        "key = ['2022-12'+str(s) for s in np.random.choice(np.arange(300,501),20,replace=False)]\n",
        "df = pd.DataFrame({'att':att,'rep':rep,'mid':mid,'fin':fin},index=key)\n",
        "df.head()"
      ],
      "id": "816924c6-2c45-487a-a051-49bec9a706f9"
    },
    {
      "cell_type": "markdown",
      "metadata": {},
      "source": [
        "## query ($\\star$)\n",
        "\n",
        "`-` 예제1: att==90 and fin\\>30"
      ],
      "id": "6fac09c0-5831-4c7a-afd9-d9c3f6d1dcef"
    },
    {
      "cell_type": "code",
      "execution_count": 423,
      "metadata": {},
      "outputs": [],
      "source": [
        "df.query('att ==90 and fin >30')"
      ],
      "id": "4c6ccbc8-2c10-4e25-ad81-63ce539b0a7b"
    },
    {
      "cell_type": "markdown",
      "metadata": {},
      "source": [
        "`-` 예제2: att\\<rep and mid\\<fin"
      ],
      "id": "f81f90de-cb49-441f-b737-a83f0d4377ba"
    },
    {
      "cell_type": "code",
      "execution_count": 424,
      "metadata": {},
      "outputs": [],
      "source": [
        "df.query('att<rep and mid<fin')"
      ],
      "id": "0c5f2af5-1c30-4d6f-911c-8d4c4ccd8a0c"
    },
    {
      "cell_type": "markdown",
      "metadata": {},
      "source": [
        "`-` 예제3: att \\< rep \\< 80"
      ],
      "id": "8951894a-c162-46ad-8e0b-cb887674da2c"
    },
    {
      "cell_type": "code",
      "execution_count": 425,
      "metadata": {},
      "outputs": [],
      "source": [
        "df.query('att<rep<80')"
      ],
      "id": "8e273fc9-3c1c-423c-8e00-9d1143f21088"
    },
    {
      "cell_type": "markdown",
      "metadata": {},
      "source": [
        "`-` 예제4: 50 \\< att \\<= 90 and mid \\< fin"
      ],
      "id": "841f5569-2262-4c9a-a863-d94da58e41dc"
    },
    {
      "cell_type": "code",
      "execution_count": 426,
      "metadata": {},
      "outputs": [],
      "source": [
        "df.query('50<att<=90 and mid<fin')"
      ],
      "id": "3e143860-c657-4319-8bee-36ef0a830475"
    },
    {
      "cell_type": "markdown",
      "metadata": {},
      "source": [
        "`-` 예제5: (mid+fin)/2 \\>=60"
      ],
      "id": "8c8099f2-836c-45ce-bf7c-0fb92e0ff704"
    },
    {
      "cell_type": "code",
      "execution_count": 427,
      "metadata": {},
      "outputs": [],
      "source": [
        "df.query('(mid+fin)/2>=60')"
      ],
      "id": "c42df76d-b867-431e-8373-82c227464996"
    },
    {
      "cell_type": "markdown",
      "metadata": {},
      "source": [
        "`-` 예제6: att \\> mean(att)"
      ],
      "id": "78ce82c7-5e9b-4fc6-ad58-18d4f2ab0dee"
    },
    {
      "cell_type": "code",
      "execution_count": 428,
      "metadata": {},
      "outputs": [],
      "source": [
        "_mean = df['att'].mean() \n",
        "_mean "
      ],
      "id": "0f7d3245-110e-4775-a618-cbfca1d31738"
    },
    {
      "cell_type": "code",
      "execution_count": 429,
      "metadata": {},
      "outputs": [],
      "source": [
        "df.query('att> @_mean')"
      ],
      "id": "cd0b66b0-1dc6-4304-95e8-7d27fbf9a770"
    },
    {
      "cell_type": "markdown",
      "metadata": {},
      "source": [
        "## query 사용금지"
      ],
      "id": "2dcd6b13-f095-44d1-bb9c-1b7067334e7a"
    }
  ],
  "nbformat": 4,
  "nbformat_minor": 5,
  "metadata": {
    "kernelspec": {
      "name": "python3",
      "display_name": "Python 3 (ipykernel)",
      "language": "python"
    },
    "language_info": {
      "name": "python",
      "codemirror_mode": {
        "name": "ipython",
        "version": "3"
      },
      "file_extension": ".py",
      "mimetype": "text/x-python",
      "nbconvert_exporter": "python",
      "pygments_lexer": "ipython3",
      "version": "3.10.12"
    }
  }
}