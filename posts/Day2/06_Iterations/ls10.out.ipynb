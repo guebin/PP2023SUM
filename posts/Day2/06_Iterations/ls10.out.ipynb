{
  "cells": [
    {
      "cell_type": "markdown",
      "metadata": {},
      "source": [
        "# Lesson 10: map\n",
        "\n",
        "최규빈  \n",
        "2023-07-25\n",
        "\n",
        "<a href=\"https://colab.research.google.com/github/guebin/IP2023WIN/blob/main/posts/Day2/06_Functions, ControlFlow/2023-01-31-Lesson11.ipynb\"><img src=\"https://colab.research.google.com/assets/colab-badge.svg\" style=\"text-align: left\"></a>\n",
        "\n",
        "# ref\n",
        "\n",
        "<https://guebin.github.io/DV2022/posts/2022-10-12-6wk-12.html>\n",
        "\n",
        "# imports"
      ],
      "id": "530ffbec-2129-4729-ac91-d65e1838b184"
    },
    {
      "cell_type": "code",
      "execution_count": 1,
      "metadata": {
        "vscode": {
          "languageId": "python"
        }
      },
      "outputs": [],
      "source": [
        "import numpy as np\n",
        "import pandas as pd\n",
        "import matplotlib.pyplot as plt"
      ],
      "id": "c85bf122-ebe4-4be2-af24-9f6ef0844fc3"
    },
    {
      "cell_type": "markdown",
      "metadata": {},
      "source": [
        "# map ($\\star$)\n",
        "\n",
        "`-` 개념: \\$(f,\\[x_1,x_2,,x_n\\] )=\\$\n",
        "\n",
        "`-` 예제1:"
      ],
      "id": "50be71ae-5e01-4627-bcff-3645d6069ca9"
    },
    {
      "cell_type": "code",
      "execution_count": 166,
      "metadata": {
        "vscode": {
          "languageId": "python"
        }
      },
      "outputs": [],
      "source": [
        "x = [1,2,3] \n",
        "f = lambda x: x+1 \n",
        "y = list(map(f,x))"
      ],
      "id": "85c3e321-2141-45b9-9331-7ea8db420397"
    },
    {
      "cell_type": "markdown",
      "metadata": {},
      "source": [
        "(다른구현1)"
      ],
      "id": "48ab26fd-16e4-46a5-b91b-f7f0bd144979"
    },
    {
      "cell_type": "code",
      "execution_count": 136,
      "metadata": {
        "vscode": {
          "languageId": "python"
        }
      },
      "outputs": [],
      "source": [
        "list(map(lambda x: x+1,[1,2,3]))"
      ],
      "id": "bffd6eca-0b2d-4cf2-bd14-77db489fd436"
    },
    {
      "cell_type": "markdown",
      "metadata": {},
      "source": [
        "(다른구현2)"
      ],
      "id": "6a2677d7-136e-4518-a462-091cb0f4d328"
    },
    {
      "cell_type": "code",
      "execution_count": 176,
      "metadata": {
        "vscode": {
          "languageId": "python"
        }
      },
      "outputs": [],
      "source": [
        "f = lambda x: x+1 \n",
        "[f(xi) for xi in [1,2,3]]"
      ],
      "id": "8c11a8e6-625b-457a-92a6-be6d693ccc8d"
    },
    {
      "cell_type": "markdown",
      "metadata": {},
      "source": [
        "(다른구현3)"
      ],
      "id": "eb181908-ee57-4f0e-b480-5322df0bac66"
    },
    {
      "cell_type": "code",
      "execution_count": 140,
      "metadata": {
        "vscode": {
          "languageId": "python"
        }
      },
      "outputs": [],
      "source": [
        "[(lambda x: x+1)(xi) for xi in [1,2,3]]"
      ],
      "id": "c2a523c5-a5c5-4ba0-83f4-c9b99db7d130"
    },
    {
      "cell_type": "markdown",
      "metadata": {},
      "source": [
        "(다른구현4)–최악"
      ],
      "id": "06c4c311-1a07-4ce6-b20b-b0c7ccdfa8d7"
    },
    {
      "cell_type": "code",
      "execution_count": 178,
      "metadata": {
        "vscode": {
          "languageId": "python"
        }
      },
      "outputs": [],
      "source": [
        "y = [] \n",
        "x = [1,2,3] \n",
        "f = lambda x: x+1 \n",
        "for xi in x:\n",
        "    y.append(f(xi))"
      ],
      "id": "eb565af8-cf95-41e7-b27d-d3a5c82b4fd3"
    },
    {
      "cell_type": "code",
      "execution_count": 179,
      "metadata": {
        "vscode": {
          "languageId": "python"
        }
      },
      "outputs": [],
      "source": [
        "y"
      ],
      "id": "3b67d153-279c-447f-8b16-6b3ece3f5f1f"
    },
    {
      "cell_type": "markdown",
      "metadata": {},
      "source": [
        "(다른구현5)–더 최악"
      ],
      "id": "6ef0e053-7cc4-4db7-9013-5861cae5a8e3"
    },
    {
      "cell_type": "code",
      "execution_count": 143,
      "metadata": {
        "vscode": {
          "languageId": "python"
        }
      },
      "outputs": [],
      "source": [
        "y = [] \n",
        "x = [1,2,3] \n",
        "f = lambda x: x+1 \n",
        "for i in range(len(x)):\n",
        "    y.append(f(x[i]))"
      ],
      "id": "dd028d4a-4989-4f1d-b639-6dc5b8fee6fb"
    },
    {
      "cell_type": "code",
      "execution_count": 144,
      "metadata": {
        "vscode": {
          "languageId": "python"
        }
      },
      "outputs": [],
      "source": [
        "y"
      ],
      "id": "0dd61748-2122-43ce-a879-e3591038aeed"
    },
    {
      "cell_type": "markdown",
      "metadata": {},
      "source": [
        "**Quiz**\n",
        "\n",
        "$x=[1,2,3,4,5]$에 대하여 $x^2$을 수행하는 함수를 구현하라.\n",
        "\n",
        "`-` 예제2: 문자열을 입력으로 받고 대문자이면 True, 소문자이면 False\n",
        "\n",
        "    입력: A,B,C,a,b,c\n",
        "    출력: T,T,T,F,F,F"
      ],
      "id": "88c1fac6-ad0a-4b52-bfab-dd6f62238f80"
    },
    {
      "cell_type": "code",
      "execution_count": 210,
      "metadata": {
        "vscode": {
          "languageId": "python"
        }
      },
      "outputs": [],
      "source": [
        "x= list('ABCabc')\n",
        "# x = ['A','B','C','a','b','c']\n",
        "f = lambda s: s.isupper()\n",
        "y = list(map(f,x))"
      ],
      "id": "56544d74-bd03-4f29-9313-6737ec673521"
    },
    {
      "cell_type": "code",
      "execution_count": 211,
      "metadata": {
        "vscode": {
          "languageId": "python"
        }
      },
      "outputs": [],
      "source": [
        "x,y"
      ],
      "id": "bb421e54-2b8a-4c4b-abcd-7ba64d18f83d"
    },
    {
      "cell_type": "markdown",
      "metadata": {},
      "source": [
        "`-` 예제3: 두개의 입력을 받는 함수 (map을 이용하는 것이 리스트\n",
        "컴프리헨션보다 조금 편한것 같다)"
      ],
      "id": "8cf5f13c-9433-4e20-bada-0d703a7185f2"
    },
    {
      "cell_type": "code",
      "execution_count": 268,
      "metadata": {
        "vscode": {
          "languageId": "python"
        }
      },
      "outputs": [],
      "source": [
        "list(map(lambda x,y: x+y, [1,2,3],[-1,-2,-3]))"
      ],
      "id": "14030c67-409f-4745-ac2f-757944b89689"
    },
    {
      "cell_type": "markdown",
      "metadata": {},
      "source": [
        "(다른구현)– 리스트컴프리헨션"
      ],
      "id": "4cd0662b-3d26-45df-9699-8d7b3022f75f"
    },
    {
      "cell_type": "code",
      "execution_count": 269,
      "metadata": {
        "vscode": {
          "languageId": "python"
        }
      },
      "outputs": [],
      "source": [
        "f = lambda x,y: x+y \n",
        "[f(x,y) for x,y in zip([1,2,3],[-1,-2,-3])] "
      ],
      "id": "55e3261f-f6f3-4366-b02c-aa97a04edcda"
    },
    {
      "cell_type": "markdown",
      "metadata": {},
      "source": [
        "**quiz**"
      ],
      "id": "49a9e8d9-59d9-4ee4-9a79-1cc832b4953e"
    },
    {
      "cell_type": "code",
      "execution_count": 216,
      "metadata": {
        "vscode": {
          "languageId": "python"
        }
      },
      "outputs": [],
      "source": [
        "t=np.linspace(-3.14,3.14,100)\n",
        "x=np.sin(t)\n",
        "y=np.cos(t)"
      ],
      "id": "ee95f407-207e-41f2-9354-5a091e16cad6"
    },
    {
      "cell_type": "code",
      "execution_count": 218,
      "metadata": {
        "vscode": {
          "languageId": "python"
        }
      },
      "outputs": [
        {
          "output_type": "display_data",
          "metadata": {},
          "data": {
            "image/png": "[encoded data removed]"
          }
        }
      ],
      "source": [
        "plt.plot(t,x)\n",
        "plt.plot(t,y)"
      ],
      "id": "228495ac-71e3-4c16-aaea-5bd9654e48a0"
    },
    {
      "cell_type": "markdown",
      "metadata": {},
      "source": [
        "$f(x,y) = \\max(x,y)$ 를 구현하여 ${\\bf x}$,${\\bf y}$ 각 원소에 적용하고\n",
        "결과를 시각화 하라."
      ],
      "id": "421c272d-530f-4925-9371-033e13b4dac6"
    },
    {
      "cell_type": "code",
      "execution_count": 231,
      "metadata": {
        "vscode": {
          "languageId": "python"
        }
      },
      "outputs": [],
      "source": [
        "f = (lambda x,y: max(x,y))\n",
        "f(3,4)"
      ],
      "id": "9be59fd0-984f-4606-bf11-fa259767eca2"
    },
    {
      "cell_type": "code",
      "execution_count": 236,
      "metadata": {
        "vscode": {
          "languageId": "python"
        }
      },
      "outputs": [],
      "source": [
        "z= list(map(f,x,y))"
      ],
      "id": "4788b92a-370d-48c5-958c-c0a883c6de76"
    },
    {
      "cell_type": "code",
      "execution_count": 238,
      "metadata": {
        "vscode": {
          "languageId": "python"
        }
      },
      "outputs": [
        {
          "output_type": "display_data",
          "metadata": {},
          "data": {
            "image/png": "[encoded data removed]"
          }
        }
      ],
      "source": [
        "plt.plot(t,z)"
      ],
      "id": "bb237cbb-8b05-4dd3-b398-56429e26ea54"
    },
    {
      "cell_type": "markdown",
      "metadata": {},
      "source": [
        "`-` 예제4: map은 “하나의 함수에 다양한 입력”을 적용하는 경우에만\n",
        "사용가능, 리스트컴프리헨션은 “다양한 함수에 다양한 입력” 지원"
      ],
      "id": "ac77dbe8-f6fe-45fb-9878-2bd01ea5b911"
    },
    {
      "cell_type": "code",
      "execution_count": 239,
      "metadata": {
        "vscode": {
          "languageId": "python"
        }
      },
      "outputs": [],
      "source": [
        "flst = [lambda x: x+1, lambda x: x+2, lambda x:x+3] "
      ],
      "id": "db9ddd88-83bb-43f9-81bc-03fa5e81bcc4"
    },
    {
      "cell_type": "markdown",
      "metadata": {},
      "source": [
        "map으로 구현시도 $\\to$ 실패"
      ],
      "id": "4305ee83-d879-4136-a290-1e244df98660"
    },
    {
      "cell_type": "code",
      "execution_count": 259,
      "metadata": {
        "vscode": {
          "languageId": "python"
        }
      },
      "outputs": [],
      "source": [
        "list(map(flst,[-1,-2,-3])) # 결과가 0,0,0"
      ],
      "id": "2825a705-084a-4bce-8e1f-da91539ae0cf"
    },
    {
      "cell_type": "markdown",
      "metadata": {},
      "source": [
        "리스트컴프리헨션으로 구현시도 $\\to$ 성공"
      ],
      "id": "0ff23df2-4265-4aae-864c-bcb7b7c001c2"
    },
    {
      "cell_type": "code",
      "execution_count": 272,
      "metadata": {
        "vscode": {
          "languageId": "python"
        }
      },
      "outputs": [],
      "source": [
        "[f(x) for f,x in zip(flst,[-1,-2,-3])]"
      ],
      "id": "8522634a-9db2-410e-b389-73eda3e74cd7"
    },
    {
      "cell_type": "markdown",
      "metadata": {},
      "source": [
        "`-` 종합: map과 리스트컴프리헨션과 비교\n",
        "\n",
        "-   map은 for문을 위한 $i$등의 인덱스를 쓰지 않지만 리스트컴프리헨션은\n",
        "    필요함\n",
        "-   map은 좀더 리스트컴프리헨션보다 제약적으로 사용할 수 밖에 없음.\n",
        "\n",
        "# imports"
      ],
      "id": "f51f6c6a-7c03-40f8-84e8-06b9c8f6734d"
    },
    {
      "cell_type": "code",
      "execution_count": 1,
      "metadata": {
        "vscode": {
          "languageId": "python"
        }
      },
      "outputs": [],
      "source": [
        "import numpy as np\n",
        "import pandas as pd\n",
        "import matplotlib.pyplot as plt "
      ],
      "id": "581353f3-0bd0-4063-a5b6-23505aae35b1"
    },
    {
      "cell_type": "markdown",
      "metadata": {},
      "source": [
        "# 복습\n",
        "\n",
        "`-` 아래와 같은 정보를 가지는 데이터 프레임을 생성하라.\n",
        "\n",
        "|     | att | rep | mid | fin |\n",
        "|:---:|:---:|:---:|:---:|:---:|\n",
        "|  0  | 65  | 45  |  0  | 10  |\n",
        "|  1  | 25  | 45  | 20  | 50  |\n",
        "|  2  | 45  | 45  | 10  | 60  |\n",
        "|  3  | 35  | 35  | 10  | 80  |"
      ],
      "id": "873c98b8-7ca7-4e73-bf2a-60c31b8d0f05"
    },
    {
      "cell_type": "code",
      "execution_count": 12,
      "metadata": {
        "vscode": {
          "languageId": "python"
        }
      },
      "outputs": [],
      "source": [
        "df = pd.DataFrame({'att':[65,25,45,35], 'rep':[45,45,45,35], 'mid':[0,20,10,10], 'fin':[10,50,60,80]})\n",
        "df"
      ],
      "id": "ea18eb17-9a6e-4c72-969a-2b9c150de4b0"
    },
    {
      "cell_type": "code",
      "execution_count": 15,
      "metadata": {
        "vscode": {
          "languageId": "python"
        }
      },
      "outputs": [],
      "source": [
        "df.to_csv(\"sample.csv\",index=False)\n",
        "pd.read_csv(\"sample.csv\")"
      ],
      "id": "858bed4b-18a3-428e-8b51-37ce8ef765bd"
    },
    {
      "cell_type": "markdown",
      "metadata": {},
      "source": [
        "`-` 이 데이터 프레임을 “sample.csv” 파일로 저장하라.\n",
        "\n",
        "**힌트** 아래코드를 이용\n",
        "\n",
        "``` python\n",
        "df.to_csv(\"sample.csv\",index=False)\n",
        "```\n",
        "\n",
        "`-` 저장된 데이터 프레임을 다시 불러오고 df2로 저장하라.\n",
        "\n",
        "**힌트**\n",
        "\n",
        "``` python\n",
        "pd.read_csv(\"sample.csv\") 이용 \n",
        "```\n",
        "\n",
        "# 판다스: 인덱싱 1단계– 인덱싱의 4가지 컨셉\n",
        "\n",
        "## 데이터프레임 준비\n",
        "\n",
        "`-` 데이터준비"
      ],
      "id": "66393fc9-506f-4cfb-98df-60fbdd6757bd"
    },
    {
      "cell_type": "code",
      "execution_count": 17,
      "metadata": {
        "vscode": {
          "languageId": "python"
        }
      },
      "outputs": [],
      "source": [
        "df=pd.read_csv('https://raw.githubusercontent.com/guebin/DV2022/master/posts/dv2022.csv')\n",
        "df"
      ],
      "id": "87c95cbc-6db0-40cc-a002-ff4e977d5e95"
    },
    {
      "cell_type": "markdown",
      "metadata": {},
      "source": [
        "`-` 앞으로는 위와 같은 df형태를 가정할 것이다. 즉 column의 이름은\n",
        "문자열, row의 이름은 0부터 시작하는 정수로 가정한다.\n",
        "\n",
        "`-` 아래와 같은 형태는 일단 생각하지 않는다."
      ],
      "id": "58f2c165-5837-4459-9623-f1c854d9bcd6"
    },
    {
      "cell_type": "code",
      "execution_count": 21,
      "metadata": {
        "vscode": {
          "languageId": "python"
        }
      },
      "outputs": [],
      "source": [
        "pd.DataFrame({'att':[60,65,80,90],'rep':[50,100,90,100]},index=['규빈','영미','성준','혜미'])"
      ],
      "id": "022e2727-6277-4482-939c-325c0b4120c1"
    },
    {
      "cell_type": "markdown",
      "metadata": {},
      "source": [
        "## df의 4가지 컨셉\n",
        "\n",
        "`-` 원소에 접근하는 4가지 방법: `.`, `[]`, `.iloc[]`, `.loc[]`\n",
        "\n",
        "## 컨셉1: 클래스느낌\n",
        "\n",
        "`-` 컨셉1: df는 인스턴스이다. 그리고 df.att, df.rep,df.mid, df.fin 와\n",
        "같이 col이름에 대응하는 속성이 있다."
      ],
      "id": "4a2c6e5b-4b0f-431c-98d2-d3fc2c7508cf"
    },
    {
      "cell_type": "code",
      "execution_count": 5,
      "metadata": {
        "vscode": {
          "languageId": "python"
        }
      },
      "outputs": [],
      "source": [
        "df.head()"
      ],
      "id": "69d86ed2-3e04-48af-ba66-4dae93f68112"
    },
    {
      "cell_type": "code",
      "execution_count": 294,
      "metadata": {
        "vscode": {
          "languageId": "python"
        }
      },
      "outputs": [],
      "source": [
        "df.fin"
      ],
      "id": "ac5a9dec-eaa7-4421-beac-d28d43d199f2"
    },
    {
      "cell_type": "markdown",
      "metadata": {},
      "source": [
        "`-` 언제유용? col의 이름을 대충 알고 있을 경우 자동완성으로 쉽게\n",
        "선택가능\n",
        "\n",
        "## 컨셉2: 딕셔너리 + $\\alpha$ 느낌\n",
        "\n",
        "`-` 컨셉2: df는 컬럼이름이 key, 컬럼의데이터가 value가 되는 dictionary로\n",
        "이해할 수 있다. 즉 아래의 dct와 같은 딕셔너리로 이해할 수 있다."
      ],
      "id": "f3ca4668-42ce-4929-9c3c-ce7f12c7d1b6"
    },
    {
      "cell_type": "code",
      "execution_count": 35,
      "metadata": {
        "vscode": {
          "languageId": "python"
        }
      },
      "outputs": [],
      "source": [
        "dct = dict(df) \n",
        "#dct"
      ],
      "id": "3934c518-6b90-49ac-ab9f-83419d95fd47"
    },
    {
      "cell_type": "markdown",
      "metadata": {},
      "source": [
        "(예시) .keys() 메소드를 이용하여 컬럼들의 이름을 살펴볼 수 있음."
      ],
      "id": "2a96d50f-a3e5-43ac-9591-274321931c29"
    },
    {
      "cell_type": "code",
      "execution_count": 37,
      "metadata": {
        "vscode": {
          "languageId": "python"
        }
      },
      "outputs": [],
      "source": [
        "dct.keys()"
      ],
      "id": "45db277c-16fe-473d-af34-9a3da071446d"
    },
    {
      "cell_type": "code",
      "execution_count": 16,
      "metadata": {
        "vscode": {
          "languageId": "python"
        }
      },
      "outputs": [],
      "source": [
        "dct.keys(), df.keys()"
      ],
      "id": "5e2948f9-0879-4e4f-a7a5-4c3dbc2fc21a"
    },
    {
      "cell_type": "markdown",
      "metadata": {},
      "source": [
        "### `#` col indexing\n",
        "\n",
        "`-` 예시1: dct가 가능하면 df도 가능하다."
      ],
      "id": "e179b070-18be-47ec-aa6a-bf0d78926edf"
    },
    {
      "cell_type": "code",
      "execution_count": 40,
      "metadata": {
        "vscode": {
          "languageId": "python"
        }
      },
      "outputs": [],
      "source": [
        "df['att']\n",
        "#dct['att'] "
      ],
      "id": "d9ce2ad8-b296-4fde-9ccd-1356c50bab39"
    },
    {
      "cell_type": "markdown",
      "metadata": {},
      "source": [
        "`-` 예시2: dct가 가능하면 df도 가능하다. (2)"
      ],
      "id": "1c1b1a7c-5a7c-47f9-aca9-aa974dfc95b8"
    },
    {
      "cell_type": "code",
      "execution_count": 18,
      "metadata": {
        "vscode": {
          "languageId": "python"
        }
      },
      "outputs": [],
      "source": [
        "df.get('att')\n",
        "#dct.get('att') "
      ],
      "id": "ed6511e8-fd79-4885-b943-6bcbd7129df4"
    },
    {
      "cell_type": "markdown",
      "metadata": {},
      "source": [
        "`-` 예시3: dct에서 불가능하지만 df에서 가능한것도 있다."
      ],
      "id": "040b102e-74a7-4dba-9fb1-68f39daecd9b"
    },
    {
      "cell_type": "code",
      "execution_count": 19,
      "metadata": {
        "vscode": {
          "languageId": "python"
        }
      },
      "outputs": [],
      "source": [
        "dct.get(['att','rep'])"
      ],
      "id": "ce9ffa8c-7254-49ba-9ea6-6f6114852311"
    },
    {
      "cell_type": "code",
      "execution_count": 20,
      "metadata": {
        "vscode": {
          "languageId": "python"
        }
      },
      "outputs": [],
      "source": [
        "df.get(['att','rep'])"
      ],
      "id": "92c507fe-40a7-4a64-88d3-f7bcbb925123"
    },
    {
      "cell_type": "markdown",
      "metadata": {},
      "source": [
        "`-` 예시4: dct에서 불가능하지만 df에서 가능한것도 있다. (2)"
      ],
      "id": "2071d0a5-07d6-417d-8822-c62c64754f4c"
    },
    {
      "cell_type": "code",
      "execution_count": 21,
      "metadata": {
        "vscode": {
          "languageId": "python"
        }
      },
      "outputs": [],
      "source": [
        "dct[['att','rep']]"
      ],
      "id": "32b9a106-1e9b-49cd-897e-b1ce254c1cf6"
    },
    {
      "cell_type": "code",
      "execution_count": 57,
      "metadata": {
        "vscode": {
          "languageId": "python"
        }
      },
      "outputs": [],
      "source": [
        "df[['att','rep']]"
      ],
      "id": "7d8542ad-986a-480c-b88d-45fbd2c00833"
    },
    {
      "cell_type": "markdown",
      "metadata": {},
      "source": [
        "### `#` row indexing\n",
        "\n",
        "`-` 예시5: dct에서 불가능하지만 df에서 가능한것도 있다. (3)"
      ],
      "id": "db5bc32f-046e-4a61-aa02-a1a9ce4ebc3b"
    },
    {
      "cell_type": "code",
      "execution_count": 64,
      "metadata": {
        "vscode": {
          "languageId": "python"
        }
      },
      "outputs": [],
      "source": [
        "dct[:5] "
      ],
      "id": "6ce2e9b4-1424-4576-9ed2-fbcd118baba9"
    },
    {
      "cell_type": "code",
      "execution_count": 65,
      "metadata": {
        "vscode": {
          "languageId": "python"
        }
      },
      "outputs": [],
      "source": [
        "df[:5]"
      ],
      "id": "3368d8ae-b34d-4ce6-9f8b-af49d85e7c80"
    },
    {
      "cell_type": "markdown",
      "metadata": {},
      "source": [
        "**Quiz**\n",
        "\n",
        "1.  df의 마지막 열을 출력\n",
        "2.  df의 마지막 행을 출력\n",
        "\n",
        "## 컨셉3: 넘파이느낌\n",
        "\n",
        "`-` 컨셉3: `df.iloc`은 넘파이에러이처럼 생각가능하다. 즉 아래의 arr와\n",
        "같은 넘파이어레이로 생각가능하다."
      ],
      "id": "2be891f8-be2d-4b74-abd2-ece6f5686a90"
    },
    {
      "cell_type": "code",
      "execution_count": 71,
      "metadata": {
        "vscode": {
          "languageId": "python"
        }
      },
      "outputs": [],
      "source": [
        "arr = np.array(df)\n",
        "#arr"
      ],
      "id": "f57e48f8-74fa-419a-b2c4-30f69dde1eb0"
    },
    {
      "cell_type": "markdown",
      "metadata": {},
      "source": [
        "### `#` row indexing\n",
        "\n",
        "`-` 예시1: 단일레이블"
      ],
      "id": "bea536c9-ad3d-4530-b580-2974deea6629"
    },
    {
      "cell_type": "code",
      "execution_count": 26,
      "metadata": {
        "vscode": {
          "languageId": "python"
        }
      },
      "outputs": [],
      "source": [
        "arr[0,:] # first row \n",
        "arr[0,] \n",
        "arr[0]"
      ],
      "id": "12d56f93-2769-4e75-97c8-ce7f7d5c1dfa"
    },
    {
      "cell_type": "code",
      "execution_count": 79,
      "metadata": {
        "vscode": {
          "languageId": "python"
        }
      },
      "outputs": [],
      "source": [
        "df.iloc[0,:] # first row \n",
        "df.iloc[0,] \n",
        "df.iloc[0]"
      ],
      "id": "371e3847-563a-4244-847f-f752ae566bb8"
    },
    {
      "cell_type": "markdown",
      "metadata": {},
      "source": [
        "`-` 예시2: 레이블의 리스트"
      ],
      "id": "f3df1390-f661-48b4-bdd6-e9538f511fb3"
    },
    {
      "cell_type": "code",
      "execution_count": 28,
      "metadata": {
        "vscode": {
          "languageId": "python"
        }
      },
      "outputs": [],
      "source": [
        "arr[[0,1,2],:] # 처음 3개의 row 선택 \n",
        "arr[[0,1,2],] \n",
        "arr[[0,1,2]]"
      ],
      "id": "0508b08c-87d4-4573-8353-b0778924eba6"
    },
    {
      "cell_type": "code",
      "execution_count": 29,
      "metadata": {
        "vscode": {
          "languageId": "python"
        }
      },
      "outputs": [],
      "source": [
        "df.iloc[[0,1,2],:] # 처음 3개의 row 선택 \n",
        "df.iloc[[0,1,2],] \n",
        "df.iloc[[0,1,2]]"
      ],
      "id": "6cb6dd59-e45a-4f0a-971b-d0eb51337221"
    },
    {
      "cell_type": "markdown",
      "metadata": {},
      "source": [
        "`-` 예시3: 슬라이싱"
      ],
      "id": "0acc1bfb-8330-4674-8761-93e911f834c6"
    },
    {
      "cell_type": "code",
      "execution_count": 352,
      "metadata": {
        "vscode": {
          "languageId": "python"
        }
      },
      "outputs": [],
      "source": [
        "arr[0:3,:] # 처음 3개의 row선택, 끝점포함X\n",
        "arr[0:3,] \n",
        "arr[0:3]"
      ],
      "id": "769bf2af-b5b0-4154-a009-c2919833b50c"
    },
    {
      "cell_type": "code",
      "execution_count": 353,
      "metadata": {
        "vscode": {
          "languageId": "python"
        }
      },
      "outputs": [],
      "source": [
        "df.iloc[0:3,:] # 처음 3개의 row선택, 끝점포함X\n",
        "df.iloc[0:3,] \n",
        "df.iloc[0:3]"
      ],
      "id": "75f76c7d-ee4f-4f5f-afce-266eb20f3636"
    },
    {
      "cell_type": "markdown",
      "metadata": {},
      "source": [
        "### `#` col indexing\n",
        "\n",
        "`-` 예시1: 단일레이블"
      ],
      "id": "d4b7a84e-7071-47d2-b7f0-d0f981c0152b"
    },
    {
      "cell_type": "code",
      "execution_count": 362,
      "metadata": {
        "vscode": {
          "languageId": "python"
        }
      },
      "outputs": [],
      "source": [
        "df.iloc[:,0] # first column \n",
        "# arr[:,0] # first column "
      ],
      "id": "c8447fa4-8d11-4c5c-983a-924adf597f25"
    },
    {
      "cell_type": "markdown",
      "metadata": {},
      "source": [
        "`-` 예시2: 레이블의 리스트"
      ],
      "id": "1d790311-a846-4fa0-981c-d4ae5ca6b35d"
    },
    {
      "cell_type": "code",
      "execution_count": 363,
      "metadata": {
        "vscode": {
          "languageId": "python"
        }
      },
      "outputs": [],
      "source": [
        "df.iloc[:,[0,2]] # col1, col3 을 선택\n",
        "# arr[:,[0,2]] # col1, col3 을 선택"
      ],
      "id": "8d7564ef-99b4-45a1-8ade-27a0df3ba4a0"
    },
    {
      "cell_type": "markdown",
      "metadata": {},
      "source": [
        "`-` 예시3: 슬라이싱"
      ],
      "id": "0d106822-6c37-4f93-9920-edd4a569a45a"
    },
    {
      "cell_type": "code",
      "execution_count": 366,
      "metadata": {
        "vscode": {
          "languageId": "python"
        }
      },
      "outputs": [],
      "source": [
        "df.iloc[:,0:3] # 처음 3개의 col선택, 끝점포함X\n",
        "#arr[:,0:3]"
      ],
      "id": "734e46cf-7dd1-4f4b-a83b-c40693181512"
    },
    {
      "cell_type": "markdown",
      "metadata": {},
      "source": [
        "### `#` row + col indexing"
      ],
      "id": "dfb1fc00-38d0-481e-99d9-a0a6270db2e6"
    },
    {
      "cell_type": "code",
      "execution_count": 98,
      "metadata": {
        "vscode": {
          "languageId": "python"
        }
      },
      "outputs": [],
      "source": [
        "df.iloc[::2,:] ## 홀수번째(=짝수인덱스)행을 출력,"
      ],
      "id": "a9336ac9-9033-4be9-a10e-12ccb0ef6a51"
    },
    {
      "cell_type": "markdown",
      "metadata": {},
      "source": [
        "**Quiz**\n",
        "\n",
        "1.  df의 마지막 열을 출력\n",
        "2.  df의 마지막 행을 출력\n",
        "3.  df의 마지막 행의 마지막 열을 출력\n",
        "4.  df의 짝수번째 열을 출력\n",
        "\n",
        "## 컨셉4: 데이터프레임 느낌\n",
        "\n",
        "`-` 컨셉4: `df.loc`은 새로운 느낌..\n",
        "\n",
        "### `#` row indexing\n",
        "\n",
        "`-` 예시1: 단일레이블"
      ],
      "id": "8c202799-1a8c-4b4a-8765-fa1ae8a3366b"
    },
    {
      "cell_type": "code",
      "execution_count": 111,
      "metadata": {
        "vscode": {
          "languageId": "python"
        }
      },
      "outputs": [],
      "source": [
        "df.loc[0,:] # 첫번째 row를 선택 \n",
        "df.loc[0,]\n",
        "df.loc[0] "
      ],
      "id": "dcde8446-d0df-4cc6-9255-d14336a05e3f"
    },
    {
      "cell_type": "markdown",
      "metadata": {},
      "source": [
        "`-` 예시2: 레이블의 리스트"
      ],
      "id": "7303f72c-1900-48c6-9612-253be5505546"
    },
    {
      "cell_type": "code",
      "execution_count": 112,
      "metadata": {
        "vscode": {
          "languageId": "python"
        }
      },
      "outputs": [],
      "source": [
        "df.loc[[0,1,2],:] # 처음 3개의 row를 선택 \n",
        "df.loc[[0,1,2],]\n",
        "df.loc[[0,1,2]] "
      ],
      "id": "a71729f5-92de-45ef-812a-9b464367dc44"
    },
    {
      "cell_type": "markdown",
      "metadata": {},
      "source": [
        "`-` 예시3: 슬라이싱 (끝점포함 O)"
      ],
      "id": "edc56030-ad02-42cb-b64e-6b448bd28120"
    },
    {
      "cell_type": "code",
      "execution_count": 114,
      "metadata": {
        "vscode": {
          "languageId": "python"
        }
      },
      "outputs": [],
      "source": [
        "df.loc[0:3,:] # 처음 4개의 row를 선택, 끝점포함 \n",
        "df.loc[0:3,]\n",
        "df.loc[0:3] "
      ],
      "id": "25c9a69d-2647-41bc-8cec-d669dabf30e0"
    },
    {
      "cell_type": "markdown",
      "metadata": {},
      "source": [
        "**Quiz**\n",
        "\n",
        "2번째 row부터 5번째 row까지 출력하라. loc과 iloc으로 각각 출력해볼 것\n",
        "(슬라이싱을 이용)\n",
        "\n",
        "### `#` col indexing\n",
        "\n",
        "`-` 예시1: 단일레이블"
      ],
      "id": "aedaf5fc-5cd5-464a-aa7c-e1a9a23c94ae"
    },
    {
      "cell_type": "code",
      "execution_count": 393,
      "metadata": {
        "vscode": {
          "languageId": "python"
        }
      },
      "outputs": [],
      "source": [
        "df.loc[:,'att'] "
      ],
      "id": "0bf673fb-3669-4255-9969-65795022042f"
    },
    {
      "cell_type": "markdown",
      "metadata": {},
      "source": [
        "`-` 예시2: 레이블의 리스트"
      ],
      "id": "f42e199f-7e15-442f-9207-7e03240d9ce5"
    },
    {
      "cell_type": "code",
      "execution_count": 394,
      "metadata": {
        "vscode": {
          "languageId": "python"
        }
      },
      "outputs": [],
      "source": [
        "df.loc[:,['att','mid']] "
      ],
      "id": "0bccd5b6-0e38-4297-b0d4-c80d31031680"
    },
    {
      "cell_type": "markdown",
      "metadata": {},
      "source": [
        "`-` 예시3: 슬라이싱 (끝점포함 O)"
      ],
      "id": "7e6f1c6f-cf35-400f-a241-e90f99a0c452"
    },
    {
      "cell_type": "code",
      "execution_count": 395,
      "metadata": {
        "vscode": {
          "languageId": "python"
        }
      },
      "outputs": [],
      "source": [
        "df.loc[:,'att':'mid'] # 끝점포함 "
      ],
      "id": "90810f66-161f-4774-9d38-e41ea77b6d60"
    },
    {
      "cell_type": "markdown",
      "metadata": {},
      "source": [
        "### `#` row + col indexing"
      ],
      "id": "e9c82140-2c10-44c3-aafd-0036e353fc6e"
    },
    {
      "cell_type": "code",
      "execution_count": 404,
      "metadata": {
        "vscode": {
          "languageId": "python"
        }
      },
      "outputs": [],
      "source": [
        "df.loc[::-1,'att':'mid'] # 끝점포함 "
      ],
      "id": "a07affad-db1e-4df7-8cf5-5d5742975e8b"
    },
    {
      "cell_type": "markdown",
      "metadata": {},
      "source": [
        "**Quiz**\n",
        "\n",
        "출석점수의 짝수번째 row를 출력하라.\n",
        "\n",
        "## 컨셉1~4 정리\n",
        "\n",
        "|                  | `.` | `[]` | `.iloc` | `.loc` |\n",
        "|:----------------:|:---:|:----:|:-------:|:------:|\n",
        "|  row/단일레이블  |  X  |  X   |    O    |   O    |\n",
        "|  col/단일레이블  |  O  |  O   |    O    |   O    |\n",
        "| row/레이블리스트 |  X  |  X   |    O    |   O    |\n",
        "| col/레이블리스트 |  X  |  O   |    O    |   O    |\n",
        "|   row/슬라이싱   |  X  |  O   |    O    |   O    |\n",
        "|   col/슬라이싱   |  X  |  X   |    O    |   O    |\n",
        "\n",
        "`-` col 이름을 알아야하는 부담감 - `.` : 앞글자만 대충 알아도 자동완성\n",
        "가능 - `[]`: 정확한 col 이름을 알아야 함 - `.loc`: 보통 정확한 col\n",
        "이름을 알아야 하지만 슬라이싱 이용시 양 끝의 컬럼이름만 알면 무방 -\n",
        "`.iloc`: 정확한 col 이름을 몰라도 번호로 인덱싱 가능\n",
        "\n",
        "`-` 자주하는 실수"
      ],
      "id": "378ed539-7262-4b4d-b35c-d85b271cdbe2"
    },
    {
      "cell_type": "code",
      "execution_count": 134,
      "metadata": {
        "vscode": {
          "languageId": "python"
        }
      },
      "outputs": [],
      "source": [
        "df['att'] # 가능 \n",
        "# df.loc['att'] # 불가능\n",
        "df.loc[:,'att'] # 가능"
      ],
      "id": "3ea33800-396e-456d-a6dd-7c7013b08eea"
    },
    {
      "cell_type": "markdown",
      "metadata": {},
      "source": [
        "# 판다스: 인덱싱 2단계– 필터링(특정조건에 맞는 row를 선택)\n",
        "\n",
        "## att \\> 90 and rep \\< 50\n",
        "\n",
        "`-` 방법1: .query()를 이용"
      ],
      "id": "193b468e-70a3-4310-97a6-34e44b3bafde"
    },
    {
      "cell_type": "code",
      "execution_count": 138,
      "metadata": {
        "vscode": {
          "languageId": "python"
        }
      },
      "outputs": [],
      "source": [
        "df.query('att>90 and rep<50')"
      ],
      "id": "ab114da6-d91f-41c2-a3ce-f13d9e77c414"
    },
    {
      "cell_type": "code",
      "execution_count": 139,
      "metadata": {
        "vscode": {
          "languageId": "python"
        }
      },
      "outputs": [],
      "source": [
        "df.query('(att>90)&(rep<50)') "
      ],
      "id": "c923da02-66ea-4660-a708-1399cbd1507c"
    },
    {
      "cell_type": "code",
      "execution_count": 141,
      "metadata": {
        "vscode": {
          "languageId": "python"
        }
      },
      "outputs": [],
      "source": [
        "df.query('att>90 & rep<50') "
      ],
      "id": "0a900db7-2da3-47de-8123-087928a67cfe"
    },
    {
      "cell_type": "markdown",
      "metadata": {},
      "source": [
        "`-` 방법2: \\[\\], `.iloc`, `.loc`\n",
        "\n",
        "(예비학습)"
      ],
      "id": "075c209e-6b65-4393-a468-ac171b5ab552"
    },
    {
      "cell_type": "code",
      "execution_count": 47,
      "metadata": {
        "vscode": {
          "languageId": "python"
        }
      },
      "outputs": [],
      "source": [
        "True&True, True&False, False&True, False&False"
      ],
      "id": "704f513c-7ad7-4e59-932d-104f535f5ecf"
    },
    {
      "cell_type": "code",
      "execution_count": 48,
      "metadata": {
        "vscode": {
          "languageId": "python"
        }
      },
      "outputs": [],
      "source": [
        "True|True, True|False, False|True, False|False"
      ],
      "id": "d5268e9b-28e2-4e7b-9572-5878b1823e89"
    },
    {
      "cell_type": "code",
      "execution_count": 147,
      "metadata": {
        "vscode": {
          "languageId": "python"
        }
      },
      "outputs": [],
      "source": [
        "(df.att>90) & (df.rep<50)"
      ],
      "id": "aa1c783e-bbf3-48ff-8537-69a3ed12b15e"
    },
    {
      "cell_type": "markdown",
      "metadata": {},
      "source": [
        "예비학습 끝"
      ],
      "id": "68906743-9c03-4958-9b37-0bd2ff4769df"
    },
    {
      "cell_type": "code",
      "execution_count": 51,
      "metadata": {
        "vscode": {
          "languageId": "python"
        }
      },
      "outputs": [],
      "source": [
        "df[(df.att > 90)&(df.rep < 50)]\n",
        "df.loc[(df.att > 90)&(df.rep < 50)]\n",
        "df.iloc[list((df.att > 90)&(df.rep < 50))]"
      ],
      "id": "a1f3e56e-d5ea-4fdd-9e5c-662e8fd974da"
    },
    {
      "cell_type": "markdown",
      "metadata": {},
      "source": [
        "`-` 방법3: \\[\\], `.iloc`, `.loc` // map, lambda"
      ],
      "id": "4275c842-92e5-485f-bf47-76f3bc55ddd5"
    },
    {
      "cell_type": "code",
      "execution_count": 157,
      "metadata": {
        "vscode": {
          "languageId": "python"
        }
      },
      "outputs": [],
      "source": [
        "df.att > 90"
      ],
      "id": "406250de-83b5-4eda-b86d-c7fd01e737ec"
    },
    {
      "cell_type": "code",
      "execution_count": 169,
      "metadata": {
        "vscode": {
          "languageId": "python"
        }
      },
      "outputs": [],
      "source": [
        "df[list(map(lambda x,y: (x>90)&(y<50), df.att, df.rep))]\n",
        "# df[map(lambda x,y: (x>90)&(y<50), df.att, df.rep)] # 이것은 불가능"
      ],
      "id": "e5ac8474-7012-43a3-8825-61be79f4c89b"
    },
    {
      "cell_type": "code",
      "execution_count": 497,
      "metadata": {
        "vscode": {
          "languageId": "python"
        }
      },
      "outputs": [],
      "source": [
        "df.iloc[list(map(lambda x,y: (x>90)&(y<50), df.att, df.rep))]\n",
        "df.iloc[map(lambda x,y: (x>90)&(y<50), df.att, df.rep)]"
      ],
      "id": "f9d33369-8653-4000-ae32-131a608b37ca"
    },
    {
      "cell_type": "code",
      "execution_count": 496,
      "metadata": {
        "vscode": {
          "languageId": "python"
        }
      },
      "outputs": [],
      "source": [
        "df.loc[list(map(lambda x,y: (x>90)&(y<50), df.att, df.rep))]\n",
        "df.loc[map(lambda x,y: (x>90)&(y<50), df.att, df.rep)]"
      ],
      "id": "41db045f-5c9c-4cbd-abf5-aacf0a12df11"
    },
    {
      "cell_type": "markdown",
      "metadata": {},
      "source": [
        "## att \\> mean(att)\n",
        "\n",
        "`-` 방법1: .query()를 이용"
      ],
      "id": "9c5c3790-6768-4f99-b120-42c1b4629c34"
    },
    {
      "cell_type": "code",
      "execution_count": 507,
      "metadata": {
        "vscode": {
          "languageId": "python"
        }
      },
      "outputs": [],
      "source": [
        "df.query('att> att.mean()') "
      ],
      "id": "660fc69e-bcf7-4b68-99aa-5b8aa4ed961e"
    },
    {
      "cell_type": "markdown",
      "metadata": {},
      "source": [
        "`-` 방법2: \\[\\], `.iloc`, `.loc`"
      ],
      "id": "7089d74b-2cf9-4035-9691-2925065b37d7"
    },
    {
      "cell_type": "code",
      "execution_count": 506,
      "metadata": {
        "vscode": {
          "languageId": "python"
        }
      },
      "outputs": [],
      "source": [
        "df[df.att > df.att.mean()]\n",
        "df.loc[df.att > df.att.mean()]\n",
        "df.iloc[list(df.att > df.att.mean())]"
      ],
      "id": "3614e4ed-31c7-4c81-9c91-79205a353d40"
    },
    {
      "cell_type": "markdown",
      "metadata": {},
      "source": [
        "`-` 방법3: \\[\\], `.iloc`, `.loc` // map, lambda"
      ],
      "id": "94a6eddf-3cde-4554-85d9-65add86f5348"
    },
    {
      "cell_type": "code",
      "execution_count": 513,
      "metadata": {
        "vscode": {
          "languageId": "python"
        }
      },
      "outputs": [],
      "source": [
        "df[list(map(lambda x: x>df.att.mean() , df.att))]\n",
        "# df[map(lambda x: x>df.att.mean() , df.att)] # 이것은 불가능"
      ],
      "id": "8f7731f6-80db-49c0-aa22-99e4eda90ee5"
    },
    {
      "cell_type": "code",
      "execution_count": 514,
      "metadata": {
        "vscode": {
          "languageId": "python"
        }
      },
      "outputs": [],
      "source": [
        "df.iloc[list(map(lambda x: x>df.att.mean() , df.att))]\n",
        "df.iloc[map(lambda x: x>df.att.mean() , df.att)]"
      ],
      "id": "67115916-1eb4-47de-b6f6-de31ed22f1e9"
    },
    {
      "cell_type": "code",
      "execution_count": 515,
      "metadata": {
        "vscode": {
          "languageId": "python"
        }
      },
      "outputs": [],
      "source": [
        "df.loc[list(map(lambda x: x>df.att.mean() , df.att))]\n",
        "df.loc[map(lambda x: x>df.att.mean() , df.att)]"
      ],
      "id": "3ace5f7c-23c5-4080-89fa-9a0bfdf71637"
    },
    {
      "cell_type": "markdown",
      "metadata": {},
      "source": [
        "|                  | `.` | `[]` | `.iloc` | `.loc` |\n",
        "|:----------------:|:---:|:----:|:-------:|:------:|\n",
        "|  row/단일레이블  |  X  |  X   |    O    |   O    |\n",
        "|  col/단일레이블  |  O  |  O   |    O    |   O    |\n",
        "| row/레이블리스트 |  X  |  X   |    O    |   O    |\n",
        "| col/레이블리스트 |  X  |  O   |    O    |   O    |\n",
        "|   row/슬라이싱   |  X  |  O   |    O    |   O    |\n",
        "|   col/슬라이싱   |  X  |  X   |    O    |   O    |\n",
        "|  row/bool,list   |  X  |  O   |    O    |   O    |\n",
        "|   row/bool,ser   |  X  |  O   |    X    |   O    |\n",
        "|   row/bool,map   |  X  |  X   |    O    |   O    |\n",
        "\n",
        "**Quiz**\n",
        "\n",
        "아래와 같은 데이터 프레임을 만들어라.\n",
        "\n",
        "|     |  name   | score |\n",
        "|:---:|:-------:|:-----:|\n",
        "|  0  | Guebin  |  50   |\n",
        "|  1  |  Jaein  |  60   |\n",
        "|  2  |  Daho   |  70   |\n",
        "|  3  | Seoyeon |  80   |\n",
        "\n",
        "이름이 5글자 이상이고 점수가 55점 이상한 학생을 출력하라."
      ],
      "id": "c2f41623-58b6-4923-b6c0-e26c557140aa"
    },
    {
      "cell_type": "code",
      "execution_count": 208,
      "metadata": {
        "vscode": {
          "languageId": "python"
        }
      },
      "outputs": [],
      "source": [
        "df=pd.DataFrame({'name':['Guebin','Jaein','Daho','Seoyeon'],'score':[50,60,70,80]})\n",
        "df"
      ],
      "id": "8735b08b-fb74-4b7b-a3c3-6bebe8c616b5"
    },
    {
      "cell_type": "code",
      "execution_count": 195,
      "metadata": {
        "vscode": {
          "languageId": "python"
        }
      },
      "outputs": [],
      "source": [
        "df[list(map((lambda name,score: (len(name) >= 5)& (score>55)),df.name,df.score))]"
      ],
      "id": "ee9be42b-3c57-4c68-a07a-70ef49fb9f0d"
    },
    {
      "cell_type": "markdown",
      "metadata": {},
      "source": [
        "# 판다스: 인덱싱 3단계– column의 선택 (with 실전예제)\n",
        "\n",
        "## 데이터"
      ],
      "id": "b9d63ed3-4d93-4cfa-b211-f960d8c7ff1c"
    },
    {
      "cell_type": "code",
      "execution_count": 3,
      "metadata": {
        "vscode": {
          "languageId": "python"
        }
      },
      "outputs": [],
      "source": [
        "df=pd.read_csv('https://raw.githubusercontent.com/PacktPublishing/Pandas-Cookbook/master/data/movie.csv')\n",
        "df"
      ],
      "id": "26d27f8b-0470-42d3-bc9d-52d7b7d70a25"
    },
    {
      "cell_type": "markdown",
      "metadata": {},
      "source": [
        "**Quiz** 열의 이름을 출력하여 보자.\n",
        "\n",
        "## 기본인덱싱 (df 인덱싱공부 1단계 내용)\n",
        "\n",
        "`-` color ~ num_voted_user 를 뽑고 + aspect_ratio 도 추가적으로\n",
        "뽑고싶다. -\\> loc으로는 못하겠어요.."
      ],
      "id": "03840bce-77b2-4116-957c-b18011cd0ec0"
    },
    {
      "cell_type": "code",
      "execution_count": 5,
      "metadata": {
        "vscode": {
          "languageId": "python"
        }
      },
      "outputs": [],
      "source": [
        "df.loc[:,['color':'num_voted_users','aspect_ratio']]"
      ],
      "id": "0a5e9fd5-3cf3-4532-bf9a-a2462372756f"
    },
    {
      "cell_type": "markdown",
      "metadata": {},
      "source": [
        "`-` (팁) 복잡한 조건은 iloc으로 쓰는게 편할때가 있다. $\\to$ 그런데\n",
        "`df.columns` 변수들이 몇번인지 알아보기 힘듬 $\\to$ 아래와 같이 하면 열의\n",
        "이름을 인덱스와 함께 출력할 수 있음"
      ],
      "id": "e28a7dda-797a-44b4-ba30-b8045e13141f"
    },
    {
      "cell_type": "code",
      "execution_count": 6,
      "metadata": {
        "vscode": {
          "languageId": "python"
        }
      },
      "outputs": [],
      "source": [
        "pd.Series(df.columns)"
      ],
      "id": "e80503d2-62cb-48f3-b3ea-4b60acbb2442"
    },
    {
      "cell_type": "code",
      "execution_count": 7,
      "metadata": {
        "vscode": {
          "languageId": "python"
        }
      },
      "outputs": [],
      "source": [
        "list(range(13))+[26]"
      ],
      "id": "7a73c405-9897-445d-b3c7-ad8794b5515e"
    },
    {
      "cell_type": "code",
      "execution_count": 8,
      "metadata": {
        "vscode": {
          "languageId": "python"
        }
      },
      "outputs": [],
      "source": [
        "df.iloc[:,list(range(13))+[26]] "
      ],
      "id": "18b2736e-3e9a-44b7-9cad-08e5e4583802"
    },
    {
      "cell_type": "markdown",
      "metadata": {},
      "source": [
        "## actor라는 단어가 포함된 column 선택\n",
        "\n",
        "`-` 다시 열의 이름들을 확인"
      ],
      "id": "983ecbd9-e53a-4a48-80ba-157be08acfa8"
    },
    {
      "cell_type": "code",
      "execution_count": 9,
      "metadata": {
        "vscode": {
          "languageId": "python"
        }
      },
      "outputs": [],
      "source": [
        "df.columns"
      ],
      "id": "1954c1cd-315e-4954-a3df-2c05d4be4d40"
    },
    {
      "cell_type": "markdown",
      "metadata": {},
      "source": [
        "`-` 방법1"
      ],
      "id": "93d4963b-1520-4560-b687-c013295232e3"
    },
    {
      "cell_type": "code",
      "execution_count": 10,
      "metadata": {
        "vscode": {
          "languageId": "python"
        }
      },
      "outputs": [],
      "source": [
        "df.iloc[:,list(map(lambda x : 'actor' in x, df.columns) )]"
      ],
      "id": "77874952-1df7-4765-86be-576ba41b5de7"
    },
    {
      "cell_type": "markdown",
      "metadata": {},
      "source": [
        "`-` 방법2"
      ],
      "id": "7edb31f7-2878-44e3-94b8-0287161a3a91"
    },
    {
      "cell_type": "code",
      "execution_count": 11,
      "metadata": {
        "vscode": {
          "languageId": "python"
        }
      },
      "outputs": [],
      "source": [
        "df.loc[:,list(map(lambda x : 'actor' in x, df.columns) )]"
      ],
      "id": "8d764d4d-dfc8-4cd2-8dcb-9b1d54c5ae6e"
    },
    {
      "cell_type": "markdown",
      "metadata": {},
      "source": [
        "`-` 방법3"
      ],
      "id": "cf9aa604-defd-4d82-89c5-9b26ba29ed4b"
    },
    {
      "cell_type": "code",
      "execution_count": 12,
      "metadata": {
        "vscode": {
          "languageId": "python"
        }
      },
      "outputs": [],
      "source": [
        "df.iloc[:,map(lambda x : 'actor' in x, df.columns)]"
      ],
      "id": "56d15c63-0733-4db5-81ff-008f6cbb503f"
    },
    {
      "cell_type": "markdown",
      "metadata": {},
      "source": [
        "`-` 방법4"
      ],
      "id": "399f3b30-e5a1-4348-adda-1d9b5a702f35"
    },
    {
      "cell_type": "code",
      "execution_count": 13,
      "metadata": {
        "vscode": {
          "languageId": "python"
        }
      },
      "outputs": [],
      "source": [
        "df.loc[:,map(lambda x : 'actor' in x, df.columns)]"
      ],
      "id": "4c73c936-9572-4841-baca-9f87ce100f31"
    },
    {
      "cell_type": "markdown",
      "metadata": {},
      "source": [
        "## s로 끝나는 column 선택\n",
        "\n",
        "`-` 방법1"
      ],
      "id": "cae4a495-4f4b-407b-a229-589dd7f65930"
    },
    {
      "cell_type": "code",
      "execution_count": 14,
      "metadata": {
        "vscode": {
          "languageId": "python"
        }
      },
      "outputs": [],
      "source": [
        "df.iloc[:,map(lambda x: 's' == x[-1],df.columns )]"
      ],
      "id": "77767f34-2f9f-45ce-bce2-3ebf99958687"
    },
    {
      "cell_type": "markdown",
      "metadata": {},
      "source": [
        "`-` 방법2"
      ],
      "id": "8c7f293c-e5e5-472e-9cc7-21ef2da314d6"
    },
    {
      "cell_type": "code",
      "execution_count": 15,
      "metadata": {
        "vscode": {
          "languageId": "python"
        }
      },
      "outputs": [],
      "source": [
        "df.loc[:,map(lambda x: 's' == x[-1],df.columns )]"
      ],
      "id": "4b5156f2-8a00-406a-88ed-4f6432df5d02"
    },
    {
      "cell_type": "markdown",
      "metadata": {},
      "source": [
        "## c 혹은 d로 시작하는 column 선택\n",
        "\n",
        "`-` 방법1"
      ],
      "id": "80714117-c33f-4287-a311-e75bcc928183"
    },
    {
      "cell_type": "code",
      "execution_count": 16,
      "metadata": {
        "vscode": {
          "languageId": "python"
        }
      },
      "outputs": [],
      "source": [
        "df.iloc[:,map(lambda x: 'c' == x[0] or 'd' == x[0] ,df.columns )]"
      ],
      "id": "e45d78f0-f201-47da-90f7-a611b15e9e69"
    },
    {
      "cell_type": "markdown",
      "metadata": {},
      "source": [
        "`-` 방법2"
      ],
      "id": "ca098755-b247-4b90-873a-3305c261e390"
    },
    {
      "cell_type": "code",
      "execution_count": 17,
      "metadata": {
        "vscode": {
          "languageId": "python"
        }
      },
      "outputs": [],
      "source": [
        "df.loc[:,map(lambda x: 'c' == x[0] or 'd' == x[0] ,df.columns )]"
      ],
      "id": "96bcd332-04e6-4796-b73b-bee36904d76a"
    },
    {
      "cell_type": "markdown",
      "metadata": {},
      "source": [
        "**quiz**\n",
        "\n",
        "1.  column이름에 `_`가 포함되어있는 열을 모두 출력하라.\n",
        "2.  column이름에 `_`가 포함되어있는 열은 모두 몇개인가?\n",
        "\n",
        "# 판다스: 새로운 열의 할당 1단계\n",
        "\n",
        "## 방법1: concat"
      ],
      "id": "f2328e4a-dbad-4ad9-91e1-14b2bc11d684"
    },
    {
      "cell_type": "code",
      "execution_count": 122,
      "metadata": {
        "vscode": {
          "languageId": "python"
        }
      },
      "outputs": [],
      "source": [
        "df = pd.DataFrame({'a':[1,2,3],'b':[2,3,4]})\n",
        "df"
      ],
      "id": "431f1971-90e8-4f32-96cf-55fbd527607e"
    },
    {
      "cell_type": "code",
      "execution_count": 123,
      "metadata": {
        "vscode": {
          "languageId": "python"
        }
      },
      "outputs": [],
      "source": [
        "_df = pd.DataFrame({'c':[3,4,5]}) \n",
        "_df"
      ],
      "id": "cfa267d4-dfcc-4313-93a7-6d1b8e86b277"
    },
    {
      "cell_type": "code",
      "execution_count": 124,
      "metadata": {
        "vscode": {
          "languageId": "python"
        }
      },
      "outputs": [],
      "source": [
        "pd.concat([df,_df],axis=1)"
      ],
      "id": "2008babb-e174-433c-9ba0-19d93600c70e"
    },
    {
      "cell_type": "markdown",
      "metadata": {},
      "source": [
        "## 방법2: 4가지 컨셉에 따른 할당\n",
        "\n",
        "### `#` 컨셉1: 불가능"
      ],
      "id": "ac21f827-5913-4562-9c47-de5c826ed1d3"
    },
    {
      "cell_type": "code",
      "execution_count": 125,
      "metadata": {
        "vscode": {
          "languageId": "python"
        }
      },
      "outputs": [],
      "source": [
        "df = pd.DataFrame({'a':[1,2,3],'b':[2,3,4]})\n",
        "df"
      ],
      "id": "5af16b3f-18de-418e-b0ff-c7ac27a44eef"
    },
    {
      "cell_type": "code",
      "execution_count": 126,
      "metadata": {
        "vscode": {
          "languageId": "python"
        }
      },
      "outputs": [
        {
          "output_type": "stream",
          "name": "stderr",
          "text": [
            "/home/cgb2/anaconda3/envs/py37/lib/python3.7/site-packages/ipykernel_launcher.py:1: UserWarning: Pandas doesn't allow columns to be created via a new attribute name - see https://pandas.pydata.org/pandas-docs/stable/indexing.html#attribute-access\n",
            "  \"\"\"Entry point for launching an IPython kernel."
          ]
        }
      ],
      "source": [
        "df.c = pd.Series([1,2,3]) \n",
        "df"
      ],
      "id": "16c2a3b3-3424-4ac9-9649-7b81b3996482"
    },
    {
      "cell_type": "markdown",
      "metadata": {},
      "source": [
        "### `#` 컨셉2: 가능\n",
        "\n",
        "(예시1)"
      ],
      "id": "81fef6d9-e8db-47c1-ba8b-dad318663775"
    },
    {
      "cell_type": "code",
      "execution_count": 127,
      "metadata": {
        "vscode": {
          "languageId": "python"
        }
      },
      "outputs": [],
      "source": [
        "df = pd.DataFrame({'a':[1,2,3],'b':[2,3,4]})\n",
        "df"
      ],
      "id": "df472b62-c36a-4767-9174-b0cd01d931df"
    },
    {
      "cell_type": "code",
      "execution_count": 128,
      "metadata": {
        "vscode": {
          "languageId": "python"
        }
      },
      "outputs": [],
      "source": [
        "df['c']=[3,4,5]\n",
        "df"
      ],
      "id": "9e05b2aa-e869-4ae6-9434-3e049806c934"
    },
    {
      "cell_type": "markdown",
      "metadata": {},
      "source": [
        "(예시2)"
      ],
      "id": "38f22180-a5a7-4338-8c18-f1d293a000ea"
    },
    {
      "cell_type": "code",
      "execution_count": 129,
      "metadata": {
        "vscode": {
          "languageId": "python"
        }
      },
      "outputs": [],
      "source": [
        "df = pd.DataFrame({'a':[1,2,3],'b':[2,3,4]})\n",
        "df"
      ],
      "id": "5f2eb26e-02f5-49f3-8872-cfbab5217953"
    },
    {
      "cell_type": "code",
      "execution_count": 130,
      "metadata": {
        "vscode": {
          "languageId": "python"
        }
      },
      "outputs": [],
      "source": [
        "df[['c','d']]=np.array([[3,4,5],[4,5,6]]).T # 굳이.. \n",
        "df"
      ],
      "id": "34bb1053-f18e-44a3-a1b4-689539bb079d"
    },
    {
      "cell_type": "markdown",
      "metadata": {},
      "source": [
        "(예시3)"
      ],
      "id": "581d63f4-25c0-4e88-b923-92158babac70"
    },
    {
      "cell_type": "code",
      "execution_count": 131,
      "metadata": {
        "vscode": {
          "languageId": "python"
        }
      },
      "outputs": [],
      "source": [
        "df = pd.DataFrame({'a':[1,2,3],'b':[2,3,4]})\n",
        "df"
      ],
      "id": "c8058781-1d66-47e9-a58d-f841856198e0"
    },
    {
      "cell_type": "code",
      "execution_count": 132,
      "metadata": {
        "vscode": {
          "languageId": "python"
        }
      },
      "outputs": [],
      "source": [
        "df['c'],df['d']=[3,4,5],[4,5,6]\n",
        "df"
      ],
      "id": "e3c1118c-20dc-46d7-9bc4-85e0f32fd333"
    },
    {
      "cell_type": "markdown",
      "metadata": {},
      "source": [
        "### `#` 컨셉3: 불가능\n",
        "\n",
        "(예시1)"
      ],
      "id": "e93949bf-087f-4c97-b173-2813a7c9a562"
    },
    {
      "cell_type": "code",
      "execution_count": 133,
      "metadata": {
        "vscode": {
          "languageId": "python"
        }
      },
      "outputs": [],
      "source": [
        "df = pd.DataFrame({'a':[1,2,3],'b':[2,3,4]})\n",
        "df"
      ],
      "id": "d1acf45f-bbd1-45a6-8cbb-0c1129ec3a5a"
    },
    {
      "cell_type": "code",
      "execution_count": 134,
      "metadata": {
        "vscode": {
          "languageId": "python"
        }
      },
      "outputs": [],
      "source": [
        "df.iloc[:,2] = [3,4,5] \n",
        "df"
      ],
      "id": "f772da6e-cfba-4228-98e8-302fb2f7d7a9"
    },
    {
      "cell_type": "markdown",
      "metadata": {},
      "source": [
        "### `#` 컨셉4: 가능\n",
        "\n",
        "(예시1)"
      ],
      "id": "12442158-ddd5-43e6-9ab9-b68acdf30150"
    },
    {
      "cell_type": "code",
      "execution_count": 135,
      "metadata": {
        "vscode": {
          "languageId": "python"
        }
      },
      "outputs": [],
      "source": [
        "df = pd.DataFrame({'a':[1,2,3],'b':[2,3,4]})\n",
        "df"
      ],
      "id": "2fd5d78d-1916-41db-adb4-92c84e535da5"
    },
    {
      "cell_type": "code",
      "execution_count": 136,
      "metadata": {
        "vscode": {
          "languageId": "python"
        }
      },
      "outputs": [],
      "source": [
        "df.loc[:,'c'] = [3,4,5] \n",
        "df"
      ],
      "id": "667f2b2d-8d9c-47df-b82e-6e778933e87e"
    },
    {
      "cell_type": "markdown",
      "metadata": {},
      "source": [
        "(예시2)"
      ],
      "id": "183d2fc8-443a-4c64-9dda-95645ae97872"
    },
    {
      "cell_type": "code",
      "execution_count": 137,
      "metadata": {
        "vscode": {
          "languageId": "python"
        }
      },
      "outputs": [],
      "source": [
        "df = pd.DataFrame({'a':[1,2,3],'b':[2,3,4]})\n",
        "df"
      ],
      "id": "52276b77-5832-4189-9d17-195ae262d96c"
    },
    {
      "cell_type": "code",
      "execution_count": 138,
      "metadata": {
        "vscode": {
          "languageId": "python"
        }
      },
      "outputs": [],
      "source": [
        "df.loc[:,['c','d']] = np.array([[3,4,5],[4,5,6]]).T # 이거 솔직히 되는지 몰랐어요.. \n",
        "df"
      ],
      "id": "73a21bc9-44ab-4542-a5d9-2c3fe8dd702c"
    },
    {
      "cell_type": "markdown",
      "metadata": {},
      "source": [
        "(예시3)"
      ],
      "id": "9d1f16b4-db88-4a82-a4e4-b311fa7c6b59"
    },
    {
      "cell_type": "code",
      "execution_count": 139,
      "metadata": {
        "vscode": {
          "languageId": "python"
        }
      },
      "outputs": [],
      "source": [
        "df = pd.DataFrame({'a':[1,2,3],'b':[2,3,4]})\n",
        "df"
      ],
      "id": "76cc5418-54c2-4a44-9fe5-69fef0b2902e"
    },
    {
      "cell_type": "code",
      "execution_count": 140,
      "metadata": {
        "vscode": {
          "languageId": "python"
        }
      },
      "outputs": [],
      "source": [
        "df.loc[:,'c'],df.loc[:,'d'] = [3,4,5],[4,5,6] \n",
        "df"
      ],
      "id": "c1c21a1f-23de-4c4c-afa6-6a7d034f3626"
    },
    {
      "cell_type": "markdown",
      "metadata": {},
      "source": [
        "## 방법3: `.assign`으로 할당 ($\\star$) – 제 최애"
      ],
      "id": "650a2307-0ff5-4f0e-8e01-c1868d4b33ef"
    },
    {
      "cell_type": "code",
      "execution_count": 141,
      "metadata": {
        "vscode": {
          "languageId": "python"
        }
      },
      "outputs": [],
      "source": [
        "df = pd.DataFrame({'a':[1,2,3],'b':[2,3,4]})\n",
        "df"
      ],
      "id": "32c3d9cd-a942-4bd0-980d-947765aec11a"
    },
    {
      "cell_type": "code",
      "execution_count": 142,
      "metadata": {
        "vscode": {
          "languageId": "python"
        }
      },
      "outputs": [],
      "source": [
        "df.assign(c=[3,4,5])"
      ],
      "id": "3cd80f29-0b24-4db8-89c8-f025efad8711"
    },
    {
      "cell_type": "code",
      "execution_count": 143,
      "metadata": {
        "vscode": {
          "languageId": "python"
        }
      },
      "outputs": [],
      "source": [
        "df.assign(c=[3,4,5],d=[4,5,6])"
      ],
      "id": "e5773143-cf36-4a93-94b6-c464e478c91a"
    },
    {
      "cell_type": "code",
      "execution_count": 144,
      "metadata": {
        "vscode": {
          "languageId": "python"
        }
      },
      "outputs": [],
      "source": [
        "df.assign(c=[3,4,5]).assign(d=[4,5,6])"
      ],
      "id": "e95ceddd-1491-4399-a76e-d68092f5aae5"
    },
    {
      "cell_type": "markdown",
      "metadata": {},
      "source": [
        "## 방법4: `.eval`을 이용한 할당"
      ],
      "id": "a18cd5c6-0c25-467c-9f70-e2a0dafe812a"
    },
    {
      "cell_type": "code",
      "execution_count": 145,
      "metadata": {
        "vscode": {
          "languageId": "python"
        }
      },
      "outputs": [],
      "source": [
        "df = pd.DataFrame({'a':[1,2,3],'b':[2,3,4]})\n",
        "df"
      ],
      "id": "577ec091-250c-4721-9a31-828caee3cc4e"
    },
    {
      "cell_type": "code",
      "execution_count": 146,
      "metadata": {
        "vscode": {
          "languageId": "python"
        }
      },
      "outputs": [],
      "source": [
        "df.eval('c=[3,4,5]')"
      ],
      "id": "2203aad8-174e-4895-92ae-4fceafdd50d2"
    },
    {
      "cell_type": "code",
      "execution_count": 147,
      "metadata": {
        "vscode": {
          "languageId": "python"
        }
      },
      "outputs": [],
      "source": [
        "df.eval('c=[3,4,5]').eval('d=[4,5,6]')"
      ],
      "id": "4a549362-4686-46ca-a1d7-ca3797395d94"
    },
    {
      "cell_type": "markdown",
      "metadata": {},
      "source": [
        "## 연습해보기\n",
        "\n",
        "### `#` 데이터프레임 생성"
      ],
      "id": "1bc4fec7-47e8-4139-87c7-d872b5257dc2"
    },
    {
      "cell_type": "code",
      "execution_count": 111,
      "metadata": {
        "vscode": {
          "languageId": "python"
        }
      },
      "outputs": [],
      "source": [
        "df=pd.DataFrame({'x':np.random.randn(1000),'y':np.random.randn(1000)})\n",
        "df"
      ],
      "id": "68ea7b27-38b1-4395-a33d-08869858c440"
    },
    {
      "cell_type": "markdown",
      "metadata": {},
      "source": [
        "### `#` 새로운열 `r`을 생성하고 $r=\\sqrt{x^2 + y^2}$를 계산\n",
        "\n",
        "`-` 방법1: 브로드캐스팅"
      ],
      "id": "1345fbf3-9eb1-4c2e-8907-61f59c159ad9"
    },
    {
      "cell_type": "code",
      "execution_count": 112,
      "metadata": {
        "vscode": {
          "languageId": "python"
        }
      },
      "outputs": [],
      "source": [
        "df.assign(r=np.sqrt(df.x**2 + df.y**2))"
      ],
      "id": "351dccfe-64c3-4abc-99a4-173cbda07d5b"
    },
    {
      "cell_type": "markdown",
      "metadata": {},
      "source": [
        "`-` 방법2: (**quiz**) lambda + map을 이용한 개별원소 계산\n",
        "\n",
        "`-` 방법3: eval"
      ],
      "id": "b8ec2127-a0e9-4026-92c1-947c6edc868c"
    },
    {
      "cell_type": "code",
      "execution_count": 114,
      "metadata": {
        "vscode": {
          "languageId": "python"
        }
      },
      "outputs": [],
      "source": [
        "df.eval('r=sqrt(x**2+y**2)')"
      ],
      "id": "d1c17a92-4e17-4a71-826b-cfa2b9277986"
    },
    {
      "cell_type": "markdown",
      "metadata": {},
      "source": [
        "# 판다스: 새로운 열의 할당 2단계 (연쇄할당)\n",
        "\n",
        "## 모티브\n",
        "\n",
        "`-` 원본데이터를 가급적 손상시키지 않으면서 데이터를 변형하고 싶음."
      ],
      "id": "a8ec2da9-7b22-4ef2-b5ba-e8ace8209d08"
    },
    {
      "cell_type": "code",
      "execution_count": 3,
      "metadata": {
        "vscode": {
          "languageId": "python"
        }
      },
      "outputs": [],
      "source": [
        "df = pd.DataFrame({'A':range(0,5),'B':range(1,6)})\n",
        "df"
      ],
      "id": "b43783b6-cdc1-42a0-90fb-9ad2022a0214"
    },
    {
      "cell_type": "markdown",
      "metadata": {},
      "source": [
        "복사본 생성"
      ],
      "id": "44fbba0d-44b1-410e-bb76-3ee15e9b24af"
    },
    {
      "cell_type": "code",
      "execution_count": 4,
      "metadata": {
        "vscode": {
          "languageId": "python"
        }
      },
      "outputs": [],
      "source": [
        "df2 = df \n",
        "df2"
      ],
      "id": "f9c94ad3-cc1f-43ad-9bd2-e4ab1c8052f8"
    },
    {
      "cell_type": "code",
      "execution_count": 5,
      "metadata": {
        "vscode": {
          "languageId": "python"
        }
      },
      "outputs": [],
      "source": [
        "df2['C'] = (df2.A+ df2.B)/2\n",
        "df2"
      ],
      "id": "93866585-f951-4532-ab7a-76bd33491ad2"
    },
    {
      "cell_type": "code",
      "execution_count": 6,
      "metadata": {
        "vscode": {
          "languageId": "python"
        }
      },
      "outputs": [],
      "source": [
        "df2['D']= (df2.C - np.mean(df2.C))/np.std(df2.C) \n",
        "df2"
      ],
      "id": "bc04fed2-fca5-4593-9d3c-7bedf10e342c"
    },
    {
      "cell_type": "code",
      "execution_count": 7,
      "metadata": {
        "vscode": {
          "languageId": "python"
        }
      },
      "outputs": [],
      "source": [
        "df # 니가 왜 거기서 나와??"
      ],
      "id": "c191e24b-3f09-40ba-8f33-8229d4514e98"
    },
    {
      "cell_type": "markdown",
      "metadata": {},
      "source": [
        "## 해결책1: df.copy()이용, .eval()이용\n",
        "\n",
        "`-` 올바른코드1"
      ],
      "id": "9ee494d5-5c98-4e3e-89a6-0daf6e97581a"
    },
    {
      "cell_type": "code",
      "execution_count": 8,
      "metadata": {
        "vscode": {
          "languageId": "python"
        }
      },
      "outputs": [],
      "source": [
        "df = pd.DataFrame({'A':range(0,5),'B':range(1,6)})\n",
        "df2 = df.copy() \n",
        "df2['C'] = (df2.A+ df2.B)/2\n",
        "df2['D']= (df2.C - np.mean(df2.C))/np.std(df2.C) "
      ],
      "id": "79ca8a3a-5e95-4039-a652-e3c7f71ed9f0"
    },
    {
      "cell_type": "code",
      "execution_count": 9,
      "metadata": {
        "vscode": {
          "languageId": "python"
        }
      },
      "outputs": [],
      "source": [
        "df2"
      ],
      "id": "bd06dec0-d53d-41ec-bb04-88135d80107c"
    },
    {
      "cell_type": "code",
      "execution_count": 10,
      "metadata": {
        "vscode": {
          "languageId": "python"
        }
      },
      "outputs": [],
      "source": [
        "df"
      ],
      "id": "50c92d71-6b99-4ac1-8f1e-a11fba453738"
    },
    {
      "cell_type": "markdown",
      "metadata": {},
      "source": [
        "`-` 올바른코드2"
      ],
      "id": "c80c7a24-3b76-4c05-b83f-429cb83dbfd9"
    },
    {
      "cell_type": "code",
      "execution_count": 30,
      "metadata": {
        "vscode": {
          "languageId": "python"
        }
      },
      "outputs": [],
      "source": [
        "df = pd.DataFrame({'A':range(0,5),'B':range(1,6)})\n",
        "mean = np.mean \n",
        "std = np.std \n",
        "df.eval('C=(A+B)/2').eval('D=(C-@mean(C))/@std(C)')"
      ],
      "id": "2e61bbc2-f71e-4896-a7ff-83716249179d"
    },
    {
      "cell_type": "markdown",
      "metadata": {},
      "source": [
        "-   어디까지 eval expression 안에서 지원되는지 명확하지 않고\n",
        "-   외부에 함수를 선언하고 eval expression 안에 (**를?**) 붙이는게 좀\n",
        "    귀찮음\n",
        "\n",
        "`-` 올바른코드3 (assign) –\\> 실패"
      ],
      "id": "c00fe802-7f5d-4354-a567-06aaf553a543"
    },
    {
      "cell_type": "code",
      "execution_count": 31,
      "metadata": {
        "vscode": {
          "languageId": "python"
        }
      },
      "outputs": [],
      "source": [
        "df = pd.DataFrame({'A':range(0,5),'B':range(1,6)})\n",
        "df.assign(C= (df.A+df.B)/2) "
      ],
      "id": "b093ddbb-2ac6-445d-ac49-1bea6bcc6aca"
    },
    {
      "cell_type": "code",
      "execution_count": 32,
      "metadata": {
        "vscode": {
          "languageId": "python"
        }
      },
      "outputs": [],
      "source": [
        "df.assign(C= (df.A+df.B)/2).assign(D= (df.C- np.mean(df.C))/np.std(df.C))"
      ],
      "id": "fd8121f1-24cc-4bb3-bcb4-84892aeae2c3"
    },
    {
      "cell_type": "markdown",
      "metadata": {},
      "source": [
        "아래와 같이 고쳐야함"
      ],
      "id": "8c18ebbf-8097-4aee-9682-3aa7053b6761"
    },
    {
      "cell_type": "code",
      "execution_count": 39,
      "metadata": {
        "vscode": {
          "languageId": "python"
        }
      },
      "outputs": [],
      "source": [
        "_df = df.assign(C= (df.A+df.B)/2)\n",
        "_df.assign(D= (_df.C- np.mean(_df.C))/np.std(_df.C))"
      ],
      "id": "f5242d72-2337-48e9-8f3c-f56a2a99ba7d"
    },
    {
      "cell_type": "markdown",
      "metadata": {},
      "source": [
        "-   이건 우리의 철학이랑 안맞음..\n",
        "\n",
        "## 해결책2: assign을 이용한 연쇄할당\n",
        "\n",
        "실패한코드는 아래와 같다."
      ],
      "id": "52cb8783-e005-492f-90aa-87e13ee6c176"
    },
    {
      "cell_type": "code",
      "execution_count": 44,
      "metadata": {
        "vscode": {
          "languageId": "python"
        }
      },
      "outputs": [],
      "source": [
        "df.assign(C= (df.A+df.B)/2).assign(D= (df.C- np.mean(df.C))/np.std(df.C))"
      ],
      "id": "b684ec38-6850-453d-92c3-4b7f0b954196"
    },
    {
      "cell_type": "markdown",
      "metadata": {},
      "source": [
        "두번째 assign에서 표현된 df.C 에서, df가 `current df` (=\n",
        "`df.assign(C= (df.A+df.B)/2)` 까지 연산된 상태) 를 의미하도록 만들고\n",
        "싶다. $\\to$ 아래와 같이 `lambda df:` 를 추가하면 된다."
      ],
      "id": "cb142a8f-5502-4ef1-99d1-eea68d3856e3"
    },
    {
      "cell_type": "code",
      "execution_count": 49,
      "metadata": {
        "vscode": {
          "languageId": "python"
        }
      },
      "outputs": [],
      "source": [
        "df.assign(C= (df.A+df.B)/2).assign(D= lambda df: (df.C- np.mean(df.C))/np.std(df.C))"
      ],
      "id": "2a30fa70-0645-478f-a9df-f96d39c9cafb"
    },
    {
      "cell_type": "markdown",
      "metadata": {},
      "source": [
        "`-` 연쇄할당"
      ],
      "id": "86f3113f-5ce1-46de-ba0a-c517bf0f3464"
    },
    {
      "cell_type": "code",
      "execution_count": 55,
      "metadata": {
        "vscode": {
          "languageId": "python"
        }
      },
      "outputs": [],
      "source": [
        "df.assign(C = (df.A+df.B)/2).assign(D = lambda df: df.C +2).assign(E = lambda df: df.D - 2)"
      ],
      "id": "ccfbf3e6-5609-4b34-bf40-709228f8935e"
    },
    {
      "cell_type": "markdown",
      "metadata": {},
      "source": [
        "# Quiz\n",
        "\n",
        "다음과 같은 데이터프레임을 불러온 뒤 물음에 답하라"
      ],
      "id": "5e8931c0-7ce7-4fff-b1b9-79159d5a0451"
    },
    {
      "cell_type": "code",
      "execution_count": 518,
      "metadata": {
        "vscode": {
          "languageId": "python"
        }
      },
      "outputs": [],
      "source": [
        "df=pd.read_csv('https://raw.githubusercontent.com/guebin/DV2022/master/_notebooks/dv2022.csv')\n",
        "df"
      ],
      "id": "f78cdd5b-2ada-4570-92e4-7efab96f8e89"
    },
    {
      "cell_type": "markdown",
      "metadata": {},
      "source": [
        "`(1)` 기말고사 성적이 중간고사 성적보다 향상된 학생들을 출력하라. 즉 mid\n",
        "\\< fin 인 학생들을 출력하라. (다양한 방법으로 연습할 것, 제출은 한 가지\n",
        "방법으로 구현해도 감점없음)"
      ],
      "id": "54cab103-8d7a-4848-bb37-2a53f5005b04"
    },
    {
      "cell_type": "code",
      "execution_count": 521,
      "metadata": {
        "vscode": {
          "languageId": "python"
        }
      },
      "outputs": [],
      "source": [
        "# 구현결과가 아래와 같아야 한다. "
      ],
      "id": "c69c8998-90cb-4319-9dc9-359301fa0d91"
    },
    {
      "cell_type": "markdown",
      "metadata": {},
      "source": [
        "`(2)` 기말고사 성적이 중간고사 성적보다 향상된 학생들의 출석과 레포트\n",
        "점수를 출력하라."
      ],
      "id": "0fd55639-37b1-49c8-bcfe-638cc5e33551"
    },
    {
      "cell_type": "code",
      "execution_count": 523,
      "metadata": {
        "vscode": {
          "languageId": "python"
        }
      },
      "outputs": [],
      "source": [
        "# 구현결과가 아래와 같아야 한다. "
      ],
      "id": "8ca6e2ce-a4d5-48c3-96b2-50b48aa4b261"
    },
    {
      "cell_type": "code",
      "execution_count": 64,
      "metadata": {
        "vscode": {
          "languageId": "python"
        }
      },
      "outputs": [],
      "source": [
        "df = pd.DataFrame({'a':[1,2,3,4],'b':[2,3,4,5],'c':[3,4,5,6],'d':[4,5,6,7]})\n",
        "df"
      ],
      "id": "eb0a9caf-80b5-485f-b110-c318b09931df"
    },
    {
      "cell_type": "markdown",
      "metadata": {},
      "source": [
        "## `2`.\n",
        "\n",
        "아래의 결과를 관찰하고 drop의 기능을 유추하라.\n",
        "\n",
        "(예시1)"
      ],
      "id": "cdd8f3b3-c6a5-4969-821b-6428ad1e4dad"
    },
    {
      "cell_type": "code",
      "execution_count": 65,
      "metadata": {
        "vscode": {
          "languageId": "python"
        }
      },
      "outputs": [],
      "source": [
        "df.drop(columns='a')"
      ],
      "id": "669c32da-894c-44cd-9838-dcc1a69217d2"
    },
    {
      "cell_type": "markdown",
      "metadata": {},
      "source": [
        "(예시2)"
      ],
      "id": "1a9bd5dc-12d7-4f18-847f-92fcfda4a80e"
    },
    {
      "cell_type": "code",
      "execution_count": 66,
      "metadata": {
        "vscode": {
          "languageId": "python"
        }
      },
      "outputs": [],
      "source": [
        "df.drop(columns=['a','b'])"
      ],
      "id": "b1273532-3263-4ed0-8028-e98d7a0a94fc"
    },
    {
      "cell_type": "markdown",
      "metadata": {},
      "source": [
        "(예시3)"
      ],
      "id": "271a919e-d60e-461f-b42b-6a7375b3fcff"
    },
    {
      "cell_type": "code",
      "execution_count": 67,
      "metadata": {
        "vscode": {
          "languageId": "python"
        }
      },
      "outputs": [],
      "source": [
        "df.drop(index=0)"
      ],
      "id": "3d9b4e2a-e621-4eab-8849-954577b536e2"
    },
    {
      "cell_type": "markdown",
      "metadata": {},
      "source": [
        "(예시4)"
      ],
      "id": "e53b4215-6c86-427d-99a1-fa60202f39db"
    },
    {
      "cell_type": "code",
      "execution_count": 71,
      "metadata": {
        "vscode": {
          "languageId": "python"
        }
      },
      "outputs": [],
      "source": [
        "df.drop(index=range(2,4))"
      ],
      "id": "31af93ac-09a4-4728-af25-8febffc31d99"
    },
    {
      "cell_type": "markdown",
      "metadata": {},
      "source": [
        "문제: `df` 에서 a,c열을 삭제하고 첫행을 삭제하라."
      ],
      "id": "1c433dd8-22d5-4752-8233-5ec12aca9f6c"
    },
    {
      "cell_type": "code",
      "execution_count": 78,
      "metadata": {
        "vscode": {
          "languageId": "python"
        }
      },
      "outputs": [],
      "source": [
        "#출력결과는 아래와 같아야 한다. "
      ],
      "id": "f8e2f70a-d296-411a-bbfb-7c835f296945"
    },
    {
      "cell_type": "markdown",
      "metadata": {},
      "source": [
        "# FIFA23 데이터분석\n",
        "\n",
        "## FIFA23 data\n",
        "\n",
        "`-` FIFA23라는 축구게임이 있음\n",
        "\n",
        "`-` 게임에 실제 선수들이 나오면서 선수들의 능력치가 세밀하게 구현되어\n",
        "있음\n",
        "\n",
        "`-` 선수들 능력치에 대한 데이터셋은 캐글에 공개되어 있음 -\n",
        "https://www.kaggle.com/datasets/bryanb/fifa-player-stats-database?select=FIFA23_official_data.csv\n",
        "\n",
        "## 데이터살펴보기\n",
        "\n",
        "`-` 일단 살펴보기"
      ],
      "id": "045ea857-0182-4e44-9e92-35047295ca78"
    },
    {
      "cell_type": "code",
      "execution_count": 2,
      "metadata": {
        "vscode": {
          "languageId": "python"
        }
      },
      "outputs": [],
      "source": [
        "df=pd.read_csv('https://raw.githubusercontent.com/guebin/DV2022/master/posts/FIFA23_official_data.csv')\n",
        "df.head()"
      ],
      "id": "cf6e0e31-3755-4764-bea4-a4dbeca2cd54"
    },
    {
      "cell_type": "markdown",
      "metadata": {},
      "source": [
        "트랜스포즈하여 보는 것이 편할때도 있음"
      ],
      "id": "504ed87f-47b0-4782-be3f-ecb5fc6cec6f"
    },
    {
      "cell_type": "code",
      "execution_count": 3,
      "metadata": {
        "vscode": {
          "languageId": "python"
        }
      },
      "outputs": [],
      "source": [
        "df.T"
      ],
      "id": "7ae48a57-4d18-47d0-911c-7cc1c78480ba"
    },
    {
      "cell_type": "markdown",
      "metadata": {},
      "source": [
        "`-` column이름조사"
      ],
      "id": "d3850869-479c-49bc-8a6c-f08fbab06f39"
    },
    {
      "cell_type": "code",
      "execution_count": 4,
      "metadata": {
        "vscode": {
          "languageId": "python"
        }
      },
      "outputs": [],
      "source": [
        "df.keys()"
      ],
      "id": "e0a60d25-2c36-4298-8aae-76aabc9b05f9"
    },
    {
      "cell_type": "markdown",
      "metadata": {},
      "source": [
        "-   이름에 space가 있어서 좀 거슬림\n",
        "\n",
        "**Quiz** column이름에 space를 제거할 수 있을까?\n",
        "\n",
        "`-` 각 column 별로 자료형조사"
      ],
      "id": "40713293-bd78-44cf-80e6-3b4ede2eb2d9"
    },
    {
      "cell_type": "code",
      "execution_count": 7,
      "metadata": {
        "vscode": {
          "languageId": "python"
        }
      },
      "outputs": [],
      "source": [
        "df.ID"
      ],
      "id": "a2390b44-6b0c-477a-84c6-a0993b099569"
    },
    {
      "cell_type": "code",
      "execution_count": 9,
      "metadata": {
        "vscode": {
          "languageId": "python"
        }
      },
      "outputs": [],
      "source": [
        "df.ID.dtype"
      ],
      "id": "6dabb22a-a8d6-46e4-a200-0313097ae132"
    },
    {
      "cell_type": "markdown",
      "metadata": {},
      "source": [
        "**Quiz** 각 컬럼별로 자료형을 조사할 수 있을까?\n",
        "\n",
        "`-` 결측치조사"
      ],
      "id": "a3d72c77-3cf9-4992-b654-65c250d892e9"
    },
    {
      "cell_type": "code",
      "execution_count": 11,
      "metadata": {
        "vscode": {
          "languageId": "python"
        }
      },
      "outputs": [],
      "source": [
        "df.Club "
      ],
      "id": "2fb07198-6fa7-4146-a564-b28a6eb7c24c"
    },
    {
      "cell_type": "markdown",
      "metadata": {},
      "source": [
        "-   무소속인 선수도 있지 않나?\n",
        "\n",
        "(예비학습)"
      ],
      "id": "3014c111-863f-4275-9f3d-4476b9892a95"
    },
    {
      "cell_type": "code",
      "execution_count": 17,
      "metadata": {
        "vscode": {
          "languageId": "python"
        }
      },
      "outputs": [],
      "source": [
        "pd.Series([1,2,None,2,3]).isna()"
      ],
      "id": "5226e0a2-b20a-41f1-9493-c99f6429352a"
    },
    {
      "cell_type": "markdown",
      "metadata": {},
      "source": [
        "예비학습 끝"
      ],
      "id": "b812f79d-1c79-41a6-8b4b-b1d9ca7bec60"
    },
    {
      "cell_type": "code",
      "execution_count": 18,
      "metadata": {
        "vscode": {
          "languageId": "python"
        }
      },
      "outputs": [],
      "source": [
        "df.Club.isna().sum() # 무소속인 선수는 211명 "
      ],
      "id": "2b36c05b-1de9-4a24-96fb-e5cbd18dfa01"
    },
    {
      "cell_type": "markdown",
      "metadata": {},
      "source": [
        "**Quiz** 각 컬럼별로 결측시의 수를 조사할 수 있을까?\n",
        "\n",
        "**Quiz** 각 col별로 자료형과 결측치의 수를 조사한 표를 얻을 수 있을까?"
      ],
      "id": "4aadbd39-b667-4497-b083-edf3c1a2ef11"
    },
    {
      "cell_type": "code",
      "execution_count": 7,
      "metadata": {
        "vscode": {
          "languageId": "python"
        }
      },
      "outputs": [],
      "source": [
        "# 이런식으로!!"
      ],
      "id": "676e3a22-67ba-4cfd-9264-f0fd29eeb6bd"
    },
    {
      "cell_type": "markdown",
      "metadata": {},
      "source": [
        "**Quiz** 열의선택: 결측치가 10000개 이상인 열을 보고싶다면? (먼가 문제가\n",
        "있는 열 같은데?)"
      ],
      "id": "1160bf53-1536-4498-9dbc-7c58509e8e70"
    },
    {
      "cell_type": "code",
      "execution_count": 8,
      "metadata": {
        "vscode": {
          "languageId": "python"
        }
      },
      "outputs": [],
      "source": [
        "df.loc[:,[df[key].isna().sum()>10000 for key in df.keys()]]"
      ],
      "id": "98cf29be-62e2-4aa6-ad73-0b03cf59f563"
    },
    {
      "cell_type": "markdown",
      "metadata": {},
      "source": [
        "`-` .info()"
      ],
      "id": "c37bcf4d-cf32-48ba-a7e4-2076fbe57349"
    },
    {
      "cell_type": "code",
      "execution_count": 9,
      "metadata": {
        "vscode": {
          "languageId": "python"
        }
      },
      "outputs": [
        {
          "output_type": "stream",
          "name": "stdout",
          "text": [
            "<class 'pandas.core.frame.DataFrame'>\n",
            "RangeIndex: 17660 entries, 0 to 17659\n",
            "Data columns (total 29 columns):\n",
            " #   Column                    Non-Null Count  Dtype  \n",
            "---  ------                    --------------  -----  \n",
            " 0   ID                        17660 non-null  int64  \n",
            " 1   Name                      17660 non-null  object \n",
            " 2   Age                       17660 non-null  int64  \n",
            " 3   Photo                     17660 non-null  object \n",
            " 4   Nationality               17660 non-null  object \n",
            " 5   Flag                      17660 non-null  object \n",
            " 6   Overall                   17660 non-null  int64  \n",
            " 7   Potential                 17660 non-null  int64  \n",
            " 8   Club                      17449 non-null  object \n",
            " 9   Club Logo                 17660 non-null  object \n",
            " 10  Value                     17660 non-null  object \n",
            " 11  Wage                      17660 non-null  object \n",
            " 12  Special                   17660 non-null  int64  \n",
            " 13  Preferred Foot            17660 non-null  object \n",
            " 14  International Reputation  17660 non-null  float64\n",
            " 15  Weak Foot                 17660 non-null  float64\n",
            " 16  Skill Moves               17660 non-null  float64\n",
            " 17  Work Rate                 17660 non-null  object \n",
            " 18  Body Type                 17622 non-null  object \n",
            " 19  Real Face                 17622 non-null  object \n",
            " 20  Position                  17625 non-null  object \n",
            " 21  Joined                    16562 non-null  object \n",
            " 22  Loaned From               694 non-null    object \n",
            " 23  Contract Valid Until      17299 non-null  object \n",
            " 24  Height                    17660 non-null  object \n",
            " 25  Weight                    17660 non-null  object \n",
            " 26  Release Clause            16509 non-null  object \n",
            " 27  Kit Number                17625 non-null  float64\n",
            " 28  Best Overall Rating       21 non-null     object \n",
            "dtypes: float64(4), int64(5), object(20)\n",
            "memory usage: 3.9+ MB"
          ]
        }
      ],
      "source": [
        "df.info()"
      ],
      "id": "fd4725eb-2fc5-4884-a003-3dcf1f44e3c6"
    },
    {
      "cell_type": "markdown",
      "metadata": {},
      "source": [
        "## 데이터정리하기\n",
        "\n",
        "`-` 칼럼이름변경"
      ],
      "id": "433a4242-bfb9-4a49-b6b1-870629182624"
    },
    {
      "cell_type": "code",
      "execution_count": 19,
      "metadata": {
        "vscode": {
          "languageId": "python"
        }
      },
      "outputs": [],
      "source": [
        "df.set_axis(pd.Index(map(lambda x: x.replace(' ','_'), df.columns)), axis=1)"
      ],
      "id": "bf9fc75b-049f-4136-9e89-562c9378eb28"
    },
    {
      "cell_type": "markdown",
      "metadata": {},
      "source": [
        "`-` 결측치제거"
      ],
      "id": "0fd9ae31-fd2f-416c-8e26-05daecf58101"
    },
    {
      "cell_type": "code",
      "execution_count": 20,
      "metadata": {
        "vscode": {
          "languageId": "python"
        }
      },
      "outputs": [],
      "source": [
        "df.drop(columns=['Loaned From', 'Best Overall Rating']).dropna()"
      ],
      "id": "0d1136ab-742f-4398-b25b-1d7483cb41be"
    },
    {
      "cell_type": "markdown",
      "metadata": {},
      "source": [
        "`-` Height, Weight의 자료형을 float형으로 수정하기"
      ],
      "id": "3149d191-a7ad-4a9a-857f-8d42fc80316c"
    },
    {
      "cell_type": "code",
      "execution_count": 21,
      "metadata": {
        "vscode": {
          "languageId": "python"
        }
      },
      "outputs": [],
      "source": [
        "df.assign(\n",
        "    Height= list(map(lambda x: float(x[:-2]), df.Height)),\n",
        "    Weight= list(map(lambda x: float(x[:-2]), df.Weight))\n",
        ")"
      ],
      "id": "49964004-44b8-4232-a596-27e6fb2d4c09"
    },
    {
      "cell_type": "markdown",
      "metadata": {},
      "source": [
        "`-` Release Clause의 자료형을 float으로 수정하기"
      ],
      "id": "2d6e7017-079f-4b4d-86bc-dd78f5506a35"
    },
    {
      "cell_type": "code",
      "execution_count": 22,
      "metadata": {
        "vscode": {
          "languageId": "python"
        }
      },
      "outputs": [],
      "source": [
        "df['Release Clause']"
      ],
      "id": "6206e3ef-2c6f-4cbd-9d93-33a8a96a3bab"
    },
    {
      "cell_type": "code",
      "execution_count": 23,
      "metadata": {
        "vscode": {
          "languageId": "python"
        }
      },
      "outputs": [],
      "source": [
        "_f = lambda x: float(x[1:-1])*1000 if x[-1]=='K' else float(x[1:-1])*1000000"
      ],
      "id": "5bcb8662-6b07-4a9a-bfca-88a959f8043e"
    },
    {
      "cell_type": "code",
      "execution_count": 24,
      "metadata": {
        "vscode": {
          "languageId": "python"
        }
      },
      "outputs": [],
      "source": [
        "_f('€157M')"
      ],
      "id": "9ce0209b-cc60-4832-95a0-7e93c1e622a2"
    },
    {
      "cell_type": "code",
      "execution_count": 25,
      "metadata": {
        "vscode": {
          "languageId": "python"
        }
      },
      "outputs": [],
      "source": [
        "_f('€131K')"
      ],
      "id": "fa4b91f3-7c23-4383-8e03-b597ab0dda78"
    },
    {
      "cell_type": "markdown",
      "metadata": {},
      "source": [
        "(시도1–실패)"
      ],
      "id": "ce0a543e-a827-4d4b-9208-987d39c77ec4"
    },
    {
      "cell_type": "code",
      "execution_count": 26,
      "metadata": {
        "vscode": {
          "languageId": "python"
        }
      },
      "outputs": [],
      "source": [
        "list(map(_f,df['Release Clause']))"
      ],
      "id": "7c544b81-f378-43c7-8c0b-38f1eb922400"
    },
    {
      "cell_type": "markdown",
      "metadata": {},
      "source": [
        "(시도1이 실패한 이유)"
      ],
      "id": "b992df15-ee80-47da-bda9-12d3bfcc98b5"
    },
    {
      "cell_type": "code",
      "execution_count": 27,
      "metadata": {
        "vscode": {
          "languageId": "python"
        }
      },
      "outputs": [],
      "source": [
        "df['Release Clause'].isna().sum() # 이 column에는 1151개의 결측치가 존재"
      ],
      "id": "8e4fae3f-4950-4734-a2b9-a70e6e62773b"
    },
    {
      "cell_type": "markdown",
      "metadata": {},
      "source": [
        "(nan에 대한 예비학습)"
      ],
      "id": "536652e0-107d-4a80-a992-becc22ab82f6"
    },
    {
      "cell_type": "code",
      "execution_count": 28,
      "metadata": {
        "vscode": {
          "languageId": "python"
        }
      },
      "outputs": [],
      "source": [
        "df.loc[df['Release Clause'].isna(), 'Release Clause']"
      ],
      "id": "174d182f-2c5a-4543-9dba-a9548882a35a"
    },
    {
      "cell_type": "code",
      "execution_count": 29,
      "metadata": {
        "vscode": {
          "languageId": "python"
        }
      },
      "outputs": [],
      "source": [
        "df.loc[18, 'Release Clause']"
      ],
      "id": "3ed0108a-81d1-48d0-b578-588c0be4d334"
    },
    {
      "cell_type": "code",
      "execution_count": 30,
      "metadata": {
        "vscode": {
          "languageId": "python"
        }
      },
      "outputs": [],
      "source": [
        "pd.isna(df.loc[18, 'Release Clause'])"
      ],
      "id": "0fe578f5-507d-48b3-b176-209a179d28c6"
    },
    {
      "cell_type": "code",
      "execution_count": 31,
      "metadata": {
        "vscode": {
          "languageId": "python"
        }
      },
      "outputs": [],
      "source": [
        "type(df.loc[18, 'Release Clause'])"
      ],
      "id": "73f9851e-2ff1-45ab-8f08-0fcba964d3e0"
    },
    {
      "cell_type": "code",
      "execution_count": 32,
      "metadata": {
        "vscode": {
          "languageId": "python"
        }
      },
      "outputs": [],
      "source": [
        "df.loc[18, 'Release Clause'][-1]"
      ],
      "id": "d25229c0-f06c-43e1-a031-735245117aed"
    },
    {
      "cell_type": "markdown",
      "metadata": {},
      "source": [
        "(시도2–성공)"
      ],
      "id": "8a6e16c6-0813-4c22-9882-a3553f303972"
    },
    {
      "cell_type": "code",
      "execution_count": 33,
      "metadata": {
        "vscode": {
          "languageId": "python"
        }
      },
      "outputs": [],
      "source": [
        "df.rename(columns={'Release Clause':'ReleaseClause'})\\\n",
        ".assign(ReleaseClause = list(map(lambda x: _f(x) if pd.isna(x)==False else x , df['Release Clause'])))\\\n",
        ".rename(columns={'ReleaseClause':'Release Clause'})"
      ],
      "id": "dd3c7a80-cf22-4eb5-bb8b-618519b79611"
    },
    {
      "cell_type": "markdown",
      "metadata": {},
      "source": [
        "(시도3–성공) 그냥 결측치를 제거하고 변형해도 무방.."
      ],
      "id": "7c0bfc8d-493a-4cc2-93fc-abd7e4103f67"
    },
    {
      "cell_type": "code",
      "execution_count": 34,
      "metadata": {
        "vscode": {
          "languageId": "python"
        }
      },
      "outputs": [],
      "source": [
        "df2 = df.drop(columns=['Loaned From', 'Best Overall Rating']).dropna()\n",
        "df2['Release Clause'] = list(map(lambda x: _f(x) if pd.isna(x)==False else x , df2['Release Clause']))\n",
        "df2"
      ],
      "id": "e60c3cbe-8058-4eb3-bfc1-f9d95251ebe4"
    },
    {
      "cell_type": "markdown",
      "metadata": {},
      "source": [
        "> 분석의 편의를 위하여 (1) colnames를 변경하고 (2) 결측치를 제거하고 (3)\n",
        "> 몇 가지 전 처리를 추가로 진행한 뒤 df2를 만들어서 분석하는게 좋음"
      ],
      "id": "860bea9e-8c0c-4429-aa2e-50da00c05197"
    }
  ],
  "nbformat": 4,
  "nbformat_minor": 5,
  "metadata": {
    "kernelspec": {
      "name": "python3",
      "display_name": "Python 3 (ipykernel)",
      "language": "python"
    },
    "language_info": {
      "name": "python",
      "codemirror_mode": {
        "name": "ipython",
        "version": "3"
      },
      "file_extension": ".py",
      "mimetype": "text/x-python",
      "nbconvert_exporter": "python",
      "pygments_lexer": "ipython3",
      "version": "3.10.12"
    }
  }
}