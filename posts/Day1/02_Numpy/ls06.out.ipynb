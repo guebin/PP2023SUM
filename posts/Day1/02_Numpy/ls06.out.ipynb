{
  "cells": [
    {
      "cell_type": "markdown",
      "metadata": {},
      "source": [
        "# Lesson 06: numpy 공부 3단계\n",
        "\n",
        "최규빈  \n",
        "2023-07-24\n",
        "\n",
        "<a href=\"https://colab.research.google.com/github/guebin/PP2023SUM/blob/main/posts/Day1/02_Numpy/ls07.ipynb\"><img src=\"https://colab.research.google.com/assets/colab-badge.svg\" style=\"text-align: left\"></a>\n",
        "\n",
        "# imports"
      ],
      "id": "01284f66-6bf1-4927-863f-5fcb8926b855"
    },
    {
      "cell_type": "code",
      "execution_count": 2,
      "metadata": {},
      "outputs": [],
      "source": [
        "import numpy as np"
      ],
      "id": "c4a2c671-67bb-4247-93ee-12eaf3e8d3ae"
    },
    {
      "cell_type": "markdown",
      "metadata": {},
      "source": [
        "# 넘파이 공부 3단계\n",
        "\n",
        "`-` 목표: 넘파이의 axis를 이해하여 보자.\n",
        "\n",
        "## np.concatenate\n",
        "\n",
        "`-` 기본예제"
      ],
      "id": "6ab020b1-6fb2-4108-a05d-5181a41e9f6e"
    },
    {
      "cell_type": "code",
      "execution_count": 53,
      "metadata": {},
      "outputs": [],
      "source": [
        "a=np.array([1,2]) \n",
        "b=-a"
      ],
      "id": "7f5c3986-9b1d-4ae3-9b72-905d0077d8f0"
    },
    {
      "cell_type": "code",
      "execution_count": 56,
      "metadata": {},
      "outputs": [],
      "source": [
        "np.concatenate([a,b]) "
      ],
      "id": "8780358a-324d-47e8-b965-87b05007116d"
    },
    {
      "cell_type": "markdown",
      "metadata": {},
      "source": [
        "`-` 응용"
      ],
      "id": "83db7044-622c-4537-9172-54bdb46c84f5"
    },
    {
      "cell_type": "code",
      "execution_count": 57,
      "metadata": {},
      "outputs": [],
      "source": [
        "a=np.array([1,2])\n",
        "b=-a \n",
        "c=np.array([3,4,5])"
      ],
      "id": "6ed1e58f-c53a-45f7-bef6-dbff8f7bf8ca"
    },
    {
      "cell_type": "code",
      "execution_count": 58,
      "metadata": {},
      "outputs": [],
      "source": [
        "np.concatenate([a,b,c])"
      ],
      "id": "9c2e6f38-7b5c-4421-867c-56fef1015812"
    },
    {
      "cell_type": "markdown",
      "metadata": {},
      "source": [
        "-   여기까진 딱히 칸캐터네이트의 메리트가 없어보임\n",
        "-   리스트였다면 a+b+c 하면 되는 기능이니까?\n",
        "\n",
        "`-` 2d array에 적용해보자."
      ],
      "id": "32a7af86-70e9-4d9f-8958-9efb5fcd51c4"
    },
    {
      "cell_type": "code",
      "execution_count": 61,
      "metadata": {},
      "outputs": [],
      "source": [
        "a=np.arange(4).reshape(2,2) \n",
        "b=-a"
      ],
      "id": "531d1db9-ded8-42cc-aae0-4e024af5bcd4"
    },
    {
      "cell_type": "code",
      "execution_count": 62,
      "metadata": {},
      "outputs": [],
      "source": [
        "np.concatenate([a,b]) "
      ],
      "id": "2d7ec281-20b8-4c48-9665-90ccce842cfe"
    },
    {
      "cell_type": "markdown",
      "metadata": {},
      "source": [
        "`-` 옆으로 붙일려면?"
      ],
      "id": "6c07adb7-7591-4cfd-8671-83a664715a07"
    },
    {
      "cell_type": "code",
      "execution_count": 63,
      "metadata": {},
      "outputs": [],
      "source": [
        "np.concatenate([a,b],axis=1)"
      ],
      "id": "8302a372-c5c6-4861-befb-cc0c40420baa"
    },
    {
      "cell_type": "markdown",
      "metadata": {},
      "source": [
        "`-` 위의 코드에서 axis=1 이 뭐지? axis=0,2 등을 치면 결과가 어떻게 될까?"
      ],
      "id": "0e91f351-c2ff-4ab1-946e-bc740378133b"
    },
    {
      "cell_type": "code",
      "execution_count": 64,
      "metadata": {},
      "outputs": [],
      "source": [
        "np.concatenate([a,b],axis=0)"
      ],
      "id": "bc5e516a-dcae-4a27-af2a-9f6a5c25b6fd"
    },
    {
      "cell_type": "markdown",
      "metadata": {},
      "source": [
        "-   이건 그냥 np.concatenate(\\[a,b\\])와 같다.\n",
        "-   np.concatenate(\\[a,b\\])는 np.concatenate(\\[a,b\\],axis=0)의\n",
        "    생략버전이군?"
      ],
      "id": "b1e456e8-e7c4-40f7-ae2b-a3b22598b693"
    },
    {
      "cell_type": "code",
      "execution_count": 65,
      "metadata": {},
      "outputs": [],
      "source": [
        "np.concatenate([a,b],axis=2)"
      ],
      "id": "37d10b18-f9b8-4fcc-a7d6-99df849fb1c1"
    },
    {
      "cell_type": "markdown",
      "metadata": {},
      "source": [
        "-   이런건 없다.\n",
        "\n",
        "`-` axis의 의미가 뭔지 궁금함. 좀 더 예제를 살펴보자."
      ],
      "id": "1a67df6e-ee27-48ca-8c9e-57cde883c816"
    },
    {
      "cell_type": "code",
      "execution_count": 68,
      "metadata": {},
      "outputs": [],
      "source": [
        "a=np.array(range(2*3*4)).reshape(2,3,4)\n",
        "a"
      ],
      "id": "edaca1f5-1204-4d46-afd2-989390fb8191"
    },
    {
      "cell_type": "code",
      "execution_count": 69,
      "metadata": {},
      "outputs": [],
      "source": [
        "b=-a\n",
        "b"
      ],
      "id": "4698e4c5-7767-4a18-b873-cc1f343c0b63"
    },
    {
      "cell_type": "code",
      "execution_count": 70,
      "metadata": {},
      "outputs": [],
      "source": [
        "np.concatenate([a,b],axis=0) "
      ],
      "id": "1d95bf56-f92c-4667-9715-7d757434faa6"
    },
    {
      "cell_type": "code",
      "execution_count": 72,
      "metadata": {},
      "outputs": [],
      "source": [
        "np.concatenate([a,b],axis=1) "
      ],
      "id": "623d87d6-3c0c-44b4-b5f3-ce7567cd396a"
    },
    {
      "cell_type": "code",
      "execution_count": 73,
      "metadata": {},
      "outputs": [],
      "source": [
        "np.concatenate([a,b],axis=2) "
      ],
      "id": "7db69480-7d80-4c62-ab4c-908b1e914113"
    },
    {
      "cell_type": "markdown",
      "metadata": {},
      "source": [
        "-   이번에는 axis=2까지 된다?"
      ],
      "id": "9491abfd-fd17-40c1-936b-a50f632d036e"
    },
    {
      "cell_type": "code",
      "execution_count": 75,
      "metadata": {},
      "outputs": [],
      "source": [
        "np.concatenate([a,b],axis=3) "
      ],
      "id": "8335898a-ccd3-48ea-b1ac-a9ed1436207f"
    },
    {
      "cell_type": "markdown",
      "metadata": {},
      "source": [
        "-   axis=3까지는 안된다?\n",
        "\n",
        "`-` 뭔가 나름의 방식으로 합쳐지는데 원리가 뭘까?\n",
        "\n",
        "(분석1) np.concatenate(\\[a,b\\],axis=0)"
      ],
      "id": "2aa6d266-73ce-4fad-98c8-193aa37c6833"
    },
    {
      "cell_type": "code",
      "execution_count": 80,
      "metadata": {},
      "outputs": [],
      "source": [
        "a=np.array(range(2*3*4)).reshape(2,3,4) \n",
        "b=-a "
      ],
      "id": "5c143f84-ec3b-4baa-a586-7d821127ea41"
    },
    {
      "cell_type": "code",
      "execution_count": 86,
      "metadata": {},
      "outputs": [],
      "source": [
        "a.shape, b.shape, np.concatenate([a,b],axis=0).shape"
      ],
      "id": "7bea044d-9f8c-4450-a654-aa230e78c45b"
    },
    {
      "cell_type": "markdown",
      "metadata": {},
      "source": [
        "-   첫번째차원이 바뀌었다 =\\> 첫번째 축이 바뀌었다 =\\> axis=0 (파이썬은\n",
        "    0부터 시작하니까!)\n",
        "\n",
        "(분석2) np.concatenate(\\[a,b\\],axis=1)"
      ],
      "id": "7078f37b-275b-4d3f-8430-2746e6e80a6e"
    },
    {
      "cell_type": "code",
      "execution_count": 88,
      "metadata": {},
      "outputs": [],
      "source": [
        "a=np.array(range(2*3*4)).reshape(2,3,4) \n",
        "b=-a "
      ],
      "id": "ebdb2a12-7119-4386-bd8f-4009be840c9e"
    },
    {
      "cell_type": "code",
      "execution_count": 89,
      "metadata": {},
      "outputs": [],
      "source": [
        "a.shape, b.shape, np.concatenate([a,b],axis=1).shape"
      ],
      "id": "58d41012-d05e-4812-8206-7bde5d01f764"
    },
    {
      "cell_type": "markdown",
      "metadata": {},
      "source": [
        "-   두번째차원이 바뀌었다 =\\> 두번째 축이 바뀌었다 =\\> axis=1\n",
        "\n",
        "(분석3) np.concatenate(\\[a,b\\],axis=2)"
      ],
      "id": "b5fb7f3e-ae67-4f6e-b9d9-312db0871d6d"
    },
    {
      "cell_type": "code",
      "execution_count": 90,
      "metadata": {},
      "outputs": [],
      "source": [
        "a=np.array(range(2*3*4)).reshape(2,3,4) \n",
        "b=-a "
      ],
      "id": "225caccb-6140-4943-9c2c-a505b67b0b8b"
    },
    {
      "cell_type": "code",
      "execution_count": 92,
      "metadata": {},
      "outputs": [],
      "source": [
        "a.shape, b.shape, np.concatenate([a,b],axis=2).shape"
      ],
      "id": "e4d12427-11e2-48b7-a2ba-4b00b274ebcf"
    },
    {
      "cell_type": "markdown",
      "metadata": {},
      "source": [
        "-   세번째차원이 바뀌었다 =\\> 세번째 축이 바뀌었다 =\\> axis=2\n",
        "\n",
        "(분석4) np.concatenate(\\[a,b\\],axis=3)"
      ],
      "id": "7801b8b4-62b6-4035-91ac-67dcb6838119"
    },
    {
      "cell_type": "code",
      "execution_count": 94,
      "metadata": {},
      "outputs": [],
      "source": [
        "a=np.array(range(2*3*4)).reshape(2,3,4) \n",
        "b=-a "
      ],
      "id": "35357cff-31aa-4a22-8e76-32dbf6246788"
    },
    {
      "cell_type": "code",
      "execution_count": 95,
      "metadata": {},
      "outputs": [],
      "source": [
        "a.shape, b.shape, np.concatenate([a,b],axis=3).shape"
      ],
      "id": "b5cecfdb-24ec-4952-928d-7bb4016c747f"
    },
    {
      "cell_type": "markdown",
      "metadata": {},
      "source": [
        "-   네번째차원이 없다 =\\> 네번째 축이 없다 =\\> axis=3으로 하면 에러가\n",
        "    난다.\n",
        "\n",
        "(보너스1)"
      ],
      "id": "489970d6-8eeb-408d-99f6-be6963098f1a"
    },
    {
      "cell_type": "code",
      "execution_count": 99,
      "metadata": {},
      "outputs": [],
      "source": [
        "a=np.array(range(2*3*4)).reshape(2,3,4) \n",
        "b=-a "
      ],
      "id": "e1dede62-9671-4980-8d7b-14419d5743b4"
    },
    {
      "cell_type": "code",
      "execution_count": 101,
      "metadata": {},
      "outputs": [],
      "source": [
        "np.concatenate([a,b],axis=-1)"
      ],
      "id": "3bcde92f-4b88-4786-8c71-026dbd7d1fa9"
    },
    {
      "cell_type": "code",
      "execution_count": 100,
      "metadata": {},
      "outputs": [],
      "source": [
        "a.shape, b.shape, np.concatenate([a,b],axis=-1).shape"
      ],
      "id": "1bcd4e0f-46e8-47e4-a614-cc5a3eef5890"
    },
    {
      "cell_type": "markdown",
      "metadata": {},
      "source": [
        "-   마지막 차원이 바뀌었다 =\\> 마지막 축이 바뀌었다 =\\> axis = -1\n",
        "\n",
        "(보너스2)"
      ],
      "id": "69557469-e400-406c-ab1c-98f3bed4b3d4"
    },
    {
      "cell_type": "code",
      "execution_count": 107,
      "metadata": {},
      "outputs": [],
      "source": [
        "a=np.array(range(2*3*4)).reshape(2,3,4) \n",
        "b=-a "
      ],
      "id": "bf8315fd-a7d4-4deb-b516-b50995c46a3b"
    },
    {
      "cell_type": "code",
      "execution_count": 108,
      "metadata": {},
      "outputs": [],
      "source": [
        "np.concatenate([a,b],axis=-2)"
      ],
      "id": "7cf8d7e1-33ae-4756-be14-3ec77dd88cf2"
    },
    {
      "cell_type": "code",
      "execution_count": 109,
      "metadata": {},
      "outputs": [],
      "source": [
        "a.shape, b.shape, np.concatenate([a,b],axis=-2).shape"
      ],
      "id": "9c696517-a26f-4054-8e3c-b6b7991014e5"
    },
    {
      "cell_type": "markdown",
      "metadata": {},
      "source": [
        "-   마지막에서 2번째 차원이 바뀌었다 =\\> 마지막에서 2번째 축이 바뀌었다\n",
        "    =\\> axis = -2\n",
        "\n",
        "(보너스3)"
      ],
      "id": "e39224a9-5071-4ace-a991-b71d5cca464e"
    },
    {
      "cell_type": "code",
      "execution_count": 110,
      "metadata": {},
      "outputs": [],
      "source": [
        "a=np.array(range(2*3*4)).reshape(2,3,4) \n",
        "b=-a "
      ],
      "id": "ca02d56c-fd44-4da2-b080-fcb616a556b9"
    },
    {
      "cell_type": "code",
      "execution_count": 111,
      "metadata": {},
      "outputs": [],
      "source": [
        "np.concatenate([a,b],axis=-3)"
      ],
      "id": "def662c8-4ddc-4ae2-8a6e-c1ce4fd1238a"
    },
    {
      "cell_type": "code",
      "execution_count": 112,
      "metadata": {},
      "outputs": [],
      "source": [
        "a.shape, b.shape, np.concatenate([a,b],axis=-3).shape"
      ],
      "id": "88593722-3496-4799-bf8a-2a9cbb2e096c"
    },
    {
      "cell_type": "markdown",
      "metadata": {},
      "source": [
        "-   마지막에서 3번째 차원이 바뀌었다 =\\> 마지막에서 3번째 축이 바뀌었다\n",
        "    =\\> axis = -3\n",
        "\n",
        "(보너스3)"
      ],
      "id": "c63ec682-17b8-4a20-89ab-413d944f0f43"
    },
    {
      "cell_type": "code",
      "execution_count": 114,
      "metadata": {},
      "outputs": [],
      "source": [
        "a=np.array(range(2*3*4)).reshape(2,3,4) \n",
        "b=-a "
      ],
      "id": "f8d9108c-6e3e-418b-a300-3dc59e8aa2a6"
    },
    {
      "cell_type": "code",
      "execution_count": 115,
      "metadata": {},
      "outputs": [],
      "source": [
        "np.concatenate([a,b],axis=-4)"
      ],
      "id": "251abf15-45da-4514-b01a-f2c0b0e17e48"
    },
    {
      "cell_type": "markdown",
      "metadata": {},
      "source": [
        "-   마지막에서 4번째 차원은 없다 =\\> 마지막에서 4번째 축이 없다 =\\> axis\n",
        "    = -4는 에러가 난다.\n",
        "\n",
        "`-` 0차원은 축이 없으므로 concatenate를 쓸 수 없다."
      ],
      "id": "15c207fb-dae8-42ba-8510-16b26988e31f"
    },
    {
      "cell_type": "code",
      "execution_count": 125,
      "metadata": {},
      "outputs": [],
      "source": [
        "a= np.array(1)\n",
        "b= np.array(-1) "
      ],
      "id": "a4f849d2-1898-4028-92a4-d3e7b632d155"
    },
    {
      "cell_type": "code",
      "execution_count": 126,
      "metadata": {},
      "outputs": [],
      "source": [
        "a.shape, b.shape"
      ],
      "id": "1a4b96f4-3d0e-4e15-bacc-1a41c93fb4b9"
    },
    {
      "cell_type": "code",
      "execution_count": 127,
      "metadata": {},
      "outputs": [],
      "source": [
        "np.concatenate([a,b])"
      ],
      "id": "e3b5f961-ca20-4b86-851e-a16fa9aa015e"
    },
    {
      "cell_type": "markdown",
      "metadata": {},
      "source": [
        "`-` 꼭 a,b가 같은 차원일 필요는 없다."
      ],
      "id": "809e4d9b-1b39-4e95-8877-e94cc84852f4"
    },
    {
      "cell_type": "code",
      "execution_count": 128,
      "metadata": {},
      "outputs": [],
      "source": [
        "a=np.array(range(4)).reshape(2,2) \n",
        "b=np.array(range(2)).reshape(2,1)  "
      ],
      "id": "3ecea3e0-6599-4b32-9412-9d961025b333"
    },
    {
      "cell_type": "code",
      "execution_count": 131,
      "metadata": {},
      "outputs": [],
      "source": [
        "np.concatenate([a,b],axis=1)"
      ],
      "id": "1de31e29-c99d-4e59-91e3-407969ba3b23"
    },
    {
      "cell_type": "code",
      "execution_count": 133,
      "metadata": {},
      "outputs": [],
      "source": [
        "a.shape, b.shape, np.concatenate([a,b],axis=1).shape"
      ],
      "id": "82c96966-caa0-4650-9393-6b73a8b08780"
    },
    {
      "cell_type": "markdown",
      "metadata": {},
      "source": [
        "## np.stack\n",
        "\n",
        "`-` 혹시 아래가 가능할까?\n",
        "\n",
        "-   (3,) 결합 (3,) =\\> (3,2)"
      ],
      "id": "5e3032e5-191a-432e-96e7-0213cdb13b94"
    },
    {
      "cell_type": "code",
      "execution_count": 149,
      "metadata": {},
      "outputs": [],
      "source": [
        "a=np.array([1,2,3])\n",
        "b=-a"
      ],
      "id": "1b55334c-43a5-4f21-8a8f-00c1928cd826"
    },
    {
      "cell_type": "code",
      "execution_count": 150,
      "metadata": {},
      "outputs": [],
      "source": [
        "a,b"
      ],
      "id": "2b3e598b-ba83-481e-ac48-d3a78b3f8b66"
    },
    {
      "cell_type": "code",
      "execution_count": 151,
      "metadata": {},
      "outputs": [],
      "source": [
        "np.concatenate([a,b],axis=1)"
      ],
      "id": "738b106b-2d64-4f05-9eeb-26a6875d9bd8"
    },
    {
      "cell_type": "markdown",
      "metadata": {},
      "source": [
        "-   불가능\n",
        "\n",
        "`-` 아래와 같이 하면 해결가능"
      ],
      "id": "1605b7d7-d832-4121-aea2-3ffafac97f76"
    },
    {
      "cell_type": "code",
      "execution_count": 152,
      "metadata": {},
      "outputs": [],
      "source": [
        "a=np.array([1,2,3]).reshape(3,1) \n",
        "b=-a"
      ],
      "id": "e803f77b-2970-4955-a87d-d5658f8ec364"
    },
    {
      "cell_type": "code",
      "execution_count": 153,
      "metadata": {},
      "outputs": [],
      "source": [
        "a,b"
      ],
      "id": "afeeb4e3-7660-4d40-ae9b-896f5314b61e"
    },
    {
      "cell_type": "code",
      "execution_count": 154,
      "metadata": {},
      "outputs": [],
      "source": [
        "np.concatenate([a,b],axis=1)"
      ],
      "id": "e1dcb7ba-fc9c-4feb-8b75-068b3181eb2e"
    },
    {
      "cell_type": "markdown",
      "metadata": {},
      "source": [
        "-   분석: (3) (3) =\\> (3,1) (3,1) =\\> (3,1) concat (3,1)\n",
        "\n",
        "`-` 위의 과정을 줄여서 아래와 같이 할 수 있다."
      ],
      "id": "a6b71aa3-92f6-447c-8d92-d832321c64f5"
    },
    {
      "cell_type": "code",
      "execution_count": 156,
      "metadata": {},
      "outputs": [],
      "source": [
        "a=np.array([1,2,3])\n",
        "b=-a"
      ],
      "id": "989920f1-1829-4507-ad3a-d5410f5d0e72"
    },
    {
      "cell_type": "code",
      "execution_count": 157,
      "metadata": {},
      "outputs": [],
      "source": [
        "np.stack([a,b],axis=1)"
      ],
      "id": "7cc35aeb-2ee4-4b5b-9328-e800f0d17fb9"
    },
    {
      "cell_type": "markdown",
      "metadata": {},
      "source": [
        "`-` 아래도 가능"
      ],
      "id": "2f123e07-9db3-422b-97e5-ae3abaaaee07"
    },
    {
      "cell_type": "code",
      "execution_count": 158,
      "metadata": {},
      "outputs": [],
      "source": [
        "np.stack([a,b],axis=0)"
      ],
      "id": "5d1a73cc-2a51-4094-98bc-c36e842e9d29"
    },
    {
      "cell_type": "markdown",
      "metadata": {},
      "source": [
        "`-` 분석해보고 외우자\n",
        "\n",
        "(분석1)"
      ],
      "id": "3444f922-cb3a-4bc5-9457-248bad7e7c92"
    },
    {
      "cell_type": "code",
      "execution_count": 159,
      "metadata": {},
      "outputs": [],
      "source": [
        "a=np.array([1,2,3])\n",
        "b=-a"
      ],
      "id": "34e06fb2-431c-43ba-b2d5-77dfab86b6e7"
    },
    {
      "cell_type": "code",
      "execution_count": 162,
      "metadata": {},
      "outputs": [],
      "source": [
        "a.shape, b.shape, np.stack([a,b],axis=0).shape"
      ],
      "id": "80821e3e-5bd9-4e09-8a83-972559116297"
    },
    {
      "cell_type": "markdown",
      "metadata": {},
      "source": [
        "-   1.  1.  =\\> 첫 위치에 축을 추가 (axis=0) =\\> (1,3) (1,3) =\\> (2,3)\n",
        "\n",
        "(분석2)"
      ],
      "id": "a7d0e415-2f84-4049-927e-decc2b040ac6"
    },
    {
      "cell_type": "code",
      "execution_count": 163,
      "metadata": {},
      "outputs": [],
      "source": [
        "a=np.array([1,2,3])\n",
        "b=-a"
      ],
      "id": "7723dfa1-10dc-4df7-9eab-b25960cd0509"
    },
    {
      "cell_type": "code",
      "execution_count": 164,
      "metadata": {},
      "outputs": [],
      "source": [
        "a.shape, b.shape, np.stack([a,b],axis=1).shape"
      ],
      "id": "96ade04f-a96d-4a91-bd3d-5937703d8315"
    },
    {
      "cell_type": "markdown",
      "metadata": {},
      "source": [
        "-   1.  1.  =\\> 두 위치에 축을 추가 (axis=1) =\\> (3,1) (3,1) =\\> (3,2)\n",
        "\n",
        "`-` 고차원예제"
      ],
      "id": "d8bc33a0-9858-49a0-83a4-a6dee5547e59"
    },
    {
      "cell_type": "code",
      "execution_count": 166,
      "metadata": {},
      "outputs": [],
      "source": [
        "a=np.arange(3*4*5).reshape(3,4,5) \n",
        "b=-a"
      ],
      "id": "c7c6731b-4b9a-4889-9867-1be7cc9e5af0"
    },
    {
      "cell_type": "code",
      "execution_count": 167,
      "metadata": {},
      "outputs": [],
      "source": [
        "a.shape, b.shape"
      ],
      "id": "159d59df-120f-47da-9fc1-7022bed0b91e"
    },
    {
      "cell_type": "code",
      "execution_count": 170,
      "metadata": {},
      "outputs": [],
      "source": [
        "np.stack([a,b],axis=0).shape # (3,4,5) => (1,3,4,5) // 첫 위치에 축이 추가되고 스택 "
      ],
      "id": "f0c1e5af-56eb-4730-a32a-fa0ecfd18e0e"
    },
    {
      "cell_type": "code",
      "execution_count": 174,
      "metadata": {},
      "outputs": [],
      "source": [
        "np.stack([a,b],axis=1).shape # (3,4,5) => (3,1,4,5) // 두번째 위치에 축이 추가되고 스택 "
      ],
      "id": "33579e71-71ae-4a80-872a-4740767142b9"
    },
    {
      "cell_type": "code",
      "execution_count": 175,
      "metadata": {},
      "outputs": [],
      "source": [
        "np.stack([a,b],axis=2).shape # (3,4,5) => (3,4,1,5) // 세번째 위치에 축이 추가되고 스택 "
      ],
      "id": "837cb344-9432-4585-a343-c435c868bd8c"
    },
    {
      "cell_type": "code",
      "execution_count": 179,
      "metadata": {},
      "outputs": [],
      "source": [
        "np.stack([a,b],axis=3).shape # (3,4,5) => (3,4,5,1) // 네번째 위치에 축이 추가되고 스택 "
      ],
      "id": "dd3c5d3a-28c5-4b9f-ad75-6753d9dfce9e"
    },
    {
      "cell_type": "code",
      "execution_count": 181,
      "metadata": {},
      "outputs": [],
      "source": [
        "np.stack([a,b],axis=-1).shape # axis=-1 <=> axis=3 "
      ],
      "id": "338b3cc3-3be8-4895-be29-cc83194f0666"
    },
    {
      "cell_type": "code",
      "execution_count": 182,
      "metadata": {},
      "outputs": [],
      "source": [
        "np.stack([a,b],axis=-2).shape # axis=-2 <=> axis=2"
      ],
      "id": "a2451178-1d8f-4cc3-b449-f71909163bca"
    },
    {
      "cell_type": "markdown",
      "metadata": {},
      "source": [
        "***np.concatenate*** 는 축의 총 갯수를 유지하면서 결합, ***np.stack***은\n",
        "축의 갯수를 하나 증가시키면서 결합\n",
        "\n",
        "## sum\n",
        "\n",
        "`-` 1차원"
      ],
      "id": "ef94ebfa-95b0-44f6-999d-72ffe6445f4b"
    },
    {
      "cell_type": "code",
      "execution_count": 212,
      "metadata": {},
      "outputs": [],
      "source": [
        "a = np.array([1,2,3]) \n",
        "a"
      ],
      "id": "83099798-4678-4fa7-882b-15fd9bf548fc"
    },
    {
      "cell_type": "code",
      "execution_count": 213,
      "metadata": {},
      "outputs": [],
      "source": [
        "a.sum()"
      ],
      "id": "013cc74d-bff8-468c-814c-038db4c4e9a5"
    },
    {
      "cell_type": "code",
      "execution_count": 214,
      "metadata": {},
      "outputs": [],
      "source": [
        "a.sum(axis=0)"
      ],
      "id": "7e9c6443-4789-45f7-a3c0-e8e2a684a0b5"
    },
    {
      "cell_type": "markdown",
      "metadata": {},
      "source": [
        "`-` 2차원"
      ],
      "id": "1fdfd2e8-baae-49d3-8ac6-a96819307ebb"
    },
    {
      "cell_type": "code",
      "execution_count": 208,
      "metadata": {},
      "outputs": [],
      "source": [
        "a=np.array(range(6)).reshape(2,3)\n",
        "a"
      ],
      "id": "bc77d601-5384-41fd-ae3f-f7977eff0b8a"
    },
    {
      "cell_type": "code",
      "execution_count": 209,
      "metadata": {},
      "outputs": [],
      "source": [
        "a.sum() # 전체합"
      ],
      "id": "ff773f35-a3c9-4a2b-b634-c10677d766aa"
    },
    {
      "cell_type": "code",
      "execution_count": 210,
      "metadata": {},
      "outputs": [],
      "source": [
        "a.sum(axis=0) "
      ],
      "id": "882a94a3-b201-4737-96d6-165fc5b40ef6"
    },
    {
      "cell_type": "code",
      "execution_count": 211,
      "metadata": {},
      "outputs": [],
      "source": [
        "a.sum(axis=1) "
      ],
      "id": "4d12bc83-d5b4-4863-8564-1ea48416ca79"
    },
    {
      "cell_type": "markdown",
      "metadata": {},
      "source": [
        "`-` 2차원 결과 분석"
      ],
      "id": "b668ae75-8a7e-491f-81ce-fddce5bc03ed"
    },
    {
      "cell_type": "code",
      "execution_count": 193,
      "metadata": {},
      "outputs": [],
      "source": [
        "a.shape, a.sum(axis=0).shape"
      ],
      "id": "00d0c4e8-1852-48ac-a1aa-995e5a6f0a60"
    },
    {
      "cell_type": "markdown",
      "metadata": {},
      "source": [
        "-   첫번째 축이 삭제됨 =\\> axis=0"
      ],
      "id": "9630ce06-d0f7-4c5b-8694-6fcaea1ede5d"
    },
    {
      "cell_type": "code",
      "execution_count": 195,
      "metadata": {},
      "outputs": [],
      "source": [
        "a.shape, a.sum(axis=1).shape"
      ],
      "id": "d88b697e-610f-40a0-88e0-ee6dc78a2af6"
    },
    {
      "cell_type": "markdown",
      "metadata": {},
      "source": [
        "-   두번째 축이 삭제됨 =\\> axis=1\n",
        "\n",
        "`-` 연습"
      ],
      "id": "821c0c4f-a0a7-4bec-82c5-d319d432b70b"
    },
    {
      "cell_type": "code",
      "execution_count": 197,
      "metadata": {},
      "outputs": [],
      "source": [
        "a=np.array(range(10)).reshape(5,2) \n",
        "a"
      ],
      "id": "9557ef8a-a606-41f1-97b7-93f7e1c07ec2"
    },
    {
      "cell_type": "markdown",
      "metadata": {},
      "source": [
        "(문제1) 1열의 합, 2열의 합을 계산하고 싶다면?\n",
        "\n",
        "(풀이) 차원이 (5,2) =\\> (2,) 로 나와야 한다. (그럼 첫번째 축이\n",
        "삭제되어야 하네?)"
      ],
      "id": "ac355a4f-fdad-459e-9291-63311c90aaae"
    },
    {
      "cell_type": "code",
      "execution_count": 198,
      "metadata": {},
      "outputs": [],
      "source": [
        "a.sum(axis=0)"
      ],
      "id": "c1104e8d-665d-4765-b1d3-9a882e4aaa34"
    },
    {
      "cell_type": "markdown",
      "metadata": {},
      "source": [
        "(문제2) 1행의 합, 2행의 합, … , 5행의 합을 계산하고 싶다면?\n",
        "\n",
        "(풀이) 차원이 (5,2) =\\> (5,)로 나와야 한다. (그럼 두번째 축이 삭제되어야\n",
        "하네?)"
      ],
      "id": "78eb4f12-124f-485f-9904-09dfd15a5833"
    },
    {
      "cell_type": "code",
      "execution_count": 199,
      "metadata": {},
      "outputs": [],
      "source": [
        "a.sum(axis=1)"
      ],
      "id": "ad5aa245-5892-49e0-8fc7-a97dd2b6fed0"
    },
    {
      "cell_type": "markdown",
      "metadata": {},
      "source": [
        "(문제3) a의 모든원소의 합을 계산하고 싶다면?\n",
        "\n",
        "(풀이) 차원이 (5,2) =\\> () 로 나와야 한다. (첫번째축, 두번째축이 모두\n",
        "삭제되어야 하네?)"
      ],
      "id": "88f2d6f5-34ed-4474-af35-1a4c2e20d7c4"
    },
    {
      "cell_type": "code",
      "execution_count": 201,
      "metadata": {},
      "outputs": [],
      "source": [
        "a.sum(axis=(0,1))"
      ],
      "id": "fa77efad-75f3-45dc-88fb-8649abce8520"
    },
    {
      "cell_type": "code",
      "execution_count": 203,
      "metadata": {},
      "outputs": [],
      "source": [
        "a.sum() # 즉 a.sum(axis=(0,1))이 디폴트값임 "
      ],
      "id": "be5f8f2c-09b6-45ec-ae2f-c15bc3549b96"
    },
    {
      "cell_type": "markdown",
      "metadata": {},
      "source": [
        "## mean, max, min\n",
        "\n",
        "`-` 모두 sum이랑 유사한 논리"
      ],
      "id": "c8b7c0cb-16de-424c-b172-0211edb6e919"
    },
    {
      "cell_type": "code",
      "execution_count": 218,
      "metadata": {},
      "outputs": [],
      "source": [
        "a=np.array(range(10)).reshape(5,2)\n",
        "a"
      ],
      "id": "e4ae2cb5-85ff-4bf4-9c51-61b0ace3a8b1"
    },
    {
      "cell_type": "code",
      "execution_count": 225,
      "metadata": {},
      "outputs": [],
      "source": [
        "a.mean(axis=0), a.std(axis=0), a.max(axis=0), a.min(axis=0), a.prod(axis=0)"
      ],
      "id": "9bfce9a6-83b8-48c9-b941-8fe20dc04f93"
    },
    {
      "cell_type": "code",
      "execution_count": 227,
      "metadata": {},
      "outputs": [],
      "source": [
        "a.mean(axis=1), a.std(axis=1), a.max(axis=1), a.min(axis=1), a.prod(axis=1)"
      ],
      "id": "87ca0c91-e3bb-4dc2-a958-8a5c8a4ebda3"
    },
    {
      "cell_type": "markdown",
      "metadata": {},
      "source": [
        "# Quiz\n",
        "\n",
        "`1` – `6`. a,b가 아래와 같이 주어졌다고 하자."
      ],
      "id": "3242d458-e084-4b00-8fee-06b8403d7910"
    },
    {
      "cell_type": "code",
      "execution_count": null,
      "metadata": {},
      "outputs": [],
      "source": [
        "a=np.array([1]*10)\n",
        "b=np.array([2]*10)"
      ],
      "id": "46b9ca1f"
    },
    {
      "cell_type": "markdown",
      "metadata": {},
      "source": [
        "`1`. a,b와 np.concatenate를 이용하여 아래와 같은 배열을 만들어라.\n",
        "\n",
        "    array([1, 1, 1, 1, 1, 1, 1, 1, 1, 1, 2, 2, 2, 2, 2, 2, 2, 2, 2, 2])\n",
        "\n",
        "`2`. a,b와 np.concatenate를 이용하여 아래와 같은 배열을 만들어라."
      ],
      "id": "e2329cbd-2049-40f1-ac34-2357aec530a8"
    },
    {
      "cell_type": "code",
      "execution_count": null,
      "metadata": {},
      "outputs": [],
      "source": [
        "a=np.array([1]*10)\n",
        "b=np.array([2]*10)"
      ],
      "id": "bc7f8c1a"
    },
    {
      "cell_type": "markdown",
      "metadata": {},
      "source": [
        "    array([[1],\n",
        "           [1],\n",
        "           [1],\n",
        "           [1],\n",
        "           [1],\n",
        "           [1],\n",
        "           [1],\n",
        "           [1],\n",
        "           [1],\n",
        "           [1],\n",
        "           [2],\n",
        "           [2],\n",
        "           [2],\n",
        "           [2],\n",
        "           [2],\n",
        "           [2],\n",
        "           [2],\n",
        "           [2],\n",
        "           [2],\n",
        "           [2]])\n",
        "\n",
        "`3`. a,b와 np.concatenate를 이용하여 아래와 같은 배열을 만들어라.\n",
        "\n",
        "    array([[1, 1, 1, 1, 1, 1, 1, 1, 1, 1],\n",
        "           [2, 2, 2, 2, 2, 2, 2, 2, 2, 2]]\n",
        "\n",
        "`4`. a,b와 np.concatenate를 이용하여 아래와 같은 배열을 만들어라.\n",
        "\n",
        "    array([[1, 2],\n",
        "           [1, 2],\n",
        "           [1, 2],\n",
        "           [1, 2],\n",
        "           [1, 2],\n",
        "           [1, 2],\n",
        "           [1, 2],\n",
        "           [1, 2],\n",
        "           [1, 2],\n",
        "           [1, 2]])\n",
        "\n",
        "`5`. a,b와 np.stack을 이용하여 아래와 같은 배열을 만들어라.\n",
        "\n",
        "    array([[1, 1, 1, 1, 1, 1, 1, 1, 1, 1],\n",
        "           [2, 2, 2, 2, 2, 2, 2, 2, 2, 2]]\n",
        "\n",
        "`6`. a,b와 np.stack을 이용하여 아래와 같은 배열을 만들어라.\n",
        "\n",
        "    array([[1, 2],\n",
        "           [1, 2],\n",
        "           [1, 2],\n",
        "           [1, 2],\n",
        "           [1, 2],\n",
        "           [1, 2],\n",
        "           [1, 2],\n",
        "           [1, 2],\n",
        "           [1, 2],\n",
        "           [1, 2]])\n",
        "\n",
        "**`7`–`8`**\n",
        "\n",
        "아래와 같은 매트릭스를 생성하라."
      ],
      "id": "30fb228a-6d69-43ab-95e9-981a5927b754"
    },
    {
      "cell_type": "code",
      "execution_count": null,
      "metadata": {},
      "outputs": [],
      "source": [
        "np.random.seed(43052)\n",
        "a=np.random.randn(10000).reshape(100,100)\n",
        "a"
      ],
      "id": "732d1860"
    },
    {
      "cell_type": "markdown",
      "metadata": {},
      "source": [
        "`7`. 각 행의 합을 구하라. 즉 1행의 합, 2행의 합, … 100행의 합을\n",
        "계산하라.\n",
        "\n",
        "-   1행의합 = 0.38342049 + 1.0841745 + … + 1.18701443\n",
        "\n",
        "`8`. 각 열의 평균을 구하라. 즉 1열의 평균, 2열의 평균, … , 100열의\n",
        "평균을 계산하라."
      ],
      "id": "c8615979-ed7c-4d8d-b8bd-7f020c5cc454"
    }
  ],
  "nbformat": 4,
  "nbformat_minor": 5,
  "metadata": {
    "kernelspec": {
      "name": "python3",
      "display_name": "Python 3 (ipykernel)",
      "language": "python"
    },
    "language_info": {
      "name": "python",
      "codemirror_mode": {
        "name": "ipython",
        "version": "3"
      },
      "file_extension": ".py",
      "mimetype": "text/x-python",
      "nbconvert_exporter": "python",
      "pygments_lexer": "ipython3",
      "version": "3.10.12"
    }
  }
}