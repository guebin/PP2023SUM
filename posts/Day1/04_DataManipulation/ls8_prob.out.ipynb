{
  "cells": [
    {
      "cell_type": "markdown",
      "metadata": {},
      "source": [
        "# Lesson 09: 데이터 조작 연습 (문제)\n",
        "\n",
        "최규빈  \n",
        "2023-07-24\n",
        "\n",
        "<a href=\"https://colab.research.google.com/github/guebin/IP2023WIN/blob/main/posts/Day1/04_DataManipulation/2023-01-30-Lesson9(prob).ipynb\"><img src=\"https://colab.research.google.com/assets/colab-badge.svg\" style=\"text-align: left\"></a>\n",
        "\n",
        "# imports\n",
        "\n",
        "아래코드를 이용하여 numpy 와 matplotlib을 import하라."
      ],
      "id": "e6d32027-bf1f-4708-92b2-4609a2838ef0"
    },
    {
      "cell_type": "code",
      "execution_count": 1,
      "metadata": {
        "vscode": {
          "languageId": "python"
        }
      },
      "outputs": [],
      "source": [
        "import numpy as np\n",
        "import matplotlib.pyplot as plt "
      ],
      "id": "e68f3290-9b58-4292-92e2-685778cfda3b"
    },
    {
      "cell_type": "markdown",
      "metadata": {},
      "source": [
        "# `1`. 코드구현 I\n",
        "\n",
        "**주의:** 문제에 조건이 있는 경우 조건을 준수할 것\n",
        "\n",
        "`(1)` a의 type을 bool로 바꾸어라."
      ],
      "id": "1bf821a8-a604-486e-8556-aacf45cdd660"
    },
    {
      "cell_type": "code",
      "execution_count": 2,
      "metadata": {
        "vscode": {
          "languageId": "python"
        }
      },
      "outputs": [],
      "source": [
        "a=1.0"
      ],
      "id": "5c7c7da0-a6d3-4b41-b597-e580e495bb48"
    },
    {
      "cell_type": "markdown",
      "metadata": {},
      "source": [
        "------------------------------------------------------------------------\n",
        "\n",
        "**(2)-(6)**\n",
        "\n",
        "아래의 문자열을 고려하자."
      ],
      "id": "fea16dd0-9669-4d09-895a-804547f7eac2"
    },
    {
      "cell_type": "code",
      "execution_count": 4,
      "metadata": {
        "vscode": {
          "languageId": "python"
        }
      },
      "outputs": [],
      "source": [
        "test_arr = 'ssh-rsa AAAAB3NzaC1yc2EAAAABIwAAAQEAklOUpkDHrfHY17SbrmTIpNLTGK9Tjom/BWDSUGPl+nafzlHDTYW7hdI4yZ5ew18JH4JW9jbhUFrviQzM7xlELEVf4h9lFX5QVkbPppSwg0cda3Pbv7kOdJ/MTyBlWXFCR+HAo3FXRitBqxiX1nKhXpHAZsMciLq8V6RjsNAQwdsdMFvSlVK/7XAt3FaoJoAsncM1Q9x5+3V0Ww68/eIFmb1zuUFljQJKprrX88XypNDvjYNby6vw/Pb0rwert/EnmZ+AW4OZPnTPI89ZPmVMLuayrD2cE86Z/il8b+gw3r3+1nKatmIkjn2so1d01QraTlMqVSsbxNrRFi9wrf+M7Q== schacon@mylaptop.local'"
      ],
      "id": "4d2b7f9d-b874-4477-87c7-a177c6faa648"
    },
    {
      "cell_type": "markdown",
      "metadata": {},
      "source": [
        "`(2)` 위 문자열에서 짝수번째 원소를 출력하는 코드를 작성하라.\n",
        "\n",
        "`(3)` 위 문자열에서 마지막 10개의 원소를 출력하는 코드를 작성하라.\n",
        "\n",
        "`(4)` 위 문자열을 뒤집은 문자열을 구하는 코드를 작성하라. 즉 아래를\n",
        "출력하는 코드를 작성하라.\n",
        "\n",
        "    'lacol.potpalym@nocahcs ==Q7M+frw9iFRrNxbsSVqMlTarQ10d1os2njkImtaKn1+3r3wg+b8li/Z68Ec2DryauLMVmPZ98IPTnPZO4WA+ZmnE/trewr0bP/wv6ybNYjvDNpyX88XrrpKJQjlFUuz1bmFIe/86wW0V3+5x9Q1McnsAoJoaF3tAX7/KVlSvFMdsdwQANsjR6V8qLicMsZAHpXhKn1XixqBtiRXF3oAH+RCFXWlByTM/JdOk7vbP3adc0gwSppPbkVQ5XFl9h4fVELElx7MzQivrFUhbj9WJ4HJ81we5Zy4Idh7WYTDHlzfan+lPGUSDWB/mojT9KGTLNpITmrbS71YHfrHDkpUOlkAEQAAAwIBAAAAE2cy1CazN3BAAAA asr-hss'\n",
        "\n",
        "`(5)` 위 문자열에서 대문자의 수를 count하라.\n",
        "\n",
        "**hint** .isupper() 메소드를 이용할 것."
      ],
      "id": "4d04cb1e-4ca1-4664-9706-52c214cca2b8"
    },
    {
      "cell_type": "code",
      "execution_count": 9,
      "metadata": {
        "vscode": {
          "languageId": "python"
        }
      },
      "outputs": [],
      "source": [
        "'a'.isupper()"
      ],
      "id": "f5ad493d-260d-44c8-89bc-44618391419c"
    },
    {
      "cell_type": "code",
      "execution_count": 10,
      "metadata": {
        "vscode": {
          "languageId": "python"
        }
      },
      "outputs": [],
      "source": [
        "'A'.isupper()"
      ],
      "id": "8cde9d15-3112-4cac-a5ea-9c5022daa20d"
    },
    {
      "cell_type": "code",
      "execution_count": 11,
      "metadata": {
        "vscode": {
          "languageId": "python"
        }
      },
      "outputs": [],
      "source": [
        "'='.isupper()"
      ],
      "id": "62835757-59d8-45ea-9de8-9321d3bf1f13"
    },
    {
      "cell_type": "code",
      "execution_count": 12,
      "metadata": {
        "vscode": {
          "languageId": "python"
        }
      },
      "outputs": [],
      "source": [
        "'@'.isupper()"
      ],
      "id": "769098d8-aa32-4ef8-8960-985750740dcd"
    },
    {
      "cell_type": "markdown",
      "metadata": {},
      "source": [
        "`(6)` 위 문자열에서 사용된 문자 및 특수문자의 종류는 모두 몇가지 인가?\n",
        "\n",
        "> note: 출제의도: set 자료형의 이해\n",
        "\n",
        "**note1:** 문자열 ‘AAB (**ab?**)’ 에서 사용된 문자는 ‘A’, ‘B’, ’ ‘,’@‘,\n",
        "’a’, ‘b’ 이므로 모두 6종류의 문자 및 특수문자가 사용되었다.\n",
        "\n",
        "**note2:** ’ ‘,’+‘,’-‘,’.’, ‘/’, ‘=’, ‘@’, ‘1’, ‘a’, ‘A’ 등을 모두 다른\n",
        "문자로 취급한다.\n",
        "\n",
        "------------------------------------------------------------------------\n",
        "\n",
        "`(7)` 리스트컴프리헨션을 이용하여 아래와 같은 리스트를 생성하라\n",
        "\n",
        "    ['a',\n",
        "     'aa',\n",
        "     'aaa',\n",
        "     'aaaa',\n",
        "     'aaaaa',\n",
        "     'aaaaaa',\n",
        "     'aaaaaaa',\n",
        "     'aaaaaaaa',\n",
        "     'aaaaaaaaa',\n",
        "     'aaaaaaaaaa'] <- a가 10개있음 \n",
        "\n",
        "`(8)` 길이가 1인 튜플을 만들어 자신의 학번을 저장하라. 길이가 1인 튜플을\n",
        "만들어 자신의 영문이름을 저장하라. 두 튜플을 `+` 연산자로 합쳐아래와\n",
        "같은 출력결과를 얻어라.\n",
        "\n",
        "    (202143052,'guebin')\n",
        "\n",
        "`(9)` 아래와 같은 list가 있다고 하자.\n",
        "\n",
        "``` python\n",
        "test_lst = [['g',1],['u',5],['e',2],['b',8],['i',2],['n',9]]\n",
        "```\n",
        "\n",
        "test_lst와 리스트컴프리헨션을 이용하여 아래를 출력하는 코드를 구현하라.\n",
        "\n",
        "    ['g', 'uuuuu', 'ee', 'bbbbbbbb', 'ii', 'nnnnnnnnn']\n",
        "\n",
        "`(10)` 다음은 학생들의 출석,레포트,중간고사,기말고사 점수를 입력으로\n",
        "하여 학점을 계산하는 함수이다."
      ],
      "id": "2bf78d4d-1e65-4da1-acf4-423d88d16105"
    },
    {
      "cell_type": "code",
      "execution_count": 236,
      "metadata": {
        "vscode": {
          "languageId": "python"
        }
      },
      "outputs": [],
      "source": [
        "def grade(attendance, report, mid, final): \n",
        "    if attendance<70: \n",
        "        credit = 'F' \n",
        "    else: \n",
        "        total_score = attendance * 0.1 + report * 0.2 + mid * 0.3 + final * 0.4 \n",
        "        if total_score > 80: \n",
        "            credit = 'A+' \n",
        "        else:\n",
        "            credit = 'B0' \n",
        "    return credit "
      ],
      "id": "4fa84c4d-e2e7-477c-9c0a-dbe8d967cb8b"
    },
    {
      "cell_type": "markdown",
      "metadata": {},
      "source": [
        "아래는 학생들의 학번, 출석점수, 레포트, 중간고사, 기말고사 점수가 입력된\n",
        "리스트이다."
      ],
      "id": "e3bd21a0-8af9-4c04-b46f-a74202bd8c7b"
    },
    {
      "cell_type": "code",
      "execution_count": 237,
      "metadata": {
        "vscode": {
          "languageId": "python"
        }
      },
      "outputs": [],
      "source": [
        "data = [['202212345', [100,95,25,90]],\n",
        "        ['202212346', [60,90,95,95]],\n",
        "        ['202212347', [50,90,45,35]],\n",
        "        ['202212348', [90,90,50,75]],\n",
        "        ['202212349', [100,95,85,85]],\n",
        "        ['202212350', [90,90,100,95]],\n",
        "        ['202212351', [100,95,100,95]],\n",
        "        ['202212352', [95,85,80,60]],\n",
        "        ['202212353', [100,90,60,55]],\n",
        "        ['202212354', [100,85,70,95]],\n",
        "        ['202212355', [100,95,40,100]]]"
      ],
      "id": "9ad67ca4-bfb4-4dfc-a745-d78bab9c1d15"
    },
    {
      "cell_type": "markdown",
      "metadata": {},
      "source": [
        "아래의 ???를 적절하게 완성하여 학생들의 학점을 계산하는 코드를 완성하라.\n",
        "\n",
        "``` python\n",
        "[grade(???) for _, scores in data] \n",
        "```\n",
        "\n",
        "`(11)` 길이가 0인 문자열을 선언하라.\n",
        "\n",
        "------------------------------------------------------------------------\n",
        "\n",
        "**(12)-(15)**\n",
        "\n",
        "`(12)` dir(plt)와 dir(np)를 각각 실행하라. 실행결과를 각각 a,b로\n",
        "저장하라. a,b의 type은 무엇인가?\n",
        "\n",
        "`(13)` a의 원소와 b의 원소의 수를 각각 구하라.\n",
        "\n",
        "`(14)` a와 b의 공통원소의 수를 구하라.\n",
        "\n",
        "`(15)` a와 b의 원소를 합친 리스트를 만들어라. (공통원소는 중복하여\n",
        "합치지 않는다)\n",
        "\n",
        "------------------------------------------------------------------------\n",
        "\n",
        "**(16)-(18)** 아래와 같은 dictionary가 있다."
      ],
      "id": "8c568805-5535-4285-87d7-0744fae16af4"
    },
    {
      "cell_type": "code",
      "execution_count": 25,
      "metadata": {
        "vscode": {
          "languageId": "python"
        }
      },
      "outputs": [],
      "source": [
        "test_dic = {'202212345': {'att':100,'rep':95,'mid':25,'fin':90},\n",
        "            '202212346': {'att':60,'rep':90,'mid':95,'fin':95},\n",
        "            '202212347': {'att':50,'rep':90,'mid':45,'fin':35},\n",
        "            '202212348': {'att':90,'rep':90,'mid':50,'fin':75},\n",
        "            '202212349': {'att':100,'rep':95,'mid':85,'fin':85},\n",
        "            '202212350': {'att':90,'rep':90,'mid':100,'fin':95},\n",
        "            '202212351': {'att':100,'rep':95,'mid':100,'fin':95},\n",
        "            '202212352': {'att':95,'rep':85,'mid':80,'fin':60},\n",
        "            '202212353': {'att':100,'rep':90,'mid':60,'fin':55},\n",
        "            '202212354': {'att':100,'rep':85,'mid':70,'fin':95},\n",
        "            '202212355': {'att':100,'rep':95,'mid':40,'fin':100}}"
      ],
      "id": "97090998-b778-4d6d-aab5-5e9747c02209"
    },
    {
      "cell_type": "markdown",
      "metadata": {},
      "source": [
        "여기에서 `202212345`등은 학번을, att는 출석점수, rep는 레포트점수, mid는\n",
        "중간고사점수, fin은 기말고사 점수를 의미한다.\n",
        "\n",
        "`(16)` get 메소드를 이용하여 202212353에 해당하는 학생의 성적을 아래와\n",
        "같이 리턴하라.\n",
        "\n",
        "    {'att': 100, 'rep': 90, 'mid': 60, 'fin': 55}\n",
        "\n",
        "`(17)` 202212354의 레포트 점수를 리턴하라.\n",
        "\n",
        "`(18)` 학생들의 학번을 리턴하는 코드를 작성하라.\n",
        "\n",
        "------------------------------------------------------------------------\n",
        "\n",
        "`(19)` shape이 ()인 numpy이 array를 만들어라. (즉 차원이 0인 np.array를\n",
        "만들어라)\n",
        "\n",
        "`(20)` shape이 (2,2)인 단위행렬을 만들어라.\n",
        "\n",
        "`(21)` a의 모든 원소에 1을 더하는 코드를 작성하라.\n",
        "\n",
        "``` python\n",
        "a=[1,3,2,5,-3,3,8,2,3,1] \n",
        "```\n",
        "\n",
        "`(22)` 아래와 같은 수열을 생성하라.\n",
        "\n",
        "    1,3,6,10,15,21,28,36,45, ... , 378, 406, 435\n",
        "\n",
        "**hint:** 이 수열에서 $a_n-a_{n-1}=n, ~n\\geq 2$ 이다. 즉 3-1=2, 6-3=3,\n",
        "10-6=4, …\n",
        "\n",
        "`(23)` 아래와 같은 수열을 생생성하라.\n",
        "\n",
        "    0,1,2,3,4,5,...,99 \n",
        "\n",
        "위의 수열에서 1,4,7,10,13,… 번째의 원소를 뽑아라. (첫번째 원소는 0이다)\n",
        "\n",
        "`(24)` numpy를 이용하여 아래의 역행렬을 구하라. $$\\begin{bmatrix}\n",
        "1&  0 \\\\\n",
        "0&  3\n",
        "\\end{bmatrix}$$\n",
        "\n",
        "------------------------------------------------------------------------\n",
        "\n",
        "**(25)-(30)**\n",
        "\n",
        "a,b가 아래와 같이 주어졌다고 하자."
      ],
      "id": "c8f0913b-d13f-46f2-9f56-6999e71138fa"
    },
    {
      "cell_type": "code",
      "execution_count": 60,
      "metadata": {
        "vscode": {
          "languageId": "python"
        }
      },
      "outputs": [],
      "source": [
        "a=[1]*10 \n",
        "b=[2]*10 "
      ],
      "id": "2f13b8f2-7f90-4ba3-8311-e30b9869172c"
    },
    {
      "cell_type": "markdown",
      "metadata": {},
      "source": [
        "`(25)` a,b와 np.concatenate를 이용하여 아래와 같은 배열을 만들어라.\n",
        "\n",
        "    array([1, 1, 1, 1, 1, 1, 1, 1, 1, 1, 2, 2, 2, 2, 2, 2, 2, 2, 2, 2])\n",
        "\n",
        "`(26)` a,b와 np.concatenate를 이용하여 아래와 같은 배열을 만들어라.\n",
        "\n",
        "    array([[1],\n",
        "           [1],\n",
        "           [1],\n",
        "           [1],\n",
        "           [1],\n",
        "           [1],\n",
        "           [1],\n",
        "           [1],\n",
        "           [1],\n",
        "           [1],\n",
        "           [2],\n",
        "           [2],\n",
        "           [2],\n",
        "           [2],\n",
        "           [2],\n",
        "           [2],\n",
        "           [2],\n",
        "           [2],\n",
        "           [2],\n",
        "           [2]])\n",
        "\n",
        "`(27)` a,b와 np.concatenate를 이용하여 아래와 같은 배열을 만들어라.\n",
        "\n",
        "    array([[1, 1, 1, 1, 1, 1, 1, 1, 1, 1],\n",
        "           [2, 2, 2, 2, 2, 2, 2, 2, 2, 2]]\n",
        "\n",
        "`(28)` a,b와 np.concatenate를 이용하여 아래와 같은 배열을 만들어라.\n",
        "\n",
        "    array([[1, 2],\n",
        "           [1, 2],\n",
        "           [1, 2],\n",
        "           [1, 2],\n",
        "           [1, 2],\n",
        "           [1, 2],\n",
        "           [1, 2],\n",
        "           [1, 2],\n",
        "           [1, 2],\n",
        "           [1, 2]])\n",
        "\n",
        "`(29)` a,b와 np.stack을 이용하여 아래와 같은 배열을 만들어라.\n",
        "\n",
        "    array([[1, 1, 1, 1, 1, 1, 1, 1, 1, 1],\n",
        "           [2, 2, 2, 2, 2, 2, 2, 2, 2, 2]]\n",
        "\n",
        "`(30)` a,b와 np.stack을 이용하여 아래와 같은 배열을 만들어라.\n",
        "\n",
        "    array([[1, 2],\n",
        "           [1, 2],\n",
        "           [1, 2],\n",
        "           [1, 2],\n",
        "           [1, 2],\n",
        "           [1, 2],\n",
        "           [1, 2],\n",
        "           [1, 2],\n",
        "           [1, 2],\n",
        "           [1, 2]])\n",
        "\n",
        "`(31)` 아래와 같은 배열이 있다고 하자."
      ],
      "id": "6cb55d35-885f-490e-b4b8-a4ecc1211f34"
    },
    {
      "cell_type": "code",
      "execution_count": 242,
      "metadata": {
        "vscode": {
          "languageId": "python"
        }
      },
      "outputs": [],
      "source": [
        "a=np.array([1,2,3,4,5])\n",
        "b=np.array([3,2,1,1,2])"
      ],
      "id": "3739403e-6e96-49e6-bdda-44e3eef1925c"
    },
    {
      "cell_type": "markdown",
      "metadata": {},
      "source": [
        "numpy의 `@` 연산자를 이용하여 $\\sum_{i=1}^{5}a_ib_i$를 계산하라.\n",
        "\n",
        "`(32)` 아래와 같은 배열을 생성하라.\n",
        "\n",
        "``` python\n",
        "x=np.random.randn(100)\n",
        "```\n",
        "\n",
        "numpy의 `@`연산자를 이용하여 $\\sum_{i=1}^{100}x_i^2$을 계산하라.\n",
        "\n",
        "`(33)` 아래와 같은 배열을 생성하라.\n",
        "\n",
        "``` python\n",
        "a=np.array([1/100]*100)\n",
        "x=np.random.randn(100)\n",
        "```\n",
        "\n",
        "numpy의 `@`연산자를 이용하여 $\\frac{1}{n}\\sum_{i=1}^{n}x_i$를 계산하라.\n",
        "\n",
        "`(34)` 표준정규분포에서 100개의 난수를 생성하라.\n",
        "\n",
        "`(35)` 아래와 동일한 코드를 np.random.rand()로 구현하라.\n",
        "\n",
        "``` python\n",
        "np.random.uniform(low=2,high=4,size=(5,)) \n",
        "```\n",
        "\n",
        "`(36)` 아래와 같은 배열을 선언하라.\n",
        "\n",
        "``` python\n",
        "a=np.random.randn(100) \n",
        "```\n",
        "\n",
        "np.where를 이용하여 a의 모든 음수를 0으로 바꾸는 코드를 작성하라.\n",
        "\n",
        "`(37)` 아래와 같은 배열을 선언하라.\n",
        "\n",
        "``` python\n",
        "a=np.random.randn(100) \n",
        "```\n",
        "\n",
        "위 배열의 최소값이 위치한 index를 return하라.\n",
        "\n",
        "`(38)` 아래와 같은 배열을 선언하라."
      ],
      "id": "fe1edd64-57df-4a6e-b0fe-17235b587f97"
    },
    {
      "cell_type": "code",
      "execution_count": 97,
      "metadata": {
        "vscode": {
          "languageId": "python"
        }
      },
      "outputs": [],
      "source": [
        "a=np.arange(12).reshape(3,4)\n",
        "a"
      ],
      "id": "d6dcb080-1d71-4a33-a7f1-c9707c2d5771"
    },
    {
      "cell_type": "markdown",
      "metadata": {},
      "source": [
        "차원의 수를 유지하면서 1열을 추출하는 코드를 작성하라. 즉 결과가 아래와\n",
        "같이 나오도록 하라.\n",
        "\n",
        "    array([[0],\n",
        "           [4],\n",
        "           [8]])\n",
        "\n",
        "**(39)-(40)**\n",
        "\n",
        "`(39)` 자신의 학번으로 random seed 를 설정하라. \\[20,25)의 범위에서\n",
        "100개의 정수를 랜덤으로 생성해 (10,10) shape의 배열을 만들어라.\n",
        "\n",
        "`(40)` 39의 결과에서 20,21,22 는 각각 몇개씩 있는가?\n",
        "\n",
        "# `2`. 코드구현 II\n",
        "\n",
        "------------------------------------------------------------------------\n",
        "\n",
        "**(1)-(6)** 아래의 코드를 실해하여 test_dic를 생성하라."
      ],
      "id": "a7e37229-1110-4b78-bfd1-312c88783292"
    },
    {
      "cell_type": "code",
      "execution_count": 245,
      "metadata": {
        "vscode": {
          "languageId": "python"
        }
      },
      "outputs": [],
      "source": [
        "np.random.seed(43052)\n",
        "att = np.random.choice(np.arange(10,21)*5,200)\n",
        "rep = np.random.choice(np.arange(5,21)*5,200)\n",
        "mid = np.random.choice(np.arange(0,21)*5,200)\n",
        "fin = np.random.choice(np.arange(0,21)*5,200)\n",
        "key = ['202212'+str(s) for s in np.random.choice(np.arange(300,501),200,replace=False)]\n",
        "test_dic = {key[i] : {'att':att[i], 'rep':rep[i], 'mid':mid[i], 'fin':fin[i]} for i in range(200)}\n",
        "del(att);del(rep);del(mid);del(fin);del(key)"
      ],
      "id": "3617a71a-717e-4612-8ae1-118854f405b1"
    },
    {
      "cell_type": "markdown",
      "metadata": {},
      "source": [
        "여기에서 `202212345`등은 학번을, att는 출석점수, rep는 레포트점수, mid는\n",
        "중간고사점수, fin은 기말고사 점수를 의미한다.\n",
        "\n",
        "`(1)` test_dic에서 출석점수가 70이상(70\\>=)인 학생들의 학번을 출력하는\n",
        "코드를 작성하라.\n",
        "\n",
        "`(2)` test_dic에서 출석점수가 70미만(\\<70)인 학생들의 수를 구하라.\n",
        "\n",
        "`(3)` test_dic에서 출석점수가 70이상(70\\>=)인 학생들의 중간고사 점수의\n",
        "평균을 계산하라.\n",
        "\n",
        "`(4)` test_dic에서 중간고사 점수를 출력하는 코드를 작성하라.\n",
        "\n",
        "`(5)` test_dic에서 중간고사 점수의 표준편차와 레포트점수의 표준편차를\n",
        "구하여라. 어떤것이 더 큰가?\n",
        "\n",
        "`(6)` test_dic에서 중간고사 점수가 가장 높은 사람의 학번을 출력하라.\n",
        "\n",
        "**주의:** att,rep,mid,fin,key를 실행하여 소멸시키지 않고 그대로\n",
        "이용하거나 np.random.choice()를 이용하여 재생성한 뒤 계산할 하지 말 것.\n",
        "\n",
        "-   예를들면 (5)의 경우 np.std(mid), np.std(rep) 와 같은 식으로 구현하지\n",
        "    말 것.\n",
        "\n",
        "------------------------------------------------------------------------\n",
        "\n",
        "`(7)` 성공확률이 0.45인 시행이 있다고 하자. 이 시행을 100번의 시행하였을\n",
        "경우 73번 이상 성공할 확률은 얼마인가? 시뮬레이션을 이용하여\n",
        "근사계산하라.\n",
        "\n",
        "`(8)` 성공확률이 0.45인 시행이 있다고 하자. 이 시행을 100번 시행하였을\n",
        "경우 10번이하로 실패하거나 90번이상 성공할 확률은 얼마인가? 시뮬레이션을\n",
        "이용하여 근사계산하라.\n",
        "\n",
        "`(9)` 아래와 같은 행렬을 선언하자."
      ],
      "id": "6bc26df2-6c8c-47e9-8374-39bb25fa7562"
    },
    {
      "cell_type": "code",
      "execution_count": 153,
      "metadata": {
        "vscode": {
          "languageId": "python"
        }
      },
      "outputs": [],
      "source": [
        "A=np.arange(2*1).reshape(2,1)\n",
        "B=np.arange(2*2).reshape(2,2)\n",
        "C=np.arange(2*3).reshape(2,3)\n",
        "D=np.arange(3*3).reshape(3,3)\n",
        "E=np.arange(3*2).reshape(3,2)\n",
        "F=np.arange(3*1).reshape(3,1)"
      ],
      "id": "4f0af62e-2ee3-456f-a6e9-ec4e79395a2a"
    },
    {
      "cell_type": "markdown",
      "metadata": {},
      "source": [
        "아래의 블락매트릭스를 만들어라.\n",
        "\n",
        "$\\begin{bmatrix} a_{11} & b_{11} & b_{12} & c_{11} & c_{12} & c_{13} \\\\ a_{21} & b_{21} & b_{22} & c_{21} & c_{22} & c_{23} \\\\ d_{11} & d_{12} & d_{13} & e_{11} & e_{12} & f_{11} \\\\ d_{21} & d_{22} & d_{23} & e_{21} & e_{22} & f_{21} \\\\ d_{31} & d_{32} & d_{33} & e_{31} & e_{32} & f_{31} \\end{bmatrix}$\n",
        "\n",
        "여기에서 $a_{ij}$는 매트릭스 ${\\bf A}$의 원소이다.\n",
        "\n",
        "`(10)` 표준정규분포에 10000개의 난수를 아래와 같이 생성하라."
      ],
      "id": "11c8bac7-9517-4ea8-aa98-d5c69d3f31c5"
    },
    {
      "cell_type": "code",
      "execution_count": 160,
      "metadata": {
        "vscode": {
          "languageId": "python"
        }
      },
      "outputs": [],
      "source": [
        "x=np.random.randn(10000)\n",
        "y=np.random.randn(10000)"
      ],
      "id": "2a7412c2-c068-4fe3-bca1-79afe7b3e684"
    },
    {
      "cell_type": "markdown",
      "metadata": {},
      "source": [
        "$(i,j)$ 번째 원소가 $(x_i-y_j)^2$인 (10000,10000) 매트릭스를 만들어라.\n",
        "\n",
        "------------------------------------------------------------------------\n",
        "\n",
        "**(11)-(16)**\n",
        "\n",
        "아래와 같은 매트릭스를 생성하라."
      ],
      "id": "40b868db-f155-42ec-bb8d-d28428834df4"
    },
    {
      "cell_type": "code",
      "execution_count": 174,
      "metadata": {
        "vscode": {
          "languageId": "python"
        }
      },
      "outputs": [],
      "source": [
        "np.random.seed(43052)\n",
        "a=np.random.randn(10000).reshape(100,100)\n",
        "a"
      ],
      "id": "502f7f9b-0b3b-49ee-bfb1-a7a7a6cbb6c3"
    },
    {
      "cell_type": "markdown",
      "metadata": {},
      "source": [
        "`(11)` 각 행의 합을 구하라. 즉 1행의 합, 2행의 합, … 100행의 합을\n",
        "계산하라.\n",
        "\n",
        "-   1행의합 = 0.38342049 + 1.0841745 + … + 1.18701443\n",
        "\n",
        "`(12)` `(11)`의 결과로 나온 배열의 표준편차를 구하라.\n",
        "\n",
        "`(13)` 각 열의 평균을 구하라. 즉 1열의 평균, 2열의 평균, … , 100열의\n",
        "평균을 계산하라.\n",
        "\n",
        "`(14)` `(13)`의 결과로 나온 배열의 표준편차를 구하라.\n",
        "\n",
        "`(15)` a의 원소중 a\\>0 을 만족하는 원소의 평균을 구하여라.\n",
        "\n",
        "`(16)` a의 원소중 a\\>3을 만족하는 원소의 수를 count하라.\n",
        "\n",
        "------------------------------------------------------------------------\n",
        "\n",
        "**(17)-(18)**\n",
        "\n",
        "아래와 같은 배열 a를 고려하자."
      ],
      "id": "7fc8ef6b-ca33-40bb-aa90-03dde59e7f3a"
    },
    {
      "cell_type": "code",
      "execution_count": 188,
      "metadata": {
        "vscode": {
          "languageId": "python"
        }
      },
      "outputs": [],
      "source": [
        "np.random.seed(43052)\n",
        "a=np.random.binomial(1,0.2,size=(10000,))\n",
        "a"
      ],
      "id": "8f1efaa7-4943-438d-b184-e08862280265"
    },
    {
      "cell_type": "markdown",
      "metadata": {},
      "source": [
        "`(17)` 0에서 1로 바뀌는 부분을 count하라.\n",
        "\n",
        "`(18)` 1에서 0으로 바뀌는 부분을 count하라.\n",
        "\n",
        "**\\[예시\\]** 아래의 배열에서 0에서 1로 부분은 모두 세 군데이고, 1에서\n",
        "0으로 바뀌는 부분은 모두 두 군데 이다.\n",
        "\n",
        "    0 0 0 1 0 1 0 0 0 1 1 1 \n",
        "\n",
        "------------------------------------------------------------------------\n",
        "\n",
        "**(19)-(25)**\n",
        "\n",
        "`(19)` $i=1,2,\\dots,1000$에 대하여 아래를 각각 구하라.\n",
        "\n",
        "$$x_i= \\cos(t_i)+\\cos(3t_i)+\\cos(5t_i)$$\n",
        "\n",
        "$$y_i= \\sin(t_i)+\\sin(4t_i)$$\n",
        "\n",
        "여기에서 $t_i=\\frac{2\\pi i }{1000}$ 이다.\n",
        "\n",
        "`(20)` $(x_i,y_i)$를 그려라."
      ],
      "id": "20cc8cbf-ad18-438e-9954-10360c0de30c"
    },
    {
      "cell_type": "code",
      "execution_count": 197,
      "metadata": {
        "vscode": {
          "languageId": "python"
        }
      },
      "outputs": [
        {
          "output_type": "display_data",
          "metadata": {},
          "data": {
            "image/png": "[encoded data removed]"
          }
        }
      ],
      "source": [
        "# 시각화예시"
      ],
      "id": "65370c60-3150-47eb-b622-c30ab68ffd85"
    },
    {
      "cell_type": "markdown",
      "metadata": {},
      "source": [
        "`(21)` 아래와 같은 변환을 통하여 $(w_i,z_i)$를 얻어라.\n",
        "\n",
        "$$w_i= \\frac{1}{\\sqrt{2}}x_i - \\frac{1}{\\sqrt{2}}y_i$$\n",
        "\n",
        "$$z_i= \\frac{1}{\\sqrt{2}}x_i + \\frac{1}{\\sqrt{2}}y_i$$\n",
        "\n",
        "$(w_i,z_i)$를 시각화 하라."
      ],
      "id": "4d9bdb15-210a-48cf-a0b6-938b6c582324"
    },
    {
      "cell_type": "code",
      "execution_count": 198,
      "metadata": {
        "vscode": {
          "languageId": "python"
        }
      },
      "outputs": [
        {
          "output_type": "display_data",
          "metadata": {},
          "data": {
            "image/png": "[encoded data removed]"
          }
        }
      ],
      "source": [
        "# 시각화예시"
      ],
      "id": "aa3adff3-5c0c-4961-8d1d-2481af5b8a2d"
    },
    {
      "cell_type": "markdown",
      "metadata": {},
      "source": [
        "`(22)` 아래와 같은 매트릭스를 만들어라.\n",
        "\n",
        "$${\\bf A}=\\begin{bmatrix}\n",
        "x_1 & y_1 \\\\\n",
        "x_2 & y_2 \\\\ \n",
        "\\dots & \\dots \\\\ \n",
        "x_n & y_n \n",
        "\\end{bmatrix}$$\n",
        "\n",
        "`(23)` ${\\bf A} {\\bf B}$의 첫번째 열과 두번째 열을 시각화한 결과가\n",
        "$(w_i,z_i)$과 동일하도록 적당한 (2,2) 매트릭스 ${\\bf B}$를 만들어라."
      ],
      "id": "3bc84085-83a4-49f8-9aed-a33ae8fb2737"
    },
    {
      "cell_type": "code",
      "execution_count": 226,
      "metadata": {
        "vscode": {
          "languageId": "python"
        }
      },
      "outputs": [
        {
          "output_type": "display_data",
          "metadata": {},
          "data": {
            "image/png": "[encoded data removed]"
          }
        }
      ],
      "source": [
        "# 시각화예시"
      ],
      "id": "5fcc1b5b-25f8-4ea6-bdfc-f6d686aa10fa"
    },
    {
      "cell_type": "markdown",
      "metadata": {},
      "source": [
        "`(24)` ${\\bf A}{\\bf B}^2$의 첫번째 열과 두번째 열을 시각화 하라."
      ],
      "id": "43763fba-998d-4fef-b83d-111f13e4eec0"
    },
    {
      "cell_type": "code",
      "execution_count": 227,
      "metadata": {
        "vscode": {
          "languageId": "python"
        }
      },
      "outputs": [
        {
          "output_type": "display_data",
          "metadata": {},
          "data": {
            "image/png": "[encoded data removed]"
          }
        }
      ],
      "source": [
        "# 시각화예시"
      ],
      "id": "b4fd19b9-27d1-4484-9af1-59c99ac73f9f"
    },
    {
      "cell_type": "markdown",
      "metadata": {},
      "source": [
        "`(25)` $n=3,4,5,6,\\dots$ 에 대하여 ${\\bf A}{\\bf B}^n$을 반복적으로\n",
        "그려보라. $(x_i,y_i)$의 시각화 결과와 동일한 가장 작은 $n$은 얼마인가?\n",
        "$(w_i,z_i)$의 시각화 결과와 동일한 가장 작은 $n$은 얼마인가?"
      ],
      "id": "b6bb788b-7f52-4b70-985e-5b0707829b7e"
    }
  ],
  "nbformat": 4,
  "nbformat_minor": 5,
  "metadata": {
    "kernelspec": {
      "name": "python3",
      "display_name": "Python 3",
      "language": "python"
    },
    "language_info": {
      "name": "python",
      "codemirror_mode": {
        "name": "ipython",
        "version": "3"
      },
      "file_extension": ".py",
      "mimetype": "text/x-python",
      "nbconvert_exporter": "python",
      "pygments_lexer": "ipython3",
      "version": "3.8.16"
    }
  }
}