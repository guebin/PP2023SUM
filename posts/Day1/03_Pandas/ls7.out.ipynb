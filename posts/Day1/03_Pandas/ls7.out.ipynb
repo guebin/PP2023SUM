{
  "cells": [
    {
      "cell_type": "markdown",
      "metadata": {},
      "source": [
        "# Lesson 08: pandas 짧게정리\n",
        "\n",
        "최규빈  \n",
        "2023-01-30\n",
        "\n",
        "<a href=\"https://colab.research.google.com/github/guebin/IP2023WIN/blob/main/posts/Day1/03_Pandas/2023-01-30-Lesson8.ipynb\"><img src=\"https://colab.research.google.com/assets/colab-badge.svg\" style=\"text-align: left\"></a>\n",
        "\n",
        "# ref\n",
        "\n",
        "<https://guebin.github.io/IP2022/2022/05/04/(10주차)-5월6일.html>\n",
        "\n",
        "# import"
      ],
      "id": "cf48df86-13b0-4a81-9ba2-2248c8b50644"
    },
    {
      "cell_type": "code",
      "execution_count": 2,
      "metadata": {
        "vscode": {
          "languageId": "python"
        }
      },
      "outputs": [],
      "source": [
        "import numpy as np\n",
        "import pandas as pd"
      ],
      "id": "cee483b3-22f6-41bf-a279-8592f6b74b29"
    },
    {
      "cell_type": "markdown",
      "metadata": {},
      "source": [
        "# 부분 데이터 꺼내기\n",
        "\n",
        "`-` 판다스를 왜 써야 할까?\n",
        "\n",
        "## 기본 인덱싱\n",
        "\n",
        "`-` 예제1: 기본인덱싱"
      ],
      "id": "0b32b17a-b21c-46b3-9230-be1543a4b5f4"
    },
    {
      "cell_type": "code",
      "execution_count": 3,
      "metadata": {
        "vscode": {
          "languageId": "python"
        }
      },
      "outputs": [],
      "source": [
        "a='asdf'\n",
        "a[2]"
      ],
      "id": "3518456b-d04b-40cb-b3bd-220d716175ef"
    },
    {
      "cell_type": "code",
      "execution_count": 4,
      "metadata": {
        "vscode": {
          "languageId": "python"
        }
      },
      "outputs": [],
      "source": [
        "a[-1]"
      ],
      "id": "25bbe78c-02ab-4cd7-85f0-08161fde4731"
    },
    {
      "cell_type": "markdown",
      "metadata": {},
      "source": [
        "`-` 예제2: 슬라이싱"
      ],
      "id": "f49cef60-1b60-4545-9e1b-987d7140a87c"
    },
    {
      "cell_type": "code",
      "execution_count": 5,
      "metadata": {
        "vscode": {
          "languageId": "python"
        }
      },
      "outputs": [],
      "source": [
        "a='asdf'\n",
        "a[1:3]"
      ],
      "id": "08f8fbd4-017b-422b-8391-1709c1b1e073"
    },
    {
      "cell_type": "code",
      "execution_count": 6,
      "metadata": {
        "vscode": {
          "languageId": "python"
        }
      },
      "outputs": [],
      "source": [
        "a[-2:]"
      ],
      "id": "8e860e5e-5ad6-4ffa-8e21-b5bf323ca0c9"
    },
    {
      "cell_type": "markdown",
      "metadata": {},
      "source": [
        "`-` 예제3: 스트라이딩"
      ],
      "id": "4bf24d4d-a8ee-4866-8c70-a1e923d23616"
    },
    {
      "cell_type": "code",
      "execution_count": 7,
      "metadata": {
        "vscode": {
          "languageId": "python"
        }
      },
      "outputs": [],
      "source": [
        "a='asdfg'\n",
        "a[::2]"
      ],
      "id": "fa17c47c-c8d0-46a5-bbc6-a535f3b271ec"
    },
    {
      "cell_type": "markdown",
      "metadata": {},
      "source": [
        "`-` 예제4: 불가능한것"
      ],
      "id": "94013fa9-5172-4a84-8445-99818f123886"
    },
    {
      "cell_type": "code",
      "execution_count": 9,
      "metadata": {
        "vscode": {
          "languageId": "python"
        }
      },
      "outputs": [],
      "source": [
        "a='asdf'\n",
        "a[[1,2]] # 정수인덱스를 리스트화 시켜서 인덱싱하는 것은 불가능 "
      ],
      "id": "14f5a75e-a7dd-4674-ae1b-86acbb237440"
    },
    {
      "cell_type": "code",
      "execution_count": 10,
      "metadata": {
        "vscode": {
          "languageId": "python"
        }
      },
      "outputs": [],
      "source": [
        "a='asdf'\n",
        "a[[True,True,False,False]] "
      ],
      "id": "6f0d3079-cd64-482f-9c7b-7ccfdac59be3"
    },
    {
      "cell_type": "markdown",
      "metadata": {},
      "source": [
        "## 팬시 인덱싱\n",
        "\n",
        "`-` 예제1: 인덱스의 리스트 (혹은 ndarray)를 전달"
      ],
      "id": "facb8f83-3292-447d-b286-bf3091a38769"
    },
    {
      "cell_type": "code",
      "execution_count": 17,
      "metadata": {
        "vscode": {
          "languageId": "python"
        }
      },
      "outputs": [],
      "source": [
        "a=np.arange(55,61)\n",
        "a"
      ],
      "id": "76076016-b2d7-4b57-ad07-c73d3d2cf3ed"
    },
    {
      "cell_type": "code",
      "execution_count": 20,
      "metadata": {
        "vscode": {
          "languageId": "python"
        }
      },
      "outputs": [],
      "source": [
        "a[[1,2,-1]]"
      ],
      "id": "fa7a8717-eab5-4500-a2f5-d017c168afed"
    },
    {
      "cell_type": "code",
      "execution_count": 23,
      "metadata": {
        "vscode": {
          "languageId": "python"
        }
      },
      "outputs": [],
      "source": [
        "a[np.array([1,2,-1])]"
      ],
      "id": "2ab8d646-e41c-4ece-b547-24601ba9fff7"
    },
    {
      "cell_type": "markdown",
      "metadata": {},
      "source": [
        "`-` 예제2: bool로 이루어진 리스트 (혹은 ndarray)를 전달"
      ],
      "id": "62292e04-94de-4737-b1f1-09f552cd06d9"
    },
    {
      "cell_type": "code",
      "execution_count": 21,
      "metadata": {
        "vscode": {
          "languageId": "python"
        }
      },
      "outputs": [],
      "source": [
        "a=np.arange(55,61)\n",
        "a"
      ],
      "id": "d3a6c155-18a2-4172-9122-a58257ff5949"
    },
    {
      "cell_type": "code",
      "execution_count": 22,
      "metadata": {
        "vscode": {
          "languageId": "python"
        }
      },
      "outputs": [],
      "source": [
        "a[[True,True,False,False,False,False]]"
      ],
      "id": "2de9474f-2776-4320-a8a7-c26a67850cf9"
    },
    {
      "cell_type": "code",
      "execution_count": 24,
      "metadata": {
        "vscode": {
          "languageId": "python"
        }
      },
      "outputs": [],
      "source": [
        "a[np.array([True,True,False,False,False,False])]"
      ],
      "id": "c3c2312b-2d50-4954-9d30-761c970c28c4"
    },
    {
      "cell_type": "code",
      "execution_count": 27,
      "metadata": {
        "vscode": {
          "languageId": "python"
        }
      },
      "outputs": [],
      "source": [
        "a[a<58]"
      ],
      "id": "18ef1938-2d2b-4cca-a778-b4378198172e"
    },
    {
      "cell_type": "markdown",
      "metadata": {},
      "source": [
        "## 2차원자료형의 인덱싱\n",
        "\n",
        "`-` 예제1"
      ],
      "id": "b3b6663e-88d8-4cff-b84e-772eed05405d"
    },
    {
      "cell_type": "code",
      "execution_count": 28,
      "metadata": {
        "vscode": {
          "languageId": "python"
        }
      },
      "outputs": [],
      "source": [
        "a = np.arange(4*3).reshape(4,3)\n",
        "a"
      ],
      "id": "2cffbae4-5368-4662-b851-c4dcd69461f7"
    },
    {
      "cell_type": "code",
      "execution_count": 29,
      "metadata": {
        "vscode": {
          "languageId": "python"
        }
      },
      "outputs": [],
      "source": [
        "a[0:2,1]"
      ],
      "id": "80e3e528-9d00-4028-919e-43e41d24fe7f"
    },
    {
      "cell_type": "markdown",
      "metadata": {},
      "source": [
        "`-` 예제2: 차원을 유지하면서 인덱싱을 하고 싶으면?"
      ],
      "id": "29701d8d-eb35-410e-b4f4-40f075d20cbd"
    },
    {
      "cell_type": "code",
      "execution_count": 30,
      "metadata": {
        "vscode": {
          "languageId": "python"
        }
      },
      "outputs": [],
      "source": [
        "a = np.arange(4*3).reshape(4,3)\n",
        "a[0:2,[1]]"
      ],
      "id": "77e80673-e8c8-4d1a-bfbd-76d498c54fd6"
    },
    {
      "cell_type": "markdown",
      "metadata": {},
      "source": [
        "## Hash\n",
        "\n",
        "`-` 예제1: (key,value)"
      ],
      "id": "81239259-cf4a-4b2c-924d-7f88fa9a7e0a"
    },
    {
      "cell_type": "code",
      "execution_count": 31,
      "metadata": {
        "vscode": {
          "languageId": "python"
        }
      },
      "outputs": [],
      "source": [
        "d={'att':65, 'rep':45, 'mid':30, 'fin':100}\n",
        "d"
      ],
      "id": "7f056d27-82c8-4860-a51b-2a172ab6ea14"
    },
    {
      "cell_type": "code",
      "execution_count": 33,
      "metadata": {
        "vscode": {
          "languageId": "python"
        }
      },
      "outputs": [],
      "source": [
        "d['att'] # key를 넣으면 value가 리턴"
      ],
      "id": "959129cb-ccda-4849-9bb9-e5159a22d037"
    },
    {
      "cell_type": "markdown",
      "metadata": {},
      "source": [
        "`-` 예제2: numpy와 비교"
      ],
      "id": "13386f3b-88ac-449b-8b54-187ce413185a"
    },
    {
      "cell_type": "code",
      "execution_count": 44,
      "metadata": {
        "vscode": {
          "languageId": "python"
        }
      },
      "outputs": [],
      "source": [
        "np.random.seed(43052)\n",
        "att = np.random.choice(np.arange(10,21)*5,200)\n",
        "rep = np.random.choice(np.arange(5,21)*5,200)\n",
        "mid = np.random.choice(np.arange(0,21)*5,200)\n",
        "fin = np.random.choice(np.arange(0,21)*5,200)\n",
        "key = ['202212'+str(s) for s in np.random.choice(np.arange(300,501),200,replace=False)]\n",
        "test_dic = {key[i] : {'att':att[i], 'rep':rep[i], 'mid':mid[i], 'fin':fin[i]} for i in range(200)}\n",
        "test_ndarray = np.array([key,att,rep,mid,fin],dtype=np.int64).T\n",
        "del(att);del(rep);del(mid);del(fin);del(key)"
      ],
      "id": "fb8b120f-6341-4d03-980e-69aa9f31eb70"
    },
    {
      "cell_type": "markdown",
      "metadata": {},
      "source": [
        "학번 ’202212460’에 해당하는 학생의 출석점수를 알고 싶다면?\n",
        "\n",
        "(풀이1)"
      ],
      "id": "e95a49e2-b87b-45de-886a-186c860a4890"
    },
    {
      "cell_type": "code",
      "execution_count": 45,
      "metadata": {
        "vscode": {
          "languageId": "python"
        }
      },
      "outputs": [],
      "source": [
        "test_dic['202212460']['att']"
      ],
      "id": "35146e3a-ca1a-45f1-be4c-98e197dbdaa4"
    },
    {
      "cell_type": "markdown",
      "metadata": {},
      "source": [
        "(풀이2)"
      ],
      "id": "d5129705-b806-427a-93d5-8b8faf66fc9c"
    },
    {
      "cell_type": "code",
      "execution_count": 53,
      "metadata": {
        "vscode": {
          "languageId": "python"
        }
      },
      "outputs": [],
      "source": [
        "test_ndarray[test_ndarray[:,0] == 202212460, 1] ## 이게 무슨코드야 도데체!"
      ],
      "id": "a28045cf-e2aa-4751-9cc7-f19267ca0fa9"
    },
    {
      "cell_type": "markdown",
      "metadata": {},
      "source": [
        "**(풀이2)가 (풀이1)에 비하여 불편한 점** - test_ndarray의 첫칼럼은\n",
        "student id 이고 두번째 칼럼은 att라는 사실을 암기하고 있어야 한다. -\n",
        "student id가 아니고 만약에 학생이름을 써서 데이터를 정리한다면 모든\n",
        "자료형은 문자형이 되어야 한다. - 작성한 코드의 가독성이 없다. (위치로\n",
        "접근하기 때문)\n",
        "\n",
        "`-` 요약: hash 스타일로 정보를 추출하는 것이 유용할 때가 있다. 그리고\n",
        "보통 hash 스타일로 정보를 뽑는 것이 유리하다. (사실 numpy는 정보추출을\n",
        "위해 개발된 자료형이 아니라 행렬 및 벡터의 수학연산을 지원하기 위해\n",
        "개발된 자료형이다)\n",
        "\n",
        "`-` 소망: 정보를 추출할때는 hash 스타일도 유용하다는 것은 이해함 $\\to$\n",
        "하지만 나는 가끔 넘파이스타일로 정보를 뽑고 싶은걸? 그리고 딕셔너리\n",
        "형태가 아니고 엑셀처럼(행렬처럼) 데이터를 보고 싶은걸? $\\to$ pandas의\n",
        "개발\n",
        "\n",
        "# pandas 개발동기\n",
        "\n",
        "## 엑셀처럼\n",
        "\n",
        "***엑셀처럼 데이터를 테이블 형태로 정리하고 싶다!!***"
      ],
      "id": "0b4f36a4-c9eb-4dc1-8add-0c6c7365a178"
    },
    {
      "cell_type": "code",
      "execution_count": 173,
      "metadata": {
        "vscode": {
          "languageId": "python"
        }
      },
      "outputs": [],
      "source": [
        "np.random.seed(43052)\n",
        "att = np.random.choice(np.arange(10,21)*5,20)\n",
        "rep = np.random.choice(np.arange(5,21)*5,20)\n",
        "mid = np.random.choice(np.arange(0,21)*5,20)\n",
        "fin = np.random.choice(np.arange(0,21)*5,20)\n",
        "key = ['202212'+str(s) for s in np.random.choice(np.arange(300,501),20,replace=False)]\n",
        "test_dic = {key[i] : {'att':att[i], 'rep':rep[i], 'mid':mid[i], 'fin':fin[i]} for i in range(20)}"
      ],
      "id": "9954d1b7-00c2-4b39-9de8-7db4818b242e"
    },
    {
      "cell_type": "code",
      "execution_count": 174,
      "metadata": {
        "vscode": {
          "languageId": "python"
        }
      },
      "outputs": [],
      "source": [
        "test_dic"
      ],
      "id": "a8c9b284-7d07-464e-9073-68fa3a45e86a"
    },
    {
      "cell_type": "markdown",
      "metadata": {},
      "source": [
        "-   테이블형태로 보고 싶다.\n",
        "\n",
        "(방법1) – 행렬이기는 하지만 방법 2,3,4,5 에 비하여 우리가 원하는 만큼\n",
        "가독성을 주는 형태는 아님.."
      ],
      "id": "3ced1fc1-97bd-4746-bc64-fa6837d681e4"
    },
    {
      "cell_type": "code",
      "execution_count": 175,
      "metadata": {
        "vscode": {
          "languageId": "python"
        }
      },
      "outputs": [],
      "source": [
        "test_ndarray = np.array([key,att,rep,mid,fin],dtype=np.int64).T\n",
        "test_ndarray"
      ],
      "id": "c04215e8-850d-430b-a4f8-47825b587612"
    },
    {
      "cell_type": "markdown",
      "metadata": {},
      "source": [
        "(방법2)"
      ],
      "id": "3cb41c59-f2d1-4453-b70f-05c7749933b8"
    },
    {
      "cell_type": "code",
      "execution_count": 176,
      "metadata": {
        "vscode": {
          "languageId": "python"
        }
      },
      "outputs": [],
      "source": [
        "pd.DataFrame(test_dic).T"
      ],
      "id": "f4e77cca-fd9e-45e3-85d6-2cb31ef544b4"
    },
    {
      "cell_type": "markdown",
      "metadata": {},
      "source": [
        "(방법3)"
      ],
      "id": "7333b8e2-cb28-43d7-8354-de8b4220079a"
    },
    {
      "cell_type": "code",
      "execution_count": 177,
      "metadata": {
        "vscode": {
          "languageId": "python"
        }
      },
      "outputs": [],
      "source": [
        "test_dic2 = {'att':{key[i]:att[i] for i in range(20)}, \n",
        "             'rep':{key[i]:rep[i] for i in range(20)},\n",
        "             'mid':{key[i]:mid[i] for i in range(20)},\n",
        "             'fin':{key[i]:fin[i] for i in range(20)}}"
      ],
      "id": "336c5ae3-ddbe-4459-8542-01c405455f13"
    },
    {
      "cell_type": "code",
      "execution_count": 178,
      "metadata": {
        "vscode": {
          "languageId": "python"
        }
      },
      "outputs": [],
      "source": [
        "pd.DataFrame(test_dic2)"
      ],
      "id": "8d1ca08f-3733-49b9-8fc7-099325fb4ee5"
    },
    {
      "cell_type": "markdown",
      "metadata": {},
      "source": [
        "(방법4)"
      ],
      "id": "04792f85-3517-42c7-8ecf-666642cf7826"
    },
    {
      "cell_type": "code",
      "execution_count": 179,
      "metadata": {
        "vscode": {
          "languageId": "python"
        }
      },
      "outputs": [],
      "source": [
        "df = pd.DataFrame({'att':att, 'rep':rep, 'mid':mid, 'fin':fin},index=key)\n",
        "df"
      ],
      "id": "4a2c11cc-1cba-473f-a19a-6cc4e88c6d05"
    },
    {
      "cell_type": "markdown",
      "metadata": {},
      "source": [
        "(방법5)"
      ],
      "id": "94ef547c-1b7d-46d7-b06a-a31ed4660406"
    },
    {
      "cell_type": "code",
      "execution_count": 180,
      "metadata": {
        "vscode": {
          "languageId": "python"
        }
      },
      "outputs": [],
      "source": [
        "df = pd.DataFrame({'att':att, 'rep':rep, 'mid':mid, 'fin':fin})\n",
        "df"
      ],
      "id": "afebbb23-b401-453e-8458-1bed25895207"
    },
    {
      "cell_type": "code",
      "execution_count": 181,
      "metadata": {
        "vscode": {
          "languageId": "python"
        }
      },
      "outputs": [],
      "source": [
        "df=df.set_index([key])\n",
        "df"
      ],
      "id": "dbc9916c-0c6f-427e-9c96-8f1d52ecb97d"
    },
    {
      "cell_type": "markdown",
      "metadata": {},
      "source": [
        "## 딕셔너리처럼\n",
        "\n",
        "***해싱으로 원하는 정보를 뽑으면 좋겠다!!(마치 딕셔너리처럼)***\n",
        "\n",
        "`-` 예제1: 출석점수를 출력"
      ],
      "id": "ea1b7676-cceb-41c6-9a6b-fe90825bc183"
    },
    {
      "cell_type": "code",
      "execution_count": 182,
      "metadata": {
        "vscode": {
          "languageId": "python"
        }
      },
      "outputs": [],
      "source": [
        "test_dic2['att']"
      ],
      "id": "8234415a-12c7-41d4-b48b-c0e2c7fe7498"
    },
    {
      "cell_type": "code",
      "execution_count": 183,
      "metadata": {
        "vscode": {
          "languageId": "python"
        }
      },
      "outputs": [],
      "source": [
        "df['att']"
      ],
      "id": "9f5f3781-be03-4d27-beea-47ffdadeb06f"
    },
    {
      "cell_type": "markdown",
      "metadata": {},
      "source": [
        "`-` 예제2: 학번 202212380’의 출석점수 출력"
      ],
      "id": "70322411-7122-47c4-b4fa-cc32a22b1e44"
    },
    {
      "cell_type": "code",
      "execution_count": 184,
      "metadata": {
        "vscode": {
          "languageId": "python"
        }
      },
      "outputs": [],
      "source": [
        "test_dic2['att']['202212380']"
      ],
      "id": "1587fdc7-6329-430a-9128-600286dd69fb"
    },
    {
      "cell_type": "code",
      "execution_count": 185,
      "metadata": {
        "vscode": {
          "languageId": "python"
        }
      },
      "outputs": [],
      "source": [
        "df['att']['202212380']"
      ],
      "id": "d86a5656-e0e1-4f28-8417-4f17d4097319"
    },
    {
      "cell_type": "markdown",
      "metadata": {},
      "source": [
        "## 리스트(or넘파이)처럼\n",
        "\n",
        "***인덱싱으로 정보를 뽑는 기능도 지원을 하면 좋겠다 (마치 리스트나\n",
        "넘파이처럼)***\n",
        "\n",
        "`-` 예제1: 첫번째 학생의 기말고사 성적을 출력하고 싶다."
      ],
      "id": "a14ba37b-90bd-4795-8252-88095c333f7f"
    },
    {
      "cell_type": "code",
      "execution_count": 186,
      "metadata": {
        "vscode": {
          "languageId": "python"
        }
      },
      "outputs": [],
      "source": [
        "test_ndarray[0,-1]"
      ],
      "id": "40467e69-2952-41fc-bfa9-f1586af57c77"
    },
    {
      "cell_type": "code",
      "execution_count": 199,
      "metadata": {
        "vscode": {
          "languageId": "python"
        }
      },
      "outputs": [],
      "source": [
        "df.iloc[0,-1]"
      ],
      "id": "173c3fc7-f088-4d2c-af21-233d281590b4"
    },
    {
      "cell_type": "markdown",
      "metadata": {},
      "source": [
        "-   벼락치기: df에서 iloc이라는 특수기능을 이용하면 넘파이 인덱싱처럼\n",
        "    원소출력이 가능하다.\n",
        "\n",
        "`-` 예제2: 홀수번째 학생의 점수를 뽑고 싶다."
      ],
      "id": "8eb682cf-b76c-4bb3-b75b-7b241e881d0c"
    },
    {
      "cell_type": "code",
      "execution_count": 188,
      "metadata": {
        "vscode": {
          "languageId": "python"
        }
      },
      "outputs": [],
      "source": [
        "test_ndarray[::2]"
      ],
      "id": "0d446a90-d9a3-4822-b6df-87a1cd6b895c"
    },
    {
      "cell_type": "code",
      "execution_count": 202,
      "metadata": {
        "vscode": {
          "languageId": "python"
        }
      },
      "outputs": [],
      "source": [
        "df.iloc[::2]"
      ],
      "id": "5b011fd7-f734-4e22-8975-ac32f36645c0"
    },
    {
      "cell_type": "markdown",
      "metadata": {},
      "source": [
        "`-` 예제3: 맨 끝에서 3명의 점수를 출력하고 싶다."
      ],
      "id": "bb332349-9aa9-4bc7-a4e8-911c82cecae7"
    },
    {
      "cell_type": "code",
      "execution_count": 113,
      "metadata": {
        "vscode": {
          "languageId": "python"
        }
      },
      "outputs": [],
      "source": [
        "test_ndarray[-3:]"
      ],
      "id": "886cd85a-a6bd-4be3-a430-db94d6fe4736"
    },
    {
      "cell_type": "code",
      "execution_count": 114,
      "metadata": {
        "vscode": {
          "languageId": "python"
        }
      },
      "outputs": [],
      "source": [
        "df.iloc[-3:]"
      ],
      "id": "d6a7b2e0-2cb8-4592-9649-db7508367198"
    },
    {
      "cell_type": "code",
      "execution_count": 191,
      "metadata": {
        "vscode": {
          "languageId": "python"
        }
      },
      "outputs": [],
      "source": [
        "df[-3:]"
      ],
      "id": "e88a5e2d-e490-4230-878f-aed76feec9f2"
    },
    {
      "cell_type": "markdown",
      "metadata": {},
      "source": [
        "`-` 예제4: 맨 끝에서 3명의 점수중 마지막 2개의 칼럼만 출력하고 싶다."
      ],
      "id": "ea537115-4d92-498a-ac67-fbd0d91aaa2b"
    },
    {
      "cell_type": "code",
      "execution_count": 193,
      "metadata": {
        "vscode": {
          "languageId": "python"
        }
      },
      "outputs": [],
      "source": [
        "test_ndarray[-3:,-2:]"
      ],
      "id": "c7b9b8d8-0836-4515-b80d-35b1273fda88"
    },
    {
      "cell_type": "code",
      "execution_count": 194,
      "metadata": {
        "vscode": {
          "languageId": "python"
        }
      },
      "outputs": [],
      "source": [
        "df.iloc[-3:,-2:]"
      ],
      "id": "c8ae95e5-02aa-4ab5-a9a0-85e7065de4eb"
    },
    {
      "cell_type": "markdown",
      "metadata": {},
      "source": [
        "## 다 되는거?\n",
        "\n",
        "***궁극: 해싱과 인덱싱을 모두 지원하는 아주 우수한 자료형을 만들고\n",
        "싶음***\n",
        "\n",
        "`-` 예제1: 중간고사 점수가 20점 이상이면서 동시에 출석점수가 60점미만인\n",
        "학생들의 기말고사 점수를 출력\n",
        "\n",
        "(방법1) 데이터베이스 스타일"
      ],
      "id": "e63793d8-f169-4920-a527-cf1a1ef312fd"
    },
    {
      "cell_type": "code",
      "execution_count": 117,
      "metadata": {
        "vscode": {
          "languageId": "python"
        }
      },
      "outputs": [],
      "source": [
        "df.query(\"mid >= 20 and att <60\")"
      ],
      "id": "a431f764-7f6a-4638-af8c-160dadddb889"
    },
    {
      "cell_type": "code",
      "execution_count": 118,
      "metadata": {
        "vscode": {
          "languageId": "python"
        }
      },
      "outputs": [],
      "source": [
        "df.query(\"mid >= 20 and att <60\")['fin']"
      ],
      "id": "df6b5337-9cdd-45b8-a5e4-ca1c2b4b624a"
    },
    {
      "cell_type": "markdown",
      "metadata": {},
      "source": [
        "(방법2) 넘파이 스타일이라면?"
      ],
      "id": "f213f3f1-629a-47ee-9c6d-eff5ba2e382b"
    },
    {
      "cell_type": "code",
      "execution_count": 123,
      "metadata": {
        "vscode": {
          "languageId": "python"
        }
      },
      "outputs": [],
      "source": [
        "test_ndarray"
      ],
      "id": "cd063f49-390b-4447-9eb3-9eef29d95786"
    },
    {
      "cell_type": "code",
      "execution_count": 124,
      "metadata": {
        "vscode": {
          "languageId": "python"
        }
      },
      "outputs": [],
      "source": [
        "test_ndarray[:,3] >= 20  ## 중간고사가 20점이상"
      ],
      "id": "b651a930-2515-4d64-995b-bb1602910001"
    },
    {
      "cell_type": "code",
      "execution_count": 125,
      "metadata": {
        "vscode": {
          "languageId": "python"
        }
      },
      "outputs": [],
      "source": [
        "test_ndarray[:,1] < 60  ## 출석이 60미만"
      ],
      "id": "5a580b31-a8ec-4aa8-b757-69577a8aff6d"
    },
    {
      "cell_type": "code",
      "execution_count": 128,
      "metadata": {
        "vscode": {
          "languageId": "python"
        }
      },
      "outputs": [],
      "source": [
        "(test_ndarray[:,3] >= 20) & (test_ndarray[:,1] < 60)"
      ],
      "id": "424b4086-a6dd-427c-8f49-5d4dd0164351"
    },
    {
      "cell_type": "markdown",
      "metadata": {},
      "source": [
        "> note: test_ndarray\\[:,3\\] \\>= 20 & test_ndarray\\[:,1\\] \\< 60 와 같이\n",
        "> 하면 에러가 난다. 조심하자!"
      ],
      "id": "9e0dde44-e6ae-463c-8654-d4bc6fef0ca6"
    },
    {
      "cell_type": "code",
      "execution_count": 132,
      "metadata": {
        "vscode": {
          "languageId": "python"
        }
      },
      "outputs": [],
      "source": [
        "test_ndarray[(test_ndarray[:,3] >= 20) & (test_ndarray[:,1] < 60),-1] # 이게 무슨코드야"
      ],
      "id": "84b19f97-aec3-469f-938c-73bd2c746e71"
    },
    {
      "cell_type": "markdown",
      "metadata": {},
      "source": [
        "-   구현난이도 어려움, 가독성 꽝\n",
        "\n",
        "`-` 예제2: ’중간고사점수\\<기말고사점수’인 학생들의 출석점수 평균을\n",
        "구하자."
      ],
      "id": "99673237-3b71-4eae-9781-43544bfdfa3d"
    },
    {
      "cell_type": "code",
      "execution_count": 135,
      "metadata": {
        "vscode": {
          "languageId": "python"
        }
      },
      "outputs": [],
      "source": [
        "df.query('mid<fin')['att'].mean()"
      ],
      "id": "7a0210b3-228a-4031-b04d-2c3cabbe3c46"
    },
    {
      "cell_type": "markdown",
      "metadata": {},
      "source": [
        "# 판다스 공부 1단계\n",
        "\n",
        "## 데이터프레임 선언\n",
        "\n",
        "`-` 방법1: dictionary에서 만든다."
      ],
      "id": "a42f11ad-0b4f-4a71-be65-257e53d19871"
    },
    {
      "cell_type": "code",
      "execution_count": 137,
      "metadata": {
        "vscode": {
          "languageId": "python"
        }
      },
      "outputs": [],
      "source": [
        "pd.DataFrame({'att':[30,40,50],'mid':[50,60,70]})"
      ],
      "id": "d1143425-5f9f-4f13-bf09-645935793e98"
    },
    {
      "cell_type": "code",
      "execution_count": 138,
      "metadata": {
        "vscode": {
          "languageId": "python"
        }
      },
      "outputs": [],
      "source": [
        "pd.DataFrame({'att':(30,40,50),'mid':(50,60,70)})"
      ],
      "id": "16241bde-8aa4-41c4-9124-a9cd336334ed"
    },
    {
      "cell_type": "code",
      "execution_count": 139,
      "metadata": {
        "vscode": {
          "languageId": "python"
        }
      },
      "outputs": [],
      "source": [
        "pd.DataFrame({'att':np.array([30,40,50]),'mid':np.array([50,60,70])})"
      ],
      "id": "2c19ce20-cbb6-4c39-8d24-7f0ff2327928"
    },
    {
      "cell_type": "markdown",
      "metadata": {},
      "source": [
        "`-` 방법: 2차원 ndarray에서 만든다."
      ],
      "id": "98f220f5-0c51-423e-920b-88a210a23b6c"
    },
    {
      "cell_type": "code",
      "execution_count": 140,
      "metadata": {
        "vscode": {
          "languageId": "python"
        }
      },
      "outputs": [],
      "source": [
        "np.arange(2*3).reshape(2,3)"
      ],
      "id": "e41df31c-bdec-4aad-86a2-2f4b59f63ca9"
    },
    {
      "cell_type": "code",
      "execution_count": 141,
      "metadata": {
        "vscode": {
          "languageId": "python"
        }
      },
      "outputs": [],
      "source": [
        "pd.DataFrame(np.arange(2*3).reshape(2,3))"
      ],
      "id": "bc7b9116-4d57-482e-acec-929a4802bad4"
    },
    {
      "cell_type": "markdown",
      "metadata": {},
      "source": [
        "## 열의 이름 부여\n",
        "\n",
        "`-` 방법1: 딕셔너리를 통하여 만들면 딕셔너리의 key가 자동으로 열의\n",
        "이름이 된다."
      ],
      "id": "4592bc0c-a7d6-48e8-b981-3a1384ca57cf"
    },
    {
      "cell_type": "code",
      "execution_count": 142,
      "metadata": {
        "vscode": {
          "languageId": "python"
        }
      },
      "outputs": [],
      "source": [
        "pd.DataFrame({'att':np.array([30,40,50]),'mid':np.array([50,60,70])})"
      ],
      "id": "f3d7cd37-857b-402a-8b7b-0c317653c3af"
    },
    {
      "cell_type": "markdown",
      "metadata": {},
      "source": [
        "`-` 방법2: pd.DataFrame()의 옵션에 columns를 이용"
      ],
      "id": "3670a7e4-a688-409b-b42c-8eb2f327f2e8"
    },
    {
      "cell_type": "code",
      "execution_count": 144,
      "metadata": {
        "vscode": {
          "languageId": "python"
        }
      },
      "outputs": [],
      "source": [
        "pd.DataFrame(np.arange(2*3).reshape(2,3),columns=['X1','X2','X3'])"
      ],
      "id": "ba302590-dfe4-484a-b3f2-6b55530c8c62"
    },
    {
      "cell_type": "markdown",
      "metadata": {},
      "source": [
        "`-` 방법3: df.columns에 원하는 열이름을 덮어씀 (1)"
      ],
      "id": "803bd655-67b8-481b-9598-c087e2247f11"
    },
    {
      "cell_type": "code",
      "execution_count": 157,
      "metadata": {
        "vscode": {
          "languageId": "python"
        }
      },
      "outputs": [],
      "source": [
        "df=pd.DataFrame(np.arange(2*3).reshape(2,3))\n",
        "df"
      ],
      "id": "11ce0230-b807-41c4-bf1e-84a67ad2b23a"
    },
    {
      "cell_type": "code",
      "execution_count": 158,
      "metadata": {
        "vscode": {
          "languageId": "python"
        }
      },
      "outputs": [],
      "source": [
        "df.columns = ['X1','X2','X3']"
      ],
      "id": "fdbb8bdc-a81a-4a1e-af81-8608324fb53e"
    },
    {
      "cell_type": "code",
      "execution_count": 159,
      "metadata": {
        "vscode": {
          "languageId": "python"
        }
      },
      "outputs": [],
      "source": [
        "df"
      ],
      "id": "ec4d484e-6bcb-400a-993d-349e02c57415"
    },
    {
      "cell_type": "code",
      "execution_count": 162,
      "metadata": {
        "vscode": {
          "languageId": "python"
        }
      },
      "outputs": [],
      "source": [
        "df.columns"
      ],
      "id": "cc4a28a8-b471-4707-8c51-3586a2a27cb4"
    },
    {
      "cell_type": "markdown",
      "metadata": {},
      "source": [
        "`-` 방법4: df.columns에 원하는 열이름을 덮어씀 (2)"
      ],
      "id": "ca609a02-a9cb-4220-ba1f-17c216a5ca9c"
    },
    {
      "cell_type": "code",
      "execution_count": 166,
      "metadata": {
        "vscode": {
          "languageId": "python"
        }
      },
      "outputs": [],
      "source": [
        "df=pd.DataFrame(np.arange(2*3).reshape(2,3))\n",
        "df"
      ],
      "id": "a11f5374-1075-4cb7-b0d5-1dde0b00ecfe"
    },
    {
      "cell_type": "code",
      "execution_count": 167,
      "metadata": {
        "vscode": {
          "languageId": "python"
        }
      },
      "outputs": [],
      "source": [
        "df.columns = pd.Index(['X1','X2','X3'])"
      ],
      "id": "53431c90-a605-4a68-80d8-91a2dd55ce1a"
    },
    {
      "cell_type": "code",
      "execution_count": 168,
      "metadata": {
        "vscode": {
          "languageId": "python"
        }
      },
      "outputs": [],
      "source": [
        "df"
      ],
      "id": "ebb4d29c-6151-4c54-b80e-1caaf2128f18"
    },
    {
      "cell_type": "markdown",
      "metadata": {},
      "source": [
        "방법4가 방법3의 방식보다 컴퓨터가 이해하기 좋다. (= 불필요한 에러를\n",
        "방지할 수 있다)"
      ],
      "id": "3cf6e5e3-09da-4080-a33a-c8c403867c2d"
    },
    {
      "cell_type": "code",
      "execution_count": 170,
      "metadata": {
        "vscode": {
          "languageId": "python"
        }
      },
      "outputs": [],
      "source": [
        "df.columns, type(df.columns)"
      ],
      "id": "3f58fa48-9159-46bd-a740-400e957b2272"
    },
    {
      "cell_type": "code",
      "execution_count": 171,
      "metadata": {
        "vscode": {
          "languageId": "python"
        }
      },
      "outputs": [],
      "source": [
        "['X1','X2','X3'], type(['X1','X2','X3'])"
      ],
      "id": "53ab2fc5-3377-4e8e-8f35-7f3dd20249db"
    },
    {
      "cell_type": "code",
      "execution_count": 172,
      "metadata": {
        "vscode": {
          "languageId": "python"
        }
      },
      "outputs": [],
      "source": [
        "pd.Index(['X1','X2','X3']), type(pd.Index(['X1','X2','X3']))"
      ],
      "id": "2f0930e8-0fb6-4612-b59a-53cbfcee6171"
    },
    {
      "cell_type": "markdown",
      "metadata": {},
      "source": [
        "## 행의 이름 부여\n",
        "\n",
        "`-` 방법1: 중첩 dict이면 nested dic의 key가 알아서 행의 이름으로 된다."
      ],
      "id": "e81183a4-bc0f-427f-892a-eb3791157080"
    },
    {
      "cell_type": "code",
      "execution_count": 206,
      "metadata": {
        "vscode": {
          "languageId": "python"
        }
      },
      "outputs": [],
      "source": [
        "pd.DataFrame({'att':{'guebin':30, 'iu':40, 'hynn':50} , 'mid':{'guebin':5, 'iu':45, 'hynn':90}})"
      ],
      "id": "0832a231-8c79-4ce1-a6e0-bea8dac1d83f"
    },
    {
      "cell_type": "markdown",
      "metadata": {},
      "source": [
        "`-` 방법2: pd.DataFrame()의 index 옵션 이용"
      ],
      "id": "062fd92b-1421-4103-afbf-00db2d249ea1"
    },
    {
      "cell_type": "code",
      "execution_count": 212,
      "metadata": {
        "vscode": {
          "languageId": "python"
        }
      },
      "outputs": [],
      "source": [
        "pd.DataFrame({'att':[30,40,50] , 'mid':[5,45,90]}, index=['guebin','iu','hynn'])"
      ],
      "id": "0b92efc7-30c4-4f86-ab70-2980f4be39f3"
    },
    {
      "cell_type": "markdown",
      "metadata": {},
      "source": [
        "`-` 방법3: df.index에 덮어씌움"
      ],
      "id": "2caa5958-355b-4820-bf7f-99ac8633a0a1"
    },
    {
      "cell_type": "code",
      "execution_count": 223,
      "metadata": {
        "vscode": {
          "languageId": "python"
        }
      },
      "outputs": [],
      "source": [
        "df=pd.DataFrame({'att':[30,40,50] , 'mid':[5,45,90]})\n",
        "df"
      ],
      "id": "44217c28-bb81-44f4-8caa-b057fab6e452"
    },
    {
      "cell_type": "code",
      "execution_count": 226,
      "metadata": {
        "vscode": {
          "languageId": "python"
        }
      },
      "outputs": [],
      "source": [
        "df.index = pd.Index(['guebin','iu','hynn'])\n",
        "#df.index = ['guebin','iu','hynn'] <- 이것도 실행 되기는 된다.\n",
        "df"
      ],
      "id": "51734ac7-92fe-42b5-8080-dd6b7184c14f"
    },
    {
      "cell_type": "markdown",
      "metadata": {},
      "source": [
        "`-` 방법4: df.set_index() 를 이용하여 덮어씌운다"
      ],
      "id": "ffc26af4-8ff4-4d89-972c-92b32efa37d9"
    },
    {
      "cell_type": "code",
      "execution_count": 227,
      "metadata": {
        "vscode": {
          "languageId": "python"
        }
      },
      "outputs": [],
      "source": [
        "df=pd.DataFrame({'att':[30,40,50] , 'mid':[5,45,90]})\n",
        "df"
      ],
      "id": "d97ce32c-582a-4a22-a32a-0fdaeb97f64a"
    },
    {
      "cell_type": "code",
      "execution_count": 229,
      "metadata": {
        "vscode": {
          "languageId": "python"
        }
      },
      "outputs": [],
      "source": [
        "df.set_index(pd.Index(['guebin','iu','hynn']))"
      ],
      "id": "b85ec6e9-8875-448e-a20f-e065241c882c"
    },
    {
      "cell_type": "markdown",
      "metadata": {},
      "source": [
        "(주의) 아래는 에러가 난다."
      ],
      "id": "21306086-3e5d-4286-af3b-4d936823bcf0"
    },
    {
      "cell_type": "code",
      "execution_count": 230,
      "metadata": {
        "vscode": {
          "languageId": "python"
        }
      },
      "outputs": [],
      "source": [
        "df.set_index(['guebin','iu','hynn'])"
      ],
      "id": "8010f1d8-f730-4bf9-8228-e949173df0ba"
    },
    {
      "cell_type": "code",
      "execution_count": 232,
      "metadata": {
        "vscode": {
          "languageId": "python"
        }
      },
      "outputs": [],
      "source": [
        "df.set_index([['guebin','iu','hynn']]) # 꺽쇠를 한번 더 넣어주면 에러를 피할수 있다. "
      ],
      "id": "2a4d4573-c7dc-443e-b5f3-ec984b72f9f5"
    },
    {
      "cell_type": "markdown",
      "metadata": {},
      "source": [
        "## 자료형, len, shape, for문의 반복변수"
      ],
      "id": "42cf714a-8d02-473e-be6c-18a1120c6b33"
    },
    {
      "cell_type": "code",
      "execution_count": 233,
      "metadata": {
        "vscode": {
          "languageId": "python"
        }
      },
      "outputs": [],
      "source": [
        "df = pd.DataFrame({'att':[30,40,50],'mid':[5,45,90]})\n",
        "df"
      ],
      "id": "9785296d-8f89-40a4-af68-99318b274d12"
    },
    {
      "cell_type": "markdown",
      "metadata": {},
      "source": [
        "`-` type"
      ],
      "id": "7b457380-d387-46aa-9be1-82a473be1ec0"
    },
    {
      "cell_type": "code",
      "execution_count": 234,
      "metadata": {
        "vscode": {
          "languageId": "python"
        }
      },
      "outputs": [],
      "source": [
        "type(df)"
      ],
      "id": "458738ab-1d42-4946-b897-68754e526b2d"
    },
    {
      "cell_type": "markdown",
      "metadata": {},
      "source": [
        "`-` len"
      ],
      "id": "f28fcc2d-ee12-4b98-94ba-1b5f29e93fc2"
    },
    {
      "cell_type": "code",
      "execution_count": 237,
      "metadata": {
        "vscode": {
          "languageId": "python"
        }
      },
      "outputs": [],
      "source": [
        "len(df) # row의 갯수 "
      ],
      "id": "b5853260-e28e-4d1a-9da4-7cd0d67299b1"
    },
    {
      "cell_type": "markdown",
      "metadata": {},
      "source": [
        "`-` shape"
      ],
      "id": "fbfd5c81-759c-46a5-99dd-4217434b265a"
    },
    {
      "cell_type": "code",
      "execution_count": 239,
      "metadata": {
        "vscode": {
          "languageId": "python"
        }
      },
      "outputs": [],
      "source": [
        "df.shape "
      ],
      "id": "fa9eb64b-b55c-4d47-874f-51c7000cca7d"
    },
    {
      "cell_type": "markdown",
      "metadata": {},
      "source": [
        "`-` for문의 반복변수"
      ],
      "id": "8d9f5b99-3052-46a6-8644-1e140039e3a0"
    },
    {
      "cell_type": "code",
      "execution_count": 242,
      "metadata": {
        "vscode": {
          "languageId": "python"
        }
      },
      "outputs": [
        {
          "output_type": "stream",
          "name": "stdout",
          "text": [
            "att\n",
            "mid"
          ]
        }
      ],
      "source": [
        "for k in df:\n",
        "    print(k) # 딕셔너리같죠"
      ],
      "id": "cf0cf609-2588-48c4-b3ea-438324027709"
    },
    {
      "cell_type": "code",
      "execution_count": 243,
      "metadata": {
        "vscode": {
          "languageId": "python"
        }
      },
      "outputs": [
        {
          "output_type": "stream",
          "name": "stdout",
          "text": [
            "att\n",
            "mid"
          ]
        }
      ],
      "source": [
        "for k in {'att':[30,40,50],'mid':[5,45,90]}: \n",
        "    print(k)"
      ],
      "id": "ef22078b-3b7a-48a4-94fd-e69f241446a4"
    },
    {
      "cell_type": "markdown",
      "metadata": {},
      "source": [
        "## pd.Series\n",
        "\n",
        "`-` 2차원 ndarray가 pd.DataFrame에 대응한다면 1차원 ndarray는\n",
        "pd.Series에 대응한다."
      ],
      "id": "698b4bf8-2f60-47af-8128-a52d0f29f184"
    },
    {
      "cell_type": "code",
      "execution_count": 246,
      "metadata": {
        "vscode": {
          "languageId": "python"
        }
      },
      "outputs": [],
      "source": [
        "a=pd.Series(np.random.randn(10))\n",
        "a"
      ],
      "id": "a2e77f60-68a0-4a0d-a2a5-9fb8899a9ac7"
    },
    {
      "cell_type": "code",
      "execution_count": 247,
      "metadata": {
        "vscode": {
          "languageId": "python"
        }
      },
      "outputs": [],
      "source": [
        "type(a)"
      ],
      "id": "8755908d-3a6c-41c2-93c6-4034262e2a0e"
    },
    {
      "cell_type": "code",
      "execution_count": 248,
      "metadata": {
        "vscode": {
          "languageId": "python"
        }
      },
      "outputs": [],
      "source": [
        "len(a)"
      ],
      "id": "e3b0cab1-0c21-4ada-afbf-d4d0e3bfcf15"
    },
    {
      "cell_type": "code",
      "execution_count": 249,
      "metadata": {
        "vscode": {
          "languageId": "python"
        }
      },
      "outputs": [],
      "source": [
        "a.shape"
      ],
      "id": "6f492e88-ed92-4f8d-ad6d-4ddc42493ce4"
    },
    {
      "cell_type": "code",
      "execution_count": 259,
      "metadata": {
        "vscode": {
          "languageId": "python"
        }
      },
      "outputs": [
        {
          "output_type": "stream",
          "name": "stdout",
          "text": [
            "0.45375797778887145\n",
            "-0.7162702753778524\n",
            "-0.1677503294060748\n",
            "0.08954572073306402\n",
            "0.8740060519863648\n",
            "0.40162700372357163\n",
            "0.20491068603376858\n",
            "1.0427224662413124\n",
            "-0.3523562215445016\n",
            "-1.2416580554177619"
          ]
        }
      ],
      "source": [
        "for value in a: \n",
        "    print(value)"
      ],
      "id": "af0fedb2-ed48-49fd-9a26-84de28ff9f3a"
    },
    {
      "cell_type": "markdown",
      "metadata": {},
      "source": [
        "# 판다스 공부 2단계\n",
        "\n",
        "`-` 데이터"
      ],
      "id": "0ed9b8ba-7d9c-4276-8096-1058c35da7ea"
    },
    {
      "cell_type": "code",
      "execution_count": 261,
      "metadata": {
        "vscode": {
          "languageId": "python"
        }
      },
      "outputs": [],
      "source": [
        "np.random.seed(43052)\n",
        "att = np.random.choice(np.arange(10,21)*5,20)\n",
        "rep = np.random.choice(np.arange(5,21)*5,20)\n",
        "mid = np.random.choice(np.arange(0,21)*5,20)\n",
        "fin = np.random.choice(np.arange(0,21)*5,20)\n",
        "key = ['202212'+str(s) for s in np.random.choice(np.arange(300,501),20,replace=False)]"
      ],
      "id": "4852b648-fece-4332-a622-5e7f5abc7e9c"
    },
    {
      "cell_type": "code",
      "execution_count": 264,
      "metadata": {
        "vscode": {
          "languageId": "python"
        }
      },
      "outputs": [],
      "source": [
        "df=pd.DataFrame({'att':att,'rep':rep,'mid':mid,'fin':fin},index=key)\n",
        "df"
      ],
      "id": "54e84648-2bb4-456d-bbea-9e3586c7ffba"
    },
    {
      "cell_type": "markdown",
      "metadata": {},
      "source": [
        "## 첫번째 칼럼을 선택\n",
        "\n",
        "`-` 방법1"
      ],
      "id": "bfbcf287-f24b-4c91-902a-5d90b85b9fc9"
    },
    {
      "cell_type": "code",
      "execution_count": 290,
      "metadata": {
        "vscode": {
          "languageId": "python"
        }
      },
      "outputs": [],
      "source": [
        "df.att"
      ],
      "id": "5731c874-b91b-4cc9-8980-56f16495b181"
    },
    {
      "cell_type": "markdown",
      "metadata": {},
      "source": [
        "`-` 방법2: dict스타일"
      ],
      "id": "46e86d10-3d58-4f0c-acc7-bb075c1782e4"
    },
    {
      "cell_type": "code",
      "execution_count": 291,
      "metadata": {
        "vscode": {
          "languageId": "python"
        }
      },
      "outputs": [],
      "source": [
        "df['att']"
      ],
      "id": "28b6b9e3-76dd-467d-ae73-1c79dc4e6e8d"
    },
    {
      "cell_type": "markdown",
      "metadata": {},
      "source": [
        "`-` 방법3: dict스타일"
      ],
      "id": "9db731ab-3138-4522-a364-7fc1f4be6687"
    },
    {
      "cell_type": "code",
      "execution_count": 292,
      "metadata": {
        "vscode": {
          "languageId": "python"
        }
      },
      "outputs": [],
      "source": [
        "df[['att']]"
      ],
      "id": "815c44c5-5def-4be3-871a-020d891e1ac2"
    },
    {
      "cell_type": "markdown",
      "metadata": {},
      "source": [
        "-   df.att 나 df\\[‘att’\\]는 series를 리턴하고 df\\[\\[‘att’\\]\\]는\n",
        "    dataframe을 리턴한다.\n",
        "\n",
        "`-` 방법4: ndarray스타일"
      ],
      "id": "919111e1-3d6b-4f61-b541-8dbcc028b8ea"
    },
    {
      "cell_type": "code",
      "execution_count": 283,
      "metadata": {
        "vscode": {
          "languageId": "python"
        }
      },
      "outputs": [],
      "source": [
        "df.iloc[:,0] "
      ],
      "id": "502c5f9b-a349-4c1e-a451-8bf542250557"
    },
    {
      "cell_type": "markdown",
      "metadata": {},
      "source": [
        "`-` 방법5: ndarray스타일"
      ],
      "id": "9eacb591-904d-40ab-b7e2-3148227ff79f"
    },
    {
      "cell_type": "code",
      "execution_count": 284,
      "metadata": {
        "vscode": {
          "languageId": "python"
        }
      },
      "outputs": [],
      "source": [
        "df.iloc[:,[0]]"
      ],
      "id": "a43b235d-7e79-4a72-ac8b-5ca571d72cfe"
    },
    {
      "cell_type": "markdown",
      "metadata": {},
      "source": [
        "-   df.iloc\\[:,0\\]은 series를 리턴하고 df.iloc\\[:,\\[0\\]\\]은 dataframe을\n",
        "    리턴한다.\n",
        "\n",
        "`-` 방법6: ndarray 스타일과 dict 스타일의 혼합"
      ],
      "id": "2cd0e038-301b-4d74-80ea-c124e1afb4f8"
    },
    {
      "cell_type": "code",
      "execution_count": 279,
      "metadata": {
        "vscode": {
          "languageId": "python"
        }
      },
      "outputs": [],
      "source": [
        "df.loc[:,'att'] "
      ],
      "id": "e2b39db3-b352-4a9c-9755-478940df3327"
    },
    {
      "cell_type": "markdown",
      "metadata": {},
      "source": [
        "`-` 방법7: ndarray 스타일과 dict 스타일의 혼합"
      ],
      "id": "f1773e37-21e7-41c3-a2c3-90660e6367a5"
    },
    {
      "cell_type": "code",
      "execution_count": 280,
      "metadata": {
        "vscode": {
          "languageId": "python"
        }
      },
      "outputs": [],
      "source": [
        "df.loc[:,['att']] "
      ],
      "id": "f845af65-d1c7-496f-a92a-277bb835da62"
    },
    {
      "cell_type": "markdown",
      "metadata": {},
      "source": [
        "-   df.loc\\[:,‘att’\\]은 series를 리턴하고 df.loc\\[:,\\[‘att’\\]\\]은\n",
        "    dataframe을 리턴한다.\n",
        "\n",
        "`-` 방법7: nparray 스타일 + bool 인덱싱"
      ],
      "id": "53db7dde-1ede-4276-bfe6-b507acd1bfb1"
    },
    {
      "cell_type": "code",
      "execution_count": 286,
      "metadata": {
        "vscode": {
          "languageId": "python"
        }
      },
      "outputs": [],
      "source": [
        "df.iloc[:,[True,False,False,False]]"
      ],
      "id": "74d7c1d7-eb8c-4d6b-9ecd-72f6ec0a4e46"
    },
    {
      "cell_type": "markdown",
      "metadata": {},
      "source": [
        "`-` 방법8: ndarray와 dict의 홉합형 + bool 인덱싱"
      ],
      "id": "25011ddf-a8b9-46fd-9b04-3f33bfe561ca"
    },
    {
      "cell_type": "code",
      "execution_count": 287,
      "metadata": {
        "vscode": {
          "languageId": "python"
        }
      },
      "outputs": [],
      "source": [
        "df.loc[:,[True,False,False,False]]"
      ],
      "id": "b82b37a0-2b73-46eb-bead-0c14aa9cb996"
    },
    {
      "cell_type": "markdown",
      "metadata": {},
      "source": [
        "## 여러개의 칼럼을 선택\n",
        "\n",
        "`-` 방법1: dict 스타일"
      ],
      "id": "bed7b8a4-b73e-4029-8754-4205650984a7"
    },
    {
      "cell_type": "code",
      "execution_count": 296,
      "metadata": {
        "vscode": {
          "languageId": "python"
        }
      },
      "outputs": [],
      "source": [
        "df[['att','fin']]"
      ],
      "id": "5e64df5d-a0fa-437b-add2-6d0040e442c7"
    },
    {
      "cell_type": "markdown",
      "metadata": {},
      "source": [
        "`-` 방법2: ndarray 스타일 (정수리스트로 인덱싱, 슬라이싱, 스트라이딩)"
      ],
      "id": "80a971ce-dd57-44ce-8ea7-f17415e22888"
    },
    {
      "cell_type": "code",
      "execution_count": 299,
      "metadata": {
        "vscode": {
          "languageId": "python"
        }
      },
      "outputs": [],
      "source": [
        "df.iloc[:,[0,1]] # 정수의 리스트를 전달하여 컬럼추출"
      ],
      "id": "759ca57a-1445-4b61-b04d-fbaf10b07914"
    },
    {
      "cell_type": "code",
      "execution_count": 331,
      "metadata": {
        "vscode": {
          "languageId": "python"
        }
      },
      "outputs": [],
      "source": [
        "df.iloc[:,range(2)] "
      ],
      "id": "6b3e070e-9efe-45a3-aec3-581e6fefaa50"
    },
    {
      "cell_type": "code",
      "execution_count": 321,
      "metadata": {
        "vscode": {
          "languageId": "python"
        }
      },
      "outputs": [],
      "source": [
        "df.iloc[:,:2]  # 슬라이싱 , 0,1,2에서 마지막 2는 제외되고 0,1에 해당하는 것만 추출"
      ],
      "id": "21b011f5-0059-4720-a784-7e4055de41b5"
    },
    {
      "cell_type": "code",
      "execution_count": 305,
      "metadata": {
        "vscode": {
          "languageId": "python"
        }
      },
      "outputs": [],
      "source": [
        "df.iloc[:,::2]  # 스트라이딩"
      ],
      "id": "b2645121-f86c-4b70-9764-4a55b3aabee8"
    },
    {
      "cell_type": "markdown",
      "metadata": {},
      "source": [
        "`-` 방법3: ndarray 와 dict의 혼합형"
      ],
      "id": "4bf99c33-c73d-4a19-8e62-66eeec20af84"
    },
    {
      "cell_type": "code",
      "execution_count": 310,
      "metadata": {
        "vscode": {
          "languageId": "python"
        }
      },
      "outputs": [],
      "source": [
        "df.loc[:,['att','mid']] "
      ],
      "id": "d4628f0a-7930-4a59-9b56-790f91d01676"
    },
    {
      "cell_type": "code",
      "execution_count": 322,
      "metadata": {
        "vscode": {
          "languageId": "python"
        }
      },
      "outputs": [],
      "source": [
        "df.loc[:,'att':'mid']  # 마지막의 mid도 포함된다. "
      ],
      "id": "15c927f1-f53b-424e-b2d1-cb1bfc0c436e"
    },
    {
      "cell_type": "code",
      "execution_count": 320,
      "metadata": {
        "vscode": {
          "languageId": "python"
        }
      },
      "outputs": [],
      "source": [
        "df.loc[:,'rep':] "
      ],
      "id": "8f16c23c-8fd0-4194-a4e4-79be10ab1ebe"
    },
    {
      "cell_type": "markdown",
      "metadata": {},
      "source": [
        "`-` 방법4: bool을 이용한 인덱싱"
      ],
      "id": "a4e8208b-fb93-4d6b-8861-37018dd9bce3"
    },
    {
      "cell_type": "code",
      "execution_count": 323,
      "metadata": {
        "vscode": {
          "languageId": "python"
        }
      },
      "outputs": [],
      "source": [
        "df.iloc[:,[True,False,True,False]]"
      ],
      "id": "c2099561-04ff-47ae-97ab-f5abc01a6899"
    },
    {
      "cell_type": "code",
      "execution_count": 324,
      "metadata": {
        "vscode": {
          "languageId": "python"
        }
      },
      "outputs": [],
      "source": [
        "df.loc[:,[True,False,True,False]]"
      ],
      "id": "765b6a7e-ce2d-451e-95a3-fbeb896da8f4"
    },
    {
      "cell_type": "markdown",
      "metadata": {},
      "source": [
        "## 첫번째 행을 선택\n",
        "\n",
        "`-` 방법1"
      ],
      "id": "522eea21-15ae-41ef-ab12-f9b78066611b"
    },
    {
      "cell_type": "code",
      "execution_count": 338,
      "metadata": {
        "vscode": {
          "languageId": "python"
        }
      },
      "outputs": [],
      "source": [
        "df.iloc[0]"
      ],
      "id": "3fddb8d6-2f10-4220-897e-076f4c7710e6"
    },
    {
      "cell_type": "markdown",
      "metadata": {},
      "source": [
        "`-` 방법2"
      ],
      "id": "0cd94df7-9cad-4e0b-a1b0-e1769f1d4ffa"
    },
    {
      "cell_type": "code",
      "execution_count": 339,
      "metadata": {
        "vscode": {
          "languageId": "python"
        }
      },
      "outputs": [],
      "source": [
        "df.iloc[[0]]"
      ],
      "id": "17886f1e-1804-443f-986e-56cadeaa1590"
    },
    {
      "cell_type": "markdown",
      "metadata": {},
      "source": [
        "`-` 방법3"
      ],
      "id": "b86933ad-0c9f-4ce9-aea9-93d08a0b473d"
    },
    {
      "cell_type": "code",
      "execution_count": 340,
      "metadata": {
        "vscode": {
          "languageId": "python"
        }
      },
      "outputs": [],
      "source": [
        "df.iloc[0,:]"
      ],
      "id": "59462e68-5e82-4d51-800a-21e6586338fd"
    },
    {
      "cell_type": "markdown",
      "metadata": {},
      "source": [
        "`-` 방법4"
      ],
      "id": "6b63c47a-a669-476a-a558-130f54935139"
    },
    {
      "cell_type": "code",
      "execution_count": 341,
      "metadata": {
        "vscode": {
          "languageId": "python"
        }
      },
      "outputs": [],
      "source": [
        "df.iloc[[0],:]"
      ],
      "id": "5b781cc9-9bac-403d-a206-b30853f578fa"
    },
    {
      "cell_type": "markdown",
      "metadata": {},
      "source": [
        "`-` 방법5"
      ],
      "id": "d4cff2b0-bc24-46e2-a89b-725626011368"
    },
    {
      "cell_type": "code",
      "execution_count": 342,
      "metadata": {
        "vscode": {
          "languageId": "python"
        }
      },
      "outputs": [],
      "source": [
        "df.loc['202212380']"
      ],
      "id": "df65a658-e900-47b0-a494-34b96808744e"
    },
    {
      "cell_type": "markdown",
      "metadata": {},
      "source": [
        "`-` 방법6"
      ],
      "id": "8eb3123a-8a28-4140-8d5f-2b55c5000de1"
    },
    {
      "cell_type": "code",
      "execution_count": 343,
      "metadata": {
        "vscode": {
          "languageId": "python"
        }
      },
      "outputs": [],
      "source": [
        "df.loc[['202212380']]"
      ],
      "id": "a3684f3d-6b6c-4a2c-be2a-5522878c4186"
    },
    {
      "cell_type": "markdown",
      "metadata": {},
      "source": [
        "`-` 방법7"
      ],
      "id": "258ec82d-1cf5-4e83-8c39-f8e55cc4b06a"
    },
    {
      "cell_type": "code",
      "execution_count": 344,
      "metadata": {
        "vscode": {
          "languageId": "python"
        }
      },
      "outputs": [],
      "source": [
        "df.loc['202212380',:]"
      ],
      "id": "7d3809e9-eed1-45ff-aedc-e24b8554fe9a"
    },
    {
      "cell_type": "markdown",
      "metadata": {},
      "source": [
        "`-` 방법8"
      ],
      "id": "e1a1aa18-d995-45f3-9195-5a1d9344272c"
    },
    {
      "cell_type": "code",
      "execution_count": 345,
      "metadata": {
        "vscode": {
          "languageId": "python"
        }
      },
      "outputs": [],
      "source": [
        "df.loc[['202212380'],:]"
      ],
      "id": "927340bd-6127-443d-b081-33a036b87d6f"
    },
    {
      "cell_type": "markdown",
      "metadata": {},
      "source": [
        "`-` 방법9"
      ],
      "id": "b15bef73-0989-4444-89b2-378e6c7a33fd"
    },
    {
      "cell_type": "code",
      "execution_count": 346,
      "metadata": {
        "vscode": {
          "languageId": "python"
        }
      },
      "outputs": [],
      "source": [
        "len(df)"
      ],
      "id": "27d848e9-260b-4534-8e97-ebe40f060dbb"
    },
    {
      "cell_type": "code",
      "execution_count": 348,
      "metadata": {
        "vscode": {
          "languageId": "python"
        }
      },
      "outputs": [],
      "source": [
        "_lst = [True]+[False]*19"
      ],
      "id": "befe6c1a-1280-4c2f-8ae0-80044a2793bd"
    },
    {
      "cell_type": "code",
      "execution_count": 351,
      "metadata": {
        "vscode": {
          "languageId": "python"
        }
      },
      "outputs": [],
      "source": [
        "df.iloc[_lst] "
      ],
      "id": "d5ae54d1-c04a-4962-a1df-d3c10854d46b"
    },
    {
      "cell_type": "code",
      "execution_count": 352,
      "metadata": {
        "vscode": {
          "languageId": "python"
        }
      },
      "outputs": [],
      "source": [
        "df.iloc[_lst,:] "
      ],
      "id": "6bbd63bf-ef89-4371-af43-23840e3dfc43"
    },
    {
      "cell_type": "code",
      "execution_count": 353,
      "metadata": {
        "vscode": {
          "languageId": "python"
        }
      },
      "outputs": [],
      "source": [
        "df.loc[_lst] "
      ],
      "id": "a73df06c-7346-4a82-9907-ec0bd78860a6"
    },
    {
      "cell_type": "code",
      "execution_count": 354,
      "metadata": {
        "vscode": {
          "languageId": "python"
        }
      },
      "outputs": [],
      "source": [
        "df.loc[_lst,:] "
      ],
      "id": "8ec4344a-8365-421a-adb0-298c0f26dfa0"
    },
    {
      "cell_type": "markdown",
      "metadata": {},
      "source": [
        "## 여러개의 행을 선택\n",
        "\n",
        "`-` 방법1"
      ],
      "id": "bb17f903-232c-4860-9e70-4e3b00f68d7d"
    },
    {
      "cell_type": "code",
      "execution_count": 358,
      "metadata": {
        "vscode": {
          "languageId": "python"
        }
      },
      "outputs": [],
      "source": [
        "df.iloc[[0,2]] "
      ],
      "id": "25a89853-4181-48d9-9c2e-28e68bc72f42"
    },
    {
      "cell_type": "code",
      "execution_count": 359,
      "metadata": {
        "vscode": {
          "languageId": "python"
        }
      },
      "outputs": [],
      "source": [
        "df.iloc[[0,2],:] "
      ],
      "id": "2172c978-32bc-4edc-ac49-24bb2d81ece4"
    },
    {
      "cell_type": "markdown",
      "metadata": {},
      "source": [
        "`-` 방법2"
      ],
      "id": "42e86ca7-9a98-48e3-a46f-2be222dc3741"
    },
    {
      "cell_type": "code",
      "execution_count": 361,
      "metadata": {
        "vscode": {
          "languageId": "python"
        }
      },
      "outputs": [],
      "source": [
        "df.loc[['202212380','202212363']] "
      ],
      "id": "00dbe974-0fe7-41b3-a367-97d805a5556f"
    },
    {
      "cell_type": "code",
      "execution_count": 360,
      "metadata": {
        "vscode": {
          "languageId": "python"
        }
      },
      "outputs": [],
      "source": [
        "df.loc[['202212380','202212363'],:] "
      ],
      "id": "466c377d-0b7d-4b93-8ad8-83dd2bcc13c3"
    },
    {
      "cell_type": "markdown",
      "metadata": {},
      "source": [
        "`-` 그 밖의 방법들"
      ],
      "id": "aad9b655-cbf2-43a1-8738-9dc8fe8f7f7b"
    },
    {
      "cell_type": "code",
      "execution_count": 365,
      "metadata": {
        "vscode": {
          "languageId": "python"
        }
      },
      "outputs": [],
      "source": [
        "df.iloc[::3] # 스트라이딩"
      ],
      "id": "30986e85-67de-4196-ba86-a09efd82c2bb"
    },
    {
      "cell_type": "code",
      "execution_count": 366,
      "metadata": {
        "vscode": {
          "languageId": "python"
        }
      },
      "outputs": [],
      "source": [
        "df.iloc[:5]"
      ],
      "id": "005fbda6-f3be-418a-af33-f3d9d8bd2954"
    },
    {
      "cell_type": "code",
      "execution_count": 371,
      "metadata": {
        "vscode": {
          "languageId": "python"
        }
      },
      "outputs": [],
      "source": [
        "df.loc[:'202212312']"
      ],
      "id": "dacf07b6-e404-40e8-92a5-1978d282d906"
    },
    {
      "cell_type": "code",
      "execution_count": 377,
      "metadata": {
        "vscode": {
          "languageId": "python"
        }
      },
      "outputs": [],
      "source": [
        "df.loc[list(df.att<80),'rep':]"
      ],
      "id": "2ad2c5ae-4f6e-4763-a838-638b0582129d"
    },
    {
      "cell_type": "code",
      "execution_count": 375,
      "metadata": {
        "vscode": {
          "languageId": "python"
        }
      },
      "outputs": [],
      "source": [
        "df.loc[df.att<80,'rep':]"
      ],
      "id": "2746f8a3-9bfe-47d2-9c95-2b3bcead6bf9"
    },
    {
      "cell_type": "code",
      "execution_count": 379,
      "metadata": {
        "vscode": {
          "languageId": "python"
        }
      },
      "outputs": [],
      "source": [
        "df.iloc[list(df.att<80),1:]"
      ],
      "id": "15aed2b5-b4c4-4b97-9619-3609494e0461"
    },
    {
      "cell_type": "markdown",
      "metadata": {},
      "source": [
        "`-` 아래는 에러가 난다 주의!"
      ],
      "id": "248bc390-d662-4800-98c4-d6e0b620d520"
    },
    {
      "cell_type": "code",
      "execution_count": 383,
      "metadata": {
        "vscode": {
          "languageId": "python"
        }
      },
      "outputs": [],
      "source": [
        "df.iloc[df.att<80,1:]"
      ],
      "id": "2ec724a5-2655-44c1-ac7a-c3a002a8c808"
    },
    {
      "cell_type": "markdown",
      "metadata": {},
      "source": [
        "## query ($\\star$)\n",
        "\n",
        "`-` 예제1"
      ],
      "id": "f87aba27-669a-4a06-91f9-f709ec007357"
    },
    {
      "cell_type": "code",
      "execution_count": 385,
      "metadata": {
        "vscode": {
          "languageId": "python"
        }
      },
      "outputs": [],
      "source": [
        "df.query('att==90 and mid>30')"
      ],
      "id": "d5d9126c-7f8c-42f0-9ad4-f535048a6e38"
    },
    {
      "cell_type": "markdown",
      "metadata": {},
      "source": [
        "`-` 예제2"
      ],
      "id": "443e3e7b-7901-461a-97cc-391536408556"
    },
    {
      "cell_type": "code",
      "execution_count": 386,
      "metadata": {
        "vscode": {
          "languageId": "python"
        }
      },
      "outputs": [],
      "source": [
        "df.query('att<rep and mid<fin')"
      ],
      "id": "9e5555e2-fb1b-4646-a24c-8c58cb73b965"
    },
    {
      "cell_type": "markdown",
      "metadata": {},
      "source": [
        "`-` 예제3"
      ],
      "id": "17418ad5-8a22-496f-b308-1a9164f85ed6"
    },
    {
      "cell_type": "code",
      "execution_count": 387,
      "metadata": {
        "vscode": {
          "languageId": "python"
        }
      },
      "outputs": [],
      "source": [
        "df.query('att < rep < 80')"
      ],
      "id": "24f19b8e-70a6-44fe-9137-4672b4352e67"
    },
    {
      "cell_type": "markdown",
      "metadata": {},
      "source": [
        "`-` 예제4"
      ],
      "id": "ae5e86c7-aa94-46d9-847b-0288ab015ce3"
    },
    {
      "cell_type": "code",
      "execution_count": 388,
      "metadata": {
        "vscode": {
          "languageId": "python"
        }
      },
      "outputs": [],
      "source": [
        "df.query('50 < att <= 90 and mid < fin')"
      ],
      "id": "e05978b3-b59f-457f-9d84-68782d322cb5"
    },
    {
      "cell_type": "markdown",
      "metadata": {},
      "source": [
        "`-` 예제5"
      ],
      "id": "18e64b57-7fcd-42c9-812a-68918c30adb2"
    },
    {
      "cell_type": "code",
      "execution_count": 389,
      "metadata": {
        "vscode": {
          "languageId": "python"
        }
      },
      "outputs": [],
      "source": [
        "df.query(' (mid+fin)/2 >=60')"
      ],
      "id": "0839127c-b90e-4761-ab27-3b3de4638edb"
    },
    {
      "cell_type": "markdown",
      "metadata": {},
      "source": [
        "`-` 예제6"
      ],
      "id": "834676f0-2e1f-470d-94db-058ed2d7b980"
    },
    {
      "cell_type": "code",
      "execution_count": 393,
      "metadata": {
        "vscode": {
          "languageId": "python"
        }
      },
      "outputs": [],
      "source": [
        "_mean  = df.att.mean()\n",
        "_mean "
      ],
      "id": "94ae1bab-587c-4ad3-a127-e4f0a3af6c9c"
    },
    {
      "cell_type": "code",
      "execution_count": 394,
      "metadata": {
        "vscode": {
          "languageId": "python"
        }
      },
      "outputs": [],
      "source": [
        "df.query('att >= 73')"
      ],
      "id": "2ade2fb5-4af4-4fb8-8f91-6b1a3663f24e"
    },
    {
      "cell_type": "code",
      "execution_count": 397,
      "metadata": {
        "vscode": {
          "languageId": "python"
        }
      },
      "outputs": [],
      "source": [
        "df.query('att >= @_mean')\n",
        "# df.query('att>= _mean')은 실행 안된다."
      ],
      "id": "b63b7f65-03c7-438f-a058-142d53794051"
    },
    {
      "cell_type": "markdown",
      "metadata": {},
      "source": [
        "`-` 예제7"
      ],
      "id": "959de104-a028-40c9-9a51-3f9773d3cd4b"
    },
    {
      "cell_type": "code",
      "execution_count": 416,
      "metadata": {
        "vscode": {
          "languageId": "python"
        }
      },
      "outputs": [],
      "source": [
        "df"
      ],
      "id": "633c9649-ef18-464a-b9fa-962c86be55f2"
    },
    {
      "cell_type": "code",
      "execution_count": 419,
      "metadata": {
        "vscode": {
          "languageId": "python"
        }
      },
      "outputs": [],
      "source": [
        "df.query(\"index <= '202212354' or index=='202212387'\")"
      ],
      "id": "d913e016-8a9f-4ee5-a9e1-5faffcb732c4"
    },
    {
      "cell_type": "markdown",
      "metadata": {},
      "source": [
        "사실 이 기능은 시계열자료에서 꽃핀다.\n",
        "\n",
        "`-` 예제8"
      ],
      "id": "27f6fa4c-b954-44b1-89fb-a19776f2d2f5"
    },
    {
      "cell_type": "code",
      "execution_count": 428,
      "metadata": {
        "vscode": {
          "languageId": "python"
        }
      },
      "outputs": [],
      "source": [
        "pd.date_range('20211226',periods=10)"
      ],
      "id": "11e0dba6-1664-446a-914a-bf8b90fb0fad"
    },
    {
      "cell_type": "code",
      "execution_count": 430,
      "metadata": {
        "vscode": {
          "languageId": "python"
        }
      },
      "outputs": [],
      "source": [
        "_df=pd.DataFrame(np.random.normal(size=(10,4)),columns=list('ABCD'),index=pd.date_range('20211226',periods=10))\n",
        "_df"
      ],
      "id": "e94f29ae-53ba-477e-aac4-e1d3d307b529"
    },
    {
      "cell_type": "code",
      "execution_count": 435,
      "metadata": {
        "vscode": {
          "languageId": "python"
        }
      },
      "outputs": [],
      "source": [
        "_df.query(\" '2021-12-29' <=  index <= '2022-01-03' \")"
      ],
      "id": "bebd2137-c2d4-479f-9ff0-59262eba198a"
    },
    {
      "cell_type": "code",
      "execution_count": 436,
      "metadata": {
        "vscode": {
          "languageId": "python"
        }
      },
      "outputs": [],
      "source": [
        "_df.query(\" '2021-12-29' <=  index <= '2022-01-03' and A+B<C  \")"
      ],
      "id": "8f486042-66b3-47ba-9fcb-e3929a3c8a98"
    },
    {
      "cell_type": "markdown",
      "metadata": {},
      "source": [
        "`-` query가 만능은 아니다."
      ],
      "id": "0c4aca7f-8d15-4dce-8186-931376877b86"
    },
    {
      "cell_type": "code",
      "execution_count": 439,
      "metadata": {
        "vscode": {
          "languageId": "python"
        }
      },
      "outputs": [],
      "source": [
        "df.columns = pd.Index(['att score', 'rep score', 'mid score', 'fin score'])"
      ],
      "id": "0b5e1215-19e1-4777-9fd1-bf84380b20f5"
    },
    {
      "cell_type": "code",
      "execution_count": 455,
      "metadata": {
        "vscode": {
          "languageId": "python"
        }
      },
      "outputs": [],
      "source": [
        "df.query(\" att score < 90 \")\n",
        "# df.loc[df['att score'] < 90,:] <-- 이렇게 구현하면 된다! (아니면 변수이름을 바꿔주는 코드를 짜든가)"
      ],
      "id": "af03db04-3c7e-42b3-8439-f91f99af2b8e"
    },
    {
      "cell_type": "markdown",
      "metadata": {},
      "source": [
        "# 판다스 공부 3단계\n",
        "\n",
        "## 전치"
      ],
      "id": "926736e3-3a86-4702-85ff-d2d399e1f419"
    },
    {
      "cell_type": "code",
      "execution_count": 457,
      "metadata": {
        "vscode": {
          "languageId": "python"
        }
      },
      "outputs": [],
      "source": [
        "ndarray = np.arange(2*3).reshape(2,3)\n",
        "df = pd.DataFrame(ndarray)\n",
        "df"
      ],
      "id": "dd461b3a-0818-4c1c-b9ee-cdfc8e2ef0d0"
    },
    {
      "cell_type": "code",
      "execution_count": 458,
      "metadata": {
        "vscode": {
          "languageId": "python"
        }
      },
      "outputs": [],
      "source": [
        "ndarray.T"
      ],
      "id": "8cabb137-a66d-4423-80f4-435031a1174b"
    },
    {
      "cell_type": "code",
      "execution_count": 459,
      "metadata": {
        "vscode": {
          "languageId": "python"
        }
      },
      "outputs": [],
      "source": [
        "df.T"
      ],
      "id": "e898d5f4-8d86-4638-b893-b2c43152de3e"
    },
    {
      "cell_type": "markdown",
      "metadata": {},
      "source": [
        "## 합"
      ],
      "id": "6c919136-e58d-4b4a-88c8-372684aca49f"
    },
    {
      "cell_type": "code",
      "execution_count": 461,
      "metadata": {
        "vscode": {
          "languageId": "python"
        }
      },
      "outputs": [],
      "source": [
        "ndarray.sum(axis=0)"
      ],
      "id": "a67bf1e4-9e78-4f56-a056-17eb140fb222"
    },
    {
      "cell_type": "code",
      "execution_count": 462,
      "metadata": {
        "vscode": {
          "languageId": "python"
        }
      },
      "outputs": [],
      "source": [
        "df.sum(axis=0)"
      ],
      "id": "92b8bddb-9349-484a-8eed-450b29504614"
    },
    {
      "cell_type": "code",
      "execution_count": 463,
      "metadata": {
        "vscode": {
          "languageId": "python"
        }
      },
      "outputs": [],
      "source": [
        "ndarray.sum(axis=1)"
      ],
      "id": "0908ae27-b01c-49a4-bdf5-422b97fddb2c"
    },
    {
      "cell_type": "code",
      "execution_count": 464,
      "metadata": {
        "vscode": {
          "languageId": "python"
        }
      },
      "outputs": [],
      "source": [
        "df.sum(axis=1)"
      ],
      "id": "6d381dd1-a18a-4ca2-86d2-a50472b7731a"
    },
    {
      "cell_type": "markdown",
      "metadata": {},
      "source": [
        "## cumsum"
      ],
      "id": "259ed113-d708-4b35-ae2a-6dca82526c9c"
    },
    {
      "cell_type": "code",
      "execution_count": 465,
      "metadata": {
        "vscode": {
          "languageId": "python"
        }
      },
      "outputs": [],
      "source": [
        "df"
      ],
      "id": "56f0edc0-a5ea-4909-9da4-b144158f7afe"
    },
    {
      "cell_type": "code",
      "execution_count": 466,
      "metadata": {
        "vscode": {
          "languageId": "python"
        }
      },
      "outputs": [],
      "source": [
        "ndarray.cumsum(axis=0)"
      ],
      "id": "30429c61-c44d-4ada-8f20-40bee7f2b643"
    },
    {
      "cell_type": "code",
      "execution_count": 467,
      "metadata": {
        "vscode": {
          "languageId": "python"
        }
      },
      "outputs": [],
      "source": [
        "df.cumsum(axis=0)"
      ],
      "id": "3a147713-f779-4b3a-be32-2e2a33254190"
    },
    {
      "cell_type": "code",
      "execution_count": 468,
      "metadata": {
        "vscode": {
          "languageId": "python"
        }
      },
      "outputs": [],
      "source": [
        "ndarray.cumsum(axis=1)"
      ],
      "id": "74767139-565f-449a-b734-ccaa63ff15bd"
    },
    {
      "cell_type": "code",
      "execution_count": 469,
      "metadata": {
        "vscode": {
          "languageId": "python"
        }
      },
      "outputs": [],
      "source": [
        "df.cumsum(axis=1)"
      ],
      "id": "da9af4df-e979-4d0a-9366-a7a2351749f3"
    },
    {
      "cell_type": "markdown",
      "metadata": {},
      "source": [
        "## 형태변환"
      ],
      "id": "a3cfd2da-1178-403b-9d48-a839f0d23c82"
    },
    {
      "cell_type": "code",
      "execution_count": 470,
      "metadata": {
        "vscode": {
          "languageId": "python"
        }
      },
      "outputs": [],
      "source": [
        "ndarray.tolist()"
      ],
      "id": "19c31972-5b3b-461b-8e02-d38d41a96a59"
    },
    {
      "cell_type": "code",
      "execution_count": 478,
      "metadata": {
        "vscode": {
          "languageId": "python"
        }
      },
      "outputs": [],
      "source": [
        "df.to_dict()"
      ],
      "id": "ef09c294-4957-49a9-91ab-15fbde664d43"
    },
    {
      "cell_type": "code",
      "execution_count": 477,
      "metadata": {
        "vscode": {
          "languageId": "python"
        }
      },
      "outputs": [],
      "source": [
        "df.to_numpy()"
      ],
      "id": "6ac07346-6b12-40e0-8304-257d005c3f34"
    },
    {
      "cell_type": "code",
      "execution_count": 476,
      "metadata": {
        "vscode": {
          "languageId": "python"
        }
      },
      "outputs": [],
      "source": [
        "df.to_numpy().tolist()"
      ],
      "id": "e8fc395c-4434-464f-bf7e-da9d29e4084a"
    },
    {
      "cell_type": "markdown",
      "metadata": {},
      "source": [
        "# Quiz\n",
        "\n",
        "`-` 아래의 데이터프레임에서 1,3번째 열을 추출하라."
      ],
      "id": "0e0bf48d-25b8-4f9c-992b-5effaa739e30"
    },
    {
      "cell_type": "code",
      "execution_count": 481,
      "metadata": {
        "vscode": {
          "languageId": "python"
        }
      },
      "outputs": [],
      "source": [
        "df= pd.DataFrame({'att':[90,90,95],'rep':[80,90,90],'mid':[50,60,70], 'fin':[70,80,50]})\n",
        "df"
      ],
      "id": "e22753f1-5d36-4fe2-8445-1fe9579a2b57"
    }
  ],
  "nbformat": 4,
  "nbformat_minor": 5,
  "metadata": {
    "kernelspec": {
      "name": "python3",
      "display_name": "Python 3",
      "language": "python"
    }
  }
}