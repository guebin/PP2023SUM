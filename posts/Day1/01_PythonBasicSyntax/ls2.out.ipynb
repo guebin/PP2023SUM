{
  "cells": [
    {
      "cell_type": "markdown",
      "metadata": {},
      "source": [
        "# Lesson 02: 파이썬의 자료형 II (list, tuple)\n",
        "\n",
        "최규빈  \n",
        "2023-06-24\n",
        "\n",
        "<a href=\"https://colab.research.google.com/github/guebin/PP2023SUM/blob/main/posts/Day1/01_PythonBasicSyntax/ls2.ipynb\"><img src=\"https://colab.research.google.com/assets/colab-badge.svg\" style=\"text-align: left\"></a>\n",
        "\n",
        "# list\n",
        "\n",
        "## 선언\n",
        "\n",
        "`-` 리스트의 선언"
      ],
      "id": "ce09f79a-758e-49e6-badb-094f13beec68"
    },
    {
      "cell_type": "code",
      "execution_count": 8,
      "metadata": {},
      "outputs": [],
      "source": [
        "a=[11,22]\n",
        "a"
      ],
      "id": "9f3b17b8-4f97-47c0-a2d5-7993409423b8"
    },
    {
      "cell_type": "code",
      "execution_count": 9,
      "metadata": {},
      "outputs": [],
      "source": [
        "type(a)"
      ],
      "id": "2ef4c156-aecb-4f0b-a020-7e65113dd0dc"
    },
    {
      "cell_type": "markdown",
      "metadata": {},
      "source": [
        "`-` 비어있는 리스트의 선언"
      ],
      "id": "1e77e0a2-256b-4cc3-8e88-de879636eeb4"
    },
    {
      "cell_type": "code",
      "execution_count": 13,
      "metadata": {},
      "outputs": [],
      "source": [
        "a=[11] # 방법1\n",
        "a"
      ],
      "id": "a38b1c1a-c9f6-46f6-b8ce-fb48569c72fd"
    },
    {
      "cell_type": "code",
      "execution_count": 14,
      "metadata": {},
      "outputs": [],
      "source": [
        "len(a)"
      ],
      "id": "c13f945c-bc35-4de4-abf2-e50dcfa74b2b"
    },
    {
      "cell_type": "code",
      "execution_count": 15,
      "metadata": {},
      "outputs": [],
      "source": [
        "a=11"
      ],
      "id": "a2384d5a-75ea-45cd-bd52-0cd28f1c4c0b"
    },
    {
      "cell_type": "code",
      "execution_count": 4,
      "metadata": {},
      "outputs": [],
      "source": [
        "a=list() # 방법2\n",
        "a"
      ],
      "id": "e8f5c680-6947-4537-b2f4-6d518418c130"
    },
    {
      "cell_type": "markdown",
      "metadata": {},
      "source": [
        "## 연산\n",
        "\n",
        "`-` 더하기연산"
      ],
      "id": "41f53bf6-73a8-423f-a382-9a06afd742da"
    },
    {
      "cell_type": "code",
      "execution_count": 5,
      "metadata": {},
      "outputs": [],
      "source": [
        "a=[11,12]\n",
        "b=[12,13]"
      ],
      "id": "79d6bd44-21d2-4274-b283-a5df2d39db6b"
    },
    {
      "cell_type": "code",
      "execution_count": 6,
      "metadata": {},
      "outputs": [],
      "source": [
        "a"
      ],
      "id": "80c3f98b-57e3-462b-a93d-62cf260a9e9d"
    },
    {
      "cell_type": "code",
      "execution_count": 7,
      "metadata": {},
      "outputs": [],
      "source": [
        "b"
      ],
      "id": "fd675de2-6ddc-4a4d-bfc3-4455007ae42c"
    },
    {
      "cell_type": "code",
      "execution_count": 8,
      "metadata": {},
      "outputs": [],
      "source": [
        "a+b"
      ],
      "id": "5efc9f01-63d4-46ce-a6be-5c31be1891d9"
    },
    {
      "cell_type": "markdown",
      "metadata": {},
      "source": [
        "-   우리의 예상과 다른 결과가 나옴 $\\to$ 파이썬은 R처럼 자체적으로 좋은\n",
        "    계산기능을 내장하고 있지 않음.\n",
        "\n",
        "`-` 브로드캐스팅과 같이 R에서는 당연히 가능했던 기능을 사용할 수 없음."
      ],
      "id": "b48b161c-bd77-4007-8c53-66353f521382"
    },
    {
      "cell_type": "code",
      "execution_count": 19,
      "metadata": {},
      "outputs": [],
      "source": [
        "a=[1,2,3]\n",
        "b=1\n",
        "a+b"
      ],
      "id": "27de908e-8426-4d4a-bead-43702510b0d8"
    },
    {
      "cell_type": "markdown",
      "metadata": {},
      "source": [
        "`-` 뺄셈은 정의되지 않음"
      ],
      "id": "6f22fe4d-9002-43ec-901f-f41dd7584650"
    },
    {
      "cell_type": "code",
      "execution_count": 20,
      "metadata": {},
      "outputs": [],
      "source": [
        "a=[1,2]\n",
        "b=[1,2]\n",
        "a-b"
      ],
      "id": "722b5559-7e5c-4636-8e99-359efddf6bba"
    },
    {
      "cell_type": "markdown",
      "metadata": {},
      "source": [
        "`-` 곱하기는 정의가능"
      ],
      "id": "e1d2a1b3-60d0-408b-baff-2465b0774292"
    },
    {
      "cell_type": "code",
      "execution_count": 11,
      "metadata": {},
      "outputs": [],
      "source": [
        "a=[1,2]"
      ],
      "id": "e46da257-9da2-4ecc-ae68-10e14e471ce4"
    },
    {
      "cell_type": "code",
      "execution_count": 12,
      "metadata": {},
      "outputs": [],
      "source": [
        "2*a # a+a "
      ],
      "id": "00ef7fe8-0f16-4aff-8d92-1b4c565058f9"
    },
    {
      "cell_type": "markdown",
      "metadata": {},
      "source": [
        "`-` 나눗셈은 정의되지 않음"
      ],
      "id": "fff79baf-b37e-4230-9cc4-43e937625b8d"
    },
    {
      "cell_type": "code",
      "execution_count": 13,
      "metadata": {},
      "outputs": [],
      "source": [
        "a=[1,2,1,2]\n",
        "a/2"
      ],
      "id": "f583bdb6-776b-42d5-815e-97a462038547"
    },
    {
      "cell_type": "markdown",
      "metadata": {},
      "source": [
        "`-` 더하기와 곱하기는 원소의 추가와 반복추가를 의미하지만 그렇다고 해서\n",
        "뺄셈과 나눗셈이 원소의 삭제를 의미하는것은 아님"
      ],
      "id": "1c395ef1-65f9-4c97-a117-04a1abb9054e"
    },
    {
      "cell_type": "code",
      "execution_count": 14,
      "metadata": {},
      "outputs": [],
      "source": [
        "a=[1,2,3]\n",
        "a-[3] # 이런건 없다"
      ],
      "id": "d640d22f-a528-444c-8825-85e95094ec89"
    },
    {
      "cell_type": "code",
      "execution_count": 15,
      "metadata": {},
      "outputs": [],
      "source": [
        "a=[1,2,1,2,1,2]\n",
        "a/3 # 이런건 없다"
      ],
      "id": "93d3f645-d153-4dbf-92a1-78d192d0dfa6"
    },
    {
      "cell_type": "markdown",
      "metadata": {},
      "source": [
        "`-` 더하기와 곱하기가 원소의 추가와 반복추가를 의미하여 편리할때도\n",
        "있긴하지만, 우리는 산술적인 `+`, `*` 를 원하는 경우도 있다. 이럴 경우는\n",
        "어떻게 할 수 있을까?\n",
        "\n",
        "(예제)"
      ],
      "id": "4940e74a-ef8b-46c9-b4d0-f3367eb430f0"
    },
    {
      "cell_type": "code",
      "execution_count": 21,
      "metadata": {},
      "outputs": [],
      "source": [
        "a=[1,2]\n",
        "b=[3,4]"
      ],
      "id": "899102b7-43bd-47e5-a004-adec448d6bc1"
    },
    {
      "cell_type": "markdown",
      "metadata": {},
      "source": [
        "a+b = \\[4,6\\] 이 되도록 하려면?\n",
        "\n",
        "(풀이1)"
      ],
      "id": "a6f19529-5801-4f6b-9ea2-98a409859d65"
    },
    {
      "cell_type": "code",
      "execution_count": 67,
      "metadata": {},
      "outputs": [],
      "source": [
        "a[0]+b[0] # a의 첫번째 원소를 추출, b의 첫번째 원소를 추출, 둘을 더함 "
      ],
      "id": "8c8ca5b6-5b12-4ce9-b8f8-fddb49fc4cb0"
    },
    {
      "cell_type": "code",
      "execution_count": 18,
      "metadata": {},
      "outputs": [],
      "source": [
        "a[1]+b[1] # a의 두번째 원소를 추출, b의 두번째 원소를 추출, 둘을 더함 "
      ],
      "id": "4fb152aa-6fb8-4ded-8e7a-7bc1322a9fa6"
    },
    {
      "cell_type": "code",
      "execution_count": 19,
      "metadata": {},
      "outputs": [],
      "source": [
        "[a[0]+b[0],a[1]+b[1]]"
      ],
      "id": "4e4295d8-7c85-402f-ada1-3da02d80dc80"
    },
    {
      "cell_type": "markdown",
      "metadata": {},
      "source": [
        "풀이가 가능한 이유? a,b는 리스트이지만 a\\[0\\], a\\[1\\], b\\[0\\], b\\[1\\] 은\n",
        "각각 인트형임. 인트형은 + 연산이 가능했음.\n",
        "\n",
        "(풀이2)\n",
        "\n",
        "numpy 패키지 (파이썬의 여러 수치연산들을 담당하는 라이브러리)\n",
        "\n",
        "-   이러한 벡터연산은 누구나 필요로 하는 연산임.\n",
        "-   내가 아니더라도 누군가가 프로그램화 해놓았을 것임.\n",
        "-   그 누군가가 자신이 만든 코드를 잘 정리하여 무료로 배포했을 수도\n",
        "    있음. (패키지를 배포한다고 표현)\n",
        "-   그 패키지를 우리는 가져와서 설치한뒤 사용하기만 하면된다.\n",
        "\n",
        "패키지를 설치하는 방법 (코랩은 이미 설치되어 있음)\n",
        "\n",
        "-   `!pip install numpy` \\# 최신버전을 설치함\n",
        "-   `!conda install -c conda-forge numpy -y` \\# 안전한 버전을 설치함\n",
        "\n",
        "설치된 패키지를 사용하는 방법\n",
        "\n",
        "-   `import numpy` 한뒤에 `numpy.??`로 기능을 사용\n",
        "-   `import numpy as np` 한뒤에 `np.??`로 기능을 사용"
      ],
      "id": "2f058b93-8d8d-4277-aa2b-f044a06c6bd3"
    },
    {
      "cell_type": "code",
      "execution_count": 31,
      "metadata": {},
      "outputs": [],
      "source": [
        "import numpy ## 설치한패키지를 쓰겠다고 선언함 "
      ],
      "id": "bb738051-bf3d-4bfe-b400-8229e3d58d6d"
    },
    {
      "cell_type": "code",
      "execution_count": 32,
      "metadata": {},
      "outputs": [],
      "source": [
        "a=[1,2]\n",
        "b=[3,4]"
      ],
      "id": "d7037a7b-4f87-4cd9-853a-54a11abb0329"
    },
    {
      "cell_type": "code",
      "execution_count": 47,
      "metadata": {},
      "outputs": [],
      "source": [
        "aa=numpy.array(a) \n",
        "bb=numpy.array(b)\n",
        "# aa,bb는 리스트가 아니라 넘파이 어레이,\n",
        "# numpy.array()는 numpy패키지에서 제공하는 array함수를 쓰겠다는 의미. "
      ],
      "id": "688f9c81-34a5-4901-97c6-a4ab1bc47c50"
    },
    {
      "cell_type": "code",
      "execution_count": 52,
      "metadata": {},
      "outputs": [],
      "source": [
        "aa+bb"
      ],
      "id": "2161f70f-aa36-4605-8042-39f153c34590"
    },
    {
      "cell_type": "markdown",
      "metadata": {},
      "source": [
        "이런것도 가능"
      ],
      "id": "5b70dc74-5818-44c0-b179-2e62e204e9b7"
    },
    {
      "cell_type": "code",
      "execution_count": 55,
      "metadata": {},
      "outputs": [],
      "source": [
        "2*aa"
      ],
      "id": "fcf21c49-af56-42fe-987f-a80e71d8be67"
    },
    {
      "cell_type": "code",
      "execution_count": 57,
      "metadata": {},
      "outputs": [],
      "source": [
        "2*aa+1"
      ],
      "id": "99892da4-1fe7-4576-98be-cd6c3ef75d7a"
    },
    {
      "cell_type": "code",
      "execution_count": 59,
      "metadata": {},
      "outputs": [],
      "source": [
        "2*aa+1+bb"
      ],
      "id": "f0f44281-b11b-4082-9d3d-2b3e7e9705d4"
    },
    {
      "cell_type": "markdown",
      "metadata": {},
      "source": [
        "(풀이3)"
      ],
      "id": "4cd2eeb1-5ec8-4dd9-b7c8-27b6aafd5852"
    },
    {
      "cell_type": "code",
      "execution_count": 49,
      "metadata": {},
      "outputs": [],
      "source": [
        "import numpy as np ## 설치한 numpy라는 패키지를 쓰겠음. 그런데 numpy말고 np라는 이름으로 쓰겠음"
      ],
      "id": "ba2ac7bc-9326-4065-9afc-037c5c4b1fc4"
    },
    {
      "cell_type": "code",
      "execution_count": 51,
      "metadata": {},
      "outputs": [],
      "source": [
        "np.array(a)"
      ],
      "id": "a6f7c498-1459-4223-9f24-962bfceeede8"
    },
    {
      "cell_type": "code",
      "execution_count": 52,
      "metadata": {},
      "outputs": [],
      "source": [
        "a=[1,2]\n",
        "b=[3,4]\n",
        "np.array(a)+np.array(b)"
      ],
      "id": "4d0a6c56-c3db-429f-b004-64324ff55119"
    },
    {
      "cell_type": "markdown",
      "metadata": {},
      "source": [
        "## 인덱싱\n",
        "\n",
        "`-` str형과 동일한 방식"
      ],
      "id": "9707a00a-50a7-4752-a915-a42522183608"
    },
    {
      "cell_type": "code",
      "execution_count": 77,
      "metadata": {},
      "outputs": [],
      "source": [
        "a=[11,22,33,44,55] # 0 -4 -3 -2 -1"
      ],
      "id": "cf8a0de8-3802-4d63-84d9-6c4bc341d486"
    },
    {
      "cell_type": "code",
      "execution_count": 76,
      "metadata": {},
      "outputs": [],
      "source": [
        "a[-2:] # 끝의 2개의 원소를 뽑음 "
      ],
      "id": "76d0ba13-6dd5-4950-adc7-6df970d3f832"
    },
    {
      "cell_type": "markdown",
      "metadata": {},
      "source": [
        "## list 고급\n",
        "\n",
        "### 리스트는 컨테이너형 객체이다.\n",
        "\n",
        "`-` 리스트의 원소는 int, float 따위만 가능한 것이 아니다. (리스트는\n",
        "컨테이너형 객체이므로)"
      ],
      "id": "64fc0e36-3f0c-4b10-9d5d-9d9c60456334"
    },
    {
      "cell_type": "code",
      "execution_count": 53,
      "metadata": {},
      "outputs": [],
      "source": [
        "lst = [1,3.14,True,'a',[1,2], \n",
        "       (1,2),{'name':'iu','age':27},{1,2,3}]"
      ],
      "id": "5232ac18-5f23-481a-b67d-fe7d07260389"
    },
    {
      "cell_type": "code",
      "execution_count": 55,
      "metadata": {},
      "outputs": [],
      "source": [
        "lst"
      ],
      "id": "8876bcad-c1f2-4196-8301-fba060f29d52"
    },
    {
      "cell_type": "markdown",
      "metadata": {},
      "source": [
        "각 원소의 타입을 알아보자."
      ],
      "id": "a38adf41-ea9e-455e-a5ff-9a703662ee49"
    },
    {
      "cell_type": "code",
      "execution_count": 80,
      "metadata": {},
      "outputs": [],
      "source": [
        "type(lst[0])"
      ],
      "id": "195edf90-bdcc-4056-92c1-a6b0f101b791"
    },
    {
      "cell_type": "code",
      "execution_count": 81,
      "metadata": {},
      "outputs": [],
      "source": [
        "type(lst[1])"
      ],
      "id": "f0d21aa3-17d8-4d91-8c6e-4c5be0310886"
    },
    {
      "cell_type": "code",
      "execution_count": 82,
      "metadata": {},
      "outputs": [],
      "source": [
        "type(lst[2])"
      ],
      "id": "7f15299c-bc44-425f-9fdb-ba2ea88c57ba"
    },
    {
      "cell_type": "code",
      "execution_count": 83,
      "metadata": {},
      "outputs": [],
      "source": [
        "type(lst[3])"
      ],
      "id": "04d1407a-134c-497d-9bff-1f6328463958"
    },
    {
      "cell_type": "code",
      "execution_count": 84,
      "metadata": {},
      "outputs": [],
      "source": [
        "type(lst[4])"
      ],
      "id": "251f8901-35e2-49d3-bcc9-8df687c398d6"
    },
    {
      "cell_type": "code",
      "execution_count": 85,
      "metadata": {},
      "outputs": [],
      "source": [
        "type(lst[5])"
      ],
      "id": "fc6e51bd-ef7d-4fdf-b83a-b68dbd8e2ca4"
    },
    {
      "cell_type": "code",
      "execution_count": 86,
      "metadata": {},
      "outputs": [],
      "source": [
        "type(lst[6])"
      ],
      "id": "7bf25447-277b-4ecd-a0c2-11ca62978eb5"
    },
    {
      "cell_type": "code",
      "execution_count": 87,
      "metadata": {},
      "outputs": [],
      "source": [
        "type(lst[7])"
      ],
      "id": "f5de5bed-9f2c-45a3-a999-6c6a6b603751"
    },
    {
      "cell_type": "markdown",
      "metadata": {},
      "source": [
        "`-` str은 컨테이너형이 아니다."
      ],
      "id": "2f3ef0f7-3f41-40e6-843b-bbe375bf9bae"
    },
    {
      "cell_type": "code",
      "execution_count": 57,
      "metadata": {},
      "outputs": [],
      "source": [
        "'abcd'[2]"
      ],
      "id": "e4ae066a-74c4-48f9-908b-41e92ac5cdf4"
    },
    {
      "cell_type": "markdown",
      "metadata": {},
      "source": [
        "-   str의 모든 원소는 문자임\n",
        "\n",
        "### 리스트는 가변형 객체이다.\n",
        "\n",
        "#### 리스트의 원소 수정\n",
        "\n",
        "`-` 리스트의 원소를 수정할 수 있다. (리스트는 가변객체이므로)"
      ],
      "id": "53e2624f-7be6-443b-9606-32ffbe4226fe"
    },
    {
      "cell_type": "code",
      "execution_count": 58,
      "metadata": {},
      "outputs": [],
      "source": [
        "a=[11,22,33]\n",
        "a"
      ],
      "id": "fc9f6aa4-3683-4165-b558-89e26d6fcd77"
    },
    {
      "cell_type": "code",
      "execution_count": 97,
      "metadata": {},
      "outputs": [],
      "source": [
        "a[0]"
      ],
      "id": "a77fcc83-b574-47ca-97e0-60d96c5368ba"
    },
    {
      "cell_type": "code",
      "execution_count": 98,
      "metadata": {},
      "outputs": [],
      "source": [
        "a[0]=111"
      ],
      "id": "c3d183ad-f215-42e7-8135-985c19cebce6"
    },
    {
      "cell_type": "code",
      "execution_count": 99,
      "metadata": {},
      "outputs": [],
      "source": [
        "a"
      ],
      "id": "a11b4638-e8f2-4672-888c-e17ec6ed4c56"
    },
    {
      "cell_type": "markdown",
      "metadata": {},
      "source": [
        "`-` 원소수정은 당연한 기능같은데 이것이 불가능한 경우도 있다.\n",
        "\n",
        "(가능한경우)"
      ],
      "id": "8b4505a3-31a8-477a-88de-f57e61eb2166"
    },
    {
      "cell_type": "code",
      "execution_count": 59,
      "metadata": {},
      "outputs": [],
      "source": [
        "a=['g','u','e','b','i','n']\n",
        "a"
      ],
      "id": "4e512f30-0d0e-4521-b7f8-3c3502d8b45d"
    },
    {
      "cell_type": "code",
      "execution_count": 104,
      "metadata": {},
      "outputs": [],
      "source": [
        "a[0]"
      ],
      "id": "78913261-4417-4475-a12b-2ecda95a11da"
    },
    {
      "cell_type": "code",
      "execution_count": 105,
      "metadata": {},
      "outputs": [],
      "source": [
        "a[0]='G'"
      ],
      "id": "d521469d-6bd5-44a5-824b-2c734690a0bb"
    },
    {
      "cell_type": "code",
      "execution_count": 106,
      "metadata": {},
      "outputs": [],
      "source": [
        "a"
      ],
      "id": "f6741217-3566-487b-8389-4b06fb9f7846"
    },
    {
      "cell_type": "markdown",
      "metadata": {},
      "source": [
        "(불가능한경우)"
      ],
      "id": "83e1438c-487f-49ae-a286-8f1a10bd229c"
    },
    {
      "cell_type": "code",
      "execution_count": 65,
      "metadata": {},
      "outputs": [],
      "source": [
        "a='guebin'\n",
        "a"
      ],
      "id": "69de5b4b-303f-4fbf-97d2-2ea057efb763"
    },
    {
      "cell_type": "code",
      "execution_count": 66,
      "metadata": {},
      "outputs": [],
      "source": [
        "type(a)"
      ],
      "id": "292791ee-bebb-4638-a3d1-91f2534898e7"
    },
    {
      "cell_type": "code",
      "execution_count": 67,
      "metadata": {},
      "outputs": [],
      "source": [
        "a[0]"
      ],
      "id": "c89fd5c0-09d1-44df-8fdd-5e30cf7737f9"
    },
    {
      "cell_type": "code",
      "execution_count": 68,
      "metadata": {},
      "outputs": [],
      "source": [
        "a[0]='G'"
      ],
      "id": "11047950-3bea-47cd-b4c6-067aea25f90e"
    },
    {
      "cell_type": "markdown",
      "metadata": {},
      "source": [
        "#### 리스트의 원소 삭제\n",
        "\n",
        "(예제)\n",
        "\n",
        "아래와 같이 문자로 된 리스트를 선언하자."
      ],
      "id": "455bfbc8-2711-4744-9c5b-6bb3b343de27"
    },
    {
      "cell_type": "code",
      "execution_count": 118,
      "metadata": {},
      "outputs": [],
      "source": [
        "a=['g','u','e','b','i','n']\n",
        "a"
      ],
      "id": "f9570ff3-37ea-4239-8d19-26da3daf4831"
    },
    {
      "cell_type": "markdown",
      "metadata": {},
      "source": [
        "사실 더 쉽게 선언할 수 있음"
      ],
      "id": "529e1975-e69e-4177-b230-9878628c2647"
    },
    {
      "cell_type": "code",
      "execution_count": 120,
      "metadata": {},
      "outputs": [],
      "source": [
        "a= 'guebin' # string으로 a를 선언\n",
        "a= list(a) # list(a)를 통하여 str을 ㅣist로 변환 -> 그 결과를 a에 다시 저장\n",
        "a"
      ],
      "id": "cccdef08-6317-4a82-9c1f-f87cf59fb8f7"
    },
    {
      "cell_type": "markdown",
      "metadata": {},
      "source": [
        "첫번째 원소를 삭제하고 싶다면?"
      ],
      "id": "aa76c559-85aa-4023-a59e-e296fbc5d922"
    },
    {
      "cell_type": "code",
      "execution_count": 121,
      "metadata": {},
      "outputs": [],
      "source": [
        "del a[0]"
      ],
      "id": "486a250d-982a-4b1a-a664-943f2dd0ae02"
    },
    {
      "cell_type": "code",
      "execution_count": 122,
      "metadata": {},
      "outputs": [],
      "source": [
        "a"
      ],
      "id": "79a7c837-7322-4c26-b3c7-90a78968ed07"
    },
    {
      "cell_type": "markdown",
      "metadata": {},
      "source": [
        "이 상태에서 다시 첫번쨰 원소를 삭제한다면?"
      ],
      "id": "34d1440f-ed07-470b-bf11-f31acb742e1c"
    },
    {
      "cell_type": "code",
      "execution_count": 123,
      "metadata": {},
      "outputs": [],
      "source": [
        "del a[0]"
      ],
      "id": "a8d6b8e1-7385-4965-b7f4-a534bac13eb4"
    },
    {
      "cell_type": "code",
      "execution_count": 124,
      "metadata": {},
      "outputs": [],
      "source": [
        "a"
      ],
      "id": "2f200f80-d5b4-4be2-ae37-724bbffe7128"
    },
    {
      "cell_type": "markdown",
      "metadata": {},
      "source": [
        "#### 리스트의 원소 추가\n",
        "\n",
        "(예제) 비어있는 리스트를 만들고 원소 0,1,2를 차례로 추가하여 보자.\n",
        "\n",
        "(풀이1)"
      ],
      "id": "dddb142b-805b-4832-9205-95f27b1bb14a"
    },
    {
      "cell_type": "code",
      "execution_count": 130,
      "metadata": {},
      "outputs": [],
      "source": [
        "a=[]\n",
        "a"
      ],
      "id": "d61cf09a-0f9f-4f94-8a3c-95b173e13442"
    },
    {
      "cell_type": "code",
      "execution_count": 131,
      "metadata": {},
      "outputs": [],
      "source": [
        "a= a + [0] \n",
        "a"
      ],
      "id": "831767cc-3efc-42e6-a6da-53c81092d6fc"
    },
    {
      "cell_type": "code",
      "execution_count": 132,
      "metadata": {},
      "outputs": [],
      "source": [
        "a= a + [1]\n",
        "a"
      ],
      "id": "594b7449-3906-4937-a2be-72e5543439c0"
    },
    {
      "cell_type": "code",
      "execution_count": 133,
      "metadata": {},
      "outputs": [],
      "source": [
        "a= a + [2]\n",
        "a"
      ],
      "id": "85d5cddb-c5cd-40a1-8858-01c38a18f2ff"
    },
    {
      "cell_type": "markdown",
      "metadata": {},
      "source": [
        "(풀이2)"
      ],
      "id": "b8b6aff0-f49f-4ade-9102-4aeedc34c661"
    },
    {
      "cell_type": "code",
      "execution_count": 74,
      "metadata": {},
      "outputs": [],
      "source": [
        "a=[]\n",
        "a"
      ],
      "id": "f7069317-fe32-4d42-a1b5-4b499d8c6fb8"
    },
    {
      "cell_type": "code",
      "execution_count": 75,
      "metadata": {},
      "outputs": [],
      "source": [
        "a += [0] \n",
        "a"
      ],
      "id": "d043530b-1f4c-4b5c-8db6-1b1b16073d25"
    },
    {
      "cell_type": "code",
      "execution_count": 76,
      "metadata": {},
      "outputs": [],
      "source": [
        "a += [1]\n",
        "a"
      ],
      "id": "66ec8ed6-5319-4bb5-940b-00d728dc5083"
    },
    {
      "cell_type": "code",
      "execution_count": 77,
      "metadata": {},
      "outputs": [],
      "source": [
        "a += [2]\n",
        "a"
      ],
      "id": "d40e1a11-2e5b-4a28-ac4e-d529e059b461"
    },
    {
      "cell_type": "markdown",
      "metadata": {},
      "source": [
        "-   암기법: 중복되는 변수를 지우고 연산자의 순서를 바꾼다.\n",
        "\n",
        "(풀이3) 리스트 특화기능(=메소드)를 이용"
      ],
      "id": "94da6df3-36ef-4155-b6fd-f9b2257c44ab"
    },
    {
      "cell_type": "code",
      "execution_count": 78,
      "metadata": {},
      "outputs": [],
      "source": [
        "a=[]\n",
        "a"
      ],
      "id": "2f126016-75de-4a6c-9e86-d99b129e44e2"
    },
    {
      "cell_type": "code",
      "execution_count": 146,
      "metadata": {},
      "outputs": [],
      "source": [
        "a.append(0)\n",
        "a"
      ],
      "id": "fe3e9657-dd8e-4bba-a3c6-6a584da00f38"
    },
    {
      "cell_type": "code",
      "execution_count": 147,
      "metadata": {},
      "outputs": [],
      "source": [
        "a.append(1)\n",
        "a"
      ],
      "id": "0df5b8c5-69bb-42c8-9625-ef6c6ea40381"
    },
    {
      "cell_type": "code",
      "execution_count": 148,
      "metadata": {},
      "outputs": [],
      "source": [
        "a.append(2)\n",
        "a"
      ],
      "id": "38c29cd4-a278-4f3d-a364-9f75d04e6380"
    },
    {
      "cell_type": "markdown",
      "metadata": {},
      "source": [
        "`-` `a+[4]`와 `a.append(4)`의 차이점은?\n",
        "\n",
        "(관찰1)"
      ],
      "id": "76db372f-c308-492f-b66d-ec0443b7676a"
    },
    {
      "cell_type": "code",
      "execution_count": 149,
      "metadata": {},
      "outputs": [],
      "source": [
        "a=[1,2,3]\n",
        "a+[4] ## 리스트 a와 리스트 [4]의 연산결과를 알려줘 "
      ],
      "id": "52eb1d51-f837-408d-b37c-cabe0ab90f04"
    },
    {
      "cell_type": "code",
      "execution_count": 151,
      "metadata": {},
      "outputs": [],
      "source": [
        "a ## a는 그대로임. 변화없음 "
      ],
      "id": "d837aa40-6737-46c9-8770-c76fa3b6db08"
    },
    {
      "cell_type": "markdown",
      "metadata": {},
      "source": [
        "(관찰2)"
      ],
      "id": "50c27afb-7607-4694-b8a1-c06b5ba8e347"
    },
    {
      "cell_type": "code",
      "execution_count": 152,
      "metadata": {},
      "outputs": [],
      "source": [
        "a=[1,2,3]\n",
        "a.append(4)"
      ],
      "id": "aa25fb89-7a7d-4471-9b69-c62c2915f6ae"
    },
    {
      "cell_type": "code",
      "execution_count": 154,
      "metadata": {},
      "outputs": [],
      "source": [
        "a ## a자체가 변화함 "
      ],
      "id": "5cc35555-2bd8-4f1e-a079-9ce07c621eb6"
    },
    {
      "cell_type": "markdown",
      "metadata": {},
      "source": [
        "비슷해보이지만 굉장히 미묘한 차이가 있음\n",
        "\n",
        "`a.append(4)`: `a`에 4를 append하라 $\\to$ `a`가 변함\n",
        "\n",
        "`a+[4]`: `a`와 4를 연산하라\n",
        "\n",
        "## list 특수기능\n",
        "\n",
        "**(append)**"
      ],
      "id": "7edad04e-c830-49d0-9da9-a779f8f66757"
    },
    {
      "cell_type": "code",
      "execution_count": 162,
      "metadata": {},
      "outputs": [],
      "source": [
        "a=[1,2,3,4]\n",
        "a.append?"
      ],
      "id": "3851b578-23dd-4755-9b11-e8dfd8065916"
    },
    {
      "cell_type": "code",
      "execution_count": 163,
      "metadata": {},
      "outputs": [],
      "source": [
        "a.append(5)\n",
        "a"
      ],
      "id": "8980d784-d929-4226-92fa-8d1db6726996"
    },
    {
      "cell_type": "markdown",
      "metadata": {},
      "source": [
        "**(clear)**"
      ],
      "id": "c9308609-303a-46cc-85e9-22896a1576dd"
    },
    {
      "cell_type": "code",
      "execution_count": 166,
      "metadata": {},
      "outputs": [],
      "source": [
        "a=[1,2,3,4]\n",
        "a.clear?"
      ],
      "id": "1bf65ba0-48f8-47bf-b679-4597e656a475"
    },
    {
      "cell_type": "code",
      "execution_count": 168,
      "metadata": {},
      "outputs": [],
      "source": [
        "a.clear()\n",
        "a"
      ],
      "id": "e1d8f438-e0c3-4b7c-bb5d-7f114caf68d7"
    },
    {
      "cell_type": "markdown",
      "metadata": {},
      "source": [
        "**(copy)**"
      ],
      "id": "fcb426a0-4912-4770-ba0e-8ba2f7c07895"
    },
    {
      "cell_type": "code",
      "execution_count": 170,
      "metadata": {},
      "outputs": [],
      "source": [
        "a=[1,2,3,4]\n",
        "a.copy?"
      ],
      "id": "8128859f-f56b-41fe-989c-90dc371b3291"
    },
    {
      "cell_type": "code",
      "execution_count": 171,
      "metadata": {},
      "outputs": [],
      "source": [
        "b=a.copy()\n",
        "b"
      ],
      "id": "24453be5-f6fb-46ae-b3f7-a580d211bbea"
    },
    {
      "cell_type": "markdown",
      "metadata": {},
      "source": [
        "**(count)**"
      ],
      "id": "338b2ee0-e5c0-4df9-8750-27de66f721c6"
    },
    {
      "cell_type": "code",
      "execution_count": 179,
      "metadata": {},
      "outputs": [],
      "source": [
        "a=[1,1,2,3,3,4,4,4]\n",
        "a.count?"
      ],
      "id": "aaa9ba0a-b161-4bde-9070-ff6915c58407"
    },
    {
      "cell_type": "code",
      "execution_count": 181,
      "metadata": {},
      "outputs": [],
      "source": [
        "a.count(1)"
      ],
      "id": "9029bb3b-d51e-4efe-ae53-b0f08a1b818a"
    },
    {
      "cell_type": "code",
      "execution_count": 182,
      "metadata": {},
      "outputs": [],
      "source": [
        "a.count(2)"
      ],
      "id": "67124330-87eb-45d3-aae2-800d8c0616a9"
    },
    {
      "cell_type": "code",
      "execution_count": 183,
      "metadata": {},
      "outputs": [],
      "source": [
        "a.count(3)"
      ],
      "id": "3573e548-2bea-4499-8272-30be98c9863f"
    },
    {
      "cell_type": "code",
      "execution_count": 184,
      "metadata": {},
      "outputs": [],
      "source": [
        "a.count(4)"
      ],
      "id": "826194d3-6949-4d50-98ee-24441272dca7"
    },
    {
      "cell_type": "markdown",
      "metadata": {},
      "source": [
        "**(extend)**"
      ],
      "id": "09df548d-fcee-4d4e-b351-eb73f790fc15"
    },
    {
      "cell_type": "code",
      "execution_count": 198,
      "metadata": {},
      "outputs": [],
      "source": [
        "a=[1,2,3,4]\n",
        "b=[-1,-2,-3,-4]"
      ],
      "id": "069f7a74-6913-447d-b8c2-6b51d7951d75"
    },
    {
      "cell_type": "code",
      "execution_count": 199,
      "metadata": {},
      "outputs": [],
      "source": [
        "a.extend(b)\n",
        "a"
      ],
      "id": "60708d1e-2097-4f55-a971-56e2438a2190"
    },
    {
      "cell_type": "code",
      "execution_count": 200,
      "metadata": {},
      "outputs": [],
      "source": [
        "a=[1,2,3,4]\n",
        "b=[-1,-2,-3,-4]"
      ],
      "id": "46015c7c-ef06-4d14-be57-bb480effe1c8"
    },
    {
      "cell_type": "code",
      "execution_count": 201,
      "metadata": {},
      "outputs": [],
      "source": [
        "a.append(b)"
      ],
      "id": "3868229a-46a5-4259-8ded-c4d568561bb2"
    },
    {
      "cell_type": "code",
      "execution_count": 202,
      "metadata": {},
      "outputs": [],
      "source": [
        "a"
      ],
      "id": "3d0a4c67-0178-4393-b82a-9b1eb207d990"
    },
    {
      "cell_type": "markdown",
      "metadata": {},
      "source": [
        "**(index)**"
      ],
      "id": "04a72835-d3e9-4529-ac12-250f91b3645d"
    },
    {
      "cell_type": "code",
      "execution_count": 236,
      "metadata": {},
      "outputs": [],
      "source": [
        "a=[11,22,'a',True, 22,'a']\n",
        "a.index?"
      ],
      "id": "8b890c76-162b-4120-93ac-5966f9a696dc"
    },
    {
      "cell_type": "code",
      "execution_count": 237,
      "metadata": {},
      "outputs": [],
      "source": [
        "a.index(11)"
      ],
      "id": "87b97700-b21f-45ee-9505-1a67ad5f09a0"
    },
    {
      "cell_type": "code",
      "execution_count": 238,
      "metadata": {},
      "outputs": [],
      "source": [
        "a.index(22)"
      ],
      "id": "b35a2757-358d-4b06-847e-3246e6071b25"
    },
    {
      "cell_type": "code",
      "execution_count": 239,
      "metadata": {},
      "outputs": [],
      "source": [
        "a.index('a')"
      ],
      "id": "ef6df1f9-8050-49c9-8173-db246c18f038"
    },
    {
      "cell_type": "code",
      "execution_count": 240,
      "metadata": {},
      "outputs": [],
      "source": [
        "a.index(True)"
      ],
      "id": "88688402-8cd2-4860-8b7a-7b76e85e3f76"
    },
    {
      "cell_type": "markdown",
      "metadata": {},
      "source": [
        "**(insert)**"
      ],
      "id": "f47f2620-fdc3-48cf-adc5-af6c711eb8bd"
    },
    {
      "cell_type": "code",
      "execution_count": 242,
      "metadata": {},
      "outputs": [],
      "source": [
        "a=[1,2,3]\n",
        "a.insert?"
      ],
      "id": "e10e36f8-072d-4a05-9d88-8e2492b46507"
    },
    {
      "cell_type": "code",
      "execution_count": 243,
      "metadata": {},
      "outputs": [],
      "source": [
        "a.insert(1,88) \n",
        "a"
      ],
      "id": "bdfacd70-6de1-4da4-b970-bbe3d7c9c282"
    },
    {
      "cell_type": "markdown",
      "metadata": {},
      "source": [
        "**(pop)**"
      ],
      "id": "971ce8bf-909f-4176-85d0-1e0cdc139cbc"
    },
    {
      "cell_type": "code",
      "execution_count": 250,
      "metadata": {},
      "outputs": [],
      "source": [
        "a=['a',1,2,'d']\n",
        "a.pop?"
      ],
      "id": "3528b269-7de0-4b9c-b2da-876df6b48447"
    },
    {
      "cell_type": "code",
      "execution_count": 251,
      "metadata": {},
      "outputs": [],
      "source": [
        "a.pop() # index=-1 이므로 마지막원소가 나타남"
      ],
      "id": "0121e8ea-a7a2-47b5-ad64-4cbf471b0cbe"
    },
    {
      "cell_type": "code",
      "execution_count": 252,
      "metadata": {},
      "outputs": [],
      "source": [
        "a # a는 마지막 원소가 사라진 상태"
      ],
      "id": "d9d7be83-5f74-450b-be5c-851849d7f343"
    },
    {
      "cell_type": "code",
      "execution_count": 253,
      "metadata": {},
      "outputs": [],
      "source": [
        "a.pop(0) # index=0 이므로 첫번쨰 원소가 나타남"
      ],
      "id": "25aa58d3-1b46-45fe-a6a5-ae60035b0368"
    },
    {
      "cell_type": "code",
      "execution_count": 254,
      "metadata": {},
      "outputs": [],
      "source": [
        "a # a에는 첫번째 원소가 사라진 상태"
      ],
      "id": "f2e489cd-856d-4f31-a44b-648729fde9fa"
    },
    {
      "cell_type": "markdown",
      "metadata": {},
      "source": [
        "**(remove)**"
      ],
      "id": "14ee8350-0ec9-44f7-b6fe-3f6ea9cb6cdc"
    },
    {
      "cell_type": "code",
      "execution_count": 255,
      "metadata": {},
      "outputs": [],
      "source": [
        "a=['a',2,3,'d']\n",
        "a.remove?"
      ],
      "id": "96103ab2-113f-4b17-afb6-eda220b8e3e8"
    },
    {
      "cell_type": "code",
      "execution_count": 256,
      "metadata": {},
      "outputs": [],
      "source": [
        "a.remove('d')"
      ],
      "id": "0f5bbdbc-7538-4f77-af89-5e0566d64c0c"
    },
    {
      "cell_type": "code",
      "execution_count": 257,
      "metadata": {},
      "outputs": [],
      "source": [
        "a"
      ],
      "id": "aa6de459-bb5c-4ac9-b950-133a2ab6914f"
    },
    {
      "cell_type": "code",
      "execution_count": 259,
      "metadata": {},
      "outputs": [],
      "source": [
        "a.remove('a')"
      ],
      "id": "5a878a34-e3f4-4cc5-b2ec-56b3fa5b8b9d"
    },
    {
      "cell_type": "code",
      "execution_count": 260,
      "metadata": {},
      "outputs": [],
      "source": [
        "a"
      ],
      "id": "1db057c1-8567-427e-8cd0-0a5569cafc52"
    },
    {
      "cell_type": "markdown",
      "metadata": {},
      "source": [
        "**(reverse)**"
      ],
      "id": "7391009b-7568-47f9-bef2-deb927d2de5d"
    },
    {
      "cell_type": "code",
      "execution_count": 262,
      "metadata": {},
      "outputs": [],
      "source": [
        "a=[1,2,3,4]\n",
        "a.reverse?"
      ],
      "id": "d2845a7d-0ed6-40ef-b377-abd20ec460b2"
    },
    {
      "cell_type": "code",
      "execution_count": 263,
      "metadata": {},
      "outputs": [],
      "source": [
        "a.reverse()\n",
        "a"
      ],
      "id": "6c51b8d5-9dc8-435c-a263-a551daaff75e"
    },
    {
      "cell_type": "markdown",
      "metadata": {},
      "source": [
        "**(sort)**"
      ],
      "id": "2d7d7e63-8e83-4cb5-b094-d4e63f7431da"
    },
    {
      "cell_type": "code",
      "execution_count": 265,
      "metadata": {},
      "outputs": [],
      "source": [
        "a=[1,3,2,4]\n",
        "a.sort?"
      ],
      "id": "c30c02bb-d39b-4da0-8ab7-17044a15acb8"
    },
    {
      "cell_type": "code",
      "execution_count": 266,
      "metadata": {},
      "outputs": [],
      "source": [
        "a.sort()\n",
        "a"
      ],
      "id": "753e6d97-7235-4005-9289-4e15cfc428f6"
    },
    {
      "cell_type": "markdown",
      "metadata": {},
      "source": [
        "(다른예제들)"
      ],
      "id": "a44e44b0-c907-47a7-9706-d261451ad70c"
    },
    {
      "cell_type": "code",
      "execution_count": 271,
      "metadata": {},
      "outputs": [],
      "source": [
        "a=list('guebin')\n",
        "a"
      ],
      "id": "1924cbc9-1831-41b3-9f44-70fa19e5ac8f"
    },
    {
      "cell_type": "code",
      "execution_count": 272,
      "metadata": {},
      "outputs": [],
      "source": [
        "a.sort()\n",
        "a"
      ],
      "id": "a295fc81-5af0-4b14-8a39-1b59267fce95"
    },
    {
      "cell_type": "code",
      "execution_count": 274,
      "metadata": {},
      "outputs": [],
      "source": [
        "a.sort(reverse=True)\n",
        "a"
      ],
      "id": "391d1e90-8b24-4f3d-9730-2fef01fd48c2"
    },
    {
      "cell_type": "markdown",
      "metadata": {},
      "source": [
        "## 중첩 리스트"
      ],
      "id": "e9705f94-3bf6-463d-b828-96f834c52fbb"
    },
    {
      "cell_type": "code",
      "execution_count": 79,
      "metadata": {},
      "outputs": [],
      "source": [
        "A=[[1,2,3],[4,5,6],[7,8,9]]\n",
        "A"
      ],
      "id": "936ecd8b-e124-4e88-9225-18b860b1dfce"
    },
    {
      "cell_type": "code",
      "execution_count": 86,
      "metadata": {},
      "outputs": [],
      "source": [
        "A[0][1]"
      ],
      "id": "28fbe186-b866-49c5-bae7-dff285fd184e"
    },
    {
      "cell_type": "markdown",
      "metadata": {},
      "source": [
        "`-` A는 아래와 같은 매트릭스로 이해할 수 있다\n",
        "\n",
        "\\$"
      ],
      "id": "f5d49e0d-03fa-43da-b922-82c5809c0058"
    },
    {
      "cell_type": "raw",
      "metadata": {
        "raw_mimetype": "tex"
      },
      "source": [
        "\\begin{bmatrix}\n",
        "1 & 2 & 3 \\\\ \n",
        "4 & 5 & 6 \\\\ \n",
        "7 & 8 & 9 \n",
        "\\end{bmatrix}"
      ],
      "id": "1c6a76c7-889a-4289-aa69-d6992f932d68"
    },
    {
      "cell_type": "markdown",
      "metadata": {},
      "source": [
        "\\$\n",
        "\n",
        "`-` A에서 (2,1)의 원소를 뽑고싶다 = 4를 뽑고싶다"
      ],
      "id": "8cbb09a0-31b6-45b4-8ba4-67f6f63dd002"
    },
    {
      "cell_type": "code",
      "execution_count": 93,
      "metadata": {},
      "outputs": [],
      "source": [
        "A[1,0]"
      ],
      "id": "f62f9541-d4ba-458b-ad53-41afbe2fd51f"
    },
    {
      "cell_type": "markdown",
      "metadata": {},
      "source": [
        "-   실패"
      ],
      "id": "b4fcc008-abe6-4abd-ab66-6a94996fd5bc"
    },
    {
      "cell_type": "code",
      "execution_count": 278,
      "metadata": {},
      "outputs": [],
      "source": [
        "A[1][0]"
      ],
      "id": "105a9512-bab8-41cc-b458-0e855c9cdfd6"
    },
    {
      "cell_type": "markdown",
      "metadata": {},
      "source": [
        "-   성공\n",
        "\n",
        "`-` 성공의 이유를 분석해보자."
      ],
      "id": "d9921eab-21bf-495c-9639-7a61ff30af67"
    },
    {
      "cell_type": "code",
      "execution_count": 285,
      "metadata": {},
      "outputs": [],
      "source": [
        "A"
      ],
      "id": "bc638816-5389-4573-9663-c781d320500f"
    },
    {
      "cell_type": "code",
      "execution_count": 286,
      "metadata": {},
      "outputs": [],
      "source": [
        "A[1]"
      ],
      "id": "099eb138-870a-45d3-8c3d-0511ceaa6242"
    },
    {
      "cell_type": "code",
      "execution_count": 287,
      "metadata": {},
      "outputs": [],
      "source": [
        "A[1][0]"
      ],
      "id": "48c5563e-9ff8-4cb2-b2e9-839b4fcd7fdb"
    },
    {
      "cell_type": "markdown",
      "metadata": {},
      "source": [
        "`-` 매트릭스는 아니지만 매트릭스 같음! - 1차원 배열을 다차원 배열로\n",
        "확장할 수 있는 기본 아이디어를 제공함\n",
        "\n",
        "## 리스트 컴프리헨션($\\star\\star\\star$)\n",
        "\n",
        "`-` 리스트 컴프리헨션을 이해하기 전에 for문에 대하여 알아보자.\n",
        "\n",
        "\\[예비학습\\] `for`문 벼락치기\n",
        "\n",
        "프로그램안에서 반복해서 무엇인가를 하고싶다 $\\to$ for"
      ],
      "id": "2d8fdc89-4821-4914-94c5-007d51ddfaa5"
    },
    {
      "cell_type": "code",
      "execution_count": 371,
      "metadata": {},
      "outputs": [
        {
          "output_type": "stream",
          "name": "stdout",
          "text": [
            "0\n",
            "1\n",
            "2\n",
            "3"
          ]
        }
      ],
      "source": [
        "for i in [0,1,2,3]: ## 반복실행계획\n",
        "    print(i) ## 반복실행할내용, 탭을이용하여 들여쓰기해야한다. "
      ],
      "id": "440401fc-afd3-4906-8d61-7ccce56e0540"
    },
    {
      "cell_type": "markdown",
      "metadata": {},
      "source": [
        "(예제) 1,2,3,4의 합을 for문을 이용하여 구해보자."
      ],
      "id": "b5e7dcf4-a36f-4ed9-971c-0a0bc0916d66"
    },
    {
      "cell_type": "code",
      "execution_count": 115,
      "metadata": {},
      "outputs": [],
      "source": [
        "_sum = 0 \n",
        "for i in [1,2,3,4]:\n",
        "    _sum = _sum + i"
      ],
      "id": "c79afa09-03ee-4e8a-8e17-f6bdf10dde07"
    },
    {
      "cell_type": "code",
      "execution_count": 364,
      "metadata": {},
      "outputs": [],
      "source": [
        "_sum = 0\n",
        "i=1 \n",
        "_sum = _sum + i ## 1 <= 0+1\n",
        "i=2\n",
        "_sum = _sum + i ## 3 <= 1+2 \n",
        "i=3 \n",
        "_sum = _sum + i ## 6 <= 3+3\n",
        "i=4\n",
        "_sum = _sum + i ## 10 <= 6+4 "
      ],
      "id": "358a52f8-f5e5-48f4-bcbe-3a02a38fa4dd"
    },
    {
      "cell_type": "code",
      "execution_count": 365,
      "metadata": {},
      "outputs": [],
      "source": [
        "_sum"
      ],
      "id": "5c552ef2-9144-4482-b3f6-09ade20ae1cc"
    },
    {
      "cell_type": "markdown",
      "metadata": {},
      "source": [
        "예비학습끝\n",
        "\n",
        "`-` 예제: $2^0, 2^1, 2^2, 2^3$를 원소로 가지는 리스트를 생성하라.\n",
        "\n",
        "(풀이1) 직접입력"
      ],
      "id": "0321a658-d6e1-4ff4-bf23-5cfb65dce64e"
    },
    {
      "cell_type": "code",
      "execution_count": 119,
      "metadata": {},
      "outputs": [],
      "source": [
        "x= [2**0, 2**1, 2**2, 2**3] \n",
        "x"
      ],
      "id": "12aa1a7b-a1cc-486c-9b2b-f6f6c20df411"
    },
    {
      "cell_type": "markdown",
      "metadata": {},
      "source": [
        "(풀이2) for문을 이용함"
      ],
      "id": "4ef72cc0-41e0-4402-ae84-8c612766ac98"
    },
    {
      "cell_type": "code",
      "execution_count": 129,
      "metadata": {},
      "outputs": [],
      "source": [
        "x=[] \n",
        "for i in [0,1,2,3]:\n",
        "    x.append(2**i) "
      ],
      "id": "d611cdc0-3698-4dc2-a833-5b7e49d04f3a"
    },
    {
      "cell_type": "code",
      "execution_count": 130,
      "metadata": {},
      "outputs": [],
      "source": [
        "x"
      ],
      "id": "bf944224-bfa7-4577-98d5-c2b51e5a8294"
    },
    {
      "cell_type": "markdown",
      "metadata": {},
      "source": [
        "(풀이3) for문을 이용함"
      ],
      "id": "015425fa-138b-43f5-b691-e31c99121cd5"
    },
    {
      "cell_type": "code",
      "execution_count": 131,
      "metadata": {},
      "outputs": [],
      "source": [
        "x=[] \n",
        "for i in [0,1,2,3]:\n",
        "    x = x+[2**i]"
      ],
      "id": "ae2f99cf-4508-4199-b992-58f711d82094"
    },
    {
      "cell_type": "code",
      "execution_count": 132,
      "metadata": {},
      "outputs": [],
      "source": [
        "x"
      ],
      "id": "b83b880b-da25-4a02-8056-113511b1214d"
    },
    {
      "cell_type": "markdown",
      "metadata": {},
      "source": [
        "(풀이4) for문을 이용함"
      ],
      "id": "11ade2f6-2685-4de7-9a78-87c5ebdfb3ec"
    },
    {
      "cell_type": "code",
      "execution_count": 133,
      "metadata": {},
      "outputs": [],
      "source": [
        "x=[] \n",
        "for i in [0,1,2,3]:\n",
        "    x += [2**i]"
      ],
      "id": "38d1b044-ab76-49f9-8616-5b247b46945c"
    },
    {
      "cell_type": "code",
      "execution_count": 134,
      "metadata": {},
      "outputs": [],
      "source": [
        "x"
      ],
      "id": "9f25a95e-5c05-40f8-bdd8-39cddc3bead7"
    },
    {
      "cell_type": "markdown",
      "metadata": {},
      "source": [
        "(풀이5) 리스트컴프리헨션을 이용한 풀이"
      ],
      "id": "3661e126-8c27-4744-b8c5-3f569dbcfb6b"
    },
    {
      "cell_type": "code",
      "execution_count": 139,
      "metadata": {},
      "outputs": [],
      "source": [
        "x= [2**i for i in [0,1,2,3]] \n",
        "x"
      ],
      "id": "42f802ab-3e0d-4b6b-a67b-010b83ed293d"
    },
    {
      "cell_type": "markdown",
      "metadata": {},
      "source": [
        "`-` 리스트컴프리헨션의 문법 암기방법\n",
        "\n",
        "-   집합에서 조건제시법을 연상\n",
        "-   $\\{2^0,2^1,2^2,2^3\\}=\\{2^i: \\text{ for } i = 0,1,2,3 \\}$\n",
        "\n",
        "`-` 리스트컴프리헨션이란?\n",
        "\n",
        "-   리스트를 매우 효율적으로 만드는 테크닉\n",
        "-   for문에 비하여 가지고 있는 장점: (1) 코드가 간결하다 (2) 빠르다\n",
        "\n",
        "`-` 예제: 리스트 컴프리헨션을 이용하여 아래와 같은 리스트를 만들어라."
      ],
      "id": "9860dc19-a7f9-4190-834d-0c7d0a4c1b34"
    },
    {
      "cell_type": "code",
      "execution_count": 396,
      "metadata": {},
      "outputs": [],
      "source": [
        "['SSSS','PPPP','AAAA','MMMM']"
      ],
      "id": "682dbdbc-84de-4e2c-9427-d9a84de2e9d1"
    },
    {
      "cell_type": "markdown",
      "metadata": {},
      "source": [
        "(풀이)"
      ],
      "id": "350b59a0-9c4e-4b0a-9d41-16871e6fec99"
    },
    {
      "cell_type": "code",
      "execution_count": 397,
      "metadata": {},
      "outputs": [],
      "source": [
        "[i*4 for i in 'SPAM']"
      ],
      "id": "45b3faee-0d0b-46d5-a237-130da1907230"
    },
    {
      "cell_type": "markdown",
      "metadata": {},
      "source": [
        "`-` 예제: 리스트컴프리헨션을 이용하여 아래와 같은 리스트를 만들어라."
      ],
      "id": "f50a5928-9055-45f7-bf81-c80ea5f685da"
    },
    {
      "cell_type": "code",
      "execution_count": 401,
      "metadata": {},
      "outputs": [],
      "source": [
        "['X1','X2','X3','Y1','Y2','Y3']"
      ],
      "id": "e666cacd-b6fe-4f4d-a062-82b17bff36ef"
    },
    {
      "cell_type": "markdown",
      "metadata": {},
      "source": [
        "(풀이)"
      ],
      "id": "cb030b4d-76d2-40a8-bc78-e1b44b29d4f9"
    },
    {
      "cell_type": "code",
      "execution_count": 405,
      "metadata": {},
      "outputs": [],
      "source": [
        "[i+j for i in 'XY' for j in '123']"
      ],
      "id": "39f6611e-0c60-4325-b547-223ada911fa0"
    },
    {
      "cell_type": "markdown",
      "metadata": {},
      "source": [
        "`-` 예제: 리스트컴프리헨션을 이용하여 통계1,…,통계5,수학1,…,수학5를\n",
        "만들어라.\n",
        "\n",
        "(풀이)"
      ],
      "id": "dcbdeca2-9885-458f-81e5-2bdccc577a54"
    },
    {
      "cell_type": "code",
      "execution_count": 407,
      "metadata": {},
      "outputs": [],
      "source": [
        "[x+y for x in ['stat','math'] for y in '12345'] "
      ],
      "id": "9edab9ac-872d-44b7-a179-b1ff651a889e"
    },
    {
      "cell_type": "markdown",
      "metadata": {},
      "source": [
        "-   $\\{xy : x \\in \\{{\\tt stat},{\\tt math}\\}, y \\in \\{1,2,3,4,5\\} \\}$\n",
        "\n",
        "(다른풀이) 참고로 for문을 쓰면 좀 복잡해진다."
      ],
      "id": "cbaaf61a-3e87-4f0d-99a4-6149cfed8549"
    },
    {
      "cell_type": "code",
      "execution_count": 409,
      "metadata": {},
      "outputs": [],
      "source": [
        "_lst = [] \n",
        "for x in ['stat','math']: \n",
        "    for y in '12345': \n",
        "        _lst = _lst + [x+y] "
      ],
      "id": "9ce3fb96-444b-4da4-b1ec-b753350046da"
    },
    {
      "cell_type": "code",
      "execution_count": 410,
      "metadata": {},
      "outputs": [],
      "source": [
        "_lst "
      ],
      "id": "767473d9-c321-439e-84e9-c00f6dc0cda3"
    },
    {
      "cell_type": "markdown",
      "metadata": {},
      "source": [
        "`-` 예제: ’jbnu’를 이용하여 아래와 같은 리스트를 만들어라.\n",
        "(리스트컴프리헨션을 이용할것)"
      ],
      "id": "5935743f-8241-4fbf-bec9-b6e2459ff1c6"
    },
    {
      "cell_type": "code",
      "execution_count": 152,
      "metadata": {},
      "outputs": [],
      "source": [
        "['j','b','n','u']"
      ],
      "id": "57312414-7aed-4212-a989-94e824ed5e89"
    },
    {
      "cell_type": "markdown",
      "metadata": {},
      "source": [
        "(다른풀이) 아래와 같이 풀면 된다는것은 알고 있음"
      ],
      "id": "f6847e07-5109-4b3b-bd3c-e3ad6f51f9d0"
    },
    {
      "cell_type": "code",
      "execution_count": 415,
      "metadata": {},
      "outputs": [],
      "source": [
        "list('jbnu')"
      ],
      "id": "fa284b60-d845-4150-a8e7-4ffff6770b8c"
    },
    {
      "cell_type": "markdown",
      "metadata": {},
      "source": [
        "(풀이)"
      ],
      "id": "ddc150ec-01da-46bc-afca-5aa96ade02e1"
    },
    {
      "cell_type": "code",
      "execution_count": 418,
      "metadata": {},
      "outputs": [],
      "source": [
        "[x for x in 'jbnu']"
      ],
      "id": "558105d6-00a7-4704-89bc-6764b0749fc7"
    },
    {
      "cell_type": "markdown",
      "metadata": {},
      "source": [
        "`-` 예제: x에는 무엇이 있을까?\n",
        "\n",
        "(경우1)"
      ],
      "id": "fe088920-53de-4673-93c8-f8f9210bb20f"
    },
    {
      "cell_type": "code",
      "execution_count": 423,
      "metadata": {},
      "outputs": [],
      "source": [
        "x=1 \n",
        "lst = [] \n",
        "for x in 'jbnu': \n",
        "    lst = lst + [x]\n",
        "lst    "
      ],
      "id": "802dc660-68b4-4153-97f4-a5043b6bc1b6"
    },
    {
      "cell_type": "code",
      "execution_count": 424,
      "metadata": {},
      "outputs": [],
      "source": [
        "x "
      ],
      "id": "538428eb-b5a6-45b3-b8ee-f8c31bb454fa"
    },
    {
      "cell_type": "markdown",
      "metadata": {},
      "source": [
        "(경우2)"
      ],
      "id": "de84e520-6c40-4bc5-b7b9-045d60979d56"
    },
    {
      "cell_type": "code",
      "execution_count": 425,
      "metadata": {},
      "outputs": [],
      "source": [
        "x=1 \n",
        "lst = [x for x in 'jbnu'] \n",
        "lst "
      ],
      "id": "ce6ad313-564f-483f-a88d-3897a0ba9cad"
    },
    {
      "cell_type": "code",
      "execution_count": 426,
      "metadata": {},
      "outputs": [],
      "source": [
        "x"
      ],
      "id": "cf7e503a-9361-4ac5-943b-b981d728b765"
    },
    {
      "cell_type": "markdown",
      "metadata": {},
      "source": [
        "-   진짜 미묘하게 다르죠?\n",
        "\n",
        "`-` 예제: \\[X1,X2,X3,…,X100\\]와 같은 리스트를 만들어보라.\n",
        "\n",
        "(풀이)"
      ],
      "id": "0cf06fe7-1821-4e75-90e8-2a4fb7f57f15"
    },
    {
      "cell_type": "code",
      "execution_count": 431,
      "metadata": {},
      "outputs": [],
      "source": [
        "['X'+str(i) for i in [1,2,3,4]] ## 이걸 4까지가 아니라 100까지 써야함"
      ],
      "id": "1d74be6e-96e6-45ad-8627-7dfd6a5a5066"
    },
    {
      "cell_type": "code",
      "execution_count": 432,
      "metadata": {},
      "outputs": [],
      "source": [
        "['X'+str(i) for i in 1:100]"
      ],
      "id": "72e01988-8635-446c-9346-eb0ab4643813"
    },
    {
      "cell_type": "markdown",
      "metadata": {},
      "source": [
        "\\[예비학습\\]"
      ],
      "id": "cb5f8282-055d-4cc6-9498-5cfc9556e0d6"
    },
    {
      "cell_type": "code",
      "execution_count": 434,
      "metadata": {},
      "outputs": [],
      "source": [
        "range(0,10)"
      ],
      "id": "5760c2c3-3322-4afc-819d-8bcaaacafea7"
    },
    {
      "cell_type": "markdown",
      "metadata": {},
      "source": [
        "-   이게뭐야?"
      ],
      "id": "8d36104b-0ef8-40e9-83e9-abc3009fc6e7"
    },
    {
      "cell_type": "code",
      "execution_count": 438,
      "metadata": {},
      "outputs": [],
      "source": [
        "_tmp = range(0,10)\n",
        "_tmp?"
      ],
      "id": "ed9711e3-1898-4ffc-955c-047cff342e6e"
    },
    {
      "cell_type": "markdown",
      "metadata": {},
      "source": [
        "-   우리가 아는 범위에서는 모르겠음.. 이런게 있나보다 하고 넘어가야\n",
        "    하겠음"
      ],
      "id": "e8caf381-9626-413f-8396-29e60d2b8bcb"
    },
    {
      "cell_type": "code",
      "execution_count": 448,
      "metadata": {},
      "outputs": [],
      "source": [
        "list(range(0,10)) # 0을 포함, 10을 미포함 "
      ],
      "id": "721081d5-689f-4265-8d59-073990250541"
    },
    {
      "cell_type": "markdown",
      "metadata": {},
      "source": [
        "-   이게 중요한것임. range(0,10)를 리스트화시키면 \\[0,1,2,…,9\\] 와 같은\n",
        "    리스트를 얻을 수 있음."
      ],
      "id": "1e452f7e-4651-435d-9d91-28d02bda9744"
    },
    {
      "cell_type": "code",
      "execution_count": 453,
      "metadata": {},
      "outputs": [],
      "source": [
        "list(range(10)) # 0은 생략가능"
      ],
      "id": "942e79c0-c819-4be5-8ad8-b14c65e28c28"
    },
    {
      "cell_type": "code",
      "execution_count": 452,
      "metadata": {},
      "outputs": [],
      "source": [
        "list(range(2,10)) # 2는 포함, 10은 미포함 "
      ],
      "id": "ae8c59be-dcde-47e3-89a4-9ff87958d044"
    },
    {
      "cell_type": "code",
      "execution_count": 455,
      "metadata": {},
      "outputs": [],
      "source": [
        "list(range(1,10,2)) # 2는 포함, 10은 미포함 "
      ],
      "id": "127b7538-190d-49cf-916c-b0f108fae7ab"
    },
    {
      "cell_type": "markdown",
      "metadata": {},
      "source": [
        "예비학습 끝"
      ],
      "id": "5bb24d9e-e501-4908-b243-bf3ecf68c803"
    },
    {
      "cell_type": "code",
      "execution_count": 460,
      "metadata": {},
      "outputs": [],
      "source": [
        "['X'+str(i) for i in list(range(1,13))] ## 출력결과가 너무 기니까 101대신에 13으로 변경 "
      ],
      "id": "9b8a596f-8301-46a7-ae06-4db31422b2c7"
    },
    {
      "cell_type": "markdown",
      "metadata": {},
      "source": [
        "(아래와 같은 풀이도 가능)"
      ],
      "id": "2f1f2e34-85c3-41f6-9e8b-2a19211cbe30"
    },
    {
      "cell_type": "code",
      "execution_count": 466,
      "metadata": {},
      "outputs": [],
      "source": [
        "['X'+str(i) for i in range(1,13)] ## 출력결과가 너무 기니까 101대신에 13으로 변경 "
      ],
      "id": "9551979c-09bf-436d-8271-cca911654587"
    },
    {
      "cell_type": "markdown",
      "metadata": {},
      "source": [
        "(딴생각) 생각해보니까 for문 뒤에 올 수 있는것이 무엇인지 생각하는것도\n",
        "흥미로울듯"
      ],
      "id": "bd29b773-6b2b-4e42-8c38-f5b83b43bb4a"
    },
    {
      "cell_type": "code",
      "execution_count": 467,
      "metadata": {},
      "outputs": [
        {
          "output_type": "stream",
          "name": "stdout",
          "text": [
            "1\n",
            "2\n",
            "3\n",
            "4"
          ]
        }
      ],
      "source": [
        "for i in '1234':\n",
        "    print(i)"
      ],
      "id": "5ca9eb77-e4b1-4642-b56d-d8e92a4f8ade"
    },
    {
      "cell_type": "code",
      "execution_count": 468,
      "metadata": {},
      "outputs": [
        {
          "output_type": "stream",
          "name": "stdout",
          "text": [
            "1\n",
            "2\n",
            "3\n",
            "4"
          ]
        }
      ],
      "source": [
        "for i in [1,2,3,4]:\n",
        "    print(i)"
      ],
      "id": "28b2a7d3-1da8-4010-b236-e6a29fd8201c"
    },
    {
      "cell_type": "code",
      "execution_count": 470,
      "metadata": {},
      "outputs": [
        {
          "output_type": "stream",
          "name": "stdout",
          "text": [
            "1\n",
            "2\n",
            "3\n",
            "4"
          ]
        }
      ],
      "source": [
        "for i in (1,2,3,4): # (1,2,3,4)는 튜플\n",
        "    print(i)"
      ],
      "id": "3c9c23ee-7174-4419-902a-393063e5ed46"
    },
    {
      "cell_type": "code",
      "execution_count": 474,
      "metadata": {},
      "outputs": [
        {
          "output_type": "stream",
          "name": "stdout",
          "text": [
            "1\n",
            "2\n",
            "3\n",
            "4"
          ]
        }
      ],
      "source": [
        "for i in {1,2,3,4}: # {1,2,3,4}는 set \n",
        "    print(i)"
      ],
      "id": "720185de-c15d-4bf7-a78a-ae5f66c09b1c"
    },
    {
      "cell_type": "code",
      "execution_count": 476,
      "metadata": {},
      "outputs": [
        {
          "output_type": "stream",
          "name": "stdout",
          "text": [
            "name\n",
            "age"
          ]
        }
      ],
      "source": [
        "for i in {'name':'iu','age':28}: #{'name':'iu','age':28} 는 딕셔너리\n",
        "    print(i)"
      ],
      "id": "738a9f95-b98a-4950-be9d-fa3f63ca2d71"
    },
    {
      "cell_type": "code",
      "execution_count": 479,
      "metadata": {},
      "outputs": [
        {
          "output_type": "stream",
          "name": "stdout",
          "text": [
            "1\n",
            "2\n",
            "3\n",
            "4"
          ]
        }
      ],
      "source": [
        "for i in range(1,5): \n",
        "    print(i)"
      ],
      "id": "ef8e44dc-5db2-41b7-aa1f-f0d42392e5e6"
    },
    {
      "cell_type": "markdown",
      "metadata": {},
      "source": [
        "# tuple\n",
        "\n",
        "## 리스트 vs 튜플\n",
        "\n",
        "`-` 컨테이너형타입이라는 점, 그리고 연산 및 인덱싱을 하는 방법은\n",
        "리스트와 같음\n",
        "\n",
        "-   차이점1: \\[\\] 대신에 ()를 사용한다.\n",
        "-   차이점2: 불변형이다. (원소의 값을 바꿀 수 없음)\n",
        "-   차이점3: 하나의 원소를 선언할 때는 (1,)와 같이 해야 한다.\n",
        "-   차이점4: 의미가 명확할때는 튜플의 ()를 생략가능하다.\n",
        "\n",
        "`-` 컨테이너형이라는 것이 무슨의미?"
      ],
      "id": "fc7a5e58-6ea6-4ece-afc6-04bccfa380bd"
    },
    {
      "cell_type": "code",
      "execution_count": 183,
      "metadata": {},
      "outputs": [],
      "source": [
        "a=(4,6,'pencil', 3.2+4.6j, [3,4]) "
      ],
      "id": "be653adc-efdb-4688-ac73-d7aeb4dc9341"
    },
    {
      "cell_type": "code",
      "execution_count": 184,
      "metadata": {},
      "outputs": [],
      "source": [
        "type(a[2])"
      ],
      "id": "8791af85-4a26-4c99-b62c-b94b36ae856e"
    },
    {
      "cell_type": "code",
      "execution_count": 185,
      "metadata": {},
      "outputs": [],
      "source": [
        "type(a[3])"
      ],
      "id": "229495fc-6a95-4609-af61-c6357810890e"
    },
    {
      "cell_type": "markdown",
      "metadata": {},
      "source": [
        "`-` 불변형이라는 것은 무슨의미?"
      ],
      "id": "b01f65b3-21ce-44a7-bfeb-eee868329a8a"
    },
    {
      "cell_type": "code",
      "execution_count": 189,
      "metadata": {},
      "outputs": [],
      "source": [
        "a[2] = 'Pencil'"
      ],
      "id": "32765cd4-20af-4181-a688-49aa1467c046"
    },
    {
      "cell_type": "markdown",
      "metadata": {},
      "source": [
        "참고로 a를 튜플이 아니라 리스트로 선언하면 값이 잘 바뀐다."
      ],
      "id": "10ed0631-ccfc-4efd-a0ab-b5375cd3e3ac"
    },
    {
      "cell_type": "code",
      "execution_count": 14,
      "metadata": {},
      "outputs": [],
      "source": [
        "a=[4,6,'pencil', 3.2+4.6j, [3,4]]"
      ],
      "id": "05e6dca5-0814-462a-923c-879efa9f5491"
    },
    {
      "cell_type": "code",
      "execution_count": 15,
      "metadata": {},
      "outputs": [],
      "source": [
        "a[2]"
      ],
      "id": "5c12b691-564a-45de-8ac8-0392930fac2b"
    },
    {
      "cell_type": "code",
      "execution_count": 16,
      "metadata": {},
      "outputs": [],
      "source": [
        "a[2]='Pencil'"
      ],
      "id": "e2238787-bebc-4724-938f-6d0ae403d261"
    },
    {
      "cell_type": "code",
      "execution_count": 17,
      "metadata": {},
      "outputs": [],
      "source": [
        "a"
      ],
      "id": "98e63720-6bf2-43e6-b3a7-c248a5b3319f"
    },
    {
      "cell_type": "markdown",
      "metadata": {},
      "source": [
        "`-` 하나의 원소로 이루어진 튜플을 만들때는 쉼표를 붙여야 함."
      ],
      "id": "b0b44c71-e904-4f12-aa5e-2a059fd87abf"
    },
    {
      "cell_type": "code",
      "execution_count": 20,
      "metadata": {},
      "outputs": [],
      "source": [
        "[1]+[2,3,4]"
      ],
      "id": "358692de-8c86-492e-baee-eee02251a3f3"
    },
    {
      "cell_type": "code",
      "execution_count": 193,
      "metadata": {},
      "outputs": [],
      "source": [
        "(1,)+(2,3,4)"
      ],
      "id": "549648b8-1645-4d60-9d49-a38d3adf6d3e"
    },
    {
      "cell_type": "markdown",
      "metadata": {},
      "source": [
        "`-` 리스트와 중요한 차이점! 의미가 명확할때 튜플의 괄호는 생략가능하다.\n",
        "(이게 중요합니다)"
      ],
      "id": "0b724ae0-730f-43d1-8e07-1771649d7a0b"
    },
    {
      "cell_type": "code",
      "execution_count": 194,
      "metadata": {},
      "outputs": [],
      "source": [
        "a=1,2\n",
        "a"
      ],
      "id": "60ac57f1-a1a8-4ea2-b3f1-9ac30324e7b3"
    },
    {
      "cell_type": "markdown",
      "metadata": {},
      "source": [
        "의미가 명확할때 생략해야함"
      ],
      "id": "86f93d96-68f8-4263-b1c9-fd997f8a2ca9"
    },
    {
      "cell_type": "code",
      "execution_count": 196,
      "metadata": {},
      "outputs": [],
      "source": [
        "1,2 + 3,4,5 "
      ],
      "id": "ddae135f-5406-4a4c-804a-463ce1116693"
    },
    {
      "cell_type": "code",
      "execution_count": 34,
      "metadata": {},
      "outputs": [],
      "source": [
        "(1,2) + (3,4,5) "
      ],
      "id": "0c8736c7-20c5-47ab-86a9-7f5e019762ae"
    },
    {
      "cell_type": "markdown",
      "metadata": {},
      "source": [
        "## 선언\n",
        "\n",
        "`-` 소괄호를 이용"
      ],
      "id": "46aaf113-f782-45b7-9f7b-16833e5f0556"
    },
    {
      "cell_type": "code",
      "execution_count": 35,
      "metadata": {},
      "outputs": [],
      "source": [
        "a=(1,2,3)\n",
        "a"
      ],
      "id": "6abf839f-6508-4cdd-b206-81d60a9b7e51"
    },
    {
      "cell_type": "code",
      "execution_count": 36,
      "metadata": {},
      "outputs": [],
      "source": [
        "type(a)"
      ],
      "id": "f1e3ef43-ff9b-4d48-9abd-9a32a3282436"
    },
    {
      "cell_type": "markdown",
      "metadata": {},
      "source": [
        "`-` 생략가능하다는 점이 포인트"
      ],
      "id": "5cff1003-e4ed-4eb4-bf10-4a8b02cbde5c"
    },
    {
      "cell_type": "code",
      "execution_count": 37,
      "metadata": {},
      "outputs": [],
      "source": [
        "a=1,2,3\n",
        "a"
      ],
      "id": "0d75df34-45a1-4e7a-aa47-d54140399fb5"
    },
    {
      "cell_type": "code",
      "execution_count": 38,
      "metadata": {},
      "outputs": [],
      "source": [
        "type(a)"
      ],
      "id": "7c19b5ab-583b-4bbc-83bb-7fb42ea8f7b3"
    },
    {
      "cell_type": "markdown",
      "metadata": {},
      "source": [
        "`-` 원소가 하나인 튜플을 만들고 싶다면?"
      ],
      "id": "51a5eaaa-1488-4df6-b001-7e46632eda2e"
    },
    {
      "cell_type": "code",
      "execution_count": 39,
      "metadata": {},
      "outputs": [],
      "source": [
        "a=(1,)\n",
        "a"
      ],
      "id": "c03564b6-0bbe-4025-91c2-a04ba8b57677"
    },
    {
      "cell_type": "markdown",
      "metadata": {},
      "source": [
        "## 연산\n",
        "\n",
        "`-` 리스트와 동일"
      ],
      "id": "930772ab-4a04-4051-8a2d-9dacf98ceb6a"
    },
    {
      "cell_type": "code",
      "execution_count": 40,
      "metadata": {},
      "outputs": [],
      "source": [
        "(1,2)+(3,4,5)"
      ],
      "id": "737f61f9-65e8-4565-a9f9-8c461df799e5"
    },
    {
      "cell_type": "code",
      "execution_count": 41,
      "metadata": {},
      "outputs": [],
      "source": [
        "(1,2)*2"
      ],
      "id": "3de368a7-ef39-4236-8fff-cf4b7cc7cc98"
    },
    {
      "cell_type": "markdown",
      "metadata": {},
      "source": [
        "## 인덱싱\n",
        "\n",
        "`-` 리스트와 동일"
      ],
      "id": "926f7eaf-4697-43ec-8820-c392d03019a2"
    },
    {
      "cell_type": "code",
      "execution_count": 42,
      "metadata": {},
      "outputs": [],
      "source": [
        "a=(1,2,3,-4,-5)\n",
        "a"
      ],
      "id": "63725038-b81e-4cb3-b134-f12d8852bd5c"
    },
    {
      "cell_type": "code",
      "execution_count": 43,
      "metadata": {},
      "outputs": [],
      "source": [
        "a[-1]"
      ],
      "id": "74feb684-4d23-4703-9ced-64aa66735c76"
    },
    {
      "cell_type": "code",
      "execution_count": 44,
      "metadata": {},
      "outputs": [],
      "source": [
        "a[-3:]"
      ],
      "id": "828f829f-d441-488a-bf1d-3b0c4224b0a2"
    },
    {
      "cell_type": "markdown",
      "metadata": {},
      "source": [
        "# Quiz\n",
        "\n",
        "`1`. 길이가 0인 리스트를 만들어라. (비어있는 리스트를 만들어라)\n",
        "\n",
        "`2`. 다음의 실행값 중 가장 큰 숫자가 나오는 보기를 골라라. (에러가 나는\n",
        "코드는 정답에서 제외함)\n",
        "\n",
        "``` python\n",
        "(a) len(3.14) \n",
        "(b) len([3.14]) \n",
        "(c) len('3.14') \n",
        "```\n",
        "\n",
        "`3`. 아래의 예제를 관찰하라."
      ],
      "id": "4619e8d7-4de8-4768-8e87-f2f0ff608a43"
    },
    {
      "cell_type": "code",
      "execution_count": 1,
      "metadata": {},
      "outputs": [],
      "source": [
        "'제 이름은 {}입니다'.format('최규빈')"
      ],
      "id": "bef95fd3-7ecb-4f94-9987-5ea79bb8ea2b"
    },
    {
      "cell_type": "code",
      "execution_count": 2,
      "metadata": {},
      "outputs": [],
      "source": [
        "'제 이름은 {}이고 사는곳은 {}입니다.'.format('최규빈','전주')"
      ],
      "id": "7ae49366-89f6-44f1-80ec-f395facdf474"
    },
    {
      "cell_type": "markdown",
      "metadata": {},
      "source": [
        "이 예제를 바탕으로 문자열에 포함된 `.format()`함수의 기능을 유추하라.\n",
        "그리고 아래의 결과를 확인하라.\n",
        "\n",
        "``` python\n",
        "string = '전북대학교 학생엠티가 {}월{}일-{}월{}일 완주 곶감펜션에서 있다고 합니다. 자세한 일정 등은 다시 공지하겠습니다.' \n",
        "string.format(3,24,3,25)\n",
        "```\n",
        "\n",
        "ChatGPT를 활용하여 `.format()`함수의 기능을 학습하라.\n",
        "\n",
        "`4`. 아래의 예제를 관찰하라."
      ],
      "id": "88beaefe-6bcb-414e-8cf0-38a8986f3c70"
    },
    {
      "cell_type": "code",
      "execution_count": 16,
      "metadata": {},
      "outputs": [],
      "source": [
        "'abcdefg'.replace('g','u')"
      ],
      "id": "01f2b286-5556-42a0-b149-507560235d6a"
    },
    {
      "cell_type": "markdown",
      "metadata": {},
      "source": [
        "이 예제를 바탕으로 문자열의 `.replace()` 기능을 유추하라. 유추한 기능을\n",
        "chatGPT로 확인하라.\n",
        "\n",
        "`5`. 리스트자료형의 `+`와 `*` 연산을 이용하여 아래와 같은 list를\n",
        "생성하라."
      ],
      "id": "8a8db8f4-4d0a-463f-8e0e-643a31214bfa"
    },
    {
      "cell_type": "code",
      "execution_count": 30,
      "metadata": {},
      "outputs": [],
      "source": [
        "[1, 2, 2, 3, 3, 3, 4, 4, 4, 4, 5, 5, 5, 5, 5]"
      ],
      "id": "194688b5-bd81-493c-96ad-ef6c122f66fb"
    },
    {
      "cell_type": "markdown",
      "metadata": {},
      "source": [
        "**hint:** 아래의 코드를 관찰해보세요"
      ],
      "id": "e4d85db5-f3a4-42f4-96e5-5776e7df8fd2"
    },
    {
      "cell_type": "code",
      "execution_count": 10,
      "metadata": {},
      "outputs": [],
      "source": [
        "[1]*1+[2]*2 "
      ],
      "id": "ef211e3f-833f-42dd-a64d-5471fd08ab63"
    },
    {
      "cell_type": "markdown",
      "metadata": {},
      "source": [
        "`6`. 넘파이를 이용하여 아래와 같은 결과가 나오도록 코드가 작성하라.\n",
        "\n",
        "$$\\begin{bmatrix}\n",
        "1 \\\\\n",
        "2 \n",
        "\\end{bmatrix} + \\begin{bmatrix}\n",
        "11 \\\\\n",
        "22 \n",
        "\\end{bmatrix} = \n",
        "\\begin{bmatrix}\n",
        "12 \\\\\n",
        "24\n",
        "\\end{bmatrix}$$\n",
        "\n",
        "`7`. 아래와 같은 벡터 ${\\boldsymbol a}$가 있다고 하자.\n",
        "\n",
        "$$\\boldsymbol{a}=\n",
        "\\begin{bmatrix}\n",
        "12 \\\\\n",
        "24\n",
        "\\end{bmatrix}$$\n",
        "\n",
        "넘파이를 이용하여 아래의 결과가 나오게 하는 코드를 작성하라.\n",
        "\n",
        "$$2\\boldsymbol{a}=\n",
        "\\begin{bmatrix}\n",
        "24 \\\\\n",
        "48\n",
        "\\end{bmatrix}$$"
      ],
      "id": "4869bac4-1819-4029-aff4-53fee4e9365e"
    }
  ],
  "nbformat": 4,
  "nbformat_minor": 5,
  "metadata": {
    "kernelspec": {
      "name": "python3",
      "display_name": "Python 3",
      "language": "python"
    },
    "language_info": {
      "name": "python",
      "codemirror_mode": {
        "name": "ipython",
        "version": "3"
      },
      "file_extension": ".py",
      "mimetype": "text/x-python",
      "nbconvert_exporter": "python",
      "pygments_lexer": "ipython3",
      "version": "3.8.16"
    }
  }
}