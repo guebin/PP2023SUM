{
  "cells": [
    {
      "cell_type": "markdown",
      "metadata": {},
      "source": [
        "# Lesson 02: 파이썬의 자료형 II (list, tuple)\n",
        "\n",
        "최규빈  \n",
        "2023-06-24\n",
        "\n",
        "<a href=\"https://colab.research.google.com/github/guebin/PP2023SUM/blob/main/posts/Day1/01_PythonBasicSyntax/ls2.ipynb\"><img src=\"https://colab.research.google.com/assets/colab-badge.svg\" style=\"text-align: left\"></a>\n",
        "\n",
        "# list\n",
        "\n",
        "## 선언\n",
        "\n",
        "`-` 리스트의 선언"
      ],
      "id": "72c23cc6-ad89-41ad-aaf5-4f1b53325f1f"
    },
    {
      "cell_type": "code",
      "execution_count": 8,
      "metadata": {
        "vscode": {
          "languageId": "python"
        }
      },
      "outputs": [],
      "source": [
        "a=[11,22]\n",
        "a"
      ],
      "id": "9f3b17b8-4f97-47c0-a2d5-7993409423b8"
    },
    {
      "cell_type": "code",
      "execution_count": 9,
      "metadata": {
        "vscode": {
          "languageId": "python"
        }
      },
      "outputs": [],
      "source": [
        "type(a)"
      ],
      "id": "2ef4c156-aecb-4f0b-a020-7e65113dd0dc"
    },
    {
      "cell_type": "markdown",
      "metadata": {},
      "source": [
        "`-` 비어있는 리스트의 선언"
      ],
      "id": "d76d9fa6-4321-4985-8575-bac6671314d1"
    },
    {
      "cell_type": "code",
      "execution_count": 13,
      "metadata": {
        "vscode": {
          "languageId": "python"
        }
      },
      "outputs": [],
      "source": [
        "a=[11] # 방법1\n",
        "a"
      ],
      "id": "a38b1c1a-c9f6-46f6-b8ce-fb48569c72fd"
    },
    {
      "cell_type": "code",
      "execution_count": 14,
      "metadata": {
        "vscode": {
          "languageId": "python"
        }
      },
      "outputs": [],
      "source": [
        "len(a)"
      ],
      "id": "c13f945c-bc35-4de4-abf2-e50dcfa74b2b"
    },
    {
      "cell_type": "code",
      "execution_count": 15,
      "metadata": {
        "vscode": {
          "languageId": "python"
        }
      },
      "outputs": [],
      "source": [
        "a=11"
      ],
      "id": "a2384d5a-75ea-45cd-bd52-0cd28f1c4c0b"
    },
    {
      "cell_type": "code",
      "execution_count": 4,
      "metadata": {
        "vscode": {
          "languageId": "python"
        }
      },
      "outputs": [],
      "source": [
        "a=list() # 방법2\n",
        "a"
      ],
      "id": "e8f5c680-6947-4537-b2f4-6d518418c130"
    },
    {
      "cell_type": "markdown",
      "metadata": {},
      "source": [
        "## 연산\n",
        "\n",
        "`-` 더하기연산"
      ],
      "id": "13232a5b-df89-4c71-844d-9e7b10d55d44"
    },
    {
      "cell_type": "code",
      "execution_count": 5,
      "metadata": {
        "vscode": {
          "languageId": "python"
        }
      },
      "outputs": [],
      "source": [
        "a=[11,12]\n",
        "b=[12,13]"
      ],
      "id": "79d6bd44-21d2-4274-b283-a5df2d39db6b"
    },
    {
      "cell_type": "code",
      "execution_count": 6,
      "metadata": {
        "vscode": {
          "languageId": "python"
        }
      },
      "outputs": [],
      "source": [
        "a"
      ],
      "id": "80c3f98b-57e3-462b-a93d-62cf260a9e9d"
    },
    {
      "cell_type": "code",
      "execution_count": 7,
      "metadata": {
        "vscode": {
          "languageId": "python"
        }
      },
      "outputs": [],
      "source": [
        "b"
      ],
      "id": "fd675de2-6ddc-4a4d-bfc3-4455007ae42c"
    },
    {
      "cell_type": "code",
      "execution_count": 8,
      "metadata": {
        "vscode": {
          "languageId": "python"
        }
      },
      "outputs": [],
      "source": [
        "a+b"
      ],
      "id": "5efc9f01-63d4-46ce-a6be-5c31be1891d9"
    },
    {
      "cell_type": "markdown",
      "metadata": {},
      "source": [
        "-   우리의 예상과 다른 결과가 나옴 $\\to$ 파이썬은 R처럼 자체적으로 좋은\n",
        "    계산기능을 내장하고 있지 않음.\n",
        "\n",
        "`-` 브로드캐스팅과 같이 R에서는 당연히 가능했던 기능을 사용할 수 없음."
      ],
      "id": "b803942a-5183-4766-af29-62ab6faaa54e"
    },
    {
      "cell_type": "code",
      "execution_count": 19,
      "metadata": {
        "vscode": {
          "languageId": "python"
        }
      },
      "outputs": [],
      "source": [
        "a=[1,2,3]\n",
        "b=1\n",
        "a+b"
      ],
      "id": "27de908e-8426-4d4a-bead-43702510b0d8"
    },
    {
      "cell_type": "markdown",
      "metadata": {},
      "source": [
        "`-` 뺄셈은 정의되지 않음"
      ],
      "id": "182714f4-66f3-4e1f-8586-33aef4f0f6ad"
    },
    {
      "cell_type": "code",
      "execution_count": 20,
      "metadata": {
        "vscode": {
          "languageId": "python"
        }
      },
      "outputs": [],
      "source": [
        "a=[1,2]\n",
        "b=[1,2]\n",
        "a-b"
      ],
      "id": "722b5559-7e5c-4636-8e99-359efddf6bba"
    },
    {
      "cell_type": "markdown",
      "metadata": {},
      "source": [
        "`-` 곱하기는 정의가능"
      ],
      "id": "e0b933d3-4fc4-4a82-bdc7-b0e5d6b62a97"
    },
    {
      "cell_type": "code",
      "execution_count": 11,
      "metadata": {
        "vscode": {
          "languageId": "python"
        }
      },
      "outputs": [],
      "source": [
        "a=[1,2]"
      ],
      "id": "e46da257-9da2-4ecc-ae68-10e14e471ce4"
    },
    {
      "cell_type": "code",
      "execution_count": 12,
      "metadata": {
        "vscode": {
          "languageId": "python"
        }
      },
      "outputs": [],
      "source": [
        "2*a # a+a "
      ],
      "id": "00ef7fe8-0f16-4aff-8d92-1b4c565058f9"
    },
    {
      "cell_type": "markdown",
      "metadata": {},
      "source": [
        "`-` 나눗셈은 정의되지 않음"
      ],
      "id": "ab7c8f18-0d97-4bc9-8f7d-4424a225a466"
    },
    {
      "cell_type": "code",
      "execution_count": 13,
      "metadata": {
        "vscode": {
          "languageId": "python"
        }
      },
      "outputs": [],
      "source": [
        "a=[1,2,1,2]\n",
        "a/2"
      ],
      "id": "f583bdb6-776b-42d5-815e-97a462038547"
    },
    {
      "cell_type": "markdown",
      "metadata": {},
      "source": [
        "`-` 더하기와 곱하기는 원소의 추가와 반복추가를 의미하지만 그렇다고 해서\n",
        "뺄셈과 나눗셈이 원소의 삭제를 의미하는것은 아님"
      ],
      "id": "c04b9b3f-18b8-4107-84d2-a2e068b7a4ab"
    },
    {
      "cell_type": "code",
      "execution_count": 14,
      "metadata": {
        "vscode": {
          "languageId": "python"
        }
      },
      "outputs": [],
      "source": [
        "a=[1,2,3]\n",
        "a-[3] # 이런건 없다"
      ],
      "id": "d640d22f-a528-444c-8825-85e95094ec89"
    },
    {
      "cell_type": "code",
      "execution_count": 15,
      "metadata": {
        "vscode": {
          "languageId": "python"
        }
      },
      "outputs": [],
      "source": [
        "a=[1,2,1,2,1,2]\n",
        "a/3 # 이런건 없다"
      ],
      "id": "93d3f645-d153-4dbf-92a1-78d192d0dfa6"
    },
    {
      "cell_type": "markdown",
      "metadata": {},
      "source": [
        "`-` 더하기와 곱하기가 원소의 추가와 반복추가를 의미하여 편리할때도\n",
        "있긴하지만, 우리는 산술적인 `+`, `*` 를 원하는 경우도 있다. 이럴 경우는\n",
        "어떻게 할 수 있을까?\n",
        "\n",
        "(예제)"
      ],
      "id": "c24273be-53d1-409f-9a4e-b9d04f764e4a"
    },
    {
      "cell_type": "code",
      "execution_count": 21,
      "metadata": {
        "vscode": {
          "languageId": "python"
        }
      },
      "outputs": [],
      "source": [
        "a=[1,2]\n",
        "b=[3,4]"
      ],
      "id": "899102b7-43bd-47e5-a004-adec448d6bc1"
    },
    {
      "cell_type": "markdown",
      "metadata": {},
      "source": [
        "a+b = \\[4,6\\] 이 되도록 하려면?\n",
        "\n",
        "(풀이1)"
      ],
      "id": "79898801-5d47-4c6a-859e-c58658212fda"
    },
    {
      "cell_type": "code",
      "execution_count": 67,
      "metadata": {
        "vscode": {
          "languageId": "python"
        }
      },
      "outputs": [],
      "source": [
        "a[0]+b[0] # a의 첫번째 원소를 추출, b의 첫번째 원소를 추출, 둘을 더함 "
      ],
      "id": "8c8ca5b6-5b12-4ce9-b8f8-fddb49fc4cb0"
    },
    {
      "cell_type": "code",
      "execution_count": 18,
      "metadata": {
        "vscode": {
          "languageId": "python"
        }
      },
      "outputs": [],
      "source": [
        "a[1]+b[1] # a의 두번째 원소를 추출, b의 두번째 원소를 추출, 둘을 더함 "
      ],
      "id": "4fb152aa-6fb8-4ded-8e7a-7bc1322a9fa6"
    },
    {
      "cell_type": "code",
      "execution_count": 19,
      "metadata": {
        "vscode": {
          "languageId": "python"
        }
      },
      "outputs": [],
      "source": [
        "[a[0]+b[0],a[1]+b[1]]"
      ],
      "id": "4e4295d8-7c85-402f-ada1-3da02d80dc80"
    },
    {
      "cell_type": "markdown",
      "metadata": {},
      "source": [
        "풀이가 가능한 이유? a,b는 리스트이지만 a\\[0\\], a\\[1\\], b\\[0\\], b\\[1\\] 은\n",
        "각각 인트형임. 인트형은 + 연산이 가능했음.\n",
        "\n",
        "(풀이2)\n",
        "\n",
        "numpy 패키지 (파이썬의 여러 수치연산들을 담당하는 라이브러리)\n",
        "\n",
        "-   이러한 벡터연산은 누구나 필요로 하는 연산임.\n",
        "-   내가 아니더라도 누군가가 프로그램화 해놓았을 것임.\n",
        "-   그 누군가가 자신이 만든 코드를 잘 정리하여 무료로 배포했을 수도\n",
        "    있음. (패키지를 배포한다고 표현)\n",
        "-   그 패키지를 우리는 가져와서 설치한뒤 사용하기만 하면된다.\n",
        "\n",
        "패키지를 설치하는 방법 (코랩은 이미 설치되어 있음)\n",
        "\n",
        "-   `!pip install numpy` \\# 최신버전을 설치함\n",
        "-   `!conda install -c conda-forge numpy -y` \\# 안전한 버전을 설치함\n",
        "\n",
        "설치된 패키지를 사용하는 방법\n",
        "\n",
        "-   `import numpy` 한뒤에 `numpy.??`로 기능을 사용\n",
        "-   `import numpy as np` 한뒤에 `np.??`로 기능을 사용"
      ],
      "id": "ca428edb-5ba8-48e0-a75b-771982a23f7e"
    },
    {
      "cell_type": "code",
      "execution_count": 31,
      "metadata": {
        "vscode": {
          "languageId": "python"
        }
      },
      "outputs": [],
      "source": [
        "import numpy ## 설치한패키지를 쓰겠다고 선언함 "
      ],
      "id": "bb738051-bf3d-4bfe-b400-8229e3d58d6d"
    },
    {
      "cell_type": "code",
      "execution_count": 32,
      "metadata": {
        "vscode": {
          "languageId": "python"
        }
      },
      "outputs": [],
      "source": [
        "a=[1,2]\n",
        "b=[3,4]"
      ],
      "id": "d7037a7b-4f87-4cd9-853a-54a11abb0329"
    },
    {
      "cell_type": "code",
      "execution_count": 47,
      "metadata": {
        "vscode": {
          "languageId": "python"
        }
      },
      "outputs": [],
      "source": [
        "aa=numpy.array(a) \n",
        "bb=numpy.array(b)\n",
        "# aa,bb는 리스트가 아니라 넘파이 어레이,\n",
        "# numpy.array()는 numpy패키지에서 제공하는 array함수를 쓰겠다는 의미. "
      ],
      "id": "688f9c81-34a5-4901-97c6-a4ab1bc47c50"
    },
    {
      "cell_type": "code",
      "execution_count": 52,
      "metadata": {
        "vscode": {
          "languageId": "python"
        }
      },
      "outputs": [],
      "source": [
        "aa+bb"
      ],
      "id": "2161f70f-aa36-4605-8042-39f153c34590"
    },
    {
      "cell_type": "markdown",
      "metadata": {},
      "source": [
        "이런것도 가능"
      ],
      "id": "7334a5c5-d131-4157-a56f-d599c101199b"
    },
    {
      "cell_type": "code",
      "execution_count": 55,
      "metadata": {
        "vscode": {
          "languageId": "python"
        }
      },
      "outputs": [],
      "source": [
        "2*aa"
      ],
      "id": "fcf21c49-af56-42fe-987f-a80e71d8be67"
    },
    {
      "cell_type": "code",
      "execution_count": 57,
      "metadata": {
        "vscode": {
          "languageId": "python"
        }
      },
      "outputs": [],
      "source": [
        "2*aa+1"
      ],
      "id": "99892da4-1fe7-4576-98be-cd6c3ef75d7a"
    },
    {
      "cell_type": "code",
      "execution_count": 59,
      "metadata": {
        "vscode": {
          "languageId": "python"
        }
      },
      "outputs": [],
      "source": [
        "2*aa+1+bb"
      ],
      "id": "f0f44281-b11b-4082-9d3d-2b3e7e9705d4"
    },
    {
      "cell_type": "markdown",
      "metadata": {},
      "source": [
        "(풀이3)"
      ],
      "id": "ee4f7d78-47da-4b54-9887-2c637c14c4a7"
    },
    {
      "cell_type": "code",
      "execution_count": 49,
      "metadata": {
        "vscode": {
          "languageId": "python"
        }
      },
      "outputs": [],
      "source": [
        "import numpy as np ## 설치한 numpy라는 패키지를 쓰겠음. 그런데 numpy말고 np라는 이름으로 쓰겠음"
      ],
      "id": "ba2ac7bc-9326-4065-9afc-037c5c4b1fc4"
    },
    {
      "cell_type": "code",
      "execution_count": 51,
      "metadata": {
        "vscode": {
          "languageId": "python"
        }
      },
      "outputs": [],
      "source": [
        "np.array(a)"
      ],
      "id": "a6f7c498-1459-4223-9f24-962bfceeede8"
    },
    {
      "cell_type": "code",
      "execution_count": 52,
      "metadata": {
        "vscode": {
          "languageId": "python"
        }
      },
      "outputs": [],
      "source": [
        "a=[1,2]\n",
        "b=[3,4]\n",
        "np.array(a)+np.array(b)"
      ],
      "id": "4d0a6c56-c3db-429f-b004-64324ff55119"
    },
    {
      "cell_type": "markdown",
      "metadata": {},
      "source": [
        "## 인덱싱\n",
        "\n",
        "`-` str형과 동일한 방식"
      ],
      "id": "1fa17ee5-ceaf-4083-aa31-3da041e5a47b"
    },
    {
      "cell_type": "code",
      "execution_count": 77,
      "metadata": {
        "vscode": {
          "languageId": "python"
        }
      },
      "outputs": [],
      "source": [
        "a=[11,22,33,44,55] # 0 -4 -3 -2 -1"
      ],
      "id": "cf8a0de8-3802-4d63-84d9-6c4bc341d486"
    },
    {
      "cell_type": "code",
      "execution_count": 76,
      "metadata": {
        "vscode": {
          "languageId": "python"
        }
      },
      "outputs": [],
      "source": [
        "a[-2:] # 끝의 2개의 원소를 뽑음 "
      ],
      "id": "76d0ba13-6dd5-4950-adc7-6df970d3f832"
    },
    {
      "cell_type": "markdown",
      "metadata": {},
      "source": [
        "## list 고급\n",
        "\n",
        "### 리스트는 컨테이너형 객체이다.\n",
        "\n",
        "`-` 리스트의 원소는 int, float 따위만 가능한 것이 아니다. (리스트는\n",
        "컨테이너형 객체이므로)"
      ],
      "id": "a7e6ba52-98b0-4e92-830f-31b13dc9d049"
    },
    {
      "cell_type": "code",
      "execution_count": 53,
      "metadata": {
        "vscode": {
          "languageId": "python"
        }
      },
      "outputs": [],
      "source": [
        "lst = [1,3.14,True,'a',[1,2], \n",
        "       (1,2),{'name':'iu','age':27},{1,2,3}]"
      ],
      "id": "5232ac18-5f23-481a-b67d-fe7d07260389"
    },
    {
      "cell_type": "code",
      "execution_count": 55,
      "metadata": {
        "vscode": {
          "languageId": "python"
        }
      },
      "outputs": [],
      "source": [
        "lst"
      ],
      "id": "8876bcad-c1f2-4196-8301-fba060f29d52"
    },
    {
      "cell_type": "markdown",
      "metadata": {},
      "source": [
        "각 원소의 타입을 알아보자."
      ],
      "id": "60e763a4-2586-402b-a9e6-5ed168088374"
    },
    {
      "cell_type": "code",
      "execution_count": 80,
      "metadata": {
        "vscode": {
          "languageId": "python"
        }
      },
      "outputs": [],
      "source": [
        "type(lst[0])"
      ],
      "id": "195edf90-bdcc-4056-92c1-a6b0f101b791"
    },
    {
      "cell_type": "code",
      "execution_count": 81,
      "metadata": {
        "vscode": {
          "languageId": "python"
        }
      },
      "outputs": [],
      "source": [
        "type(lst[1])"
      ],
      "id": "f0d21aa3-17d8-4d91-8c6e-4c5be0310886"
    },
    {
      "cell_type": "code",
      "execution_count": 82,
      "metadata": {
        "vscode": {
          "languageId": "python"
        }
      },
      "outputs": [],
      "source": [
        "type(lst[2])"
      ],
      "id": "7f15299c-bc44-425f-9fdb-ba2ea88c57ba"
    },
    {
      "cell_type": "code",
      "execution_count": 83,
      "metadata": {
        "vscode": {
          "languageId": "python"
        }
      },
      "outputs": [],
      "source": [
        "type(lst[3])"
      ],
      "id": "04d1407a-134c-497d-9bff-1f6328463958"
    },
    {
      "cell_type": "code",
      "execution_count": 84,
      "metadata": {
        "vscode": {
          "languageId": "python"
        }
      },
      "outputs": [],
      "source": [
        "type(lst[4])"
      ],
      "id": "251f8901-35e2-49d3-bcc9-8df687c398d6"
    },
    {
      "cell_type": "code",
      "execution_count": 85,
      "metadata": {
        "vscode": {
          "languageId": "python"
        }
      },
      "outputs": [],
      "source": [
        "type(lst[5])"
      ],
      "id": "fc6e51bd-ef7d-4fdf-b83a-b68dbd8e2ca4"
    },
    {
      "cell_type": "code",
      "execution_count": 86,
      "metadata": {
        "vscode": {
          "languageId": "python"
        }
      },
      "outputs": [],
      "source": [
        "type(lst[6])"
      ],
      "id": "7bf25447-277b-4ecd-a0c2-11ca62978eb5"
    },
    {
      "cell_type": "code",
      "execution_count": 87,
      "metadata": {
        "vscode": {
          "languageId": "python"
        }
      },
      "outputs": [],
      "source": [
        "type(lst[7])"
      ],
      "id": "f5de5bed-9f2c-45a3-a999-6c6a6b603751"
    },
    {
      "cell_type": "markdown",
      "metadata": {},
      "source": [
        "`-` str은 컨테이너형이 아니다."
      ],
      "id": "4f2a4ebf-093c-4e35-8246-ec98cfca4c58"
    },
    {
      "cell_type": "code",
      "execution_count": 57,
      "metadata": {
        "vscode": {
          "languageId": "python"
        }
      },
      "outputs": [],
      "source": [
        "'abcd'[2]"
      ],
      "id": "e4ae066a-74c4-48f9-908b-41e92ac5cdf4"
    },
    {
      "cell_type": "markdown",
      "metadata": {},
      "source": [
        "-   str의 모든 원소는 문자임\n",
        "\n",
        "### 리스트는 가변형 객체이다.\n",
        "\n",
        "#### 리스트의 원소 수정\n",
        "\n",
        "`-` 리스트의 원소를 수정할 수 있다. (리스트는 가변객체이므로)"
      ],
      "id": "dd5bcb26-c926-4eba-a3d8-228e45a6b0ec"
    },
    {
      "cell_type": "code",
      "execution_count": 58,
      "metadata": {
        "vscode": {
          "languageId": "python"
        }
      },
      "outputs": [],
      "source": [
        "a=[11,22,33]\n",
        "a"
      ],
      "id": "fc9f6aa4-3683-4165-b558-89e26d6fcd77"
    },
    {
      "cell_type": "code",
      "execution_count": 97,
      "metadata": {
        "vscode": {
          "languageId": "python"
        }
      },
      "outputs": [],
      "source": [
        "a[0]"
      ],
      "id": "a77fcc83-b574-47ca-97e0-60d96c5368ba"
    },
    {
      "cell_type": "code",
      "execution_count": 98,
      "metadata": {
        "vscode": {
          "languageId": "python"
        }
      },
      "outputs": [],
      "source": [
        "a[0]=111"
      ],
      "id": "c3d183ad-f215-42e7-8135-985c19cebce6"
    },
    {
      "cell_type": "code",
      "execution_count": 99,
      "metadata": {
        "vscode": {
          "languageId": "python"
        }
      },
      "outputs": [],
      "source": [
        "a"
      ],
      "id": "a11b4638-e8f2-4672-888c-e17ec6ed4c56"
    },
    {
      "cell_type": "markdown",
      "metadata": {},
      "source": [
        "`-` 원소수정은 당연한 기능같은데 이것이 불가능한 경우도 있다.\n",
        "\n",
        "(가능한경우)"
      ],
      "id": "c3b915ed-784b-4ed9-9ae4-bfd80e959c3c"
    },
    {
      "cell_type": "code",
      "execution_count": 59,
      "metadata": {
        "vscode": {
          "languageId": "python"
        }
      },
      "outputs": [],
      "source": [
        "a=['g','u','e','b','i','n']\n",
        "a"
      ],
      "id": "4e512f30-0d0e-4521-b7f8-3c3502d8b45d"
    },
    {
      "cell_type": "code",
      "execution_count": 104,
      "metadata": {
        "vscode": {
          "languageId": "python"
        }
      },
      "outputs": [],
      "source": [
        "a[0]"
      ],
      "id": "78913261-4417-4475-a12b-2ecda95a11da"
    },
    {
      "cell_type": "code",
      "execution_count": 105,
      "metadata": {
        "vscode": {
          "languageId": "python"
        }
      },
      "outputs": [],
      "source": [
        "a[0]='G'"
      ],
      "id": "d521469d-6bd5-44a5-824b-2c734690a0bb"
    },
    {
      "cell_type": "code",
      "execution_count": 106,
      "metadata": {
        "vscode": {
          "languageId": "python"
        }
      },
      "outputs": [],
      "source": [
        "a"
      ],
      "id": "f6741217-3566-487b-8389-4b06fb9f7846"
    },
    {
      "cell_type": "markdown",
      "metadata": {},
      "source": [
        "(불가능한경우)"
      ],
      "id": "7accc6f8-c892-42d4-9518-99c5fb4fe153"
    },
    {
      "cell_type": "code",
      "execution_count": 65,
      "metadata": {
        "vscode": {
          "languageId": "python"
        }
      },
      "outputs": [],
      "source": [
        "a='guebin'\n",
        "a"
      ],
      "id": "69de5b4b-303f-4fbf-97d2-2ea057efb763"
    },
    {
      "cell_type": "code",
      "execution_count": 66,
      "metadata": {
        "vscode": {
          "languageId": "python"
        }
      },
      "outputs": [],
      "source": [
        "type(a)"
      ],
      "id": "292791ee-bebb-4638-a3d1-91f2534898e7"
    },
    {
      "cell_type": "code",
      "execution_count": 67,
      "metadata": {
        "vscode": {
          "languageId": "python"
        }
      },
      "outputs": [],
      "source": [
        "a[0]"
      ],
      "id": "c89fd5c0-09d1-44df-8fdd-5e30cf7737f9"
    },
    {
      "cell_type": "code",
      "execution_count": 68,
      "metadata": {
        "vscode": {
          "languageId": "python"
        }
      },
      "outputs": [],
      "source": [
        "a[0]='G'"
      ],
      "id": "11047950-3bea-47cd-b4c6-067aea25f90e"
    },
    {
      "cell_type": "markdown",
      "metadata": {},
      "source": [
        "#### 리스트의 원소 삭제\n",
        "\n",
        "(예제)\n",
        "\n",
        "아래와 같이 문자로 된 리스트를 선언하자."
      ],
      "id": "27c9e8fc-cc67-42ed-a2ca-55cf7a1dea88"
    },
    {
      "cell_type": "code",
      "execution_count": 118,
      "metadata": {
        "vscode": {
          "languageId": "python"
        }
      },
      "outputs": [],
      "source": [
        "a=['g','u','e','b','i','n']\n",
        "a"
      ],
      "id": "f9570ff3-37ea-4239-8d19-26da3daf4831"
    },
    {
      "cell_type": "markdown",
      "metadata": {},
      "source": [
        "사실 더 쉽게 선언할 수 있음"
      ],
      "id": "ebc47847-248d-427a-a94f-543595591f03"
    },
    {
      "cell_type": "code",
      "execution_count": 120,
      "metadata": {
        "vscode": {
          "languageId": "python"
        }
      },
      "outputs": [],
      "source": [
        "a= 'guebin' # string으로 a를 선언\n",
        "a= list(a) # list(a)를 통하여 str을 ㅣist로 변환 -> 그 결과를 a에 다시 저장\n",
        "a"
      ],
      "id": "cccdef08-6317-4a82-9c1f-f87cf59fb8f7"
    },
    {
      "cell_type": "markdown",
      "metadata": {},
      "source": [
        "첫번째 원소를 삭제하고 싶다면?"
      ],
      "id": "a7d3d0c5-8efe-473a-a80f-47aadcfd8e38"
    },
    {
      "cell_type": "code",
      "execution_count": 121,
      "metadata": {
        "vscode": {
          "languageId": "python"
        }
      },
      "outputs": [],
      "source": [
        "del a[0]"
      ],
      "id": "486a250d-982a-4b1a-a664-943f2dd0ae02"
    },
    {
      "cell_type": "code",
      "execution_count": 122,
      "metadata": {
        "vscode": {
          "languageId": "python"
        }
      },
      "outputs": [],
      "source": [
        "a"
      ],
      "id": "79a7c837-7322-4c26-b3c7-90a78968ed07"
    },
    {
      "cell_type": "markdown",
      "metadata": {},
      "source": [
        "이 상태에서 다시 첫번쨰 원소를 삭제한다면?"
      ],
      "id": "156ca4ac-c4e7-43e2-913c-a0ed47f04f0b"
    },
    {
      "cell_type": "code",
      "execution_count": 123,
      "metadata": {
        "vscode": {
          "languageId": "python"
        }
      },
      "outputs": [],
      "source": [
        "del a[0]"
      ],
      "id": "a8d6b8e1-7385-4965-b7f4-a534bac13eb4"
    },
    {
      "cell_type": "code",
      "execution_count": 124,
      "metadata": {
        "vscode": {
          "languageId": "python"
        }
      },
      "outputs": [],
      "source": [
        "a"
      ],
      "id": "2f200f80-d5b4-4be2-ae37-724bbffe7128"
    },
    {
      "cell_type": "markdown",
      "metadata": {},
      "source": [
        "#### 리스트의 원소 추가\n",
        "\n",
        "(예제) 비어있는 리스트를 만들고 원소 0,1,2를 차례로 추가하여 보자.\n",
        "\n",
        "(풀이1)"
      ],
      "id": "d7ac0a88-d9f6-49d6-9a8c-e0f0a7831a0b"
    },
    {
      "cell_type": "code",
      "execution_count": 130,
      "metadata": {
        "vscode": {
          "languageId": "python"
        }
      },
      "outputs": [],
      "source": [
        "a=[]\n",
        "a"
      ],
      "id": "d61cf09a-0f9f-4f94-8a3c-95b173e13442"
    },
    {
      "cell_type": "code",
      "execution_count": 131,
      "metadata": {
        "vscode": {
          "languageId": "python"
        }
      },
      "outputs": [],
      "source": [
        "a= a + [0] \n",
        "a"
      ],
      "id": "831767cc-3efc-42e6-a6da-53c81092d6fc"
    },
    {
      "cell_type": "code",
      "execution_count": 132,
      "metadata": {
        "vscode": {
          "languageId": "python"
        }
      },
      "outputs": [],
      "source": [
        "a= a + [1]\n",
        "a"
      ],
      "id": "594b7449-3906-4937-a2be-72e5543439c0"
    },
    {
      "cell_type": "code",
      "execution_count": 133,
      "metadata": {
        "vscode": {
          "languageId": "python"
        }
      },
      "outputs": [],
      "source": [
        "a= a + [2]\n",
        "a"
      ],
      "id": "85d5cddb-c5cd-40a1-8858-01c38a18f2ff"
    },
    {
      "cell_type": "markdown",
      "metadata": {},
      "source": [
        "(풀이2)"
      ],
      "id": "e450a67e-b0b1-4c81-8021-38f4c8556987"
    },
    {
      "cell_type": "code",
      "execution_count": 74,
      "metadata": {
        "vscode": {
          "languageId": "python"
        }
      },
      "outputs": [],
      "source": [
        "a=[]\n",
        "a"
      ],
      "id": "f7069317-fe32-4d42-a1b5-4b499d8c6fb8"
    },
    {
      "cell_type": "code",
      "execution_count": 75,
      "metadata": {
        "vscode": {
          "languageId": "python"
        }
      },
      "outputs": [],
      "source": [
        "a += [0] \n",
        "a"
      ],
      "id": "d043530b-1f4c-4b5c-8db6-1b1b16073d25"
    },
    {
      "cell_type": "code",
      "execution_count": 76,
      "metadata": {
        "vscode": {
          "languageId": "python"
        }
      },
      "outputs": [],
      "source": [
        "a += [1]\n",
        "a"
      ],
      "id": "66ec8ed6-5319-4bb5-940b-00d728dc5083"
    },
    {
      "cell_type": "code",
      "execution_count": 77,
      "metadata": {
        "vscode": {
          "languageId": "python"
        }
      },
      "outputs": [],
      "source": [
        "a += [2]\n",
        "a"
      ],
      "id": "d40e1a11-2e5b-4a28-ac4e-d529e059b461"
    },
    {
      "cell_type": "markdown",
      "metadata": {},
      "source": [
        "-   암기법: 중복되는 변수를 지우고 연산자의 순서를 바꾼다.\n",
        "\n",
        "(풀이3) 리스트 특화기능(=메소드)를 이용"
      ],
      "id": "38eedb2a-1981-484a-b0dd-f930a657717e"
    },
    {
      "cell_type": "code",
      "execution_count": 78,
      "metadata": {
        "vscode": {
          "languageId": "python"
        }
      },
      "outputs": [],
      "source": [
        "a=[]\n",
        "a"
      ],
      "id": "2f126016-75de-4a6c-9e86-d99b129e44e2"
    },
    {
      "cell_type": "code",
      "execution_count": 146,
      "metadata": {
        "vscode": {
          "languageId": "python"
        }
      },
      "outputs": [],
      "source": [
        "a.append(0)\n",
        "a"
      ],
      "id": "fe3e9657-dd8e-4bba-a3c6-6a584da00f38"
    },
    {
      "cell_type": "code",
      "execution_count": 147,
      "metadata": {
        "vscode": {
          "languageId": "python"
        }
      },
      "outputs": [],
      "source": [
        "a.append(1)\n",
        "a"
      ],
      "id": "0df5b8c5-69bb-42c8-9625-ef6c6ea40381"
    },
    {
      "cell_type": "code",
      "execution_count": 148,
      "metadata": {
        "vscode": {
          "languageId": "python"
        }
      },
      "outputs": [],
      "source": [
        "a.append(2)\n",
        "a"
      ],
      "id": "38c29cd4-a278-4f3d-a364-9f75d04e6380"
    },
    {
      "cell_type": "markdown",
      "metadata": {},
      "source": [
        "`-` `a+[4]`와 `a.append(4)`의 차이점은?\n",
        "\n",
        "(관찰1)"
      ],
      "id": "85cfd8a9-f3ba-43cd-be7e-801ed897718e"
    },
    {
      "cell_type": "code",
      "execution_count": 149,
      "metadata": {
        "vscode": {
          "languageId": "python"
        }
      },
      "outputs": [],
      "source": [
        "a=[1,2,3]\n",
        "a+[4] ## 리스트 a와 리스트 [4]의 연산결과를 알려줘 "
      ],
      "id": "52eb1d51-f837-408d-b37c-cabe0ab90f04"
    },
    {
      "cell_type": "code",
      "execution_count": 151,
      "metadata": {
        "vscode": {
          "languageId": "python"
        }
      },
      "outputs": [],
      "source": [
        "a ## a는 그대로임. 변화없음 "
      ],
      "id": "d837aa40-6737-46c9-8770-c76fa3b6db08"
    },
    {
      "cell_type": "markdown",
      "metadata": {},
      "source": [
        "(관찰2)"
      ],
      "id": "0830fcd1-9f0b-46bd-be5a-85258932a71c"
    },
    {
      "cell_type": "code",
      "execution_count": 152,
      "metadata": {
        "vscode": {
          "languageId": "python"
        }
      },
      "outputs": [],
      "source": [
        "a=[1,2,3]\n",
        "a.append(4)"
      ],
      "id": "aa25fb89-7a7d-4471-9b69-c62c2915f6ae"
    },
    {
      "cell_type": "code",
      "execution_count": 154,
      "metadata": {
        "vscode": {
          "languageId": "python"
        }
      },
      "outputs": [],
      "source": [
        "a ## a자체가 변화함 "
      ],
      "id": "5cc35555-2bd8-4f1e-a079-9ce07c621eb6"
    },
    {
      "cell_type": "markdown",
      "metadata": {},
      "source": [
        "비슷해보이지만 굉장히 미묘한 차이가 있음\n",
        "\n",
        "`a.append(4)`: `a`에 4를 append하라 $\\to$ `a`가 변함\n",
        "\n",
        "`a+[4]`: `a`와 4를 연산하라\n",
        "\n",
        "## list 특수기능\n",
        "\n",
        "**(append)**"
      ],
      "id": "632c82ff-5a44-43e8-bbe4-6cfeaf6a04d6"
    },
    {
      "cell_type": "code",
      "execution_count": 162,
      "metadata": {
        "vscode": {
          "languageId": "python"
        }
      },
      "outputs": [],
      "source": [
        "a=[1,2,3,4]\n",
        "a.append?"
      ],
      "id": "3851b578-23dd-4755-9b11-e8dfd8065916"
    },
    {
      "cell_type": "code",
      "execution_count": 163,
      "metadata": {
        "vscode": {
          "languageId": "python"
        }
      },
      "outputs": [],
      "source": [
        "a.append(5)\n",
        "a"
      ],
      "id": "8980d784-d929-4226-92fa-8d1db6726996"
    },
    {
      "cell_type": "markdown",
      "metadata": {},
      "source": [
        "**(clear)**"
      ],
      "id": "a57e4b08-d294-490c-9e9e-f29e4a09bfd2"
    },
    {
      "cell_type": "code",
      "execution_count": 166,
      "metadata": {
        "vscode": {
          "languageId": "python"
        }
      },
      "outputs": [],
      "source": [
        "a=[1,2,3,4]\n",
        "a.clear?"
      ],
      "id": "1bf65ba0-48f8-47bf-b679-4597e656a475"
    },
    {
      "cell_type": "code",
      "execution_count": 168,
      "metadata": {
        "vscode": {
          "languageId": "python"
        }
      },
      "outputs": [],
      "source": [
        "a.clear()\n",
        "a"
      ],
      "id": "e1d8f438-e0c3-4b7c-bb5d-7f114caf68d7"
    },
    {
      "cell_type": "markdown",
      "metadata": {},
      "source": [
        "**(copy)**"
      ],
      "id": "fd3622ee-483a-45f8-bc4e-1bd624162112"
    },
    {
      "cell_type": "code",
      "execution_count": 170,
      "metadata": {
        "vscode": {
          "languageId": "python"
        }
      },
      "outputs": [],
      "source": [
        "a=[1,2,3,4]\n",
        "a.copy?"
      ],
      "id": "8128859f-f56b-41fe-989c-90dc371b3291"
    },
    {
      "cell_type": "code",
      "execution_count": 171,
      "metadata": {
        "vscode": {
          "languageId": "python"
        }
      },
      "outputs": [],
      "source": [
        "b=a.copy()\n",
        "b"
      ],
      "id": "24453be5-f6fb-46ae-b3f7-a580d211bbea"
    },
    {
      "cell_type": "markdown",
      "metadata": {},
      "source": [
        "**(count)**"
      ],
      "id": "0131d21f-c87f-47b9-93c4-fbcb6bd8670f"
    },
    {
      "cell_type": "code",
      "execution_count": 179,
      "metadata": {
        "vscode": {
          "languageId": "python"
        }
      },
      "outputs": [],
      "source": [
        "a=[1,1,2,3,3,4,4,4]\n",
        "a.count?"
      ],
      "id": "aaa9ba0a-b161-4bde-9070-ff6915c58407"
    },
    {
      "cell_type": "code",
      "execution_count": 181,
      "metadata": {
        "vscode": {
          "languageId": "python"
        }
      },
      "outputs": [],
      "source": [
        "a.count(1)"
      ],
      "id": "9029bb3b-d51e-4efe-ae53-b0f08a1b818a"
    },
    {
      "cell_type": "code",
      "execution_count": 182,
      "metadata": {
        "vscode": {
          "languageId": "python"
        }
      },
      "outputs": [],
      "source": [
        "a.count(2)"
      ],
      "id": "67124330-87eb-45d3-aae2-800d8c0616a9"
    },
    {
      "cell_type": "code",
      "execution_count": 183,
      "metadata": {
        "vscode": {
          "languageId": "python"
        }
      },
      "outputs": [],
      "source": [
        "a.count(3)"
      ],
      "id": "3573e548-2bea-4499-8272-30be98c9863f"
    },
    {
      "cell_type": "code",
      "execution_count": 184,
      "metadata": {
        "vscode": {
          "languageId": "python"
        }
      },
      "outputs": [],
      "source": [
        "a.count(4)"
      ],
      "id": "826194d3-6949-4d50-98ee-24441272dca7"
    },
    {
      "cell_type": "markdown",
      "metadata": {},
      "source": [
        "**(extend)**"
      ],
      "id": "58627d6e-7a7c-4748-acb3-e3bdb33f8b47"
    },
    {
      "cell_type": "code",
      "execution_count": 198,
      "metadata": {
        "vscode": {
          "languageId": "python"
        }
      },
      "outputs": [],
      "source": [
        "a=[1,2,3,4]\n",
        "b=[-1,-2,-3,-4]"
      ],
      "id": "069f7a74-6913-447d-b8c2-6b51d7951d75"
    },
    {
      "cell_type": "code",
      "execution_count": 199,
      "metadata": {
        "vscode": {
          "languageId": "python"
        }
      },
      "outputs": [],
      "source": [
        "a.extend(b)\n",
        "a"
      ],
      "id": "60708d1e-2097-4f55-a971-56e2438a2190"
    },
    {
      "cell_type": "code",
      "execution_count": 200,
      "metadata": {
        "vscode": {
          "languageId": "python"
        }
      },
      "outputs": [],
      "source": [
        "a=[1,2,3,4]\n",
        "b=[-1,-2,-3,-4]"
      ],
      "id": "46015c7c-ef06-4d14-be57-bb480effe1c8"
    },
    {
      "cell_type": "code",
      "execution_count": 201,
      "metadata": {
        "vscode": {
          "languageId": "python"
        }
      },
      "outputs": [],
      "source": [
        "a.append(b)"
      ],
      "id": "3868229a-46a5-4259-8ded-c4d568561bb2"
    },
    {
      "cell_type": "code",
      "execution_count": 202,
      "metadata": {
        "vscode": {
          "languageId": "python"
        }
      },
      "outputs": [],
      "source": [
        "a"
      ],
      "id": "3d0a4c67-0178-4393-b82a-9b1eb207d990"
    },
    {
      "cell_type": "markdown",
      "metadata": {},
      "source": [
        "**(index)**"
      ],
      "id": "a3e2b3b6-a6cf-47e0-9d30-3cc3e1ac8c97"
    },
    {
      "cell_type": "code",
      "execution_count": 236,
      "metadata": {
        "vscode": {
          "languageId": "python"
        }
      },
      "outputs": [],
      "source": [
        "a=[11,22,'a',True, 22,'a']\n",
        "a.index?"
      ],
      "id": "8b890c76-162b-4120-93ac-5966f9a696dc"
    },
    {
      "cell_type": "code",
      "execution_count": 237,
      "metadata": {
        "vscode": {
          "languageId": "python"
        }
      },
      "outputs": [],
      "source": [
        "a.index(11)"
      ],
      "id": "87b97700-b21f-45ee-9505-1a67ad5f09a0"
    },
    {
      "cell_type": "code",
      "execution_count": 238,
      "metadata": {
        "vscode": {
          "languageId": "python"
        }
      },
      "outputs": [],
      "source": [
        "a.index(22)"
      ],
      "id": "b35a2757-358d-4b06-847e-3246e6071b25"
    },
    {
      "cell_type": "code",
      "execution_count": 239,
      "metadata": {
        "vscode": {
          "languageId": "python"
        }
      },
      "outputs": [],
      "source": [
        "a.index('a')"
      ],
      "id": "ef6df1f9-8050-49c9-8173-db246c18f038"
    },
    {
      "cell_type": "code",
      "execution_count": 240,
      "metadata": {
        "vscode": {
          "languageId": "python"
        }
      },
      "outputs": [],
      "source": [
        "a.index(True)"
      ],
      "id": "88688402-8cd2-4860-8b7a-7b76e85e3f76"
    },
    {
      "cell_type": "markdown",
      "metadata": {},
      "source": [
        "**(insert)**"
      ],
      "id": "61a04b96-5344-4880-baaf-3bfe2bc4e500"
    },
    {
      "cell_type": "code",
      "execution_count": 242,
      "metadata": {
        "vscode": {
          "languageId": "python"
        }
      },
      "outputs": [],
      "source": [
        "a=[1,2,3]\n",
        "a.insert?"
      ],
      "id": "e10e36f8-072d-4a05-9d88-8e2492b46507"
    },
    {
      "cell_type": "code",
      "execution_count": 243,
      "metadata": {
        "vscode": {
          "languageId": "python"
        }
      },
      "outputs": [],
      "source": [
        "a.insert(1,88) \n",
        "a"
      ],
      "id": "bdfacd70-6de1-4da4-b970-bbe3d7c9c282"
    },
    {
      "cell_type": "markdown",
      "metadata": {},
      "source": [
        "**(pop)**"
      ],
      "id": "46a658a1-7bc3-4673-b40e-0be532fd29c6"
    },
    {
      "cell_type": "code",
      "execution_count": 250,
      "metadata": {
        "vscode": {
          "languageId": "python"
        }
      },
      "outputs": [],
      "source": [
        "a=['a',1,2,'d']\n",
        "a.pop?"
      ],
      "id": "3528b269-7de0-4b9c-b2da-876df6b48447"
    },
    {
      "cell_type": "code",
      "execution_count": 251,
      "metadata": {
        "vscode": {
          "languageId": "python"
        }
      },
      "outputs": [],
      "source": [
        "a.pop() # index=-1 이므로 마지막원소가 나타남"
      ],
      "id": "0121e8ea-a7a2-47b5-ad64-4cbf471b0cbe"
    },
    {
      "cell_type": "code",
      "execution_count": 252,
      "metadata": {
        "vscode": {
          "languageId": "python"
        }
      },
      "outputs": [],
      "source": [
        "a # a는 마지막 원소가 사라진 상태"
      ],
      "id": "d9d7be83-5f74-450b-be5c-851849d7f343"
    },
    {
      "cell_type": "code",
      "execution_count": 253,
      "metadata": {
        "vscode": {
          "languageId": "python"
        }
      },
      "outputs": [],
      "source": [
        "a.pop(0) # index=0 이므로 첫번쨰 원소가 나타남"
      ],
      "id": "25aa58d3-1b46-45fe-a6a5-ae60035b0368"
    },
    {
      "cell_type": "code",
      "execution_count": 254,
      "metadata": {
        "vscode": {
          "languageId": "python"
        }
      },
      "outputs": [],
      "source": [
        "a # a에는 첫번째 원소가 사라진 상태"
      ],
      "id": "f2e489cd-856d-4f31-a44b-648729fde9fa"
    },
    {
      "cell_type": "markdown",
      "metadata": {},
      "source": [
        "**(remove)**"
      ],
      "id": "69b1fc66-767b-43f6-99fe-52f76e7d3a4e"
    },
    {
      "cell_type": "code",
      "execution_count": 255,
      "metadata": {
        "vscode": {
          "languageId": "python"
        }
      },
      "outputs": [],
      "source": [
        "a=['a',2,3,'d']\n",
        "a.remove?"
      ],
      "id": "96103ab2-113f-4b17-afb6-eda220b8e3e8"
    },
    {
      "cell_type": "code",
      "execution_count": 256,
      "metadata": {
        "vscode": {
          "languageId": "python"
        }
      },
      "outputs": [],
      "source": [
        "a.remove('d')"
      ],
      "id": "0f5bbdbc-7538-4f77-af89-5e0566d64c0c"
    },
    {
      "cell_type": "code",
      "execution_count": 257,
      "metadata": {
        "vscode": {
          "languageId": "python"
        }
      },
      "outputs": [],
      "source": [
        "a"
      ],
      "id": "aa6de459-bb5c-4ac9-b950-133a2ab6914f"
    },
    {
      "cell_type": "code",
      "execution_count": 259,
      "metadata": {
        "vscode": {
          "languageId": "python"
        }
      },
      "outputs": [],
      "source": [
        "a.remove('a')"
      ],
      "id": "5a878a34-e3f4-4cc5-b2ec-56b3fa5b8b9d"
    },
    {
      "cell_type": "code",
      "execution_count": 260,
      "metadata": {
        "vscode": {
          "languageId": "python"
        }
      },
      "outputs": [],
      "source": [
        "a"
      ],
      "id": "1db057c1-8567-427e-8cd0-0a5569cafc52"
    },
    {
      "cell_type": "markdown",
      "metadata": {},
      "source": [
        "**(reverse)**"
      ],
      "id": "65a8b5d1-9493-4bba-ba6c-4ec192b288b3"
    },
    {
      "cell_type": "code",
      "execution_count": 262,
      "metadata": {
        "vscode": {
          "languageId": "python"
        }
      },
      "outputs": [],
      "source": [
        "a=[1,2,3,4]\n",
        "a.reverse?"
      ],
      "id": "d2845a7d-0ed6-40ef-b377-abd20ec460b2"
    },
    {
      "cell_type": "code",
      "execution_count": 263,
      "metadata": {
        "vscode": {
          "languageId": "python"
        }
      },
      "outputs": [],
      "source": [
        "a.reverse()\n",
        "a"
      ],
      "id": "6c51b8d5-9dc8-435c-a263-a551daaff75e"
    },
    {
      "cell_type": "markdown",
      "metadata": {},
      "source": [
        "**(sort)**"
      ],
      "id": "d78f5db8-8cae-4635-a581-2693059657f2"
    },
    {
      "cell_type": "code",
      "execution_count": 265,
      "metadata": {
        "vscode": {
          "languageId": "python"
        }
      },
      "outputs": [],
      "source": [
        "a=[1,3,2,4]\n",
        "a.sort?"
      ],
      "id": "c30c02bb-d39b-4da0-8ab7-17044a15acb8"
    },
    {
      "cell_type": "code",
      "execution_count": 266,
      "metadata": {
        "vscode": {
          "languageId": "python"
        }
      },
      "outputs": [],
      "source": [
        "a.sort()\n",
        "a"
      ],
      "id": "753e6d97-7235-4005-9289-4e15cfc428f6"
    },
    {
      "cell_type": "markdown",
      "metadata": {},
      "source": [
        "(다른예제들)"
      ],
      "id": "b483237d-2509-4025-9c28-da8f8bc38619"
    },
    {
      "cell_type": "code",
      "execution_count": 271,
      "metadata": {
        "vscode": {
          "languageId": "python"
        }
      },
      "outputs": [],
      "source": [
        "a=list('guebin')\n",
        "a"
      ],
      "id": "1924cbc9-1831-41b3-9f44-70fa19e5ac8f"
    },
    {
      "cell_type": "code",
      "execution_count": 272,
      "metadata": {
        "vscode": {
          "languageId": "python"
        }
      },
      "outputs": [],
      "source": [
        "a.sort()\n",
        "a"
      ],
      "id": "a295fc81-5af0-4b14-8a39-1b59267fce95"
    },
    {
      "cell_type": "code",
      "execution_count": 274,
      "metadata": {
        "vscode": {
          "languageId": "python"
        }
      },
      "outputs": [],
      "source": [
        "a.sort(reverse=True)\n",
        "a"
      ],
      "id": "391d1e90-8b24-4f3d-9730-2fef01fd48c2"
    },
    {
      "cell_type": "markdown",
      "metadata": {},
      "source": [
        "## 중첩 리스트"
      ],
      "id": "7095d22f-7fd9-4c16-9428-54ee541ba5da"
    },
    {
      "cell_type": "code",
      "execution_count": 79,
      "metadata": {
        "vscode": {
          "languageId": "python"
        }
      },
      "outputs": [],
      "source": [
        "A=[[1,2,3],[4,5,6],[7,8,9]]\n",
        "A"
      ],
      "id": "936ecd8b-e124-4e88-9225-18b860b1dfce"
    },
    {
      "cell_type": "code",
      "execution_count": 86,
      "metadata": {
        "vscode": {
          "languageId": "python"
        }
      },
      "outputs": [],
      "source": [
        "A[0][1]"
      ],
      "id": "28fbe186-b866-49c5-bae7-dff285fd184e"
    },
    {
      "cell_type": "markdown",
      "metadata": {},
      "source": [
        "`-` A는 아래와 같은 매트릭스로 이해할 수 있다\n",
        "\n",
        "\\$"
      ],
      "id": "8d631cf5-94b4-41e6-a713-a278871cf073"
    },
    {
      "cell_type": "raw",
      "metadata": {
        "raw_mimetype": "tex"
      },
      "source": [
        "\\begin{bmatrix}\n",
        "1 & 2 & 3 \\\\ \n",
        "4 & 5 & 6 \\\\ \n",
        "7 & 8 & 9 \n",
        "\\end{bmatrix}"
      ],
      "id": "53ef796b-9d7c-4659-b771-3da29298f4bc"
    },
    {
      "cell_type": "markdown",
      "metadata": {},
      "source": [
        "\\$\n",
        "\n",
        "`-` A에서 (2,1)의 원소를 뽑고싶다 = 4를 뽑고싶다"
      ],
      "id": "c5d06634-7654-4aca-b0b1-8e9499bfbdfa"
    },
    {
      "cell_type": "code",
      "execution_count": 93,
      "metadata": {
        "vscode": {
          "languageId": "python"
        }
      },
      "outputs": [],
      "source": [
        "A[1,0]"
      ],
      "id": "f62f9541-d4ba-458b-ad53-41afbe2fd51f"
    },
    {
      "cell_type": "markdown",
      "metadata": {},
      "source": [
        "-   실패"
      ],
      "id": "820d585e-31ff-4119-82c4-a1460722f7d2"
    },
    {
      "cell_type": "code",
      "execution_count": 278,
      "metadata": {
        "vscode": {
          "languageId": "python"
        }
      },
      "outputs": [],
      "source": [
        "A[1][0]"
      ],
      "id": "105a9512-bab8-41cc-b458-0e855c9cdfd6"
    },
    {
      "cell_type": "markdown",
      "metadata": {},
      "source": [
        "-   성공\n",
        "\n",
        "`-` 성공의 이유를 분석해보자."
      ],
      "id": "bbb745a9-85da-4990-8dff-ffd533798133"
    },
    {
      "cell_type": "code",
      "execution_count": 285,
      "metadata": {
        "vscode": {
          "languageId": "python"
        }
      },
      "outputs": [],
      "source": [
        "A"
      ],
      "id": "bc638816-5389-4573-9663-c781d320500f"
    },
    {
      "cell_type": "code",
      "execution_count": 286,
      "metadata": {
        "vscode": {
          "languageId": "python"
        }
      },
      "outputs": [],
      "source": [
        "A[1]"
      ],
      "id": "099eb138-870a-45d3-8c3d-0511ceaa6242"
    },
    {
      "cell_type": "code",
      "execution_count": 287,
      "metadata": {
        "vscode": {
          "languageId": "python"
        }
      },
      "outputs": [],
      "source": [
        "A[1][0]"
      ],
      "id": "48c5563e-9ff8-4cb2-b2e9-839b4fcd7fdb"
    },
    {
      "cell_type": "markdown",
      "metadata": {},
      "source": [
        "`-` 매트릭스는 아니지만 매트릭스 같음! - 1차원 배열을 다차원 배열로\n",
        "확장할 수 있는 기본 아이디어를 제공함\n",
        "\n",
        "## 리스트 컴프리헨션($\\star\\star\\star$)\n",
        "\n",
        "`-` 리스트 컴프리헨션을 이해하기 전에 for문에 대하여 알아보자.\n",
        "\n",
        "\\[예비학습\\] `for`문 벼락치기\n",
        "\n",
        "프로그램안에서 반복해서 무엇인가를 하고싶다 $\\to$ for"
      ],
      "id": "a6899b19-1e54-40f9-bc36-9fc3c2cc92e5"
    },
    {
      "cell_type": "code",
      "execution_count": 371,
      "metadata": {
        "vscode": {
          "languageId": "python"
        }
      },
      "outputs": [
        {
          "output_type": "stream",
          "name": "stdout",
          "text": [
            "0\n",
            "1\n",
            "2\n",
            "3"
          ]
        }
      ],
      "source": [
        "for i in [0,1,2,3]: ## 반복실행계획\n",
        "    print(i) ## 반복실행할내용, 탭을이용하여 들여쓰기해야한다. "
      ],
      "id": "440401fc-afd3-4906-8d61-7ccce56e0540"
    },
    {
      "cell_type": "markdown",
      "metadata": {},
      "source": [
        "(예제) 1,2,3,4의 합을 for문을 이용하여 구해보자."
      ],
      "id": "a9866dc8-a7bc-4e0c-a279-c42914f828c8"
    },
    {
      "cell_type": "code",
      "execution_count": 115,
      "metadata": {
        "vscode": {
          "languageId": "python"
        }
      },
      "outputs": [],
      "source": [
        "_sum = 0 \n",
        "for i in [1,2,3,4]:\n",
        "    _sum = _sum + i"
      ],
      "id": "c79afa09-03ee-4e8a-8e17-f6bdf10dde07"
    },
    {
      "cell_type": "code",
      "execution_count": 364,
      "metadata": {
        "vscode": {
          "languageId": "python"
        }
      },
      "outputs": [],
      "source": [
        "_sum = 0\n",
        "i=1 \n",
        "_sum = _sum + i ## 1 <= 0+1\n",
        "i=2\n",
        "_sum = _sum + i ## 3 <= 1+2 \n",
        "i=3 \n",
        "_sum = _sum + i ## 6 <= 3+3\n",
        "i=4\n",
        "_sum = _sum + i ## 10 <= 6+4 "
      ],
      "id": "358a52f8-f5e5-48f4-bcbe-3a02a38fa4dd"
    },
    {
      "cell_type": "code",
      "execution_count": 365,
      "metadata": {
        "vscode": {
          "languageId": "python"
        }
      },
      "outputs": [],
      "source": [
        "_sum"
      ],
      "id": "5c552ef2-9144-4482-b3f6-09ade20ae1cc"
    },
    {
      "cell_type": "markdown",
      "metadata": {},
      "source": [
        "예비학습끝\n",
        "\n",
        "`-` 예제: $2^0, 2^1, 2^2, 2^3$를 원소로 가지는 리스트를 생성하라.\n",
        "\n",
        "(풀이1) 직접입력"
      ],
      "id": "d84c8b5f-82f2-49ed-a365-1a1540026eed"
    },
    {
      "cell_type": "code",
      "execution_count": 119,
      "metadata": {
        "vscode": {
          "languageId": "python"
        }
      },
      "outputs": [],
      "source": [
        "x= [2**0, 2**1, 2**2, 2**3] \n",
        "x"
      ],
      "id": "12aa1a7b-a1cc-486c-9b2b-f6f6c20df411"
    },
    {
      "cell_type": "markdown",
      "metadata": {},
      "source": [
        "(풀이2) for문을 이용함"
      ],
      "id": "19e710c5-6178-4b65-8bae-de256bf72e47"
    },
    {
      "cell_type": "code",
      "execution_count": 129,
      "metadata": {
        "vscode": {
          "languageId": "python"
        }
      },
      "outputs": [],
      "source": [
        "x=[] \n",
        "for i in [0,1,2,3]:\n",
        "    x.append(2**i) "
      ],
      "id": "d611cdc0-3698-4dc2-a833-5b7e49d04f3a"
    },
    {
      "cell_type": "code",
      "execution_count": 130,
      "metadata": {
        "vscode": {
          "languageId": "python"
        }
      },
      "outputs": [],
      "source": [
        "x"
      ],
      "id": "bf944224-bfa7-4577-98d5-c2b51e5a8294"
    },
    {
      "cell_type": "markdown",
      "metadata": {},
      "source": [
        "(풀이3) for문을 이용함"
      ],
      "id": "059b615b-6ed6-40d7-88dd-9b9a789d3f6c"
    },
    {
      "cell_type": "code",
      "execution_count": 131,
      "metadata": {
        "vscode": {
          "languageId": "python"
        }
      },
      "outputs": [],
      "source": [
        "x=[] \n",
        "for i in [0,1,2,3]:\n",
        "    x = x+[2**i]"
      ],
      "id": "ae2f99cf-4508-4199-b992-58f711d82094"
    },
    {
      "cell_type": "code",
      "execution_count": 132,
      "metadata": {
        "vscode": {
          "languageId": "python"
        }
      },
      "outputs": [],
      "source": [
        "x"
      ],
      "id": "b83b880b-da25-4a02-8056-113511b1214d"
    },
    {
      "cell_type": "markdown",
      "metadata": {},
      "source": [
        "(풀이4) for문을 이용함"
      ],
      "id": "3f739668-b1cc-4063-b221-9f7b9e1ef410"
    },
    {
      "cell_type": "code",
      "execution_count": 133,
      "metadata": {
        "vscode": {
          "languageId": "python"
        }
      },
      "outputs": [],
      "source": [
        "x=[] \n",
        "for i in [0,1,2,3]:\n",
        "    x += [2**i]"
      ],
      "id": "38d1b044-ab76-49f9-8616-5b247b46945c"
    },
    {
      "cell_type": "code",
      "execution_count": 134,
      "metadata": {
        "vscode": {
          "languageId": "python"
        }
      },
      "outputs": [],
      "source": [
        "x"
      ],
      "id": "9f25a95e-5c05-40f8-bdd8-39cddc3bead7"
    },
    {
      "cell_type": "markdown",
      "metadata": {},
      "source": [
        "(풀이5) 리스트컴프리헨션을 이용한 풀이"
      ],
      "id": "e7120502-d4f3-462e-8d81-79a9603bf2d6"
    },
    {
      "cell_type": "code",
      "execution_count": 139,
      "metadata": {
        "vscode": {
          "languageId": "python"
        }
      },
      "outputs": [],
      "source": [
        "x= [2**i for i in [0,1,2,3]] \n",
        "x"
      ],
      "id": "42f802ab-3e0d-4b6b-a67b-010b83ed293d"
    },
    {
      "cell_type": "markdown",
      "metadata": {},
      "source": [
        "`-` 리스트컴프리헨션의 문법 암기방법\n",
        "\n",
        "-   집합에서 조건제시법을 연상\n",
        "-   $\\{2^0,2^1,2^2,2^3\\}=\\{2^i: \\text{ for } i = 0,1,2,3 \\}$\n",
        "\n",
        "`-` 리스트컴프리헨션이란?\n",
        "\n",
        "-   리스트를 매우 효율적으로 만드는 테크닉\n",
        "-   for문에 비하여 가지고 있는 장점: (1) 코드가 간결하다 (2) 빠르다\n",
        "\n",
        "`-` 예제: 리스트 컴프리헨션을 이용하여 아래와 같은 리스트를 만들어라."
      ],
      "id": "6fee63a6-7929-4683-83a3-4611e665de7c"
    },
    {
      "cell_type": "code",
      "execution_count": 396,
      "metadata": {
        "vscode": {
          "languageId": "python"
        }
      },
      "outputs": [],
      "source": [
        "['SSSS','PPPP','AAAA','MMMM']"
      ],
      "id": "682dbdbc-84de-4e2c-9427-d9a84de2e9d1"
    },
    {
      "cell_type": "markdown",
      "metadata": {},
      "source": [
        "(풀이)"
      ],
      "id": "b8fd8aef-1a2f-4e63-8ede-753c3feb992c"
    },
    {
      "cell_type": "code",
      "execution_count": 397,
      "metadata": {
        "vscode": {
          "languageId": "python"
        }
      },
      "outputs": [],
      "source": [
        "[i*4 for i in 'SPAM']"
      ],
      "id": "45b3faee-0d0b-46d5-a237-130da1907230"
    },
    {
      "cell_type": "markdown",
      "metadata": {},
      "source": [
        "`-` 예제: 리스트컴프리헨션을 이용하여 아래와 같은 리스트를 만들어라."
      ],
      "id": "ce680040-893b-499e-9ec7-67d9624449c4"
    },
    {
      "cell_type": "code",
      "execution_count": 401,
      "metadata": {
        "vscode": {
          "languageId": "python"
        }
      },
      "outputs": [],
      "source": [
        "['X1','X2','X3','Y1','Y2','Y3']"
      ],
      "id": "e666cacd-b6fe-4f4d-a062-82b17bff36ef"
    },
    {
      "cell_type": "markdown",
      "metadata": {},
      "source": [
        "(풀이)"
      ],
      "id": "cb0d3435-124c-49c7-b71a-796b00da3cfa"
    },
    {
      "cell_type": "code",
      "execution_count": 405,
      "metadata": {
        "vscode": {
          "languageId": "python"
        }
      },
      "outputs": [],
      "source": [
        "[i+j for i in 'XY' for j in '123']"
      ],
      "id": "39f6611e-0c60-4325-b547-223ada911fa0"
    },
    {
      "cell_type": "markdown",
      "metadata": {},
      "source": [
        "`-` 예제: 리스트컴프리헨션을 이용하여 통계1,…,통계5,수학1,…,수학5를\n",
        "만들어라.\n",
        "\n",
        "(풀이)"
      ],
      "id": "5a217640-1745-4e61-aaf0-08ec2649abc7"
    },
    {
      "cell_type": "code",
      "execution_count": 407,
      "metadata": {
        "vscode": {
          "languageId": "python"
        }
      },
      "outputs": [],
      "source": [
        "[x+y for x in ['stat','math'] for y in '12345'] "
      ],
      "id": "9edab9ac-872d-44b7-a179-b1ff651a889e"
    },
    {
      "cell_type": "markdown",
      "metadata": {},
      "source": [
        "-   $\\{xy : x \\in \\{{\\tt stat},{\\tt math}\\}, y \\in \\{1,2,3,4,5\\} \\}$\n",
        "\n",
        "(다른풀이) 참고로 for문을 쓰면 좀 복잡해진다."
      ],
      "id": "27937287-0d1e-49a9-8b2e-12d99c329902"
    },
    {
      "cell_type": "code",
      "execution_count": 409,
      "metadata": {
        "vscode": {
          "languageId": "python"
        }
      },
      "outputs": [],
      "source": [
        "_lst = [] \n",
        "for x in ['stat','math']: \n",
        "    for y in '12345': \n",
        "        _lst = _lst + [x+y] "
      ],
      "id": "9ce3fb96-444b-4da4-b1ec-b753350046da"
    },
    {
      "cell_type": "code",
      "execution_count": 410,
      "metadata": {
        "vscode": {
          "languageId": "python"
        }
      },
      "outputs": [],
      "source": [
        "_lst "
      ],
      "id": "767473d9-c321-439e-84e9-c00f6dc0cda3"
    },
    {
      "cell_type": "markdown",
      "metadata": {},
      "source": [
        "`-` 예제: ’jbnu’를 이용하여 아래와 같은 리스트를 만들어라.\n",
        "(리스트컴프리헨션을 이용할것)"
      ],
      "id": "f44e1707-bcdc-4f6a-9899-883f31e7eb70"
    },
    {
      "cell_type": "code",
      "execution_count": 152,
      "metadata": {
        "vscode": {
          "languageId": "python"
        }
      },
      "outputs": [],
      "source": [
        "['j','b','n','u']"
      ],
      "id": "57312414-7aed-4212-a989-94e824ed5e89"
    },
    {
      "cell_type": "markdown",
      "metadata": {},
      "source": [
        "(다른풀이) 아래와 같이 풀면 된다는것은 알고 있음"
      ],
      "id": "f2498032-5f5c-4537-a354-5a17f9101ff1"
    },
    {
      "cell_type": "code",
      "execution_count": 415,
      "metadata": {
        "vscode": {
          "languageId": "python"
        }
      },
      "outputs": [],
      "source": [
        "list('jbnu')"
      ],
      "id": "fa284b60-d845-4150-a8e7-4ffff6770b8c"
    },
    {
      "cell_type": "markdown",
      "metadata": {},
      "source": [
        "(풀이)"
      ],
      "id": "3625a153-6027-4baa-bc15-f9fc1aa46242"
    },
    {
      "cell_type": "code",
      "execution_count": 418,
      "metadata": {
        "vscode": {
          "languageId": "python"
        }
      },
      "outputs": [],
      "source": [
        "[x for x in 'jbnu']"
      ],
      "id": "558105d6-00a7-4704-89bc-6764b0749fc7"
    },
    {
      "cell_type": "markdown",
      "metadata": {},
      "source": [
        "`-` 예제: x에는 무엇이 있을까?\n",
        "\n",
        "(경우1)"
      ],
      "id": "0863838f-1c6f-482f-85a0-5a34cfd144cd"
    },
    {
      "cell_type": "code",
      "execution_count": 423,
      "metadata": {
        "vscode": {
          "languageId": "python"
        }
      },
      "outputs": [],
      "source": [
        "x=1 \n",
        "lst = [] \n",
        "for x in 'jbnu': \n",
        "    lst = lst + [x]\n",
        "lst    "
      ],
      "id": "802dc660-68b4-4153-97f4-a5043b6bc1b6"
    },
    {
      "cell_type": "code",
      "execution_count": 424,
      "metadata": {
        "vscode": {
          "languageId": "python"
        }
      },
      "outputs": [],
      "source": [
        "x "
      ],
      "id": "538428eb-b5a6-45b3-b8ee-f8c31bb454fa"
    },
    {
      "cell_type": "markdown",
      "metadata": {},
      "source": [
        "(경우2)"
      ],
      "id": "33b28a2a-4a16-440a-84aa-a5b1c334ef86"
    },
    {
      "cell_type": "code",
      "execution_count": 425,
      "metadata": {
        "vscode": {
          "languageId": "python"
        }
      },
      "outputs": [],
      "source": [
        "x=1 \n",
        "lst = [x for x in 'jbnu'] \n",
        "lst "
      ],
      "id": "ce6ad313-564f-483f-a88d-3897a0ba9cad"
    },
    {
      "cell_type": "code",
      "execution_count": 426,
      "metadata": {
        "vscode": {
          "languageId": "python"
        }
      },
      "outputs": [],
      "source": [
        "x"
      ],
      "id": "cf7e503a-9361-4ac5-943b-b981d728b765"
    },
    {
      "cell_type": "markdown",
      "metadata": {},
      "source": [
        "-   진짜 미묘하게 다르죠?\n",
        "\n",
        "`-` 예제: \\[X1,X2,X3,…,X100\\]와 같은 리스트를 만들어보라.\n",
        "\n",
        "(풀이)"
      ],
      "id": "6d651d56-577d-423f-9dc4-fcccf2585da9"
    },
    {
      "cell_type": "code",
      "execution_count": 431,
      "metadata": {
        "vscode": {
          "languageId": "python"
        }
      },
      "outputs": [],
      "source": [
        "['X'+str(i) for i in [1,2,3,4]] ## 이걸 4까지가 아니라 100까지 써야함"
      ],
      "id": "1d74be6e-96e6-45ad-8627-7dfd6a5a5066"
    },
    {
      "cell_type": "code",
      "execution_count": 432,
      "metadata": {
        "vscode": {
          "languageId": "python"
        }
      },
      "outputs": [],
      "source": [
        "['X'+str(i) for i in 1:100]"
      ],
      "id": "72e01988-8635-446c-9346-eb0ab4643813"
    },
    {
      "cell_type": "markdown",
      "metadata": {},
      "source": [
        "\\[예비학습\\]"
      ],
      "id": "df80232c-78ea-4a95-9372-93f2b45b37ed"
    },
    {
      "cell_type": "code",
      "execution_count": 434,
      "metadata": {
        "vscode": {
          "languageId": "python"
        }
      },
      "outputs": [],
      "source": [
        "range(0,10)"
      ],
      "id": "5760c2c3-3322-4afc-819d-8bcaaacafea7"
    },
    {
      "cell_type": "markdown",
      "metadata": {},
      "source": [
        "-   이게뭐야?"
      ],
      "id": "ffecb621-1f60-45a8-83bb-4beae8872845"
    },
    {
      "cell_type": "code",
      "execution_count": 438,
      "metadata": {
        "vscode": {
          "languageId": "python"
        }
      },
      "outputs": [],
      "source": [
        "_tmp = range(0,10)\n",
        "_tmp?"
      ],
      "id": "ed9711e3-1898-4ffc-955c-047cff342e6e"
    },
    {
      "cell_type": "markdown",
      "metadata": {},
      "source": [
        "-   우리가 아는 범위에서는 모르겠음.. 이런게 있나보다 하고 넘어가야\n",
        "    하겠음"
      ],
      "id": "ae596bd0-0a0a-4fab-872e-e2ee3efd0fd9"
    },
    {
      "cell_type": "code",
      "execution_count": 448,
      "metadata": {
        "vscode": {
          "languageId": "python"
        }
      },
      "outputs": [],
      "source": [
        "list(range(0,10)) # 0을 포함, 10을 미포함 "
      ],
      "id": "721081d5-689f-4265-8d59-073990250541"
    },
    {
      "cell_type": "markdown",
      "metadata": {},
      "source": [
        "-   이게 중요한것임. range(0,10)를 리스트화시키면 \\[0,1,2,…,9\\] 와 같은\n",
        "    리스트를 얻을 수 있음."
      ],
      "id": "411897ac-bc90-4396-bc7b-3459875ff588"
    },
    {
      "cell_type": "code",
      "execution_count": 453,
      "metadata": {
        "vscode": {
          "languageId": "python"
        }
      },
      "outputs": [],
      "source": [
        "list(range(10)) # 0은 생략가능"
      ],
      "id": "942e79c0-c819-4be5-8ad8-b14c65e28c28"
    },
    {
      "cell_type": "code",
      "execution_count": 452,
      "metadata": {
        "vscode": {
          "languageId": "python"
        }
      },
      "outputs": [],
      "source": [
        "list(range(2,10)) # 2는 포함, 10은 미포함 "
      ],
      "id": "ae8c59be-dcde-47e3-89a4-9ff87958d044"
    },
    {
      "cell_type": "code",
      "execution_count": 455,
      "metadata": {
        "vscode": {
          "languageId": "python"
        }
      },
      "outputs": [],
      "source": [
        "list(range(1,10,2)) # 2는 포함, 10은 미포함 "
      ],
      "id": "127b7538-190d-49cf-916c-b0f108fae7ab"
    },
    {
      "cell_type": "markdown",
      "metadata": {},
      "source": [
        "예비학습 끝"
      ],
      "id": "bac7caac-e43e-47a4-bdf7-16ffcf81df1b"
    },
    {
      "cell_type": "code",
      "execution_count": 460,
      "metadata": {
        "vscode": {
          "languageId": "python"
        }
      },
      "outputs": [],
      "source": [
        "['X'+str(i) for i in list(range(1,13))] ## 출력결과가 너무 기니까 101대신에 13으로 변경 "
      ],
      "id": "9b8a596f-8301-46a7-ae06-4db31422b2c7"
    },
    {
      "cell_type": "markdown",
      "metadata": {},
      "source": [
        "(아래와 같은 풀이도 가능)"
      ],
      "id": "1b300ba4-98ac-44cc-9f7e-1b8009656fad"
    },
    {
      "cell_type": "code",
      "execution_count": 466,
      "metadata": {
        "vscode": {
          "languageId": "python"
        }
      },
      "outputs": [],
      "source": [
        "['X'+str(i) for i in range(1,13)] ## 출력결과가 너무 기니까 101대신에 13으로 변경 "
      ],
      "id": "9551979c-09bf-436d-8271-cca911654587"
    },
    {
      "cell_type": "markdown",
      "metadata": {},
      "source": [
        "(딴생각) 생각해보니까 for문 뒤에 올 수 있는것이 무엇인지 생각하는것도\n",
        "흥미로울듯"
      ],
      "id": "e7578ba6-51ff-483a-a5be-a5470b485a64"
    },
    {
      "cell_type": "code",
      "execution_count": 467,
      "metadata": {
        "vscode": {
          "languageId": "python"
        }
      },
      "outputs": [
        {
          "output_type": "stream",
          "name": "stdout",
          "text": [
            "1\n",
            "2\n",
            "3\n",
            "4"
          ]
        }
      ],
      "source": [
        "for i in '1234':\n",
        "    print(i)"
      ],
      "id": "5ca9eb77-e4b1-4642-b56d-d8e92a4f8ade"
    },
    {
      "cell_type": "code",
      "execution_count": 468,
      "metadata": {
        "vscode": {
          "languageId": "python"
        }
      },
      "outputs": [
        {
          "output_type": "stream",
          "name": "stdout",
          "text": [
            "1\n",
            "2\n",
            "3\n",
            "4"
          ]
        }
      ],
      "source": [
        "for i in [1,2,3,4]:\n",
        "    print(i)"
      ],
      "id": "28b2a7d3-1da8-4010-b236-e6a29fd8201c"
    },
    {
      "cell_type": "code",
      "execution_count": 470,
      "metadata": {
        "vscode": {
          "languageId": "python"
        }
      },
      "outputs": [
        {
          "output_type": "stream",
          "name": "stdout",
          "text": [
            "1\n",
            "2\n",
            "3\n",
            "4"
          ]
        }
      ],
      "source": [
        "for i in (1,2,3,4): # (1,2,3,4)는 튜플\n",
        "    print(i)"
      ],
      "id": "3c9c23ee-7174-4419-902a-393063e5ed46"
    },
    {
      "cell_type": "code",
      "execution_count": 474,
      "metadata": {
        "vscode": {
          "languageId": "python"
        }
      },
      "outputs": [
        {
          "output_type": "stream",
          "name": "stdout",
          "text": [
            "1\n",
            "2\n",
            "3\n",
            "4"
          ]
        }
      ],
      "source": [
        "for i in {1,2,3,4}: # {1,2,3,4}는 set \n",
        "    print(i)"
      ],
      "id": "720185de-c15d-4bf7-a78a-ae5f66c09b1c"
    },
    {
      "cell_type": "code",
      "execution_count": 476,
      "metadata": {
        "vscode": {
          "languageId": "python"
        }
      },
      "outputs": [
        {
          "output_type": "stream",
          "name": "stdout",
          "text": [
            "name\n",
            "age"
          ]
        }
      ],
      "source": [
        "for i in {'name':'iu','age':28}: #{'name':'iu','age':28} 는 딕셔너리\n",
        "    print(i)"
      ],
      "id": "738a9f95-b98a-4950-be9d-fa3f63ca2d71"
    },
    {
      "cell_type": "code",
      "execution_count": 479,
      "metadata": {
        "vscode": {
          "languageId": "python"
        }
      },
      "outputs": [
        {
          "output_type": "stream",
          "name": "stdout",
          "text": [
            "1\n",
            "2\n",
            "3\n",
            "4"
          ]
        }
      ],
      "source": [
        "for i in range(1,5): \n",
        "    print(i)"
      ],
      "id": "ef8e44dc-5db2-41b7-aa1f-f0d42392e5e6"
    },
    {
      "cell_type": "markdown",
      "metadata": {},
      "source": [
        "# tuple\n",
        "\n",
        "## 리스트 vs 튜플\n",
        "\n",
        "`-` 컨테이너형타입이라는 점, 그리고 연산 및 인덱싱을 하는 방법은\n",
        "리스트와 같음\n",
        "\n",
        "-   차이점1: \\[\\] 대신에 ()를 사용한다.\n",
        "-   차이점2: 불변형이다. (원소의 값을 바꿀 수 없음)\n",
        "-   차이점3: 하나의 원소를 선언할 때는 (1,)와 같이 해야 한다.\n",
        "-   차이점4: 의미가 명확할때는 튜플의 ()를 생략가능하다.\n",
        "\n",
        "`-` 컨테이너형이라는 것이 무슨의미?"
      ],
      "id": "a6b1f873-418d-4d18-b093-64558f3024d9"
    },
    {
      "cell_type": "code",
      "execution_count": 183,
      "metadata": {
        "vscode": {
          "languageId": "python"
        }
      },
      "outputs": [],
      "source": [
        "a=(4,6,'pencil', 3.2+4.6j, [3,4]) "
      ],
      "id": "be653adc-efdb-4688-ac73-d7aeb4dc9341"
    },
    {
      "cell_type": "code",
      "execution_count": 184,
      "metadata": {
        "vscode": {
          "languageId": "python"
        }
      },
      "outputs": [],
      "source": [
        "type(a[2])"
      ],
      "id": "8791af85-4a26-4c99-b62c-b94b36ae856e"
    },
    {
      "cell_type": "code",
      "execution_count": 185,
      "metadata": {
        "vscode": {
          "languageId": "python"
        }
      },
      "outputs": [],
      "source": [
        "type(a[3])"
      ],
      "id": "229495fc-6a95-4609-af61-c6357810890e"
    },
    {
      "cell_type": "markdown",
      "metadata": {},
      "source": [
        "`-` 불변형이라는 것은 무슨의미?"
      ],
      "id": "a36e049c-367f-4107-bb25-b8753c716931"
    },
    {
      "cell_type": "code",
      "execution_count": 189,
      "metadata": {
        "vscode": {
          "languageId": "python"
        }
      },
      "outputs": [],
      "source": [
        "a[2] = 'Pencil'"
      ],
      "id": "32765cd4-20af-4181-a688-49aa1467c046"
    },
    {
      "cell_type": "markdown",
      "metadata": {},
      "source": [
        "참고로 a를 튜플이 아니라 리스트로 선언하면 값이 잘 바뀐다."
      ],
      "id": "348e1be1-eed1-4238-a25c-9a2d662d62cc"
    },
    {
      "cell_type": "code",
      "execution_count": 14,
      "metadata": {
        "vscode": {
          "languageId": "python"
        }
      },
      "outputs": [],
      "source": [
        "a=[4,6,'pencil', 3.2+4.6j, [3,4]]"
      ],
      "id": "05e6dca5-0814-462a-923c-879efa9f5491"
    },
    {
      "cell_type": "code",
      "execution_count": 15,
      "metadata": {
        "vscode": {
          "languageId": "python"
        }
      },
      "outputs": [],
      "source": [
        "a[2]"
      ],
      "id": "5c12b691-564a-45de-8ac8-0392930fac2b"
    },
    {
      "cell_type": "code",
      "execution_count": 16,
      "metadata": {
        "vscode": {
          "languageId": "python"
        }
      },
      "outputs": [],
      "source": [
        "a[2]='Pencil'"
      ],
      "id": "e2238787-bebc-4724-938f-6d0ae403d261"
    },
    {
      "cell_type": "code",
      "execution_count": 17,
      "metadata": {
        "vscode": {
          "languageId": "python"
        }
      },
      "outputs": [],
      "source": [
        "a"
      ],
      "id": "98e63720-6bf2-43e6-b3a7-c248a5b3319f"
    },
    {
      "cell_type": "markdown",
      "metadata": {},
      "source": [
        "`-` 하나의 원소로 이루어진 튜플을 만들때는 쉼표를 붙여야 함."
      ],
      "id": "3ddc6e67-18fe-4a17-99f2-928fc3d0a7a1"
    },
    {
      "cell_type": "code",
      "execution_count": 20,
      "metadata": {
        "vscode": {
          "languageId": "python"
        }
      },
      "outputs": [],
      "source": [
        "[1]+[2,3,4]"
      ],
      "id": "358692de-8c86-492e-baee-eee02251a3f3"
    },
    {
      "cell_type": "code",
      "execution_count": 193,
      "metadata": {
        "vscode": {
          "languageId": "python"
        }
      },
      "outputs": [],
      "source": [
        "(1,)+(2,3,4)"
      ],
      "id": "549648b8-1645-4d60-9d49-a38d3adf6d3e"
    },
    {
      "cell_type": "markdown",
      "metadata": {},
      "source": [
        "`-` 리스트와 중요한 차이점! 의미가 명확할때 튜플의 괄호는 생략가능하다.\n",
        "(이게 중요합니다)"
      ],
      "id": "e58c35ad-cc9a-4d2f-b258-bd2984223d38"
    },
    {
      "cell_type": "code",
      "execution_count": 194,
      "metadata": {
        "vscode": {
          "languageId": "python"
        }
      },
      "outputs": [],
      "source": [
        "a=1,2\n",
        "a"
      ],
      "id": "60ac57f1-a1a8-4ea2-b3f1-9ac30324e7b3"
    },
    {
      "cell_type": "markdown",
      "metadata": {},
      "source": [
        "의미가 명확할때 생략해야함"
      ],
      "id": "62d29732-9f79-401a-aa22-ada72c418582"
    },
    {
      "cell_type": "code",
      "execution_count": 196,
      "metadata": {
        "vscode": {
          "languageId": "python"
        }
      },
      "outputs": [],
      "source": [
        "1,2 + 3,4,5 "
      ],
      "id": "ddae135f-5406-4a4c-804a-463ce1116693"
    },
    {
      "cell_type": "code",
      "execution_count": 34,
      "metadata": {
        "vscode": {
          "languageId": "python"
        }
      },
      "outputs": [],
      "source": [
        "(1,2) + (3,4,5) "
      ],
      "id": "0c8736c7-20c5-47ab-86a9-7f5e019762ae"
    },
    {
      "cell_type": "markdown",
      "metadata": {},
      "source": [
        "## 선언\n",
        "\n",
        "`-` 소괄호를 이용"
      ],
      "id": "21d2f03f-be08-4844-b567-d76c85c2ffa7"
    },
    {
      "cell_type": "code",
      "execution_count": 35,
      "metadata": {
        "vscode": {
          "languageId": "python"
        }
      },
      "outputs": [],
      "source": [
        "a=(1,2,3)\n",
        "a"
      ],
      "id": "6abf839f-6508-4cdd-b206-81d60a9b7e51"
    },
    {
      "cell_type": "code",
      "execution_count": 36,
      "metadata": {
        "vscode": {
          "languageId": "python"
        }
      },
      "outputs": [],
      "source": [
        "type(a)"
      ],
      "id": "f1e3ef43-ff9b-4d48-9abd-9a32a3282436"
    },
    {
      "cell_type": "markdown",
      "metadata": {},
      "source": [
        "`-` 생략가능하다는 점이 포인트"
      ],
      "id": "82c766e3-0f74-4681-a7de-69a1b19715bb"
    },
    {
      "cell_type": "code",
      "execution_count": 37,
      "metadata": {
        "vscode": {
          "languageId": "python"
        }
      },
      "outputs": [],
      "source": [
        "a=1,2,3\n",
        "a"
      ],
      "id": "0d75df34-45a1-4e7a-aa47-d54140399fb5"
    },
    {
      "cell_type": "code",
      "execution_count": 38,
      "metadata": {
        "vscode": {
          "languageId": "python"
        }
      },
      "outputs": [],
      "source": [
        "type(a)"
      ],
      "id": "7c19b5ab-583b-4bbc-83bb-7fb42ea8f7b3"
    },
    {
      "cell_type": "markdown",
      "metadata": {},
      "source": [
        "`-` 원소가 하나인 튜플을 만들고 싶다면?"
      ],
      "id": "924a31d7-a064-4a1c-ae05-e6845f8c79be"
    },
    {
      "cell_type": "code",
      "execution_count": 39,
      "metadata": {
        "vscode": {
          "languageId": "python"
        }
      },
      "outputs": [],
      "source": [
        "a=(1,)\n",
        "a"
      ],
      "id": "c03564b6-0bbe-4025-91c2-a04ba8b57677"
    },
    {
      "cell_type": "markdown",
      "metadata": {},
      "source": [
        "## 연산\n",
        "\n",
        "`-` 리스트와 동일"
      ],
      "id": "d1198dc0-ff6d-411d-bcff-4d2c9745a39b"
    },
    {
      "cell_type": "code",
      "execution_count": 40,
      "metadata": {
        "vscode": {
          "languageId": "python"
        }
      },
      "outputs": [],
      "source": [
        "(1,2)+(3,4,5)"
      ],
      "id": "737f61f9-65e8-4565-a9f9-8c461df799e5"
    },
    {
      "cell_type": "code",
      "execution_count": 41,
      "metadata": {
        "vscode": {
          "languageId": "python"
        }
      },
      "outputs": [],
      "source": [
        "(1,2)*2"
      ],
      "id": "3de368a7-ef39-4236-8fff-cf4b7cc7cc98"
    },
    {
      "cell_type": "markdown",
      "metadata": {},
      "source": [
        "## 인덱싱\n",
        "\n",
        "`-` 리스트와 동일"
      ],
      "id": "1faefd34-24f1-402b-bc0e-91a14ccda489"
    },
    {
      "cell_type": "code",
      "execution_count": 42,
      "metadata": {
        "vscode": {
          "languageId": "python"
        }
      },
      "outputs": [],
      "source": [
        "a=(1,2,3,-4,-5)\n",
        "a"
      ],
      "id": "63725038-b81e-4cb3-b134-f12d8852bd5c"
    },
    {
      "cell_type": "code",
      "execution_count": 43,
      "metadata": {
        "vscode": {
          "languageId": "python"
        }
      },
      "outputs": [],
      "source": [
        "a[-1]"
      ],
      "id": "74feb684-4d23-4703-9ced-64aa66735c76"
    },
    {
      "cell_type": "code",
      "execution_count": 44,
      "metadata": {
        "vscode": {
          "languageId": "python"
        }
      },
      "outputs": [],
      "source": [
        "a[-3:]"
      ],
      "id": "828f829f-d441-488a-bf1d-3b0c4224b0a2"
    },
    {
      "cell_type": "markdown",
      "metadata": {},
      "source": [
        "# Quiz\n",
        "\n",
        "`1`. 길이가 0인 리스트를 만들어라. (비어있는 리스트를 만들어라)\n",
        "\n",
        "(풀이1)"
      ],
      "id": "e5db6113-aeea-4aef-9629-9b3e82810087"
    },
    {
      "cell_type": "code",
      "execution_count": 25,
      "metadata": {},
      "outputs": [],
      "source": [
        "[]"
      ],
      "id": "a5f6290d-0518-4962-bf16-a25f46c8b3a2"
    },
    {
      "cell_type": "markdown",
      "metadata": {},
      "source": [
        "(풀이2)"
      ],
      "id": "4adc11bd-5394-4cb6-9264-daf75bbce31d"
    },
    {
      "cell_type": "code",
      "execution_count": 24,
      "metadata": {},
      "outputs": [],
      "source": [
        "list()"
      ],
      "id": "3f07fd4b-b91c-4a8c-8a1a-04fc3078a437"
    },
    {
      "cell_type": "markdown",
      "metadata": {},
      "source": [
        "`2`. 다음의 실행값 중 가장 큰 숫자가 나오는 보기를 골라라. (에러가 나는\n",
        "코드는 정답에서 제외함)\n",
        "\n",
        "``` python\n",
        "(a) len(3.14) \n",
        "(b) len([3.14]) \n",
        "(c) len('3.14') \n",
        "```\n",
        "\n",
        "(풀이)"
      ],
      "id": "16873e05-3639-4c4f-b56c-811bef3e53ac"
    },
    {
      "cell_type": "code",
      "execution_count": 32,
      "metadata": {},
      "outputs": [],
      "source": [
        "len(3.14)"
      ],
      "id": "3696582b-9d1a-40e5-aa81-02537dfb3b3e"
    },
    {
      "cell_type": "code",
      "execution_count": 33,
      "metadata": {},
      "outputs": [],
      "source": [
        "len([3.14])"
      ],
      "id": "068b1b87-130a-4948-8610-a3d3b2c5e54b"
    },
    {
      "cell_type": "code",
      "execution_count": 34,
      "metadata": {},
      "outputs": [],
      "source": [
        "len('3.14')"
      ],
      "id": "18cbea44-eb2b-4fbd-9553-4985acc2b929"
    },
    {
      "cell_type": "markdown",
      "metadata": {},
      "source": [
        "따라서 답은 (c)\n",
        "\n",
        "`3`. 아래의 예제를 관찰하라."
      ],
      "id": "ee250972-e42f-46b2-97e0-0af12d0de949"
    },
    {
      "cell_type": "code",
      "execution_count": 1,
      "metadata": {},
      "outputs": [],
      "source": [
        "'제 이름은 {}입니다'.format('최규빈')"
      ],
      "id": "bef95fd3-7ecb-4f94-9987-5ea79bb8ea2b"
    },
    {
      "cell_type": "code",
      "execution_count": 2,
      "metadata": {},
      "outputs": [],
      "source": [
        "'제 이름은 {}이고 사는곳은 {}입니다.'.format('최규빈','전주')"
      ],
      "id": "7ae49366-89f6-44f1-80ec-f395facdf474"
    },
    {
      "cell_type": "markdown",
      "metadata": {},
      "source": [
        "이 예제를 바탕으로 문자열에 포함된 `.format()`함수의 기능을 유추하라.\n",
        "그리고 아래의 결과를 확인하라.\n",
        "\n",
        "``` python\n",
        "string = '전북대학교 학생엠티가 {}월{}일-{}월{}일 완주 곶감펜션에서 있다고 합니다. 자세한 일정 등은 다시 공지하겠습니다.' \n",
        "string.format(3,24,3,25)\n",
        "```\n",
        "\n",
        "ChatGPT를 활용하여 `.format()`함수의 기능을 학습하라.\n",
        "\n",
        "(풀이)\n",
        "\n",
        "생략\n",
        "\n",
        "`4`. 아래의 예제를 관찰하라."
      ],
      "id": "3dc0cd36-51a6-4d2b-af6a-9a5a4b581934"
    },
    {
      "cell_type": "code",
      "execution_count": 16,
      "metadata": {},
      "outputs": [],
      "source": [
        "'abcdefg'.replace('g','u')"
      ],
      "id": "01f2b286-5556-42a0-b149-507560235d6a"
    },
    {
      "cell_type": "markdown",
      "metadata": {},
      "source": [
        "이 예제를 바탕으로 문자열의 `.replace()` 기능을 유추하라. 유추한 기능을\n",
        "chatGPT로 확인하라.\n",
        "\n",
        "(풀이)\n",
        "\n",
        "생략\n",
        "\n",
        "`5`. 리스트자료형의 `+`와 `*` 연산을 이용하여 아래와 같은 list를\n",
        "생성하라."
      ],
      "id": "dcc7f377-7733-45a0-8f87-b03886e90b01"
    },
    {
      "cell_type": "code",
      "execution_count": 30,
      "metadata": {},
      "outputs": [],
      "source": [
        "[1, 2, 2, 3, 3, 3, 4, 4, 4, 4, 5, 5, 5, 5, 5]"
      ],
      "id": "194688b5-bd81-493c-96ad-ef6c122f66fb"
    },
    {
      "cell_type": "markdown",
      "metadata": {},
      "source": [
        "**hint:** 아래의 코드를 관찰해보세요"
      ],
      "id": "cb82a46b-6737-4eda-abec-badbd5474244"
    },
    {
      "cell_type": "code",
      "execution_count": 10,
      "metadata": {},
      "outputs": [],
      "source": [
        "[1]*1+[2]*2 "
      ],
      "id": "ef211e3f-833f-42dd-a64d-5471fd08ab63"
    },
    {
      "cell_type": "markdown",
      "metadata": {},
      "source": [
        "(풀이)"
      ],
      "id": "1660be77-d252-4db3-bd45-53e240f69639"
    },
    {
      "cell_type": "code",
      "execution_count": 31,
      "metadata": {},
      "outputs": [],
      "source": [
        "[1]*1+[2]*2+[3]*3+[4]*4+[5]*5"
      ],
      "id": "c9f6eaba-3c98-4e67-9df2-74c8aca75937"
    }
  ],
  "nbformat": 4,
  "nbformat_minor": 5,
  "metadata": {
    "kernelspec": {
      "name": "python3",
      "display_name": "Python 3",
      "language": "python"
    },
    "language_info": {
      "name": "python",
      "codemirror_mode": {
        "name": "ipython",
        "version": "3"
      },
      "file_extension": ".py",
      "mimetype": "text/x-python",
      "nbconvert_exporter": "python",
      "pygments_lexer": "ipython3",
      "version": "3.8.16"
    }
  }
}