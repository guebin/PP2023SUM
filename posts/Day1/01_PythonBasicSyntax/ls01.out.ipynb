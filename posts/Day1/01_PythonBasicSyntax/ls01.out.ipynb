{
  "cells": [
    {
      "cell_type": "markdown",
      "metadata": {},
      "source": [
        "# Lesson 01: 파이썬의 자료형 I (int, float, bool, str)\n",
        "\n",
        "최규빈  \n",
        "2023-06-24\n",
        "\n",
        "<a href=\"https://colab.research.google.com/github/guebin/PP2023SUM/blob/main/posts/Day1/01_PythonBasicSyntax/ls01.ipynb\"><img src=\"https://colab.research.google.com/assets/colab-badge.svg\" style=\"text-align: left\"></a>\n",
        "\n",
        "# Intro\n",
        "\n",
        "`-` 파이썬의 기본자료형은 int, float, bool, str, list, tuple, dict, set\n",
        "등이 있다.\n",
        "\n",
        "-   0차원 자료형: int, float, bool\n",
        "-   1차원 자료형: str, list, tuple, dict, set\n",
        "\n",
        "# int, float, bool\n",
        "\n",
        "`-` int형"
      ],
      "id": "30b7ffee-0d2d-4436-82e3-792bc915c040"
    },
    {
      "cell_type": "code",
      "execution_count": 14,
      "metadata": {
        "vscode": {
          "languageId": "python"
        }
      },
      "outputs": [],
      "source": [
        "a=100"
      ],
      "id": "1b29ab3b-e2e5-4798-95ce-641e3770a020"
    },
    {
      "cell_type": "code",
      "execution_count": 15,
      "metadata": {
        "vscode": {
          "languageId": "python"
        }
      },
      "outputs": [],
      "source": [
        "type(a)"
      ],
      "id": "1e52610d-ea3a-4dab-8b69-d04705d759ba"
    },
    {
      "cell_type": "markdown",
      "metadata": {},
      "source": [
        "`-` float형"
      ],
      "id": "00d4cda0-4478-4b26-9d30-6a3111391c73"
    },
    {
      "cell_type": "code",
      "execution_count": 7,
      "metadata": {
        "vscode": {
          "languageId": "python"
        }
      },
      "outputs": [],
      "source": [
        "a=1.2*3\n",
        "a"
      ],
      "id": "bcfcd346-1943-4b3d-a5be-3e77657aa3f1"
    },
    {
      "cell_type": "code",
      "execution_count": 19,
      "metadata": {
        "vscode": {
          "languageId": "python"
        }
      },
      "outputs": [],
      "source": [
        "type(a)"
      ],
      "id": "6c60ce75-b0d1-490e-9c11-6fe2dae2d738"
    },
    {
      "cell_type": "code",
      "execution_count": 20,
      "metadata": {
        "vscode": {
          "languageId": "python"
        }
      },
      "outputs": [],
      "source": [
        "a?"
      ],
      "id": "6e44e4e8-9241-466d-90f5-ce0e648352b6"
    },
    {
      "cell_type": "markdown",
      "metadata": {},
      "source": [
        "`-` bool형"
      ],
      "id": "8281f477-96e5-4be1-99cd-e62f8fac416d"
    },
    {
      "cell_type": "code",
      "execution_count": 52,
      "metadata": {
        "vscode": {
          "languageId": "python"
        }
      },
      "outputs": [],
      "source": [
        "a=True ## 숫자1으로 생각할 수 있음 \n",
        "b=False ## 숫자0으로 생각할 수 있음"
      ],
      "id": "c4e1bd78-23d3-4404-8356-ec6c6bcc0c13"
    },
    {
      "cell_type": "code",
      "execution_count": 24,
      "metadata": {
        "vscode": {
          "languageId": "python"
        }
      },
      "outputs": [],
      "source": [
        "type(a)"
      ],
      "id": "1ad75565-03c3-4ac4-844f-6a312de68f66"
    },
    {
      "cell_type": "code",
      "execution_count": 25,
      "metadata": {
        "vscode": {
          "languageId": "python"
        }
      },
      "outputs": [],
      "source": [
        "type(b)"
      ],
      "id": "0f530cc8-0d85-4d56-8902-8dadc37bed9d"
    },
    {
      "cell_type": "code",
      "execution_count": 27,
      "metadata": {
        "vscode": {
          "languageId": "python"
        }
      },
      "outputs": [],
      "source": [
        "a?"
      ],
      "id": "aa5e54d7-7c8c-4398-9efb-260adc33af46"
    },
    {
      "cell_type": "code",
      "execution_count": 28,
      "metadata": {
        "vscode": {
          "languageId": "python"
        }
      },
      "outputs": [],
      "source": [
        "b?"
      ],
      "id": "80f65837-5acb-46f2-acaf-3f46e2fcda73"
    },
    {
      "cell_type": "markdown",
      "metadata": {},
      "source": [
        "`-` bool형의 연산"
      ],
      "id": "9022e8a4-96c6-4565-b1ad-2761cdcf1947"
    },
    {
      "cell_type": "code",
      "execution_count": 15,
      "metadata": {
        "vscode": {
          "languageId": "python"
        }
      },
      "outputs": [],
      "source": [
        "a=True ## 1\n",
        "b=False ## 0 "
      ],
      "id": "09d23a5e-0ae5-46fe-b9e3-35ca4d2921eb"
    },
    {
      "cell_type": "code",
      "execution_count": 66,
      "metadata": {
        "vscode": {
          "languageId": "python"
        }
      },
      "outputs": [],
      "source": [
        "a+b"
      ],
      "id": "003980a9-ba53-48cd-a85f-759b7e5797d4"
    },
    {
      "cell_type": "code",
      "execution_count": 67,
      "metadata": {
        "vscode": {
          "languageId": "python"
        }
      },
      "outputs": [],
      "source": [
        "a*b "
      ],
      "id": "60c4bb4e-45b8-4b98-8de2-c2e3883741e7"
    },
    {
      "cell_type": "markdown",
      "metadata": {},
      "source": [
        "`-` complex형"
      ],
      "id": "2eb39ac4-add5-4c71-8c90-282c4bc2eb79"
    },
    {
      "cell_type": "code",
      "execution_count": 20,
      "metadata": {
        "vscode": {
          "languageId": "python"
        }
      },
      "outputs": [],
      "source": [
        "a=1+2j\n",
        "b=2-2j"
      ],
      "id": "4b351f96-81a0-4b8e-a7cf-5fc09c2d6f09"
    },
    {
      "cell_type": "code",
      "execution_count": 21,
      "metadata": {
        "vscode": {
          "languageId": "python"
        }
      },
      "outputs": [],
      "source": [
        "type(a)"
      ],
      "id": "4fc2d9d3-8f71-469e-bf1e-d95c9398d41a"
    },
    {
      "cell_type": "code",
      "execution_count": 22,
      "metadata": {
        "vscode": {
          "languageId": "python"
        }
      },
      "outputs": [],
      "source": [
        "type(b)"
      ],
      "id": "82c43ae8-8f36-487c-aaa5-84fe071781e1"
    },
    {
      "cell_type": "code",
      "execution_count": 23,
      "metadata": {
        "vscode": {
          "languageId": "python"
        }
      },
      "outputs": [],
      "source": [
        "a?"
      ],
      "id": "fc19f936-bb90-4f7e-ad02-287f60ef4c44"
    },
    {
      "cell_type": "code",
      "execution_count": 24,
      "metadata": {
        "vscode": {
          "languageId": "python"
        }
      },
      "outputs": [],
      "source": [
        "b?"
      ],
      "id": "0da15cd7-3cb3-49cb-b849-691ef89c9cec"
    },
    {
      "cell_type": "code",
      "execution_count": 25,
      "metadata": {
        "vscode": {
          "languageId": "python"
        }
      },
      "outputs": [],
      "source": [
        "c=a+b"
      ],
      "id": "2728c8cb-29ef-4f1c-b86b-b659513ea72b"
    },
    {
      "cell_type": "code",
      "execution_count": 26,
      "metadata": {
        "vscode": {
          "languageId": "python"
        }
      },
      "outputs": [],
      "source": [
        "c"
      ],
      "id": "9260fbea-0887-4141-b7a0-9424648ccd7e"
    },
    {
      "cell_type": "markdown",
      "metadata": {},
      "source": [
        "`-` 형태변환: float $\\to$ int\n",
        "\n",
        "(예시1)"
      ],
      "id": "119d7561-3a80-4c03-9b22-6286c14f2fc5"
    },
    {
      "cell_type": "code",
      "execution_count": 27,
      "metadata": {
        "vscode": {
          "languageId": "python"
        }
      },
      "outputs": [],
      "source": [
        "a=3.0\n",
        "type(a)"
      ],
      "id": "8751c225-3b8d-44e2-bfcf-daf58499fba1"
    },
    {
      "cell_type": "code",
      "execution_count": 28,
      "metadata": {
        "vscode": {
          "languageId": "python"
        }
      },
      "outputs": [],
      "source": [
        "a=int(a)"
      ],
      "id": "d1d6a707-a6d1-474b-b211-700f22e2279d"
    },
    {
      "cell_type": "code",
      "execution_count": 29,
      "metadata": {
        "vscode": {
          "languageId": "python"
        }
      },
      "outputs": [],
      "source": [
        "type(a)"
      ],
      "id": "7269c089-b331-46f7-9670-7ba20e0271b6"
    },
    {
      "cell_type": "markdown",
      "metadata": {},
      "source": [
        "(예시2) 이경우는 정보의 손실이 발생"
      ],
      "id": "ae7143fc-8e6e-4a2d-a9d4-d7b9462cb687"
    },
    {
      "cell_type": "code",
      "execution_count": 30,
      "metadata": {
        "vscode": {
          "languageId": "python"
        }
      },
      "outputs": [],
      "source": [
        "a=3.14 \n",
        "int(a)"
      ],
      "id": "4ad501ec-a3f0-4514-a79e-dbb6ee1d1a8f"
    },
    {
      "cell_type": "markdown",
      "metadata": {},
      "source": [
        "`-` 형태변환: int $\\to$ float"
      ],
      "id": "eb82264b-8727-46e2-9f59-11af84b7591e"
    },
    {
      "cell_type": "code",
      "execution_count": 39,
      "metadata": {
        "vscode": {
          "languageId": "python"
        }
      },
      "outputs": [],
      "source": [
        "a=3\n",
        "type(a)"
      ],
      "id": "addde2a1-d032-4db9-9e43-2608d530886f"
    },
    {
      "cell_type": "code",
      "execution_count": 40,
      "metadata": {
        "vscode": {
          "languageId": "python"
        }
      },
      "outputs": [],
      "source": [
        "a=float(a)\n",
        "type(a)"
      ],
      "id": "09cf6cef-19a2-4573-a8f1-aa59dda5c0c6"
    },
    {
      "cell_type": "markdown",
      "metadata": {},
      "source": [
        "`-` 형태변환: bool $\\to$ int/float, int/float $\\to$ bool\n",
        "\n",
        "(예시1)"
      ],
      "id": "9665702e-48c4-4879-8ece-9595aa30b1fa"
    },
    {
      "cell_type": "code",
      "execution_count": 41,
      "metadata": {
        "vscode": {
          "languageId": "python"
        }
      },
      "outputs": [],
      "source": [
        "a=True\n",
        "type(a)"
      ],
      "id": "d794074c-780e-4859-9fc9-488e74565c34"
    },
    {
      "cell_type": "code",
      "execution_count": 42,
      "metadata": {
        "vscode": {
          "languageId": "python"
        }
      },
      "outputs": [],
      "source": [
        "int(a)"
      ],
      "id": "611c4f59-2c10-42e9-b6f0-70009a2c02d9"
    },
    {
      "cell_type": "code",
      "execution_count": 43,
      "metadata": {
        "vscode": {
          "languageId": "python"
        }
      },
      "outputs": [],
      "source": [
        "float(a)"
      ],
      "id": "d4405022-cf13-4882-a330-b8cc5634c94e"
    },
    {
      "cell_type": "markdown",
      "metadata": {},
      "source": [
        "(예시2)"
      ],
      "id": "a0b7d345-3aaa-453e-bb49-c376da910c01"
    },
    {
      "cell_type": "code",
      "execution_count": 59,
      "metadata": {
        "vscode": {
          "languageId": "python"
        }
      },
      "outputs": [],
      "source": [
        "a=1 \n",
        "bool(a)"
      ],
      "id": "9eb7accd-ccb8-4cfe-9cc1-ef51520ae0b7"
    },
    {
      "cell_type": "code",
      "execution_count": 60,
      "metadata": {
        "vscode": {
          "languageId": "python"
        }
      },
      "outputs": [],
      "source": [
        "a=0\n",
        "bool(a)"
      ],
      "id": "244da79f-8c49-4d3d-b5a1-de87c6372a00"
    },
    {
      "cell_type": "markdown",
      "metadata": {},
      "source": [
        "(예시3)"
      ],
      "id": "63307623-a97c-4101-8cb4-70e2ef7ab1ff"
    },
    {
      "cell_type": "code",
      "execution_count": 61,
      "metadata": {
        "vscode": {
          "languageId": "python"
        }
      },
      "outputs": [],
      "source": [
        "a=1.0\n",
        "bool(a)"
      ],
      "id": "dcde50c5-33fc-49c7-b416-af42b06607a3"
    },
    {
      "cell_type": "code",
      "execution_count": 62,
      "metadata": {
        "vscode": {
          "languageId": "python"
        }
      },
      "outputs": [],
      "source": [
        "a=0.0\n",
        "bool(a)"
      ],
      "id": "41a9a3ab-6f02-466d-acbe-65687bbb5cad"
    },
    {
      "cell_type": "markdown",
      "metadata": {},
      "source": [
        "`-` 이상한 형태변환도 가능하다. (이런것도 바꿔주나 싶은것도 바꿔줌)"
      ],
      "id": "731587a0-c1d6-4a38-9eb7-5fced82571b9"
    },
    {
      "cell_type": "code",
      "execution_count": 75,
      "metadata": {
        "vscode": {
          "languageId": "python"
        }
      },
      "outputs": [],
      "source": [
        "bool(-3.14)"
      ],
      "id": "93a47581-0871-429a-857f-b6826525e196"
    },
    {
      "cell_type": "markdown",
      "metadata": {},
      "source": [
        "-   저는 이런 코드를 의도적으로 사용하지 않아요.."
      ],
      "id": "1d992198-c00f-4572-8014-6a028109058b"
    },
    {
      "cell_type": "code",
      "execution_count": 74,
      "metadata": {
        "vscode": {
          "languageId": "python"
        }
      },
      "outputs": [],
      "source": [
        "int(3.14)"
      ],
      "id": "ce3d8847-d9d7-4e02-95ea-e1e9861156c1"
    },
    {
      "cell_type": "markdown",
      "metadata": {},
      "source": [
        "`-` 형태변환이 항상가능한것도 아님"
      ],
      "id": "e7bc6aac-7d4c-49b1-ac72-6e3404299fa8"
    },
    {
      "cell_type": "code",
      "execution_count": 78,
      "metadata": {
        "vscode": {
          "languageId": "python"
        }
      },
      "outputs": [],
      "source": [
        "float(3+0j) # 사실상 3+0j=3 이므로 float으로 형변환하면 3.0이 되어야 할 것 같은데 변환불가능하다. "
      ],
      "id": "828f77b2-b409-4bb7-b3c9-b1df1611fa0f"
    },
    {
      "cell_type": "markdown",
      "metadata": {},
      "source": [
        "`-` 암묵적형변환 (implicit)\n",
        "\n",
        "(예비학습) implicit의 의미\n",
        "\n",
        "-   추운날씨 -\\> 보일러좀 틀자! (explicit) / 오늘 날씨 좀 추운 것 같지\n",
        "    않아? (implicit)\n",
        "-   짜장면 먹을래? -\\> 싫어! (explicit) / 난 어제 짜장면 먹었는데..\n",
        "    (implicit)\n",
        "\n",
        "(예제)"
      ],
      "id": "5b23b8b3-60b0-47eb-b019-2c9e6ec14679"
    },
    {
      "cell_type": "code",
      "execution_count": 50,
      "metadata": {
        "vscode": {
          "languageId": "python"
        }
      },
      "outputs": [],
      "source": [
        "True * 1 # 1을 곱할건데 너 계속 True로 있을꺼야? "
      ],
      "id": "fe791eb2-d4dc-47c5-aafe-b4b28835313c"
    },
    {
      "cell_type": "code",
      "execution_count": 82,
      "metadata": {
        "vscode": {
          "languageId": "python"
        }
      },
      "outputs": [],
      "source": [
        "1 * 1.0 # 1.0을 곱할건데 너 계속 int로 있을꺼야? "
      ],
      "id": "8e2b60c4-2861-4023-89f7-543953d0e148"
    },
    {
      "cell_type": "code",
      "execution_count": 84,
      "metadata": {
        "vscode": {
          "languageId": "python"
        }
      },
      "outputs": [],
      "source": [
        "True+True # +연산을 할건데 계속 True로 있을꺼야? "
      ],
      "id": "5ff47f52-9289-420f-929c-690ddcb7fcc3"
    },
    {
      "cell_type": "markdown",
      "metadata": {},
      "source": [
        "# str\n",
        "\n",
        "## 선언"
      ],
      "id": "002a71c4-06d6-4871-91ed-810a0f7efc66"
    },
    {
      "cell_type": "code",
      "execution_count": 51,
      "metadata": {
        "vscode": {
          "languageId": "python"
        }
      },
      "outputs": [],
      "source": [
        "a='guebin'"
      ],
      "id": "48034256-e511-487e-b301-82b00e2deb6c"
    },
    {
      "cell_type": "code",
      "execution_count": 86,
      "metadata": {
        "vscode": {
          "languageId": "python"
        }
      },
      "outputs": [],
      "source": [
        "a"
      ],
      "id": "136865a3-5158-4793-9fe6-a567be935611"
    },
    {
      "cell_type": "markdown",
      "metadata": {},
      "source": [
        "## 연산\n",
        "\n",
        "`-` 더하기(+)연산"
      ],
      "id": "4ed34d9d-5556-404c-b104-c23df334ea1a"
    },
    {
      "cell_type": "code",
      "execution_count": 53,
      "metadata": {
        "vscode": {
          "languageId": "python"
        }
      },
      "outputs": [],
      "source": [
        "a='X'\n",
        "b='2'"
      ],
      "id": "be9a5df0-ab45-4125-9e40-0f4aaa3f84c7"
    },
    {
      "cell_type": "code",
      "execution_count": 91,
      "metadata": {
        "vscode": {
          "languageId": "python"
        }
      },
      "outputs": [],
      "source": [
        "c=a+b\n",
        "c"
      ],
      "id": "7e17e8a8-336e-42fc-a73f-6b2efc4179b5"
    },
    {
      "cell_type": "markdown",
      "metadata": {},
      "source": [
        "`-` 빼기(-)연산"
      ],
      "id": "36292629-1515-43b6-b3e1-aaef0258f197"
    },
    {
      "cell_type": "code",
      "execution_count": 92,
      "metadata": {
        "vscode": {
          "languageId": "python"
        }
      },
      "outputs": [],
      "source": [
        "a='X2'\n",
        "b='2'\n",
        "a-b"
      ],
      "id": "2e86c8f4-39b9-4667-82be-eff70f28ef63"
    },
    {
      "cell_type": "markdown",
      "metadata": {},
      "source": [
        "-   이런건 없다.\n",
        "\n",
        "`-` 곱하기(\\*)연산"
      ],
      "id": "fd34853d-8da2-4b0f-ab38-dd47d24517a9"
    },
    {
      "cell_type": "code",
      "execution_count": 63,
      "metadata": {
        "vscode": {
          "languageId": "python"
        }
      },
      "outputs": [],
      "source": [
        "a='X'"
      ],
      "id": "1f6b4c56-8344-498c-bebc-45b3d142e5f6"
    },
    {
      "cell_type": "code",
      "execution_count": 64,
      "metadata": {
        "vscode": {
          "languageId": "python"
        }
      },
      "outputs": [],
      "source": [
        "a+a+a"
      ],
      "id": "a0e2a84e-6e48-4147-9c24-8aa5dc341485"
    },
    {
      "cell_type": "code",
      "execution_count": 65,
      "metadata": {
        "vscode": {
          "languageId": "python"
        }
      },
      "outputs": [],
      "source": [
        "a*3 # a*3 = a+a+a = 'X'+'X+'X'"
      ],
      "id": "fce0fddd-d867-4710-9fc7-c583dc984a0a"
    },
    {
      "cell_type": "markdown",
      "metadata": {},
      "source": [
        "아래도 가능하다."
      ],
      "id": "144e15f4-9ab8-44dd-bdef-eca3370e54bc"
    },
    {
      "cell_type": "code",
      "execution_count": 66,
      "metadata": {
        "vscode": {
          "languageId": "python"
        }
      },
      "outputs": [],
      "source": [
        "3*a"
      ],
      "id": "1049f471-c679-4adc-9684-30a72552fea7"
    },
    {
      "cell_type": "markdown",
      "metadata": {},
      "source": [
        "그리고 아래도 가능하다."
      ],
      "id": "05d5358e-ba52-4357-b622-5f16c5da1eed"
    },
    {
      "cell_type": "code",
      "execution_count": 67,
      "metadata": {
        "vscode": {
          "languageId": "python"
        }
      },
      "outputs": [],
      "source": [
        "a='X'\n",
        "b=3 \n",
        "a*b"
      ],
      "id": "e1e0e9cc-6710-4fd3-98de-bf52fcf95e58"
    },
    {
      "cell_type": "markdown",
      "metadata": {},
      "source": [
        "대신에 의미상 맞지 않는 것은 수행되지 않고 에러가 난다."
      ],
      "id": "7788606c-dd17-47d3-85b5-ae14795fe1e6"
    },
    {
      "cell_type": "code",
      "execution_count": 98,
      "metadata": {
        "vscode": {
          "languageId": "python"
        }
      },
      "outputs": [],
      "source": [
        "a='X'\n",
        "b='Y'\n",
        "a+b"
      ],
      "id": "ab94b52a-fb8c-487b-8d11-06cabbf165f9"
    },
    {
      "cell_type": "code",
      "execution_count": 99,
      "metadata": {
        "vscode": {
          "languageId": "python"
        }
      },
      "outputs": [],
      "source": [
        "a*b"
      ],
      "id": "603e1424-95d8-44c9-89ba-32e1169496d1"
    },
    {
      "cell_type": "markdown",
      "metadata": {},
      "source": [
        "`-` 나눗셈(/)연산"
      ],
      "id": "ae51dc84-bcca-4865-8dd6-270011044769"
    },
    {
      "cell_type": "code",
      "execution_count": 100,
      "metadata": {
        "vscode": {
          "languageId": "python"
        }
      },
      "outputs": [],
      "source": [
        "a='XX'"
      ],
      "id": "327ed7c6-87c0-4568-9490-9ab99e3469f0"
    },
    {
      "cell_type": "code",
      "execution_count": 101,
      "metadata": {
        "vscode": {
          "languageId": "python"
        }
      },
      "outputs": [],
      "source": [
        "a/2"
      ],
      "id": "90f7a615-29e3-4bc1-92e0-450b6a09f0c7"
    },
    {
      "cell_type": "markdown",
      "metadata": {},
      "source": [
        "-   이런건 없다..\n",
        "\n",
        "## 인덱싱\n",
        "\n",
        "`-` str은 하나의 벡터 문자가 여러개 있는 형태라고 생각하면 된다."
      ],
      "id": "f0a85a40-f701-4114-ad2b-06bbbf021511"
    },
    {
      "cell_type": "code",
      "execution_count": 68,
      "metadata": {
        "vscode": {
          "languageId": "python"
        }
      },
      "outputs": [],
      "source": [
        "a='guebin'"
      ],
      "id": "54ea14a2-efb9-4b5a-9b9b-4b67d2c6253e"
    },
    {
      "cell_type": "code",
      "execution_count": 69,
      "metadata": {
        "vscode": {
          "languageId": "python"
        }
      },
      "outputs": [],
      "source": [
        "a"
      ],
      "id": "9eeee1f5-3966-4e77-834e-301e7d6dd082"
    },
    {
      "cell_type": "markdown",
      "metadata": {},
      "source": [
        "-   6개의 칸에 글씨가 하나씩 들어가 있음.\n",
        "\n",
        "`-` 대괄호 `[]`안에 숫자를 넣는 방식으로 벡터의 원소를 호출할 수 있다.\n",
        "(주의: 인덱스가 0부터 시작함)"
      ],
      "id": "f7358965-75fb-4ee7-9984-f054bb36487e"
    },
    {
      "cell_type": "code",
      "execution_count": 72,
      "metadata": {
        "vscode": {
          "languageId": "python"
        }
      },
      "outputs": [],
      "source": [
        "a[0] #첫번째원소"
      ],
      "id": "06e592a1-43e4-4382-b539-6f52fa922ffa"
    },
    {
      "cell_type": "code",
      "execution_count": 73,
      "metadata": {
        "vscode": {
          "languageId": "python"
        }
      },
      "outputs": [],
      "source": [
        "a[1] #두번째원소 "
      ],
      "id": "81aae692-d8c5-4c05-9f63-2810b24b9014"
    },
    {
      "cell_type": "markdown",
      "metadata": {},
      "source": [
        "마지막원소는 -1로 호출할 수도 있다."
      ],
      "id": "c5db0f39-7435-424a-86ba-bc696e163bd1"
    },
    {
      "cell_type": "code",
      "execution_count": 114,
      "metadata": {
        "vscode": {
          "languageId": "python"
        }
      },
      "outputs": [],
      "source": [
        "a[-1]"
      ],
      "id": "823a0cdd-7737-4c8b-96fe-ef2fa3ebfe5c"
    },
    {
      "cell_type": "markdown",
      "metadata": {},
      "source": [
        "마지막에서 2번째 원소는 -2로 호출가능하다."
      ],
      "id": "80d09ba0-7205-4b6c-b374-bdeb14e73063"
    },
    {
      "cell_type": "code",
      "execution_count": 115,
      "metadata": {
        "vscode": {
          "languageId": "python"
        }
      },
      "outputs": [],
      "source": [
        "a[-2]"
      ],
      "id": "1f32fdf1-70b4-4d83-b843-e6833f900dfb"
    },
    {
      "cell_type": "markdown",
      "metadata": {},
      "source": [
        "`-` 요약하면 아래와 같은 방식으로 호출가능함.\n",
        "\n",
        "|  g  |  u  |  e  |  b  |  i  |  n  |\n",
        "|:---:|:---:|:---:|:---:|:---:|:---:|\n",
        "|  0  |  1  |  2  |  3  |  4  |  5  |\n",
        "|  0  | -5  | -4  | -3  | -2  | -1  |"
      ],
      "id": "59c3e9e2-42c1-4b13-b5a1-c8ec54ce5f8c"
    },
    {
      "cell_type": "code",
      "execution_count": 120,
      "metadata": {
        "vscode": {
          "languageId": "python"
        }
      },
      "outputs": [],
      "source": [
        "a[4]"
      ],
      "id": "e34a5b25-32d3-4438-8112-c77198c1233b"
    },
    {
      "cell_type": "code",
      "execution_count": 121,
      "metadata": {
        "vscode": {
          "languageId": "python"
        }
      },
      "outputs": [],
      "source": [
        "a[-2]"
      ],
      "id": "675bb8ca-21bc-48d3-97c3-4e22ba3732c7"
    },
    {
      "cell_type": "code",
      "execution_count": 123,
      "metadata": {
        "vscode": {
          "languageId": "python"
        }
      },
      "outputs": [],
      "source": [
        "a[-4]"
      ],
      "id": "464059b3-9346-40a7-abd8-305d6a594d9c"
    },
    {
      "cell_type": "markdown",
      "metadata": {},
      "source": [
        "`-` `:`을 이용하여 여러개의 원소를 호출할 수 있음."
      ],
      "id": "e24c6cc6-303f-42e2-9def-343416f76d89"
    },
    {
      "cell_type": "code",
      "execution_count": 78,
      "metadata": {
        "vscode": {
          "languageId": "python"
        }
      },
      "outputs": [],
      "source": [
        "a='guebin'"
      ],
      "id": "5bf9e767-614b-4769-a4a0-76fe35ed38d8"
    },
    {
      "cell_type": "code",
      "execution_count": 85,
      "metadata": {
        "vscode": {
          "languageId": "python"
        }
      },
      "outputs": [],
      "source": [
        "a[0:3] # a[0],a[1],a[2],a[3]이 아니라 a[0],a[1],a[2]까지만 뽑힌다. 즉 마지막의 3은 호출되지 않는다. "
      ],
      "id": "a00da720-b05a-4d1e-a3ba-d8a634ba4d44"
    },
    {
      "cell_type": "code",
      "execution_count": 86,
      "metadata": {
        "vscode": {
          "languageId": "python"
        }
      },
      "outputs": [],
      "source": [
        "a[1:3] # a[1], a[2] 만 호출 // start=1,  stop=3 "
      ],
      "id": "6cc77d63-ecc8-4ff9-8a8a-14e6134c29bc"
    },
    {
      "cell_type": "markdown",
      "metadata": {},
      "source": [
        "index=1부터 시작해서 마지막원소까지 호출하려면?"
      ],
      "id": "10436245-3f0d-49f2-adce-75499964024a"
    },
    {
      "cell_type": "code",
      "execution_count": 130,
      "metadata": {
        "vscode": {
          "languageId": "python"
        }
      },
      "outputs": [],
      "source": [
        "a[5] # guebin의 마지막원소 'n'이 출려 "
      ],
      "id": "61ffedc7-e9f4-4a51-b24e-47f555d1b7e3"
    },
    {
      "cell_type": "code",
      "execution_count": 135,
      "metadata": {
        "vscode": {
          "languageId": "python"
        }
      },
      "outputs": [],
      "source": [
        "a[1:5] # 5는 포함되지 않으므로 틀림"
      ],
      "id": "56e8fcae-996f-467a-95d0-30d6f7753f57"
    },
    {
      "cell_type": "code",
      "execution_count": 136,
      "metadata": {
        "vscode": {
          "languageId": "python"
        }
      },
      "outputs": [],
      "source": [
        "a[1:6] # 정답"
      ],
      "id": "23bb2f68-e8c6-4807-9163-7234ec2dc2ed"
    },
    {
      "cell_type": "markdown",
      "metadata": {},
      "source": [
        "안 헷갈리는 방법은 없을까?"
      ],
      "id": "839cd69c-bd46-465f-8c75-31b954be6c70"
    },
    {
      "cell_type": "code",
      "execution_count": 137,
      "metadata": {
        "vscode": {
          "languageId": "python"
        }
      },
      "outputs": [],
      "source": [
        "a[-1]"
      ],
      "id": "0e92cbca-e12e-43da-b4a4-d34e03f5123b"
    },
    {
      "cell_type": "code",
      "execution_count": 139,
      "metadata": {
        "vscode": {
          "languageId": "python"
        }
      },
      "outputs": [],
      "source": [
        "a[1:-1] # 이것은 결국 (a[1:5]와 같은 것임) "
      ],
      "id": "0a22edc4-2ae3-4524-a635-7d98d9dbc527"
    },
    {
      "cell_type": "markdown",
      "metadata": {},
      "source": [
        "해결책? 생략한다!!"
      ],
      "id": "a4609602-c3ee-446c-9077-bad0cfc02968"
    },
    {
      "cell_type": "code",
      "execution_count": 140,
      "metadata": {
        "vscode": {
          "languageId": "python"
        }
      },
      "outputs": [],
      "source": [
        "a[1:]"
      ],
      "id": "d6729ef4-143d-4c5d-b273-96275ee11850"
    },
    {
      "cell_type": "markdown",
      "metadata": {},
      "source": [
        "`-` 생략의 응용1"
      ],
      "id": "e64f5e4c-6a5e-4fc2-9e70-22887436b823"
    },
    {
      "cell_type": "code",
      "execution_count": 158,
      "metadata": {
        "vscode": {
          "languageId": "python"
        }
      },
      "outputs": [],
      "source": [
        "a='k-pop' \n",
        "a"
      ],
      "id": "95bb3db2-e27c-46d2-8fd0-987adec865c3"
    },
    {
      "cell_type": "code",
      "execution_count": 159,
      "metadata": {
        "vscode": {
          "languageId": "python"
        }
      },
      "outputs": [],
      "source": [
        "a[2:5]"
      ],
      "id": "5b30a784-c812-4dea-9b54-12ace60ea1ae"
    },
    {
      "cell_type": "code",
      "execution_count": 160,
      "metadata": {
        "vscode": {
          "languageId": "python"
        }
      },
      "outputs": [],
      "source": [
        "a[2:]"
      ],
      "id": "6bd10531-d147-418b-92f1-2ee8fb9df290"
    },
    {
      "cell_type": "markdown",
      "metadata": {},
      "source": [
        "`-` 생략의 응용2"
      ],
      "id": "25dd08eb-72f6-47e1-8ef0-14dbadfc503c"
    },
    {
      "cell_type": "code",
      "execution_count": 161,
      "metadata": {
        "vscode": {
          "languageId": "python"
        }
      },
      "outputs": [],
      "source": [
        "a='k-pop'\n",
        "a"
      ],
      "id": "394c5222-d819-46bc-a6c4-9884cee0a1a5"
    },
    {
      "cell_type": "code",
      "execution_count": 163,
      "metadata": {
        "vscode": {
          "languageId": "python"
        }
      },
      "outputs": [],
      "source": [
        "a[0:2] # a[0],a[1]"
      ],
      "id": "62c9e60f-567c-4a01-89c4-7b0cae5992fe"
    },
    {
      "cell_type": "code",
      "execution_count": 165,
      "metadata": {
        "vscode": {
          "languageId": "python"
        }
      },
      "outputs": [],
      "source": [
        "a[:2] # a[0],a[1] "
      ],
      "id": "5e9ddc5f-71b4-467a-b089-8744fd7fde1c"
    },
    {
      "cell_type": "markdown",
      "metadata": {},
      "source": [
        "`-` 생략의 응용3"
      ],
      "id": "85d4125f-07de-430e-b4e8-98c68eefd67f"
    },
    {
      "cell_type": "code",
      "execution_count": 166,
      "metadata": {
        "vscode": {
          "languageId": "python"
        }
      },
      "outputs": [],
      "source": [
        "a='k-pop'\n",
        "a"
      ],
      "id": "e7cd56bd-8244-423e-af0c-7c5e06a9344f"
    },
    {
      "cell_type": "code",
      "execution_count": 170,
      "metadata": {
        "vscode": {
          "languageId": "python"
        }
      },
      "outputs": [],
      "source": [
        "a[0:5] # a[0],...,a[4]"
      ],
      "id": "76900c79-a5ea-4cc2-a611-fb2340f9ceed"
    },
    {
      "cell_type": "code",
      "execution_count": 169,
      "metadata": {
        "vscode": {
          "languageId": "python"
        }
      },
      "outputs": [],
      "source": [
        "a[:]"
      ],
      "id": "21699b82-47c0-4e43-9f59-5b3aa6307830"
    },
    {
      "cell_type": "markdown",
      "metadata": {},
      "source": [
        "## str 특수기능\n",
        "\n",
        "`-` 파이썬의 변수는 단순히 정보를 담는 그릇이 아니다. 유용한 기능을\n",
        "제공하는 경우가 있다."
      ],
      "id": "db68aeef-ef6a-415f-abb7-b69e9ebf882a"
    },
    {
      "cell_type": "code",
      "execution_count": 100,
      "metadata": {
        "vscode": {
          "languageId": "python"
        }
      },
      "outputs": [],
      "source": [
        "a='ABCD' # a라는 변수는 'ABCD'라는 정보를 담는 그릇의 역할만 하지 않고, 특화된 어떠한 기능도 제공한다. \n",
        "a"
      ],
      "id": "c2df0d4c-59e8-4e00-86d8-3e00b8c2ce1d"
    },
    {
      "cell_type": "code",
      "execution_count": 101,
      "metadata": {
        "vscode": {
          "languageId": "python"
        }
      },
      "outputs": [],
      "source": [
        "a.lower() # a.lower()를 쓰면 a의 모든 문자를 소문자로 바꾸는 기능을 제공, lower(a)라고 읽자!"
      ],
      "id": "7de6c11c-bdc4-4059-bd8a-e26e04985db5"
    },
    {
      "cell_type": "markdown",
      "metadata": {},
      "source": [
        "여기에서 lower()는 문자열에 특화된 기능임. 따라서 당연히 아래는 불가능"
      ],
      "id": "bd54da32-b076-4396-af09-945f02dbd625"
    },
    {
      "cell_type": "code",
      "execution_count": 194,
      "metadata": {
        "vscode": {
          "languageId": "python"
        }
      },
      "outputs": [],
      "source": [
        "a=3.14\n",
        "a.lower() # lower(a)"
      ],
      "id": "3e87c453-9d96-4fb4-a9ed-72983744368c"
    },
    {
      "cell_type": "markdown",
      "metadata": {},
      "source": [
        "`-` 자료형에 특화된 기능(=함수)을 확인하는 방법? `a.`+ `tab` 으로 목록\n",
        "확인 가능"
      ],
      "id": "3480d677-b3f3-4d84-aeb4-c8e4ea3da63a"
    },
    {
      "cell_type": "code",
      "execution_count": 195,
      "metadata": {
        "vscode": {
          "languageId": "python"
        }
      },
      "outputs": [],
      "source": [
        "a='guebin'"
      ],
      "id": "053be390-5dac-472c-89d2-257cedb332cb"
    },
    {
      "cell_type": "code",
      "execution_count": 191,
      "metadata": {
        "vscode": {
          "languageId": "python"
        }
      },
      "outputs": [],
      "source": [
        "a.upper?"
      ],
      "id": "f60791d5-52d5-4e6b-abe4-a646cec23d11"
    },
    {
      "cell_type": "code",
      "execution_count": 192,
      "metadata": {
        "vscode": {
          "languageId": "python"
        }
      },
      "outputs": [],
      "source": [
        "a.upper() # upper(a) "
      ],
      "id": "978d7e30-641f-4553-8b53-e4fa17a8ab54"
    },
    {
      "cell_type": "code",
      "execution_count": 193,
      "metadata": {
        "vscode": {
          "languageId": "python"
        }
      },
      "outputs": [],
      "source": [
        "a.capitalize() # capitalize(a) "
      ],
      "id": "1c4b5782-f7db-47e1-8270-038eb2e9c302"
    },
    {
      "cell_type": "markdown",
      "metadata": {},
      "source": [
        "`-` 문자열에 대한 다른 내용들은 추후에 다루겠음.\n",
        "\n",
        "`-` 마음의눈: `a.f()` 형태를 읽는 팁\n",
        "\n",
        "-   `a.f()`는 `f(a)`로 생각하면 편리함.\n",
        "-   `a.f(2)`는 `f(a,2)`로 생각하면 편리함.\n",
        "-   이런점에서 R `%>%` 연산자와 비슷하다고 생각할 수 있다. (약간\n",
        "    다르긴함)\n",
        "\n",
        "`-` 사실 `.`은 좀 더 다양한 상황에서 쓰일 수 있다. `변수이름.함수이름()`\n",
        "의 형태가 아니라\n",
        "\n",
        "-   `모듈이름.함수이름()`\n",
        "-   `모듈이름.변수이름`\n",
        "-   `모듈이름.모듈이름.함수이름()`\n",
        "-   …\n",
        "\n",
        "와 같이 다양한 형태가 가능하다. 근본적인 공통점은 `.`을 기준으로\n",
        "`상위개념.하위개념` 으로 이해하는 것이 좋다.\n",
        "\n",
        "***0차원 vs 1차원***\n",
        "\n",
        "`-` `len`함수 소개: 원소의 갯수를 알려주는 함수.\n",
        "\n",
        "(0차원) `len` 함수가 동작하지 않음."
      ],
      "id": "6176dbed-c500-49e3-bf4b-0dd868ffbfa8"
    },
    {
      "cell_type": "code",
      "execution_count": 196,
      "metadata": {
        "vscode": {
          "languageId": "python"
        }
      },
      "outputs": [],
      "source": [
        "a=3.14"
      ],
      "id": "207d5921-34aa-4a65-8884-92dacf58ea09"
    },
    {
      "cell_type": "code",
      "execution_count": 197,
      "metadata": {
        "vscode": {
          "languageId": "python"
        }
      },
      "outputs": [],
      "source": [
        "len(a)"
      ],
      "id": "7fad7d27-b9d5-42f5-8f2a-e40cebcc4995"
    },
    {
      "cell_type": "code",
      "execution_count": 200,
      "metadata": {
        "vscode": {
          "languageId": "python"
        }
      },
      "outputs": [],
      "source": [
        "b=True"
      ],
      "id": "e015e29c-707b-41b9-b344-21139fe0eb7e"
    },
    {
      "cell_type": "code",
      "execution_count": 201,
      "metadata": {
        "vscode": {
          "languageId": "python"
        }
      },
      "outputs": [],
      "source": [
        "len(b)"
      ],
      "id": "332e1623-b832-48cb-b799-2bffac504298"
    },
    {
      "cell_type": "markdown",
      "metadata": {},
      "source": [
        "(1차원) `len` 함수가 잘 동작함."
      ],
      "id": "feaa7b6a-0cf2-4084-b14b-5fbdc59df381"
    },
    {
      "cell_type": "code",
      "execution_count": 198,
      "metadata": {
        "vscode": {
          "languageId": "python"
        }
      },
      "outputs": [],
      "source": [
        "a='3.14'\n",
        "len(a)"
      ],
      "id": "aa82d04e-89c2-4176-b86a-1f7891843c18"
    },
    {
      "cell_type": "code",
      "execution_count": 202,
      "metadata": {
        "vscode": {
          "languageId": "python"
        }
      },
      "outputs": [],
      "source": [
        "b=[1,2,3]"
      ],
      "id": "0e3455bc-144e-4f7b-aee0-e3fce07185a2"
    },
    {
      "cell_type": "code",
      "execution_count": 203,
      "metadata": {
        "vscode": {
          "languageId": "python"
        }
      },
      "outputs": [],
      "source": [
        "len(b)"
      ],
      "id": "1d0d92e4-6d9b-4ff3-ab6b-ff638dde8051"
    },
    {
      "cell_type": "markdown",
      "metadata": {},
      "source": [
        "# Quiz\n",
        "\n",
        "아래와 같은 문자열이 있다고 하자."
      ],
      "id": "b30f46d4-2d5e-4f72-87c4-6e2e0cbf6d20"
    },
    {
      "cell_type": "code",
      "execution_count": 1,
      "metadata": {},
      "outputs": [],
      "source": [
        "a='Jeonbuk National University' "
      ],
      "id": "e86ce219-f331-4e26-9a88-13b4a48e1136"
    },
    {
      "cell_type": "markdown",
      "metadata": {},
      "source": [
        "`1`. 적당한 인덱싱을 통하여 출력결과가 아래와 같도록 하라."
      ],
      "id": "b05a8be8-efa2-4f46-9de1-2806437f1090"
    },
    {
      "cell_type": "code",
      "execution_count": null,
      "metadata": {},
      "outputs": [],
      "source": [
        "# 적당한 인덱싱"
      ],
      "id": "12c55a43-b971-4fc8-85dc-f968792e119d"
    },
    {
      "cell_type": "markdown",
      "metadata": {},
      "source": [
        "**hint**: University는 10글자이다.\n",
        "\n",
        "`2`. 출력결과가 아래와 같도록 하는 코드를 작성하라. (lower 함수를 이용할\n",
        "것)"
      ],
      "id": "45c3b7a0-493c-46da-a466-8920594976f5"
    },
    {
      "cell_type": "code",
      "execution_count": null,
      "metadata": {},
      "outputs": [],
      "source": [
        "# 적당한 코드 "
      ],
      "id": "572032fe-f43d-470e-af5e-ad39c607338f"
    },
    {
      "cell_type": "markdown",
      "metadata": {},
      "source": [
        "`3`. 아래의 코드를 관찰하고 isupper()의 기능이 무엇인지 스스로\n",
        "정리해보라."
      ],
      "id": "cf4fc5e7-ae33-4a03-9b2a-04faac00bc10"
    },
    {
      "cell_type": "code",
      "execution_count": 4,
      "metadata": {},
      "outputs": [],
      "source": [
        "'A'.isupper()"
      ],
      "id": "61029033-7183-4c04-8792-f2b377823c90"
    },
    {
      "cell_type": "code",
      "execution_count": 5,
      "metadata": {},
      "outputs": [],
      "source": [
        "'AA'.isupper()"
      ],
      "id": "40fd64fa-851c-4bad-ac5a-f077463d258d"
    },
    {
      "cell_type": "code",
      "execution_count": 6,
      "metadata": {},
      "outputs": [],
      "source": [
        "'Aa'.isupper()"
      ],
      "id": "cb8e95ad-a54b-4b51-a74d-254e8ab94321"
    },
    {
      "cell_type": "code",
      "execution_count": 7,
      "metadata": {},
      "outputs": [],
      "source": [
        "'aa'.isupper()"
      ],
      "id": "fdee8eb2-6696-411a-bc03-b16d4345de3a"
    },
    {
      "cell_type": "code",
      "execution_count": 8,
      "metadata": {},
      "outputs": [],
      "source": [
        "'aA'.isupper()"
      ],
      "id": "1d25df26-dfcc-4cc2-8dbb-1856426c8f29"
    },
    {
      "cell_type": "markdown",
      "metadata": {},
      "source": [
        "유추한 기능이 맞는지 ChatGPT를 통하여 확인하라.\n",
        "\n",
        "`4`. 다음중 실행 불가능한 코드를 모두 골라라.\n",
        "\n",
        "``` python\n",
        "(a) 'a'*2 \n",
        "\n",
        "(b) 'a'*'2'\n",
        "\n",
        "(c) 'a'+2 \n",
        "\n",
        "(d) 'a'+'2'\n",
        "```\n",
        "\n",
        "`5`. 아래의 예제를 관찰하라."
      ],
      "id": "090dbf1e-8842-428d-a9b4-43e83f9fc595"
    },
    {
      "cell_type": "code",
      "execution_count": 1,
      "metadata": {},
      "outputs": [],
      "source": [
        "'제 이름은 {}입니다'.format('최규빈')"
      ],
      "id": "6424a2a6-8c92-4578-81ae-ce637dcdff61"
    },
    {
      "cell_type": "code",
      "execution_count": 2,
      "metadata": {},
      "outputs": [],
      "source": [
        "'제 이름은 {}이고 사는곳은 {}입니다.'.format('최규빈','전주')"
      ],
      "id": "afa316ca-a364-4c52-a18b-d03ba187a56c"
    },
    {
      "cell_type": "markdown",
      "metadata": {},
      "source": [
        "이 예제를 바탕으로 문자열에 포함된 `.format()`함수의 기능을 유추하라.\n",
        "그리고 아래의 결과를 확인하라.\n",
        "\n",
        "``` python\n",
        "string = '전북대학교 학생엠티가 {}월{}일-{}월{}일 완주 곶감펜션에서 있다고 합니다. 자세한 일정 등은 다시 공지하겠습니다.' \n",
        "string.format(3,24,3,25)\n",
        "```\n",
        "\n",
        "ChatGPT를 활용하여 `.format()`함수의 기능을 학습하라.\n",
        "\n",
        "`6`. 아래의 예제를 관찰하라."
      ],
      "id": "27d7569c-5fb1-4203-8153-9b6c8045a253"
    },
    {
      "cell_type": "code",
      "execution_count": 16,
      "metadata": {},
      "outputs": [],
      "source": [
        "'abcdefg'.replace('g','u')"
      ],
      "id": "a324f70a-0ec3-4de9-9837-841cc1ef3120"
    },
    {
      "cell_type": "markdown",
      "metadata": {},
      "source": [
        "이 예제를 바탕으로 문자열의 `.replace()` 기능을 유추하라. 유추한 기능을\n",
        "chatGPT로 확인하라.\n",
        "\n",
        "`7`. 아래의 코드를 관찰하라."
      ],
      "id": "204b5781-2dcf-4ea1-b282-40fb7e8d8ef9"
    },
    {
      "cell_type": "code",
      "execution_count": 89,
      "metadata": {},
      "outputs": [],
      "source": [
        "'2023-03-22'.split('-')"
      ],
      "id": "923876ce-5f24-48a5-a860-2a755fee70fe"
    },
    {
      "cell_type": "markdown",
      "metadata": {},
      "source": [
        "이 코드를 바탕으로 split의 기능을 유추하라. 유추한 기능을 chatGPT로\n",
        "확인하라.\n",
        "\n",
        "`8`. 아래의 코드를 관찰하라."
      ],
      "id": "6b45b97b-bdf1-4b18-a7fe-3d42bc274881"
    },
    {
      "cell_type": "code",
      "execution_count": 61,
      "metadata": {},
      "outputs": [],
      "source": [
        "'a' in 'abcd'"
      ],
      "id": "cc34c667-ab0c-408d-b1bc-e1471344f013"
    },
    {
      "cell_type": "markdown",
      "metadata": {},
      "source": [
        "이 코드를 바탕으로 in 의 사용방법을 유추하라. 유추한 기능을 chatGPT로\n",
        "확인하라."
      ],
      "id": "a27d2d39-67ff-45b4-9a4f-632c47edb0e8"
    }
  ],
  "nbformat": 4,
  "nbformat_minor": 5,
  "metadata": {
    "kernelspec": {
      "name": "python3",
      "display_name": "Python 3 (ipykernel)",
      "language": "python"
    },
    "language_info": {
      "name": "python",
      "codemirror_mode": {
        "name": "ipython",
        "version": "3"
      },
      "file_extension": ".py",
      "mimetype": "text/x-python",
      "nbconvert_exporter": "python",
      "pygments_lexer": "ipython3",
      "version": "3.10.12"
    }
  }
}