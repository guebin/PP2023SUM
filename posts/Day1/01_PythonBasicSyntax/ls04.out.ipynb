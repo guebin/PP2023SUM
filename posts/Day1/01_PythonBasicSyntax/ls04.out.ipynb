{
  "cells": [
    {
      "cell_type": "markdown",
      "metadata": {},
      "source": [
        "# Lesson 04: 파이썬의 자료형 III (dict, set)\n",
        "\n",
        "최규빈  \n",
        "2023-06-24\n",
        "\n",
        "<a href=\"https://colab.research.google.com/github/guebin/PP2023SUM/blob/main/posts/Day1/01_PythonBasicSyntax/ls04.ipynb\"><img src=\"https://colab.research.google.com/assets/colab-badge.svg\" style=\"text-align: left\"></a>\n",
        "\n",
        "# 딕셔너리 기본내용\n",
        "\n",
        "## intro: str, list, tuple 정리\n",
        "\n",
        "`-` str, list, tuple은 모두 시퀀스형이라는 공통점이 있다. $\\to$ 원소의\n",
        "위치번호로 인덱싱이 가능"
      ],
      "id": "64911ae6-6875-4022-a9ea-78309b6f15f6"
    },
    {
      "cell_type": "code",
      "execution_count": null,
      "metadata": {},
      "outputs": [],
      "source": [
        "lst = [1,2,3,4]"
      ],
      "id": "0a004a5c"
    },
    {
      "cell_type": "code",
      "execution_count": null,
      "metadata": {},
      "outputs": [],
      "source": [
        "lst[0] # 위치번호=0"
      ],
      "id": "d573fc0e"
    },
    {
      "cell_type": "code",
      "execution_count": null,
      "metadata": {},
      "outputs": [],
      "source": [
        "lst[-1] # 위치번호=-1"
      ],
      "id": "fc202bcb"
    },
    {
      "cell_type": "markdown",
      "metadata": {},
      "source": [
        "`-` str, list, tuple은 차이점도 존재함. 잠깐 정리해보자.\n",
        "\n",
        "***시퀀스형의 카테고리***\n",
        "\n",
        "-   컨테니어형: list, tuple\n",
        "-   균일형: str\n",
        "-   가변형: list\n",
        "-   불변형: tuple, str\n",
        "\n",
        "***표로 정리하면***\n",
        "\n",
        "|        | 컨테니어형 | 균일형 |\n",
        "|:------:|:----------:|:------:|\n",
        "| 가변형 |    list    |   .    |\n",
        "| 불변형 |   tuple    |  str   |\n",
        "\n",
        "`-` 시퀀스형이 아닌 1차원 자료형도 있을까? 원소의 위치번호로 인덱싱이\n",
        "불가능한 자료형\n",
        "\n",
        "`-` 왜 이런게 필요할까?\n",
        "\n",
        "-   벡터에서 원소를 뽑는것은 정보의 모임에서 정보를 검색하는 것과 같다.\n",
        "-   정보를 `순서`대로 나열한뒤에 그 `순서`를 이용하여 검색하는 방법은\n",
        "    유용하다.\n",
        "-   하지만 경우에 따라서는 `키워드`를 기억해서 그 `키워드`를 바탕으로\n",
        "    정보에 접근하는 방법이 유용할 수 있다.\n",
        "\n",
        "***카카오톡 대화내용검색***\n",
        "\n",
        "(상황1) `오늘아침`에 와이프가 `뭔가`를 카톡으로 부탁했었음. 그런데 그\n",
        "`뭔가`가 기억안남.\n",
        "\n",
        "(상황2) `개강전에` 동료교수와 함께 `저녁약속`을 카톡으로 잡았었음.\n",
        "그런데 그게 언제인지 기억안남.\n",
        "\n",
        "(상황3) `오늘아침` 동료교수와 함께 `점심약속`을 카톡으로 잡았었음.\n",
        "그런데 그 장소가 기억나지 않음.\n",
        "\n",
        "`-` 순서대로 정리된 자료를 검색할때는 시퀀스형이 유리하다. 그런데\n",
        "키워드로 검색하고 싶을 경우는 딕셔너리 타입이 유리하다.\n",
        "\n",
        "## 선언\n",
        "\n",
        "`-` 방법1: 가장 일반적"
      ],
      "id": "6ac0722a-5f46-4033-baac-4cae5a320812"
    },
    {
      "cell_type": "code",
      "execution_count": null,
      "metadata": {},
      "outputs": [],
      "source": [
        "dct = {'guebin':49, 'hanni':80}\n",
        "dct"
      ],
      "id": "82b8c4a1"
    },
    {
      "cell_type": "markdown",
      "metadata": {},
      "source": [
        "`-` 방법2: `dict()` 이용"
      ],
      "id": "6f41db80-69dd-4e2c-b27f-d32b58bc6b57"
    },
    {
      "cell_type": "code",
      "execution_count": null,
      "metadata": {},
      "outputs": [],
      "source": [
        "dct = dict(guebin=49, hanni=80)\n",
        "dct"
      ],
      "id": "33c920f4"
    },
    {
      "cell_type": "markdown",
      "metadata": {},
      "source": [
        "`-` 방법3: 중첩된 리스트를 만든 뒤에 형태변환"
      ],
      "id": "2132f017-0e3d-401a-ace4-30e1bfc23228"
    },
    {
      "cell_type": "code",
      "execution_count": null,
      "metadata": {},
      "outputs": [],
      "source": [
        "_lst = [['guebin',49],['hanni',80]]\n",
        "_lst "
      ],
      "id": "2249d116"
    },
    {
      "cell_type": "code",
      "execution_count": null,
      "metadata": {},
      "outputs": [],
      "source": [
        "dict(_lst)"
      ],
      "id": "e96f955a"
    },
    {
      "cell_type": "markdown",
      "metadata": {},
      "source": [
        "`-` 방법4: 중첩된 튜플을 만든 뒤에 형태변환"
      ],
      "id": "9848e8b7-31e1-4839-ac77-c6d7c14e7d43"
    },
    {
      "cell_type": "code",
      "execution_count": null,
      "metadata": {},
      "outputs": [],
      "source": [
        "_tpl = ('guebin',49), ('hanni',80)\n",
        "_tpl"
      ],
      "id": "efd283bf"
    },
    {
      "cell_type": "code",
      "execution_count": null,
      "metadata": {},
      "outputs": [],
      "source": [
        "dict(_tpl)"
      ],
      "id": "d0f6ea74"
    },
    {
      "cell_type": "markdown",
      "metadata": {},
      "source": [
        "## 원소추출\n",
        "\n",
        "`-` 원소의 위치로 추출할 수 없고, key로 추출해야 한다."
      ],
      "id": "4e0ca2f9-2a0a-4bb2-8888-d754ab31089e"
    },
    {
      "cell_type": "code",
      "execution_count": null,
      "metadata": {},
      "outputs": [],
      "source": [
        "dct = {'guebin':49, 'hanni':80}\n",
        "dct"
      ],
      "id": "feecfeb1"
    },
    {
      "cell_type": "markdown",
      "metadata": {},
      "source": [
        "guebin의 점수를 추출하고 싶다면?"
      ],
      "id": "5c5ce8a8-89f2-4875-91e7-5dd982cec7c4"
    },
    {
      "cell_type": "code",
      "execution_count": null,
      "metadata": {},
      "outputs": [],
      "source": [
        "dct['guebin']"
      ],
      "id": "1f76b4d8"
    },
    {
      "cell_type": "markdown",
      "metadata": {},
      "source": [
        "`-` 만약에 dict가 아니라 list로 정보를 저장했다면?\n",
        "\n",
        "(예제) 아래와 같은 리스트에서 guebin의 점수를 추출하고 싶다면?"
      ],
      "id": "028769ec-b8e3-47bc-85f9-a803c2a7c7a0"
    },
    {
      "cell_type": "code",
      "execution_count": null,
      "metadata": {},
      "outputs": [],
      "source": [
        "lst=[['guebin',49],['hanni',80]]\n",
        "lst"
      ],
      "id": "3f1c71dc"
    },
    {
      "cell_type": "markdown",
      "metadata": {},
      "source": [
        "(풀이1)"
      ],
      "id": "ca8e7466-056e-430f-bf1d-0344a89c99b9"
    },
    {
      "cell_type": "code",
      "execution_count": null,
      "metadata": {},
      "outputs": [],
      "source": [
        "lst[0][1] # guebin의 점수를 출력하란 의미"
      ],
      "id": "203261fa"
    },
    {
      "cell_type": "markdown",
      "metadata": {},
      "source": [
        "(풀이2) – 진짜 최악"
      ],
      "id": "d71bc34c-8959-4d28-8ae1-79c4805ae174"
    },
    {
      "cell_type": "code",
      "execution_count": null,
      "metadata": {},
      "outputs": [],
      "source": [
        "[lst[i][1] for i in range(len(lst)) if lst[i][0] == 'guebin']"
      ],
      "id": "8c795e13"
    },
    {
      "cell_type": "markdown",
      "metadata": {},
      "source": [
        "(풀이3) – 덜 최악"
      ],
      "id": "322370c8-d864-47a2-a26e-b3f02f998b84"
    },
    {
      "cell_type": "code",
      "execution_count": null,
      "metadata": {},
      "outputs": [],
      "source": [
        "[score for name,score in lst if name == 'guebin']"
      ],
      "id": "de98cd04"
    },
    {
      "cell_type": "markdown",
      "metadata": {},
      "source": [
        "`-` ’guebin’의 점수를 추출하는 코드 비교"
      ],
      "id": "037232d2-be36-44c1-90b4-add016453150"
    },
    {
      "cell_type": "code",
      "execution_count": null,
      "metadata": {},
      "outputs": [],
      "source": [
        "dct['guebin'] # 코드1: 단순하고, 가독성있음"
      ],
      "id": "adf59e59"
    },
    {
      "cell_type": "code",
      "execution_count": null,
      "metadata": {},
      "outputs": [],
      "source": [
        "lst[0][1] # 코드2: 단순하지만, 가독성이 있는건 아님"
      ],
      "id": "d7605808"
    },
    {
      "cell_type": "code",
      "execution_count": null,
      "metadata": {},
      "outputs": [],
      "source": [
        "[lst[i][1] for i in range(len(lst)) if lst[i][0] =='guebin'] # 코드3: 단순하지도 않고, 가독성도 없음."
      ],
      "id": "8b08f88e"
    },
    {
      "cell_type": "code",
      "execution_count": null,
      "metadata": {},
      "outputs": [],
      "source": [
        "[score for name,score in lst if name=='guebin' ] # 코드4: 단순하지 않지만, 가독성은 있음"
      ],
      "id": "8e07a60b"
    },
    {
      "cell_type": "markdown",
      "metadata": {},
      "source": [
        "## 원소추가, 변경, 삭제"
      ],
      "id": "97ea68ef-ed1f-4b59-94f5-9c1bdd60c0df"
    },
    {
      "cell_type": "code",
      "execution_count": null,
      "metadata": {},
      "outputs": [],
      "source": [
        "dct={'guebin':49, 'hanni':80}\n",
        "dct"
      ],
      "id": "171ce1d9"
    },
    {
      "cell_type": "markdown",
      "metadata": {},
      "source": [
        "`-` 원소에 접근: guebin의 점수 출력"
      ],
      "id": "02e06396-3787-4eba-88f4-7f1f7e8e4317"
    },
    {
      "cell_type": "code",
      "execution_count": null,
      "metadata": {},
      "outputs": [],
      "source": [
        "dct['guebin']"
      ],
      "id": "abdfe838"
    },
    {
      "cell_type": "markdown",
      "metadata": {},
      "source": [
        "`-` 추가: hynn학생의 점수를 추가"
      ],
      "id": "c564f1df-fc88-4a29-9c7c-6d2ccd1bc44b"
    },
    {
      "cell_type": "code",
      "execution_count": null,
      "metadata": {},
      "outputs": [],
      "source": [
        "dct['hynn'] = 99"
      ],
      "id": "84860ec5"
    },
    {
      "cell_type": "code",
      "execution_count": null,
      "metadata": {},
      "outputs": [],
      "source": [
        "dct"
      ],
      "id": "24aded48"
    },
    {
      "cell_type": "markdown",
      "metadata": {},
      "source": [
        "`-` 변경: hanni의 점수를 변경"
      ],
      "id": "a617dba3-4aea-4ac6-81a5-ebb26d56dfe5"
    },
    {
      "cell_type": "code",
      "execution_count": null,
      "metadata": {},
      "outputs": [],
      "source": [
        "dct['hanni'] = 100 "
      ],
      "id": "41211859"
    },
    {
      "cell_type": "code",
      "execution_count": null,
      "metadata": {},
      "outputs": [],
      "source": [
        "dct"
      ],
      "id": "2732e570"
    },
    {
      "cell_type": "markdown",
      "metadata": {},
      "source": [
        "`-` 삭제\n",
        "\n",
        "(방법1)"
      ],
      "id": "7dfae450-a2f2-40ec-997a-17ea4027688e"
    },
    {
      "cell_type": "code",
      "execution_count": null,
      "metadata": {},
      "outputs": [],
      "source": [
        "dct={'guebin':49, 'hanni':80, 'hynn':99}\n",
        "del dct['guebin']  \n",
        "dct"
      ],
      "id": "e8686af7"
    },
    {
      "cell_type": "markdown",
      "metadata": {},
      "source": [
        "(방법2)"
      ],
      "id": "fc138dfb-0740-4a50-a124-cada4cff151f"
    },
    {
      "cell_type": "code",
      "execution_count": null,
      "metadata": {},
      "outputs": [],
      "source": [
        "dct={'guebin':49, 'hanni':80, 'hynn':99} \n",
        "dct.pop('guebin')"
      ],
      "id": "b5e9a1c3"
    },
    {
      "cell_type": "code",
      "execution_count": null,
      "metadata": {},
      "outputs": [],
      "source": [
        "dct"
      ],
      "id": "01ed9212"
    },
    {
      "cell_type": "markdown",
      "metadata": {},
      "source": [
        "`-` 참고로 리스트였다면 이러한 삭제작업역시 비효율적이었을 것임"
      ],
      "id": "2fb60733-6e1f-4450-9c0b-ddf982a23261"
    },
    {
      "cell_type": "code",
      "execution_count": null,
      "metadata": {},
      "outputs": [],
      "source": [
        "lst = [['guebin',49],['hanni',80],['hynn',99]] \n",
        "lst"
      ],
      "id": "a64ede40"
    },
    {
      "cell_type": "markdown",
      "metadata": {},
      "source": [
        "guebin의 점수를 삭제하려면?"
      ],
      "id": "f1b382c6-d153-4557-8225-74ccf9c0f3c4"
    },
    {
      "cell_type": "code",
      "execution_count": null,
      "metadata": {},
      "outputs": [],
      "source": [
        "[[name,score] for name,score in lst if name != 'guebin']"
      ],
      "id": "809e9372"
    },
    {
      "cell_type": "markdown",
      "metadata": {},
      "source": [
        "## 연산\n",
        "\n",
        "`-` 하나있어요.."
      ],
      "id": "8f1bfd23-d17b-4ed9-9e0e-644348ed3e78"
    },
    {
      "cell_type": "code",
      "execution_count": null,
      "metadata": {},
      "outputs": [],
      "source": [
        "dct = {'guebin':49, 'hanni':80} \n",
        "dct"
      ],
      "id": "c6f4533c"
    },
    {
      "cell_type": "code",
      "execution_count": null,
      "metadata": {},
      "outputs": [],
      "source": [
        "'guebin' in dct"
      ],
      "id": "31feebc8"
    },
    {
      "cell_type": "code",
      "execution_count": null,
      "metadata": {},
      "outputs": [],
      "source": [
        "'hanni' in dct"
      ],
      "id": "ef7e8653"
    },
    {
      "cell_type": "code",
      "execution_count": null,
      "metadata": {},
      "outputs": [],
      "source": [
        "'hynn' in dct"
      ],
      "id": "9a24c8e5"
    },
    {
      "cell_type": "markdown",
      "metadata": {},
      "source": [
        "`-` in은 사실 다른자료형도 가능했음\n",
        "\n",
        "(관찰1)"
      ],
      "id": "e5c0392d-fb70-47a5-9cce-3e33fe81ec27"
    },
    {
      "cell_type": "code",
      "execution_count": null,
      "metadata": {},
      "outputs": [],
      "source": [
        "'a' in 'guebin' "
      ],
      "id": "08545413"
    },
    {
      "cell_type": "code",
      "execution_count": null,
      "metadata": {},
      "outputs": [],
      "source": [
        "'b' in 'guebin' "
      ],
      "id": "d4a0c835"
    },
    {
      "cell_type": "code",
      "execution_count": null,
      "metadata": {},
      "outputs": [],
      "source": [
        "'c' in 'guebin' "
      ],
      "id": "b1d1aed4"
    },
    {
      "cell_type": "markdown",
      "metadata": {},
      "source": [
        "(관찰2)"
      ],
      "id": "61bad0a2-b595-4700-85ef-aad42a321fa5"
    },
    {
      "cell_type": "code",
      "execution_count": null,
      "metadata": {},
      "outputs": [],
      "source": [
        "tpl = 1,2,3 \n",
        "tpl"
      ],
      "id": "411a3af6"
    },
    {
      "cell_type": "code",
      "execution_count": null,
      "metadata": {},
      "outputs": [],
      "source": [
        "1 in tpl"
      ],
      "id": "7ac29a71"
    },
    {
      "cell_type": "code",
      "execution_count": null,
      "metadata": {},
      "outputs": [],
      "source": [
        "4 in tpl"
      ],
      "id": "0388d08e"
    },
    {
      "cell_type": "markdown",
      "metadata": {},
      "source": [
        "(관찰3)"
      ],
      "id": "e4d2ec72-cdea-4f10-b6d3-17db4d147a4d"
    },
    {
      "cell_type": "code",
      "execution_count": null,
      "metadata": {},
      "outputs": [],
      "source": [
        "lst = [['guebin',49],['hanni',80],['hynn',99]] \n",
        "lst"
      ],
      "id": "577d2248"
    },
    {
      "cell_type": "code",
      "execution_count": null,
      "metadata": {},
      "outputs": [],
      "source": [
        "['guebin',49] in lst"
      ],
      "id": "67be7517"
    },
    {
      "cell_type": "markdown",
      "metadata": {},
      "source": [
        "`-` in연산자가 dict형에 사용되면 key를 기준으로 True, False를 판단한다.\n",
        "\n",
        "## 딕셔너리 특수기능\n",
        "\n",
        "**(pop)**"
      ],
      "id": "266736c1-17c3-497f-82ef-c14ffd6f2dc0"
    },
    {
      "cell_type": "code",
      "execution_count": null,
      "metadata": {},
      "outputs": [],
      "source": [
        "dct = {'guebin':49, 'hanni':80} \n",
        "dct.pop('hanni')\n",
        "dct"
      ],
      "id": "b0224b8d"
    },
    {
      "cell_type": "markdown",
      "metadata": {},
      "source": [
        "**(get)**"
      ],
      "id": "0989b831-025a-4eaa-956e-ce47dd315212"
    },
    {
      "cell_type": "code",
      "execution_count": null,
      "metadata": {},
      "outputs": [],
      "source": [
        "dct = {'guebin':49, 'hanni':80} \n",
        "dct"
      ],
      "id": "e37bec1e"
    },
    {
      "cell_type": "code",
      "execution_count": null,
      "metadata": {},
      "outputs": [],
      "source": [
        "dct.get('guebin') "
      ],
      "id": "29820be9"
    },
    {
      "cell_type": "markdown",
      "metadata": {},
      "source": [
        "아래와 같은 기능"
      ],
      "id": "e889b796-09e0-41e1-88f2-58cfa82d8461"
    },
    {
      "cell_type": "code",
      "execution_count": null,
      "metadata": {},
      "outputs": [],
      "source": [
        "dct['guebin']"
      ],
      "id": "d33791fd"
    },
    {
      "cell_type": "markdown",
      "metadata": {},
      "source": [
        "미묘한 차이점이 존재함"
      ],
      "id": "6124f177-9ae2-447c-895e-4e1e0fc561a4"
    },
    {
      "cell_type": "code",
      "execution_count": null,
      "metadata": {},
      "outputs": [],
      "source": [
        "dct['hynn'] # hynn이 없어서 키에러 출력, 그런 key는 없다.. "
      ],
      "id": "f1b3245e"
    },
    {
      "cell_type": "code",
      "execution_count": null,
      "metadata": {},
      "outputs": [],
      "source": [
        "dct.get('hynn') # hynn이 없으면 아무것도 출력안함 "
      ],
      "id": "d3a6c21b"
    },
    {
      "cell_type": "markdown",
      "metadata": {},
      "source": [
        "**(keys,values,items)**\n",
        "\n",
        "`-` .keys()는 딕셔너리의 키를 리턴한다."
      ],
      "id": "c0040583-bf87-433d-b800-25b6f777ed6d"
    },
    {
      "cell_type": "code",
      "execution_count": null,
      "metadata": {},
      "outputs": [],
      "source": [
        "dct = {'guebin':49, 'hanni':80} \n",
        "dct"
      ],
      "id": "8c1704ab"
    },
    {
      "cell_type": "code",
      "execution_count": null,
      "metadata": {},
      "outputs": [],
      "source": [
        "_keys=dct.keys()\n",
        "_keys"
      ],
      "id": "9486d194"
    },
    {
      "cell_type": "code",
      "execution_count": null,
      "metadata": {},
      "outputs": [],
      "source": [
        "type(_keys) # 리턴된 자료형은 이상한것임"
      ],
      "id": "f9d4436d"
    },
    {
      "cell_type": "code",
      "execution_count": null,
      "metadata": {},
      "outputs": [],
      "source": [
        "list(_keys) # 아무튼 그 이상한 자료형도 리스트화 가능 "
      ],
      "id": "99fa6146"
    },
    {
      "cell_type": "markdown",
      "metadata": {},
      "source": [
        "`-` .values()는 딕셔너리의 값들을 리턴한다."
      ],
      "id": "bf95e186-7e52-459e-8e72-813979a87e88"
    },
    {
      "cell_type": "code",
      "execution_count": null,
      "metadata": {},
      "outputs": [],
      "source": [
        "_values = dct.values()\n",
        "_values "
      ],
      "id": "fc9a7692"
    },
    {
      "cell_type": "code",
      "execution_count": null,
      "metadata": {},
      "outputs": [],
      "source": [
        "type(_values)"
      ],
      "id": "7c26c3f7"
    },
    {
      "cell_type": "code",
      "execution_count": null,
      "metadata": {},
      "outputs": [],
      "source": [
        "list(_values)"
      ],
      "id": "068516fa"
    },
    {
      "cell_type": "markdown",
      "metadata": {},
      "source": [
        "`-` .items()는 딕셔너리의 (키,값)을 리턴한다."
      ],
      "id": "0f4ac800-9770-4bc4-b813-77f7f487f5cf"
    },
    {
      "cell_type": "code",
      "execution_count": null,
      "metadata": {},
      "outputs": [],
      "source": [
        "_items = dct.items()\n",
        "_items "
      ],
      "id": "10b11b90"
    },
    {
      "cell_type": "code",
      "execution_count": null,
      "metadata": {},
      "outputs": [],
      "source": [
        "type(_items)"
      ],
      "id": "f5827635"
    },
    {
      "cell_type": "code",
      "execution_count": null,
      "metadata": {},
      "outputs": [],
      "source": [
        "list(_items)"
      ],
      "id": "da10cc8c"
    },
    {
      "cell_type": "markdown",
      "metadata": {},
      "source": [
        "## for문과 dict ($\\star$)"
      ],
      "id": "857f0020-c9c3-4ceb-8ad5-b3a189220e20"
    },
    {
      "cell_type": "code",
      "execution_count": null,
      "metadata": {},
      "outputs": [],
      "source": [
        "dct = {'guebin': 49, 'hanni': 80}\n",
        "dct"
      ],
      "id": "b8cd6316"
    },
    {
      "cell_type": "markdown",
      "metadata": {},
      "source": [
        "(예시1)"
      ],
      "id": "6cd98dc1-e6da-4403-994a-3d429be89bcb"
    },
    {
      "cell_type": "code",
      "execution_count": null,
      "metadata": {},
      "outputs": [
        {
          "output_type": "stream",
          "name": "stdout",
          "text": [
            "guebin\n",
            "hanni"
          ]
        }
      ],
      "source": [
        "for k in dct.keys():\n",
        "    print(k)"
      ],
      "id": "a77cdba7"
    },
    {
      "cell_type": "code",
      "execution_count": null,
      "metadata": {},
      "outputs": [
        {
          "output_type": "stream",
          "name": "stdout",
          "text": [
            "guebin\n",
            "hanni"
          ]
        }
      ],
      "source": [
        "for k in dct:\n",
        "    print(k)"
      ],
      "id": "ad24d788"
    },
    {
      "cell_type": "markdown",
      "metadata": {},
      "source": [
        "-   딕셔너리 그자체도 for문에 넣을 수 있다.\n",
        "-   k에는 value가 삭제되어 들어간다. (즉 key만)\n",
        "-   결과를 보면 dct 대신에 dct.keys()와 list(dct)를 넣었을때와 결과가\n",
        "    같다.\n",
        "\n",
        "> Note: list(dct) 하면 key만 리턴된다.\n",
        "\n",
        "(예시2)"
      ],
      "id": "172bd12f-3ed7-457a-bca1-8c0178766e3d"
    },
    {
      "cell_type": "code",
      "execution_count": null,
      "metadata": {},
      "outputs": [
        {
          "output_type": "stream",
          "name": "stdout",
          "text": [
            "49\n",
            "80"
          ]
        }
      ],
      "source": [
        "for v in dct.values():\n",
        "    print(v)"
      ],
      "id": "975b8241"
    },
    {
      "cell_type": "markdown",
      "metadata": {},
      "source": [
        "(예시3)"
      ],
      "id": "2c374c6d-b64a-467b-80fd-790a805a9219"
    },
    {
      "cell_type": "code",
      "execution_count": null,
      "metadata": {},
      "outputs": [
        {
          "output_type": "stream",
          "name": "stdout",
          "text": [
            "('guebin', 49)\n",
            "('hanni', 80)"
          ]
        }
      ],
      "source": [
        "for i in dct.items():\n",
        "    print(i)"
      ],
      "id": "94be34c8"
    },
    {
      "cell_type": "markdown",
      "metadata": {},
      "source": [
        "(예시4)"
      ],
      "id": "f12e7519-5dd2-422e-a47c-8a15f4d27595"
    },
    {
      "cell_type": "code",
      "execution_count": null,
      "metadata": {},
      "outputs": [
        {
          "output_type": "stream",
          "name": "stdout",
          "text": [
            "guebin 49\n",
            "hanni 80"
          ]
        }
      ],
      "source": [
        "for k,v in dct.items():\n",
        "    print(k,v)"
      ],
      "id": "4372add4"
    },
    {
      "cell_type": "markdown",
      "metadata": {},
      "source": [
        "(예시5) – {}의 중간고사 점수는 {}점 입니다."
      ],
      "id": "ac92c8fa-7f6a-4d81-86a3-aecd2b74288e"
    },
    {
      "cell_type": "code",
      "execution_count": null,
      "metadata": {},
      "outputs": [
        {
          "output_type": "stream",
          "name": "stdout",
          "text": [
            "guebin의 중간고사 점수는 49점 입니다.\n",
            "hanni의 중간고사 점수는 80점 입니다."
          ]
        }
      ],
      "source": [
        "for name,score in dct.items():\n",
        "    print('{}의 중간고사 점수는 {}점 입니다.'.format(name,score))"
      ],
      "id": "7f00bc9c"
    },
    {
      "cell_type": "markdown",
      "metadata": {},
      "source": [
        "# 딕셔너리 고급내용 ($\\star$)\n",
        "\n",
        "## dict에서 key혹은 value만 뽑아내기\n",
        "\n",
        "`-` 예제: 아래의 dict에서 key만 뽑아내고 싶다."
      ],
      "id": "1db1a0ae-7fe8-432b-9e86-18adbb84a337"
    },
    {
      "cell_type": "code",
      "execution_count": null,
      "metadata": {},
      "outputs": [],
      "source": [
        "dct = {'guebin':49, 'hanni':80} "
      ],
      "id": "56cdcfc3"
    },
    {
      "cell_type": "markdown",
      "metadata": {},
      "source": [
        "(풀이1)"
      ],
      "id": "b0429acf-580b-43c2-886b-ee9b3ceac88e"
    },
    {
      "cell_type": "code",
      "execution_count": null,
      "metadata": {},
      "outputs": [],
      "source": [
        "list(dct)"
      ],
      "id": "af42e466"
    },
    {
      "cell_type": "markdown",
      "metadata": {},
      "source": [
        "(풀이2)"
      ],
      "id": "6d3facc9-1f84-4cd8-b8d1-9d26b247dc4e"
    },
    {
      "cell_type": "code",
      "execution_count": null,
      "metadata": {},
      "outputs": [],
      "source": [
        "list(dct.keys())"
      ],
      "id": "12ac1fd1"
    },
    {
      "cell_type": "markdown",
      "metadata": {},
      "source": [
        "(풀이3)"
      ],
      "id": "6e5e1fbb-8c4d-4d62-92e7-46fada112a15"
    },
    {
      "cell_type": "code",
      "execution_count": null,
      "metadata": {},
      "outputs": [],
      "source": [
        "[k for k in dct]"
      ],
      "id": "238d9b6e"
    },
    {
      "cell_type": "markdown",
      "metadata": {},
      "source": [
        "(풀이4)"
      ],
      "id": "aadb74a8-3c1b-44ba-8e5b-536c29608a3f"
    },
    {
      "cell_type": "code",
      "execution_count": null,
      "metadata": {},
      "outputs": [],
      "source": [
        "[k for k,v in dct.items()]"
      ],
      "id": "8cf4dd9f"
    },
    {
      "cell_type": "markdown",
      "metadata": {},
      "source": [
        "`-` 예제: 아래의 dict에서 value만 뽑아내고 싶다."
      ],
      "id": "e931b5e6-f411-4ca9-9c40-2239fc1fe83a"
    },
    {
      "cell_type": "code",
      "execution_count": null,
      "metadata": {},
      "outputs": [],
      "source": [
        "dct = {'guebin':49, 'hanni':80} "
      ],
      "id": "3a3aa56c"
    },
    {
      "cell_type": "markdown",
      "metadata": {},
      "source": [
        "(풀이1)"
      ],
      "id": "3101a366-3cd8-4284-9191-07a08df62657"
    },
    {
      "cell_type": "code",
      "execution_count": null,
      "metadata": {},
      "outputs": [],
      "source": [
        "list(dct.values())"
      ],
      "id": "1a4cb5ac"
    },
    {
      "cell_type": "markdown",
      "metadata": {},
      "source": [
        "(풀이2)"
      ],
      "id": "a2cf427c-c18d-4a5a-83f9-c5af40ba1915"
    },
    {
      "cell_type": "code",
      "execution_count": null,
      "metadata": {},
      "outputs": [],
      "source": [
        "[dct[k] for k in dct]"
      ],
      "id": "75002311"
    },
    {
      "cell_type": "markdown",
      "metadata": {},
      "source": [
        "(풀이3)"
      ],
      "id": "8b5385e6-6836-47c6-a56e-9f4c7df808b5"
    },
    {
      "cell_type": "code",
      "execution_count": null,
      "metadata": {},
      "outputs": [],
      "source": [
        "[v for v in dct.values()]"
      ],
      "id": "9ecb534c"
    },
    {
      "cell_type": "markdown",
      "metadata": {},
      "source": [
        "(풀이4)"
      ],
      "id": "43333251-3a33-4051-808f-9af5728c3663"
    },
    {
      "cell_type": "code",
      "execution_count": null,
      "metadata": {},
      "outputs": [],
      "source": [
        "[v for k,v in dct.items()]"
      ],
      "id": "ce57ce22"
    },
    {
      "cell_type": "markdown",
      "metadata": {},
      "source": [
        "## key의 조건\n",
        "\n",
        "`-` 조건1: 키로 쓸 수 있는 자료형은 정해져 있다.\n",
        "\n",
        "-   int O, float O, bool O, str O, list X, tuple O, dict X, set X\n",
        "\n",
        "(예시1) dict의 키로 int를 사용"
      ],
      "id": "e0292081-cb05-4feb-9e08-034284dfe446"
    },
    {
      "cell_type": "code",
      "execution_count": null,
      "metadata": {},
      "outputs": [],
      "source": [
        "dct = {0:[1,2,3], 1:[2,3,4]} \n",
        "dct[0] # 인덱싱 하는거 같네?"
      ],
      "id": "1a67adfe"
    },
    {
      "cell_type": "code",
      "execution_count": null,
      "metadata": {},
      "outputs": [],
      "source": [
        "dct[-1] # 속았지?"
      ],
      "id": "fd3ab1d5"
    },
    {
      "cell_type": "markdown",
      "metadata": {},
      "source": [
        "(예시2) dict의 키로 float을 사용 \\<– 이렇게 쓰는 사람 본적이 없어요"
      ],
      "id": "24161490-2b67-47f1-8882-770ced824f52"
    },
    {
      "cell_type": "code",
      "execution_count": null,
      "metadata": {},
      "outputs": [],
      "source": [
        "dct = {3.14:'π', 2.178:'e'}\n",
        "dct[3.14]"
      ],
      "id": "d8be4b1d"
    },
    {
      "cell_type": "markdown",
      "metadata": {},
      "source": [
        "(예시3) dict의 키로 bool을 사용"
      ],
      "id": "3cc68afc-6d09-4765-8aa2-3a44db377d31"
    },
    {
      "cell_type": "code",
      "execution_count": null,
      "metadata": {},
      "outputs": [],
      "source": [
        "dct = {True: '참이다', False: '거짓이다.'} \n",
        "dct"
      ],
      "id": "2e3dcb2a"
    },
    {
      "cell_type": "code",
      "execution_count": null,
      "metadata": {},
      "outputs": [],
      "source": [
        "dct[1<2]"
      ],
      "id": "2a4c4c3c"
    },
    {
      "cell_type": "markdown",
      "metadata": {},
      "source": [
        "(예시4) dict의 키로 str을 사용 ($\\star$)"
      ],
      "id": "e2e1193b-b949-4440-9e89-9588af1254f0"
    },
    {
      "cell_type": "code",
      "execution_count": null,
      "metadata": {},
      "outputs": [],
      "source": [
        "dct = {'guebin':[10,20,30,30], 'hanni':[10,20,25,40]}\n",
        "dct['guebin']"
      ],
      "id": "b4c5668d"
    },
    {
      "cell_type": "markdown",
      "metadata": {},
      "source": [
        "(예시5) dict의 키로 list를 사용 $\\Rightarrow$ 불가능"
      ],
      "id": "26380d42-6215-448d-b065-ac527dcc80f1"
    },
    {
      "cell_type": "code",
      "execution_count": null,
      "metadata": {},
      "outputs": [],
      "source": [
        "dct = {[10,20,30,40]: 'guebin', [10,20,25,40]: 'hanni'} \n",
        "dct"
      ],
      "id": "c61a7d03"
    },
    {
      "cell_type": "markdown",
      "metadata": {},
      "source": [
        "(예시6) dict의 키로 tuple 사용 ($\\star$)"
      ],
      "id": "18ba058d-8094-4e39-a772-830ba136b452"
    },
    {
      "cell_type": "code",
      "execution_count": null,
      "metadata": {},
      "outputs": [],
      "source": [
        "dct = {(10,20,30,40): 'guebin', (10,20,25,40): 'hanni'} \n",
        "dct"
      ],
      "id": "4b2a6fb7"
    },
    {
      "cell_type": "code",
      "execution_count": null,
      "metadata": {},
      "outputs": [],
      "source": [
        "dct[(10,20,30,40)]"
      ],
      "id": "377ced44"
    },
    {
      "cell_type": "code",
      "execution_count": null,
      "metadata": {},
      "outputs": [],
      "source": [
        "dct[10,20,30,40]"
      ],
      "id": "16ee3422"
    },
    {
      "cell_type": "markdown",
      "metadata": {},
      "source": [
        "(예시7) dict의 키로 dict사용 $\\Rightarrow$ 불가능"
      ],
      "id": "13288a81-7faf-428d-9453-6782a869e8e2"
    },
    {
      "cell_type": "code",
      "execution_count": null,
      "metadata": {},
      "outputs": [],
      "source": [
        "dct = {{0:1}: 'guebin', {1:2}: 'hanni'} \n",
        "dct"
      ],
      "id": "41bc98b6"
    },
    {
      "cell_type": "markdown",
      "metadata": {},
      "source": [
        "(예시8) dict의 키로 set사용 $\\Rightarrow$ 불가능"
      ],
      "id": "58438b3f-3568-41da-8829-464df4d9938d"
    },
    {
      "cell_type": "code",
      "execution_count": null,
      "metadata": {},
      "outputs": [],
      "source": [
        "dct = {{'샌드위치','딸기우유'}:'점심', {'불고기','된장찌개','김','콩자반'}: '저녁'}\n",
        "dct"
      ],
      "id": "b6141cc1"
    },
    {
      "cell_type": "markdown",
      "metadata": {},
      "source": [
        "`-` 조건2: 키는 중복해서 쓸 수 없다.\n",
        "\n",
        "(예시1)"
      ],
      "id": "dcda9771-2616-42d2-b8d7-21db11b9181e"
    },
    {
      "cell_type": "code",
      "execution_count": null,
      "metadata": {},
      "outputs": [],
      "source": [
        "dct = {0:[1,2,3], 1:[2,3,4], 0:[3,4,5]} # 이렇게 쓰지 마세요\n",
        "dct "
      ],
      "id": "adb22e72"
    },
    {
      "cell_type": "markdown",
      "metadata": {},
      "source": [
        "## value의 조건\n",
        "\n",
        "`-` 없다… $\\Rightarrow$ dict는 컨테이너형!!\n",
        "\n",
        "## 바꿔치기 (1)\n",
        "\n",
        "`-` 예제1: 아래와 같은 리스트가 있다고 하자."
      ],
      "id": "429a2eb2-ffc0-4a25-801a-d6adff866ee5"
    },
    {
      "cell_type": "code",
      "execution_count": null,
      "metadata": {},
      "outputs": [],
      "source": [
        "lst = list('abcd'*2)\n",
        "lst"
      ],
      "id": "41ffa621"
    },
    {
      "cell_type": "markdown",
      "metadata": {},
      "source": [
        "아래의 규칙에 의하여 lst의 각 원소의 값을 바꾸고 싶다고 하자. 이를\n",
        "구현하는 코드를 작성하라.\n",
        "\n",
        "| 변환전 |   변환후    |\n",
        "|:------:|:-----------:|\n",
        "|  ‘a’   | \\[1,0,0,0\\] |\n",
        "|  ‘b’   | \\[0,1,0,0\\] |\n",
        "|  ‘c’   | \\[0,0,1,0\\] |\n",
        "|  ‘d’   | \\[0,0,0,1\\] |\n",
        "\n",
        "hint: 아래의 dct를 이용할 것"
      ],
      "id": "4eb0400f-6887-419f-8e2a-7b2533596a35"
    },
    {
      "cell_type": "code",
      "execution_count": null,
      "metadata": {},
      "outputs": [],
      "source": [
        "lst = list('abcd'*2)\n",
        "lst"
      ],
      "id": "d3567e5f"
    },
    {
      "cell_type": "code",
      "execution_count": null,
      "metadata": {},
      "outputs": [],
      "source": [
        "dct = {'a':[1,0,0,0], 'b':[0,1,0,0], 'c':[0,0,1,0], 'd':[0,0,0,1]}\n",
        "dct"
      ],
      "id": "adbd715d"
    },
    {
      "cell_type": "markdown",
      "metadata": {},
      "source": [
        "(풀이)"
      ],
      "id": "fc8f057b-3835-476e-b144-8a463d27dda1"
    },
    {
      "cell_type": "code",
      "execution_count": null,
      "metadata": {},
      "outputs": [],
      "source": [
        "[dct[x] for x in lst]"
      ],
      "id": "384b66c9"
    },
    {
      "cell_type": "markdown",
      "metadata": {},
      "source": [
        "`-` 예제2: 예제1을 역변환하라."
      ],
      "id": "12a234a7-56d0-4bb9-afbf-774c5a98393d"
    },
    {
      "cell_type": "code",
      "execution_count": null,
      "metadata": {},
      "outputs": [],
      "source": [
        "dct = {'a':[1,0,0,0], 'b':[0,1,0,0], 'c':[0,0,1,0], 'd':[0,0,0,1]}"
      ],
      "id": "76d5db87"
    },
    {
      "cell_type": "code",
      "execution_count": null,
      "metadata": {},
      "outputs": [],
      "source": [
        "lst= [[1, 0, 0, 0],\n",
        "      [0, 1, 0, 0],\n",
        "      [0, 0, 1, 0],\n",
        "      [0, 0, 0, 1],\n",
        "      [1, 0, 0, 0],\n",
        "      [0, 1, 0, 0],\n",
        "      [0, 0, 1, 0],\n",
        "      [0, 0, 0, 1]]\n",
        "lst "
      ],
      "id": "a637e6c9"
    },
    {
      "cell_type": "markdown",
      "metadata": {},
      "source": [
        "(풀이)"
      ],
      "id": "fef76626-85ac-438e-a78c-9e699e4676f3"
    },
    {
      "cell_type": "code",
      "execution_count": null,
      "metadata": {},
      "outputs": [],
      "source": [
        "[x for l in lst for x,y in dct.items() if y == l]"
      ],
      "id": "36f7966e"
    },
    {
      "cell_type": "markdown",
      "metadata": {},
      "source": [
        "## 바꿔치기 (2)\n",
        "\n",
        "`-` 예제1: 아래와 같은 리스트를 고려하자."
      ],
      "id": "09d901ff-7a43-4fea-bf46-eefcb45e63c4"
    },
    {
      "cell_type": "code",
      "execution_count": null,
      "metadata": {},
      "outputs": [],
      "source": [
        "lst = ['딸기','사과','바나나','딸기','사과','오토바이','자동차','버스','기차','오토바이','자동차']"
      ],
      "id": "018e7986"
    },
    {
      "cell_type": "markdown",
      "metadata": {},
      "source": [
        "다음의 맵핑규칙에 따라서 위의 리스트의 원소를 바꾸어라.\n",
        "\n",
        "|  변환전  | 변환후 |\n",
        "|:--------:|:------:|\n",
        "|   딸기   |  과일  |\n",
        "|   사과   |  과일  |\n",
        "|  바나나  |  과일  |\n",
        "| 오토바이 |  탈것  |\n",
        "|  자동차  |  탈것  |\n",
        "|   버스   |  탈것  |\n",
        "|   기차   |  탈것  |\n",
        "\n",
        "(풀이)"
      ],
      "id": "2f018cc5-dfaa-4575-b142-0326b9bbb554"
    },
    {
      "cell_type": "code",
      "execution_count": null,
      "metadata": {},
      "outputs": [],
      "source": [
        "dct = {'과일':['딸기','사과','바나나'], '탈것':['오토바이','자동차','버스','기차']}\n",
        "dct"
      ],
      "id": "3b1443c0"
    },
    {
      "cell_type": "code",
      "execution_count": null,
      "metadata": {},
      "outputs": [],
      "source": [
        "[x for l in lst for x,y in dct.items() if l in y]"
      ],
      "id": "166ef1e0"
    },
    {
      "cell_type": "markdown",
      "metadata": {},
      "source": [
        "# 집합 기본내용\n",
        "\n",
        "## 선언"
      ],
      "id": "97e30fc6-d69d-4e18-8482-8655643662ea"
    },
    {
      "cell_type": "code",
      "execution_count": null,
      "metadata": {},
      "outputs": [],
      "source": [
        "wishlist={'notebook','desktop'}\n",
        "wishlist"
      ],
      "id": "2c0d3111"
    },
    {
      "cell_type": "markdown",
      "metadata": {},
      "source": [
        "## 원소추출\n",
        "\n",
        "`-` 일단 인덱스로는 못합니다."
      ],
      "id": "60b1200e-1bc3-4ec6-b34d-8cf294ad4697"
    },
    {
      "cell_type": "code",
      "execution_count": null,
      "metadata": {},
      "outputs": [],
      "source": [
        "wishlist={'notebook','desktop'}\n",
        "wishlist[0]"
      ],
      "id": "6c4f7cc0"
    },
    {
      "cell_type": "markdown",
      "metadata": {},
      "source": [
        "`-` 딱히 하는 방법이 없어요.. 그리고 이걸 하는 의미가 없어요.. (원소에\n",
        "접근해서 뭐하려고??)\n",
        "\n",
        "## 원소추가\n",
        "\n",
        "`-` 이건 의미가 있음"
      ],
      "id": "002fdeca-7748-45a8-b579-7c6aea6c9fc9"
    },
    {
      "cell_type": "code",
      "execution_count": null,
      "metadata": {},
      "outputs": [],
      "source": [
        "wishlist={'notebook','desktop'} \n",
        "wishlist"
      ],
      "id": "152b1f83"
    },
    {
      "cell_type": "code",
      "execution_count": null,
      "metadata": {},
      "outputs": [],
      "source": [
        "wishlist.add('ipad')\n",
        "wishlist"
      ],
      "id": "7f47b3a2"
    },
    {
      "cell_type": "code",
      "execution_count": null,
      "metadata": {},
      "outputs": [],
      "source": [
        "wishlist.add('notebook') # 이미 원소로 있는건 추가되지 않음. \n",
        "wishlist"
      ],
      "id": "38f8ba25"
    },
    {
      "cell_type": "markdown",
      "metadata": {},
      "source": [
        "## 원소삭제"
      ],
      "id": "caebb027-0114-43b4-ad74-ca3ea7356661"
    },
    {
      "cell_type": "code",
      "execution_count": null,
      "metadata": {},
      "outputs": [],
      "source": [
        "wishlist={'desktop', 'ipad', 'notebook'}\n",
        "wishlist"
      ],
      "id": "88a4e681"
    },
    {
      "cell_type": "code",
      "execution_count": null,
      "metadata": {},
      "outputs": [],
      "source": [
        "wishlist.remove('notebook')"
      ],
      "id": "ae5e0bbf"
    },
    {
      "cell_type": "code",
      "execution_count": null,
      "metadata": {},
      "outputs": [],
      "source": [
        "wishlist"
      ],
      "id": "768aa659"
    },
    {
      "cell_type": "markdown",
      "metadata": {},
      "source": [
        "## 연산\n",
        "\n",
        "`-` in 연산자"
      ],
      "id": "4941fb22-65a7-4a5c-b967-f80b9c50c522"
    },
    {
      "cell_type": "code",
      "execution_count": null,
      "metadata": {},
      "outputs": [],
      "source": [
        "wishlist={'desktop', 'ipad', 'notebook'}\n",
        "wishlist"
      ],
      "id": "10d1708b"
    },
    {
      "cell_type": "code",
      "execution_count": null,
      "metadata": {},
      "outputs": [],
      "source": [
        "'notebook' in wishlist"
      ],
      "id": "43077b1a"
    },
    {
      "cell_type": "markdown",
      "metadata": {},
      "source": [
        "-   참고로 `in`연산자는 집합에서만 쓰는것은 아님\n",
        "\n",
        "`-` 합집합, 교집합, 차집합"
      ],
      "id": "61a8fad8-19bf-4e9f-83bf-f4c91404f34d"
    },
    {
      "cell_type": "code",
      "execution_count": null,
      "metadata": {},
      "outputs": [],
      "source": [
        "day1 = {'notebook','desktop'}\n",
        "day2 = {'notebook','ipad'}"
      ],
      "id": "358ae9e0"
    },
    {
      "cell_type": "code",
      "execution_count": null,
      "metadata": {},
      "outputs": [],
      "source": [
        "day1 | day2 # 합집합"
      ],
      "id": "f23defef"
    },
    {
      "cell_type": "code",
      "execution_count": null,
      "metadata": {},
      "outputs": [],
      "source": [
        "day1 & day2 # 교집합"
      ],
      "id": "788765a5"
    },
    {
      "cell_type": "code",
      "execution_count": null,
      "metadata": {},
      "outputs": [],
      "source": [
        "day1 - day2 # 차집합 "
      ],
      "id": "99361a25"
    },
    {
      "cell_type": "code",
      "execution_count": null,
      "metadata": {},
      "outputs": [],
      "source": [
        "day2 - day1 # 차집합"
      ],
      "id": "5a4e0fa2"
    },
    {
      "cell_type": "markdown",
      "metadata": {},
      "source": [
        "`-` 부분집합"
      ],
      "id": "55efc384-8fc1-4126-a2eb-f08bc00a4a77"
    },
    {
      "cell_type": "code",
      "execution_count": null,
      "metadata": {},
      "outputs": [],
      "source": [
        "day1 = {'notebook', 'desktop'}\n",
        "day2 = day1 | {'ipad'} "
      ],
      "id": "e9baf29b"
    },
    {
      "cell_type": "code",
      "execution_count": null,
      "metadata": {},
      "outputs": [],
      "source": [
        "day1 < day2  # day1는 day2의 부분집합인가? "
      ],
      "id": "ee507933"
    },
    {
      "cell_type": "code",
      "execution_count": null,
      "metadata": {},
      "outputs": [],
      "source": [
        "day2 < day1"
      ],
      "id": "c86ab110"
    },
    {
      "cell_type": "markdown",
      "metadata": {},
      "source": [
        "## 집합 특수기능\n",
        "\n",
        "`-` 합집합"
      ],
      "id": "18ecff06-1464-41b1-bc72-1b8e72aedeb1"
    },
    {
      "cell_type": "code",
      "execution_count": null,
      "metadata": {},
      "outputs": [],
      "source": [
        "day1 = {'notebook', 'desktop'}\n",
        "day2 = {'notebook','ipad'}"
      ],
      "id": "e04edb6f"
    },
    {
      "cell_type": "code",
      "execution_count": null,
      "metadata": {},
      "outputs": [],
      "source": [
        "day1.union(day2)"
      ],
      "id": "71f52e73"
    },
    {
      "cell_type": "markdown",
      "metadata": {},
      "source": [
        "`-` 나머지 메소드는 스스로 찾아보세요\n",
        "\n",
        "## for문과 set"
      ],
      "id": "fea5d1c8-ea01-43fa-90a5-c2074342064f"
    },
    {
      "cell_type": "code",
      "execution_count": null,
      "metadata": {},
      "outputs": [],
      "source": [
        "day1 = {'notebook', 'desktop'}\n",
        "day2 = {'notebook', 'ipad'}"
      ],
      "id": "1392101f"
    },
    {
      "cell_type": "code",
      "execution_count": null,
      "metadata": {},
      "outputs": [
        {
          "output_type": "stream",
          "name": "stdout",
          "text": [
            "notebook\n",
            "ipad\n",
            "desktop"
          ]
        }
      ],
      "source": [
        "for i in day1|day2: \n",
        "    print(i)"
      ],
      "id": "e7e89236"
    },
    {
      "cell_type": "markdown",
      "metadata": {},
      "source": [
        "# 집합 고급내용\n",
        "\n",
        "## set 컴프리헨션\n",
        "\n",
        "`-` 예시1"
      ],
      "id": "71d41da0-e085-4b75-a37d-06faca846e9c"
    },
    {
      "cell_type": "code",
      "execution_count": null,
      "metadata": {},
      "outputs": [],
      "source": [
        "lst = [1,2,1,1,3,4,5]\n",
        "{l for l in lst}"
      ],
      "id": "06371846"
    },
    {
      "cell_type": "markdown",
      "metadata": {},
      "source": [
        "## 유니크한 원소\n",
        "\n",
        "`-` 예제1: 아래의 list는 모두 몇 종류의 문자로 이루어져 있는가?"
      ],
      "id": "d4a933ee-65a5-42ec-98d0-d58ac3e48a72"
    },
    {
      "cell_type": "code",
      "execution_count": null,
      "metadata": {},
      "outputs": [],
      "source": [
        "lst=list('asdfasssdfdsasdfasdfasdfasdf')"
      ],
      "id": "874db77e"
    },
    {
      "cell_type": "markdown",
      "metadata": {},
      "source": [
        "(풀이)"
      ],
      "id": "9c2b05a9-0c50-4cfe-b9c1-d8deef66b5a9"
    },
    {
      "cell_type": "code",
      "execution_count": null,
      "metadata": {},
      "outputs": [],
      "source": [
        "set(lst)"
      ],
      "id": "6dccff65"
    },
    {
      "cell_type": "code",
      "execution_count": null,
      "metadata": {},
      "outputs": [],
      "source": [
        "len(set(lst))"
      ],
      "id": "9c8bd1df"
    },
    {
      "cell_type": "markdown",
      "metadata": {},
      "source": [
        "`-` 예제2: 아래의 txt에서 어떠한 종류의 문자가 각각 몇번씩 사용되었는지\n",
        "빈도를 구하는 코드를 작성하라."
      ],
      "id": "b0c64593-17f5-4107-b97c-7d2fb2c5ea11"
    },
    {
      "cell_type": "code",
      "execution_count": null,
      "metadata": {},
      "outputs": [],
      "source": [
        "txt = 'asdkflkjahsdlkjfhlaksglkjdhflkgjhlskdfjhglkajhsdlkfjhalsdkf'\n",
        "txt"
      ],
      "id": "45ab58ec"
    },
    {
      "cell_type": "markdown",
      "metadata": {},
      "source": [
        "(풀이)"
      ],
      "id": "b4e5420b-475a-40af-a0b1-e2371f285098"
    },
    {
      "cell_type": "code",
      "execution_count": null,
      "metadata": {},
      "outputs": [],
      "source": [
        "{k:list(txt).count(k) for k in set(txt)}"
      ],
      "id": "47493e64"
    },
    {
      "cell_type": "markdown",
      "metadata": {},
      "source": [
        "# Quiz\n",
        "\n",
        "`1`. 아래와 같은 맵핑을 고려하자.\n",
        "\n",
        "| 문자 | 숫자 |\n",
        "|:----:|:----:|\n",
        "|  a   |  1   |\n",
        "|  b   |  0   |\n",
        "\n",
        "이를 딕셔너리로 표현하면 아래와 같다."
      ],
      "id": "5aedd402-8b9b-453f-9a2b-255f10278725"
    },
    {
      "cell_type": "code",
      "execution_count": null,
      "metadata": {},
      "outputs": [],
      "source": [
        "dct = {'a':0, 'b':1} "
      ],
      "id": "1462130a"
    },
    {
      "cell_type": "markdown",
      "metadata": {},
      "source": [
        "위 규칙에 따라서 아래의 리스트의 원소를 문자로 각각 변환하라."
      ],
      "id": "f4cc9f29-2611-4696-8696-547e2a340022"
    },
    {
      "cell_type": "code",
      "execution_count": null,
      "metadata": {},
      "outputs": [],
      "source": [
        "lst = [1, 0, 1, 0, 1, 0, 1, 1, 1, 1, 0, 0, 1, 0, 1]"
      ],
      "id": "707619c1"
    },
    {
      "cell_type": "markdown",
      "metadata": {},
      "source": [
        "``` python\n",
        "# 출력은 아래와 같아야 한다. \n",
        "['b', 'a', 'b', 'a', 'b', 'a', 'b', 'b', 'b', 'b', 'a', 'a', 'b', 'a', 'b']\n",
        "```\n",
        "\n",
        "(풀이)"
      ],
      "id": "4e6ac20c-661f-48f6-8f0c-bff3a0077e2f"
    },
    {
      "cell_type": "code",
      "execution_count": null,
      "metadata": {},
      "outputs": [],
      "source": [
        "[k for l in lst for k,v in dct.items() if v==l]"
      ],
      "id": "656035a9"
    },
    {
      "cell_type": "markdown",
      "metadata": {},
      "source": [
        "`2`. 아래와 같은 맵핑을 고려하자.\n",
        "\n",
        "|     월     |   의미   |\n",
        "|:----------:|:--------:|\n",
        "|    1,2     | 겨울방학 |\n",
        "|  3,4,5,6   |  1학기   |\n",
        "|    7,8     | 여름방학 |\n",
        "| 9,10,11,12 |  2학기   |\n",
        "\n",
        "이러한 규칙에 맞게 아래의 리스트를 적절한 문자열로 변환하라."
      ],
      "id": "49d663ea-45dc-4c9b-82b4-6f47ad20a8bc"
    },
    {
      "cell_type": "code",
      "execution_count": null,
      "metadata": {},
      "outputs": [],
      "source": [
        "month = [1,2,2,3,4,5,6,7,8,9,9,10,11,12] "
      ],
      "id": "91404712"
    },
    {
      "cell_type": "markdown",
      "metadata": {},
      "source": [
        "``` python\n",
        "## 출력은 아래와 같아야 한다. \n",
        "['겨울방학', '겨울방학', '겨울방학', '1학기', '1학기', '1학기', '1학기', '여름방학', '여름방학', '2학기', '2학기', '2학기', '2학기', '2학기']\n",
        "```\n",
        "\n",
        "(풀이)"
      ],
      "id": "71fefc34-4588-44d0-bdda-5e0c55495ea2"
    },
    {
      "cell_type": "code",
      "execution_count": null,
      "metadata": {},
      "outputs": [],
      "source": [
        "dct = {'겨울방학':[1,2], '1학기':[3,4,5,6], '여름방학':[7,8], '2학기':[9,10,11,12]} \n",
        "[k for m in month for k,v in dct.items() if m in v] "
      ],
      "id": "9db23b95"
    },
    {
      "cell_type": "markdown",
      "metadata": {},
      "source": [
        "`합성변환` 3-5.\n",
        "\n",
        "아래와 같은 맵핑을 고려하자.\n",
        "\n",
        "(규칙1)\n",
        "\n",
        "|   문자   | 숫자 |\n",
        "|:--------:|:----:|\n",
        "|  바나나  |  0   |\n",
        "|   사과   |  1   |\n",
        "| 오토바이 |  2   |\n",
        "|  자동차  |  3   |\n",
        "|  자전거  |  4   |\n",
        "\n",
        "(규칙2)\n",
        "\n",
        "|  아이템  | 카테고리 |\n",
        "|:--------:|:--------:|\n",
        "|  바나나  |   과일   |\n",
        "|   사과   |   과일   |\n",
        "| 오토바이 |   탈것   |\n",
        "|  자동차  |   탈것   |\n",
        "|  자전거  |   탈것   |\n",
        "\n",
        "각각의 규칙을 나타내는 딕셔너리는 아래와 같이 선언되어있다고 하자."
      ],
      "id": "cadaf76c-d1a6-435c-8c3b-e78792a6bb6e"
    },
    {
      "cell_type": "code",
      "execution_count": null,
      "metadata": {},
      "outputs": [],
      "source": [
        "dct1 = {'바나나':0, '사과':1, '오토바이':2, '자동차':3, '자전거':4} \n",
        "dct2 = {'과일':['바나나','사과'], '탈것':['오토바이','자동차','자전거']} "
      ],
      "id": "5a658452"
    },
    {
      "cell_type": "markdown",
      "metadata": {},
      "source": [
        "`3`. 규칙1를 이용하여 아래와 같은 리스트를 변환하는 함수를 구현하고 그\n",
        "함수를 `f`라 선언하라.\n",
        "\n",
        "``` python\n",
        "# 입력 \n",
        "[0,1,0,1,4]\n",
        "\n",
        "# 출력 \n",
        "['바나나', '사과', '바나나', '사과', '자전거']\n",
        "```\n",
        "\n",
        "(사용예시)"
      ],
      "id": "3c07d5d5-a328-41ce-b2ab-67d0720d64f1"
    },
    {
      "cell_type": "code",
      "execution_count": null,
      "metadata": {},
      "outputs": [],
      "source": [
        "f([0,1,0,1,4])"
      ],
      "id": "1728f060"
    },
    {
      "cell_type": "markdown",
      "metadata": {},
      "source": [
        "(풀이)"
      ],
      "id": "53a7a562-e58d-47e6-a281-a49bf8851644"
    },
    {
      "cell_type": "code",
      "execution_count": null,
      "metadata": {},
      "outputs": [],
      "source": [
        "def f(lst):\n",
        "    return [k for l in lst for k,v in dct1.items() if v == l]    "
      ],
      "id": "9cbde56d"
    },
    {
      "cell_type": "code",
      "execution_count": null,
      "metadata": {},
      "outputs": [],
      "source": [
        "f([0,1,0,1,4])"
      ],
      "id": "1937f545"
    },
    {
      "cell_type": "markdown",
      "metadata": {},
      "source": [
        "`4`. 규칙2를 이용하여 아래와 같이 리스트를 변환하는 함수를 구현하고 그\n",
        "함수를 `g`라고 선언하라.\n",
        "\n",
        "``` python\n",
        "# 입력 \n",
        "['바나나','바나나','바나나','자동차']\n",
        "\n",
        "# 출력 \n",
        "['과일','과일','과일','탈것']\n",
        "```\n",
        "\n",
        "(사용예시)"
      ],
      "id": "ab6c5194-e79c-4f97-b36f-28779eb41bd2"
    },
    {
      "cell_type": "code",
      "execution_count": null,
      "metadata": {},
      "outputs": [],
      "source": [
        "g(['바나나','바나나','바나나','자동차'])"
      ],
      "id": "49bb0231"
    },
    {
      "cell_type": "markdown",
      "metadata": {},
      "source": [
        "(풀이)"
      ],
      "id": "c556eab2-362b-4aac-9012-0639bb0e2e09"
    },
    {
      "cell_type": "code",
      "execution_count": null,
      "metadata": {},
      "outputs": [],
      "source": [
        "dct2"
      ],
      "id": "de379325"
    },
    {
      "cell_type": "code",
      "execution_count": null,
      "metadata": {},
      "outputs": [],
      "source": [
        "def g(lst):\n",
        "    return [k for l in lst for k,v in dct2.items() if l in v] "
      ],
      "id": "5ddbe1ba"
    },
    {
      "cell_type": "code",
      "execution_count": null,
      "metadata": {},
      "outputs": [],
      "source": [
        "g(['바나나','바나나','바나나','자동차'])"
      ],
      "id": "51ed07c6"
    },
    {
      "cell_type": "markdown",
      "metadata": {},
      "source": [
        "`5`. 규칙1-2를 이용하여 아래와 같은 숫자로 이루어진 입력을 ‘과일’,\n",
        "‘탈것’ 중 하나로 바꾸는 코드를 구현하라.\n",
        "\n",
        "``` python\n",
        "# 입력 \n",
        "[0,1,0,1,3,4,2,2,3,4,1,0]\n",
        "\n",
        "# 출력 \n",
        "['과일', '과일', '과일', '과일', '탈것', '탈것', '탈것', '탈것', '탈것', '탈것', '과일', '과일']\n",
        "```\n",
        "\n",
        "**hint** $g(f(x))$ 를 이용하라.\n",
        "\n",
        "(풀이)"
      ],
      "id": "a80a99cd-787b-4d19-b1e9-7f66b21aac63"
    },
    {
      "cell_type": "code",
      "execution_count": null,
      "metadata": {},
      "outputs": [],
      "source": [
        "g(f([0,1,0,1,3,4,2,2,3,4,1,0]))"
      ],
      "id": "2cec5c5a"
    },
    {
      "cell_type": "markdown",
      "metadata": {},
      "source": [
        "`Oxford-III`: 6–10 //\n",
        "[reference](https://www.robots.ox.ac.uk/~vgg/data/pets/)\n",
        "\n",
        "아래는 이미지 파일명들이 저장된 string을 불러오는 코드이다."
      ],
      "id": "f827e16a-37aa-40f6-a519-6932ca0c4460"
    },
    {
      "cell_type": "code",
      "execution_count": null,
      "metadata": {},
      "outputs": [],
      "source": [
        "import requests\n",
        "url = 'https://raw.githubusercontent.com/guebin/PP2023/main/posts/01_PythonBasic/Oxford-IIIT.txt'\n",
        "txt = requests.get(url).content.decode()"
      ],
      "id": "39624242"
    },
    {
      "cell_type": "markdown",
      "metadata": {},
      "source": [
        "이미지파일이 저장된 형식은 아래와 같다.\n",
        "\n",
        "    Abyssinian_1.jpg\n",
        "    British_Shorthair_129.jpg\n",
        "\n",
        "**note**: `British_Shorthair`와 같이 종 이름 사이에 `_`가 들어있는\n",
        "경우도 있음.\n",
        "\n",
        "`6`. txt를 적당히 변환하여 아래와 같은 list를 만들어라."
      ],
      "id": "b6530e3b-d435-41c7-ab14-5701485b5eef"
    },
    {
      "cell_type": "code",
      "execution_count": null,
      "metadata": {},
      "outputs": [],
      "source": [
        "lst[:10],lst[810:820]"
      ],
      "id": "a937c918"
    },
    {
      "cell_type": "markdown",
      "metadata": {},
      "source": [
        "**hint1**"
      ],
      "id": "264b35c5-44bd-48c6-9bea-ebfa248d7572"
    },
    {
      "cell_type": "code",
      "execution_count": null,
      "metadata": {},
      "outputs": [],
      "source": [
        "'Abyssinian_1.jpg\\nAbyssinian_10.jpg'.split('\\n')"
      ],
      "id": "5e60fe6d"
    },
    {
      "cell_type": "markdown",
      "metadata": {},
      "source": [
        "**hint2**"
      ],
      "id": "c01e2420-21df-4f2a-bf44-a8441116f195"
    },
    {
      "cell_type": "code",
      "execution_count": null,
      "metadata": {},
      "outputs": [],
      "source": [
        "''.join(['British', 'Shorthair'])"
      ],
      "id": "4e232868"
    },
    {
      "cell_type": "code",
      "execution_count": null,
      "metadata": {},
      "outputs": [],
      "source": [
        "''.join(['Abyssinian'])"
      ],
      "id": "338df9e9"
    },
    {
      "cell_type": "markdown",
      "metadata": {},
      "source": [
        "`7`. 그림파일에는 총 몇가지 종류의 고양이와, 몇가지 종류의 강아지가\n",
        "있는가?\n",
        "\n",
        "**note:** 고양이사진은 대문자로 시작하고, 강아지 사진은 소문자로\n",
        "시작한다.\n",
        "\n",
        "**note**: 12종의 고양이, 25종의 강아지가 있음\n",
        "\n",
        "(풀이)"
      ],
      "id": "52f16f9e-fd71-4dc1-896b-02a9267126a7"
    },
    {
      "cell_type": "code",
      "execution_count": null,
      "metadata": {},
      "outputs": [],
      "source": [
        "[s[0].isupper() for s in set(lst)].count(True) # 고양이 12"
      ],
      "id": "e5473d68"
    },
    {
      "cell_type": "code",
      "execution_count": null,
      "metadata": {},
      "outputs": [],
      "source": [
        "[s[0].isupper() for s in set(lst)].count(False) # 강아지 25 "
      ],
      "id": "12799628"
    },
    {
      "cell_type": "markdown",
      "metadata": {},
      "source": [
        "`8`. 아래는 1번의 결과로 얻어진 lst의 첫 10개의 원소와 마지막 10개의\n",
        "원소이다."
      ],
      "id": "565dda1f-4b34-478c-967e-1d28c17baeab"
    },
    {
      "cell_type": "code",
      "execution_count": null,
      "metadata": {},
      "outputs": [],
      "source": [
        "lst[:10], lst[-10:]"
      ],
      "id": "c0b60fdb"
    },
    {
      "cell_type": "markdown",
      "metadata": {},
      "source": [
        "적당한 변환을 정의하여 lst를 아래와 같이 바꾸어라."
      ],
      "id": "3ae742ea-53eb-4eb2-9b30-1c72ef92f18f"
    },
    {
      "cell_type": "code",
      "execution_count": null,
      "metadata": {},
      "outputs": [],
      "source": [
        "lst2[:10], lst2[-10:] # 바뀐 lst"
      ],
      "id": "d4940366"
    },
    {
      "cell_type": "markdown",
      "metadata": {},
      "source": [
        "`9`. txt에는 강아지사진과 고양이사진이 모두 몇장씩 들어있는가?"
      ],
      "id": "0131c478-9ad2-49d5-9646-40f1730ce2f9"
    },
    {
      "cell_type": "code",
      "execution_count": null,
      "metadata": {},
      "outputs": [],
      "source": [
        "## 출력예시 "
      ],
      "id": "146cdb4e"
    },
    {
      "cell_type": "markdown",
      "metadata": {},
      "source": [
        "`10`. txt에 각 종별로 몇장의 사진이 있는지 조사하라."
      ],
      "id": "57650a7b-3cbe-4c98-93f2-1f4f623b0e22"
    },
    {
      "cell_type": "code",
      "execution_count": null,
      "metadata": {},
      "outputs": [],
      "source": [
        "## 출력예시"
      ],
      "id": "8f34758e"
    }
  ],
  "nbformat": 4,
  "nbformat_minor": 5,
  "metadata": {
    "kernelspec": {
      "name": "python3",
      "display_name": "Python 3 (ipykernel)",
      "language": "python"
    },
    "language_info": {
      "name": "python",
      "codemirror_mode": {
        "name": "ipython",
        "version": "3"
      },
      "file_extension": ".py",
      "mimetype": "text/x-python",
      "nbconvert_exporter": "python",
      "pygments_lexer": "ipython3",
      "version": "3.10.12"
    }
  }
}