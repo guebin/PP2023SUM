{
  "cells": [
    {
      "cell_type": "markdown",
      "metadata": {},
      "source": [
        "# Lesson 04: 파이썬의 자료형 III (dict, set)\n",
        "\n",
        "최규빈  \n",
        "2023-06-24\n",
        "\n",
        "<a href=\"https://colab.research.google.com/github/guebin/PP2023SUM/blob/main/posts/Day1/01_PythonBasicSyntax/ls04.ipynb\"><img src=\"https://colab.research.google.com/assets/colab-badge.svg\" style=\"text-align: left\"></a>\n",
        "\n",
        "# 딕셔너리 기본내용\n",
        "\n",
        "## intro: str, list, tuple 정리\n",
        "\n",
        "`-` str, list, tuple은 모두 시퀀스형이라는 공통점이 있다. $\\to$ 원소의\n",
        "위치번호로 인덱싱이 가능"
      ],
      "id": "00165448-e50b-4659-a474-0967e6ea6b01"
    },
    {
      "cell_type": "code",
      "execution_count": null,
      "metadata": {},
      "outputs": [],
      "source": [
        "lst = [1,2,3,4]"
      ],
      "id": "0a004a5c"
    },
    {
      "cell_type": "code",
      "execution_count": null,
      "metadata": {},
      "outputs": [],
      "source": [
        "lst[0] # 위치번호=0"
      ],
      "id": "d573fc0e"
    },
    {
      "cell_type": "code",
      "execution_count": null,
      "metadata": {},
      "outputs": [],
      "source": [
        "lst[-1] # 위치번호=-1"
      ],
      "id": "fc202bcb"
    },
    {
      "cell_type": "markdown",
      "metadata": {},
      "source": [
        "`-` str, list, tuple은 차이점도 존재함. 잠깐 정리해보자.\n",
        "\n",
        "***시퀀스형의 카테고리***\n",
        "\n",
        "-   컨테니어형: list, tuple\n",
        "-   균일형: str\n",
        "-   가변형: list\n",
        "-   불변형: tuple, str\n",
        "\n",
        "***표로 정리하면***\n",
        "\n",
        "|        | 컨테니어형 | 균일형 |\n",
        "|:------:|:----------:|:------:|\n",
        "| 가변형 |    list    |   .    |\n",
        "| 불변형 |   tuple    |  str   |\n",
        "\n",
        "`-` 시퀀스형이 아닌 1차원 자료형도 있을까? 원소의 위치번호로 인덱싱이\n",
        "불가능한 자료형\n",
        "\n",
        "`-` 왜 이런게 필요할까?\n",
        "\n",
        "-   벡터에서 원소를 뽑는것은 정보의 모임에서 정보를 검색하는 것과 같다.\n",
        "-   정보를 `순서`대로 나열한뒤에 그 `순서`를 이용하여 검색하는 방법은\n",
        "    유용하다.\n",
        "-   하지만 경우에 따라서는 `키워드`를 기억해서 그 `키워드`를 바탕으로\n",
        "    정보에 접근하는 방법이 유용할 수 있다.\n",
        "\n",
        "***카카오톡 대화내용검색***\n",
        "\n",
        "(상황1) `오늘아침`에 와이프가 `뭔가`를 카톡으로 부탁했었음. 그런데 그\n",
        "`뭔가`가 기억안남.\n",
        "\n",
        "(상황2) `개강전에` 동료교수와 함께 `저녁약속`을 카톡으로 잡았었음.\n",
        "그런데 그게 언제인지 기억안남.\n",
        "\n",
        "(상황3) `오늘아침` 동료교수와 함께 `점심약속`을 카톡으로 잡았었음.\n",
        "그런데 그 장소가 기억나지 않음.\n",
        "\n",
        "`-` 순서대로 정리된 자료를 검색할때는 시퀀스형이 유리하다. 그런데\n",
        "키워드로 검색하고 싶을 경우는 딕셔너리 타입이 유리하다.\n",
        "\n",
        "## 선언\n",
        "\n",
        "`-` 방법1: 가장 일반적"
      ],
      "id": "c1e97f33-b197-49af-936c-8c460607aa2f"
    },
    {
      "cell_type": "code",
      "execution_count": null,
      "metadata": {},
      "outputs": [],
      "source": [
        "dct = {'guebin':49, 'hanni':80}\n",
        "dct"
      ],
      "id": "82b8c4a1"
    },
    {
      "cell_type": "markdown",
      "metadata": {},
      "source": [
        "`-` 방법2: `dict()` 이용"
      ],
      "id": "38ec15a2-aeb0-4967-adc1-539371048b08"
    },
    {
      "cell_type": "code",
      "execution_count": null,
      "metadata": {},
      "outputs": [],
      "source": [
        "dct = dict(guebin=49, hanni=80)\n",
        "dct"
      ],
      "id": "33c920f4"
    },
    {
      "cell_type": "markdown",
      "metadata": {},
      "source": [
        "`-` 방법3: 중첩된 리스트를 만든 뒤에 형태변환"
      ],
      "id": "c19f7489-8750-4dbf-bd29-e10044541ec3"
    },
    {
      "cell_type": "code",
      "execution_count": null,
      "metadata": {},
      "outputs": [],
      "source": [
        "_lst = [['guebin',49],['hanni',80]]\n",
        "_lst "
      ],
      "id": "2249d116"
    },
    {
      "cell_type": "code",
      "execution_count": null,
      "metadata": {},
      "outputs": [],
      "source": [
        "dict(_lst)"
      ],
      "id": "e96f955a"
    },
    {
      "cell_type": "markdown",
      "metadata": {},
      "source": [
        "`-` 방법4: 중첩된 튜플을 만든 뒤에 형태변환"
      ],
      "id": "67e6f142-2975-4be4-97cc-b847163959a6"
    },
    {
      "cell_type": "code",
      "execution_count": null,
      "metadata": {},
      "outputs": [],
      "source": [
        "_tpl = ('guebin',49), ('hanni',80)\n",
        "_tpl"
      ],
      "id": "efd283bf"
    },
    {
      "cell_type": "code",
      "execution_count": null,
      "metadata": {},
      "outputs": [],
      "source": [
        "dict(_tpl)"
      ],
      "id": "d0f6ea74"
    },
    {
      "cell_type": "markdown",
      "metadata": {},
      "source": [
        "## 원소추출\n",
        "\n",
        "`-` 원소의 위치로 추출할 수 없고, key로 추출해야 한다."
      ],
      "id": "037e58b2-03f5-4690-b919-d45982275525"
    },
    {
      "cell_type": "code",
      "execution_count": null,
      "metadata": {},
      "outputs": [],
      "source": [
        "dct = {'guebin':49, 'hanni':80}\n",
        "dct"
      ],
      "id": "feecfeb1"
    },
    {
      "cell_type": "markdown",
      "metadata": {},
      "source": [
        "guebin의 점수를 추출하고 싶다면?"
      ],
      "id": "c2b3655e-ec11-416b-9b90-43ce0e41db26"
    },
    {
      "cell_type": "code",
      "execution_count": null,
      "metadata": {},
      "outputs": [],
      "source": [
        "dct['guebin']"
      ],
      "id": "1f76b4d8"
    },
    {
      "cell_type": "markdown",
      "metadata": {},
      "source": [
        "`-` 만약에 dict가 아니라 list로 정보를 저장했다면?\n",
        "\n",
        "(예제) 아래와 같은 리스트에서 guebin의 점수를 추출하고 싶다면?"
      ],
      "id": "11d7a7bd-179d-47da-b076-ffe937b97b79"
    },
    {
      "cell_type": "code",
      "execution_count": null,
      "metadata": {},
      "outputs": [],
      "source": [
        "lst=[['guebin',49],['hanni',80]]\n",
        "lst"
      ],
      "id": "3f1c71dc"
    },
    {
      "cell_type": "markdown",
      "metadata": {},
      "source": [
        "(풀이1)"
      ],
      "id": "d47dcdf3-1af6-4f27-a521-10dead0bddd3"
    },
    {
      "cell_type": "code",
      "execution_count": null,
      "metadata": {},
      "outputs": [],
      "source": [
        "lst[0][1] # guebin의 점수를 출력하란 의미"
      ],
      "id": "203261fa"
    },
    {
      "cell_type": "markdown",
      "metadata": {},
      "source": [
        "(풀이2) – 진짜 최악"
      ],
      "id": "ce6723c9-ec18-44f7-9838-f8bb2b491dc5"
    },
    {
      "cell_type": "code",
      "execution_count": null,
      "metadata": {},
      "outputs": [],
      "source": [
        "[lst[i][1] for i in range(len(lst)) if lst[i][0] == 'guebin']"
      ],
      "id": "8c795e13"
    },
    {
      "cell_type": "markdown",
      "metadata": {},
      "source": [
        "(풀이3) – 덜 최악"
      ],
      "id": "d315345c-4644-41ce-bdf1-2ad07c2540c7"
    },
    {
      "cell_type": "code",
      "execution_count": null,
      "metadata": {},
      "outputs": [],
      "source": [
        "[score for name,score in lst if name == 'guebin']"
      ],
      "id": "de98cd04"
    },
    {
      "cell_type": "markdown",
      "metadata": {},
      "source": [
        "`-` ’guebin’의 점수를 추출하는 코드 비교"
      ],
      "id": "2f755eb6-83ea-4de6-b85d-d0716d1d6836"
    },
    {
      "cell_type": "code",
      "execution_count": null,
      "metadata": {},
      "outputs": [],
      "source": [
        "dct['guebin'] # 코드1: 단순하고, 가독성있음"
      ],
      "id": "adf59e59"
    },
    {
      "cell_type": "code",
      "execution_count": null,
      "metadata": {},
      "outputs": [],
      "source": [
        "lst[0][1] # 코드2: 단순하지만, 가독성이 있는건 아님"
      ],
      "id": "d7605808"
    },
    {
      "cell_type": "code",
      "execution_count": null,
      "metadata": {},
      "outputs": [],
      "source": [
        "[lst[i][1] for i in range(len(lst)) if lst[i][0] =='guebin'] # 코드3: 단순하지도 않고, 가독성도 없음."
      ],
      "id": "8b08f88e"
    },
    {
      "cell_type": "code",
      "execution_count": null,
      "metadata": {},
      "outputs": [],
      "source": [
        "[score for name,score in lst if name=='guebin' ] # 코드4: 단순하지 않지만, 가독성은 있음"
      ],
      "id": "8e07a60b"
    },
    {
      "cell_type": "markdown",
      "metadata": {},
      "source": [
        "## 원소추가, 변경, 삭제"
      ],
      "id": "e0725a63-d660-49c7-9122-538b8418fff2"
    },
    {
      "cell_type": "code",
      "execution_count": null,
      "metadata": {},
      "outputs": [],
      "source": [
        "dct={'guebin':49, 'hanni':80}\n",
        "dct"
      ],
      "id": "171ce1d9"
    },
    {
      "cell_type": "markdown",
      "metadata": {},
      "source": [
        "`-` 원소에 접근: guebin의 점수 출력"
      ],
      "id": "9dd71fbd-d86d-40e5-b012-cee6ef36953a"
    },
    {
      "cell_type": "code",
      "execution_count": null,
      "metadata": {},
      "outputs": [],
      "source": [
        "dct['guebin']"
      ],
      "id": "abdfe838"
    },
    {
      "cell_type": "markdown",
      "metadata": {},
      "source": [
        "`-` 추가: hynn학생의 점수를 추가"
      ],
      "id": "3426e199-8f48-43c8-97f6-8b365d376bd7"
    },
    {
      "cell_type": "code",
      "execution_count": null,
      "metadata": {},
      "outputs": [],
      "source": [
        "dct['hynn'] = 99"
      ],
      "id": "84860ec5"
    },
    {
      "cell_type": "code",
      "execution_count": null,
      "metadata": {},
      "outputs": [],
      "source": [
        "dct"
      ],
      "id": "24aded48"
    },
    {
      "cell_type": "markdown",
      "metadata": {},
      "source": [
        "`-` 변경: hanni의 점수를 변경"
      ],
      "id": "c4c18e35-5bcf-4671-8350-953ebf66b0b8"
    },
    {
      "cell_type": "code",
      "execution_count": null,
      "metadata": {},
      "outputs": [],
      "source": [
        "dct['hanni'] = 100 "
      ],
      "id": "41211859"
    },
    {
      "cell_type": "code",
      "execution_count": null,
      "metadata": {},
      "outputs": [],
      "source": [
        "dct"
      ],
      "id": "2732e570"
    },
    {
      "cell_type": "markdown",
      "metadata": {},
      "source": [
        "`-` 삭제\n",
        "\n",
        "(방법1)"
      ],
      "id": "2bb22c2d-f75f-420c-a77c-a2e9b1cb9cc0"
    },
    {
      "cell_type": "code",
      "execution_count": null,
      "metadata": {},
      "outputs": [],
      "source": [
        "dct={'guebin':49, 'hanni':80, 'hynn':99}\n",
        "del dct['guebin']  \n",
        "dct"
      ],
      "id": "e8686af7"
    },
    {
      "cell_type": "markdown",
      "metadata": {},
      "source": [
        "(방법2)"
      ],
      "id": "f719dd61-6d37-4077-a51d-55da7ecade6f"
    },
    {
      "cell_type": "code",
      "execution_count": null,
      "metadata": {},
      "outputs": [],
      "source": [
        "dct={'guebin':49, 'hanni':80, 'hynn':99} \n",
        "dct.pop('guebin')"
      ],
      "id": "b5e9a1c3"
    },
    {
      "cell_type": "code",
      "execution_count": null,
      "metadata": {},
      "outputs": [],
      "source": [
        "dct"
      ],
      "id": "01ed9212"
    },
    {
      "cell_type": "markdown",
      "metadata": {},
      "source": [
        "`-` 참고로 리스트였다면 이러한 삭제작업역시 비효율적이었을 것임"
      ],
      "id": "a9300280-9e70-42e1-9d24-3e19345be8a9"
    },
    {
      "cell_type": "code",
      "execution_count": null,
      "metadata": {},
      "outputs": [],
      "source": [
        "lst = [['guebin',49],['hanni',80],['hynn',99]] \n",
        "lst"
      ],
      "id": "a64ede40"
    },
    {
      "cell_type": "markdown",
      "metadata": {},
      "source": [
        "guebin의 점수를 삭제하려면?"
      ],
      "id": "fe626cd2-42e9-40d3-bce9-78d1530d2cc3"
    },
    {
      "cell_type": "code",
      "execution_count": null,
      "metadata": {},
      "outputs": [],
      "source": [
        "[[name,score] for name,score in lst if name != 'guebin']"
      ],
      "id": "809e9372"
    },
    {
      "cell_type": "markdown",
      "metadata": {},
      "source": [
        "## 연산\n",
        "\n",
        "`-` 하나있어요.."
      ],
      "id": "a034ed5b-eeeb-445a-b0c3-0b053f4e5327"
    },
    {
      "cell_type": "code",
      "execution_count": null,
      "metadata": {},
      "outputs": [],
      "source": [
        "dct = {'guebin':49, 'hanni':80} \n",
        "dct"
      ],
      "id": "c6f4533c"
    },
    {
      "cell_type": "code",
      "execution_count": null,
      "metadata": {},
      "outputs": [],
      "source": [
        "'guebin' in dct"
      ],
      "id": "31feebc8"
    },
    {
      "cell_type": "code",
      "execution_count": null,
      "metadata": {},
      "outputs": [],
      "source": [
        "'hanni' in dct"
      ],
      "id": "ef7e8653"
    },
    {
      "cell_type": "code",
      "execution_count": null,
      "metadata": {},
      "outputs": [],
      "source": [
        "'hynn' in dct"
      ],
      "id": "9a24c8e5"
    },
    {
      "cell_type": "markdown",
      "metadata": {},
      "source": [
        "`-` in은 사실 다른자료형도 가능했음\n",
        "\n",
        "(관찰1)"
      ],
      "id": "1e0c10b5-4e7a-4db8-8f7c-7260e9fd1cda"
    },
    {
      "cell_type": "code",
      "execution_count": null,
      "metadata": {},
      "outputs": [],
      "source": [
        "'a' in 'guebin' "
      ],
      "id": "08545413"
    },
    {
      "cell_type": "code",
      "execution_count": null,
      "metadata": {},
      "outputs": [],
      "source": [
        "'b' in 'guebin' "
      ],
      "id": "d4a0c835"
    },
    {
      "cell_type": "code",
      "execution_count": null,
      "metadata": {},
      "outputs": [],
      "source": [
        "'c' in 'guebin' "
      ],
      "id": "b1d1aed4"
    },
    {
      "cell_type": "markdown",
      "metadata": {},
      "source": [
        "(관찰2)"
      ],
      "id": "6d39401c-ee49-4645-af2e-f255963a1541"
    },
    {
      "cell_type": "code",
      "execution_count": null,
      "metadata": {},
      "outputs": [],
      "source": [
        "tpl = 1,2,3 \n",
        "tpl"
      ],
      "id": "411a3af6"
    },
    {
      "cell_type": "code",
      "execution_count": null,
      "metadata": {},
      "outputs": [],
      "source": [
        "1 in tpl"
      ],
      "id": "7ac29a71"
    },
    {
      "cell_type": "code",
      "execution_count": null,
      "metadata": {},
      "outputs": [],
      "source": [
        "4 in tpl"
      ],
      "id": "0388d08e"
    },
    {
      "cell_type": "markdown",
      "metadata": {},
      "source": [
        "(관찰3)"
      ],
      "id": "0936779f-9ecb-4ffb-98d1-47442f10217f"
    },
    {
      "cell_type": "code",
      "execution_count": null,
      "metadata": {},
      "outputs": [],
      "source": [
        "lst = [['guebin',49],['hanni',80],['hynn',99]] \n",
        "lst"
      ],
      "id": "577d2248"
    },
    {
      "cell_type": "code",
      "execution_count": null,
      "metadata": {},
      "outputs": [],
      "source": [
        "['guebin',49] in lst"
      ],
      "id": "67be7517"
    },
    {
      "cell_type": "markdown",
      "metadata": {},
      "source": [
        "`-` in연산자가 dict형에 사용되면 key를 기준으로 True, False를 판단한다.\n",
        "\n",
        "## 딕셔너리 특수기능\n",
        "\n",
        "**(pop)**"
      ],
      "id": "5e6c4e3f-76a2-4642-ac42-3f175cd743e2"
    },
    {
      "cell_type": "code",
      "execution_count": null,
      "metadata": {},
      "outputs": [],
      "source": [
        "dct = {'guebin':49, 'hanni':80} \n",
        "dct.pop('hanni')\n",
        "dct"
      ],
      "id": "b0224b8d"
    },
    {
      "cell_type": "markdown",
      "metadata": {},
      "source": [
        "**(get)**"
      ],
      "id": "ba0290b8-5e6d-41c7-a74c-3b27970adac8"
    },
    {
      "cell_type": "code",
      "execution_count": null,
      "metadata": {},
      "outputs": [],
      "source": [
        "dct = {'guebin':49, 'hanni':80} \n",
        "dct"
      ],
      "id": "e37bec1e"
    },
    {
      "cell_type": "code",
      "execution_count": null,
      "metadata": {},
      "outputs": [],
      "source": [
        "dct.get('guebin') "
      ],
      "id": "29820be9"
    },
    {
      "cell_type": "markdown",
      "metadata": {},
      "source": [
        "아래와 같은 기능"
      ],
      "id": "7c6aac56-ec23-4aac-ba6a-f92db2344744"
    },
    {
      "cell_type": "code",
      "execution_count": null,
      "metadata": {},
      "outputs": [],
      "source": [
        "dct['guebin']"
      ],
      "id": "d33791fd"
    },
    {
      "cell_type": "markdown",
      "metadata": {},
      "source": [
        "미묘한 차이점이 존재함"
      ],
      "id": "02a8f387-a742-4425-818d-b00e89678a20"
    },
    {
      "cell_type": "code",
      "execution_count": null,
      "metadata": {},
      "outputs": [],
      "source": [
        "dct['hynn'] # hynn이 없어서 키에러 출력, 그런 key는 없다.. "
      ],
      "id": "f1b3245e"
    },
    {
      "cell_type": "code",
      "execution_count": null,
      "metadata": {},
      "outputs": [],
      "source": [
        "dct.get('hynn') # hynn이 없으면 아무것도 출력안함 "
      ],
      "id": "d3a6c21b"
    },
    {
      "cell_type": "markdown",
      "metadata": {},
      "source": [
        "**(keys,values,items)**\n",
        "\n",
        "`-` .keys()는 딕셔너리의 키를 리턴한다."
      ],
      "id": "4088bde6-41c9-46f5-b93d-be21d412a688"
    },
    {
      "cell_type": "code",
      "execution_count": null,
      "metadata": {},
      "outputs": [],
      "source": [
        "dct = {'guebin':49, 'hanni':80} \n",
        "dct"
      ],
      "id": "8c1704ab"
    },
    {
      "cell_type": "code",
      "execution_count": null,
      "metadata": {},
      "outputs": [],
      "source": [
        "_keys=dct.keys()\n",
        "_keys"
      ],
      "id": "9486d194"
    },
    {
      "cell_type": "code",
      "execution_count": null,
      "metadata": {},
      "outputs": [],
      "source": [
        "type(_keys) # 리턴된 자료형은 이상한것임"
      ],
      "id": "f9d4436d"
    },
    {
      "cell_type": "code",
      "execution_count": null,
      "metadata": {},
      "outputs": [],
      "source": [
        "list(_keys) # 아무튼 그 이상한 자료형도 리스트화 가능 "
      ],
      "id": "99fa6146"
    },
    {
      "cell_type": "markdown",
      "metadata": {},
      "source": [
        "`-` .values()는 딕셔너리의 값들을 리턴한다."
      ],
      "id": "4af13d99-499d-463d-8243-c618bebe5428"
    },
    {
      "cell_type": "code",
      "execution_count": null,
      "metadata": {},
      "outputs": [],
      "source": [
        "_values = dct.values()\n",
        "_values "
      ],
      "id": "fc9a7692"
    },
    {
      "cell_type": "code",
      "execution_count": null,
      "metadata": {},
      "outputs": [],
      "source": [
        "type(_values)"
      ],
      "id": "7c26c3f7"
    },
    {
      "cell_type": "code",
      "execution_count": null,
      "metadata": {},
      "outputs": [],
      "source": [
        "list(_values)"
      ],
      "id": "068516fa"
    },
    {
      "cell_type": "markdown",
      "metadata": {},
      "source": [
        "`-` .items()는 딕셔너리의 (키,값)을 리턴한다."
      ],
      "id": "940f3367-c83e-4897-a14f-90fe72755dff"
    },
    {
      "cell_type": "code",
      "execution_count": null,
      "metadata": {},
      "outputs": [],
      "source": [
        "_items = dct.items()\n",
        "_items "
      ],
      "id": "10b11b90"
    },
    {
      "cell_type": "code",
      "execution_count": null,
      "metadata": {},
      "outputs": [],
      "source": [
        "type(_items)"
      ],
      "id": "f5827635"
    },
    {
      "cell_type": "code",
      "execution_count": null,
      "metadata": {},
      "outputs": [],
      "source": [
        "list(_items)"
      ],
      "id": "da10cc8c"
    },
    {
      "cell_type": "markdown",
      "metadata": {},
      "source": [
        "## for문과 dict ($\\star$)"
      ],
      "id": "816362ad-d80b-4301-8bb7-8496db67d7d2"
    },
    {
      "cell_type": "code",
      "execution_count": null,
      "metadata": {},
      "outputs": [],
      "source": [
        "dct = {'guebin': 49, 'hanni': 80}\n",
        "dct"
      ],
      "id": "b8cd6316"
    },
    {
      "cell_type": "markdown",
      "metadata": {},
      "source": [
        "(예시1)"
      ],
      "id": "744e8265-c0fd-4991-807d-425c42586726"
    },
    {
      "cell_type": "code",
      "execution_count": null,
      "metadata": {},
      "outputs": [
        {
          "output_type": "stream",
          "name": "stdout",
          "text": [
            "guebin\n",
            "hanni"
          ]
        }
      ],
      "source": [
        "for k in dct.keys():\n",
        "    print(k)"
      ],
      "id": "a77cdba7"
    },
    {
      "cell_type": "code",
      "execution_count": null,
      "metadata": {},
      "outputs": [
        {
          "output_type": "stream",
          "name": "stdout",
          "text": [
            "guebin\n",
            "hanni"
          ]
        }
      ],
      "source": [
        "for k in dct:\n",
        "    print(k)"
      ],
      "id": "ad24d788"
    },
    {
      "cell_type": "markdown",
      "metadata": {},
      "source": [
        "-   딕셔너리 그자체도 for문에 넣을 수 있다.\n",
        "-   k에는 value가 삭제되어 들어간다. (즉 key만)\n",
        "-   결과를 보면 dct 대신에 dct.keys()와 list(dct)를 넣었을때와 결과가\n",
        "    같다.\n",
        "\n",
        "> Note: list(dct) 하면 key만 리턴된다.\n",
        "\n",
        "(예시2)"
      ],
      "id": "bcee6a7d-d546-4391-a5a8-c6d640d7c8ae"
    },
    {
      "cell_type": "code",
      "execution_count": null,
      "metadata": {},
      "outputs": [
        {
          "output_type": "stream",
          "name": "stdout",
          "text": [
            "49\n",
            "80"
          ]
        }
      ],
      "source": [
        "for v in dct.values():\n",
        "    print(v)"
      ],
      "id": "975b8241"
    },
    {
      "cell_type": "markdown",
      "metadata": {},
      "source": [
        "(예시3)"
      ],
      "id": "d8037905-575c-42da-bea4-7d2e4f15603b"
    },
    {
      "cell_type": "code",
      "execution_count": null,
      "metadata": {},
      "outputs": [
        {
          "output_type": "stream",
          "name": "stdout",
          "text": [
            "('guebin', 49)\n",
            "('hanni', 80)"
          ]
        }
      ],
      "source": [
        "for i in dct.items():\n",
        "    print(i)"
      ],
      "id": "94be34c8"
    },
    {
      "cell_type": "markdown",
      "metadata": {},
      "source": [
        "(예시4)"
      ],
      "id": "81b1885e-d549-4d2b-aee8-e2d1d195f5e7"
    },
    {
      "cell_type": "code",
      "execution_count": null,
      "metadata": {},
      "outputs": [
        {
          "output_type": "stream",
          "name": "stdout",
          "text": [
            "guebin 49\n",
            "hanni 80"
          ]
        }
      ],
      "source": [
        "for k,v in dct.items():\n",
        "    print(k,v)"
      ],
      "id": "4372add4"
    },
    {
      "cell_type": "markdown",
      "metadata": {},
      "source": [
        "(예시5) – {}의 중간고사 점수는 {}점 입니다."
      ],
      "id": "6e9fe64f-84dd-4997-94ec-61f978c87cf5"
    },
    {
      "cell_type": "code",
      "execution_count": null,
      "metadata": {},
      "outputs": [
        {
          "output_type": "stream",
          "name": "stdout",
          "text": [
            "guebin의 중간고사 점수는 49점 입니다.\n",
            "hanni의 중간고사 점수는 80점 입니다."
          ]
        }
      ],
      "source": [
        "for name,score in dct.items():\n",
        "    print('{}의 중간고사 점수는 {}점 입니다.'.format(name,score))"
      ],
      "id": "7f00bc9c"
    },
    {
      "cell_type": "markdown",
      "metadata": {},
      "source": [
        "# 딕셔너리 고급내용 ($\\star$)\n",
        "\n",
        "## dict에서 key혹은 value만 뽑아내기\n",
        "\n",
        "`-` 예제: 아래의 dict에서 key만 뽑아내고 싶다."
      ],
      "id": "9fc0bb03-f636-4450-82e1-0fdbf65006f5"
    },
    {
      "cell_type": "code",
      "execution_count": null,
      "metadata": {},
      "outputs": [],
      "source": [
        "dct = {'guebin':49, 'hanni':80} "
      ],
      "id": "56cdcfc3"
    },
    {
      "cell_type": "markdown",
      "metadata": {},
      "source": [
        "(풀이1)"
      ],
      "id": "1c4f4bcf-b48a-4177-87a3-cb3f79e95661"
    },
    {
      "cell_type": "code",
      "execution_count": null,
      "metadata": {},
      "outputs": [],
      "source": [
        "list(dct)"
      ],
      "id": "af42e466"
    },
    {
      "cell_type": "markdown",
      "metadata": {},
      "source": [
        "(풀이2)"
      ],
      "id": "cd8c905c-19da-453b-8367-e65ed87713c5"
    },
    {
      "cell_type": "code",
      "execution_count": null,
      "metadata": {},
      "outputs": [],
      "source": [
        "list(dct.keys())"
      ],
      "id": "12ac1fd1"
    },
    {
      "cell_type": "markdown",
      "metadata": {},
      "source": [
        "(풀이3)"
      ],
      "id": "b92ede9d-96e8-4747-8976-6f45abda2a7c"
    },
    {
      "cell_type": "code",
      "execution_count": null,
      "metadata": {},
      "outputs": [],
      "source": [
        "[k for k in dct]"
      ],
      "id": "238d9b6e"
    },
    {
      "cell_type": "markdown",
      "metadata": {},
      "source": [
        "(풀이4)"
      ],
      "id": "13bfdf97-850a-4e65-8717-537a30453b26"
    },
    {
      "cell_type": "code",
      "execution_count": null,
      "metadata": {},
      "outputs": [],
      "source": [
        "[k for k,v in dct.items()]"
      ],
      "id": "8cf4dd9f"
    },
    {
      "cell_type": "markdown",
      "metadata": {},
      "source": [
        "`-` 예제: 아래의 dict에서 value만 뽑아내고 싶다."
      ],
      "id": "88291b88-3b6e-4d4b-895a-1f1b6b4d32e8"
    },
    {
      "cell_type": "code",
      "execution_count": null,
      "metadata": {},
      "outputs": [],
      "source": [
        "dct = {'guebin':49, 'hanni':80} "
      ],
      "id": "3a3aa56c"
    },
    {
      "cell_type": "markdown",
      "metadata": {},
      "source": [
        "(풀이1)"
      ],
      "id": "018f8938-1321-460f-8cc7-c5dcf4798a9d"
    },
    {
      "cell_type": "code",
      "execution_count": null,
      "metadata": {},
      "outputs": [],
      "source": [
        "list(dct.values())"
      ],
      "id": "1a4cb5ac"
    },
    {
      "cell_type": "markdown",
      "metadata": {},
      "source": [
        "(풀이2)"
      ],
      "id": "4ef97a1d-be2c-42d3-9c5e-a3182799668a"
    },
    {
      "cell_type": "code",
      "execution_count": null,
      "metadata": {},
      "outputs": [],
      "source": [
        "[dct[k] for k in dct]"
      ],
      "id": "75002311"
    },
    {
      "cell_type": "markdown",
      "metadata": {},
      "source": [
        "(풀이3)"
      ],
      "id": "d2e5d2d1-6784-446c-8509-eb6704fff819"
    },
    {
      "cell_type": "code",
      "execution_count": null,
      "metadata": {},
      "outputs": [],
      "source": [
        "[v for v in dct.values()]"
      ],
      "id": "9ecb534c"
    },
    {
      "cell_type": "markdown",
      "metadata": {},
      "source": [
        "(풀이4)"
      ],
      "id": "1111a3b0-4dea-413b-9289-60fd2a6deceb"
    },
    {
      "cell_type": "code",
      "execution_count": null,
      "metadata": {},
      "outputs": [],
      "source": [
        "[v for k,v in dct.items()]"
      ],
      "id": "ce57ce22"
    },
    {
      "cell_type": "markdown",
      "metadata": {},
      "source": [
        "## key의 조건\n",
        "\n",
        "`-` 조건1: 키로 쓸 수 있는 자료형은 정해져 있다.\n",
        "\n",
        "-   int O, float O, bool O, str O, list X, tuple O, dict X, set X\n",
        "\n",
        "(예시1) dict의 키로 int를 사용"
      ],
      "id": "f6aa5035-a141-4320-999a-3f0f01a20a10"
    },
    {
      "cell_type": "code",
      "execution_count": null,
      "metadata": {},
      "outputs": [],
      "source": [
        "dct = {0:[1,2,3], 1:[2,3,4]} \n",
        "dct[0] # 인덱싱 하는거 같네?"
      ],
      "id": "1a67adfe"
    },
    {
      "cell_type": "code",
      "execution_count": null,
      "metadata": {},
      "outputs": [],
      "source": [
        "dct[-1] # 속았지?"
      ],
      "id": "fd3ab1d5"
    },
    {
      "cell_type": "markdown",
      "metadata": {},
      "source": [
        "(예시2) dict의 키로 float을 사용 \\<– 이렇게 쓰는 사람 본적이 없어요"
      ],
      "id": "86b9e903-4dcd-42a9-ba17-cd1e3437e865"
    },
    {
      "cell_type": "code",
      "execution_count": null,
      "metadata": {},
      "outputs": [],
      "source": [
        "dct = {3.14:'π', 2.178:'e'}\n",
        "dct[3.14]"
      ],
      "id": "d8be4b1d"
    },
    {
      "cell_type": "markdown",
      "metadata": {},
      "source": [
        "(예시3) dict의 키로 bool을 사용"
      ],
      "id": "df27a93a-721c-49ab-a534-562db3a65851"
    },
    {
      "cell_type": "code",
      "execution_count": null,
      "metadata": {},
      "outputs": [],
      "source": [
        "dct = {True: '참이다', False: '거짓이다.'} \n",
        "dct"
      ],
      "id": "2e3dcb2a"
    },
    {
      "cell_type": "code",
      "execution_count": null,
      "metadata": {},
      "outputs": [],
      "source": [
        "dct[1<2]"
      ],
      "id": "2a4c4c3c"
    },
    {
      "cell_type": "markdown",
      "metadata": {},
      "source": [
        "(예시4) dict의 키로 str을 사용 ($\\star$)"
      ],
      "id": "ab4e6124-c015-4b35-b133-fb82d7812afd"
    },
    {
      "cell_type": "code",
      "execution_count": null,
      "metadata": {},
      "outputs": [],
      "source": [
        "dct = {'guebin':[10,20,30,30], 'hanni':[10,20,25,40]}\n",
        "dct['guebin']"
      ],
      "id": "b4c5668d"
    },
    {
      "cell_type": "markdown",
      "metadata": {},
      "source": [
        "(예시5) dict의 키로 list를 사용 $\\Rightarrow$ 불가능"
      ],
      "id": "06538411-c620-4db7-8d36-cdd5c5ab73ec"
    },
    {
      "cell_type": "code",
      "execution_count": null,
      "metadata": {},
      "outputs": [],
      "source": [
        "dct = {[10,20,30,40]: 'guebin', [10,20,25,40]: 'hanni'} \n",
        "dct"
      ],
      "id": "c61a7d03"
    },
    {
      "cell_type": "markdown",
      "metadata": {},
      "source": [
        "(예시6) dict의 키로 tuple 사용 ($\\star$)"
      ],
      "id": "8f7df782-aa77-483d-b1b7-8b371b166221"
    },
    {
      "cell_type": "code",
      "execution_count": null,
      "metadata": {},
      "outputs": [],
      "source": [
        "dct = {(10,20,30,40): 'guebin', (10,20,25,40): 'hanni'} \n",
        "dct"
      ],
      "id": "4b2a6fb7"
    },
    {
      "cell_type": "code",
      "execution_count": null,
      "metadata": {},
      "outputs": [],
      "source": [
        "dct[(10,20,30,40)]"
      ],
      "id": "377ced44"
    },
    {
      "cell_type": "code",
      "execution_count": null,
      "metadata": {},
      "outputs": [],
      "source": [
        "dct[10,20,30,40]"
      ],
      "id": "16ee3422"
    },
    {
      "cell_type": "markdown",
      "metadata": {},
      "source": [
        "(예시7) dict의 키로 dict사용 $\\Rightarrow$ 불가능"
      ],
      "id": "eaa1325a-3e9f-4b24-9cdb-ad7a7f496b37"
    },
    {
      "cell_type": "code",
      "execution_count": null,
      "metadata": {},
      "outputs": [],
      "source": [
        "dct = {{0:1}: 'guebin', {1:2}: 'hanni'} \n",
        "dct"
      ],
      "id": "41bc98b6"
    },
    {
      "cell_type": "markdown",
      "metadata": {},
      "source": [
        "(예시8) dict의 키로 set사용 $\\Rightarrow$ 불가능"
      ],
      "id": "c23a8588-bb8b-4330-91f6-a6d4aa04fccf"
    },
    {
      "cell_type": "code",
      "execution_count": null,
      "metadata": {},
      "outputs": [],
      "source": [
        "dct = {{'샌드위치','딸기우유'}:'점심', {'불고기','된장찌개','김','콩자반'}: '저녁'}\n",
        "dct"
      ],
      "id": "b6141cc1"
    },
    {
      "cell_type": "markdown",
      "metadata": {},
      "source": [
        "`-` 조건2: 키는 중복해서 쓸 수 없다.\n",
        "\n",
        "(예시1)"
      ],
      "id": "2ab32550-a78d-49bd-8418-c1abbb02a42d"
    },
    {
      "cell_type": "code",
      "execution_count": null,
      "metadata": {},
      "outputs": [],
      "source": [
        "dct = {0:[1,2,3], 1:[2,3,4], 0:[3,4,5]} # 이렇게 쓰지 마세요\n",
        "dct "
      ],
      "id": "adb22e72"
    },
    {
      "cell_type": "markdown",
      "metadata": {},
      "source": [
        "## value의 조건\n",
        "\n",
        "`-` 없다… $\\Rightarrow$ dict는 컨테이너형!!\n",
        "\n",
        "## 바꿔치기 (1)\n",
        "\n",
        "`-` 예제1: 아래와 같은 리스트가 있다고 하자."
      ],
      "id": "18506ceb-6350-43c1-9637-6668e5ed69dd"
    },
    {
      "cell_type": "code",
      "execution_count": null,
      "metadata": {},
      "outputs": [],
      "source": [
        "lst = list('abcd'*2)\n",
        "lst"
      ],
      "id": "41ffa621"
    },
    {
      "cell_type": "markdown",
      "metadata": {},
      "source": [
        "아래의 규칙에 의하여 lst의 각 원소의 값을 바꾸고 싶다고 하자. 이를\n",
        "구현하는 코드를 작성하라.\n",
        "\n",
        "| 변환전 |   변환후    |\n",
        "|:------:|:-----------:|\n",
        "|  ‘a’   | \\[1,0,0,0\\] |\n",
        "|  ‘b’   | \\[0,1,0,0\\] |\n",
        "|  ‘c’   | \\[0,0,1,0\\] |\n",
        "|  ‘d’   | \\[0,0,0,1\\] |\n",
        "\n",
        "hint: 아래의 dct를 이용할 것"
      ],
      "id": "8bee9aa6-04d9-42ce-a9f9-e6da819aa1e6"
    },
    {
      "cell_type": "code",
      "execution_count": null,
      "metadata": {},
      "outputs": [],
      "source": [
        "lst = list('abcd'*2)\n",
        "lst"
      ],
      "id": "d3567e5f"
    },
    {
      "cell_type": "code",
      "execution_count": null,
      "metadata": {},
      "outputs": [],
      "source": [
        "dct = {'a':[1,0,0,0], 'b':[0,1,0,0], 'c':[0,0,1,0], 'd':[0,0,0,1]}\n",
        "dct"
      ],
      "id": "adbd715d"
    },
    {
      "cell_type": "markdown",
      "metadata": {},
      "source": [
        "(풀이)"
      ],
      "id": "1f202449-753e-4ce8-b273-1cd0a1e8565c"
    },
    {
      "cell_type": "code",
      "execution_count": null,
      "metadata": {},
      "outputs": [],
      "source": [
        "[dct[x] for x in lst]"
      ],
      "id": "384b66c9"
    },
    {
      "cell_type": "markdown",
      "metadata": {},
      "source": [
        "`-` 예제2: 예제1을 역변환하라."
      ],
      "id": "72a3747c-7037-454c-a6b8-5cc79f2d87da"
    },
    {
      "cell_type": "code",
      "execution_count": null,
      "metadata": {},
      "outputs": [],
      "source": [
        "dct = {'a':[1,0,0,0], 'b':[0,1,0,0], 'c':[0,0,1,0], 'd':[0,0,0,1]}"
      ],
      "id": "76d5db87"
    },
    {
      "cell_type": "code",
      "execution_count": null,
      "metadata": {},
      "outputs": [],
      "source": [
        "lst= [[1, 0, 0, 0],\n",
        "      [0, 1, 0, 0],\n",
        "      [0, 0, 1, 0],\n",
        "      [0, 0, 0, 1],\n",
        "      [1, 0, 0, 0],\n",
        "      [0, 1, 0, 0],\n",
        "      [0, 0, 1, 0],\n",
        "      [0, 0, 0, 1]]\n",
        "lst "
      ],
      "id": "a637e6c9"
    },
    {
      "cell_type": "markdown",
      "metadata": {},
      "source": [
        "(풀이)"
      ],
      "id": "bc9af7e2-b286-4da1-9b65-9c8b1c760fda"
    },
    {
      "cell_type": "code",
      "execution_count": null,
      "metadata": {},
      "outputs": [],
      "source": [
        "[x for l in lst for x,y in dct.items() if y == l]"
      ],
      "id": "36f7966e"
    },
    {
      "cell_type": "markdown",
      "metadata": {},
      "source": [
        "## 바꿔치기 (2)\n",
        "\n",
        "`-` 예제1: 아래와 같은 리스트를 고려하자."
      ],
      "id": "b4106d64-58fa-426e-90f7-fafaa038afaa"
    },
    {
      "cell_type": "code",
      "execution_count": null,
      "metadata": {},
      "outputs": [],
      "source": [
        "lst = ['딸기','사과','바나나','딸기','사과','오토바이','자동차','버스','기차','오토바이','자동차']"
      ],
      "id": "018e7986"
    },
    {
      "cell_type": "markdown",
      "metadata": {},
      "source": [
        "다음의 맵핑규칙에 따라서 위의 리스트의 원소를 바꾸어라.\n",
        "\n",
        "|  변환전  | 변환후 |\n",
        "|:--------:|:------:|\n",
        "|   딸기   |  과일  |\n",
        "|   사과   |  과일  |\n",
        "|  바나나  |  과일  |\n",
        "| 오토바이 |  탈것  |\n",
        "|  자동차  |  탈것  |\n",
        "|   버스   |  탈것  |\n",
        "|   기차   |  탈것  |\n",
        "\n",
        "(풀이)"
      ],
      "id": "b306bcb1-903b-4ec6-8fb4-9619032cc693"
    },
    {
      "cell_type": "code",
      "execution_count": null,
      "metadata": {},
      "outputs": [],
      "source": [
        "dct = {'과일':['딸기','사과','바나나'], '탈것':['오토바이','자동차','버스','기차']}\n",
        "dct"
      ],
      "id": "3b1443c0"
    },
    {
      "cell_type": "code",
      "execution_count": null,
      "metadata": {},
      "outputs": [],
      "source": [
        "[x for l in lst for x,y in dct.items() if l in y]"
      ],
      "id": "166ef1e0"
    },
    {
      "cell_type": "markdown",
      "metadata": {},
      "source": [
        "# 집합 기본내용\n",
        "\n",
        "## 선언"
      ],
      "id": "a7e88baa-6ad2-4523-815b-8dacc4f02b5a"
    },
    {
      "cell_type": "code",
      "execution_count": null,
      "metadata": {},
      "outputs": [],
      "source": [
        "wishlist={'notebook','desktop'}\n",
        "wishlist"
      ],
      "id": "2c0d3111"
    },
    {
      "cell_type": "markdown",
      "metadata": {},
      "source": [
        "## 원소추출\n",
        "\n",
        "`-` 일단 인덱스로는 못합니다."
      ],
      "id": "aea396a4-2a83-4c3f-8f40-154a93261f8a"
    },
    {
      "cell_type": "code",
      "execution_count": null,
      "metadata": {},
      "outputs": [],
      "source": [
        "wishlist={'notebook','desktop'}\n",
        "wishlist[0]"
      ],
      "id": "6c4f7cc0"
    },
    {
      "cell_type": "markdown",
      "metadata": {},
      "source": [
        "`-` 딱히 하는 방법이 없어요.. 그리고 이걸 하는 의미가 없어요.. (원소에\n",
        "접근해서 뭐하려고??)\n",
        "\n",
        "## 원소추가\n",
        "\n",
        "`-` 이건 의미가 있음"
      ],
      "id": "43624b1d-eab4-40af-ab29-721d3281a85f"
    },
    {
      "cell_type": "code",
      "execution_count": null,
      "metadata": {},
      "outputs": [],
      "source": [
        "wishlist={'notebook','desktop'} \n",
        "wishlist"
      ],
      "id": "152b1f83"
    },
    {
      "cell_type": "code",
      "execution_count": null,
      "metadata": {},
      "outputs": [],
      "source": [
        "wishlist.add('ipad')\n",
        "wishlist"
      ],
      "id": "7f47b3a2"
    },
    {
      "cell_type": "code",
      "execution_count": null,
      "metadata": {},
      "outputs": [],
      "source": [
        "wishlist.add('notebook') # 이미 원소로 있는건 추가되지 않음. \n",
        "wishlist"
      ],
      "id": "38f8ba25"
    },
    {
      "cell_type": "markdown",
      "metadata": {},
      "source": [
        "## 원소삭제"
      ],
      "id": "9009428b-77c1-4d2b-be6c-d0163fd96e61"
    },
    {
      "cell_type": "code",
      "execution_count": null,
      "metadata": {},
      "outputs": [],
      "source": [
        "wishlist={'desktop', 'ipad', 'notebook'}\n",
        "wishlist"
      ],
      "id": "88a4e681"
    },
    {
      "cell_type": "code",
      "execution_count": null,
      "metadata": {},
      "outputs": [],
      "source": [
        "wishlist.remove('notebook')"
      ],
      "id": "ae5e0bbf"
    },
    {
      "cell_type": "code",
      "execution_count": null,
      "metadata": {},
      "outputs": [],
      "source": [
        "wishlist"
      ],
      "id": "768aa659"
    },
    {
      "cell_type": "markdown",
      "metadata": {},
      "source": [
        "## 연산\n",
        "\n",
        "`-` in 연산자"
      ],
      "id": "fe90e53f-42f0-4e10-91a7-00fe639393df"
    },
    {
      "cell_type": "code",
      "execution_count": null,
      "metadata": {},
      "outputs": [],
      "source": [
        "wishlist={'desktop', 'ipad', 'notebook'}\n",
        "wishlist"
      ],
      "id": "10d1708b"
    },
    {
      "cell_type": "code",
      "execution_count": null,
      "metadata": {},
      "outputs": [],
      "source": [
        "'notebook' in wishlist"
      ],
      "id": "43077b1a"
    },
    {
      "cell_type": "markdown",
      "metadata": {},
      "source": [
        "-   참고로 `in`연산자는 집합에서만 쓰는것은 아님\n",
        "\n",
        "`-` 합집합, 교집합, 차집합"
      ],
      "id": "e2b3e24d-8939-4564-a8f8-495fcd5d12b7"
    },
    {
      "cell_type": "code",
      "execution_count": null,
      "metadata": {},
      "outputs": [],
      "source": [
        "day1 = {'notebook','desktop'}\n",
        "day2 = {'notebook','ipad'}"
      ],
      "id": "358ae9e0"
    },
    {
      "cell_type": "code",
      "execution_count": null,
      "metadata": {},
      "outputs": [],
      "source": [
        "day1 | day2 # 합집합"
      ],
      "id": "f23defef"
    },
    {
      "cell_type": "code",
      "execution_count": null,
      "metadata": {},
      "outputs": [],
      "source": [
        "day1 & day2 # 교집합"
      ],
      "id": "788765a5"
    },
    {
      "cell_type": "code",
      "execution_count": null,
      "metadata": {},
      "outputs": [],
      "source": [
        "day1 - day2 # 차집합 "
      ],
      "id": "99361a25"
    },
    {
      "cell_type": "code",
      "execution_count": null,
      "metadata": {},
      "outputs": [],
      "source": [
        "day2 - day1 # 차집합"
      ],
      "id": "5a4e0fa2"
    },
    {
      "cell_type": "markdown",
      "metadata": {},
      "source": [
        "`-` 부분집합"
      ],
      "id": "50f4e0d1-dced-4129-a42f-ee4cce65904c"
    },
    {
      "cell_type": "code",
      "execution_count": null,
      "metadata": {},
      "outputs": [],
      "source": [
        "day1 = {'notebook', 'desktop'}\n",
        "day2 = day1 | {'ipad'} "
      ],
      "id": "e9baf29b"
    },
    {
      "cell_type": "code",
      "execution_count": null,
      "metadata": {},
      "outputs": [],
      "source": [
        "day1 < day2  # day1는 day2의 부분집합인가? "
      ],
      "id": "ee507933"
    },
    {
      "cell_type": "code",
      "execution_count": null,
      "metadata": {},
      "outputs": [],
      "source": [
        "day2 < day1"
      ],
      "id": "c86ab110"
    },
    {
      "cell_type": "markdown",
      "metadata": {},
      "source": [
        "## 집합 특수기능\n",
        "\n",
        "`-` 합집합"
      ],
      "id": "5f7f28eb-6dd9-4c89-8e78-f208feb0fca2"
    },
    {
      "cell_type": "code",
      "execution_count": null,
      "metadata": {},
      "outputs": [],
      "source": [
        "day1 = {'notebook', 'desktop'}\n",
        "day2 = {'notebook','ipad'}"
      ],
      "id": "e04edb6f"
    },
    {
      "cell_type": "code",
      "execution_count": null,
      "metadata": {},
      "outputs": [],
      "source": [
        "day1.union(day2)"
      ],
      "id": "71f52e73"
    },
    {
      "cell_type": "markdown",
      "metadata": {},
      "source": [
        "`-` 나머지 메소드는 스스로 찾아보세요\n",
        "\n",
        "## for문과 set"
      ],
      "id": "73e586c7-fe93-4a8c-aa47-c7bb60d785e0"
    },
    {
      "cell_type": "code",
      "execution_count": null,
      "metadata": {},
      "outputs": [],
      "source": [
        "day1 = {'notebook', 'desktop'}\n",
        "day2 = {'notebook', 'ipad'}"
      ],
      "id": "1392101f"
    },
    {
      "cell_type": "code",
      "execution_count": null,
      "metadata": {},
      "outputs": [
        {
          "output_type": "stream",
          "name": "stdout",
          "text": [
            "notebook\n",
            "ipad\n",
            "desktop"
          ]
        }
      ],
      "source": [
        "for i in day1|day2: \n",
        "    print(i)"
      ],
      "id": "e7e89236"
    },
    {
      "cell_type": "markdown",
      "metadata": {},
      "source": [
        "# 집합 고급내용\n",
        "\n",
        "## set 컴프리헨션\n",
        "\n",
        "`-` 예시1"
      ],
      "id": "dae66e0d-620c-40cb-aad9-24ebbb2e7a6d"
    },
    {
      "cell_type": "code",
      "execution_count": null,
      "metadata": {},
      "outputs": [],
      "source": [
        "lst = [1,2,1,1,3,4,5]\n",
        "{l for l in lst}"
      ],
      "id": "06371846"
    },
    {
      "cell_type": "markdown",
      "metadata": {},
      "source": [
        "## 유니크한 원소\n",
        "\n",
        "`-` 예제1: 아래의 list는 모두 몇 종류의 문자로 이루어져 있는가?"
      ],
      "id": "9908c74a-aa2e-4d0e-bad5-7e9f1d2b2820"
    },
    {
      "cell_type": "code",
      "execution_count": null,
      "metadata": {},
      "outputs": [],
      "source": [
        "lst=list('asdfasssdfdsasdfasdfasdfasdf')"
      ],
      "id": "874db77e"
    },
    {
      "cell_type": "markdown",
      "metadata": {},
      "source": [
        "(풀이)"
      ],
      "id": "0824f53a-3166-4eaa-a1ff-144e62568778"
    },
    {
      "cell_type": "code",
      "execution_count": null,
      "metadata": {},
      "outputs": [],
      "source": [
        "set(lst)"
      ],
      "id": "6dccff65"
    },
    {
      "cell_type": "code",
      "execution_count": null,
      "metadata": {},
      "outputs": [],
      "source": [
        "len(set(lst))"
      ],
      "id": "9c8bd1df"
    },
    {
      "cell_type": "markdown",
      "metadata": {},
      "source": [
        "`-` 예제2: 아래의 txt에서 어떠한 종류의 문자가 각각 몇번씩 사용되었는지\n",
        "빈도를 구하는 코드를 작성하라."
      ],
      "id": "370cc15c-bde5-467c-aee1-f441d38fc2c0"
    },
    {
      "cell_type": "code",
      "execution_count": null,
      "metadata": {},
      "outputs": [],
      "source": [
        "txt = 'asdkflkjahsdlkjfhlaksglkjdhflkgjhlskdfjhglkajhsdlkfjhalsdkf'\n",
        "txt"
      ],
      "id": "45ab58ec"
    },
    {
      "cell_type": "markdown",
      "metadata": {},
      "source": [
        "(풀이)"
      ],
      "id": "e8049d89-27d6-4a9e-9987-dbbadfb5320a"
    },
    {
      "cell_type": "code",
      "execution_count": null,
      "metadata": {},
      "outputs": [],
      "source": [
        "{k:list(txt).count(k) for k in set(txt)}"
      ],
      "id": "47493e64"
    },
    {
      "cell_type": "markdown",
      "metadata": {},
      "source": [
        "# Quiz\n",
        "\n",
        "`1`. 아래와 같은 맵핑을 고려하자.\n",
        "\n",
        "| 문자 | 숫자 |\n",
        "|:----:|:----:|\n",
        "|  a   |  1   |\n",
        "|  b   |  0   |\n",
        "\n",
        "이를 딕셔너리로 표현하면 아래와 같다."
      ],
      "id": "478ea85a-f081-473e-8c17-72907e7d9347"
    },
    {
      "cell_type": "code",
      "execution_count": null,
      "metadata": {},
      "outputs": [],
      "source": [
        "dct = {'a':0, 'b':1} "
      ],
      "id": "1462130a"
    },
    {
      "cell_type": "markdown",
      "metadata": {},
      "source": [
        "위 규칙에 따라서 아래의 리스트의 원소를 문자로 각각 변환하라."
      ],
      "id": "d71b56af-8bd3-474d-b007-a7e33913080b"
    },
    {
      "cell_type": "code",
      "execution_count": null,
      "metadata": {},
      "outputs": [],
      "source": [
        "lst = [1, 0, 1, 0, 1, 0, 1, 1, 1, 1, 0, 0, 1, 0, 1]"
      ],
      "id": "707619c1"
    },
    {
      "cell_type": "markdown",
      "metadata": {},
      "source": [
        "``` python\n",
        "# 출력은 아래와 같아야 한다. \n",
        "['b', 'a', 'b', 'a', 'b', 'a', 'b', 'b', 'b', 'b', 'a', 'a', 'b', 'a', 'b']\n",
        "```\n",
        "\n",
        "`2`. 아래와 같은 맵핑을 고려하자.\n",
        "\n",
        "|     월     |   의미   |\n",
        "|:----------:|:--------:|\n",
        "|    1,2     | 겨울방학 |\n",
        "|  3,4,5,6   |  1학기   |\n",
        "|    7,8     | 여름방학 |\n",
        "| 9,10,11,12 |  2학기   |\n",
        "\n",
        "이러한 규칙에 맞게 아래의 리스트를 적절한 문자열로 변환하라."
      ],
      "id": "25ef8190-90da-4419-b9dc-ac0b094e358b"
    },
    {
      "cell_type": "code",
      "execution_count": null,
      "metadata": {},
      "outputs": [],
      "source": [
        "month = [1,2,2,3,4,5,6,7,8,9,9,10,11,12] "
      ],
      "id": "91404712"
    },
    {
      "cell_type": "markdown",
      "metadata": {},
      "source": [
        "``` python\n",
        "## 출력은 아래와 같아야 한다. \n",
        "['겨울방학', '겨울방학', '겨울방학', '1학기', '1학기', '1학기', '1학기', '여름방학', '여름방학', '2학기', '2학기', '2학기', '2학기', '2학기']\n",
        "```\n",
        "\n",
        "`합성변환` 3-5.\n",
        "\n",
        "아래와 같은 맵핑을 고려하자.\n",
        "\n",
        "(규칙1)\n",
        "\n",
        "|   문자   | 숫자 |\n",
        "|:--------:|:----:|\n",
        "|  바나나  |  0   |\n",
        "|   사과   |  1   |\n",
        "| 오토바이 |  2   |\n",
        "|  자동차  |  3   |\n",
        "|  자전거  |  4   |\n",
        "\n",
        "(규칙2)\n",
        "\n",
        "|  아이템  | 카테고리 |\n",
        "|:--------:|:--------:|\n",
        "|  바나나  |   과일   |\n",
        "|   사과   |   과일   |\n",
        "| 오토바이 |   탈것   |\n",
        "|  자동차  |   탈것   |\n",
        "|  자전거  |   탈것   |\n",
        "\n",
        "각각의 규칙을 나타내는 딕셔너리는 아래와 같이 선언되어있다고 하자."
      ],
      "id": "c7629a7f-aa1f-4af6-925f-8f4429914597"
    },
    {
      "cell_type": "code",
      "execution_count": null,
      "metadata": {},
      "outputs": [],
      "source": [
        "dct1 = {'바나나':0, '사과':1, '오토바이':2, '자동차':3, '자전거':4} \n",
        "dct2 = {'과일':['바나나','사과'], '탈것':['오토바이','자동차','자전거']} "
      ],
      "id": "5a658452"
    },
    {
      "cell_type": "markdown",
      "metadata": {},
      "source": [
        "`3`. 규칙1를 이용하여 아래와 같은 리스트를 변환하는 함수를 구현하고 그\n",
        "함수를 `f`라 선언하라.\n",
        "\n",
        "``` python\n",
        "# 입력 \n",
        "[0,1,0,1,4]\n",
        "\n",
        "# 출력 \n",
        "['바나나', '사과', '바나나', '사과', '자전거']\n",
        "```\n",
        "\n",
        "(사용예시)"
      ],
      "id": "cb87c648-7d45-4276-87e2-bfabe082bf3f"
    },
    {
      "cell_type": "code",
      "execution_count": null,
      "metadata": {},
      "outputs": [],
      "source": [
        "f([0,1,0,1,4])"
      ],
      "id": "1728f060"
    },
    {
      "cell_type": "markdown",
      "metadata": {},
      "source": [
        "`4`. 규칙2를 이용하여 아래와 같이 리스트를 변환하는 함수를 구현하고 그\n",
        "함수를 `g`라고 선언하라.\n",
        "\n",
        "``` python\n",
        "# 입력 \n",
        "['바나나','바나나','바나나','자동차']\n",
        "\n",
        "# 출력 \n",
        "['과일','과일','과일','탈것']\n",
        "```\n",
        "\n",
        "(사용예시)"
      ],
      "id": "2d43b7dd-56cb-4ad2-b888-0c477ba34034"
    },
    {
      "cell_type": "code",
      "execution_count": null,
      "metadata": {},
      "outputs": [],
      "source": [
        "g(['바나나','바나나','바나나','자동차'])"
      ],
      "id": "49bb0231"
    },
    {
      "cell_type": "markdown",
      "metadata": {},
      "source": [
        "`5`. 규칙1-2를 이용하여 아래와 같은 숫자로 이루어진 입력을 ‘과일’,\n",
        "‘탈것’ 중 하나로 바꾸는 코드를 구현하라.\n",
        "\n",
        "``` python\n",
        "# 입력 \n",
        "[0,1,0,1,3,4,2,2,3,4,1,0]\n",
        "\n",
        "# 출력 \n",
        "['과일', '과일', '과일', '과일', '탈것', '탈것', '탈것', '탈것', '탈것', '탈것', '과일', '과일']\n",
        "```\n",
        "\n",
        "**hint** $g(f(x))$ 를 이용하라.\n",
        "\n",
        "`Oxford-III`: 6–10 //\n",
        "[reference](https://www.robots.ox.ac.uk/~vgg/data/pets/)\n",
        "\n",
        "아래는 이미지 파일명들이 저장된 string을 불러오는 코드이다."
      ],
      "id": "dd70ae68-9a53-415a-97b5-abfa2798e56b"
    },
    {
      "cell_type": "code",
      "execution_count": null,
      "metadata": {},
      "outputs": [],
      "source": [
        "import requests\n",
        "url = 'https://raw.githubusercontent.com/guebin/PP2023/main/posts/01_PythonBasic/Oxford-IIIT.txt'\n",
        "txt = requests.get(url).content.decode()"
      ],
      "id": "39624242"
    },
    {
      "cell_type": "markdown",
      "metadata": {},
      "source": [
        "이미지파일이 저장된 형식은 아래와 같다.\n",
        "\n",
        "    Abyssinian_1.jpg\n",
        "    British_Shorthair_129.jpg\n",
        "\n",
        "**note**: `British_Shorthair`와 같이 종 이름 사이에 `_`가 들어있는\n",
        "경우도 있음.\n",
        "\n",
        "`6`. txt를 적당히 변환하여 아래와 같은 list를 만들어라."
      ],
      "id": "eb98ea99-ff79-4dc6-95dc-254e1519cd07"
    },
    {
      "cell_type": "code",
      "execution_count": null,
      "metadata": {},
      "outputs": [],
      "source": [
        "lst[:10],lst[810:820]"
      ],
      "id": "a937c918"
    },
    {
      "cell_type": "markdown",
      "metadata": {},
      "source": [
        "**hint1**"
      ],
      "id": "91c60138-69ff-47b2-89db-3ddd372034d3"
    },
    {
      "cell_type": "code",
      "execution_count": null,
      "metadata": {},
      "outputs": [],
      "source": [
        "'Abyssinian_1.jpg\\nAbyssinian_10.jpg'.split('\\n')"
      ],
      "id": "5e60fe6d"
    },
    {
      "cell_type": "markdown",
      "metadata": {},
      "source": [
        "**hint2**"
      ],
      "id": "b69aaacb-edd3-4ca9-ac0c-a3b7e509a2e5"
    },
    {
      "cell_type": "code",
      "execution_count": null,
      "metadata": {},
      "outputs": [],
      "source": [
        "''.join(['British', 'Shorthair'])"
      ],
      "id": "4e232868"
    },
    {
      "cell_type": "code",
      "execution_count": null,
      "metadata": {},
      "outputs": [],
      "source": [
        "''.join(['Abyssinian'])"
      ],
      "id": "338df9e9"
    },
    {
      "cell_type": "markdown",
      "metadata": {},
      "source": [
        "`7`. 그림파일에는 총 몇가지 종류의 고양이와, 몇가지 종류의 강아지가\n",
        "있는가?\n",
        "\n",
        "**note:** 고양이사진은 대문자로 시작하고, 강아지 사진은 소문자로\n",
        "시작한다.\n",
        "\n",
        "**note**: 12종의 고양이, 25종의 강아지가 있음\n",
        "\n",
        "(풀이)"
      ],
      "id": "a914f856-e8a1-4e43-b9f3-e3fea258a912"
    },
    {
      "cell_type": "code",
      "execution_count": null,
      "metadata": {},
      "outputs": [],
      "source": [
        "[s[0].isupper() for s in set(lst)].count(True) # 고양이 12"
      ],
      "id": "e5473d68"
    },
    {
      "cell_type": "code",
      "execution_count": null,
      "metadata": {},
      "outputs": [],
      "source": [
        "[s[0].isupper() for s in set(lst)].count(False) # 강아지 25 "
      ],
      "id": "12799628"
    },
    {
      "cell_type": "markdown",
      "metadata": {},
      "source": [
        "`8`. 아래는 1번의 결과로 얻어진 lst의 첫 10개의 원소와 마지막 10개의\n",
        "원소이다."
      ],
      "id": "6288e207-0ac9-44b6-9987-1abc65882184"
    },
    {
      "cell_type": "code",
      "execution_count": null,
      "metadata": {},
      "outputs": [],
      "source": [
        "lst[:10], lst[-10:]"
      ],
      "id": "c0b60fdb"
    },
    {
      "cell_type": "markdown",
      "metadata": {},
      "source": [
        "적당한 변환을 정의하여 lst를 아래와 같이 바꾸어라."
      ],
      "id": "8c85e7a0-2799-4f25-9a4d-4c401865cdd2"
    },
    {
      "cell_type": "code",
      "execution_count": null,
      "metadata": {},
      "outputs": [],
      "source": [
        "lst2[:10], lst2[-10:] # 바뀐 lst"
      ],
      "id": "d4940366"
    },
    {
      "cell_type": "markdown",
      "metadata": {},
      "source": [
        "`9`. txt에는 강아지사진과 고양이사진이 모두 몇장씩 들어있는가?"
      ],
      "id": "acf665c6-fd7e-47c8-90d8-4e373a92ee34"
    },
    {
      "cell_type": "code",
      "execution_count": null,
      "metadata": {},
      "outputs": [],
      "source": [
        "## 출력예시 "
      ],
      "id": "146cdb4e"
    },
    {
      "cell_type": "markdown",
      "metadata": {},
      "source": [
        "`10`. txt에 각 종별로 몇장의 사진이 있는지 조사하라."
      ],
      "id": "1ccddf82-f6f7-40ac-9e63-9e51231c1ca4"
    },
    {
      "cell_type": "code",
      "execution_count": null,
      "metadata": {},
      "outputs": [],
      "source": [
        "## 출력예시"
      ],
      "id": "8f34758e"
    }
  ],
  "nbformat": 4,
  "nbformat_minor": 5,
  "metadata": {
    "kernelspec": {
      "name": "python3",
      "display_name": "Python 3 (ipykernel)",
      "language": "python"
    },
    "language_info": {
      "name": "python",
      "codemirror_mode": {
        "name": "ipython",
        "version": "3"
      },
      "file_extension": ".py",
      "mimetype": "text/x-python",
      "nbconvert_exporter": "python",
      "pygments_lexer": "ipython3",
      "version": "3.10.12"
    }
  }
}