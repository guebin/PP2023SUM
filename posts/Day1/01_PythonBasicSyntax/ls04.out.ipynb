{
  "cells": [
    {
      "cell_type": "markdown",
      "metadata": {},
      "source": [
        "# Lesson 04: 파이썬의 자료형 III (dict, set)\n",
        "\n",
        "최규빈  \n",
        "2023-06-24\n",
        "\n",
        "<a href=\"https://colab.research.google.com/github/guebin/PP2023SUM/blob/main/posts/Day1/01_PythonBasicSyntax/ls04.ipynb\"><img src=\"https://colab.research.google.com/assets/colab-badge.svg\" style=\"text-align: left\"></a>\n",
        "\n",
        "# 딕셔너리 기본내용\n",
        "\n",
        "## intro: str, list, tuple 정리\n",
        "\n",
        "`-` str, list, tuple은 모두 시퀀스형이라는 공통점이 있다. $\\to$ 원소의\n",
        "위치번호로 인덱싱이 가능"
      ],
      "id": "2bf0e2fc-561c-44ff-990a-3698dd5e9c0a"
    },
    {
      "cell_type": "code",
      "execution_count": null,
      "metadata": {},
      "outputs": [],
      "source": [
        "lst = [1,2,3,4]"
      ],
      "id": "0a004a5c"
    },
    {
      "cell_type": "code",
      "execution_count": null,
      "metadata": {},
      "outputs": [],
      "source": [
        "lst[0] # 위치번호=0"
      ],
      "id": "d573fc0e"
    },
    {
      "cell_type": "code",
      "execution_count": null,
      "metadata": {},
      "outputs": [],
      "source": [
        "lst[-1] # 위치번호=-1"
      ],
      "id": "fc202bcb"
    },
    {
      "cell_type": "markdown",
      "metadata": {},
      "source": [
        "`-` str, list, tuple은 차이점도 존재함. 잠깐 정리해보자.\n",
        "\n",
        "***시퀀스형의 카테고리***\n",
        "\n",
        "-   컨테니어형: list, tuple\n",
        "-   균일형: str\n",
        "-   가변형: list\n",
        "-   불변형: tuple, str\n",
        "\n",
        "***표로 정리하면***\n",
        "\n",
        "|        | 컨테니어형 | 균일형 |\n",
        "|:------:|:----------:|:------:|\n",
        "| 가변형 |    list    |   .    |\n",
        "| 불변형 |   tuple    |  str   |\n",
        "\n",
        "`-` 시퀀스형이 아닌 1차원 자료형도 있을까? 원소의 위치번호로 인덱싱이\n",
        "불가능한 자료형\n",
        "\n",
        "`-` 왜 이런게 필요할까?\n",
        "\n",
        "-   벡터에서 원소를 뽑는것은 정보의 모임에서 정보를 검색하는 것과 같다.\n",
        "-   정보를 `순서`대로 나열한뒤에 그 `순서`를 이용하여 검색하는 방법은\n",
        "    유용하다.\n",
        "-   하지만 경우에 따라서는 `키워드`를 기억해서 그 `키워드`를 바탕으로\n",
        "    정보에 접근하는 방법이 유용할 수 있다.\n",
        "\n",
        "***카카오톡 대화내용검색***\n",
        "\n",
        "(상황1) `오늘아침`에 와이프가 `뭔가`를 카톡으로 부탁했었음. 그런데 그\n",
        "`뭔가`가 기억안남.\n",
        "\n",
        "(상황2) `개강전에` 동료교수와 함께 `저녁약속`을 카톡으로 잡았었음.\n",
        "그런데 그게 언제인지 기억안남.\n",
        "\n",
        "(상황3) `오늘아침` 동료교수와 함께 `점심약속`을 카톡으로 잡았었음.\n",
        "그런데 그 장소가 기억나지 않음.\n",
        "\n",
        "`-` 순서대로 정리된 자료를 검색할때는 시퀀스형이 유리하다. 그런데\n",
        "키워드로 검색하고 싶을 경우는 딕셔너리 타입이 유리하다.\n",
        "\n",
        "## 선언\n",
        "\n",
        "`-` 방법1: 가장 일반적"
      ],
      "id": "a095471e-5982-4839-ab03-a441fbb191e7"
    },
    {
      "cell_type": "code",
      "execution_count": null,
      "metadata": {},
      "outputs": [],
      "source": [
        "dct = {'guebin':49, 'hanni':80}\n",
        "dct"
      ],
      "id": "82b8c4a1"
    },
    {
      "cell_type": "markdown",
      "metadata": {},
      "source": [
        "`-` 방법2: `dict()` 이용"
      ],
      "id": "5c778c25-311a-4391-b740-4e1f40a39db1"
    },
    {
      "cell_type": "code",
      "execution_count": null,
      "metadata": {},
      "outputs": [],
      "source": [
        "dct = dict(guebin=49, hanni=80)\n",
        "dct"
      ],
      "id": "33c920f4"
    },
    {
      "cell_type": "markdown",
      "metadata": {},
      "source": [
        "`-` 방법3: 중첩된 리스트를 만든 뒤에 형태변환"
      ],
      "id": "05c5fec2-a660-43cb-9f7e-b0259c6e7789"
    },
    {
      "cell_type": "code",
      "execution_count": null,
      "metadata": {},
      "outputs": [],
      "source": [
        "_lst = [['guebin',49],['hanni',80]]\n",
        "_lst "
      ],
      "id": "2249d116"
    },
    {
      "cell_type": "code",
      "execution_count": null,
      "metadata": {},
      "outputs": [],
      "source": [
        "dict(_lst)"
      ],
      "id": "e96f955a"
    },
    {
      "cell_type": "markdown",
      "metadata": {},
      "source": [
        "`-` 방법4: 중첩된 튜플을 만든 뒤에 형태변환"
      ],
      "id": "aee24617-18ed-4464-8170-36dfd24fc993"
    },
    {
      "cell_type": "code",
      "execution_count": null,
      "metadata": {},
      "outputs": [],
      "source": [
        "_tpl = ('guebin',49), ('hanni',80)\n",
        "_tpl"
      ],
      "id": "efd283bf"
    },
    {
      "cell_type": "code",
      "execution_count": null,
      "metadata": {},
      "outputs": [],
      "source": [
        "dict(_tpl)"
      ],
      "id": "d0f6ea74"
    },
    {
      "cell_type": "markdown",
      "metadata": {},
      "source": [
        "## 원소추출\n",
        "\n",
        "`-` 원소의 위치로 추출할 수 없고, key로 추출해야 한다."
      ],
      "id": "fd9cf0eb-45f9-412b-b50e-8dfa7e906485"
    },
    {
      "cell_type": "code",
      "execution_count": null,
      "metadata": {},
      "outputs": [],
      "source": [
        "dct = {'guebin':49, 'hanni':80}\n",
        "dct"
      ],
      "id": "feecfeb1"
    },
    {
      "cell_type": "markdown",
      "metadata": {},
      "source": [
        "guebin의 점수를 추출하고 싶다면?"
      ],
      "id": "e8d3882b-102e-43de-bc9e-213a7e0298e7"
    },
    {
      "cell_type": "code",
      "execution_count": null,
      "metadata": {},
      "outputs": [],
      "source": [
        "dct['guebin']"
      ],
      "id": "1f76b4d8"
    },
    {
      "cell_type": "markdown",
      "metadata": {},
      "source": [
        "`-` 만약에 dict가 아니라 list로 정보를 저장했다면?\n",
        "\n",
        "(예제) 아래와 같은 리스트에서 guebin의 점수를 추출하고 싶다면?"
      ],
      "id": "c9789961-0c26-4789-a0e0-e353c74e42e4"
    },
    {
      "cell_type": "code",
      "execution_count": null,
      "metadata": {},
      "outputs": [],
      "source": [
        "lst=[['guebin',49],['hanni',80]]\n",
        "lst"
      ],
      "id": "3f1c71dc"
    },
    {
      "cell_type": "markdown",
      "metadata": {},
      "source": [
        "(풀이1)"
      ],
      "id": "9ba29aac-a65c-412f-952a-e8f6f1de235e"
    },
    {
      "cell_type": "code",
      "execution_count": null,
      "metadata": {},
      "outputs": [],
      "source": [
        "lst[0][1] # guebin의 점수를 출력하란 의미"
      ],
      "id": "203261fa"
    },
    {
      "cell_type": "markdown",
      "metadata": {},
      "source": [
        "(풀이2) – 진짜 최악"
      ],
      "id": "74670d91-b963-4814-a016-c5d3f4de1562"
    },
    {
      "cell_type": "code",
      "execution_count": null,
      "metadata": {},
      "outputs": [],
      "source": [
        "[lst[i][1] for i in range(len(lst)) if lst[i][0] == 'guebin']"
      ],
      "id": "8c795e13"
    },
    {
      "cell_type": "markdown",
      "metadata": {},
      "source": [
        "(풀이3) – 덜 최악"
      ],
      "id": "fa98ca89-1f9d-49fc-8c1b-a01a5b484dc5"
    },
    {
      "cell_type": "code",
      "execution_count": null,
      "metadata": {},
      "outputs": [],
      "source": [
        "[score for name,score in lst if name == 'guebin']"
      ],
      "id": "de98cd04"
    },
    {
      "cell_type": "markdown",
      "metadata": {},
      "source": [
        "`-` ’guebin’의 점수를 추출하는 코드 비교"
      ],
      "id": "cb566e0e-04e3-43e8-baeb-20c342320100"
    },
    {
      "cell_type": "code",
      "execution_count": null,
      "metadata": {},
      "outputs": [],
      "source": [
        "dct['guebin'] # 코드1: 단순하고, 가독성있음"
      ],
      "id": "adf59e59"
    },
    {
      "cell_type": "code",
      "execution_count": null,
      "metadata": {},
      "outputs": [],
      "source": [
        "lst[0][1] # 코드2: 단순하지만, 가독성이 있는건 아님"
      ],
      "id": "d7605808"
    },
    {
      "cell_type": "code",
      "execution_count": null,
      "metadata": {},
      "outputs": [],
      "source": [
        "[lst[i][1] for i in range(len(lst)) if lst[i][0] =='guebin'] # 코드3: 단순하지도 않고, 가독성도 없음."
      ],
      "id": "8b08f88e"
    },
    {
      "cell_type": "code",
      "execution_count": null,
      "metadata": {},
      "outputs": [],
      "source": [
        "[score for name,score in lst if name=='guebin' ] # 코드4: 단순하지 않지만, 가독성은 있음"
      ],
      "id": "8e07a60b"
    },
    {
      "cell_type": "markdown",
      "metadata": {},
      "source": [
        "## 원소추가, 변경, 삭제"
      ],
      "id": "a2453b87-f0cf-44fb-b642-957a5280d3c4"
    },
    {
      "cell_type": "code",
      "execution_count": null,
      "metadata": {},
      "outputs": [],
      "source": [
        "dct={'guebin':49, 'hanni':80}\n",
        "dct"
      ],
      "id": "171ce1d9"
    },
    {
      "cell_type": "markdown",
      "metadata": {},
      "source": [
        "`-` 원소에 접근: guebin의 점수 출력"
      ],
      "id": "a6ff7b84-0d44-408f-be2e-04e4bd70ec4b"
    },
    {
      "cell_type": "code",
      "execution_count": null,
      "metadata": {},
      "outputs": [],
      "source": [
        "dct['guebin']"
      ],
      "id": "abdfe838"
    },
    {
      "cell_type": "markdown",
      "metadata": {},
      "source": [
        "`-` 추가: hynn학생의 점수를 추가"
      ],
      "id": "c9dbc87e-c37b-4ec8-a0a9-bb785cac6e1d"
    },
    {
      "cell_type": "code",
      "execution_count": null,
      "metadata": {},
      "outputs": [],
      "source": [
        "dct['hynn'] = 99"
      ],
      "id": "84860ec5"
    },
    {
      "cell_type": "code",
      "execution_count": null,
      "metadata": {},
      "outputs": [],
      "source": [
        "dct"
      ],
      "id": "24aded48"
    },
    {
      "cell_type": "markdown",
      "metadata": {},
      "source": [
        "`-` 변경: hanni의 점수를 변경"
      ],
      "id": "25192f59-6f40-4217-8e69-c0ea44340cf6"
    },
    {
      "cell_type": "code",
      "execution_count": null,
      "metadata": {},
      "outputs": [],
      "source": [
        "dct['hanni'] = 100 "
      ],
      "id": "41211859"
    },
    {
      "cell_type": "code",
      "execution_count": null,
      "metadata": {},
      "outputs": [],
      "source": [
        "dct"
      ],
      "id": "2732e570"
    },
    {
      "cell_type": "markdown",
      "metadata": {},
      "source": [
        "`-` 삭제\n",
        "\n",
        "(방법1)"
      ],
      "id": "348ad299-ccb8-4649-adae-d7d1c267a014"
    },
    {
      "cell_type": "code",
      "execution_count": null,
      "metadata": {},
      "outputs": [],
      "source": [
        "dct={'guebin':49, 'hanni':80, 'hynn':99}\n",
        "del dct['guebin']  \n",
        "dct"
      ],
      "id": "e8686af7"
    },
    {
      "cell_type": "markdown",
      "metadata": {},
      "source": [
        "(방법2)"
      ],
      "id": "1ffcd017-2519-4013-895f-7d3aeada9bff"
    },
    {
      "cell_type": "code",
      "execution_count": null,
      "metadata": {},
      "outputs": [],
      "source": [
        "dct={'guebin':49, 'hanni':80, 'hynn':99} \n",
        "dct.pop('guebin')"
      ],
      "id": "b5e9a1c3"
    },
    {
      "cell_type": "code",
      "execution_count": null,
      "metadata": {},
      "outputs": [],
      "source": [
        "dct"
      ],
      "id": "01ed9212"
    },
    {
      "cell_type": "markdown",
      "metadata": {},
      "source": [
        "`-` 참고로 리스트였다면 이러한 삭제작업역시 비효율적이었을 것임"
      ],
      "id": "819acd01-3521-4d7d-b513-14491f592c89"
    },
    {
      "cell_type": "code",
      "execution_count": null,
      "metadata": {},
      "outputs": [],
      "source": [
        "lst = [['guebin',49],['hanni',80],['hynn',99]] \n",
        "lst"
      ],
      "id": "a64ede40"
    },
    {
      "cell_type": "markdown",
      "metadata": {},
      "source": [
        "guebin의 점수를 삭제하려면?"
      ],
      "id": "e1b90be5-7a3c-42d1-a386-5f8e996f3234"
    },
    {
      "cell_type": "code",
      "execution_count": null,
      "metadata": {},
      "outputs": [],
      "source": [
        "[[name,score] for name,score in lst if name != 'guebin']"
      ],
      "id": "809e9372"
    },
    {
      "cell_type": "markdown",
      "metadata": {},
      "source": [
        "## 연산\n",
        "\n",
        "`-` 하나있어요.."
      ],
      "id": "fd26bf6e-4814-4fae-9e67-0ade22446e37"
    },
    {
      "cell_type": "code",
      "execution_count": null,
      "metadata": {},
      "outputs": [],
      "source": [
        "dct = {'guebin':49, 'hanni':80} \n",
        "dct"
      ],
      "id": "c6f4533c"
    },
    {
      "cell_type": "code",
      "execution_count": null,
      "metadata": {},
      "outputs": [],
      "source": [
        "'guebin' in dct"
      ],
      "id": "31feebc8"
    },
    {
      "cell_type": "code",
      "execution_count": null,
      "metadata": {},
      "outputs": [],
      "source": [
        "'hanni' in dct"
      ],
      "id": "ef7e8653"
    },
    {
      "cell_type": "code",
      "execution_count": null,
      "metadata": {},
      "outputs": [],
      "source": [
        "'hynn' in dct"
      ],
      "id": "9a24c8e5"
    },
    {
      "cell_type": "markdown",
      "metadata": {},
      "source": [
        "`-` in은 사실 다른자료형도 가능했음\n",
        "\n",
        "(관찰1)"
      ],
      "id": "cbbac672-c6f7-4752-b13b-fc1dce15529e"
    },
    {
      "cell_type": "code",
      "execution_count": null,
      "metadata": {},
      "outputs": [],
      "source": [
        "'a' in 'guebin' "
      ],
      "id": "08545413"
    },
    {
      "cell_type": "code",
      "execution_count": null,
      "metadata": {},
      "outputs": [],
      "source": [
        "'b' in 'guebin' "
      ],
      "id": "d4a0c835"
    },
    {
      "cell_type": "code",
      "execution_count": null,
      "metadata": {},
      "outputs": [],
      "source": [
        "'c' in 'guebin' "
      ],
      "id": "b1d1aed4"
    },
    {
      "cell_type": "markdown",
      "metadata": {},
      "source": [
        "(관찰2)"
      ],
      "id": "07d9dfb4-871a-4475-a627-96cc3a930abc"
    },
    {
      "cell_type": "code",
      "execution_count": null,
      "metadata": {},
      "outputs": [],
      "source": [
        "tpl = 1,2,3 \n",
        "tpl"
      ],
      "id": "411a3af6"
    },
    {
      "cell_type": "code",
      "execution_count": null,
      "metadata": {},
      "outputs": [],
      "source": [
        "1 in tpl"
      ],
      "id": "7ac29a71"
    },
    {
      "cell_type": "code",
      "execution_count": null,
      "metadata": {},
      "outputs": [],
      "source": [
        "4 in tpl"
      ],
      "id": "0388d08e"
    },
    {
      "cell_type": "markdown",
      "metadata": {},
      "source": [
        "(관찰3)"
      ],
      "id": "8072ccde-40bf-4646-8205-1edfc63688fb"
    },
    {
      "cell_type": "code",
      "execution_count": null,
      "metadata": {},
      "outputs": [],
      "source": [
        "lst = [['guebin',49],['hanni',80],['hynn',99]] \n",
        "lst"
      ],
      "id": "577d2248"
    },
    {
      "cell_type": "code",
      "execution_count": null,
      "metadata": {},
      "outputs": [],
      "source": [
        "['guebin',49] in lst"
      ],
      "id": "67be7517"
    },
    {
      "cell_type": "markdown",
      "metadata": {},
      "source": [
        "`-` in연산자가 dict형에 사용되면 key를 기준으로 True, False를 판단한다.\n",
        "\n",
        "## 딕셔너리 특수기능\n",
        "\n",
        "**(pop)**"
      ],
      "id": "e24630cb-1410-49e9-a17b-047a83d1c793"
    },
    {
      "cell_type": "code",
      "execution_count": null,
      "metadata": {},
      "outputs": [],
      "source": [
        "dct = {'guebin':49, 'hanni':80} \n",
        "dct.pop('hanni')\n",
        "dct"
      ],
      "id": "b0224b8d"
    },
    {
      "cell_type": "markdown",
      "metadata": {},
      "source": [
        "**(get)**"
      ],
      "id": "820967d3-f632-4ac7-a5bf-31c5a2eb3ea8"
    },
    {
      "cell_type": "code",
      "execution_count": null,
      "metadata": {},
      "outputs": [],
      "source": [
        "dct = {'guebin':49, 'hanni':80} \n",
        "dct"
      ],
      "id": "e37bec1e"
    },
    {
      "cell_type": "code",
      "execution_count": null,
      "metadata": {},
      "outputs": [],
      "source": [
        "dct.get('guebin') "
      ],
      "id": "29820be9"
    },
    {
      "cell_type": "markdown",
      "metadata": {},
      "source": [
        "아래와 같은 기능"
      ],
      "id": "bf18a02f-d4ac-4d7e-9bf1-cab704f1d626"
    },
    {
      "cell_type": "code",
      "execution_count": null,
      "metadata": {},
      "outputs": [],
      "source": [
        "dct['guebin']"
      ],
      "id": "d33791fd"
    },
    {
      "cell_type": "markdown",
      "metadata": {},
      "source": [
        "미묘한 차이점이 존재함"
      ],
      "id": "690b382d-713b-421d-b47d-3f6146166e06"
    },
    {
      "cell_type": "code",
      "execution_count": null,
      "metadata": {},
      "outputs": [],
      "source": [
        "dct['hynn'] # hynn이 없어서 키에러 출력, 그런 key는 없다.. "
      ],
      "id": "f1b3245e"
    },
    {
      "cell_type": "code",
      "execution_count": null,
      "metadata": {},
      "outputs": [],
      "source": [
        "dct.get('hynn') # hynn이 없으면 아무것도 출력안함 "
      ],
      "id": "d3a6c21b"
    },
    {
      "cell_type": "markdown",
      "metadata": {},
      "source": [
        "**(keys,values,items)**\n",
        "\n",
        "`-` .keys()는 딕셔너리의 키를 리턴한다."
      ],
      "id": "4a1b9425-8267-41dd-ba23-c516f01d005b"
    },
    {
      "cell_type": "code",
      "execution_count": null,
      "metadata": {},
      "outputs": [],
      "source": [
        "dct = {'guebin':49, 'hanni':80} \n",
        "dct"
      ],
      "id": "8c1704ab"
    },
    {
      "cell_type": "code",
      "execution_count": null,
      "metadata": {},
      "outputs": [],
      "source": [
        "_keys=dct.keys()\n",
        "_keys"
      ],
      "id": "9486d194"
    },
    {
      "cell_type": "code",
      "execution_count": null,
      "metadata": {},
      "outputs": [],
      "source": [
        "type(_keys) # 리턴된 자료형은 이상한것임"
      ],
      "id": "f9d4436d"
    },
    {
      "cell_type": "code",
      "execution_count": null,
      "metadata": {},
      "outputs": [],
      "source": [
        "list(_keys) # 아무튼 그 이상한 자료형도 리스트화 가능 "
      ],
      "id": "99fa6146"
    },
    {
      "cell_type": "markdown",
      "metadata": {},
      "source": [
        "`-` .values()는 딕셔너리의 값들을 리턴한다."
      ],
      "id": "2e1d31e9-3722-4053-8486-0f879433e603"
    },
    {
      "cell_type": "code",
      "execution_count": null,
      "metadata": {},
      "outputs": [],
      "source": [
        "_values = dct.values()\n",
        "_values "
      ],
      "id": "fc9a7692"
    },
    {
      "cell_type": "code",
      "execution_count": null,
      "metadata": {},
      "outputs": [],
      "source": [
        "type(_values)"
      ],
      "id": "7c26c3f7"
    },
    {
      "cell_type": "code",
      "execution_count": null,
      "metadata": {},
      "outputs": [],
      "source": [
        "list(_values)"
      ],
      "id": "068516fa"
    },
    {
      "cell_type": "markdown",
      "metadata": {},
      "source": [
        "`-` .items()는 딕셔너리의 (키,값)을 리턴한다."
      ],
      "id": "6ae00bc8-bca9-4772-ae53-16d21885d6d2"
    },
    {
      "cell_type": "code",
      "execution_count": null,
      "metadata": {},
      "outputs": [],
      "source": [
        "_items = dct.items()\n",
        "_items "
      ],
      "id": "10b11b90"
    },
    {
      "cell_type": "code",
      "execution_count": null,
      "metadata": {},
      "outputs": [],
      "source": [
        "type(_items)"
      ],
      "id": "f5827635"
    },
    {
      "cell_type": "code",
      "execution_count": null,
      "metadata": {},
      "outputs": [],
      "source": [
        "list(_items)"
      ],
      "id": "da10cc8c"
    },
    {
      "cell_type": "markdown",
      "metadata": {},
      "source": [
        "## for문과 dict ($\\star$)"
      ],
      "id": "5b8a6388-2b41-4953-9007-d213b2852d1b"
    },
    {
      "cell_type": "code",
      "execution_count": null,
      "metadata": {},
      "outputs": [],
      "source": [
        "dct = {'guebin': 49, 'hanni': 80}\n",
        "dct"
      ],
      "id": "b8cd6316"
    },
    {
      "cell_type": "markdown",
      "metadata": {},
      "source": [
        "(예시1)"
      ],
      "id": "370aafa3-a756-4e8b-971a-c3e953c6a7b8"
    },
    {
      "cell_type": "code",
      "execution_count": null,
      "metadata": {},
      "outputs": [
        {
          "output_type": "stream",
          "name": "stdout",
          "text": [
            "guebin\n",
            "hanni"
          ]
        }
      ],
      "source": [
        "for k in dct.keys():\n",
        "    print(k)"
      ],
      "id": "a77cdba7"
    },
    {
      "cell_type": "code",
      "execution_count": null,
      "metadata": {},
      "outputs": [
        {
          "output_type": "stream",
          "name": "stdout",
          "text": [
            "guebin\n",
            "hanni"
          ]
        }
      ],
      "source": [
        "for k in dct:\n",
        "    print(k)"
      ],
      "id": "ad24d788"
    },
    {
      "cell_type": "markdown",
      "metadata": {},
      "source": [
        "-   딕셔너리 그자체도 for문에 넣을 수 있다.\n",
        "-   k에는 value가 삭제되어 들어간다. (즉 key만)\n",
        "-   결과를 보면 dct 대신에 dct.keys()와 list(dct)를 넣었을때와 결과가\n",
        "    같다.\n",
        "\n",
        "> Note: list(dct) 하면 key만 리턴된다.\n",
        "\n",
        "(예시2)"
      ],
      "id": "406476bf-8117-4064-b1ab-1c9d7e31bf0c"
    },
    {
      "cell_type": "code",
      "execution_count": null,
      "metadata": {},
      "outputs": [
        {
          "output_type": "stream",
          "name": "stdout",
          "text": [
            "49\n",
            "80"
          ]
        }
      ],
      "source": [
        "for v in dct.values():\n",
        "    print(v)"
      ],
      "id": "975b8241"
    },
    {
      "cell_type": "markdown",
      "metadata": {},
      "source": [
        "(예시3)"
      ],
      "id": "03080c93-f346-438e-9395-025d5fb7122f"
    },
    {
      "cell_type": "code",
      "execution_count": null,
      "metadata": {},
      "outputs": [
        {
          "output_type": "stream",
          "name": "stdout",
          "text": [
            "('guebin', 49)\n",
            "('hanni', 80)"
          ]
        }
      ],
      "source": [
        "for i in dct.items():\n",
        "    print(i)"
      ],
      "id": "94be34c8"
    },
    {
      "cell_type": "markdown",
      "metadata": {},
      "source": [
        "(예시4)"
      ],
      "id": "b8a3eb4c-eaf6-4741-93e8-1beb328b8da7"
    },
    {
      "cell_type": "code",
      "execution_count": null,
      "metadata": {},
      "outputs": [
        {
          "output_type": "stream",
          "name": "stdout",
          "text": [
            "guebin 49\n",
            "hanni 80"
          ]
        }
      ],
      "source": [
        "for k,v in dct.items():\n",
        "    print(k,v)"
      ],
      "id": "4372add4"
    },
    {
      "cell_type": "markdown",
      "metadata": {},
      "source": [
        "(예시5) – {}의 중간고사 점수는 {}점 입니다."
      ],
      "id": "1f82dbf3-d637-4f16-8345-b6f06884258a"
    },
    {
      "cell_type": "code",
      "execution_count": null,
      "metadata": {},
      "outputs": [
        {
          "output_type": "stream",
          "name": "stdout",
          "text": [
            "guebin의 중간고사 점수는 49점 입니다.\n",
            "hanni의 중간고사 점수는 80점 입니다."
          ]
        }
      ],
      "source": [
        "for name,score in dct.items():\n",
        "    print('{}의 중간고사 점수는 {}점 입니다.'.format(name,score))"
      ],
      "id": "7f00bc9c"
    },
    {
      "cell_type": "markdown",
      "metadata": {},
      "source": [
        "# 딕셔너리 고급내용 ($\\star$)\n",
        "\n",
        "## dict에서 key혹은 value만 뽑아내기\n",
        "\n",
        "`-` 예제: 아래의 dict에서 key만 뽑아내고 싶다."
      ],
      "id": "7d5940c9-4194-4ebc-8d2f-82a6c8bd7d0b"
    },
    {
      "cell_type": "code",
      "execution_count": null,
      "metadata": {},
      "outputs": [],
      "source": [
        "dct = {'guebin':49, 'hanni':80} "
      ],
      "id": "56cdcfc3"
    },
    {
      "cell_type": "markdown",
      "metadata": {},
      "source": [
        "(풀이1)"
      ],
      "id": "b1b5d6a1-639c-4134-902d-54e5c4f7aa49"
    },
    {
      "cell_type": "code",
      "execution_count": null,
      "metadata": {},
      "outputs": [],
      "source": [
        "list(dct)"
      ],
      "id": "af42e466"
    },
    {
      "cell_type": "markdown",
      "metadata": {},
      "source": [
        "(풀이2)"
      ],
      "id": "64d0cd40-ddf9-4f9c-a4ca-79effb54f0d3"
    },
    {
      "cell_type": "code",
      "execution_count": null,
      "metadata": {},
      "outputs": [],
      "source": [
        "list(dct.keys())"
      ],
      "id": "12ac1fd1"
    },
    {
      "cell_type": "markdown",
      "metadata": {},
      "source": [
        "(풀이3)"
      ],
      "id": "ab9c5852-5813-4878-b320-687078aeecd9"
    },
    {
      "cell_type": "code",
      "execution_count": null,
      "metadata": {},
      "outputs": [],
      "source": [
        "[k for k in dct]"
      ],
      "id": "238d9b6e"
    },
    {
      "cell_type": "markdown",
      "metadata": {},
      "source": [
        "(풀이4)"
      ],
      "id": "427a068d-d93b-4c67-9fa3-b81c48040efe"
    },
    {
      "cell_type": "code",
      "execution_count": null,
      "metadata": {},
      "outputs": [],
      "source": [
        "[k for k,v in dct.items()]"
      ],
      "id": "8cf4dd9f"
    },
    {
      "cell_type": "markdown",
      "metadata": {},
      "source": [
        "`-` 예제: 아래의 dict에서 value만 뽑아내고 싶다."
      ],
      "id": "41cb228e-f0a6-4fb1-a7b8-175d80b24d5d"
    },
    {
      "cell_type": "code",
      "execution_count": null,
      "metadata": {},
      "outputs": [],
      "source": [
        "dct = {'guebin':49, 'hanni':80} "
      ],
      "id": "3a3aa56c"
    },
    {
      "cell_type": "markdown",
      "metadata": {},
      "source": [
        "(풀이1)"
      ],
      "id": "ae08079c-6f01-40c9-88d0-753bfdba46fc"
    },
    {
      "cell_type": "code",
      "execution_count": null,
      "metadata": {},
      "outputs": [],
      "source": [
        "list(dct.values())"
      ],
      "id": "1a4cb5ac"
    },
    {
      "cell_type": "markdown",
      "metadata": {},
      "source": [
        "(풀이2)"
      ],
      "id": "12bf3308-ba5e-42af-bafd-9c1e5b934aa3"
    },
    {
      "cell_type": "code",
      "execution_count": null,
      "metadata": {},
      "outputs": [],
      "source": [
        "[dct[k] for k in dct]"
      ],
      "id": "75002311"
    },
    {
      "cell_type": "markdown",
      "metadata": {},
      "source": [
        "(풀이3)"
      ],
      "id": "99b778b5-d8c4-4822-aeae-c8c7ffada52b"
    },
    {
      "cell_type": "code",
      "execution_count": null,
      "metadata": {},
      "outputs": [],
      "source": [
        "[v for v in dct.values()]"
      ],
      "id": "9ecb534c"
    },
    {
      "cell_type": "markdown",
      "metadata": {},
      "source": [
        "(풀이4)"
      ],
      "id": "90129a35-bda9-4f74-8bb7-e7afb01c1cfc"
    },
    {
      "cell_type": "code",
      "execution_count": null,
      "metadata": {},
      "outputs": [],
      "source": [
        "[v for k,v in dct.items()]"
      ],
      "id": "ce57ce22"
    },
    {
      "cell_type": "markdown",
      "metadata": {},
      "source": [
        "## key의 조건\n",
        "\n",
        "`-` 조건1: 키로 쓸 수 있는 자료형은 정해져 있다.\n",
        "\n",
        "-   int O, float O, bool O, str O, list X, tuple O, dict X, set X\n",
        "\n",
        "(예시1) dict의 키로 int를 사용"
      ],
      "id": "bb591103-66e3-434f-8a88-75d88e9b8434"
    },
    {
      "cell_type": "code",
      "execution_count": null,
      "metadata": {},
      "outputs": [],
      "source": [
        "dct = {0:[1,2,3], 1:[2,3,4]} \n",
        "dct[0] # 인덱싱 하는거 같네?"
      ],
      "id": "1a67adfe"
    },
    {
      "cell_type": "code",
      "execution_count": null,
      "metadata": {},
      "outputs": [],
      "source": [
        "dct[-1] # 속았지?"
      ],
      "id": "fd3ab1d5"
    },
    {
      "cell_type": "markdown",
      "metadata": {},
      "source": [
        "(예시2) dict의 키로 float을 사용 \\<– 이렇게 쓰는 사람 본적이 없어요"
      ],
      "id": "7ae93460-28c9-4a9d-ac49-9edb434dc218"
    },
    {
      "cell_type": "code",
      "execution_count": null,
      "metadata": {},
      "outputs": [],
      "source": [
        "dct = {3.14:'π', 2.178:'e'}\n",
        "dct[3.14]"
      ],
      "id": "d8be4b1d"
    },
    {
      "cell_type": "markdown",
      "metadata": {},
      "source": [
        "(예시3) dict의 키로 bool을 사용"
      ],
      "id": "a9763dc2-b2bf-463e-8533-41a5f83a8a2c"
    },
    {
      "cell_type": "code",
      "execution_count": null,
      "metadata": {},
      "outputs": [],
      "source": [
        "dct = {True: '참이다', False: '거짓이다.'} \n",
        "dct"
      ],
      "id": "2e3dcb2a"
    },
    {
      "cell_type": "code",
      "execution_count": null,
      "metadata": {},
      "outputs": [],
      "source": [
        "dct[1<2]"
      ],
      "id": "2a4c4c3c"
    },
    {
      "cell_type": "markdown",
      "metadata": {},
      "source": [
        "(예시4) dict의 키로 str을 사용 ($\\star$)"
      ],
      "id": "fe05f3df-5bbb-41db-9ee1-c0732b782cde"
    },
    {
      "cell_type": "code",
      "execution_count": null,
      "metadata": {},
      "outputs": [],
      "source": [
        "dct = {'guebin':[10,20,30,30], 'hanni':[10,20,25,40]}\n",
        "dct['guebin']"
      ],
      "id": "b4c5668d"
    },
    {
      "cell_type": "markdown",
      "metadata": {},
      "source": [
        "(예시5) dict의 키로 list를 사용 $\\Rightarrow$ 불가능"
      ],
      "id": "865ecd83-8cfd-4283-9e8b-130b91ffd4bf"
    },
    {
      "cell_type": "code",
      "execution_count": null,
      "metadata": {},
      "outputs": [],
      "source": [
        "dct = {[10,20,30,40]: 'guebin', [10,20,25,40]: 'hanni'} \n",
        "dct"
      ],
      "id": "c61a7d03"
    },
    {
      "cell_type": "markdown",
      "metadata": {},
      "source": [
        "(예시6) dict의 키로 tuple 사용 ($\\star$)"
      ],
      "id": "0812dd6f-c686-4860-b124-1c13ae6117ce"
    },
    {
      "cell_type": "code",
      "execution_count": null,
      "metadata": {},
      "outputs": [],
      "source": [
        "dct = {(10,20,30,40): 'guebin', (10,20,25,40): 'hanni'} \n",
        "dct"
      ],
      "id": "4b2a6fb7"
    },
    {
      "cell_type": "code",
      "execution_count": null,
      "metadata": {},
      "outputs": [],
      "source": [
        "dct[(10,20,30,40)]"
      ],
      "id": "377ced44"
    },
    {
      "cell_type": "code",
      "execution_count": null,
      "metadata": {},
      "outputs": [],
      "source": [
        "dct[10,20,30,40]"
      ],
      "id": "16ee3422"
    },
    {
      "cell_type": "markdown",
      "metadata": {},
      "source": [
        "(예시7) dict의 키로 dict사용 $\\Rightarrow$ 불가능"
      ],
      "id": "374c9c6d-c332-4fc3-9a39-2678b1c008e9"
    },
    {
      "cell_type": "code",
      "execution_count": null,
      "metadata": {},
      "outputs": [],
      "source": [
        "dct = {{0:1}: 'guebin', {1:2}: 'hanni'} \n",
        "dct"
      ],
      "id": "41bc98b6"
    },
    {
      "cell_type": "markdown",
      "metadata": {},
      "source": [
        "(예시8) dict의 키로 set사용 $\\Rightarrow$ 불가능"
      ],
      "id": "028e87d3-5fe4-4c00-9beb-d2bf3adc1b3f"
    },
    {
      "cell_type": "code",
      "execution_count": null,
      "metadata": {},
      "outputs": [],
      "source": [
        "dct = {{'샌드위치','딸기우유'}:'점심', {'불고기','된장찌개','김','콩자반'}: '저녁'}\n",
        "dct"
      ],
      "id": "b6141cc1"
    },
    {
      "cell_type": "markdown",
      "metadata": {},
      "source": [
        "`-` 조건2: 키는 중복해서 쓸 수 없다.\n",
        "\n",
        "(예시1)"
      ],
      "id": "6dabc875-fbe0-49f2-83f7-ba5e30987093"
    },
    {
      "cell_type": "code",
      "execution_count": null,
      "metadata": {},
      "outputs": [],
      "source": [
        "dct = {0:[1,2,3], 1:[2,3,4], 0:[3,4,5]} # 이렇게 쓰지 마세요\n",
        "dct "
      ],
      "id": "adb22e72"
    },
    {
      "cell_type": "markdown",
      "metadata": {},
      "source": [
        "## value의 조건\n",
        "\n",
        "`-` 없다… $\\Rightarrow$ dict는 컨테이너형!!\n",
        "\n",
        "## 바꿔치기 (1)\n",
        "\n",
        "`-` 예제1: 아래와 같은 리스트가 있다고 하자."
      ],
      "id": "f2bc598b-f13d-4852-8e00-f4e9445d8f67"
    },
    {
      "cell_type": "code",
      "execution_count": null,
      "metadata": {},
      "outputs": [],
      "source": [
        "lst = list('abcd'*2)\n",
        "lst"
      ],
      "id": "41ffa621"
    },
    {
      "cell_type": "markdown",
      "metadata": {},
      "source": [
        "아래의 규칙에 의하여 lst의 각 원소의 값을 바꾸고 싶다고 하자. 이를\n",
        "구현하는 코드를 작성하라.\n",
        "\n",
        "| 변환전 |   변환후    |\n",
        "|:------:|:-----------:|\n",
        "|  ‘a’   | \\[1,0,0,0\\] |\n",
        "|  ‘b’   | \\[0,1,0,0\\] |\n",
        "|  ‘c’   | \\[0,0,1,0\\] |\n",
        "|  ‘d’   | \\[0,0,0,1\\] |\n",
        "\n",
        "hint: 아래의 dct를 이용할 것"
      ],
      "id": "99f4a8e0-9fcb-45fb-ae1a-c7e38037d13b"
    },
    {
      "cell_type": "code",
      "execution_count": null,
      "metadata": {},
      "outputs": [],
      "source": [
        "lst = list('abcd'*2)\n",
        "lst"
      ],
      "id": "d3567e5f"
    },
    {
      "cell_type": "code",
      "execution_count": null,
      "metadata": {},
      "outputs": [],
      "source": [
        "dct = {'a':[1,0,0,0], 'b':[0,1,0,0], 'c':[0,0,1,0], 'd':[0,0,0,1]}\n",
        "dct"
      ],
      "id": "adbd715d"
    },
    {
      "cell_type": "markdown",
      "metadata": {},
      "source": [
        "(풀이)"
      ],
      "id": "5d863353-c381-423a-b926-12550b90a7a3"
    },
    {
      "cell_type": "code",
      "execution_count": null,
      "metadata": {},
      "outputs": [],
      "source": [
        "[dct[x] for x in lst]"
      ],
      "id": "384b66c9"
    },
    {
      "cell_type": "markdown",
      "metadata": {},
      "source": [
        "`-` 예제2: 예제1을 역변환하라."
      ],
      "id": "e495a879-4275-41d7-bd82-da250c940c76"
    },
    {
      "cell_type": "code",
      "execution_count": null,
      "metadata": {},
      "outputs": [],
      "source": [
        "dct = {'a':[1,0,0,0], 'b':[0,1,0,0], 'c':[0,0,1,0], 'd':[0,0,0,1]}"
      ],
      "id": "76d5db87"
    },
    {
      "cell_type": "code",
      "execution_count": null,
      "metadata": {},
      "outputs": [],
      "source": [
        "lst= [[1, 0, 0, 0],\n",
        "      [0, 1, 0, 0],\n",
        "      [0, 0, 1, 0],\n",
        "      [0, 0, 0, 1],\n",
        "      [1, 0, 0, 0],\n",
        "      [0, 1, 0, 0],\n",
        "      [0, 0, 1, 0],\n",
        "      [0, 0, 0, 1]]\n",
        "lst "
      ],
      "id": "a637e6c9"
    },
    {
      "cell_type": "markdown",
      "metadata": {},
      "source": [
        "(풀이)"
      ],
      "id": "ef975a57-66b9-4660-ae41-12adc4a2bcf7"
    },
    {
      "cell_type": "code",
      "execution_count": null,
      "metadata": {},
      "outputs": [],
      "source": [
        "[x for l in lst for x,y in dct.items() if y == l]"
      ],
      "id": "36f7966e"
    },
    {
      "cell_type": "markdown",
      "metadata": {},
      "source": [
        "## 바꿔치기 (2)\n",
        "\n",
        "`-` 예제1: 아래와 같은 리스트를 고려하자."
      ],
      "id": "18ead4f7-ee4e-4d8c-be81-75241929d95e"
    },
    {
      "cell_type": "code",
      "execution_count": null,
      "metadata": {},
      "outputs": [],
      "source": [
        "lst = ['딸기','사과','바나나','딸기','사과','오토바이','자동차','버스','기차','오토바이','자동차']"
      ],
      "id": "018e7986"
    },
    {
      "cell_type": "markdown",
      "metadata": {},
      "source": [
        "다음의 맵핑규칙에 따라서 위의 리스트의 원소를 바꾸어라.\n",
        "\n",
        "|  변환전  | 변환후 |\n",
        "|:--------:|:------:|\n",
        "|   딸기   |  과일  |\n",
        "|   사과   |  과일  |\n",
        "|  바나나  |  과일  |\n",
        "| 오토바이 |  탈것  |\n",
        "|  자동차  |  탈것  |\n",
        "|   버스   |  탈것  |\n",
        "|   기차   |  탈것  |\n",
        "\n",
        "(풀이)"
      ],
      "id": "e97d0717-4b84-42b7-9431-42a886336bea"
    },
    {
      "cell_type": "code",
      "execution_count": null,
      "metadata": {},
      "outputs": [],
      "source": [
        "dct = {'과일':['딸기','사과','바나나'], '탈것':['오토바이','자동차','버스','기차']}\n",
        "dct"
      ],
      "id": "3b1443c0"
    },
    {
      "cell_type": "code",
      "execution_count": null,
      "metadata": {},
      "outputs": [],
      "source": [
        "[x for l in lst for x,y in dct.items() if l in y]"
      ],
      "id": "166ef1e0"
    },
    {
      "cell_type": "markdown",
      "metadata": {},
      "source": [
        "# 집합 기본내용\n",
        "\n",
        "## 선언"
      ],
      "id": "bb9a1ce0-2259-4897-933c-fbb7f9458505"
    },
    {
      "cell_type": "code",
      "execution_count": null,
      "metadata": {},
      "outputs": [],
      "source": [
        "wishlist={'notebook','desktop'}\n",
        "wishlist"
      ],
      "id": "2c0d3111"
    },
    {
      "cell_type": "markdown",
      "metadata": {},
      "source": [
        "## 원소추출\n",
        "\n",
        "`-` 일단 인덱스로는 못합니다."
      ],
      "id": "31c508a5-2289-4af2-a61d-96d780b6bedd"
    },
    {
      "cell_type": "code",
      "execution_count": null,
      "metadata": {},
      "outputs": [],
      "source": [
        "wishlist={'notebook','desktop'}\n",
        "wishlist[0]"
      ],
      "id": "6c4f7cc0"
    },
    {
      "cell_type": "markdown",
      "metadata": {},
      "source": [
        "`-` 딱히 하는 방법이 없어요.. 그리고 이걸 하는 의미가 없어요.. (원소에\n",
        "접근해서 뭐하려고??)\n",
        "\n",
        "## 원소추가\n",
        "\n",
        "`-` 이건 의미가 있음"
      ],
      "id": "da17aedb-8863-4321-837f-68fc790f4b47"
    },
    {
      "cell_type": "code",
      "execution_count": null,
      "metadata": {},
      "outputs": [],
      "source": [
        "wishlist={'notebook','desktop'} \n",
        "wishlist"
      ],
      "id": "152b1f83"
    },
    {
      "cell_type": "code",
      "execution_count": null,
      "metadata": {},
      "outputs": [],
      "source": [
        "wishlist.add('ipad')\n",
        "wishlist"
      ],
      "id": "7f47b3a2"
    },
    {
      "cell_type": "code",
      "execution_count": null,
      "metadata": {},
      "outputs": [],
      "source": [
        "wishlist.add('notebook') # 이미 원소로 있는건 추가되지 않음. \n",
        "wishlist"
      ],
      "id": "38f8ba25"
    },
    {
      "cell_type": "markdown",
      "metadata": {},
      "source": [
        "## 원소삭제"
      ],
      "id": "fddac4a7-83b3-4ff8-8d52-c50283587ade"
    },
    {
      "cell_type": "code",
      "execution_count": null,
      "metadata": {},
      "outputs": [],
      "source": [
        "wishlist={'desktop', 'ipad', 'notebook'}\n",
        "wishlist"
      ],
      "id": "88a4e681"
    },
    {
      "cell_type": "code",
      "execution_count": null,
      "metadata": {},
      "outputs": [],
      "source": [
        "wishlist.remove('notebook')"
      ],
      "id": "ae5e0bbf"
    },
    {
      "cell_type": "code",
      "execution_count": null,
      "metadata": {},
      "outputs": [],
      "source": [
        "wishlist"
      ],
      "id": "768aa659"
    },
    {
      "cell_type": "markdown",
      "metadata": {},
      "source": [
        "## 연산\n",
        "\n",
        "`-` in 연산자"
      ],
      "id": "82376b33-f11e-45e1-be0f-f2d392175642"
    },
    {
      "cell_type": "code",
      "execution_count": null,
      "metadata": {},
      "outputs": [],
      "source": [
        "wishlist={'desktop', 'ipad', 'notebook'}\n",
        "wishlist"
      ],
      "id": "10d1708b"
    },
    {
      "cell_type": "code",
      "execution_count": null,
      "metadata": {},
      "outputs": [],
      "source": [
        "'notebook' in wishlist"
      ],
      "id": "43077b1a"
    },
    {
      "cell_type": "markdown",
      "metadata": {},
      "source": [
        "-   참고로 `in`연산자는 집합에서만 쓰는것은 아님\n",
        "\n",
        "`-` 합집합, 교집합, 차집합"
      ],
      "id": "6ccf2afc-604b-453e-927d-94a1101efa20"
    },
    {
      "cell_type": "code",
      "execution_count": null,
      "metadata": {},
      "outputs": [],
      "source": [
        "day1 = {'notebook','desktop'}\n",
        "day2 = {'notebook','ipad'}"
      ],
      "id": "358ae9e0"
    },
    {
      "cell_type": "code",
      "execution_count": null,
      "metadata": {},
      "outputs": [],
      "source": [
        "day1 | day2 # 합집합"
      ],
      "id": "f23defef"
    },
    {
      "cell_type": "code",
      "execution_count": null,
      "metadata": {},
      "outputs": [],
      "source": [
        "day1 & day2 # 교집합"
      ],
      "id": "788765a5"
    },
    {
      "cell_type": "code",
      "execution_count": null,
      "metadata": {},
      "outputs": [],
      "source": [
        "day1 - day2 # 차집합 "
      ],
      "id": "99361a25"
    },
    {
      "cell_type": "code",
      "execution_count": null,
      "metadata": {},
      "outputs": [],
      "source": [
        "day2 - day1 # 차집합"
      ],
      "id": "5a4e0fa2"
    },
    {
      "cell_type": "markdown",
      "metadata": {},
      "source": [
        "`-` 부분집합"
      ],
      "id": "7ec3b8b4-ba3b-45fc-b02f-ef65a2a0a0b6"
    },
    {
      "cell_type": "code",
      "execution_count": null,
      "metadata": {},
      "outputs": [],
      "source": [
        "day1 = {'notebook', 'desktop'}\n",
        "day2 = day1 | {'ipad'} "
      ],
      "id": "e9baf29b"
    },
    {
      "cell_type": "code",
      "execution_count": null,
      "metadata": {},
      "outputs": [],
      "source": [
        "day1 < day2  # day1는 day2의 부분집합인가? "
      ],
      "id": "ee507933"
    },
    {
      "cell_type": "code",
      "execution_count": null,
      "metadata": {},
      "outputs": [],
      "source": [
        "day2 < day1"
      ],
      "id": "c86ab110"
    },
    {
      "cell_type": "markdown",
      "metadata": {},
      "source": [
        "## 집합 특수기능\n",
        "\n",
        "`-` 합집합"
      ],
      "id": "463b470c-fdbf-452c-918f-299189528d79"
    },
    {
      "cell_type": "code",
      "execution_count": null,
      "metadata": {},
      "outputs": [],
      "source": [
        "day1 = {'notebook', 'desktop'}\n",
        "day2 = {'notebook','ipad'}"
      ],
      "id": "e04edb6f"
    },
    {
      "cell_type": "code",
      "execution_count": null,
      "metadata": {},
      "outputs": [],
      "source": [
        "day1.union(day2)"
      ],
      "id": "71f52e73"
    },
    {
      "cell_type": "markdown",
      "metadata": {},
      "source": [
        "`-` 나머지 메소드는 스스로 찾아보세요\n",
        "\n",
        "## for문과 set"
      ],
      "id": "7e58b333-247a-4096-a403-32d2f03281a2"
    },
    {
      "cell_type": "code",
      "execution_count": null,
      "metadata": {},
      "outputs": [],
      "source": [
        "day1 = {'notebook', 'desktop'}\n",
        "day2 = {'notebook', 'ipad'}"
      ],
      "id": "1392101f"
    },
    {
      "cell_type": "code",
      "execution_count": null,
      "metadata": {},
      "outputs": [
        {
          "output_type": "stream",
          "name": "stdout",
          "text": [
            "notebook\n",
            "ipad\n",
            "desktop"
          ]
        }
      ],
      "source": [
        "for i in day1|day2: \n",
        "    print(i)"
      ],
      "id": "e7e89236"
    },
    {
      "cell_type": "markdown",
      "metadata": {},
      "source": [
        "# 집합 고급내용\n",
        "\n",
        "## set 컴프리헨션\n",
        "\n",
        "`-` 예시1"
      ],
      "id": "7a2af660-e70c-4fca-9eff-325816f0c7de"
    },
    {
      "cell_type": "code",
      "execution_count": null,
      "metadata": {},
      "outputs": [],
      "source": [
        "lst = [1,2,1,1,3,4,5]\n",
        "{l for l in lst}"
      ],
      "id": "06371846"
    },
    {
      "cell_type": "markdown",
      "metadata": {},
      "source": [
        "## 유니크한 원소\n",
        "\n",
        "`-` 예제1: 아래의 list는 모두 몇 종류의 문자로 이루어져 있는가?"
      ],
      "id": "3b370672-6019-4afe-b0df-b7842925dab8"
    },
    {
      "cell_type": "code",
      "execution_count": null,
      "metadata": {},
      "outputs": [],
      "source": [
        "lst=list('asdfasssdfdsasdfasdfasdfasdf')"
      ],
      "id": "874db77e"
    },
    {
      "cell_type": "markdown",
      "metadata": {},
      "source": [
        "(풀이)"
      ],
      "id": "03245e6b-8655-4e83-86e4-47d112144047"
    },
    {
      "cell_type": "code",
      "execution_count": null,
      "metadata": {},
      "outputs": [],
      "source": [
        "set(lst)"
      ],
      "id": "6dccff65"
    },
    {
      "cell_type": "code",
      "execution_count": null,
      "metadata": {},
      "outputs": [],
      "source": [
        "len(set(lst))"
      ],
      "id": "9c8bd1df"
    },
    {
      "cell_type": "markdown",
      "metadata": {},
      "source": [
        "`-` 예제2: 아래의 txt에서 어떠한 종류의 문자가 각각 몇번씩 사용되었는지\n",
        "빈도를 구하는 코드를 작성하라."
      ],
      "id": "4bbf942c-1dee-43e9-ab80-64683a5e9c4e"
    },
    {
      "cell_type": "code",
      "execution_count": null,
      "metadata": {},
      "outputs": [],
      "source": [
        "txt = 'asdkflkjahsdlkjfhlaksglkjdhflkgjhlskdfjhglkajhsdlkfjhalsdkf'\n",
        "txt"
      ],
      "id": "45ab58ec"
    },
    {
      "cell_type": "markdown",
      "metadata": {},
      "source": [
        "(풀이)"
      ],
      "id": "754f2284-a7ce-4662-839a-9a90e431a59e"
    },
    {
      "cell_type": "code",
      "execution_count": null,
      "metadata": {},
      "outputs": [],
      "source": [
        "{k:list(txt).count(k) for k in set(txt)}"
      ],
      "id": "47493e64"
    },
    {
      "cell_type": "markdown",
      "metadata": {},
      "source": [
        "# Quiz\n",
        "\n",
        "`1`. 아래와 같은 맵핑을 고려하자.\n",
        "\n",
        "| 문자 | 숫자 |\n",
        "|:----:|:----:|\n",
        "|  a   |  1   |\n",
        "|  b   |  0   |\n",
        "\n",
        "이를 딕셔너리로 표현하면 아래와 같다."
      ],
      "id": "3f6197f8-953e-4a36-9bfb-08e32973b9cc"
    },
    {
      "cell_type": "code",
      "execution_count": null,
      "metadata": {},
      "outputs": [],
      "source": [
        "dct = {'a':0, 'b':1} "
      ],
      "id": "1462130a"
    },
    {
      "cell_type": "markdown",
      "metadata": {},
      "source": [
        "위 규칙에 따라서 아래의 리스트의 원소를 문자로 각각 변환하라."
      ],
      "id": "e993f6ea-e988-4d31-a528-830c37111af5"
    },
    {
      "cell_type": "code",
      "execution_count": null,
      "metadata": {},
      "outputs": [],
      "source": [
        "lst = [1, 0, 1, 0, 1, 0, 1, 1, 1, 1, 0, 0, 1, 0, 1]"
      ],
      "id": "707619c1"
    },
    {
      "cell_type": "markdown",
      "metadata": {},
      "source": [
        "``` python\n",
        "# 출력은 아래와 같아야 한다. \n",
        "['b', 'a', 'b', 'a', 'b', 'a', 'b', 'b', 'b', 'b', 'a', 'a', 'b', 'a', 'b']\n",
        "```\n",
        "\n",
        "`2`. 아래와 같은 맵핑을 고려하자.\n",
        "\n",
        "|     월     |   의미   |\n",
        "|:----------:|:--------:|\n",
        "|    1,2     | 겨울방학 |\n",
        "|  3,4,5,6   |  1학기   |\n",
        "|    7,8     | 여름방학 |\n",
        "| 9,10,11,12 |  2학기   |\n",
        "\n",
        "이러한 규칙에 맞게 아래의 리스트를 적절한 문자열로 변환하라."
      ],
      "id": "f60b4e07-1091-483a-91b9-b831e4d3956a"
    },
    {
      "cell_type": "code",
      "execution_count": null,
      "metadata": {},
      "outputs": [],
      "source": [
        "month = [1,2,2,3,4,5,6,7,8,9,9,10,11,12] "
      ],
      "id": "91404712"
    },
    {
      "cell_type": "markdown",
      "metadata": {},
      "source": [
        "``` python\n",
        "## 출력은 아래와 같아야 한다. \n",
        "['겨울방학', '겨울방학', '겨울방학', '1학기', '1학기', '1학기', '1학기', '여름방학', '여름방학', '2학기', '2학기', '2학기', '2학기', '2학기']\n",
        "```\n",
        "\n",
        "`합성변환` 3-5.\n",
        "\n",
        "아래와 같은 맵핑을 고려하자.\n",
        "\n",
        "(규칙1)\n",
        "\n",
        "|   문자   | 숫자 |\n",
        "|:--------:|:----:|\n",
        "|  바나나  |  0   |\n",
        "|   사과   |  1   |\n",
        "| 오토바이 |  2   |\n",
        "|  자동차  |  3   |\n",
        "|  자전거  |  4   |\n",
        "\n",
        "(규칙2)\n",
        "\n",
        "|  아이템  | 카테고리 |\n",
        "|:--------:|:--------:|\n",
        "|  바나나  |   과일   |\n",
        "|   사과   |   과일   |\n",
        "| 오토바이 |   탈것   |\n",
        "|  자동차  |   탈것   |\n",
        "|  자전거  |   탈것   |\n",
        "\n",
        "각각의 규칙을 나타내는 딕셔너리는 아래와 같이 선언되어있다고 하자."
      ],
      "id": "7b568005-79d1-49ad-9da3-dcc4fce7c958"
    },
    {
      "cell_type": "code",
      "execution_count": null,
      "metadata": {},
      "outputs": [],
      "source": [
        "dct1 = {'바나나':0, '사과':1, '오토바이':2, '자동차':3, '자전거':4} \n",
        "dct2 = {'과일':['바나나','사과'], '탈것':['오토바이','자동차','자전거']} "
      ],
      "id": "5a658452"
    },
    {
      "cell_type": "markdown",
      "metadata": {},
      "source": [
        "`3`. 규칙1를 이용하여 아래와 같은 리스트를 변환하는 함수를 구현하고 그\n",
        "함수를 `f`라 선언하라.\n",
        "\n",
        "``` python\n",
        "# 입력 \n",
        "[0,1,0,1,4]\n",
        "\n",
        "# 출력 \n",
        "['바나나', '사과', '바나나', '사과', '자전거']\n",
        "```\n",
        "\n",
        "(사용예시)"
      ],
      "id": "6f17d769-0b55-4349-9317-37607ffb718a"
    },
    {
      "cell_type": "code",
      "execution_count": null,
      "metadata": {},
      "outputs": [],
      "source": [
        "f([0,1,0,1,4])"
      ],
      "id": "1728f060"
    },
    {
      "cell_type": "markdown",
      "metadata": {},
      "source": [
        "`4`. 규칙2를 이용하여 아래와 같이 리스트를 변환하는 함수를 구현하고 그\n",
        "함수를 `g`라고 선언하라.\n",
        "\n",
        "``` python\n",
        "# 입력 \n",
        "['바나나','바나나','바나나','자동차']\n",
        "\n",
        "# 출력 \n",
        "['과일','과일','과일','탈것']\n",
        "```\n",
        "\n",
        "(사용예시)"
      ],
      "id": "7a839c81-dbfc-4d0e-aa4c-d27b9eae3431"
    },
    {
      "cell_type": "code",
      "execution_count": null,
      "metadata": {},
      "outputs": [],
      "source": [
        "g(['바나나','바나나','바나나','자동차'])"
      ],
      "id": "49bb0231"
    },
    {
      "cell_type": "markdown",
      "metadata": {},
      "source": [
        "`5`. 규칙1-2를 이용하여 아래와 같은 숫자로 이루어진 입력을 ‘과일’,\n",
        "‘탈것’ 중 하나로 바꾸는 코드를 구현하라.\n",
        "\n",
        "``` python\n",
        "# 입력 \n",
        "[0,1,0,1,3,4,2,2,3,4,1,0]\n",
        "\n",
        "# 출력 \n",
        "['과일', '과일', '과일', '과일', '탈것', '탈것', '탈것', '탈것', '탈것', '탈것', '과일', '과일']\n",
        "```\n",
        "\n",
        "**hint** $g(f(x))$ 를 이용하라.\n",
        "\n",
        "`Oxford-III`: 6–10 //\n",
        "[reference](https://www.robots.ox.ac.uk/~vgg/data/pets/)\n",
        "\n",
        "아래는 이미지 파일명들이 저장된 string을 불러오는 코드이다."
      ],
      "id": "820ebc8c-dba5-40d8-b309-62ae1fed757e"
    },
    {
      "cell_type": "code",
      "execution_count": null,
      "metadata": {},
      "outputs": [],
      "source": [
        "import requests\n",
        "url = 'https://raw.githubusercontent.com/guebin/PP2023/main/posts/01_PythonBasic/Oxford-IIIT.txt'\n",
        "txt = requests.get(url).content.decode()"
      ],
      "id": "39624242"
    },
    {
      "cell_type": "markdown",
      "metadata": {},
      "source": [
        "이미지파일이 저장된 형식은 아래와 같다.\n",
        "\n",
        "    Abyssinian_1.jpg\n",
        "    British_Shorthair_129.jpg\n",
        "\n",
        "**note**: `British_Shorthair`와 같이 종 이름 사이에 `_`가 들어있는\n",
        "경우도 있음.\n",
        "\n",
        "`6`. txt를 적당히 변환하여 아래와 같은 list를 만들어라."
      ],
      "id": "530c678c-85ed-48e6-ae88-03e5f1b57a7e"
    },
    {
      "cell_type": "code",
      "execution_count": null,
      "metadata": {},
      "outputs": [],
      "source": [
        "lst[:10],lst[810:820]"
      ],
      "id": "a937c918"
    },
    {
      "cell_type": "markdown",
      "metadata": {},
      "source": [
        "**hint1**"
      ],
      "id": "fa5601f4-7fb6-4a94-bbf8-8a41131fefb5"
    },
    {
      "cell_type": "code",
      "execution_count": null,
      "metadata": {},
      "outputs": [],
      "source": [
        "'Abyssinian_1.jpg\\nAbyssinian_10.jpg'.split('\\n')"
      ],
      "id": "5e60fe6d"
    },
    {
      "cell_type": "markdown",
      "metadata": {},
      "source": [
        "**hint2**"
      ],
      "id": "c06a638c-9268-48b2-858d-a047668f4889"
    },
    {
      "cell_type": "code",
      "execution_count": null,
      "metadata": {},
      "outputs": [],
      "source": [
        "''.join(['British', 'Shorthair'])"
      ],
      "id": "4e232868"
    },
    {
      "cell_type": "code",
      "execution_count": null,
      "metadata": {},
      "outputs": [],
      "source": [
        "''.join(['Abyssinian'])"
      ],
      "id": "338df9e9"
    },
    {
      "cell_type": "markdown",
      "metadata": {},
      "source": [
        "`7`. 그림파일에는 총 몇가지 종류의 고양이와, 몇가지 종류의 강아지가\n",
        "있는가?\n",
        "\n",
        "**note:** 고양이사진은 대문자로 시작하고, 강아지 사진은 소문자로\n",
        "시작한다.\n",
        "\n",
        "**note**: 12종의 고양이, 25종의 강아지가 있음\n",
        "\n",
        "(풀이)"
      ],
      "id": "05238eaf-5bc0-40c9-97af-68b56ad496df"
    },
    {
      "cell_type": "code",
      "execution_count": null,
      "metadata": {},
      "outputs": [],
      "source": [
        "[s[0].isupper() for s in set(lst)].count(True) # 고양이 12"
      ],
      "id": "e5473d68"
    },
    {
      "cell_type": "code",
      "execution_count": null,
      "metadata": {},
      "outputs": [],
      "source": [
        "[s[0].isupper() for s in set(lst)].count(False) # 강아지 25 "
      ],
      "id": "12799628"
    },
    {
      "cell_type": "markdown",
      "metadata": {},
      "source": [
        "`8`. 아래는 1번의 결과로 얻어진 lst의 첫 10개의 원소와 마지막 10개의\n",
        "원소이다."
      ],
      "id": "84d8f055-7b7a-4e37-b22c-10732a1188a1"
    },
    {
      "cell_type": "code",
      "execution_count": null,
      "metadata": {},
      "outputs": [],
      "source": [
        "lst[:10], lst[-10:]"
      ],
      "id": "c0b60fdb"
    },
    {
      "cell_type": "markdown",
      "metadata": {},
      "source": [
        "적당한 변환을 정의하여 lst를 아래와 같이 바꾸어라."
      ],
      "id": "8aa2e629-d004-4983-b402-5bb9d110d335"
    },
    {
      "cell_type": "code",
      "execution_count": null,
      "metadata": {},
      "outputs": [],
      "source": [
        "lst2[:10], lst2[-10:] # 바뀐 lst"
      ],
      "id": "d4940366"
    },
    {
      "cell_type": "markdown",
      "metadata": {},
      "source": [
        "`9`. txt에는 강아지사진과 고양이사진이 모두 몇장씩 들어있는가?"
      ],
      "id": "61cc31e7-b2ba-4c4a-9cde-a1dd30d23148"
    },
    {
      "cell_type": "code",
      "execution_count": null,
      "metadata": {},
      "outputs": [],
      "source": [
        "## 출력예시 "
      ],
      "id": "146cdb4e"
    },
    {
      "cell_type": "markdown",
      "metadata": {},
      "source": [
        "`10`. txt에 각 종별로 몇장의 사진이 있는지 조사하라."
      ],
      "id": "bdf51174-1f72-40ce-8bfc-b9611dd4c391"
    },
    {
      "cell_type": "code",
      "execution_count": null,
      "metadata": {},
      "outputs": [],
      "source": [
        "## 출력예시"
      ],
      "id": "8f34758e"
    }
  ],
  "nbformat": 4,
  "nbformat_minor": 5,
  "metadata": {
    "kernelspec": {
      "name": "python3",
      "display_name": "Python 3 (ipykernel)",
      "language": "python"
    },
    "language_info": {
      "name": "python",
      "codemirror_mode": {
        "name": "ipython",
        "version": "3"
      },
      "file_extension": ".py",
      "mimetype": "text/x-python",
      "nbconvert_exporter": "python",
      "pygments_lexer": "ipython3",
      "version": "3.10.12"
    }
  }
}