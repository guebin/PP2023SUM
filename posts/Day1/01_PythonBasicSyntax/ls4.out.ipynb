{
  "cells": [
    {
      "cell_type": "markdown",
      "metadata": {},
      "source": [
        "# Lesson 04: 파이썬의 자료형 III (dict, set)\n",
        "\n",
        "최규빈  \n",
        "2023-06-24\n",
        "\n",
        "<a href=\"https://colab.research.google.com/github/guebin/PP2023SUM/blob/main/posts/Day1/01_PythonBasicSyntax/ls4.ipynb\"><img src=\"https://colab.research.google.com/assets/colab-badge.svg\" style=\"text-align: left\"></a>\n",
        "\n",
        "# dict\n",
        "\n",
        "## 연산\n",
        "\n",
        "`-` 하나있어요.."
      ],
      "id": "b76591d9-6e72-401d-a336-b0b2c546adf4"
    },
    {
      "cell_type": "code",
      "execution_count": 1,
      "metadata": {
        "vscode": {
          "languageId": "python"
        }
      },
      "outputs": [],
      "source": [
        "score = {'guebin':49, 'iu':80} \n",
        "score "
      ],
      "id": "623ac389-3234-4869-8aa4-b9d3ce7c42e9"
    },
    {
      "cell_type": "code",
      "execution_count": 3,
      "metadata": {
        "vscode": {
          "languageId": "python"
        }
      },
      "outputs": [],
      "source": [
        "'guebin' in score"
      ],
      "id": "20057c6a-5768-404f-8349-c313a650a11a"
    },
    {
      "cell_type": "code",
      "execution_count": 4,
      "metadata": {
        "vscode": {
          "languageId": "python"
        }
      },
      "outputs": [],
      "source": [
        "'iu' in score"
      ],
      "id": "ea59a4a1-1eca-4b5d-8e65-77ce82654c76"
    },
    {
      "cell_type": "code",
      "execution_count": 5,
      "metadata": {
        "vscode": {
          "languageId": "python"
        }
      },
      "outputs": [],
      "source": [
        "'hynn' in score"
      ],
      "id": "4adff280-828c-45fe-af20-434693332b0e"
    },
    {
      "cell_type": "markdown",
      "metadata": {},
      "source": [
        "`-` in은 사실 다른자료형도 가능했음\n",
        "\n",
        "(관찰1)"
      ],
      "id": "75a855ae-c120-4fb5-bacd-f684fb260b9c"
    },
    {
      "cell_type": "code",
      "execution_count": 6,
      "metadata": {
        "vscode": {
          "languageId": "python"
        }
      },
      "outputs": [],
      "source": [
        "'a' in 'guebin' "
      ],
      "id": "b0607ace-5229-4256-9ecf-28186435aa54"
    },
    {
      "cell_type": "code",
      "execution_count": 7,
      "metadata": {
        "vscode": {
          "languageId": "python"
        }
      },
      "outputs": [],
      "source": [
        "'b' in 'guebin' "
      ],
      "id": "eecb9e31-ee1f-4ef1-a5e5-e6752fcdfe54"
    },
    {
      "cell_type": "code",
      "execution_count": 8,
      "metadata": {
        "vscode": {
          "languageId": "python"
        }
      },
      "outputs": [],
      "source": [
        "'c' in 'guebin' "
      ],
      "id": "8d8033d2-dded-4d07-86ad-2ef7775491ab"
    },
    {
      "cell_type": "markdown",
      "metadata": {},
      "source": [
        "(관찰2)"
      ],
      "id": "fc810532-0440-4b34-b706-b39543f64aca"
    },
    {
      "cell_type": "code",
      "execution_count": 9,
      "metadata": {
        "vscode": {
          "languageId": "python"
        }
      },
      "outputs": [],
      "source": [
        "tpl = 1,2,3 \n",
        "tpl"
      ],
      "id": "67383200-08bd-41e6-9f2f-3c7db9c42fff"
    },
    {
      "cell_type": "code",
      "execution_count": 10,
      "metadata": {
        "vscode": {
          "languageId": "python"
        }
      },
      "outputs": [],
      "source": [
        "1 in tpl"
      ],
      "id": "f96b0101-4c88-4d9c-aafc-e0efdfdbd838"
    },
    {
      "cell_type": "code",
      "execution_count": 11,
      "metadata": {
        "vscode": {
          "languageId": "python"
        }
      },
      "outputs": [],
      "source": [
        "4 in tpl"
      ],
      "id": "10c7c978-5663-46c9-a85b-a0bef6b90dda"
    },
    {
      "cell_type": "markdown",
      "metadata": {},
      "source": [
        "(관찰3)"
      ],
      "id": "0e133320-a121-4995-ac9c-7b8440fd12d9"
    },
    {
      "cell_type": "code",
      "execution_count": 12,
      "metadata": {
        "vscode": {
          "languageId": "python"
        }
      },
      "outputs": [],
      "source": [
        "score = [['guebin',49],['iu',80],['hynn',99]] \n",
        "score"
      ],
      "id": "5eb7a163-3e1e-4e1d-a2a7-0192fa45a817"
    },
    {
      "cell_type": "code",
      "execution_count": 13,
      "metadata": {
        "vscode": {
          "languageId": "python"
        }
      },
      "outputs": [],
      "source": [
        "['guebin',49] in score "
      ],
      "id": "73c0a06b-a068-4398-9133-ff59c9a83f0a"
    },
    {
      "cell_type": "markdown",
      "metadata": {},
      "source": [
        "`-` in연산자가 dict형에 사용되면 key를 기준으로 True, False를 판단한다.\n",
        "\n",
        "## 메소드\n",
        "\n",
        "**(get)**"
      ],
      "id": "b22bdd40-4efc-43f8-b1d5-ed4a4e0cce28"
    },
    {
      "cell_type": "code",
      "execution_count": 14,
      "metadata": {
        "vscode": {
          "languageId": "python"
        }
      },
      "outputs": [],
      "source": [
        "score = {'guebin':49, 'iu':80} \n",
        "score "
      ],
      "id": "7ba0cf54-45fa-4265-9718-e4152c0988b3"
    },
    {
      "cell_type": "code",
      "execution_count": 15,
      "metadata": {
        "vscode": {
          "languageId": "python"
        }
      },
      "outputs": [],
      "source": [
        "score.get('guebin') "
      ],
      "id": "f13f3ce4-06d7-4b82-ad60-f3b1dba06360"
    },
    {
      "cell_type": "markdown",
      "metadata": {},
      "source": [
        "아래와 같은 기능"
      ],
      "id": "3520000c-d598-4d91-94ff-7e8810c9b008"
    },
    {
      "cell_type": "code",
      "execution_count": 16,
      "metadata": {
        "vscode": {
          "languageId": "python"
        }
      },
      "outputs": [],
      "source": [
        "score['guebin']"
      ],
      "id": "255249b0-c4f1-4204-867f-9574f9e2c93c"
    },
    {
      "cell_type": "markdown",
      "metadata": {},
      "source": [
        "미묘한 차이점이 존재함"
      ],
      "id": "19e5c9ee-ff5d-463d-8954-f078a47add98"
    },
    {
      "cell_type": "code",
      "execution_count": 17,
      "metadata": {
        "vscode": {
          "languageId": "python"
        }
      },
      "outputs": [],
      "source": [
        "score['hynn'] # hynn이 없어서 키에러 출력, 그런 key는 없다.. "
      ],
      "id": "6ffa84df-39f7-4a54-90d6-2ee7b8325f49"
    },
    {
      "cell_type": "code",
      "execution_count": 18,
      "metadata": {
        "vscode": {
          "languageId": "python"
        }
      },
      "outputs": [],
      "source": [
        "score.get('hynn') # hynn이 없으면 아무것도 출력안함 "
      ],
      "id": "88290b44-fca4-4521-8794-ac3da0964143"
    },
    {
      "cell_type": "markdown",
      "metadata": {},
      "source": [
        "**(keys,values,items)**\n",
        "\n",
        "`-` .keys()는 딕셔너리의 키를 리턴한다."
      ],
      "id": "83104de3-dc19-4cc5-9ed2-e17b05541d05"
    },
    {
      "cell_type": "code",
      "execution_count": 2,
      "metadata": {
        "vscode": {
          "languageId": "python"
        }
      },
      "outputs": [],
      "source": [
        "score = {'guebin':49, 'iu':80} \n",
        "score "
      ],
      "id": "bb252587-9069-4e52-89ad-71b1090371a8"
    },
    {
      "cell_type": "code",
      "execution_count": 20,
      "metadata": {
        "vscode": {
          "languageId": "python"
        }
      },
      "outputs": [],
      "source": [
        "_keys=score.keys()\n",
        "_keys"
      ],
      "id": "b4497579-078f-4b1d-8bf7-a312ea77a3ba"
    },
    {
      "cell_type": "code",
      "execution_count": 21,
      "metadata": {
        "vscode": {
          "languageId": "python"
        }
      },
      "outputs": [],
      "source": [
        "type(_keys) # 리턴된 자료형은 이상한것임"
      ],
      "id": "4ce3c933-8301-49da-add7-352c27f4d025"
    },
    {
      "cell_type": "code",
      "execution_count": 22,
      "metadata": {
        "vscode": {
          "languageId": "python"
        }
      },
      "outputs": [],
      "source": [
        "list(_keys) # 아무튼 그 이상한 자료형도 리스트화 가능 "
      ],
      "id": "767fe350-fedb-4afd-83d4-6188f82bdccc"
    },
    {
      "cell_type": "markdown",
      "metadata": {},
      "source": [
        "`-` .values()는 딕셔너리의 값들을 리턴한다."
      ],
      "id": "eb505885-d4f9-4316-8df1-f5df9b6632ea"
    },
    {
      "cell_type": "code",
      "execution_count": 26,
      "metadata": {
        "vscode": {
          "languageId": "python"
        }
      },
      "outputs": [],
      "source": [
        "_values =score.values()\n",
        "_values "
      ],
      "id": "fd84b995-46d5-473b-ae3f-5da8fc90dbd0"
    },
    {
      "cell_type": "code",
      "execution_count": 27,
      "metadata": {
        "vscode": {
          "languageId": "python"
        }
      },
      "outputs": [],
      "source": [
        "type(_values)"
      ],
      "id": "ebd58e50-18bd-41b7-8ec4-bdce66e9ae88"
    },
    {
      "cell_type": "code",
      "execution_count": 28,
      "metadata": {
        "vscode": {
          "languageId": "python"
        }
      },
      "outputs": [],
      "source": [
        "list(_values)"
      ],
      "id": "667cd3db-2dcc-4030-80a1-507f3b996e11"
    },
    {
      "cell_type": "markdown",
      "metadata": {},
      "source": [
        "`-` .items()는 딕셔너리의 (키,값)을 리턴한다."
      ],
      "id": "4fe3060a-1530-47a2-9fff-60d953b8fb94"
    },
    {
      "cell_type": "code",
      "execution_count": 29,
      "metadata": {
        "vscode": {
          "languageId": "python"
        }
      },
      "outputs": [],
      "source": [
        "_items = score.items()\n",
        "_items "
      ],
      "id": "4662e4da-6f14-4f2b-a609-ec28deea24d3"
    },
    {
      "cell_type": "code",
      "execution_count": 31,
      "metadata": {
        "vscode": {
          "languageId": "python"
        }
      },
      "outputs": [],
      "source": [
        "type(_items)"
      ],
      "id": "e7c5df33-3b2b-4612-96bd-98c86a2e1aa6"
    },
    {
      "cell_type": "code",
      "execution_count": 32,
      "metadata": {
        "vscode": {
          "languageId": "python"
        }
      },
      "outputs": [],
      "source": [
        "list(_items)"
      ],
      "id": "f3f822db-41a0-4dee-964c-ab489904f0cc"
    },
    {
      "cell_type": "markdown",
      "metadata": {},
      "source": [
        "## for문\n",
        "\n",
        "(예시1)"
      ],
      "id": "291d0698-aaad-43a6-bca9-e4dca3b1b24f"
    },
    {
      "cell_type": "code",
      "execution_count": 34,
      "metadata": {
        "vscode": {
          "languageId": "python"
        }
      },
      "outputs": [
        {
          "output_type": "stream",
          "name": "stdout",
          "text": [
            "guebin\n",
            "iu"
          ]
        }
      ],
      "source": [
        "for i in score.keys():\n",
        "    print(i)"
      ],
      "id": "36ad4afd-da17-4b04-8bfa-1f0880b8524f"
    },
    {
      "cell_type": "code",
      "execution_count": 41,
      "metadata": {
        "vscode": {
          "languageId": "python"
        }
      },
      "outputs": [
        {
          "output_type": "stream",
          "name": "stdout",
          "text": [
            "guebin\n",
            "iu"
          ]
        }
      ],
      "source": [
        "for i in score:\n",
        "    print(i)"
      ],
      "id": "e5a9ac5e-3ab2-4842-98da-6699bcb0a97c"
    },
    {
      "cell_type": "markdown",
      "metadata": {},
      "source": [
        "-   딕셔너리 그자체도 for문에 넣을 수 있다.\n",
        "-   i에는 value가 삭제되어 들어간다. (즉 key만)\n",
        "-   결과를 보면 score대신에 score.keys()와 list(score)를 넣었을때와\n",
        "    결과가 같다.\n",
        "\n",
        "> Note: list(score) 하면 key만 리턴된다.\n",
        "\n",
        "(예시2)"
      ],
      "id": "95bb1db9-1a77-49c0-b145-c55c1c7e77aa"
    },
    {
      "cell_type": "code",
      "execution_count": 3,
      "metadata": {
        "vscode": {
          "languageId": "python"
        }
      },
      "outputs": [
        {
          "output_type": "stream",
          "name": "stdout",
          "text": [
            "49\n",
            "80"
          ]
        }
      ],
      "source": [
        "for v in score.values():\n",
        "    print(v)"
      ],
      "id": "ef249a42-1f88-44d2-8641-42cd8172b4d8"
    },
    {
      "cell_type": "markdown",
      "metadata": {},
      "source": [
        "(예시3)"
      ],
      "id": "af1eeede-758c-4c64-a1f4-e338169aec77"
    },
    {
      "cell_type": "code",
      "execution_count": 4,
      "metadata": {
        "vscode": {
          "languageId": "python"
        }
      },
      "outputs": [
        {
          "output_type": "stream",
          "name": "stdout",
          "text": [
            "('guebin', 49)\n",
            "('iu', 80)"
          ]
        }
      ],
      "source": [
        "for k in score.items():\n",
        "    print(k)"
      ],
      "id": "c9faa506-667c-4fcf-a46c-00ac58dc80f9"
    },
    {
      "cell_type": "markdown",
      "metadata": {},
      "source": [
        "(예시4)"
      ],
      "id": "165f232d-2217-4805-8911-3b936ff093e2"
    },
    {
      "cell_type": "code",
      "execution_count": 5,
      "metadata": {
        "vscode": {
          "languageId": "python"
        }
      },
      "outputs": [
        {
          "output_type": "stream",
          "name": "stdout",
          "text": [
            "guebin 49\n",
            "iu 80"
          ]
        }
      ],
      "source": [
        "for k,v in score.items():\n",
        "    print(k,v)"
      ],
      "id": "87ad2727-f995-4513-a35f-3b138df8b03e"
    },
    {
      "cell_type": "markdown",
      "metadata": {},
      "source": [
        "(예시5)"
      ],
      "id": "488ed95a-215b-44bd-b780-57db10ba3b88"
    },
    {
      "cell_type": "code",
      "execution_count": 6,
      "metadata": {
        "vscode": {
          "languageId": "python"
        }
      },
      "outputs": [
        {
          "output_type": "stream",
          "name": "stdout",
          "text": [
            "guebin의 중간고사 점수는 49점 입니다.\n",
            "iu의 중간고사 점수는 80점 입니다."
          ]
        }
      ],
      "source": [
        "for k,v in score.items():\n",
        "    print(k + '의 중간고사 점수는 %s점 입니다.' % v)"
      ],
      "id": "4aa2ebd1-ce92-41bb-adae-9be94ef25d5c"
    },
    {
      "cell_type": "markdown",
      "metadata": {},
      "source": [
        "**\\[보충학습\\] 문자열 새치기**"
      ],
      "id": "6f3d1d67-7c9f-4937-99bd-26f8d83faf33"
    },
    {
      "cell_type": "code",
      "execution_count": 7,
      "metadata": {
        "vscode": {
          "languageId": "python"
        }
      },
      "outputs": [],
      "source": [
        "'제 이름은 %s입니다' % '최규빈'"
      ],
      "id": "4988ba4f-2556-48d7-b454-ab23c845ba66"
    },
    {
      "cell_type": "markdown",
      "metadata": {},
      "source": [
        "-   %는 새치기연산자임. %s는 새치기하는 자리라고 생각\n",
        "\n",
        "보충학습끝\n",
        "\n",
        "## 딕셔너리 고급\n",
        "\n",
        "### 키는 문자열만 가능한 것이 아니다.\n",
        "\n",
        "`-` 정수키"
      ],
      "id": "c69f988c-a1da-4e27-95d2-6b870ac88085"
    },
    {
      "cell_type": "code",
      "execution_count": 77,
      "metadata": {
        "vscode": {
          "languageId": "python"
        }
      },
      "outputs": [],
      "source": [
        "score = {0:49, 1:80, 2:99} # key를 0,1,2로 \n",
        "score"
      ],
      "id": "91476f18-4f0a-4b27-8c7a-da1bdaebf886"
    },
    {
      "cell_type": "markdown",
      "metadata": {},
      "source": [
        "`-` 인덱싱은?"
      ],
      "id": "c7b5476b-bcff-4f1d-925a-3420cc170dea"
    },
    {
      "cell_type": "code",
      "execution_count": 78,
      "metadata": {
        "vscode": {
          "languageId": "python"
        }
      },
      "outputs": [],
      "source": [
        "score[0] # 키로 인덱싱을 하고 있는데 마치 원소의 위치로 인덱싱을 하는 기분 "
      ],
      "id": "fad2ba72-6274-4c90-b05b-b9d145eae898"
    },
    {
      "cell_type": "markdown",
      "metadata": {},
      "source": [
        "`-` 그럼 혹시 이것도?"
      ],
      "id": "e46269d2-dec2-4c7b-9cdc-68d855985db4"
    },
    {
      "cell_type": "code",
      "execution_count": 79,
      "metadata": {
        "vscode": {
          "languageId": "python"
        }
      },
      "outputs": [],
      "source": [
        "score[:2]"
      ],
      "id": "94295078-c310-479e-9559-68288e63c769"
    },
    {
      "cell_type": "code",
      "execution_count": 81,
      "metadata": {
        "vscode": {
          "languageId": "python"
        }
      },
      "outputs": [],
      "source": [
        "score[-1] # 이것도 될리가 없죠.. "
      ],
      "id": "485d3a36-aba9-4b76-95f0-3c190ae48b27"
    },
    {
      "cell_type": "markdown",
      "metadata": {},
      "source": [
        "### 키로가능한것? 문자열, 숫자값, 튜플"
      ],
      "id": "68599946-ab8e-4242-a214-07f8fdea1094"
    },
    {
      "cell_type": "code",
      "execution_count": 99,
      "metadata": {
        "vscode": {
          "languageId": "python"
        }
      },
      "outputs": [],
      "source": [
        "score = {('guebin',0): 10, ('guebin',1): 20, ('guebin',2):49}  # 0은 출석점수, 1은 레포트 점수, 2는 중간고사 점수 \n",
        "score"
      ],
      "id": "924cf7c6-79ac-45a5-9c01-261a1fc82a40"
    },
    {
      "cell_type": "code",
      "execution_count": 100,
      "metadata": {
        "vscode": {
          "languageId": "python"
        }
      },
      "outputs": [],
      "source": [
        "score[('guebin',0)]"
      ],
      "id": "70dfbc2f-d306-422b-957e-ca62b5f8d825"
    },
    {
      "cell_type": "code",
      "execution_count": 101,
      "metadata": {
        "vscode": {
          "languageId": "python"
        }
      },
      "outputs": [],
      "source": [
        "score['guebin',2]"
      ],
      "id": "daf2f68d-0a92-4708-93de-ba893293d782"
    },
    {
      "cell_type": "code",
      "execution_count": 104,
      "metadata": {
        "vscode": {
          "languageId": "python"
        }
      },
      "outputs": [],
      "source": [
        "score[('guebin',3)] = 99 # 규빈의 기말고사 점수를 추가 "
      ],
      "id": "4cdce811-0a91-42c5-9f92-798818b192c2"
    },
    {
      "cell_type": "code",
      "execution_count": 103,
      "metadata": {
        "vscode": {
          "languageId": "python"
        }
      },
      "outputs": [],
      "source": [
        "score"
      ],
      "id": "21da1fbd-99fd-4b88-8f27-8aba74c59f50"
    },
    {
      "cell_type": "markdown",
      "metadata": {},
      "source": [
        "-   문자열, 숫자값, 튜플의 공통점? 불변객체\n",
        "\n",
        "### 참고 (불변형과 가변형)\n",
        "\n",
        "(인트형은 불변)"
      ],
      "id": "2a41ed36-1bca-458f-8fe7-2cf27b336bb8"
    },
    {
      "cell_type": "code",
      "execution_count": 120,
      "metadata": {
        "vscode": {
          "languageId": "python"
        }
      },
      "outputs": [],
      "source": [
        "a=1\n",
        "a,id(a)"
      ],
      "id": "6465fa78-61d2-497d-abf1-d98f4d15e4d9"
    },
    {
      "cell_type": "code",
      "execution_count": 121,
      "metadata": {
        "vscode": {
          "languageId": "python"
        }
      },
      "outputs": [],
      "source": [
        "a=2\n",
        "a,id(a)"
      ],
      "id": "f6824f4e-17da-47f9-b4f3-b79e5cfb09d2"
    },
    {
      "cell_type": "markdown",
      "metadata": {},
      "source": [
        "(문자열도 불변)"
      ],
      "id": "9be70845-592c-4331-9220-9a2d1cceff27"
    },
    {
      "cell_type": "code",
      "execution_count": 123,
      "metadata": {
        "vscode": {
          "languageId": "python"
        }
      },
      "outputs": [],
      "source": [
        "a='guebin'\n",
        "a,id(a)"
      ],
      "id": "87ad2c29-7138-4679-a18a-ac7011615b2b"
    },
    {
      "cell_type": "code",
      "execution_count": 124,
      "metadata": {
        "vscode": {
          "languageId": "python"
        }
      },
      "outputs": [],
      "source": [
        "a='Guebin'\n",
        "a,id(a)"
      ],
      "id": "f92a4776-cc1c-43ec-b4df-47846eee0b27"
    },
    {
      "cell_type": "markdown",
      "metadata": {},
      "source": [
        "(리스트는 가변)"
      ],
      "id": "9653fed8-75c8-465a-b99b-c52f789c45c1"
    },
    {
      "cell_type": "code",
      "execution_count": 127,
      "metadata": {
        "vscode": {
          "languageId": "python"
        }
      },
      "outputs": [],
      "source": [
        "a=list('guebin')\n",
        "a,id(a)"
      ],
      "id": "a894af1a-4af4-4b63-a081-64b253af7209"
    },
    {
      "cell_type": "code",
      "execution_count": 128,
      "metadata": {
        "vscode": {
          "languageId": "python"
        }
      },
      "outputs": [],
      "source": [
        "a[0]='G'"
      ],
      "id": "4f35d9ea-2592-46a9-9ad7-00269e9b6e76"
    },
    {
      "cell_type": "code",
      "execution_count": 129,
      "metadata": {
        "vscode": {
          "languageId": "python"
        }
      },
      "outputs": [],
      "source": [
        "a,id(a)"
      ],
      "id": "24f1e551-de48-4f2b-b301-f2a804e51f6f"
    },
    {
      "cell_type": "markdown",
      "metadata": {},
      "source": [
        "# set\n",
        "\n",
        "## 선언"
      ],
      "id": "098f1b1f-4117-4b92-802b-a9a8789eef51"
    },
    {
      "cell_type": "code",
      "execution_count": 130,
      "metadata": {
        "vscode": {
          "languageId": "python"
        }
      },
      "outputs": [],
      "source": [
        "a={'notebook','desktop'}"
      ],
      "id": "537086a4-e9da-4c3e-9a87-9b75556425dd"
    },
    {
      "cell_type": "markdown",
      "metadata": {},
      "source": [
        "## 원소추출\n",
        "\n",
        "`-` 일단 인덱스로는 못합니다."
      ],
      "id": "13bcbb1b-d4e0-49db-93b1-599b82538ebe"
    },
    {
      "cell_type": "code",
      "execution_count": 132,
      "metadata": {
        "vscode": {
          "languageId": "python"
        }
      },
      "outputs": [],
      "source": [
        "a={'notebook','desktop'}\n",
        "a[0]"
      ],
      "id": "63deb0b1-b78f-4413-861c-8bb4c56666b0"
    },
    {
      "cell_type": "markdown",
      "metadata": {},
      "source": [
        "`-` 딱히 하는 방법이 없어요.. 그리고 이걸 하는 의미가 없어요.. (원소에\n",
        "접근해서 뭐하려고??)\n",
        "\n",
        "## 원소추가\n",
        "\n",
        "`-` 이건 의미가 있죠"
      ],
      "id": "ac462ac6-d782-43ca-8f12-4b34f8456d6f"
    },
    {
      "cell_type": "code",
      "execution_count": 143,
      "metadata": {
        "vscode": {
          "languageId": "python"
        }
      },
      "outputs": [],
      "source": [
        "a={'notebook','desktop'} \n",
        "a"
      ],
      "id": "6faaf826-0ed0-40fa-8ab5-d83b4df6f52f"
    },
    {
      "cell_type": "code",
      "execution_count": 144,
      "metadata": {
        "vscode": {
          "languageId": "python"
        }
      },
      "outputs": [],
      "source": [
        "a.add('ipad')\n",
        "a"
      ],
      "id": "a0a3f5b0-b407-4a33-820c-614a8c31a742"
    },
    {
      "cell_type": "code",
      "execution_count": 145,
      "metadata": {
        "vscode": {
          "languageId": "python"
        }
      },
      "outputs": [],
      "source": [
        "a.add('notebook') # 이미 원소로 있는건 추가되지 않음. \n",
        "a"
      ],
      "id": "fdb09c04-b081-4fa0-a20f-b883419f0f46"
    },
    {
      "cell_type": "markdown",
      "metadata": {},
      "source": [
        "## 원소삭제"
      ],
      "id": "47eb8535-ea8a-411c-acd4-136d5a0afcc3"
    },
    {
      "cell_type": "code",
      "execution_count": 147,
      "metadata": {
        "vscode": {
          "languageId": "python"
        }
      },
      "outputs": [],
      "source": [
        "a={'desktop', 'ipad', 'notebook'}\n",
        "a"
      ],
      "id": "6a5d2ec6-0c81-46a2-931d-6446b928f3a2"
    },
    {
      "cell_type": "code",
      "execution_count": 148,
      "metadata": {
        "vscode": {
          "languageId": "python"
        }
      },
      "outputs": [],
      "source": [
        "a.remove('notebook')"
      ],
      "id": "780da86a-f773-4ae7-a3ca-aad29a873809"
    },
    {
      "cell_type": "code",
      "execution_count": 149,
      "metadata": {
        "vscode": {
          "languageId": "python"
        }
      },
      "outputs": [],
      "source": [
        "a"
      ],
      "id": "8e306c53-2ca8-4f2a-b490-fab23a3fafd2"
    },
    {
      "cell_type": "markdown",
      "metadata": {},
      "source": [
        "## 연산\n",
        "\n",
        "`-` in 연산자"
      ],
      "id": "da729cf2-7f9b-4090-959a-de9faf2a9540"
    },
    {
      "cell_type": "code",
      "execution_count": 153,
      "metadata": {
        "vscode": {
          "languageId": "python"
        }
      },
      "outputs": [],
      "source": [
        "a={'desktop', 'ipad', 'notebook'}\n",
        "a"
      ],
      "id": "3c94a34d-457a-4aaa-9815-72761a340c5a"
    },
    {
      "cell_type": "code",
      "execution_count": 154,
      "metadata": {
        "vscode": {
          "languageId": "python"
        }
      },
      "outputs": [],
      "source": [
        "'notebook' in a"
      ],
      "id": "9012a710-34c7-4bf1-877e-73ff9c0cde93"
    },
    {
      "cell_type": "markdown",
      "metadata": {},
      "source": [
        "-   참고로 `in`연산자는 집합에서만 쓰는것은 아님\n",
        "\n",
        "`-` 합집합, 교집합, 차집합"
      ],
      "id": "49f2f229-bed0-4194-aeea-c652a0302b2d"
    },
    {
      "cell_type": "code",
      "execution_count": 160,
      "metadata": {
        "vscode": {
          "languageId": "python"
        }
      },
      "outputs": [],
      "source": [
        "day1 = {'notebook','desktop'}\n",
        "day2 = {'notebook','ipad'}"
      ],
      "id": "9f317348-2e2d-4e22-a7f0-71ee630cdb86"
    },
    {
      "cell_type": "code",
      "execution_count": 166,
      "metadata": {
        "vscode": {
          "languageId": "python"
        }
      },
      "outputs": [],
      "source": [
        "day1 | day2 # 합집합"
      ],
      "id": "3a78deb0-ce0b-4cd2-8e29-2ba4ed1580ea"
    },
    {
      "cell_type": "code",
      "execution_count": 167,
      "metadata": {
        "vscode": {
          "languageId": "python"
        }
      },
      "outputs": [],
      "source": [
        "day1 & day2 # 교집합"
      ],
      "id": "77ded6de-5103-4c29-bd4c-19749617cf05"
    },
    {
      "cell_type": "code",
      "execution_count": 168,
      "metadata": {
        "vscode": {
          "languageId": "python"
        }
      },
      "outputs": [],
      "source": [
        "day1 - day2 # 차집합 "
      ],
      "id": "008969e8-0ef1-4fb4-9188-715979c078d0"
    },
    {
      "cell_type": "code",
      "execution_count": 169,
      "metadata": {
        "vscode": {
          "languageId": "python"
        }
      },
      "outputs": [],
      "source": [
        "day2 - day1 # 차집합"
      ],
      "id": "2fe57f39-ba60-4b4a-9574-4770c0eae6f4"
    },
    {
      "cell_type": "markdown",
      "metadata": {},
      "source": [
        "`-` 부분집합"
      ],
      "id": "b23f343c-41d3-4fb7-96b2-4ebc239c2e3a"
    },
    {
      "cell_type": "code",
      "execution_count": 170,
      "metadata": {
        "vscode": {
          "languageId": "python"
        }
      },
      "outputs": [],
      "source": [
        "day1 = {'notebook', 'desktop'}\n",
        "day2 = day1 | {'ipad'} "
      ],
      "id": "2a1ca2cf-2c73-4e3b-80c0-b14c63d8e34a"
    },
    {
      "cell_type": "code",
      "execution_count": 176,
      "metadata": {
        "vscode": {
          "languageId": "python"
        }
      },
      "outputs": [],
      "source": [
        "day1 < day2  # day1는 day2의 부분집합인가? "
      ],
      "id": "83e36355-7f25-4f7c-a48f-81823e36de29"
    },
    {
      "cell_type": "code",
      "execution_count": 177,
      "metadata": {
        "vscode": {
          "languageId": "python"
        }
      },
      "outputs": [],
      "source": [
        "day2 < day1"
      ],
      "id": "c74a0076-9bdd-41fd-9ccb-1f2b9bab82ea"
    },
    {
      "cell_type": "markdown",
      "metadata": {},
      "source": [
        "## 메소드\n",
        "\n",
        "`-` 합집합"
      ],
      "id": "f79f01fd-0b0d-4c90-81ab-b481e8a70454"
    },
    {
      "cell_type": "code",
      "execution_count": 179,
      "metadata": {
        "vscode": {
          "languageId": "python"
        }
      },
      "outputs": [],
      "source": [
        "day1 = {'notebook', 'desktop'}\n",
        "day2 = {'notebook','ipad'}"
      ],
      "id": "34997ef3-c182-4dce-b7e1-734e4733e130"
    },
    {
      "cell_type": "code",
      "execution_count": 180,
      "metadata": {
        "vscode": {
          "languageId": "python"
        }
      },
      "outputs": [],
      "source": [
        "day1.union(day2)"
      ],
      "id": "17a086d2-4b6e-476a-a69e-2bb1f59211f4"
    },
    {
      "cell_type": "markdown",
      "metadata": {},
      "source": [
        "`-` 나머지 메소드는 스스로 찾아보세요\n",
        "\n",
        "## for문"
      ],
      "id": "a99d10b5-2cec-44eb-82ca-8d73b331be60"
    },
    {
      "cell_type": "code",
      "execution_count": 181,
      "metadata": {
        "vscode": {
          "languageId": "python"
        }
      },
      "outputs": [],
      "source": [
        "day1 = {'notebook', 'desktop'}\n",
        "day2 = {'notebook','ipad'}"
      ],
      "id": "325b01a0-1fef-49f9-bd10-c8223cc44c70"
    },
    {
      "cell_type": "code",
      "execution_count": 182,
      "metadata": {
        "vscode": {
          "languageId": "python"
        }
      },
      "outputs": [
        {
          "output_type": "stream",
          "name": "stdout",
          "text": [
            "ipad\n",
            "notebook\n",
            "desktop"
          ]
        }
      ],
      "source": [
        "for i in day1|day2: \n",
        "    print(i)"
      ],
      "id": "0ca82a6a-4dd1-4e92-bec7-64b9bd17e332"
    }
  ],
  "nbformat": 4,
  "nbformat_minor": 5,
  "metadata": {
    "kernelspec": {
      "name": "python3",
      "display_name": "Python 3",
      "language": "python"
    },
    "language_info": {
      "name": "python",
      "codemirror_mode": {
        "name": "ipython",
        "version": "3"
      },
      "file_extension": ".py",
      "mimetype": "text/x-python",
      "nbconvert_exporter": "python",
      "pygments_lexer": "ipython3",
      "version": "3.8.16"
    }
  }
}