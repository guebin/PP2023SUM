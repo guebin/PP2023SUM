{
  "cells": [
    {
      "cell_type": "markdown",
      "metadata": {},
      "source": [
        "# Lesson 08: pandas 짧게정리\n",
        "\n",
        "최규빈  \n",
        "2023-07-24\n",
        "\n",
        "<a href=\"https://colab.research.google.com/github/guebin/IP2023WIN/blob/main/posts/Day1/03_Pandas/2023-01-30-Lesson8.ipynb\"><img src=\"https://colab.research.google.com/assets/colab-badge.svg\" style=\"text-align: left\"></a>\n",
        "\n",
        "# ref\n",
        "\n",
        "<https://guebin.github.io/IP2022/2022/05/04/(10주차)-5월6일.html>\n",
        "\n",
        "# import"
      ],
      "id": "10836934-9cf1-49b4-9e26-6601c6157335"
    },
    {
      "cell_type": "code",
      "execution_count": 2,
      "metadata": {
        "vscode": {
          "languageId": "python"
        }
      },
      "outputs": [],
      "source": [
        "import numpy as np\n",
        "import pandas as pd"
      ],
      "id": "cee483b3-22f6-41bf-a279-8592f6b74b29"
    },
    {
      "cell_type": "markdown",
      "metadata": {},
      "source": [
        "# 부분 데이터 꺼내기\n",
        "\n",
        "`-` 판다스를 왜 써야 할까?\n",
        "\n",
        "## 기본 인덱싱\n",
        "\n",
        "`-` 예제1: 기본인덱싱"
      ],
      "id": "872407df-5cf7-449b-b8ce-d5674b9c596c"
    },
    {
      "cell_type": "code",
      "execution_count": 3,
      "metadata": {
        "vscode": {
          "languageId": "python"
        }
      },
      "outputs": [],
      "source": [
        "a='asdf'\n",
        "a[2]"
      ],
      "id": "3518456b-d04b-40cb-b3bd-220d716175ef"
    },
    {
      "cell_type": "code",
      "execution_count": 4,
      "metadata": {
        "vscode": {
          "languageId": "python"
        }
      },
      "outputs": [],
      "source": [
        "a[-1]"
      ],
      "id": "25bbe78c-02ab-4cd7-85f0-08161fde4731"
    },
    {
      "cell_type": "markdown",
      "metadata": {},
      "source": [
        "`-` 예제2: 슬라이싱"
      ],
      "id": "f936d000-3d19-4083-b7b9-f15c1ba7f4e4"
    },
    {
      "cell_type": "code",
      "execution_count": 5,
      "metadata": {
        "vscode": {
          "languageId": "python"
        }
      },
      "outputs": [],
      "source": [
        "a='asdf'\n",
        "a[1:3]"
      ],
      "id": "08f8fbd4-017b-422b-8391-1709c1b1e073"
    },
    {
      "cell_type": "code",
      "execution_count": 6,
      "metadata": {
        "vscode": {
          "languageId": "python"
        }
      },
      "outputs": [],
      "source": [
        "a[-2:]"
      ],
      "id": "8e860e5e-5ad6-4ffa-8e21-b5bf323ca0c9"
    },
    {
      "cell_type": "markdown",
      "metadata": {},
      "source": [
        "`-` 예제3: 스트라이딩"
      ],
      "id": "20ee08ec-74ce-47f5-af4b-b5ae0578b85d"
    },
    {
      "cell_type": "code",
      "execution_count": 7,
      "metadata": {
        "vscode": {
          "languageId": "python"
        }
      },
      "outputs": [],
      "source": [
        "a='asdfg'\n",
        "a[::2]"
      ],
      "id": "fa17c47c-c8d0-46a5-bbc6-a535f3b271ec"
    },
    {
      "cell_type": "markdown",
      "metadata": {},
      "source": [
        "`-` 예제4: 불가능한것"
      ],
      "id": "98115582-b238-4ad6-9032-4196529965be"
    },
    {
      "cell_type": "code",
      "execution_count": 9,
      "metadata": {
        "vscode": {
          "languageId": "python"
        }
      },
      "outputs": [],
      "source": [
        "a='asdf'\n",
        "a[[1,2]] # 정수인덱스를 리스트화 시켜서 인덱싱하는 것은 불가능 "
      ],
      "id": "14f5a75e-a7dd-4674-ae1b-86acbb237440"
    },
    {
      "cell_type": "code",
      "execution_count": 10,
      "metadata": {
        "vscode": {
          "languageId": "python"
        }
      },
      "outputs": [],
      "source": [
        "a='asdf'\n",
        "a[[True,True,False,False]] "
      ],
      "id": "6f0d3079-cd64-482f-9c7b-7ccfdac59be3"
    },
    {
      "cell_type": "markdown",
      "metadata": {},
      "source": [
        "## 팬시 인덱싱\n",
        "\n",
        "`-` 예제1: 인덱스의 리스트 (혹은 ndarray)를 전달"
      ],
      "id": "cddcfb9b-83e5-477b-b29e-58a13951110d"
    },
    {
      "cell_type": "code",
      "execution_count": 17,
      "metadata": {
        "vscode": {
          "languageId": "python"
        }
      },
      "outputs": [],
      "source": [
        "a=np.arange(55,61)\n",
        "a"
      ],
      "id": "76076016-b2d7-4b57-ad07-c73d3d2cf3ed"
    },
    {
      "cell_type": "code",
      "execution_count": 20,
      "metadata": {
        "vscode": {
          "languageId": "python"
        }
      },
      "outputs": [],
      "source": [
        "a[[1,2,-1]]"
      ],
      "id": "fa7a8717-eab5-4500-a2f5-d017c168afed"
    },
    {
      "cell_type": "code",
      "execution_count": 23,
      "metadata": {
        "vscode": {
          "languageId": "python"
        }
      },
      "outputs": [],
      "source": [
        "a[np.array([1,2,-1])]"
      ],
      "id": "2ab8d646-e41c-4ece-b547-24601ba9fff7"
    },
    {
      "cell_type": "markdown",
      "metadata": {},
      "source": [
        "`-` 예제2: bool로 이루어진 리스트 (혹은 ndarray)를 전달"
      ],
      "id": "527edcdd-3996-4e86-9f38-1ff27826f78b"
    },
    {
      "cell_type": "code",
      "execution_count": 21,
      "metadata": {
        "vscode": {
          "languageId": "python"
        }
      },
      "outputs": [],
      "source": [
        "a=np.arange(55,61)\n",
        "a"
      ],
      "id": "d3a6c155-18a2-4172-9122-a58257ff5949"
    },
    {
      "cell_type": "code",
      "execution_count": 22,
      "metadata": {
        "vscode": {
          "languageId": "python"
        }
      },
      "outputs": [],
      "source": [
        "a[[True,True,False,False,False,False]]"
      ],
      "id": "2de9474f-2776-4320-a8a7-c26a67850cf9"
    },
    {
      "cell_type": "code",
      "execution_count": 24,
      "metadata": {
        "vscode": {
          "languageId": "python"
        }
      },
      "outputs": [],
      "source": [
        "a[np.array([True,True,False,False,False,False])]"
      ],
      "id": "c3c2312b-2d50-4954-9d30-761c970c28c4"
    },
    {
      "cell_type": "code",
      "execution_count": 27,
      "metadata": {
        "vscode": {
          "languageId": "python"
        }
      },
      "outputs": [],
      "source": [
        "a[a<58]"
      ],
      "id": "18ef1938-2d2b-4cca-a778-b4378198172e"
    },
    {
      "cell_type": "markdown",
      "metadata": {},
      "source": [
        "## 2차원자료형의 인덱싱\n",
        "\n",
        "`-` 예제1"
      ],
      "id": "63b6af00-c3fd-4564-bbe7-a9aa5f3ddd09"
    },
    {
      "cell_type": "code",
      "execution_count": 28,
      "metadata": {
        "vscode": {
          "languageId": "python"
        }
      },
      "outputs": [],
      "source": [
        "a = np.arange(4*3).reshape(4,3)\n",
        "a"
      ],
      "id": "2cffbae4-5368-4662-b851-c4dcd69461f7"
    },
    {
      "cell_type": "code",
      "execution_count": 29,
      "metadata": {
        "vscode": {
          "languageId": "python"
        }
      },
      "outputs": [],
      "source": [
        "a[0:2,1]"
      ],
      "id": "80e3e528-9d00-4028-919e-43e41d24fe7f"
    },
    {
      "cell_type": "markdown",
      "metadata": {},
      "source": [
        "`-` 예제2: 차원을 유지하면서 인덱싱을 하고 싶으면?"
      ],
      "id": "355a2936-8a4e-407d-a4ab-506e9a92d187"
    },
    {
      "cell_type": "code",
      "execution_count": 30,
      "metadata": {
        "vscode": {
          "languageId": "python"
        }
      },
      "outputs": [],
      "source": [
        "a = np.arange(4*3).reshape(4,3)\n",
        "a[0:2,[1]]"
      ],
      "id": "77e80673-e8c8-4d1a-bfbd-76d498c54fd6"
    },
    {
      "cell_type": "markdown",
      "metadata": {},
      "source": [
        "## Hash\n",
        "\n",
        "`-` 예제1: (key,value)"
      ],
      "id": "5ca62a6b-afff-4a9c-9a5d-dce4f18917f8"
    },
    {
      "cell_type": "code",
      "execution_count": 31,
      "metadata": {
        "vscode": {
          "languageId": "python"
        }
      },
      "outputs": [],
      "source": [
        "d={'att':65, 'rep':45, 'mid':30, 'fin':100}\n",
        "d"
      ],
      "id": "7f056d27-82c8-4860-a51b-2a172ab6ea14"
    },
    {
      "cell_type": "code",
      "execution_count": 33,
      "metadata": {
        "vscode": {
          "languageId": "python"
        }
      },
      "outputs": [],
      "source": [
        "d['att'] # key를 넣으면 value가 리턴"
      ],
      "id": "959129cb-ccda-4849-9bb9-e5159a22d037"
    },
    {
      "cell_type": "markdown",
      "metadata": {},
      "source": [
        "`-` 예제2: numpy와 비교"
      ],
      "id": "a8cb7c77-8f98-4ce4-8311-22b9c34af56e"
    },
    {
      "cell_type": "code",
      "execution_count": 44,
      "metadata": {
        "vscode": {
          "languageId": "python"
        }
      },
      "outputs": [],
      "source": [
        "np.random.seed(43052)\n",
        "att = np.random.choice(np.arange(10,21)*5,200)\n",
        "rep = np.random.choice(np.arange(5,21)*5,200)\n",
        "mid = np.random.choice(np.arange(0,21)*5,200)\n",
        "fin = np.random.choice(np.arange(0,21)*5,200)\n",
        "key = ['202212'+str(s) for s in np.random.choice(np.arange(300,501),200,replace=False)]\n",
        "test_dic = {key[i] : {'att':att[i], 'rep':rep[i], 'mid':mid[i], 'fin':fin[i]} for i in range(200)}\n",
        "test_ndarray = np.array([key,att,rep,mid,fin],dtype=np.int64).T\n",
        "del(att);del(rep);del(mid);del(fin);del(key)"
      ],
      "id": "fb8b120f-6341-4d03-980e-69aa9f31eb70"
    },
    {
      "cell_type": "markdown",
      "metadata": {},
      "source": [
        "학번 ’202212460’에 해당하는 학생의 출석점수를 알고 싶다면?\n",
        "\n",
        "(풀이1)"
      ],
      "id": "f39a78b4-2c2a-44a8-9324-79f6ce534bb0"
    },
    {
      "cell_type": "code",
      "execution_count": 45,
      "metadata": {
        "vscode": {
          "languageId": "python"
        }
      },
      "outputs": [],
      "source": [
        "test_dic['202212460']['att']"
      ],
      "id": "35146e3a-ca1a-45f1-be4c-98e197dbdaa4"
    },
    {
      "cell_type": "markdown",
      "metadata": {},
      "source": [
        "(풀이2)"
      ],
      "id": "0746f5b8-3bd5-4d50-ac22-f42c541440b4"
    },
    {
      "cell_type": "code",
      "execution_count": 53,
      "metadata": {
        "vscode": {
          "languageId": "python"
        }
      },
      "outputs": [],
      "source": [
        "test_ndarray[test_ndarray[:,0] == 202212460, 1] ## 이게 무슨코드야 도데체!"
      ],
      "id": "a28045cf-e2aa-4751-9cc7-f19267ca0fa9"
    },
    {
      "cell_type": "markdown",
      "metadata": {},
      "source": [
        "**(풀이2)가 (풀이1)에 비하여 불편한 점** - test_ndarray의 첫칼럼은\n",
        "student id 이고 두번째 칼럼은 att라는 사실을 암기하고 있어야 한다. -\n",
        "student id가 아니고 만약에 학생이름을 써서 데이터를 정리한다면 모든\n",
        "자료형은 문자형이 되어야 한다. - 작성한 코드의 가독성이 없다. (위치로\n",
        "접근하기 때문)\n",
        "\n",
        "`-` 요약: hash 스타일로 정보를 추출하는 것이 유용할 때가 있다. 그리고\n",
        "보통 hash 스타일로 정보를 뽑는 것이 유리하다. (사실 numpy는 정보추출을\n",
        "위해 개발된 자료형이 아니라 행렬 및 벡터의 수학연산을 지원하기 위해\n",
        "개발된 자료형이다)\n",
        "\n",
        "`-` 소망: 정보를 추출할때는 hash 스타일도 유용하다는 것은 이해함 $\\to$\n",
        "하지만 나는 가끔 넘파이스타일로 정보를 뽑고 싶은걸? 그리고 딕셔너리\n",
        "형태가 아니고 엑셀처럼(행렬처럼) 데이터를 보고 싶은걸? $\\to$ pandas의\n",
        "개발\n",
        "\n",
        "# pandas 개발동기\n",
        "\n",
        "## 엑셀처럼\n",
        "\n",
        "***엑셀처럼 데이터를 테이블 형태로 정리하고 싶다!!***"
      ],
      "id": "f62d7ca9-680c-4f1e-be97-22c5dbe2ed8a"
    },
    {
      "cell_type": "code",
      "execution_count": 173,
      "metadata": {
        "vscode": {
          "languageId": "python"
        }
      },
      "outputs": [],
      "source": [
        "np.random.seed(43052)\n",
        "att = np.random.choice(np.arange(10,21)*5,20)\n",
        "rep = np.random.choice(np.arange(5,21)*5,20)\n",
        "mid = np.random.choice(np.arange(0,21)*5,20)\n",
        "fin = np.random.choice(np.arange(0,21)*5,20)\n",
        "key = ['202212'+str(s) for s in np.random.choice(np.arange(300,501),20,replace=False)]\n",
        "test_dic = {key[i] : {'att':att[i], 'rep':rep[i], 'mid':mid[i], 'fin':fin[i]} for i in range(20)}"
      ],
      "id": "9954d1b7-00c2-4b39-9de8-7db4818b242e"
    },
    {
      "cell_type": "code",
      "execution_count": 174,
      "metadata": {
        "vscode": {
          "languageId": "python"
        }
      },
      "outputs": [],
      "source": [
        "test_dic"
      ],
      "id": "a8c9b284-7d07-464e-9073-68fa3a45e86a"
    },
    {
      "cell_type": "markdown",
      "metadata": {},
      "source": [
        "-   테이블형태로 보고 싶다.\n",
        "\n",
        "(방법1) – 행렬이기는 하지만 방법 2,3,4,5 에 비하여 우리가 원하는 만큼\n",
        "가독성을 주는 형태는 아님.."
      ],
      "id": "67ba3b1a-534c-4d76-8683-15f06b142e6f"
    },
    {
      "cell_type": "code",
      "execution_count": 175,
      "metadata": {
        "vscode": {
          "languageId": "python"
        }
      },
      "outputs": [],
      "source": [
        "test_ndarray = np.array([key,att,rep,mid,fin],dtype=np.int64).T\n",
        "test_ndarray"
      ],
      "id": "c04215e8-850d-430b-a4f8-47825b587612"
    },
    {
      "cell_type": "markdown",
      "metadata": {},
      "source": [
        "(방법2)"
      ],
      "id": "09bf84b0-9621-4368-8ba9-cdc89bf506e8"
    },
    {
      "cell_type": "code",
      "execution_count": 176,
      "metadata": {
        "vscode": {
          "languageId": "python"
        }
      },
      "outputs": [],
      "source": [
        "pd.DataFrame(test_dic).T"
      ],
      "id": "f4e77cca-fd9e-45e3-85d6-2cb31ef544b4"
    },
    {
      "cell_type": "markdown",
      "metadata": {},
      "source": [
        "(방법3)"
      ],
      "id": "d96cedbd-6617-4052-af02-6553965fca64"
    },
    {
      "cell_type": "code",
      "execution_count": 177,
      "metadata": {
        "vscode": {
          "languageId": "python"
        }
      },
      "outputs": [],
      "source": [
        "test_dic2 = {'att':{key[i]:att[i] for i in range(20)}, \n",
        "             'rep':{key[i]:rep[i] for i in range(20)},\n",
        "             'mid':{key[i]:mid[i] for i in range(20)},\n",
        "             'fin':{key[i]:fin[i] for i in range(20)}}"
      ],
      "id": "336c5ae3-ddbe-4459-8542-01c405455f13"
    },
    {
      "cell_type": "code",
      "execution_count": 178,
      "metadata": {
        "vscode": {
          "languageId": "python"
        }
      },
      "outputs": [],
      "source": [
        "pd.DataFrame(test_dic2)"
      ],
      "id": "8d1ca08f-3733-49b9-8fc7-099325fb4ee5"
    },
    {
      "cell_type": "markdown",
      "metadata": {},
      "source": [
        "(방법4)"
      ],
      "id": "bc2f681f-ff34-4d0c-a91a-138dcd9e512e"
    },
    {
      "cell_type": "code",
      "execution_count": 179,
      "metadata": {
        "vscode": {
          "languageId": "python"
        }
      },
      "outputs": [],
      "source": [
        "df = pd.DataFrame({'att':att, 'rep':rep, 'mid':mid, 'fin':fin},index=key)\n",
        "df"
      ],
      "id": "4a2c11cc-1cba-473f-a19a-6cc4e88c6d05"
    },
    {
      "cell_type": "markdown",
      "metadata": {},
      "source": [
        "(방법5)"
      ],
      "id": "c2b952e1-844c-4c3a-b136-1eadfd407600"
    },
    {
      "cell_type": "code",
      "execution_count": 180,
      "metadata": {
        "vscode": {
          "languageId": "python"
        }
      },
      "outputs": [],
      "source": [
        "df = pd.DataFrame({'att':att, 'rep':rep, 'mid':mid, 'fin':fin})\n",
        "df"
      ],
      "id": "afebbb23-b401-453e-8458-1bed25895207"
    },
    {
      "cell_type": "code",
      "execution_count": 181,
      "metadata": {
        "vscode": {
          "languageId": "python"
        }
      },
      "outputs": [],
      "source": [
        "df=df.set_index([key])\n",
        "df"
      ],
      "id": "dbc9916c-0c6f-427e-9c96-8f1d52ecb97d"
    },
    {
      "cell_type": "markdown",
      "metadata": {},
      "source": [
        "## 딕셔너리처럼\n",
        "\n",
        "***해싱으로 원하는 정보를 뽑으면 좋겠다!!(마치 딕셔너리처럼)***\n",
        "\n",
        "`-` 예제1: 출석점수를 출력"
      ],
      "id": "d0665b82-93a4-4834-ab23-b2ab71efb69d"
    },
    {
      "cell_type": "code",
      "execution_count": 182,
      "metadata": {
        "vscode": {
          "languageId": "python"
        }
      },
      "outputs": [],
      "source": [
        "test_dic2['att']"
      ],
      "id": "8234415a-12c7-41d4-b48b-c0e2c7fe7498"
    },
    {
      "cell_type": "code",
      "execution_count": 183,
      "metadata": {
        "vscode": {
          "languageId": "python"
        }
      },
      "outputs": [],
      "source": [
        "df['att']"
      ],
      "id": "9f5f3781-be03-4d27-beea-47ffdadeb06f"
    },
    {
      "cell_type": "markdown",
      "metadata": {},
      "source": [
        "`-` 예제2: 학번 202212380’의 출석점수 출력"
      ],
      "id": "ab552ff8-e341-400a-a1c9-18d83a3be35e"
    },
    {
      "cell_type": "code",
      "execution_count": 184,
      "metadata": {
        "vscode": {
          "languageId": "python"
        }
      },
      "outputs": [],
      "source": [
        "test_dic2['att']['202212380']"
      ],
      "id": "1587fdc7-6329-430a-9128-600286dd69fb"
    },
    {
      "cell_type": "code",
      "execution_count": 185,
      "metadata": {
        "vscode": {
          "languageId": "python"
        }
      },
      "outputs": [],
      "source": [
        "df['att']['202212380']"
      ],
      "id": "d86a5656-e0e1-4f28-8417-4f17d4097319"
    },
    {
      "cell_type": "markdown",
      "metadata": {},
      "source": [
        "## 리스트(or넘파이)처럼\n",
        "\n",
        "***인덱싱으로 정보를 뽑는 기능도 지원을 하면 좋겠다 (마치 리스트나\n",
        "넘파이처럼)***\n",
        "\n",
        "`-` 예제1: 첫번째 학생의 기말고사 성적을 출력하고 싶다."
      ],
      "id": "39063881-6913-482a-bd4e-658279e30873"
    },
    {
      "cell_type": "code",
      "execution_count": 186,
      "metadata": {
        "vscode": {
          "languageId": "python"
        }
      },
      "outputs": [],
      "source": [
        "test_ndarray[0,-1]"
      ],
      "id": "40467e69-2952-41fc-bfa9-f1586af57c77"
    },
    {
      "cell_type": "code",
      "execution_count": 199,
      "metadata": {
        "vscode": {
          "languageId": "python"
        }
      },
      "outputs": [],
      "source": [
        "df.iloc[0,-1]"
      ],
      "id": "173c3fc7-f088-4d2c-af21-233d281590b4"
    },
    {
      "cell_type": "markdown",
      "metadata": {},
      "source": [
        "-   벼락치기: df에서 iloc이라는 특수기능을 이용하면 넘파이 인덱싱처럼\n",
        "    원소출력이 가능하다.\n",
        "\n",
        "`-` 예제2: 홀수번째 학생의 점수를 뽑고 싶다."
      ],
      "id": "f6183d17-a596-4faa-8f56-35b0ce9c5da1"
    },
    {
      "cell_type": "code",
      "execution_count": 188,
      "metadata": {
        "vscode": {
          "languageId": "python"
        }
      },
      "outputs": [],
      "source": [
        "test_ndarray[::2]"
      ],
      "id": "0d446a90-d9a3-4822-b6df-87a1cd6b895c"
    },
    {
      "cell_type": "code",
      "execution_count": 202,
      "metadata": {
        "vscode": {
          "languageId": "python"
        }
      },
      "outputs": [],
      "source": [
        "df.iloc[::2]"
      ],
      "id": "5b011fd7-f734-4e22-8975-ac32f36645c0"
    },
    {
      "cell_type": "markdown",
      "metadata": {},
      "source": [
        "`-` 예제3: 맨 끝에서 3명의 점수를 출력하고 싶다."
      ],
      "id": "f4361845-4414-4421-8a03-6c79d758661a"
    },
    {
      "cell_type": "code",
      "execution_count": 113,
      "metadata": {
        "vscode": {
          "languageId": "python"
        }
      },
      "outputs": [],
      "source": [
        "test_ndarray[-3:]"
      ],
      "id": "886cd85a-a6bd-4be3-a430-db94d6fe4736"
    },
    {
      "cell_type": "code",
      "execution_count": 114,
      "metadata": {
        "vscode": {
          "languageId": "python"
        }
      },
      "outputs": [],
      "source": [
        "df.iloc[-3:]"
      ],
      "id": "d6a7b2e0-2cb8-4592-9649-db7508367198"
    },
    {
      "cell_type": "code",
      "execution_count": 191,
      "metadata": {
        "vscode": {
          "languageId": "python"
        }
      },
      "outputs": [],
      "source": [
        "df[-3:]"
      ],
      "id": "e88a5e2d-e490-4230-878f-aed76feec9f2"
    },
    {
      "cell_type": "markdown",
      "metadata": {},
      "source": [
        "`-` 예제4: 맨 끝에서 3명의 점수중 마지막 2개의 칼럼만 출력하고 싶다."
      ],
      "id": "af905175-8a02-4a27-a763-fe9acfbda111"
    },
    {
      "cell_type": "code",
      "execution_count": 193,
      "metadata": {
        "vscode": {
          "languageId": "python"
        }
      },
      "outputs": [],
      "source": [
        "test_ndarray[-3:,-2:]"
      ],
      "id": "c7b9b8d8-0836-4515-b80d-35b1273fda88"
    },
    {
      "cell_type": "code",
      "execution_count": 194,
      "metadata": {
        "vscode": {
          "languageId": "python"
        }
      },
      "outputs": [],
      "source": [
        "df.iloc[-3:,-2:]"
      ],
      "id": "c8ae95e5-02aa-4ab5-a9a0-85e7065de4eb"
    },
    {
      "cell_type": "markdown",
      "metadata": {},
      "source": [
        "## 다 되는거?\n",
        "\n",
        "***궁극: 해싱과 인덱싱을 모두 지원하는 아주 우수한 자료형을 만들고\n",
        "싶음***\n",
        "\n",
        "`-` 예제1: 중간고사 점수가 20점 이상이면서 동시에 출석점수가 60점미만인\n",
        "학생들의 기말고사 점수를 출력\n",
        "\n",
        "(방법1) 데이터베이스 스타일"
      ],
      "id": "f3e2329d-8b2a-48f1-aa9a-cadeb3ea5a23"
    },
    {
      "cell_type": "code",
      "execution_count": 117,
      "metadata": {
        "vscode": {
          "languageId": "python"
        }
      },
      "outputs": [],
      "source": [
        "df.query(\"mid >= 20 and att <60\")"
      ],
      "id": "a431f764-7f6a-4638-af8c-160dadddb889"
    },
    {
      "cell_type": "code",
      "execution_count": 118,
      "metadata": {
        "vscode": {
          "languageId": "python"
        }
      },
      "outputs": [],
      "source": [
        "df.query(\"mid >= 20 and att <60\")['fin']"
      ],
      "id": "df6b5337-9cdd-45b8-a5e4-ca1c2b4b624a"
    },
    {
      "cell_type": "markdown",
      "metadata": {},
      "source": [
        "(방법2) 넘파이 스타일이라면?"
      ],
      "id": "eb3cdcdb-b54a-462a-887d-28be63f64af6"
    },
    {
      "cell_type": "code",
      "execution_count": 123,
      "metadata": {
        "vscode": {
          "languageId": "python"
        }
      },
      "outputs": [],
      "source": [
        "test_ndarray"
      ],
      "id": "cd063f49-390b-4447-9eb3-9eef29d95786"
    },
    {
      "cell_type": "code",
      "execution_count": 124,
      "metadata": {
        "vscode": {
          "languageId": "python"
        }
      },
      "outputs": [],
      "source": [
        "test_ndarray[:,3] >= 20  ## 중간고사가 20점이상"
      ],
      "id": "b651a930-2515-4d64-995b-bb1602910001"
    },
    {
      "cell_type": "code",
      "execution_count": 125,
      "metadata": {
        "vscode": {
          "languageId": "python"
        }
      },
      "outputs": [],
      "source": [
        "test_ndarray[:,1] < 60  ## 출석이 60미만"
      ],
      "id": "5a580b31-a8ec-4aa8-b757-69577a8aff6d"
    },
    {
      "cell_type": "code",
      "execution_count": 128,
      "metadata": {
        "vscode": {
          "languageId": "python"
        }
      },
      "outputs": [],
      "source": [
        "(test_ndarray[:,3] >= 20) & (test_ndarray[:,1] < 60)"
      ],
      "id": "424b4086-a6dd-427c-8f49-5d4dd0164351"
    },
    {
      "cell_type": "markdown",
      "metadata": {},
      "source": [
        "> note: test_ndarray\\[:,3\\] \\>= 20 & test_ndarray\\[:,1\\] \\< 60 와 같이\n",
        "> 하면 에러가 난다. 조심하자!"
      ],
      "id": "08f53d55-afc7-423d-8750-22c4eacb36cf"
    },
    {
      "cell_type": "code",
      "execution_count": 132,
      "metadata": {
        "vscode": {
          "languageId": "python"
        }
      },
      "outputs": [],
      "source": [
        "test_ndarray[(test_ndarray[:,3] >= 20) & (test_ndarray[:,1] < 60),-1] # 이게 무슨코드야"
      ],
      "id": "84b19f97-aec3-469f-938c-73bd2c746e71"
    },
    {
      "cell_type": "markdown",
      "metadata": {},
      "source": [
        "-   구현난이도 어려움, 가독성 꽝\n",
        "\n",
        "`-` 예제2: ’중간고사점수\\<기말고사점수’인 학생들의 출석점수 평균을\n",
        "구하자."
      ],
      "id": "3ae62222-508f-4c6a-9860-9b39070c8aeb"
    },
    {
      "cell_type": "code",
      "execution_count": 135,
      "metadata": {
        "vscode": {
          "languageId": "python"
        }
      },
      "outputs": [],
      "source": [
        "df.query('mid<fin')['att'].mean()"
      ],
      "id": "7a0210b3-228a-4031-b04d-2c3cabbe3c46"
    },
    {
      "cell_type": "markdown",
      "metadata": {},
      "source": [
        "# 판다스 공부 1단계\n",
        "\n",
        "## 데이터프레임 선언\n",
        "\n",
        "`-` 방법1: dictionary에서 만든다."
      ],
      "id": "74d17a9c-37e6-4054-8a47-90296afe5e7c"
    },
    {
      "cell_type": "code",
      "execution_count": 137,
      "metadata": {
        "vscode": {
          "languageId": "python"
        }
      },
      "outputs": [],
      "source": [
        "pd.DataFrame({'att':[30,40,50],'mid':[50,60,70]})"
      ],
      "id": "d1143425-5f9f-4f13-bf09-645935793e98"
    },
    {
      "cell_type": "code",
      "execution_count": 138,
      "metadata": {
        "vscode": {
          "languageId": "python"
        }
      },
      "outputs": [],
      "source": [
        "pd.DataFrame({'att':(30,40,50),'mid':(50,60,70)})"
      ],
      "id": "16241bde-8aa4-41c4-9124-a9cd336334ed"
    },
    {
      "cell_type": "code",
      "execution_count": 139,
      "metadata": {
        "vscode": {
          "languageId": "python"
        }
      },
      "outputs": [],
      "source": [
        "pd.DataFrame({'att':np.array([30,40,50]),'mid':np.array([50,60,70])})"
      ],
      "id": "2c19ce20-cbb6-4c39-8d24-7f0ff2327928"
    },
    {
      "cell_type": "markdown",
      "metadata": {},
      "source": [
        "`-` 방법: 2차원 ndarray에서 만든다."
      ],
      "id": "01f9cca1-eb72-4d73-abc8-e0ac6d60f9df"
    },
    {
      "cell_type": "code",
      "execution_count": 140,
      "metadata": {
        "vscode": {
          "languageId": "python"
        }
      },
      "outputs": [],
      "source": [
        "np.arange(2*3).reshape(2,3)"
      ],
      "id": "e41df31c-bdec-4aad-86a2-2f4b59f63ca9"
    },
    {
      "cell_type": "code",
      "execution_count": 141,
      "metadata": {
        "vscode": {
          "languageId": "python"
        }
      },
      "outputs": [],
      "source": [
        "pd.DataFrame(np.arange(2*3).reshape(2,3))"
      ],
      "id": "bc7b9116-4d57-482e-acec-929a4802bad4"
    },
    {
      "cell_type": "markdown",
      "metadata": {},
      "source": [
        "## 열의 이름 부여\n",
        "\n",
        "`-` 방법1: 딕셔너리를 통하여 만들면 딕셔너리의 key가 자동으로 열의\n",
        "이름이 된다."
      ],
      "id": "9c06b7ce-a8ce-4ea7-9021-4437c739d5d6"
    },
    {
      "cell_type": "code",
      "execution_count": 142,
      "metadata": {
        "vscode": {
          "languageId": "python"
        }
      },
      "outputs": [],
      "source": [
        "pd.DataFrame({'att':np.array([30,40,50]),'mid':np.array([50,60,70])})"
      ],
      "id": "f3d7cd37-857b-402a-8b7b-0c317653c3af"
    },
    {
      "cell_type": "markdown",
      "metadata": {},
      "source": [
        "`-` 방법2: pd.DataFrame()의 옵션에 columns를 이용"
      ],
      "id": "4bde8112-bfac-4559-bfa0-81b1a7761bd2"
    },
    {
      "cell_type": "code",
      "execution_count": 144,
      "metadata": {
        "vscode": {
          "languageId": "python"
        }
      },
      "outputs": [],
      "source": [
        "pd.DataFrame(np.arange(2*3).reshape(2,3),columns=['X1','X2','X3'])"
      ],
      "id": "ba302590-dfe4-484a-b3f2-6b55530c8c62"
    },
    {
      "cell_type": "markdown",
      "metadata": {},
      "source": [
        "`-` 방법3: df.columns에 원하는 열이름을 덮어씀 (1)"
      ],
      "id": "d1ae591a-f4c7-4f6c-9706-78b417768736"
    },
    {
      "cell_type": "code",
      "execution_count": 157,
      "metadata": {
        "vscode": {
          "languageId": "python"
        }
      },
      "outputs": [],
      "source": [
        "df=pd.DataFrame(np.arange(2*3).reshape(2,3))\n",
        "df"
      ],
      "id": "11ce0230-b807-41c4-bf1e-84a67ad2b23a"
    },
    {
      "cell_type": "code",
      "execution_count": 158,
      "metadata": {
        "vscode": {
          "languageId": "python"
        }
      },
      "outputs": [],
      "source": [
        "df.columns = ['X1','X2','X3']"
      ],
      "id": "fdbb8bdc-a81a-4a1e-af81-8608324fb53e"
    },
    {
      "cell_type": "code",
      "execution_count": 159,
      "metadata": {
        "vscode": {
          "languageId": "python"
        }
      },
      "outputs": [],
      "source": [
        "df"
      ],
      "id": "ec4d484e-6bcb-400a-993d-349e02c57415"
    },
    {
      "cell_type": "code",
      "execution_count": 162,
      "metadata": {
        "vscode": {
          "languageId": "python"
        }
      },
      "outputs": [],
      "source": [
        "df.columns"
      ],
      "id": "cc4a28a8-b471-4707-8c51-3586a2a27cb4"
    },
    {
      "cell_type": "markdown",
      "metadata": {},
      "source": [
        "`-` 방법4: df.columns에 원하는 열이름을 덮어씀 (2)"
      ],
      "id": "f1299a01-2e38-4ab8-b7d0-957a866c811a"
    },
    {
      "cell_type": "code",
      "execution_count": 166,
      "metadata": {
        "vscode": {
          "languageId": "python"
        }
      },
      "outputs": [],
      "source": [
        "df=pd.DataFrame(np.arange(2*3).reshape(2,3))\n",
        "df"
      ],
      "id": "a11f5374-1075-4cb7-b0d5-1dde0b00ecfe"
    },
    {
      "cell_type": "code",
      "execution_count": 167,
      "metadata": {
        "vscode": {
          "languageId": "python"
        }
      },
      "outputs": [],
      "source": [
        "df.columns = pd.Index(['X1','X2','X3'])"
      ],
      "id": "53431c90-a605-4a68-80d8-91a2dd55ce1a"
    },
    {
      "cell_type": "code",
      "execution_count": 168,
      "metadata": {
        "vscode": {
          "languageId": "python"
        }
      },
      "outputs": [],
      "source": [
        "df"
      ],
      "id": "ebb4d29c-6151-4c54-b80e-1caaf2128f18"
    },
    {
      "cell_type": "markdown",
      "metadata": {},
      "source": [
        "방법4가 방법3의 방식보다 컴퓨터가 이해하기 좋다. (= 불필요한 에러를\n",
        "방지할 수 있다)"
      ],
      "id": "c91e6fa6-532a-411f-a761-5b4a1c80a057"
    },
    {
      "cell_type": "code",
      "execution_count": 170,
      "metadata": {
        "vscode": {
          "languageId": "python"
        }
      },
      "outputs": [],
      "source": [
        "df.columns, type(df.columns)"
      ],
      "id": "3f58fa48-9159-46bd-a740-400e957b2272"
    },
    {
      "cell_type": "code",
      "execution_count": 171,
      "metadata": {
        "vscode": {
          "languageId": "python"
        }
      },
      "outputs": [],
      "source": [
        "['X1','X2','X3'], type(['X1','X2','X3'])"
      ],
      "id": "53ab2fc5-3377-4e8e-8f35-7f3dd20249db"
    },
    {
      "cell_type": "code",
      "execution_count": 172,
      "metadata": {
        "vscode": {
          "languageId": "python"
        }
      },
      "outputs": [],
      "source": [
        "pd.Index(['X1','X2','X3']), type(pd.Index(['X1','X2','X3']))"
      ],
      "id": "2f0930e8-0fb6-4612-b59a-53cbfcee6171"
    },
    {
      "cell_type": "markdown",
      "metadata": {},
      "source": [
        "## 행의 이름 부여\n",
        "\n",
        "`-` 방법1: 중첩 dict이면 nested dic의 key가 알아서 행의 이름으로 된다."
      ],
      "id": "8d8d96e0-1473-4148-aa82-f1eec790d90e"
    },
    {
      "cell_type": "code",
      "execution_count": 206,
      "metadata": {
        "vscode": {
          "languageId": "python"
        }
      },
      "outputs": [],
      "source": [
        "pd.DataFrame({'att':{'guebin':30, 'iu':40, 'hynn':50} , 'mid':{'guebin':5, 'iu':45, 'hynn':90}})"
      ],
      "id": "0832a231-8c79-4ce1-a6e0-bea8dac1d83f"
    },
    {
      "cell_type": "markdown",
      "metadata": {},
      "source": [
        "`-` 방법2: pd.DataFrame()의 index 옵션 이용"
      ],
      "id": "b9c351ad-dedf-4914-a088-227e0cb2ee5d"
    },
    {
      "cell_type": "code",
      "execution_count": 212,
      "metadata": {
        "vscode": {
          "languageId": "python"
        }
      },
      "outputs": [],
      "source": [
        "pd.DataFrame({'att':[30,40,50] , 'mid':[5,45,90]}, index=['guebin','iu','hynn'])"
      ],
      "id": "0b92efc7-30c4-4f86-ab70-2980f4be39f3"
    },
    {
      "cell_type": "markdown",
      "metadata": {},
      "source": [
        "`-` 방법3: df.index에 덮어씌움"
      ],
      "id": "d96ce341-6bbf-4624-bd44-a6eb5725588c"
    },
    {
      "cell_type": "code",
      "execution_count": 223,
      "metadata": {
        "vscode": {
          "languageId": "python"
        }
      },
      "outputs": [],
      "source": [
        "df=pd.DataFrame({'att':[30,40,50] , 'mid':[5,45,90]})\n",
        "df"
      ],
      "id": "44217c28-bb81-44f4-8caa-b057fab6e452"
    },
    {
      "cell_type": "code",
      "execution_count": 226,
      "metadata": {
        "vscode": {
          "languageId": "python"
        }
      },
      "outputs": [],
      "source": [
        "df.index = pd.Index(['guebin','iu','hynn'])\n",
        "#df.index = ['guebin','iu','hynn'] <- 이것도 실행 되기는 된다.\n",
        "df"
      ],
      "id": "51734ac7-92fe-42b5-8080-dd6b7184c14f"
    },
    {
      "cell_type": "markdown",
      "metadata": {},
      "source": [
        "`-` 방법4: df.set_index() 를 이용하여 덮어씌운다"
      ],
      "id": "1001253b-556f-49c4-9639-3e2380e4a01c"
    },
    {
      "cell_type": "code",
      "execution_count": 227,
      "metadata": {
        "vscode": {
          "languageId": "python"
        }
      },
      "outputs": [],
      "source": [
        "df=pd.DataFrame({'att':[30,40,50] , 'mid':[5,45,90]})\n",
        "df"
      ],
      "id": "d97ce32c-582a-4a22-a32a-0fdaeb97f64a"
    },
    {
      "cell_type": "code",
      "execution_count": 229,
      "metadata": {
        "vscode": {
          "languageId": "python"
        }
      },
      "outputs": [],
      "source": [
        "df.set_index(pd.Index(['guebin','iu','hynn']))"
      ],
      "id": "b85ec6e9-8875-448e-a20f-e065241c882c"
    },
    {
      "cell_type": "markdown",
      "metadata": {},
      "source": [
        "(주의) 아래는 에러가 난다."
      ],
      "id": "fef2f6da-8a43-4861-9d64-e5fba35e6e18"
    },
    {
      "cell_type": "code",
      "execution_count": 230,
      "metadata": {
        "vscode": {
          "languageId": "python"
        }
      },
      "outputs": [],
      "source": [
        "df.set_index(['guebin','iu','hynn'])"
      ],
      "id": "8010f1d8-f730-4bf9-8228-e949173df0ba"
    },
    {
      "cell_type": "code",
      "execution_count": 232,
      "metadata": {
        "vscode": {
          "languageId": "python"
        }
      },
      "outputs": [],
      "source": [
        "df.set_index([['guebin','iu','hynn']]) # 꺽쇠를 한번 더 넣어주면 에러를 피할수 있다. "
      ],
      "id": "2a4d4573-c7dc-443e-b5f3-ec984b72f9f5"
    },
    {
      "cell_type": "markdown",
      "metadata": {},
      "source": [
        "## 자료형, len, shape, for문의 반복변수"
      ],
      "id": "913f723a-0cc4-4486-8afd-78c4ee1b0572"
    },
    {
      "cell_type": "code",
      "execution_count": 233,
      "metadata": {
        "vscode": {
          "languageId": "python"
        }
      },
      "outputs": [],
      "source": [
        "df = pd.DataFrame({'att':[30,40,50],'mid':[5,45,90]})\n",
        "df"
      ],
      "id": "9785296d-8f89-40a4-af68-99318b274d12"
    },
    {
      "cell_type": "markdown",
      "metadata": {},
      "source": [
        "`-` type"
      ],
      "id": "06bb8e16-a876-48fe-8e65-09e6d84f5d2b"
    },
    {
      "cell_type": "code",
      "execution_count": 234,
      "metadata": {
        "vscode": {
          "languageId": "python"
        }
      },
      "outputs": [],
      "source": [
        "type(df)"
      ],
      "id": "458738ab-1d42-4946-b897-68754e526b2d"
    },
    {
      "cell_type": "markdown",
      "metadata": {},
      "source": [
        "`-` len"
      ],
      "id": "1db46c2b-f64c-4e6c-9123-7c6fb743ff7d"
    },
    {
      "cell_type": "code",
      "execution_count": 237,
      "metadata": {
        "vscode": {
          "languageId": "python"
        }
      },
      "outputs": [],
      "source": [
        "len(df) # row의 갯수 "
      ],
      "id": "b5853260-e28e-4d1a-9da4-7cd0d67299b1"
    },
    {
      "cell_type": "markdown",
      "metadata": {},
      "source": [
        "`-` shape"
      ],
      "id": "2c87f9e7-5327-4f14-8c31-010984c4e658"
    },
    {
      "cell_type": "code",
      "execution_count": 239,
      "metadata": {
        "vscode": {
          "languageId": "python"
        }
      },
      "outputs": [],
      "source": [
        "df.shape "
      ],
      "id": "fa9eb64b-b55c-4d47-874f-51c7000cca7d"
    },
    {
      "cell_type": "markdown",
      "metadata": {},
      "source": [
        "`-` for문의 반복변수"
      ],
      "id": "11fcda66-a990-46e2-9d7f-015eeec5d69a"
    },
    {
      "cell_type": "code",
      "execution_count": 242,
      "metadata": {
        "vscode": {
          "languageId": "python"
        }
      },
      "outputs": [
        {
          "output_type": "stream",
          "name": "stdout",
          "text": [
            "att\n",
            "mid"
          ]
        }
      ],
      "source": [
        "for k in df:\n",
        "    print(k) # 딕셔너리같죠"
      ],
      "id": "cf0cf609-2588-48c4-b3ea-438324027709"
    },
    {
      "cell_type": "code",
      "execution_count": 243,
      "metadata": {
        "vscode": {
          "languageId": "python"
        }
      },
      "outputs": [
        {
          "output_type": "stream",
          "name": "stdout",
          "text": [
            "att\n",
            "mid"
          ]
        }
      ],
      "source": [
        "for k in {'att':[30,40,50],'mid':[5,45,90]}: \n",
        "    print(k)"
      ],
      "id": "ef22078b-3b7a-48a4-94fd-e69f241446a4"
    },
    {
      "cell_type": "markdown",
      "metadata": {},
      "source": [
        "## pd.Series\n",
        "\n",
        "`-` 2차원 ndarray가 pd.DataFrame에 대응한다면 1차원 ndarray는\n",
        "pd.Series에 대응한다."
      ],
      "id": "e519ba61-fa4f-4b03-af23-fd38b3711b00"
    },
    {
      "cell_type": "code",
      "execution_count": 246,
      "metadata": {
        "vscode": {
          "languageId": "python"
        }
      },
      "outputs": [],
      "source": [
        "a=pd.Series(np.random.randn(10))\n",
        "a"
      ],
      "id": "a2e77f60-68a0-4a0d-a2a5-9fb8899a9ac7"
    },
    {
      "cell_type": "code",
      "execution_count": 247,
      "metadata": {
        "vscode": {
          "languageId": "python"
        }
      },
      "outputs": [],
      "source": [
        "type(a)"
      ],
      "id": "8755908d-3a6c-41c2-93c6-4034262e2a0e"
    },
    {
      "cell_type": "code",
      "execution_count": 248,
      "metadata": {
        "vscode": {
          "languageId": "python"
        }
      },
      "outputs": [],
      "source": [
        "len(a)"
      ],
      "id": "e3b0cab1-0c21-4ada-afbf-d4d0e3bfcf15"
    },
    {
      "cell_type": "code",
      "execution_count": 249,
      "metadata": {
        "vscode": {
          "languageId": "python"
        }
      },
      "outputs": [],
      "source": [
        "a.shape"
      ],
      "id": "6f492e88-ed92-4f8d-ad6d-4ddc42493ce4"
    },
    {
      "cell_type": "code",
      "execution_count": 259,
      "metadata": {
        "vscode": {
          "languageId": "python"
        }
      },
      "outputs": [
        {
          "output_type": "stream",
          "name": "stdout",
          "text": [
            "0.45375797778887145\n",
            "-0.7162702753778524\n",
            "-0.1677503294060748\n",
            "0.08954572073306402\n",
            "0.8740060519863648\n",
            "0.40162700372357163\n",
            "0.20491068603376858\n",
            "1.0427224662413124\n",
            "-0.3523562215445016\n",
            "-1.2416580554177619"
          ]
        }
      ],
      "source": [
        "for value in a: \n",
        "    print(value)"
      ],
      "id": "af0fedb2-ed48-49fd-9a26-84de28ff9f3a"
    },
    {
      "cell_type": "markdown",
      "metadata": {},
      "source": [
        "# 판다스 공부 2단계\n",
        "\n",
        "`-` 데이터"
      ],
      "id": "791012b7-0e1a-46fe-94ff-3f5337f18d04"
    },
    {
      "cell_type": "code",
      "execution_count": 261,
      "metadata": {
        "vscode": {
          "languageId": "python"
        }
      },
      "outputs": [],
      "source": [
        "np.random.seed(43052)\n",
        "att = np.random.choice(np.arange(10,21)*5,20)\n",
        "rep = np.random.choice(np.arange(5,21)*5,20)\n",
        "mid = np.random.choice(np.arange(0,21)*5,20)\n",
        "fin = np.random.choice(np.arange(0,21)*5,20)\n",
        "key = ['202212'+str(s) for s in np.random.choice(np.arange(300,501),20,replace=False)]"
      ],
      "id": "4852b648-fece-4332-a622-5e7f5abc7e9c"
    },
    {
      "cell_type": "code",
      "execution_count": 264,
      "metadata": {
        "vscode": {
          "languageId": "python"
        }
      },
      "outputs": [],
      "source": [
        "df=pd.DataFrame({'att':att,'rep':rep,'mid':mid,'fin':fin},index=key)\n",
        "df"
      ],
      "id": "54e84648-2bb4-456d-bbea-9e3586c7ffba"
    },
    {
      "cell_type": "markdown",
      "metadata": {},
      "source": [
        "## 첫번째 칼럼을 선택\n",
        "\n",
        "`-` 방법1"
      ],
      "id": "61563bee-d2ca-4edb-bb34-2056bf2e78e8"
    },
    {
      "cell_type": "code",
      "execution_count": 290,
      "metadata": {
        "vscode": {
          "languageId": "python"
        }
      },
      "outputs": [],
      "source": [
        "df.att"
      ],
      "id": "5731c874-b91b-4cc9-8980-56f16495b181"
    },
    {
      "cell_type": "markdown",
      "metadata": {},
      "source": [
        "`-` 방법2: dict스타일"
      ],
      "id": "d1add6c0-13ae-42a8-abe0-5300f0c43e00"
    },
    {
      "cell_type": "code",
      "execution_count": 291,
      "metadata": {
        "vscode": {
          "languageId": "python"
        }
      },
      "outputs": [],
      "source": [
        "df['att']"
      ],
      "id": "28b6b9e3-76dd-467d-ae73-1c79dc4e6e8d"
    },
    {
      "cell_type": "markdown",
      "metadata": {},
      "source": [
        "`-` 방법3: dict스타일"
      ],
      "id": "691ecfc2-bd58-472a-b540-a751dc4b8f59"
    },
    {
      "cell_type": "code",
      "execution_count": 292,
      "metadata": {
        "vscode": {
          "languageId": "python"
        }
      },
      "outputs": [],
      "source": [
        "df[['att']]"
      ],
      "id": "815c44c5-5def-4be3-871a-020d891e1ac2"
    },
    {
      "cell_type": "markdown",
      "metadata": {},
      "source": [
        "-   df.att 나 df\\[‘att’\\]는 series를 리턴하고 df\\[\\[‘att’\\]\\]는\n",
        "    dataframe을 리턴한다.\n",
        "\n",
        "`-` 방법4: ndarray스타일"
      ],
      "id": "7f4700b7-183e-43af-9d54-9ce056dac054"
    },
    {
      "cell_type": "code",
      "execution_count": 283,
      "metadata": {
        "vscode": {
          "languageId": "python"
        }
      },
      "outputs": [],
      "source": [
        "df.iloc[:,0] "
      ],
      "id": "502c5f9b-a349-4c1e-a451-8bf542250557"
    },
    {
      "cell_type": "markdown",
      "metadata": {},
      "source": [
        "`-` 방법5: ndarray스타일"
      ],
      "id": "29ed7110-b0af-482b-8069-89b42effccfb"
    },
    {
      "cell_type": "code",
      "execution_count": 284,
      "metadata": {
        "vscode": {
          "languageId": "python"
        }
      },
      "outputs": [],
      "source": [
        "df.iloc[:,[0]]"
      ],
      "id": "a43b235d-7e79-4a72-ac8b-5ca571d72cfe"
    },
    {
      "cell_type": "markdown",
      "metadata": {},
      "source": [
        "-   df.iloc\\[:,0\\]은 series를 리턴하고 df.iloc\\[:,\\[0\\]\\]은 dataframe을\n",
        "    리턴한다.\n",
        "\n",
        "`-` 방법6: ndarray 스타일과 dict 스타일의 혼합"
      ],
      "id": "6673ce1f-1d88-4dfa-9aa6-20d26657cc65"
    },
    {
      "cell_type": "code",
      "execution_count": 279,
      "metadata": {
        "vscode": {
          "languageId": "python"
        }
      },
      "outputs": [],
      "source": [
        "df.loc[:,'att'] "
      ],
      "id": "e2b39db3-b352-4a9c-9755-478940df3327"
    },
    {
      "cell_type": "markdown",
      "metadata": {},
      "source": [
        "`-` 방법7: ndarray 스타일과 dict 스타일의 혼합"
      ],
      "id": "05b2ebad-d68a-4ed5-ba0f-38276cbd5812"
    },
    {
      "cell_type": "code",
      "execution_count": 280,
      "metadata": {
        "vscode": {
          "languageId": "python"
        }
      },
      "outputs": [],
      "source": [
        "df.loc[:,['att']] "
      ],
      "id": "f845af65-d1c7-496f-a92a-277bb835da62"
    },
    {
      "cell_type": "markdown",
      "metadata": {},
      "source": [
        "-   df.loc\\[:,‘att’\\]은 series를 리턴하고 df.loc\\[:,\\[‘att’\\]\\]은\n",
        "    dataframe을 리턴한다.\n",
        "\n",
        "`-` 방법7: nparray 스타일 + bool 인덱싱"
      ],
      "id": "33bfff87-35ef-474a-85d5-291df8bdc9d3"
    },
    {
      "cell_type": "code",
      "execution_count": 286,
      "metadata": {
        "vscode": {
          "languageId": "python"
        }
      },
      "outputs": [],
      "source": [
        "df.iloc[:,[True,False,False,False]]"
      ],
      "id": "74d7c1d7-eb8c-4d6b-9ecd-72f6ec0a4e46"
    },
    {
      "cell_type": "markdown",
      "metadata": {},
      "source": [
        "`-` 방법8: ndarray와 dict의 홉합형 + bool 인덱싱"
      ],
      "id": "761cb64f-2a6b-4e60-9132-716918b53e73"
    },
    {
      "cell_type": "code",
      "execution_count": 287,
      "metadata": {
        "vscode": {
          "languageId": "python"
        }
      },
      "outputs": [],
      "source": [
        "df.loc[:,[True,False,False,False]]"
      ],
      "id": "b82b37a0-2b73-46eb-bead-0c14aa9cb996"
    },
    {
      "cell_type": "markdown",
      "metadata": {},
      "source": [
        "## 여러개의 칼럼을 선택\n",
        "\n",
        "`-` 방법1: dict 스타일"
      ],
      "id": "3f44f76a-eca3-43b9-ad0d-2efda29acb83"
    },
    {
      "cell_type": "code",
      "execution_count": 296,
      "metadata": {
        "vscode": {
          "languageId": "python"
        }
      },
      "outputs": [],
      "source": [
        "df[['att','fin']]"
      ],
      "id": "5e64df5d-a0fa-437b-add2-6d0040e442c7"
    },
    {
      "cell_type": "markdown",
      "metadata": {},
      "source": [
        "`-` 방법2: ndarray 스타일 (정수리스트로 인덱싱, 슬라이싱, 스트라이딩)"
      ],
      "id": "36e17704-1869-4bd1-ad7e-0a38e25edee4"
    },
    {
      "cell_type": "code",
      "execution_count": 299,
      "metadata": {
        "vscode": {
          "languageId": "python"
        }
      },
      "outputs": [],
      "source": [
        "df.iloc[:,[0,1]] # 정수의 리스트를 전달하여 컬럼추출"
      ],
      "id": "759ca57a-1445-4b61-b04d-fbaf10b07914"
    },
    {
      "cell_type": "code",
      "execution_count": 331,
      "metadata": {
        "vscode": {
          "languageId": "python"
        }
      },
      "outputs": [],
      "source": [
        "df.iloc[:,range(2)] "
      ],
      "id": "6b3e070e-9efe-45a3-aec3-581e6fefaa50"
    },
    {
      "cell_type": "code",
      "execution_count": 321,
      "metadata": {
        "vscode": {
          "languageId": "python"
        }
      },
      "outputs": [],
      "source": [
        "df.iloc[:,:2]  # 슬라이싱 , 0,1,2에서 마지막 2는 제외되고 0,1에 해당하는 것만 추출"
      ],
      "id": "21b011f5-0059-4720-a784-7e4055de41b5"
    },
    {
      "cell_type": "code",
      "execution_count": 305,
      "metadata": {
        "vscode": {
          "languageId": "python"
        }
      },
      "outputs": [],
      "source": [
        "df.iloc[:,::2]  # 스트라이딩"
      ],
      "id": "b2645121-f86c-4b70-9764-4a55b3aabee8"
    },
    {
      "cell_type": "markdown",
      "metadata": {},
      "source": [
        "`-` 방법3: ndarray 와 dict의 혼합형"
      ],
      "id": "51780ad2-4590-489f-9039-0bc8cb5aa23b"
    },
    {
      "cell_type": "code",
      "execution_count": 310,
      "metadata": {
        "vscode": {
          "languageId": "python"
        }
      },
      "outputs": [],
      "source": [
        "df.loc[:,['att','mid']] "
      ],
      "id": "d4628f0a-7930-4a59-9b56-790f91d01676"
    },
    {
      "cell_type": "code",
      "execution_count": 322,
      "metadata": {
        "vscode": {
          "languageId": "python"
        }
      },
      "outputs": [],
      "source": [
        "df.loc[:,'att':'mid']  # 마지막의 mid도 포함된다. "
      ],
      "id": "15c927f1-f53b-424e-b2d1-cb1bfc0c436e"
    },
    {
      "cell_type": "code",
      "execution_count": 320,
      "metadata": {
        "vscode": {
          "languageId": "python"
        }
      },
      "outputs": [],
      "source": [
        "df.loc[:,'rep':] "
      ],
      "id": "8f16c23c-8fd0-4194-a4e4-79be10ab1ebe"
    },
    {
      "cell_type": "markdown",
      "metadata": {},
      "source": [
        "`-` 방법4: bool을 이용한 인덱싱"
      ],
      "id": "31872d11-1443-4467-87dd-1d84a3e9ab7b"
    },
    {
      "cell_type": "code",
      "execution_count": 323,
      "metadata": {
        "vscode": {
          "languageId": "python"
        }
      },
      "outputs": [],
      "source": [
        "df.iloc[:,[True,False,True,False]]"
      ],
      "id": "c2099561-04ff-47ae-97ab-f5abc01a6899"
    },
    {
      "cell_type": "code",
      "execution_count": 324,
      "metadata": {
        "vscode": {
          "languageId": "python"
        }
      },
      "outputs": [],
      "source": [
        "df.loc[:,[True,False,True,False]]"
      ],
      "id": "765b6a7e-ce2d-451e-95a3-fbeb896da8f4"
    },
    {
      "cell_type": "markdown",
      "metadata": {},
      "source": [
        "## 첫번째 행을 선택\n",
        "\n",
        "`-` 방법1"
      ],
      "id": "b2a6a2bc-758d-49e4-b373-34bcd19a778d"
    },
    {
      "cell_type": "code",
      "execution_count": 338,
      "metadata": {
        "vscode": {
          "languageId": "python"
        }
      },
      "outputs": [],
      "source": [
        "df.iloc[0]"
      ],
      "id": "3fddb8d6-2f10-4220-897e-076f4c7710e6"
    },
    {
      "cell_type": "markdown",
      "metadata": {},
      "source": [
        "`-` 방법2"
      ],
      "id": "5362d68b-32b0-46c9-9476-13f08807cd8f"
    },
    {
      "cell_type": "code",
      "execution_count": 339,
      "metadata": {
        "vscode": {
          "languageId": "python"
        }
      },
      "outputs": [],
      "source": [
        "df.iloc[[0]]"
      ],
      "id": "17886f1e-1804-443f-986e-56cadeaa1590"
    },
    {
      "cell_type": "markdown",
      "metadata": {},
      "source": [
        "`-` 방법3"
      ],
      "id": "84aaae48-28ea-4877-9163-60a8df0f85c3"
    },
    {
      "cell_type": "code",
      "execution_count": 340,
      "metadata": {
        "vscode": {
          "languageId": "python"
        }
      },
      "outputs": [],
      "source": [
        "df.iloc[0,:]"
      ],
      "id": "59462e68-5e82-4d51-800a-21e6586338fd"
    },
    {
      "cell_type": "markdown",
      "metadata": {},
      "source": [
        "`-` 방법4"
      ],
      "id": "e9a8a9f8-d1d5-40d1-9b08-b558144ec455"
    },
    {
      "cell_type": "code",
      "execution_count": 341,
      "metadata": {
        "vscode": {
          "languageId": "python"
        }
      },
      "outputs": [],
      "source": [
        "df.iloc[[0],:]"
      ],
      "id": "5b781cc9-9bac-403d-a206-b30853f578fa"
    },
    {
      "cell_type": "markdown",
      "metadata": {},
      "source": [
        "`-` 방법5"
      ],
      "id": "38ffa32e-de2a-4c11-8d9a-ab7a24ff48ed"
    },
    {
      "cell_type": "code",
      "execution_count": 342,
      "metadata": {
        "vscode": {
          "languageId": "python"
        }
      },
      "outputs": [],
      "source": [
        "df.loc['202212380']"
      ],
      "id": "df65a658-e900-47b0-a494-34b96808744e"
    },
    {
      "cell_type": "markdown",
      "metadata": {},
      "source": [
        "`-` 방법6"
      ],
      "id": "b119f3e5-2869-4638-bc26-69b60e6a9818"
    },
    {
      "cell_type": "code",
      "execution_count": 343,
      "metadata": {
        "vscode": {
          "languageId": "python"
        }
      },
      "outputs": [],
      "source": [
        "df.loc[['202212380']]"
      ],
      "id": "a3684f3d-6b6c-4a2c-be2a-5522878c4186"
    },
    {
      "cell_type": "markdown",
      "metadata": {},
      "source": [
        "`-` 방법7"
      ],
      "id": "94904d3c-a9cd-4670-ba49-37583468953f"
    },
    {
      "cell_type": "code",
      "execution_count": 344,
      "metadata": {
        "vscode": {
          "languageId": "python"
        }
      },
      "outputs": [],
      "source": [
        "df.loc['202212380',:]"
      ],
      "id": "7d3809e9-eed1-45ff-aedc-e24b8554fe9a"
    },
    {
      "cell_type": "markdown",
      "metadata": {},
      "source": [
        "`-` 방법8"
      ],
      "id": "93bbb05b-2ae3-444d-93c2-5ba8e734fb1a"
    },
    {
      "cell_type": "code",
      "execution_count": 345,
      "metadata": {
        "vscode": {
          "languageId": "python"
        }
      },
      "outputs": [],
      "source": [
        "df.loc[['202212380'],:]"
      ],
      "id": "927340bd-6127-443d-b081-33a036b87d6f"
    },
    {
      "cell_type": "markdown",
      "metadata": {},
      "source": [
        "`-` 방법9"
      ],
      "id": "c9693385-7a0e-4081-950d-522ca25a368d"
    },
    {
      "cell_type": "code",
      "execution_count": 346,
      "metadata": {
        "vscode": {
          "languageId": "python"
        }
      },
      "outputs": [],
      "source": [
        "len(df)"
      ],
      "id": "27d848e9-260b-4534-8e97-ebe40f060dbb"
    },
    {
      "cell_type": "code",
      "execution_count": 348,
      "metadata": {
        "vscode": {
          "languageId": "python"
        }
      },
      "outputs": [],
      "source": [
        "_lst = [True]+[False]*19"
      ],
      "id": "befe6c1a-1280-4c2f-8ae0-80044a2793bd"
    },
    {
      "cell_type": "code",
      "execution_count": 351,
      "metadata": {
        "vscode": {
          "languageId": "python"
        }
      },
      "outputs": [],
      "source": [
        "df.iloc[_lst] "
      ],
      "id": "d5ae54d1-c04a-4962-a1df-d3c10854d46b"
    },
    {
      "cell_type": "code",
      "execution_count": 352,
      "metadata": {
        "vscode": {
          "languageId": "python"
        }
      },
      "outputs": [],
      "source": [
        "df.iloc[_lst,:] "
      ],
      "id": "6bbd63bf-ef89-4371-af43-23840e3dfc43"
    },
    {
      "cell_type": "code",
      "execution_count": 353,
      "metadata": {
        "vscode": {
          "languageId": "python"
        }
      },
      "outputs": [],
      "source": [
        "df.loc[_lst] "
      ],
      "id": "a73df06c-7346-4a82-9907-ec0bd78860a6"
    },
    {
      "cell_type": "code",
      "execution_count": 354,
      "metadata": {
        "vscode": {
          "languageId": "python"
        }
      },
      "outputs": [],
      "source": [
        "df.loc[_lst,:] "
      ],
      "id": "8ec4344a-8365-421a-adb0-298c0f26dfa0"
    },
    {
      "cell_type": "markdown",
      "metadata": {},
      "source": [
        "## 여러개의 행을 선택\n",
        "\n",
        "`-` 방법1"
      ],
      "id": "f385d57e-e55b-478e-b610-09cc2e1d9ea8"
    },
    {
      "cell_type": "code",
      "execution_count": 358,
      "metadata": {
        "vscode": {
          "languageId": "python"
        }
      },
      "outputs": [],
      "source": [
        "df.iloc[[0,2]] "
      ],
      "id": "25a89853-4181-48d9-9c2e-28e68bc72f42"
    },
    {
      "cell_type": "code",
      "execution_count": 359,
      "metadata": {
        "vscode": {
          "languageId": "python"
        }
      },
      "outputs": [],
      "source": [
        "df.iloc[[0,2],:] "
      ],
      "id": "2172c978-32bc-4edc-ac49-24bb2d81ece4"
    },
    {
      "cell_type": "markdown",
      "metadata": {},
      "source": [
        "`-` 방법2"
      ],
      "id": "0fd56db9-4882-4f59-baee-f68ff9d8cdff"
    },
    {
      "cell_type": "code",
      "execution_count": 361,
      "metadata": {
        "vscode": {
          "languageId": "python"
        }
      },
      "outputs": [],
      "source": [
        "df.loc[['202212380','202212363']] "
      ],
      "id": "00dbe974-0fe7-41b3-a367-97d805a5556f"
    },
    {
      "cell_type": "code",
      "execution_count": 360,
      "metadata": {
        "vscode": {
          "languageId": "python"
        }
      },
      "outputs": [],
      "source": [
        "df.loc[['202212380','202212363'],:] "
      ],
      "id": "466c377d-0b7d-4b93-8ad8-83dd2bcc13c3"
    },
    {
      "cell_type": "markdown",
      "metadata": {},
      "source": [
        "`-` 그 밖의 방법들"
      ],
      "id": "ed0e248b-781d-4586-8cab-c4fae500e03b"
    },
    {
      "cell_type": "code",
      "execution_count": 365,
      "metadata": {
        "vscode": {
          "languageId": "python"
        }
      },
      "outputs": [],
      "source": [
        "df.iloc[::3] # 스트라이딩"
      ],
      "id": "30986e85-67de-4196-ba86-a09efd82c2bb"
    },
    {
      "cell_type": "code",
      "execution_count": 366,
      "metadata": {
        "vscode": {
          "languageId": "python"
        }
      },
      "outputs": [],
      "source": [
        "df.iloc[:5]"
      ],
      "id": "005fbda6-f3be-418a-af33-f3d9d8bd2954"
    },
    {
      "cell_type": "code",
      "execution_count": 371,
      "metadata": {
        "vscode": {
          "languageId": "python"
        }
      },
      "outputs": [],
      "source": [
        "df.loc[:'202212312']"
      ],
      "id": "dacf07b6-e404-40e8-92a5-1978d282d906"
    },
    {
      "cell_type": "code",
      "execution_count": 377,
      "metadata": {
        "vscode": {
          "languageId": "python"
        }
      },
      "outputs": [],
      "source": [
        "df.loc[list(df.att<80),'rep':]"
      ],
      "id": "2ad2c5ae-4f6e-4763-a838-638b0582129d"
    },
    {
      "cell_type": "code",
      "execution_count": 375,
      "metadata": {
        "vscode": {
          "languageId": "python"
        }
      },
      "outputs": [],
      "source": [
        "df.loc[df.att<80,'rep':]"
      ],
      "id": "2746f8a3-9bfe-47d2-9c95-2b3bcead6bf9"
    },
    {
      "cell_type": "code",
      "execution_count": 379,
      "metadata": {
        "vscode": {
          "languageId": "python"
        }
      },
      "outputs": [],
      "source": [
        "df.iloc[list(df.att<80),1:]"
      ],
      "id": "15aed2b5-b4c4-4b97-9619-3609494e0461"
    },
    {
      "cell_type": "markdown",
      "metadata": {},
      "source": [
        "`-` 아래는 에러가 난다 주의!"
      ],
      "id": "91a22827-a19a-4d0d-91b8-887208380d2f"
    },
    {
      "cell_type": "code",
      "execution_count": 383,
      "metadata": {
        "vscode": {
          "languageId": "python"
        }
      },
      "outputs": [],
      "source": [
        "df.iloc[df.att<80,1:]"
      ],
      "id": "2ec724a5-2655-44c1-ac7a-c3a002a8c808"
    },
    {
      "cell_type": "markdown",
      "metadata": {},
      "source": [
        "## query ($\\star$)\n",
        "\n",
        "`-` 예제1"
      ],
      "id": "e7b3af74-9903-4a4a-b0ab-9875bfb0f851"
    },
    {
      "cell_type": "code",
      "execution_count": 385,
      "metadata": {
        "vscode": {
          "languageId": "python"
        }
      },
      "outputs": [],
      "source": [
        "df.query('att==90 and mid>30')"
      ],
      "id": "d5d9126c-7f8c-42f0-9ad4-f535048a6e38"
    },
    {
      "cell_type": "markdown",
      "metadata": {},
      "source": [
        "`-` 예제2"
      ],
      "id": "9e93f601-e60f-4a12-97b4-c4e1e00d1224"
    },
    {
      "cell_type": "code",
      "execution_count": 386,
      "metadata": {
        "vscode": {
          "languageId": "python"
        }
      },
      "outputs": [],
      "source": [
        "df.query('att<rep and mid<fin')"
      ],
      "id": "9e5555e2-fb1b-4646-a24c-8c58cb73b965"
    },
    {
      "cell_type": "markdown",
      "metadata": {},
      "source": [
        "`-` 예제3"
      ],
      "id": "55ca94a4-a6e5-400b-ad00-6b0becdf8be5"
    },
    {
      "cell_type": "code",
      "execution_count": 387,
      "metadata": {
        "vscode": {
          "languageId": "python"
        }
      },
      "outputs": [],
      "source": [
        "df.query('att < rep < 80')"
      ],
      "id": "24f19b8e-70a6-44fe-9137-4672b4352e67"
    },
    {
      "cell_type": "markdown",
      "metadata": {},
      "source": [
        "`-` 예제4"
      ],
      "id": "94614ec0-b279-4680-8273-da05ec90d8b2"
    },
    {
      "cell_type": "code",
      "execution_count": 388,
      "metadata": {
        "vscode": {
          "languageId": "python"
        }
      },
      "outputs": [],
      "source": [
        "df.query('50 < att <= 90 and mid < fin')"
      ],
      "id": "e05978b3-b59f-457f-9d84-68782d322cb5"
    },
    {
      "cell_type": "markdown",
      "metadata": {},
      "source": [
        "`-` 예제5"
      ],
      "id": "90dcb5eb-5988-4056-965f-c9848b00bd7a"
    },
    {
      "cell_type": "code",
      "execution_count": 389,
      "metadata": {
        "vscode": {
          "languageId": "python"
        }
      },
      "outputs": [],
      "source": [
        "df.query(' (mid+fin)/2 >=60')"
      ],
      "id": "0839127c-b90e-4761-ab27-3b3de4638edb"
    },
    {
      "cell_type": "markdown",
      "metadata": {},
      "source": [
        "`-` 예제6"
      ],
      "id": "3258b9be-d9d7-4224-9add-5d11b7739f5f"
    },
    {
      "cell_type": "code",
      "execution_count": 393,
      "metadata": {
        "vscode": {
          "languageId": "python"
        }
      },
      "outputs": [],
      "source": [
        "_mean  = df.att.mean()\n",
        "_mean "
      ],
      "id": "94ae1bab-587c-4ad3-a127-e4f0a3af6c9c"
    },
    {
      "cell_type": "code",
      "execution_count": 394,
      "metadata": {
        "vscode": {
          "languageId": "python"
        }
      },
      "outputs": [],
      "source": [
        "df.query('att >= 73')"
      ],
      "id": "2ade2fb5-4af4-4fb8-8f91-6b1a3663f24e"
    },
    {
      "cell_type": "code",
      "execution_count": 397,
      "metadata": {
        "vscode": {
          "languageId": "python"
        }
      },
      "outputs": [],
      "source": [
        "df.query('att >= @_mean')\n",
        "# df.query('att>= _mean')은 실행 안된다."
      ],
      "id": "b63b7f65-03c7-438f-a058-142d53794051"
    },
    {
      "cell_type": "markdown",
      "metadata": {},
      "source": [
        "`-` 예제7"
      ],
      "id": "237404fc-2413-4c0b-bb5f-ae5b5667beba"
    },
    {
      "cell_type": "code",
      "execution_count": 416,
      "metadata": {
        "vscode": {
          "languageId": "python"
        }
      },
      "outputs": [],
      "source": [
        "df"
      ],
      "id": "633c9649-ef18-464a-b9fa-962c86be55f2"
    },
    {
      "cell_type": "code",
      "execution_count": 419,
      "metadata": {
        "vscode": {
          "languageId": "python"
        }
      },
      "outputs": [],
      "source": [
        "df.query(\"index <= '202212354' or index=='202212387'\")"
      ],
      "id": "d913e016-8a9f-4ee5-a9e1-5faffcb732c4"
    },
    {
      "cell_type": "markdown",
      "metadata": {},
      "source": [
        "사실 이 기능은 시계열자료에서 꽃핀다.\n",
        "\n",
        "`-` 예제8"
      ],
      "id": "cd4648e5-463b-427d-8e90-64a00a994836"
    },
    {
      "cell_type": "code",
      "execution_count": 428,
      "metadata": {
        "vscode": {
          "languageId": "python"
        }
      },
      "outputs": [],
      "source": [
        "pd.date_range('20211226',periods=10)"
      ],
      "id": "11e0dba6-1664-446a-914a-bf8b90fb0fad"
    },
    {
      "cell_type": "code",
      "execution_count": 430,
      "metadata": {
        "vscode": {
          "languageId": "python"
        }
      },
      "outputs": [],
      "source": [
        "_df=pd.DataFrame(np.random.normal(size=(10,4)),columns=list('ABCD'),index=pd.date_range('20211226',periods=10))\n",
        "_df"
      ],
      "id": "e94f29ae-53ba-477e-aac4-e1d3d307b529"
    },
    {
      "cell_type": "code",
      "execution_count": 435,
      "metadata": {
        "vscode": {
          "languageId": "python"
        }
      },
      "outputs": [],
      "source": [
        "_df.query(\" '2021-12-29' <=  index <= '2022-01-03' \")"
      ],
      "id": "bebd2137-c2d4-479f-9ff0-59262eba198a"
    },
    {
      "cell_type": "code",
      "execution_count": 436,
      "metadata": {
        "vscode": {
          "languageId": "python"
        }
      },
      "outputs": [],
      "source": [
        "_df.query(\" '2021-12-29' <=  index <= '2022-01-03' and A+B<C  \")"
      ],
      "id": "8f486042-66b3-47ba-9fcb-e3929a3c8a98"
    },
    {
      "cell_type": "markdown",
      "metadata": {},
      "source": [
        "`-` query가 만능은 아니다."
      ],
      "id": "cab59a1b-dc9b-4a49-ac61-74ac285269ef"
    },
    {
      "cell_type": "code",
      "execution_count": 439,
      "metadata": {
        "vscode": {
          "languageId": "python"
        }
      },
      "outputs": [],
      "source": [
        "df.columns = pd.Index(['att score', 'rep score', 'mid score', 'fin score'])"
      ],
      "id": "0b5e1215-19e1-4777-9fd1-bf84380b20f5"
    },
    {
      "cell_type": "code",
      "execution_count": 455,
      "metadata": {
        "vscode": {
          "languageId": "python"
        }
      },
      "outputs": [],
      "source": [
        "df.query(\" att score < 90 \")\n",
        "# df.loc[df['att score'] < 90,:] <-- 이렇게 구현하면 된다! (아니면 변수이름을 바꿔주는 코드를 짜든가)"
      ],
      "id": "af03db04-3c7e-42b3-8439-f91f99af2b8e"
    },
    {
      "cell_type": "markdown",
      "metadata": {},
      "source": [
        "# 판다스 공부 3단계\n",
        "\n",
        "## 전치"
      ],
      "id": "cb971458-b6e2-4106-9c10-43c585657f3e"
    },
    {
      "cell_type": "code",
      "execution_count": 457,
      "metadata": {
        "vscode": {
          "languageId": "python"
        }
      },
      "outputs": [],
      "source": [
        "ndarray = np.arange(2*3).reshape(2,3)\n",
        "df = pd.DataFrame(ndarray)\n",
        "df"
      ],
      "id": "dd461b3a-0818-4c1c-b9ee-cdfc8e2ef0d0"
    },
    {
      "cell_type": "code",
      "execution_count": 458,
      "metadata": {
        "vscode": {
          "languageId": "python"
        }
      },
      "outputs": [],
      "source": [
        "ndarray.T"
      ],
      "id": "8cabb137-a66d-4423-80f4-435031a1174b"
    },
    {
      "cell_type": "code",
      "execution_count": 459,
      "metadata": {
        "vscode": {
          "languageId": "python"
        }
      },
      "outputs": [],
      "source": [
        "df.T"
      ],
      "id": "e898d5f4-8d86-4638-b893-b2c43152de3e"
    },
    {
      "cell_type": "markdown",
      "metadata": {},
      "source": [
        "## 합"
      ],
      "id": "dbc8a52f-f8f8-44d8-b11a-83d41b27d337"
    },
    {
      "cell_type": "code",
      "execution_count": 461,
      "metadata": {
        "vscode": {
          "languageId": "python"
        }
      },
      "outputs": [],
      "source": [
        "ndarray.sum(axis=0)"
      ],
      "id": "a67bf1e4-9e78-4f56-a056-17eb140fb222"
    },
    {
      "cell_type": "code",
      "execution_count": 462,
      "metadata": {
        "vscode": {
          "languageId": "python"
        }
      },
      "outputs": [],
      "source": [
        "df.sum(axis=0)"
      ],
      "id": "92b8bddb-9349-484a-8eed-450b29504614"
    },
    {
      "cell_type": "code",
      "execution_count": 463,
      "metadata": {
        "vscode": {
          "languageId": "python"
        }
      },
      "outputs": [],
      "source": [
        "ndarray.sum(axis=1)"
      ],
      "id": "0908ae27-b01c-49a4-bdf5-422b97fddb2c"
    },
    {
      "cell_type": "code",
      "execution_count": 464,
      "metadata": {
        "vscode": {
          "languageId": "python"
        }
      },
      "outputs": [],
      "source": [
        "df.sum(axis=1)"
      ],
      "id": "6d381dd1-a18a-4ca2-86d2-a50472b7731a"
    },
    {
      "cell_type": "markdown",
      "metadata": {},
      "source": [
        "## cumsum"
      ],
      "id": "cbbfffdf-f792-46b1-a44a-6c6f5e91624d"
    },
    {
      "cell_type": "code",
      "execution_count": 465,
      "metadata": {
        "vscode": {
          "languageId": "python"
        }
      },
      "outputs": [],
      "source": [
        "df"
      ],
      "id": "56f0edc0-a5ea-4909-9da4-b144158f7afe"
    },
    {
      "cell_type": "code",
      "execution_count": 466,
      "metadata": {
        "vscode": {
          "languageId": "python"
        }
      },
      "outputs": [],
      "source": [
        "ndarray.cumsum(axis=0)"
      ],
      "id": "30429c61-c44d-4ada-8f20-40bee7f2b643"
    },
    {
      "cell_type": "code",
      "execution_count": 467,
      "metadata": {
        "vscode": {
          "languageId": "python"
        }
      },
      "outputs": [],
      "source": [
        "df.cumsum(axis=0)"
      ],
      "id": "3a147713-f779-4b3a-be32-2e2a33254190"
    },
    {
      "cell_type": "code",
      "execution_count": 468,
      "metadata": {
        "vscode": {
          "languageId": "python"
        }
      },
      "outputs": [],
      "source": [
        "ndarray.cumsum(axis=1)"
      ],
      "id": "74767139-565f-449a-b734-ccaa63ff15bd"
    },
    {
      "cell_type": "code",
      "execution_count": 469,
      "metadata": {
        "vscode": {
          "languageId": "python"
        }
      },
      "outputs": [],
      "source": [
        "df.cumsum(axis=1)"
      ],
      "id": "da9af4df-e979-4d0a-9366-a7a2351749f3"
    },
    {
      "cell_type": "markdown",
      "metadata": {},
      "source": [
        "## 형태변환"
      ],
      "id": "d72238e2-eb87-46c1-8ba1-96939101bba1"
    },
    {
      "cell_type": "code",
      "execution_count": 470,
      "metadata": {
        "vscode": {
          "languageId": "python"
        }
      },
      "outputs": [],
      "source": [
        "ndarray.tolist()"
      ],
      "id": "19c31972-5b3b-461b-8e02-d38d41a96a59"
    },
    {
      "cell_type": "code",
      "execution_count": 478,
      "metadata": {
        "vscode": {
          "languageId": "python"
        }
      },
      "outputs": [],
      "source": [
        "df.to_dict()"
      ],
      "id": "ef09c294-4957-49a9-91ab-15fbde664d43"
    },
    {
      "cell_type": "code",
      "execution_count": 477,
      "metadata": {
        "vscode": {
          "languageId": "python"
        }
      },
      "outputs": [],
      "source": [
        "df.to_numpy()"
      ],
      "id": "6ac07346-6b12-40e0-8304-257d005c3f34"
    },
    {
      "cell_type": "code",
      "execution_count": 476,
      "metadata": {
        "vscode": {
          "languageId": "python"
        }
      },
      "outputs": [],
      "source": [
        "df.to_numpy().tolist()"
      ],
      "id": "e8fc395c-4434-464f-bf7e-da9d29e4084a"
    },
    {
      "cell_type": "markdown",
      "metadata": {},
      "source": [
        "# Quiz\n",
        "\n",
        "`-` 아래의 데이터프레임에서 1,3번째 열을 추출하라."
      ],
      "id": "15f96d20-a9a8-4191-8f21-d8f6542b4c96"
    },
    {
      "cell_type": "code",
      "execution_count": 481,
      "metadata": {
        "vscode": {
          "languageId": "python"
        }
      },
      "outputs": [],
      "source": [
        "df= pd.DataFrame({'att':[90,90,95],'rep':[80,90,90],'mid':[50,60,70], 'fin':[70,80,50]})\n",
        "df"
      ],
      "id": "e22753f1-5d36-4fe2-8445-1fe9579a2b57"
    }
  ],
  "nbformat": 4,
  "nbformat_minor": 5,
  "metadata": {
    "kernelspec": {
      "name": "python3",
      "display_name": "Python 3",
      "language": "python"
    },
    "language_info": {
      "name": "python",
      "codemirror_mode": {
        "name": "ipython",
        "version": "3"
      },
      "file_extension": ".py",
      "mimetype": "text/x-python",
      "nbconvert_exporter": "python",
      "pygments_lexer": "ipython3",
      "version": "3.8.16"
    }
  }
}