{
  "cells": [
    {
      "cell_type": "markdown",
      "metadata": {},
      "source": [
        "# Lesson 07: pandas 짧게정리\n",
        "\n",
        "최규빈  \n",
        "2023-07-24\n",
        "\n",
        "<a href=\"https://colab.research.google.com/github/guebin/IP2023WIN/blob/main/posts/Day1/03_Pandas/2023-01-30-Lesson8.ipynb\"><img src=\"https://colab.research.google.com/assets/colab-badge.svg\" style=\"text-align: left\"></a>\n",
        "\n",
        "# pandas 개발동기\n",
        "\n",
        "## 부분 데이터 꺼내기: 판다스를 왜 써야할까?\n",
        "\n",
        "`-` 예시1: 때로는 인덱스로 때로는 key로 데이터를 부르고 싶다."
      ],
      "id": "a37af881-592b-4698-8784-1068d444d72d"
    },
    {
      "cell_type": "code",
      "execution_count": null,
      "metadata": {},
      "outputs": [],
      "source": [
        "np.random.seed(43052)\n",
        "att = np.random.choice(np.arange(10,21)*5,20)\n",
        "rep = np.random.choice(np.arange(5,21)*5,20)\n",
        "mid = np.random.choice(np.arange(0,21)*5,20)\n",
        "fin = np.random.choice(np.arange(0,21)*5,20)\n",
        "key = ['2022-12'+str(s) for s in np.random.choice(np.arange(300,501),20,replace=False)]"
      ],
      "id": "663dfabc"
    },
    {
      "cell_type": "markdown",
      "metadata": {},
      "source": [
        "학번 ’2022-12363’에 해당하는 학생의 출석점수를 알고 싶다면?\n",
        "\n",
        "(풀이1) – dct로 자료를 저장하고 출력"
      ],
      "id": "76d500d6-14ef-465b-804f-60eb064394c3"
    },
    {
      "cell_type": "code",
      "execution_count": null,
      "metadata": {},
      "outputs": [],
      "source": [
        "dct = {'att':{key[i]:att[i] for i in range(20)}, \n",
        "       'rep':{key[i]:rep[i] for i in range(20)}, \n",
        "       'mid':{key[i]:mid[i] for i in range(20)}, \n",
        "       'fin':{key[i]:fin[i] for i in range(20)}}\n",
        "#dct"
      ],
      "id": "a477bc9a"
    },
    {
      "cell_type": "code",
      "execution_count": null,
      "metadata": {},
      "outputs": [],
      "source": [
        "dct['att']['2022-12363']"
      ],
      "id": "ae3bc9a7"
    },
    {
      "cell_type": "markdown",
      "metadata": {},
      "source": [
        "(풀이2) – ndarray로 자료를 저장하고 출력"
      ],
      "id": "3282b5b8-d62f-4c62-a880-546c667f4b44"
    },
    {
      "cell_type": "code",
      "execution_count": null,
      "metadata": {},
      "outputs": [],
      "source": [
        "arr = np.array([att,rep,mid,fin,key]).T\n",
        "arr"
      ],
      "id": "ca86ae0f"
    },
    {
      "cell_type": "code",
      "execution_count": null,
      "metadata": {},
      "outputs": [],
      "source": [
        "arr[arr[:,-1] == '2022-12363',0] # 읽기어려운 코드"
      ],
      "id": "50163abc"
    },
    {
      "cell_type": "markdown",
      "metadata": {},
      "source": [
        "**(풀이2)가 (풀이1)에 비하여 불편한 점**\n",
        "\n",
        "-   arr 마지마칼럼이 student id 이고 첫번째 칼럼은 att라는 사실을\n",
        "    암기하고 있어야 한다.\n",
        "-   자료형이 문자로 강제로 바뀌어서 저장되어있음\n",
        "-   작성한 코드의 가독성이 없다. (위치로 접근하기 때문)\n",
        "\n",
        "`-` 요약: hash 스타일로 정보를 추출하는 것이 유용할 때가 있다. 그리고\n",
        "보통 hash 스타일로 정보를 뽑는 것이 유리하다. (사실 numpy는 정보추출을\n",
        "위해 개발된 자료형이 아니라 행렬 및 벡터의 수학연산을 지원하기 위해\n",
        "개발된 자료형이다)\n",
        "\n",
        "`-` 소망: 정보를 추출할때는 hash 스타일도 유용하다는 것은 이해함 $\\to$\n",
        "하지만 나는 가끔 넘파이스타일로 정보를 뽑고 싶은걸? 그리고 딕셔너리\n",
        "형태가 아니고 엑셀처럼(행렬처럼) 데이터를 보고 싶은걸? $\\to$ pandas의\n",
        "개발\n",
        "\n",
        "## 엑셀처럼 데이터를 테이블 형태로 정리하고 싶다\n",
        "\n",
        "(방법1) – 넘파이"
      ],
      "id": "559b862d-a349-44d6-8d70-0e9f40585c8a"
    },
    {
      "cell_type": "code",
      "execution_count": null,
      "metadata": {},
      "outputs": [],
      "source": [
        "arr"
      ],
      "id": "e6d638ad"
    },
    {
      "cell_type": "markdown",
      "metadata": {},
      "source": [
        "(방법2) – 판다스 with stacked dict"
      ],
      "id": "7b562071-a9d4-438b-9e68-33e2abc4ec16"
    },
    {
      "cell_type": "code",
      "execution_count": null,
      "metadata": {},
      "outputs": [],
      "source": [
        "df = pd.DataFrame(dct)\n",
        "df.head()"
      ],
      "id": "e3e1d13d"
    },
    {
      "cell_type": "markdown",
      "metadata": {},
      "source": [
        "(방법3) – 판다스 with index"
      ],
      "id": "222503c0-9cfe-4dd5-a7a2-254f582db6aa"
    },
    {
      "cell_type": "code",
      "execution_count": null,
      "metadata": {},
      "outputs": [],
      "source": [
        "df = pd.DataFrame({'att':att,'rep':rep,'mid':mid,'fin':fin},index=key)\n",
        "df.head()"
      ],
      "id": "45e4685e"
    },
    {
      "cell_type": "markdown",
      "metadata": {},
      "source": [
        "## 해싱으로 원하는 정보를 뽑으면 좋겠다 (마치 딕셔너리처럼)\n",
        "\n",
        "`-` 예제1: 출석점수를 출력 (딕셔너리가 되면 판다스도 된다)"
      ],
      "id": "14fd32b5-10bd-4796-a28a-bf3d3b102df9"
    },
    {
      "cell_type": "code",
      "execution_count": null,
      "metadata": {},
      "outputs": [],
      "source": [
        "# dct['att']\n",
        "df['att']"
      ],
      "id": "3fc4901d"
    },
    {
      "cell_type": "markdown",
      "metadata": {},
      "source": [
        "`-` 예제2: 학번 `2022-12380` 의 출석점수 출력"
      ],
      "id": "818b2a18-2e34-4d45-af73-20d8f16ca15c"
    },
    {
      "cell_type": "code",
      "execution_count": null,
      "metadata": {},
      "outputs": [],
      "source": [
        "#dct['att']['2022-12380']\n",
        "df['att']['2022-12380']"
      ],
      "id": "b4b72f0c"
    },
    {
      "cell_type": "markdown",
      "metadata": {},
      "source": [
        "## 인덱싱으로 정보를 뽑는 기능도 지원을 하면 좋겠다 (마치 리스트나 넘파이처럼)\n",
        "\n",
        "`-` 예제1: 첫번째 학생의 기말고사 성적을 출력하고 싶다."
      ],
      "id": "6d134374-792a-46ce-b866-bd863d9ebe95"
    },
    {
      "cell_type": "code",
      "execution_count": null,
      "metadata": {},
      "outputs": [],
      "source": [
        "df.iloc[0,-1]"
      ],
      "id": "b929508c"
    },
    {
      "cell_type": "markdown",
      "metadata": {},
      "source": [
        "-   벼락치기: df에서 iloc이라는 특수기능을 이용하면 넘파이 인덱싱처럼\n",
        "    원소출력이 가능하다.\n",
        "\n",
        "> df는 딕셔너리 같은것이지만 df.iloc은 넘파이같은것이라고 생각하면 된다.\n",
        "\n",
        "`-` 예제2: 홀수번째 학생 의 점수를 뽑고 싶다. (홀수번째 학생은 인덱스\n",
        "0,2,4,… 에 대응)"
      ],
      "id": "4f45d132-3973-4629-9598-d4f45dc1f3fa"
    },
    {
      "cell_type": "code",
      "execution_count": null,
      "metadata": {},
      "outputs": [],
      "source": [
        "df.iloc[::2,:]"
      ],
      "id": "7d1fd3ac"
    },
    {
      "cell_type": "markdown",
      "metadata": {},
      "source": [
        "`-` 예제3: 맨 끝에서 3명의 점수를 출력하고 싶다."
      ],
      "id": "50fab1b3-eaea-4fc2-bf8f-5d98e6c5752a"
    },
    {
      "cell_type": "code",
      "execution_count": null,
      "metadata": {},
      "outputs": [],
      "source": [
        "df.iloc[-3:,:]"
      ],
      "id": "eb4dacfa"
    },
    {
      "cell_type": "markdown",
      "metadata": {},
      "source": [
        "`-` 예제4: 맨 끝에서 3명의 점수중 마지막 2개의 칼럼만 출력하고 싶다."
      ],
      "id": "1e99d0d7-50cb-4c6a-885f-a9488fdb0dde"
    },
    {
      "cell_type": "code",
      "execution_count": null,
      "metadata": {},
      "outputs": [],
      "source": [
        "df.iloc[-3:,-2:]"
      ],
      "id": "c357673a"
    },
    {
      "cell_type": "markdown",
      "metadata": {},
      "source": [
        "## 궁극: 해싱과 인덱싱을 모두 지원하는 아주 우수한 자료형을 만들고 싶음\n",
        "\n",
        "`-` 예제1: ’mid \\>= 20 and att \\<60’인 학생들의 ’fin’을 출력\n",
        "\n",
        "(방법1) query\n",
        "\n",
        "-   데이터베이스 스타일"
      ],
      "id": "5fd52687-1f2c-4592-b451-888539baaade"
    },
    {
      "cell_type": "code",
      "execution_count": null,
      "metadata": {},
      "outputs": [],
      "source": [
        "df.query('mid>=20 and att<60')['fin']"
      ],
      "id": "394cda73"
    },
    {
      "cell_type": "markdown",
      "metadata": {},
      "source": [
        "(방법2) numpy"
      ],
      "id": "6101c41a-3641-4aab-87f8-2dc5d39cbbd3"
    },
    {
      "cell_type": "code",
      "execution_count": null,
      "metadata": {},
      "outputs": [],
      "source": [
        "arr[(arr[:,2].astype(dtype=np.int64) >= 20) & (arr[:,0].astype(dtype=np.int64) < 60),3]"
      ],
      "id": "460e540d"
    },
    {
      "cell_type": "markdown",
      "metadata": {},
      "source": [
        "`-` 예제2: ’중간고사점수\\<기말고사점수’인 학생들의 출석점수 평균을\n",
        "구하자."
      ],
      "id": "e6c92a3e-b921-4a03-8e63-cb1266741c25"
    },
    {
      "cell_type": "code",
      "execution_count": null,
      "metadata": {},
      "outputs": [],
      "source": [
        "df.query('mid<fin')['att'].mean()"
      ],
      "id": "fdacbabe"
    },
    {
      "cell_type": "markdown",
      "metadata": {},
      "source": [
        "# pandas 공부 1단계\n",
        "\n",
        "## 데이터프레임 선언\n",
        "\n",
        "`-` 방법1: dictionary에서 만든다."
      ],
      "id": "4bc47541-cb11-47a1-83a7-7efc5ff22cbc"
    },
    {
      "cell_type": "code",
      "execution_count": null,
      "metadata": {},
      "outputs": [],
      "source": [
        "pd.DataFrame({'att':[30,40,50],'mid':[50,60,70]})"
      ],
      "id": "47aa63f6"
    },
    {
      "cell_type": "code",
      "execution_count": null,
      "metadata": {},
      "outputs": [],
      "source": [
        "pd.DataFrame({'att':(30,40,50),'mid':(50,60,70)})"
      ],
      "id": "6aa55148"
    },
    {
      "cell_type": "code",
      "execution_count": null,
      "metadata": {},
      "outputs": [],
      "source": [
        "pd.DataFrame({'att':np.array([30,40,50]),'mid':np.array([50,60,70])})"
      ],
      "id": "47768055"
    },
    {
      "cell_type": "markdown",
      "metadata": {},
      "source": [
        "`-` 방법: 2차원 ndarray에서 만든다."
      ],
      "id": "8087113f-81a7-45c9-9b92-43ee53797d5a"
    },
    {
      "cell_type": "code",
      "execution_count": null,
      "metadata": {},
      "outputs": [],
      "source": [
        "np.arange(2*3).reshape(2,3)"
      ],
      "id": "55290ccd"
    },
    {
      "cell_type": "code",
      "execution_count": null,
      "metadata": {},
      "outputs": [],
      "source": [
        "pd.DataFrame(np.arange(2*3).reshape(2,3))"
      ],
      "id": "76fcfafd"
    },
    {
      "cell_type": "markdown",
      "metadata": {},
      "source": [
        "## 열의 이름 부여\n",
        "\n",
        "`-` 방법1: 딕셔너리를 통하여 만들면 딕셔너리의 key가 자동으로 열의\n",
        "이름이 된다."
      ],
      "id": "9694b5d0-fb78-496c-93db-5b8f264ff8fb"
    },
    {
      "cell_type": "code",
      "execution_count": null,
      "metadata": {},
      "outputs": [],
      "source": [
        "pd.DataFrame({'att':np.array([30,40,50]),'mid':np.array([50,60,70])})"
      ],
      "id": "4fa3fb73"
    },
    {
      "cell_type": "markdown",
      "metadata": {},
      "source": [
        "`-` 방법2: pd.DataFrame()의 옵션에 columns를 이용"
      ],
      "id": "21cff11f-74bf-41d6-997d-0df455a4bdef"
    },
    {
      "cell_type": "code",
      "execution_count": null,
      "metadata": {},
      "outputs": [],
      "source": [
        "pd.DataFrame(np.arange(2*3).reshape(2,3),columns=['X1','X2','X3'])"
      ],
      "id": "d616b21a"
    },
    {
      "cell_type": "markdown",
      "metadata": {},
      "source": [
        "`-` 방법3: df.columns에 원하는 열이름을 덮어씀 (1)"
      ],
      "id": "0c8239cf-c3ce-46c2-9ebc-d3c5202138f5"
    },
    {
      "cell_type": "code",
      "execution_count": null,
      "metadata": {},
      "outputs": [],
      "source": [
        "df=pd.DataFrame(np.arange(2*3).reshape(2,3))\n",
        "df"
      ],
      "id": "01927ad9"
    },
    {
      "cell_type": "code",
      "execution_count": null,
      "metadata": {},
      "outputs": [],
      "source": [
        "df.columns = ['X1','X2','X3']\n",
        "df"
      ],
      "id": "3b0642b7"
    },
    {
      "cell_type": "markdown",
      "metadata": {},
      "source": [
        "`-` 방법4: df.columns에 원하는 열이름을 덮어씀 (2)"
      ],
      "id": "92875248-b532-4a62-834f-1e84c6f43854"
    },
    {
      "cell_type": "code",
      "execution_count": null,
      "metadata": {},
      "outputs": [],
      "source": [
        "df=pd.DataFrame(np.arange(2*3).reshape(2,3))\n",
        "df"
      ],
      "id": "224182f6"
    },
    {
      "cell_type": "code",
      "execution_count": null,
      "metadata": {},
      "outputs": [],
      "source": [
        "df.columns = pd.Index(['X1','X2','X3'])"
      ],
      "id": "7687ffe6"
    },
    {
      "cell_type": "code",
      "execution_count": null,
      "metadata": {},
      "outputs": [],
      "source": [
        "df"
      ],
      "id": "263d541f"
    },
    {
      "cell_type": "markdown",
      "metadata": {},
      "source": [
        "방법4가 방법3의 방식보다 컴퓨터가 이해하기 좋다. (= 불필요한 에러 혹은\n",
        "경고메시지를 방지할 수 있다)\n",
        "\n",
        "## 행의 이름 부여\n",
        "\n",
        "`-` 방법1: 중첩 dict이면 nested dic의 key가 알아서 행의 이름으로 된다."
      ],
      "id": "dd5965bc-e8e2-453a-93da-992e047879df"
    },
    {
      "cell_type": "code",
      "execution_count": null,
      "metadata": {},
      "outputs": [],
      "source": [
        "pd.DataFrame({'att':{'guebin':30, 'iu':40, 'hynn':50} , 'mid':{'guebin':5, 'iu':45, 'hynn':90}})"
      ],
      "id": "92f96ec8"
    },
    {
      "cell_type": "markdown",
      "metadata": {},
      "source": [
        "`-` 방법2: pd.DataFrame()의 index 옵션 이용"
      ],
      "id": "8794a23d-d2c3-477f-abf5-a972ae61207b"
    },
    {
      "cell_type": "code",
      "execution_count": null,
      "metadata": {},
      "outputs": [],
      "source": [
        "pd.DataFrame({'att':[30,40,50] , 'mid':[5,45,90]},index=['guebin','iu','hynn'])"
      ],
      "id": "6fabdbbe"
    },
    {
      "cell_type": "markdown",
      "metadata": {},
      "source": [
        "`-` 방법3: df.index에 덮어씌움"
      ],
      "id": "af6d6520-7c55-48c5-84ca-d935e17c1550"
    },
    {
      "cell_type": "code",
      "execution_count": null,
      "metadata": {},
      "outputs": [],
      "source": [
        "df=pd.DataFrame({'att':[30,40,50] , 'mid':[5,45,90]})\n",
        "df"
      ],
      "id": "1da28098"
    },
    {
      "cell_type": "code",
      "execution_count": null,
      "metadata": {},
      "outputs": [],
      "source": [
        "df.index = pd.Index(['guebin','iu','hynn'])\n",
        "#df.index = ['guebin','iu','hynn'] <- 이것도 실행가능하기는함 \n",
        "df"
      ],
      "id": "f38a449f"
    },
    {
      "cell_type": "markdown",
      "metadata": {},
      "source": [
        "`-` 방법4: df.set_index() 를 이용하여 덮어씌운다"
      ],
      "id": "f70972d3-6653-4e72-b090-f16bf98d12d3"
    },
    {
      "cell_type": "code",
      "execution_count": null,
      "metadata": {},
      "outputs": [],
      "source": [
        "df=pd.DataFrame({'att':[30,40,50] , 'mid':[5,45,90]})\n",
        "df"
      ],
      "id": "5ffa95bd"
    },
    {
      "cell_type": "code",
      "execution_count": null,
      "metadata": {},
      "outputs": [],
      "source": [
        "df.set_index(pd.Index(['guebin','iu','hynn']))"
      ],
      "id": "c899ddc8"
    },
    {
      "cell_type": "code",
      "execution_count": null,
      "metadata": {},
      "outputs": [],
      "source": [
        "df.set_index(['guebin','iu','hynn'])"
      ],
      "id": "64f2674f"
    },
    {
      "cell_type": "code",
      "execution_count": null,
      "metadata": {},
      "outputs": [],
      "source": [
        "df.set_index([['guebin','iu','hynn']]) # 꺽쇠를 한번 더 넣어주면 에러를 피할수 있다. "
      ],
      "id": "e53b7853"
    },
    {
      "cell_type": "markdown",
      "metadata": {},
      "source": [
        "-   그러나 이런 코드를 권장하지 않음\n",
        "\n",
        "## 자료형, len, shape, for문의 반복변수"
      ],
      "id": "1ecc6aae-e48d-4e78-b37a-d433752e2395"
    },
    {
      "cell_type": "code",
      "execution_count": null,
      "metadata": {},
      "outputs": [],
      "source": [
        "df = pd.DataFrame({'att':[30,40,50],'mid':[5,45,90]})\n",
        "df"
      ],
      "id": "e73ea845"
    },
    {
      "cell_type": "markdown",
      "metadata": {},
      "source": [
        "`-` type"
      ],
      "id": "bd977df5-2393-42a0-bfe4-1b329e2d490a"
    },
    {
      "cell_type": "code",
      "execution_count": null,
      "metadata": {},
      "outputs": [],
      "source": [
        "type(df)"
      ],
      "id": "d43ac14c"
    },
    {
      "cell_type": "markdown",
      "metadata": {},
      "source": [
        "`-` len"
      ],
      "id": "9b2bc942-74da-4a54-91b0-20421de4e07c"
    },
    {
      "cell_type": "code",
      "execution_count": null,
      "metadata": {},
      "outputs": [],
      "source": [
        "len(df) # row의 갯수 "
      ],
      "id": "f42e21d4"
    },
    {
      "cell_type": "markdown",
      "metadata": {},
      "source": [
        "`-` shape"
      ],
      "id": "f5ae60bd-34f2-4377-a691-b9cbdb0ecff0"
    },
    {
      "cell_type": "code",
      "execution_count": null,
      "metadata": {},
      "outputs": [],
      "source": [
        "df.shape "
      ],
      "id": "9e3a1218"
    },
    {
      "cell_type": "markdown",
      "metadata": {},
      "source": [
        "`-` for문의 반복변수"
      ],
      "id": "724ede83-2b9e-49c1-8ae3-2ed4e1530b39"
    },
    {
      "cell_type": "code",
      "execution_count": null,
      "metadata": {},
      "outputs": [
        {
          "output_type": "stream",
          "name": "stdout",
          "text": [
            "att\n",
            "mid"
          ]
        }
      ],
      "source": [
        "for k in df:\n",
        "    print(k) # 딕셔너리같죠"
      ],
      "id": "2958c6c8"
    },
    {
      "cell_type": "code",
      "execution_count": null,
      "metadata": {},
      "outputs": [
        {
          "output_type": "stream",
          "name": "stdout",
          "text": [
            "att\n",
            "mid"
          ]
        }
      ],
      "source": [
        "for k in {'att':[30,40,50],'mid':[5,45,90]}: \n",
        "    print(k)"
      ],
      "id": "f7541f24"
    },
    {
      "cell_type": "markdown",
      "metadata": {},
      "source": [
        "**참고:** df는 진짜 딕셔너리 느낌 강해요"
      ],
      "id": "869886cc-2957-4252-a0f0-585189bd1f37"
    },
    {
      "cell_type": "code",
      "execution_count": null,
      "metadata": {},
      "outputs": [],
      "source": [
        "df.keys()"
      ],
      "id": "f0bc0b3c"
    },
    {
      "cell_type": "code",
      "execution_count": null,
      "metadata": {},
      "outputs": [
        {
          "output_type": "stream",
          "name": "stdout",
          "text": [
            "att\n",
            "mid"
          ]
        }
      ],
      "source": [
        "for k,v in df.items():\n",
        "    print(k)"
      ],
      "id": "4377ad9a"
    },
    {
      "cell_type": "markdown",
      "metadata": {},
      "source": [
        "## pd.Series\n",
        "\n",
        "`-` 2차원 ndarray가 pd.DataFrame에 대응한다면 1차원 ndarray는\n",
        "pd.Series에 대응한다."
      ],
      "id": "1d62566b-931f-46f6-a2e5-1fc1c3c1a7bd"
    },
    {
      "cell_type": "code",
      "execution_count": null,
      "metadata": {},
      "outputs": [],
      "source": [
        "a=pd.Series(np.random.randn(10))\n",
        "a"
      ],
      "id": "92fd48ab"
    },
    {
      "cell_type": "code",
      "execution_count": null,
      "metadata": {},
      "outputs": [],
      "source": [
        "type(a)"
      ],
      "id": "83e5e869"
    },
    {
      "cell_type": "code",
      "execution_count": null,
      "metadata": {},
      "outputs": [],
      "source": [
        "len(a)"
      ],
      "id": "906f2cb2"
    },
    {
      "cell_type": "code",
      "execution_count": null,
      "metadata": {},
      "outputs": [],
      "source": [
        "a.shape"
      ],
      "id": "1fe00f76"
    },
    {
      "cell_type": "code",
      "execution_count": null,
      "metadata": {},
      "outputs": [
        {
          "output_type": "stream",
          "name": "stdout",
          "text": [
            "0.10617283591748639\n",
            "0.7237590624253404\n",
            "0.21798967912700873\n",
            "0.1940223087322443\n",
            "-0.6889899757985083\n",
            "-0.3516696436204985\n",
            "0.9909329773184973\n",
            "1.2121468150185186\n",
            "-0.6089654373693767\n",
            "0.03254898346416765"
          ]
        }
      ],
      "source": [
        "for value in a: \n",
        "    print(value)"
      ],
      "id": "d0a13a71"
    },
    {
      "cell_type": "markdown",
      "metadata": {},
      "source": [
        "# pandas 공부 2단계\n",
        "\n",
        "`-` 데이터"
      ],
      "id": "167c67ec-c433-458b-81b0-a151460c581f"
    },
    {
      "cell_type": "code",
      "execution_count": null,
      "metadata": {},
      "outputs": [],
      "source": [
        "np.random.seed(43052)\n",
        "att = np.random.choice(np.arange(10,21)*5,20)\n",
        "rep = np.random.choice(np.arange(5,21)*5,20)\n",
        "mid = np.random.choice(np.arange(0,21)*5,20)\n",
        "fin = np.random.choice(np.arange(0,21)*5,20)\n",
        "key = ['2022-12'+str(s) for s in np.random.choice(np.arange(300,501),20,replace=False)]"
      ],
      "id": "c0e3cf0f"
    },
    {
      "cell_type": "code",
      "execution_count": null,
      "metadata": {},
      "outputs": [],
      "source": [
        "df = pd.DataFrame({'att':att,'rep':rep,'mid':mid,'fin':fin},index=key)\n",
        "df.head()"
      ],
      "id": "85267e83"
    },
    {
      "cell_type": "markdown",
      "metadata": {},
      "source": [
        "## 열의 선택\n",
        "\n",
        "`-` 방법1: `df[]` + 칼럼이름, 칼럼이름의 list"
      ],
      "id": "5f391813-1f3c-498f-b2aa-8825a26d57ff"
    },
    {
      "cell_type": "code",
      "execution_count": null,
      "metadata": {},
      "outputs": [],
      "source": [
        "# df['att'] # 칼럼이름 \n",
        "# df[['att']] # 칼럼이름의 list \n",
        "# df[['att','rep']] # 칼럼이름의 list "
      ],
      "id": "dec68365"
    },
    {
      "cell_type": "markdown",
      "metadata": {},
      "source": [
        "`-` 방법2: `df.iloc[:,]` + 정수, 정수의 list, range, 슬라이싱,\n",
        "스트라이딩, bool의 list"
      ],
      "id": "81519be5-f749-4945-8404-de9bfe799db7"
    },
    {
      "cell_type": "code",
      "execution_count": null,
      "metadata": {},
      "outputs": [],
      "source": [
        "# df.iloc[:,0] # 정수\n",
        "# df.iloc[:,[0]] # 정수의 list \n",
        "# df.iloc[:,[0,1]] # 정수의 list \n",
        "# df.iloc[:,range(2)] # range\n",
        "# df.iloc[:,-2:] # 슬라이싱\n",
        "# df.iloc[:,1::2] # 스트라이딩\n",
        "# df.iloc[:,[True,True,False,False]] # bool의 list "
      ],
      "id": "ddf35c44"
    },
    {
      "cell_type": "markdown",
      "metadata": {},
      "source": [
        "`-` 방법3: `df.loc[:,]` + 칼럼이름, 컬럼이름의 list, 칼럼이름으로\n",
        "슬라이싱($\\star$), 칼럼이름으로 스트라이딩($\\star$), bool의 list"
      ],
      "id": "994bd3f0-72c6-49cd-8ba7-6f2d13601cab"
    },
    {
      "cell_type": "code",
      "execution_count": null,
      "metadata": {},
      "outputs": [],
      "source": [
        "# df.loc[:,'att'] # 칼럼이름\n",
        "# df.loc[:,['att']] # 칼럼이름의 list \n",
        "# df.loc[:,['att','rep']] # 칼럼이름의 list \n",
        "# df.loc[:,'rep':'mid'] # 칼럼이름으로 슬라이싱 \n",
        "# df.loc[:,'rep'::2] # 칼럼이름으로 스트라이딩\n",
        "# df.loc[:,[True,False,False,True]] # bool의 list"
      ],
      "id": "c996519f"
    },
    {
      "cell_type": "markdown",
      "metadata": {},
      "source": [
        "## 행의 선택\n",
        "\n",
        "**여기서는 `df=중첩된list` 라고 생각해야 코드가 잘 읽힌다.**\n",
        "\n",
        "`-` 방법1: `df.iloc[]` + 정수, 정수의리스트, range, 슬라이싱,\n",
        "스트라이딩, bool의 list"
      ],
      "id": "4acf0c35-1126-4611-82aa-393df33da843"
    },
    {
      "cell_type": "code",
      "execution_count": null,
      "metadata": {},
      "outputs": [],
      "source": [
        "# df.iloc[0] # 정수 \n",
        "# df.iloc[[0]] # 정수의 list \n",
        "# df.iloc[[0,1]] # 정수의 list \n",
        "# df.iloc[range(2)] # range\n",
        "# df.iloc[-2:] # 슬라이싱\n",
        "# df.iloc[1::2] # 스트라이딩\n",
        "# df.iloc[[True]+[False]*19] # bool의 list \n",
        "# df.iloc[list(df['att']>70)] # bool의 list "
      ],
      "id": "17edc896"
    },
    {
      "cell_type": "markdown",
      "metadata": {},
      "source": [
        "**여기서는 `df=2차원array`라고 생각해야 코드가 잘 읽힌다.**\n",
        "\n",
        "`-` 방법1: `df.iloc[,:]` + 정수, 정수의리스트, range, 슬라이싱,\n",
        "스트라이딩, bool의 list"
      ],
      "id": "40569209-1912-49dc-a212-0c4a7778d26f"
    },
    {
      "cell_type": "code",
      "execution_count": null,
      "metadata": {},
      "outputs": [],
      "source": [
        "# df.iloc[0,:] # 정수 \n",
        "# df.iloc[[0],:] # 정수의 list \n",
        "# df.iloc[[0,1],:] # 정수의 list \n",
        "# df.iloc[range(2),:] # range\n",
        "# df.iloc[-2:,:] # 슬라이싱\n",
        "# df.iloc[1::2,:] # 스트라이딩\n",
        "# df.iloc[[True]+[False]*19,:] # bool의 list \n",
        "# df.iloc[list(df['att']>70),:] # bool의 list "
      ],
      "id": "27c47db1"
    },
    {
      "cell_type": "markdown",
      "metadata": {},
      "source": [
        "`-` 방법2: `df.loc[,:]` + 인덱스이름의 리스트, 인덱스이름으로\n",
        "슬라이싱($\\star$), 인덱스이름으로 스트라이딩($\\star$), bool의 list"
      ],
      "id": "f2466e18-3d4e-4567-8978-ffd1e9c37175"
    },
    {
      "cell_type": "code",
      "execution_count": null,
      "metadata": {},
      "outputs": [],
      "source": [
        "# df.loc['2022-12380',:] # 인덱스이름 \n",
        "# df.loc[['2022-12380','2022-12370'],:] # 인덱스이름의 리스트\n",
        "# df.loc['2022-12452':,:] # 인덱스이름으로 슬라이싱\n",
        "# df.loc['2022-12380'::3,:] # 인덱스이름으로 스트라이딩\n",
        "# df.loc[list(df['att']>70),:] # bool의 list \n",
        "# df.loc[df['att']>70,:] # bool의 list "
      ],
      "id": "6c6eec49"
    },
    {
      "cell_type": "markdown",
      "metadata": {},
      "source": [
        "## 안썼으면 좋겠는 코드\n",
        "\n",
        "`-` 제가 안쓰는 코드1:"
      ],
      "id": "4adf2877-b95d-4478-84bf-d6fa647bcceb"
    },
    {
      "cell_type": "code",
      "execution_count": null,
      "metadata": {},
      "outputs": [],
      "source": [
        "df['2022-12380':'2022-12370']"
      ],
      "id": "a6cd5736"
    },
    {
      "cell_type": "markdown",
      "metadata": {},
      "source": [
        "이러면 내 입장에서는 마치 아래가 동작할 것 같잖아.."
      ],
      "id": "9aa2dd5d-bd03-4a15-b43f-3d3b3fabcc9b"
    },
    {
      "cell_type": "code",
      "execution_count": null,
      "metadata": {},
      "outputs": [],
      "source": [
        "df['2022-12380']"
      ],
      "id": "fdf15e20"
    },
    {
      "cell_type": "markdown",
      "metadata": {},
      "source": [
        "`-` 제가 안쓰는 코드2: bool의 list를 사용할때 iloc은 가급적 쓰지마세요"
      ],
      "id": "2d982671-cecc-4c6f-983d-3517868ffc88"
    },
    {
      "cell_type": "code",
      "execution_count": null,
      "metadata": {},
      "outputs": [],
      "source": [
        "df.iloc[list(df['att']<80),:]"
      ],
      "id": "6494de36"
    },
    {
      "cell_type": "markdown",
      "metadata": {},
      "source": [
        "이러면 마치 아래도 동작할 것 같잖아.."
      ],
      "id": "12a8ef6c-7fb6-4b59-a837-e0b348f86ee5"
    },
    {
      "cell_type": "code",
      "execution_count": null,
      "metadata": {},
      "outputs": [],
      "source": [
        "df.iloc[df['att']<80,:]"
      ],
      "id": "b46298e7"
    },
    {
      "cell_type": "markdown",
      "metadata": {},
      "source": [
        "`-` 참고: 맨날 틀리는 코드"
      ],
      "id": "0f66c01d-fc24-46c7-b245-10adb7a7a682"
    },
    {
      "cell_type": "code",
      "execution_count": null,
      "metadata": {},
      "outputs": [],
      "source": [
        "df.loc['att']"
      ],
      "id": "bc62a1a1"
    },
    {
      "cell_type": "markdown",
      "metadata": {},
      "source": [
        "# pandas 공부 3단계\n",
        "\n",
        "`-` df자료형의 메소드를 알아보자.\n",
        "\n",
        "## 전치"
      ],
      "id": "8b76a1f8-4a9f-45f4-8f4f-fd21fb888133"
    },
    {
      "cell_type": "code",
      "execution_count": null,
      "metadata": {},
      "outputs": [],
      "source": [
        "arr = np.arange(2*3).reshape(2,3)\n",
        "df = pd.DataFrame(arr)\n",
        "df"
      ],
      "id": "a9b62a2c"
    },
    {
      "cell_type": "code",
      "execution_count": null,
      "metadata": {},
      "outputs": [],
      "source": [
        "df.T"
      ],
      "id": "bce65cd4"
    },
    {
      "cell_type": "markdown",
      "metadata": {},
      "source": [
        "## 합"
      ],
      "id": "bdfbd9eb-1053-4e2e-b874-12a05adcc99a"
    },
    {
      "cell_type": "code",
      "execution_count": null,
      "metadata": {},
      "outputs": [],
      "source": [
        "df"
      ],
      "id": "0a358537"
    },
    {
      "cell_type": "code",
      "execution_count": null,
      "metadata": {},
      "outputs": [],
      "source": [
        "df.sum(axis=0)"
      ],
      "id": "f411652c"
    },
    {
      "cell_type": "code",
      "execution_count": null,
      "metadata": {},
      "outputs": [],
      "source": [
        "df.sum(axis=1)"
      ],
      "id": "bc0375bc"
    },
    {
      "cell_type": "markdown",
      "metadata": {},
      "source": [
        "## cumsum"
      ],
      "id": "2893119e-ce07-4fed-a62a-3b51c18834ea"
    },
    {
      "cell_type": "code",
      "execution_count": null,
      "metadata": {},
      "outputs": [],
      "source": [
        "df"
      ],
      "id": "7d88d9bb"
    },
    {
      "cell_type": "code",
      "execution_count": null,
      "metadata": {},
      "outputs": [],
      "source": [
        "df.cumsum(axis=1) "
      ],
      "id": "2c7d5111"
    },
    {
      "cell_type": "markdown",
      "metadata": {},
      "source": [
        "## 형태변환"
      ],
      "id": "20a7bc50-a69e-43a9-b136-a383baf446a8"
    },
    {
      "cell_type": "code",
      "execution_count": null,
      "metadata": {},
      "outputs": [],
      "source": [
        "df"
      ],
      "id": "48b7ecf7"
    },
    {
      "cell_type": "code",
      "execution_count": null,
      "metadata": {},
      "outputs": [],
      "source": [
        "df.to_dict()"
      ],
      "id": "b5c32050"
    },
    {
      "cell_type": "code",
      "execution_count": null,
      "metadata": {},
      "outputs": [],
      "source": [
        "df.to_numpy()"
      ],
      "id": "96867f91"
    },
    {
      "cell_type": "code",
      "execution_count": null,
      "metadata": {},
      "outputs": [],
      "source": [
        "df.to_numpy().tolist()"
      ],
      "id": "ba66e9e5"
    },
    {
      "cell_type": "markdown",
      "metadata": {},
      "source": [
        "## 기타메소드.. 생략…\n",
        "\n",
        "# pandas 공부 4단계"
      ],
      "id": "8f00e964-c98d-42fa-a174-d7b14719e9f5"
    },
    {
      "cell_type": "code",
      "execution_count": null,
      "metadata": {},
      "outputs": [],
      "source": [
        "np.random.seed(43052)\n",
        "att = np.random.choice(np.arange(10,21)*5,20)\n",
        "rep = np.random.choice(np.arange(5,21)*5,20)\n",
        "mid = np.random.choice(np.arange(0,21)*5,20)\n",
        "fin = np.random.choice(np.arange(0,21)*5,20)\n",
        "key = ['2022-12'+str(s) for s in np.random.choice(np.arange(300,501),20,replace=False)]\n",
        "df = pd.DataFrame({'att':att,'rep':rep,'mid':mid,'fin':fin},index=key)\n",
        "df.head()"
      ],
      "id": "55703b0b"
    },
    {
      "cell_type": "markdown",
      "metadata": {},
      "source": [
        "## query ($\\star$)\n",
        "\n",
        "`-` 예제1: att==90 and fin\\>30"
      ],
      "id": "bd679f27-f941-4c46-b048-a2a19075e7b1"
    },
    {
      "cell_type": "code",
      "execution_count": null,
      "metadata": {},
      "outputs": [],
      "source": [
        "df.query('att ==90 and fin >30')"
      ],
      "id": "26d72124"
    },
    {
      "cell_type": "markdown",
      "metadata": {},
      "source": [
        "`-` 예제2: att\\<rep and mid\\<fin"
      ],
      "id": "151c6cb1-9c13-47d1-be46-ed1bfc86746a"
    },
    {
      "cell_type": "code",
      "execution_count": null,
      "metadata": {},
      "outputs": [],
      "source": [
        "df.query('att<rep and mid<fin')"
      ],
      "id": "70075423"
    },
    {
      "cell_type": "markdown",
      "metadata": {},
      "source": [
        "`-` 예제3: att \\< rep \\< 80"
      ],
      "id": "3fc92b05-23e1-41e6-8334-53ece39c05f7"
    },
    {
      "cell_type": "code",
      "execution_count": null,
      "metadata": {},
      "outputs": [],
      "source": [
        "df.query('att<rep<80')"
      ],
      "id": "a84ac3ff"
    },
    {
      "cell_type": "markdown",
      "metadata": {},
      "source": [
        "`-` 예제4: 50 \\< att \\<= 90 and mid \\< fin"
      ],
      "id": "41ce0fa6-8917-49f0-af8b-4a24e712dd87"
    },
    {
      "cell_type": "code",
      "execution_count": null,
      "metadata": {},
      "outputs": [],
      "source": [
        "df.query('50<att<=90 and mid<fin')"
      ],
      "id": "a53c0cef"
    },
    {
      "cell_type": "markdown",
      "metadata": {},
      "source": [
        "`-` 예제5: (mid+fin)/2 \\>=60"
      ],
      "id": "396fb78f-bf15-4b23-801d-3fa0d5791fe6"
    },
    {
      "cell_type": "code",
      "execution_count": null,
      "metadata": {},
      "outputs": [],
      "source": [
        "df.query('(mid+fin)/2>=60')"
      ],
      "id": "e27df188"
    },
    {
      "cell_type": "markdown",
      "metadata": {},
      "source": [
        "`-` 예제6: att \\> mean(att)"
      ],
      "id": "0499529d-52e6-4838-bf50-f61e4698d766"
    },
    {
      "cell_type": "code",
      "execution_count": null,
      "metadata": {},
      "outputs": [],
      "source": [
        "_mean = df['att'].mean() \n",
        "_mean "
      ],
      "id": "088f745a"
    },
    {
      "cell_type": "code",
      "execution_count": null,
      "metadata": {},
      "outputs": [],
      "source": [
        "df.query('att> @_mean')"
      ],
      "id": "bc097a6e"
    },
    {
      "cell_type": "markdown",
      "metadata": {},
      "source": [
        "## 시계열자료\n",
        "\n",
        "`-` 시계열자료"
      ],
      "id": "f3551912-6321-4a65-b685-dc950ea1277e"
    },
    {
      "cell_type": "code",
      "execution_count": null,
      "metadata": {},
      "outputs": [],
      "source": [
        "pd.date_range('20211226',periods=10)"
      ],
      "id": "7bed28cd"
    },
    {
      "cell_type": "code",
      "execution_count": null,
      "metadata": {},
      "outputs": [],
      "source": [
        "df=pd.DataFrame(np.random.normal(size=(10,4)),columns=list('ABCD'),index=pd.date_range('20211226',periods=10))\n",
        "df"
      ],
      "id": "cfe7d6a2"
    },
    {
      "cell_type": "markdown",
      "metadata": {},
      "source": [
        "`-` 예제1: 시계열자료에서의 인덱싱"
      ],
      "id": "e409c8c4-ea17-47b3-9df7-4ea5d4a4babc"
    },
    {
      "cell_type": "code",
      "execution_count": null,
      "metadata": {},
      "outputs": [],
      "source": [
        "df.loc['2021-12-28':'2022-01-02',:]"
      ],
      "id": "db15a10b"
    },
    {
      "cell_type": "markdown",
      "metadata": {},
      "source": [
        "`-` 예제3: 스트라이딩 (샘플링)"
      ],
      "id": "8a132031-6068-424d-a0af-0b77a284040b"
    },
    {
      "cell_type": "code",
      "execution_count": null,
      "metadata": {},
      "outputs": [],
      "source": [
        "df.loc[::3,:]"
      ],
      "id": "c2b1461e"
    },
    {
      "cell_type": "markdown",
      "metadata": {},
      "source": [
        "`-` 예제4: query를 이용한 인덱싱"
      ],
      "id": "f181d7c7-3440-4a3e-af5f-ceb4e9bf4ce1"
    },
    {
      "cell_type": "code",
      "execution_count": null,
      "metadata": {},
      "outputs": [],
      "source": [
        "df.query(\"index <= '2021-12-30' or index=='2022-01-02'\")"
      ],
      "id": "bc73f52d"
    },
    {
      "cell_type": "markdown",
      "metadata": {},
      "source": [
        "## 더러운 자료 (1)\n",
        "\n",
        "***예비학습: 하나의 col을 선택하는 가장 좋은 방법***"
      ],
      "id": "9c7b8f12-80fa-492d-a06d-34839942143c"
    },
    {
      "cell_type": "code",
      "execution_count": null,
      "metadata": {},
      "outputs": [],
      "source": [
        "np.random.seed(43052)\n",
        "att = np.random.choice(np.arange(10,21)*5,20)\n",
        "rep = np.random.choice(np.arange(5,21)*5,20)\n",
        "mid = np.random.choice(np.arange(0,21)*5,20)\n",
        "fin = np.random.choice(np.arange(0,21)*5,20)\n",
        "key = ['2022-12'+str(s) for s in np.random.choice(np.arange(300,501),20,replace=False)]\n",
        "df = pd.DataFrame({'att':att,'rep':rep,'mid':mid,'fin':fin},index=key)\n",
        "df.head()"
      ],
      "id": "e2b753a6"
    },
    {
      "cell_type": "markdown",
      "metadata": {},
      "source": [
        "`-` att 선택"
      ],
      "id": "94689a4d-901a-494a-ac0c-93f7006d37fe"
    },
    {
      "cell_type": "code",
      "execution_count": null,
      "metadata": {},
      "outputs": [],
      "source": [
        "df.att"
      ],
      "id": "37aaf486"
    },
    {
      "cell_type": "markdown",
      "metadata": {},
      "source": [
        "`-` 단점: 칼럼이름에 스페이스가 있으면 쓸 수 없음.\n",
        "\n",
        "***예비학습끝***\n",
        "\n",
        "------------------------------------------------------------------------\n",
        "\n",
        "`-` 누가 자료를 아래와 같이 주었다고 하자. (엑셀특)"
      ],
      "id": "c64b83c8-e7b1-4358-9520-b0f58e468d33"
    },
    {
      "cell_type": "code",
      "execution_count": null,
      "metadata": {},
      "outputs": [],
      "source": [
        "df.columns = pd.Index(['att score', 'rep score', 'mid score', 'fin score'])\n",
        "df.head()"
      ],
      "id": "4910559c"
    },
    {
      "cell_type": "markdown",
      "metadata": {},
      "source": [
        "`-` 출석점수를 뽑고 싶다면?"
      ],
      "id": "1c34a24f-da8f-4281-a786-fe875f6d3534"
    },
    {
      "cell_type": "code",
      "execution_count": null,
      "metadata": {},
      "outputs": [],
      "source": [
        "df['att score']\n",
        "# df.att score # 이코드는 실행불가능"
      ],
      "id": "fd0a9967"
    },
    {
      "cell_type": "markdown",
      "metadata": {},
      "source": [
        "`-` 출석점수가 90보다 작은 학생을 뽑고 싶다면?"
      ],
      "id": "077c4689-6061-470c-bd9a-ae34033b93e9"
    },
    {
      "cell_type": "code",
      "execution_count": null,
      "metadata": {},
      "outputs": [],
      "source": [
        "df.loc[df['att score'] < 90, :] \n",
        "# df.query('att score < 90')"
      ],
      "id": "95d77077"
    },
    {
      "cell_type": "markdown",
      "metadata": {},
      "source": [
        "`-` 그냥 컬럼이름을 바꾸고 하는것도 방법임"
      ],
      "id": "e693e0f1-b0d0-4e7f-a4e6-2581afe417cf"
    },
    {
      "cell_type": "code",
      "execution_count": null,
      "metadata": {},
      "outputs": [],
      "source": [
        "df.columns = pd.Index([l.replace(' ','_') for l in list(df.columns)])\n",
        "df.head()"
      ],
      "id": "f61e3b90"
    },
    {
      "cell_type": "code",
      "execution_count": null,
      "metadata": {},
      "outputs": [],
      "source": [
        "df.query('att_score<90')\n",
        "df.att_score"
      ],
      "id": "c29cbf9a"
    },
    {
      "cell_type": "markdown",
      "metadata": {},
      "source": [
        "`-` 그렇지만 col이름을 바꾸는게 항상 만능은 아니다.\n",
        "\n",
        "## 개인습관\n",
        "\n",
        "`-` row의 이름은 없는게 낫다고 생각함 // 시계열자료는 예외"
      ],
      "id": "45ac0a63-cd9c-41e7-9be7-dbf71b145179"
    },
    {
      "cell_type": "code",
      "execution_count": null,
      "metadata": {},
      "outputs": [],
      "source": [
        "np.random.seed(43052)\n",
        "att = np.random.choice(np.arange(10,21)*5,20)\n",
        "rep = np.random.choice(np.arange(5,21)*5,20)\n",
        "mid = np.random.choice(np.arange(0,21)*5,20)\n",
        "fin = np.random.choice(np.arange(0,21)*5,20)\n",
        "key = ['2022-12'+str(s) for s in np.random.choice(np.arange(300,501),20,replace=False)]\n",
        "df = pd.DataFrame({'att':att,'rep':rep,'mid':mid,'fin':fin},index=key)\n",
        "df.head()"
      ],
      "id": "e3c8e378"
    },
    {
      "cell_type": "code",
      "execution_count": null,
      "metadata": {},
      "outputs": [],
      "source": [
        "df2 = df.reset_index().rename(columns={'index':'student_id'})\n",
        "df2.head()"
      ],
      "id": "97a3511e"
    },
    {
      "cell_type": "markdown",
      "metadata": {},
      "source": [
        "`-` 편해"
      ],
      "id": "9ef09b88-b39d-48c3-b5de-4be265a4efe2"
    },
    {
      "cell_type": "code",
      "execution_count": null,
      "metadata": {},
      "outputs": [],
      "source": [
        "#df2.loc[0,'student_id':'rep'] \n",
        "#df2.loc[[0],'student_id':'rep'] \n",
        "#df2.loc[[0,4,5],'student_id':'rep'] \n",
        "#df2.loc[range(5),'student_id':'rep'] \n",
        "#df2.loc[5::2,'student_id':'rep'] "
      ],
      "id": "97ce7581"
    },
    {
      "cell_type": "markdown",
      "metadata": {},
      "source": [
        "## 새로운 열의 추가 ($\\star\\star\\star$)\n",
        "\n",
        "`-` 자료"
      ],
      "id": "bfb16929-0a3f-4617-8cdf-d6fbc1d1f3ec"
    },
    {
      "cell_type": "code",
      "execution_count": null,
      "metadata": {},
      "outputs": [],
      "source": [
        "np.random.seed(43052)\n",
        "att = np.random.choice(np.arange(10,21)*5,20)\n",
        "rep = np.random.choice(np.arange(5,21)*5,20)\n",
        "mid = np.random.choice(np.arange(0,21)*5,20)\n",
        "fin = np.random.choice(np.arange(0,21)*5,20)\n",
        "student_id = [ '2023-12362', '2022-12471', '2023-12333', '2022-12400', '2022-12377',\n",
        "               '2022-12469', '2023-12314', '2022-12363', '2023-12445', '2023-12336',\n",
        "               '2023-12426', '2022-12380', '2023-12422', '2022-12488', '2022-12370',\n",
        "               '2023-12443', '2022-12463', '2023-12491', '2023-12340', '2022-12312' ]\n",
        "df = pd.DataFrame({'student_id':student_id,'att':att,'rep':rep,'mid':mid,'fin':fin})\n",
        "df"
      ],
      "id": "1317fb75"
    },
    {
      "cell_type": "markdown",
      "metadata": {},
      "source": [
        "`-` 방법1: assign을 이용한 추가"
      ],
      "id": "1d89c2f3-8d7d-4b9a-aac5-1a2af2ff78dd"
    },
    {
      "cell_type": "code",
      "execution_count": null,
      "metadata": {},
      "outputs": [],
      "source": [
        "df.assign(total = df.att*0.1 + df.rep*0.2 + df.mid*0.3 + df.fin*0.4) "
      ],
      "id": "af747b97"
    },
    {
      "cell_type": "markdown",
      "metadata": {},
      "source": [
        "`-` 방법2: eval을 이용한 추가"
      ],
      "id": "fc3ff86a-f6d7-419d-8be0-127497e55f4f"
    },
    {
      "cell_type": "code",
      "execution_count": null,
      "metadata": {},
      "outputs": [],
      "source": [
        "df.eval('total = att*0.1 + rep*0.2 + mid*0.3 + fin*0.4') "
      ],
      "id": "6f66c5ae"
    },
    {
      "cell_type": "markdown",
      "metadata": {},
      "source": [
        "`-` 방법3: `df['total']` 을 이용한 할당 // 추천X"
      ],
      "id": "fb9bd015-c42a-4109-8c37-3bd1478c36ed"
    },
    {
      "cell_type": "code",
      "execution_count": null,
      "metadata": {},
      "outputs": [],
      "source": [
        "df['total'] = df.att*0.1 + df.rep*0.2 + df.mid*0.3 + df.fin*0.4\n",
        "df"
      ],
      "id": "7a20a615"
    },
    {
      "cell_type": "markdown",
      "metadata": {},
      "source": [
        "`-` 아래의 자료에서 입학년도를 추가하고 싶다면?"
      ],
      "id": "b4b6d6fe-32a9-4b9f-9cac-ab2779fd768a"
    },
    {
      "cell_type": "code",
      "execution_count": null,
      "metadata": {},
      "outputs": [],
      "source": [
        "np.random.seed(43052)\n",
        "att = np.random.choice(np.arange(10,21)*5,20)\n",
        "rep = np.random.choice(np.arange(5,21)*5,20)\n",
        "mid = np.random.choice(np.arange(0,21)*5,20)\n",
        "fin = np.random.choice(np.arange(0,21)*5,20)\n",
        "student_id = [ '2023-12362', '2022-12471', '2023-12333', '2022-12400', '2022-12377',\n",
        "               '2022-12469', '2023-12314', '2022-12363', '2023-12445', '2023-12336',\n",
        "               '2023-12426', '2022-12380', '2023-12422', '2022-12488', '2022-12370',\n",
        "               '2023-12443', '2022-12463', '2023-12491', '2023-12340', '2022-12312' ]\n",
        "df = pd.DataFrame({'student_id':student_id,'att':att,'rep':rep,'mid':mid,'fin':fin})"
      ],
      "id": "a75361ac"
    },
    {
      "cell_type": "code",
      "execution_count": null,
      "metadata": {},
      "outputs": [],
      "source": [
        "df.assign(year=[l.split('-')[0] for l in list(df.student_id)]).query('year==\"2022\"')"
      ],
      "id": "9fd74103"
    },
    {
      "cell_type": "markdown",
      "metadata": {},
      "source": [
        "# Quiz\n",
        "\n",
        "`(1)` 아래와 같은 데이터 프레임을 선언하라."
      ],
      "id": "4fdb8d8b-08f8-4470-8e0d-bbce12e8176f"
    },
    {
      "cell_type": "code",
      "execution_count": null,
      "metadata": {},
      "outputs": [],
      "source": [
        "from IPython.core.display import HTML \n",
        "HTML('<table border=\"1\" class=\"dataframe\">\\n  <thead>\\n    <tr style=\"text-align: right;\">\\n      <th></th>\\n      <th>A</th>\\n      <th>B</th>\\n    </tr>\\n  </thead>\\n  <tbody>\\n    <tr>\\n      <th>0</th>\\n      <td>1</td>\\n      <td>-2</td>\\n    </tr>\\n    <tr>\\n      <th>1</th>\\n      <td>2</td>\\n      <td>-3</td>\\n    </tr>\\n    <tr>\\n      <th>2</th>\\n      <td>3</td>\\n      <td>-4</td>\\n    </tr>\\n  </tbody>\\n</table>')"
      ],
      "id": "d8f559d7"
    },
    {
      "cell_type": "markdown",
      "metadata": {},
      "source": [
        "`(2)` Column을 이름을 X1, X2로 변경하라. 출력결과는 아래와 같아야 한다."
      ],
      "id": "d9881297-5b2f-4bc7-87b1-fa33d14d1773"
    },
    {
      "cell_type": "code",
      "execution_count": null,
      "metadata": {},
      "outputs": [],
      "source": [
        "from IPython.core.display import HTML \n",
        "HTML('<table border=\"1\" class=\"dataframe\">\\n  <thead>\\n    <tr style=\"text-align: right;\">\\n      <th></th>\\n      <th>X1</th>\\n      <th>X2</th>\\n    </tr>\\n  </thead>\\n  <tbody>\\n    <tr>\\n      <th>0</th>\\n      <td>1</td>\\n      <td>-2</td>\\n    </tr>\\n    <tr>\\n      <th>1</th>\\n      <td>2</td>\\n      <td>-3</td>\\n    </tr>\\n    <tr>\\n      <th>2</th>\\n      <td>3</td>\\n      <td>-4</td>\\n    </tr>\\n  </tbody>\\n</table>')"
      ],
      "id": "4bf25299"
    },
    {
      "cell_type": "markdown",
      "metadata": {},
      "source": [
        "`(3)-(5)` 아래와 같은 자료를 고려하자."
      ],
      "id": "9d77cfd7-467c-4df4-b9c1-d459db5742d4"
    },
    {
      "cell_type": "code",
      "execution_count": null,
      "metadata": {},
      "outputs": [],
      "source": [
        "df = pd.DataFrame(np.random.normal(size=(100,5)),columns=list('ABCDE'))\n",
        "df"
      ],
      "id": "00c887d0"
    },
    {
      "cell_type": "markdown",
      "metadata": {},
      "source": [
        "`(3)` B,D열을 선택하라.\n",
        "\n",
        "`(4)` 마지막 10개의 row를 출력하라.\n",
        "\n",
        "`(5)` A,B 열의 처음 10개의 row를 출력하라.\n",
        "\n",
        "`(6)-(9)` 아래와 같은 자료를 고려하자."
      ],
      "id": "e3551990-d8fe-4aa9-87ac-f3f13ff87b8f"
    },
    {
      "cell_type": "code",
      "execution_count": null,
      "metadata": {},
      "outputs": [],
      "source": [
        "df=pd.read_csv('https://raw.githubusercontent.com/PacktPublishing/Pandas-Cookbook/master/data/movie.csv')\n",
        "df"
      ],
      "id": "b42e10d7"
    },
    {
      "cell_type": "markdown",
      "metadata": {},
      "source": [
        "`(6)` 이 데이터프레임에는 몇개의 컬럼이 있는지 count하라.\n",
        "\n",
        "**hint**: df.columns의 len을 조사\n",
        "\n",
        "`(7)` 데이터프레임의 컬럼이름이 c혹은 d로 시작하는 열은 몇개 있는지\n",
        "세어보라.\n",
        "\n",
        "**hint:** 아래의 코드를 관찰"
      ],
      "id": "7fcf2701-8e8b-4933-a6a2-1f9a65344473"
    },
    {
      "cell_type": "code",
      "execution_count": null,
      "metadata": {},
      "outputs": [],
      "source": [
        "lst = ['color', 'director_name', 'num_critic_for_reviews', 'duration'] \n",
        "[l for l in lst if l[0]=='c' or l[0]=='d']"
      ],
      "id": "088a9bf5"
    },
    {
      "cell_type": "markdown",
      "metadata": {},
      "source": [
        "`(8)` 이 데이터프레임에서 ’actor’라는 단어가 포함된 열이 몇개있는지\n",
        "세어보라.\n",
        "\n",
        "`(9)` 이 데이터프레임에서 ’actor’라는 단어가 포함된 열을 출력하라.\n",
        "\n",
        "**hint**: 아래의 코드를 관찰하라."
      ],
      "id": "1331eabf-9a3e-417c-864d-320a4de6d4d4"
    },
    {
      "cell_type": "code",
      "execution_count": null,
      "metadata": {},
      "outputs": [],
      "source": [
        "_df = pd.DataFrame(\n",
        "    np.random.randint(1,200,size=(100,2)),\n",
        "    columns=['director_facebook_likes', 'actor_3_facebook_likes']\n",
        ")\n",
        "_df"
      ],
      "id": "97935b7e"
    },
    {
      "cell_type": "code",
      "execution_count": null,
      "metadata": {},
      "outputs": [],
      "source": [
        "_df.loc[:,['actor' in colname for colname in _df.columns]]"
      ],
      "id": "cf0d631f"
    },
    {
      "cell_type": "markdown",
      "metadata": {},
      "source": [
        "------------------------------------------------------------------------\n",
        "\n",
        "아래는 전북대 통계학과 학생들이 R과 Python을 공부한 평균 시간이다."
      ],
      "id": "13b28e4c-cc49-434a-b3c9-b03298ce8598"
    },
    {
      "cell_type": "code",
      "execution_count": null,
      "metadata": {},
      "outputs": [],
      "source": [
        "np.random.seed(20230426)\n",
        "day = ['2023-04-24(Mon)','2023-04-25(Tue)','2023-04-26(Wed)','2023-04-27(Thu)','2023-04-28(Fri)',\n",
        "       '2023-05-01(Mon)','2023-05-02(Tue)','2023-05-03(Wed)','2023-05-04(Thu)','2023-05-05(Fri)',\n",
        "       '2023-05-08(Mon)','2023-05-09(Tue)','2023-05-10(Wed)','2023-05-11(Thu)','2023-05-12(Fri)']\n",
        "hours1 = np.random.randn(15).cumsum()*2\n",
        "hours1 = hours1 - hours1.min() +1\n",
        "hours2 = np.random.randn(15).cumsum()*2\n",
        "hours2 = hours2 - hours2.min() +1\n",
        "\n",
        "df = pd.DataFrame({'hours(R)':hours1, 'hours(Python)':hours2},index=day)\n",
        "df"
      ],
      "id": "6697bc9f"
    },
    {
      "cell_type": "markdown",
      "metadata": {},
      "source": [
        "`(10)` 데이터프레임을 변형하여 아래와 같이 만들어라."
      ],
      "id": "a6813677-a0fb-4f70-af3e-3c84f5e4b363"
    },
    {
      "cell_type": "code",
      "execution_count": null,
      "metadata": {},
      "outputs": [],
      "source": [
        "#"
      ],
      "id": "3572721d"
    },
    {
      "cell_type": "markdown",
      "metadata": {},
      "source": [
        "`(11)` 4월달에 전북대학교 학생들은 R과 Python중 어떤 과목을 더 많이\n",
        "공부하였는가?\n",
        "\n",
        "`(12)` ‘월-금’ 사이의 요일중 R을 가장 열심히 공부한 요일은 어느\n",
        "요일인가?\n",
        "\n",
        "`(13)` ’월-금’사이의 요일중 Python과 R의 합계학습량이 가장 큰 요일은\n",
        "어느 요일인가?\n",
        "\n",
        "`(14)` R과 Python의 학습량 차이를 계산하고 (R-Python을 계산) maplotlib\n",
        "을 이용하여 시각화하라.\n",
        "\n",
        "(풀이)"
      ],
      "id": "6ba281d2-dc08-489f-93c6-fb5695e9c649"
    },
    {
      "cell_type": "code",
      "execution_count": null,
      "metadata": {},
      "outputs": [
        {
          "output_type": "display_data",
          "metadata": {},
          "data": {
            "image/png": "[encoded data removed]"
          }
        }
      ],
      "source": [
        "# 시각화예시"
      ],
      "id": "b87b8fde"
    }
  ],
  "nbformat": 4,
  "nbformat_minor": 5,
  "metadata": {
    "kernelspec": {
      "name": "python3",
      "display_name": "Python 3",
      "language": "python"
    },
    "language_info": {
      "name": "python",
      "codemirror_mode": {
        "name": "ipython",
        "version": "3"
      },
      "file_extension": ".py",
      "mimetype": "text/x-python",
      "nbconvert_exporter": "python",
      "pygments_lexer": "ipython3",
      "version": "3.8.16"
    }
  }
}