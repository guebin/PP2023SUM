{
  "cells": [
    {
      "cell_type": "markdown",
      "metadata": {},
      "source": [
        "# HW 0327 (1)\n",
        "\n",
        "`ssh코드`: 1-2\n",
        "\n",
        "아래의 문자열을 고려하자."
      ],
      "id": "24e3d051-f422-4b26-868c-74a5d1dfb0a6"
    },
    {
      "cell_type": "code",
      "execution_count": 1,
      "metadata": {},
      "outputs": [],
      "source": [
        "test_arr = 'ssh-rsa AAAAB3NzaC1yc2EAAAABIwAAAQEAklOUpkDHrfHY17SbrmTIpNLTGK9Tjom/BWDSUGPl+nafzlHDTYW7hdI4yZ5ew18JH4JW9jbhUFrviQzM7xlELEVf4h9lFX5QVkbPppSwg0cda3Pbv7kOdJ/MTyBlWXFCR+HAo3FXRitBqxiX1nKhXpHAZsMciLq8V6RjsNAQwdsdMFvSlVK/7XAt3FaoJoAsncM1Q9x5+3V0Ww68/eIFmb1zuUFljQJKprrX88XypNDvjYNby6vw/Pb0rwert/EnmZ+AW4OZPnTPI89ZPmVMLuayrD2cE86Z/il8b+gw3r3+1nKatmIkjn2so1d01QraTlMqVSsbxNrRFi9wrf+M7Q== schacon@mylaptop.local'"
      ],
      "id": "5bcb1741-753f-46ae-8a86-3ab197e6704e"
    },
    {
      "cell_type": "markdown",
      "metadata": {},
      "source": [
        "`1`. 이 문자열에서 `index = 0,2,4,6,8,...` 에 해당하는 원소를 출력하는\n",
        "코드를 작성하라. (2022-파이썬입문 중간고사 1-(2) 참고)"
      ],
      "id": "f14ddd86-932f-4870-8513-b7bb9e283b2c"
    },
    {
      "cell_type": "code",
      "execution_count": 140,
      "metadata": {},
      "outputs": [],
      "source": [
        "# 출력결과는 아래와 같아야 한다. "
      ],
      "id": "3c290afa-d2bb-4990-8242-7a18536f4bb5"
    },
    {
      "cell_type": "markdown",
      "metadata": {},
      "source": [
        "(풀이)"
      ],
      "id": "603a1a47-6bed-46e7-b0df-b277f051e49a"
    },
    {
      "cell_type": "code",
      "execution_count": 3,
      "metadata": {},
      "outputs": [],
      "source": [
        "test_arr[::2]"
      ],
      "id": "2edc8c84-80b0-42e4-9dff-461a5fe8d83e"
    },
    {
      "cell_type": "markdown",
      "metadata": {},
      "source": [
        "`2`. 위 문자열을 뒤집은 문자열을 구하는 코드를 구현하라.\n",
        "(2022-파이썬입문 중간고사 1-(4) 참고)"
      ],
      "id": "a876d6d2-c932-41be-897d-85a114857b80"
    },
    {
      "cell_type": "code",
      "execution_count": 141,
      "metadata": {},
      "outputs": [],
      "source": [
        "# 출력결과는 아래와 같아야 한다. "
      ],
      "id": "de790e5e-ae88-4e30-a163-eb969ea91497"
    },
    {
      "cell_type": "markdown",
      "metadata": {},
      "source": [
        "(풀이)"
      ],
      "id": "0930c5ff-50b4-479e-9fd4-c6ab696a2104"
    },
    {
      "cell_type": "code",
      "execution_count": 4,
      "metadata": {},
      "outputs": [],
      "source": [
        "test_arr[::-1]"
      ],
      "id": "0c8b7369-3222-4186-8db7-b598dc421a1b"
    },
    {
      "cell_type": "markdown",
      "metadata": {},
      "source": [
        "------------------------------------------------------------------------\n",
        "\n",
        "`파이썬 프로그래밍 시험성적`: 3-4\n",
        "\n",
        "아래와 같은 dictionary가 있다고 가정하자."
      ],
      "id": "d5d12355-3a57-4cba-8642-99c007b2ec1a"
    },
    {
      "cell_type": "code",
      "execution_count": 5,
      "metadata": {},
      "outputs": [],
      "source": [
        "dct={'202212377': {'att': 65, 'rep': 45, 'mid': 0, 'fin': 10},\n",
        "     '202212473': {'att': 95, 'rep': 30, 'mid': 60, 'fin': 10},\n",
        "     '202212310': {'att': 65, 'rep': 85, 'mid': 15, 'fin': 20},\n",
        "     '202212460': {'att': 55, 'rep': 35, 'mid': 35, 'fin': 5},\n",
        "     '202212320': {'att': 80, 'rep': 60, 'mid': 55, 'fin': 70},\n",
        "     '202212329': {'att': 75, 'rep': 40, 'mid': 75, 'fin': 85},\n",
        "     '202212408': {'att': 65, 'rep': 70, 'mid': 60, 'fin': 75},\n",
        "     '202212319': {'att': 60, 'rep': 25, 'mid': 20, 'fin': 35},\n",
        "     '202212348': {'att': 95, 'rep': 55, 'mid': 65, 'fin': 90},\n",
        "     '202212306': {'att': 90, 'rep': 25, 'mid': 95, 'fin': 50},\n",
        "     '202212308': {'att': 55, 'rep': 45, 'mid': 75, 'fin': 30},\n",
        "     '202212366': {'att': 95, 'rep': 60, 'mid': 25, 'fin': 55},\n",
        "     '202212367': {'att': 95, 'rep': 35, 'mid': 0, 'fin': 25},\n",
        "     '202212461': {'att': 50, 'rep': 55, 'mid': 90, 'fin': 45}}"
      ],
      "id": "cab8c03b-8101-4722-a84f-893b7004a59f"
    },
    {
      "cell_type": "markdown",
      "metadata": {},
      "source": [
        "여기에서 ‘202212377’ 등은 학번을, att는 출석점수, rep는 레포트점수,\n",
        "mid는 중간고사 점수, fin은 기말고사 점수를 의미한다.\n",
        "\n",
        "`3`. 학생들의 학번을 아래와 같은 방식으로 출력하는 코드를 작성하라."
      ],
      "id": "b47cf98f-bfc6-40ee-adef-5d0dedc7791a"
    },
    {
      "cell_type": "code",
      "execution_count": 165,
      "metadata": {},
      "outputs": [],
      "source": [
        "# 출력예시"
      ],
      "id": "f88c86b3-fcea-4e68-8785-8d8f8e49d339"
    },
    {
      "cell_type": "markdown",
      "metadata": {},
      "source": [
        "(풀이)"
      ],
      "id": "0ae5349f-22e6-49d7-8eba-243fcffa16ea"
    },
    {
      "cell_type": "code",
      "execution_count": 8,
      "metadata": {},
      "outputs": [],
      "source": [
        "[k[:4]+'-'+k[4:] for k in dct]"
      ],
      "id": "4547362f-92b7-4bb0-a7da-dab4168e5252"
    },
    {
      "cell_type": "markdown",
      "metadata": {},
      "source": [
        "`4`. 출석점수가 70점 이상인(`>=70`) 학생들의 학번을 출력하는 코드를\n",
        "작성하라. (2022-파이썬입문 중간고사 2-(3) 참고)"
      ],
      "id": "19986de2-f363-41cb-9d58-187b59e33d44"
    },
    {
      "cell_type": "code",
      "execution_count": 166,
      "metadata": {},
      "outputs": [],
      "source": [
        "# 출력예시 "
      ],
      "id": "88ae526b-937c-41d1-a819-f05079c0b615"
    },
    {
      "cell_type": "markdown",
      "metadata": {},
      "source": [
        "(풀이)"
      ],
      "id": "6db6064f-abf0-407a-b682-3c6d7ca96cd9"
    },
    {
      "cell_type": "code",
      "execution_count": 10,
      "metadata": {},
      "outputs": [],
      "source": [
        "[k[:4]+'-'+k[4:] for k,v in dct.items() if v['att']>70]"
      ],
      "id": "ebba079d-7ef6-4210-8249-00718d62a3d1"
    },
    {
      "cell_type": "markdown",
      "metadata": {},
      "source": [
        "------------------------------------------------------------------------\n",
        "\n",
        "`Oxford-III`: 5–10 //\n",
        "[reference](https://www.robots.ox.ac.uk/~vgg/data/pets/)\n",
        "\n",
        "아래는 이미지 파일명들이 저장된 string을 불러오는 코드이다."
      ],
      "id": "725e2031-88be-4191-9c7b-a0f11a912e79"
    },
    {
      "cell_type": "code",
      "execution_count": 11,
      "metadata": {},
      "outputs": [],
      "source": [
        "import requests\n",
        "url = 'https://raw.githubusercontent.com/guebin/PP2023/main/posts/01_PythonBasic/Oxford-IIIT.txt'\n",
        "txt = requests.get(url).content.decode()"
      ],
      "id": "ac83a946-f178-436a-b4ae-d12adfd868e8"
    },
    {
      "cell_type": "markdown",
      "metadata": {},
      "source": [
        "txt의 출력 일부를 나타내면 아래와 같다.\n",
        "\n",
        "``` default\n",
        "'Abyssinian_1.jpg\\nAbyssinian_10.jpg\\nAbyssinian_100.jpg\\nAbyssinian_100.mat\\nAbyssinian_101.jpg\\nAbyssinian_101.mat\\nAbyssinian_102.jpg\\nAbyssinian_102.mat\\nAbyssinian_103.jpg\\nAbyssinian_104.jpg\\nAbyssinian_105.jpg\\nAbyssinian_106.jpg\\nAbyssinian_107.jpg\\nAbyssinian_108.jpg\\nAbyssinian_109.jpg\\nAbyssinian_11.jpg\\nAbyssinian_110.jpg\\nAbyssinian_111.jpg\\nAbyssinian_112.jpg\\nAbyssinian_113.jpg\\nAbyssinian_114.jpg\\nAbyssinian_115.jpg\\nAbyssinian_116.jpg\\nAbyssinian_117.jpg\\nAbyssinian_118.jpg\\nAbyssinian_119.jpg\\nAbyssinian_12.jpg\\nAbyssinian_120.jpg\\nAbyssinian_121.jpg\\nAbyssinian_122.jpg\\nAbyssinian_123.jpg\\nAbyssinian_124.jpg\\nAbyssinian_125.jpg\\nAbyssinian_126.jpg\\nAbyssinian_127.jpg\\nAbyssinian_128.jpg\\nAbyssinian_129.jpg\\nAbyssinian_13.jpg\\nAbyssinian_130.jpg\\nAbyssinian_131.jpg\\nAbyssinian_132.jpg\\n ....... \n",
        "```\n",
        "\n",
        "`5`. 각 파일명은 `\\n`으로 구분되어있다. 위의 스트링을 분해하여 아래와\n",
        "같은 리스트를 생성하고 `fname_list`에 저장하라.\n",
        "\n",
        "``` python\n",
        "# fname_list 의 출력결과는 아래와 같아야 한다. \n",
        "['Abyssinian_1.jpg','Abyssinian_10.jpg', ... ,'yorkshire_terrier_98.jpg', 'yorkshire_terrier_99.jpg']\n",
        "```\n",
        "\n",
        "(풀이)"
      ],
      "id": "fa3d664e-3e02-4c64-9d41-505851e2f438"
    },
    {
      "cell_type": "code",
      "execution_count": 19,
      "metadata": {},
      "outputs": [],
      "source": [
        "fname_list = txt.split('\\n')\n",
        "fname_list[:10]"
      ],
      "id": "92afd38f-448d-41c8-ab5f-aab1f38c2f10"
    },
    {
      "cell_type": "markdown",
      "metadata": {},
      "source": [
        "`6`. 각 이미지파일명은 아래와 같은 규칙으로 저장되어 있다.\n",
        "\n",
        "-   파일명의 첫글자가 대문자이면 고양이를 의미하고 첫글자가 소문자이면\n",
        "    강아지를 의미한다.\n",
        "-   `_` 이전의 영문명은 고양이 혹은 강아지의 종(breed)을 의미한다.\n",
        "\n",
        "이미지 파일명이 입력으로 오면 강아지인지 고양이인지 판단하여 ‘cat’ or\n",
        "’dog’를 리턴하는 함수 `f`를 구현하라.\n",
        "\n",
        "(함수사용예시)"
      ],
      "id": "b61003cb-4646-4e8b-be6b-0f00ec5979fc"
    },
    {
      "cell_type": "code",
      "execution_count": 56,
      "metadata": {},
      "outputs": [],
      "source": [
        "f('yorkshire_terrier_99.jpg')"
      ],
      "id": "30ca9291-e36c-4522-a92e-e75c12b56a14"
    },
    {
      "cell_type": "code",
      "execution_count": 58,
      "metadata": {},
      "outputs": [],
      "source": [
        "f('Abyssinian_1.jpg')"
      ],
      "id": "e7593f0f-8b49-4404-9a0d-4c7d2f80ffae"
    },
    {
      "cell_type": "markdown",
      "metadata": {},
      "source": [
        "(풀이)"
      ],
      "id": "d6c9af56-7a3b-4cac-98b7-5651c6ead2e2"
    },
    {
      "cell_type": "code",
      "execution_count": 21,
      "metadata": {},
      "outputs": [],
      "source": [
        "def f(fname): \n",
        "    return 'cat' if fname[0].isupper() else 'dog' "
      ],
      "id": "d2afc412-700f-47f8-92fa-7d923d44dcc9"
    },
    {
      "cell_type": "code",
      "execution_count": 23,
      "metadata": {},
      "outputs": [],
      "source": [
        "f('yorkshire_terrier_99.jpg'), f('Abyssinian_1.jpg')"
      ],
      "id": "efe7cdbe-5f11-4c0b-a66e-115929652dd6"
    },
    {
      "cell_type": "markdown",
      "metadata": {},
      "source": [
        "`7`. 5의 결과로 나온 `fname_list`를 입력으로 하고 리스트의 각 원소가\n",
        "고양이를 의미하는 그림인지 강아지를 의미하는 그림인지 나타내는 리스트를\n",
        "만들어라.\n",
        "\n",
        "``` python\n",
        "## 입력예시 \n",
        "['Abyssinian_1.jpg','Abyssinian_10.jpg',...,'yorkshire_terrier_98.jpg', 'yorkshire_terrier_99.jpg']\n",
        "\n",
        "## 출력예시\n",
        "['cat', 'cat', ... , 'dog', 'dog']\n",
        "```\n",
        "\n",
        "(풀이)"
      ],
      "id": "e0bb3eb1-5918-4925-b49d-009f991d0ee4"
    },
    {
      "cell_type": "code",
      "execution_count": 25,
      "metadata": {},
      "outputs": [],
      "source": [
        "result = [f(l) for l in fname_list]\n",
        "result[:10]"
      ],
      "id": "179fe94e-ce31-4d81-a378-e7aa57d09e07"
    },
    {
      "cell_type": "markdown",
      "metadata": {},
      "source": [
        "`8`. 강아지 그림과 고양이 그림이 각각 몇 장씩 포함되어 있는지 파악하는\n",
        "코드를 구현하라.\n",
        "\n",
        "(풀이)"
      ],
      "id": "d831fa51-65dc-4f20-9245-7a21da911ed7"
    },
    {
      "cell_type": "code",
      "execution_count": 29,
      "metadata": {},
      "outputs": [],
      "source": [
        "sum([s=='cat' for s in result]) # 고양이"
      ],
      "id": "253b3a4c-0812-4c02-9ea6-4ca2e530106f"
    },
    {
      "cell_type": "code",
      "execution_count": 30,
      "metadata": {},
      "outputs": [],
      "source": [
        "sum([s=='dog' for s in result]) # 강아지"
      ],
      "id": "5122cb04-87c9-4bf8-b5ff-356262ab3206"
    },
    {
      "cell_type": "markdown",
      "metadata": {},
      "source": [
        "`9`. 포메라니안 종의 그림이 몇장있는지 파악하는 코드를 구현하라.\n",
        "\n",
        "**hint:** 포메라니안 그림은 파일명에 ‘pomeranian’ 을 포함한다.\n",
        "\n",
        "(풀이)"
      ],
      "id": "5520b09b-c5ad-4ecb-8c07-6dfbdfc9c977"
    },
    {
      "cell_type": "code",
      "execution_count": 33,
      "metadata": {},
      "outputs": [],
      "source": [
        "sum(['pomeranian'  in s for s in fname_list])"
      ],
      "id": "275fc1e7-53bb-4b4e-beaa-629adf3de206"
    },
    {
      "cell_type": "markdown",
      "metadata": {},
      "source": [
        "`10`. 아래의 `dct`는 포메라니안과 사모예드가 각각 몇장씩 포함되어있는지\n",
        "정리하기 위해 임시로 정리한 dictionary이다. 각 종이 몇 장씩\n",
        "포함되어있는지 구하여 `dct`를 수정하라."
      ],
      "id": "a3019102-48c1-4407-95d8-d40f136822f7"
    },
    {
      "cell_type": "code",
      "execution_count": 34,
      "metadata": {},
      "outputs": [],
      "source": [
        "dct = {'pomeranian':0, 'samoyed':0} \n",
        "dct"
      ],
      "id": "1764b5a2-c353-453a-a442-74d093b30dbd"
    },
    {
      "cell_type": "markdown",
      "metadata": {},
      "source": [
        "예를들어 포메라니안과 사모에예드의 그림이 각각 200장씩 있다면 아래와\n",
        "같이 딕셔너리를 수정해야한다."
      ],
      "id": "c27703d7-0773-419a-9071-c62ee2d98b4e"
    },
    {
      "cell_type": "code",
      "execution_count": 92,
      "metadata": {},
      "outputs": [],
      "source": [
        "{'pomeranian':200, 'samoyed':200} "
      ],
      "id": "767e5722-d801-4f3e-8773-52745bd81455"
    },
    {
      "cell_type": "markdown",
      "metadata": {},
      "source": [
        "(풀이)"
      ],
      "id": "b68807f7-b610-418f-8136-158f23ab8618"
    },
    {
      "cell_type": "code",
      "execution_count": 35,
      "metadata": {},
      "outputs": [],
      "source": [
        "dct['pomeranian'] = sum(['pomeranian'  in s for s in fname_list])\n",
        "dct['samoyed'] = sum(['samoyed'  in s for s in fname_list])\n",
        "dct"
      ],
      "id": "7c64c165-d7c3-4657-a2de-8fd14ba95637"
    },
    {
      "cell_type": "markdown",
      "metadata": {},
      "source": [
        "# HW 0327 (2)\n",
        "\n",
        "`1`. 아래와 같은 맵핑을 고려하자.\n",
        "\n",
        "| 문자 | 숫자 |\n",
        "|:----:|:----:|\n",
        "|  a   |  1   |\n",
        "|  b   |  0   |\n",
        "\n",
        "이를 딕셔너리로 표현하면 아래와 같다."
      ],
      "id": "8b79e6b0-289e-4844-abe9-e5757620644e"
    },
    {
      "cell_type": "code",
      "execution_count": 36,
      "metadata": {},
      "outputs": [],
      "source": [
        "dct = {'a':0, 'b':1} "
      ],
      "id": "5b4aa8dc-97fc-4fe2-96c7-bc4ee115bd1c"
    },
    {
      "cell_type": "markdown",
      "metadata": {},
      "source": [
        "위 규칙에 따라서 아래의 리스트의 원소를 문자로 각각 변환하라."
      ],
      "id": "03acc019-cbf3-41a1-ae86-0627091da06f"
    },
    {
      "cell_type": "code",
      "execution_count": 37,
      "metadata": {},
      "outputs": [],
      "source": [
        "lst = [1, 0, 1, 0, 1, 0, 1, 1, 1, 1, 0, 0, 1, 0, 1]"
      ],
      "id": "7e78890e-ba05-49c7-af8b-0105a2b2d703"
    },
    {
      "cell_type": "markdown",
      "metadata": {},
      "source": [
        "``` python\n",
        "# 출력은 아래와 같아야 한다. \n",
        "['b', 'a', 'b', 'a', 'b', 'a', 'b', 'b', 'b', 'b', 'a', 'a', 'b', 'a', 'b']\n",
        "```\n",
        "\n",
        "(풀이)"
      ],
      "id": "615ae793-d8dd-44b6-a343-e1c7c4bc8409"
    },
    {
      "cell_type": "code",
      "execution_count": 39,
      "metadata": {},
      "outputs": [],
      "source": [
        "[k for l in lst for k,v in dct.items() if v==l]"
      ],
      "id": "644366e3-0d16-4813-aba9-2df9f744ed49"
    },
    {
      "cell_type": "markdown",
      "metadata": {},
      "source": [
        "`2`. 아래와 같은 맵핑을 고려하자.\n",
        "\n",
        "|     월     |   의미   |\n",
        "|:----------:|:--------:|\n",
        "|    1,2     | 겨울방학 |\n",
        "|  3,4,5,6   |  1학기   |\n",
        "|    7,8     | 여름방학 |\n",
        "| 9,10,11,12 |  2학기   |\n",
        "\n",
        "이러한 규칙에 맞게 아래의 리스트를 적절한 문자열로 변환하라."
      ],
      "id": "0b8325b4-d69f-4f19-88a9-f64ccb11f472"
    },
    {
      "cell_type": "code",
      "execution_count": 41,
      "metadata": {},
      "outputs": [],
      "source": [
        "month = [1,2,2,3,4,5,6,7,8,9,9,10,11,12] "
      ],
      "id": "7d7077cd-e664-4c6f-8e0e-e4322a189772"
    },
    {
      "cell_type": "markdown",
      "metadata": {},
      "source": [
        "``` python\n",
        "## 출력은 아래와 같아야 한다. \n",
        "['겨울방학', '겨울방학', '겨울방학', '1학기', '1학기', '1학기', '1학기', '여름방학', '여름방학', '2학기', '2학기', '2학기', '2학기', '2학기']\n",
        "```\n",
        "\n",
        "(풀이)"
      ],
      "id": "ecc08d2e-bac3-4e4e-bd81-86e373f32b40"
    },
    {
      "cell_type": "code",
      "execution_count": 42,
      "metadata": {},
      "outputs": [],
      "source": [
        "dct = {'겨울방학':[1,2], '1학기':[3,4,5,6], '여름방학':[7,8], '2학기':[9,10,11,12]} \n",
        "[k for m in month for k,v in dct.items() if m in v] "
      ],
      "id": "23354161-187e-49a6-ac05-9cef8de341ed"
    },
    {
      "cell_type": "markdown",
      "metadata": {},
      "source": [
        "`합성변환` 3-5.\n",
        "\n",
        "아래와 같은 맵핑을 고려하자.\n",
        "\n",
        "(규칙1)\n",
        "\n",
        "|   문자   | 숫자 |\n",
        "|:--------:|:----:|\n",
        "|  바나나  |  0   |\n",
        "|   사과   |  1   |\n",
        "| 오토바이 |  2   |\n",
        "|  자동차  |  3   |\n",
        "|  자전거  |  4   |\n",
        "\n",
        "(규칙2)\n",
        "\n",
        "|  아이템  | 카테고리 |\n",
        "|:--------:|:--------:|\n",
        "|  바나나  |   과일   |\n",
        "|   사과   |   과일   |\n",
        "| 오토바이 |   탈것   |\n",
        "|  자동차  |   탈것   |\n",
        "|  자전거  |   탈것   |\n",
        "\n",
        "각각의 규칙을 나타내는 딕셔너리는 아래와 같이 선언되어있다고 하자."
      ],
      "id": "16fa8ce7-42e9-4459-ba12-22cb01d79c30"
    },
    {
      "cell_type": "code",
      "execution_count": 44,
      "metadata": {},
      "outputs": [],
      "source": [
        "dct1 = {'바나나':0, '사과':1, '오토바이':2, '자동차':3, '자전거':4} \n",
        "dct2 = {'과일':['바나나','사과'], '탈것':['오토바이','자동차','자전거']} "
      ],
      "id": "bccdcaed-044f-49f8-ba83-5d95ae4f3168"
    },
    {
      "cell_type": "markdown",
      "metadata": {},
      "source": [
        "`3`. 규칙1를 이용하여 아래와 같은 리스트를 변환하는 함수를 구현하고 그\n",
        "함수를 `f`라 선언하라.\n",
        "\n",
        "``` python\n",
        "# 입력 \n",
        "[0,1,0,1,4]\n",
        "\n",
        "# 출력 \n",
        "['바나나', '사과', '바나나', '사과', '자전거']\n",
        "```\n",
        "\n",
        "(사용예시)"
      ],
      "id": "25a0f5f4-d648-42a3-ae21-c558d30bb74d"
    },
    {
      "cell_type": "code",
      "execution_count": 202,
      "metadata": {},
      "outputs": [],
      "source": [
        "f([0,1,0,1,4])"
      ],
      "id": "a42d5e12-3d2c-4445-919d-f7723129e1c1"
    },
    {
      "cell_type": "markdown",
      "metadata": {},
      "source": [
        "(풀이)"
      ],
      "id": "b4f9229d-e302-4754-b1ce-5fcaa6ecd0e6"
    },
    {
      "cell_type": "code",
      "execution_count": 47,
      "metadata": {},
      "outputs": [],
      "source": [
        "def f(lst):\n",
        "    return [k for l in lst for k,v in dct1.items() if v == l]    "
      ],
      "id": "9a8d8391-7387-4690-a895-43d88d5af5c7"
    },
    {
      "cell_type": "code",
      "execution_count": 48,
      "metadata": {},
      "outputs": [],
      "source": [
        "f([0,1,0,1,4])"
      ],
      "id": "9ce72a45-58a1-4137-a0af-9f8e122a2169"
    },
    {
      "cell_type": "markdown",
      "metadata": {},
      "source": [
        "`4`. 규칙2를 이용하여 아래와 같이 리스트를 변환하는 함수를 구현하고 그\n",
        "함수를 `g`라고 선언하라.\n",
        "\n",
        "``` python\n",
        "# 입력 \n",
        "['바나나','바나나','바나나','자동차']\n",
        "\n",
        "# 출력 \n",
        "['과일','과일','과일','탈것']\n",
        "```\n",
        "\n",
        "(사용예시)"
      ],
      "id": "aa68a0e7-22d5-4cb8-82d1-fbe714c95085"
    },
    {
      "cell_type": "code",
      "execution_count": 201,
      "metadata": {},
      "outputs": [],
      "source": [
        "g(['바나나','바나나','바나나','자동차'])"
      ],
      "id": "7436bc5f-ed56-4556-8307-1569b2be8938"
    },
    {
      "cell_type": "markdown",
      "metadata": {},
      "source": [
        "(풀이)"
      ],
      "id": "a6745b6a-e196-48e2-8c1d-0a6d55d95115"
    },
    {
      "cell_type": "code",
      "execution_count": 52,
      "metadata": {},
      "outputs": [],
      "source": [
        "dct2"
      ],
      "id": "fb8f7006-c7e7-4ec5-bd56-31f7c8a32e57"
    },
    {
      "cell_type": "code",
      "execution_count": 53,
      "metadata": {},
      "outputs": [],
      "source": [
        "def g(lst):\n",
        "    return [k for l in lst for k,v in dct2.items() if l in v] "
      ],
      "id": "0b6cc0e6-58bb-451a-8607-ec1eda656190"
    },
    {
      "cell_type": "code",
      "execution_count": 54,
      "metadata": {},
      "outputs": [],
      "source": [
        "g(['바나나','바나나','바나나','자동차'])"
      ],
      "id": "e771b524-82c6-4421-aaea-5871664c0fdf"
    },
    {
      "cell_type": "markdown",
      "metadata": {},
      "source": [
        "`5`. 규칙1-2를 이용하여 아래와 같은 숫자로 이루어진 입력을 ‘과일’,\n",
        "‘탈것’ 중 하나로 바꾸는 코드를 구현하라.\n",
        "\n",
        "``` python\n",
        "# 입력 \n",
        "[0,1,0,1,3,4,2,2,3,4,1,0]\n",
        "\n",
        "# 출력 \n",
        "['과일', '과일', '과일', '과일', '탈것', '탈것', '탈것', '탈것', '탈것', '탈것', '과일', '과일']\n",
        "```\n",
        "\n",
        "**hint** $g(f(x))$ 를 이용하라.\n",
        "\n",
        "(풀이)"
      ],
      "id": "8404627b-fb18-4d33-8b4b-fdb94edee923"
    },
    {
      "cell_type": "code",
      "execution_count": 55,
      "metadata": {},
      "outputs": [],
      "source": [
        "g(f([0,1,0,1,3,4,2,2,3,4,1,0]))"
      ],
      "id": "f19bbfe6-a57b-4ed7-a6b7-877622ed4b43"
    },
    {
      "cell_type": "markdown",
      "metadata": {},
      "source": [
        "# HW\n",
        "\n",
        "`Oxford-III`: 1–5 //\n",
        "[reference](https://www.robots.ox.ac.uk/~vgg/data/pets/)\n",
        "\n",
        "아래는 이미지 파일명들이 저장된 string을 불러오는 코드이다."
      ],
      "id": "9a1ef228-6e4c-4531-9b8b-5eb6c8400a4f"
    },
    {
      "cell_type": "code",
      "execution_count": 1,
      "metadata": {},
      "outputs": [],
      "source": [
        "import requests\n",
        "url = 'https://raw.githubusercontent.com/guebin/PP2023/main/posts/01_PythonBasic/Oxford-IIIT.txt'\n",
        "txt = requests.get(url).content.decode()"
      ],
      "id": "7c508097-16ea-46d7-851c-78f92e536161"
    },
    {
      "cell_type": "markdown",
      "metadata": {},
      "source": [
        "이미지파일이 저장된 형식은 아래와 같다.\n",
        "\n",
        "    Abyssinian_1.jpg\n",
        "    British_Shorthair_129.jpg\n",
        "\n",
        "**note**: `British_Shorthair`와 같이 종 이름 사이에 `_`가 들어있는\n",
        "경우도 있음.\n",
        "\n",
        "`1`. txt를 적당히 변환하여 아래와 같은 list를 만들어라."
      ],
      "id": "ecba3ebf-de3e-458f-a248-f4e51a579f44"
    },
    {
      "cell_type": "code",
      "execution_count": 50,
      "metadata": {},
      "outputs": [],
      "source": [
        "lst[:10],lst[810:820]"
      ],
      "id": "ff2a8723-34c6-4b2f-8ac6-aac2531f1488"
    },
    {
      "cell_type": "markdown",
      "metadata": {},
      "source": [
        "**hint1**"
      ],
      "id": "637e68da-8b45-49a6-94da-cd1c66d9838a"
    },
    {
      "cell_type": "code",
      "execution_count": 89,
      "metadata": {},
      "outputs": [],
      "source": [
        "'Abyssinian_1.jpg\\nAbyssinian_10.jpg'.split('\\n')"
      ],
      "id": "07f6d6a0-d414-49bf-84d5-2e595af442ed"
    },
    {
      "cell_type": "markdown",
      "metadata": {},
      "source": [
        "**hint2**"
      ],
      "id": "01764e7f-c642-4bdf-9534-8d59fe21be01"
    },
    {
      "cell_type": "code",
      "execution_count": 90,
      "metadata": {},
      "outputs": [],
      "source": [
        "''.join(['British', 'Shorthair'])"
      ],
      "id": "b61ec5c8-29ae-445f-b920-67da9589af1d"
    },
    {
      "cell_type": "code",
      "execution_count": 91,
      "metadata": {},
      "outputs": [],
      "source": [
        "''.join(['Abyssinian'])"
      ],
      "id": "2122b23c-f16b-44ee-8cbf-0cbdf259767d"
    },
    {
      "cell_type": "markdown",
      "metadata": {},
      "source": [
        "(풀이1)"
      ],
      "id": "9be4805d-62c5-4de9-9ff0-827a8f446dab"
    },
    {
      "cell_type": "code",
      "execution_count": 65,
      "metadata": {},
      "outputs": [],
      "source": [
        "lst = [''.join(filename.split('_')[:-1]) for filename in txt.split('\\n')]"
      ],
      "id": "98f6bd67-6c6e-4ddd-a88a-808f406a02d2"
    },
    {
      "cell_type": "markdown",
      "metadata": {},
      "source": [
        "(풀이2)"
      ],
      "id": "e41be0f8-3d0b-4e3e-8890-6f3e5f619a57"
    },
    {
      "cell_type": "code",
      "execution_count": 63,
      "metadata": {},
      "outputs": [],
      "source": [
        "def f(filename): \n",
        "    *name, _ = filename.split('_')\n",
        "    return ''.join(name)\n",
        "lst = [f(filename) for filename in txt.split('\\n')]"
      ],
      "id": "41d53dc2-d5bd-43c1-8deb-183afdc6fe55"
    },
    {
      "cell_type": "markdown",
      "metadata": {},
      "source": [
        "(확인)"
      ],
      "id": "0ea1ff08-9bc2-4663-a8d9-280574914d81"
    },
    {
      "cell_type": "code",
      "execution_count": 67,
      "metadata": {},
      "outputs": [],
      "source": [
        "lst[:10],lst[810:820]"
      ],
      "id": "3348bced-eddb-466f-817d-deb0707d6ae0"
    },
    {
      "cell_type": "markdown",
      "metadata": {},
      "source": [
        "`2`. 그림파일에는 총 몇가지 종류의 고양이와, 몇가지 종류의 강아지가\n",
        "있는가?\n",
        "\n",
        "**note:** 고양이사진은 대문자로 시작하고, 강아지 사진은 소문자로\n",
        "시작한다.\n",
        "\n",
        "**note**: 12종의 고양이, 25종의 강아지가 있음\n",
        "\n",
        "(풀이)"
      ],
      "id": "aa0a4071-5abd-4592-98de-964cd8f99f55"
    },
    {
      "cell_type": "code",
      "execution_count": 90,
      "metadata": {},
      "outputs": [],
      "source": [
        "[s[0].isupper() for s in set(lst)].count(True) # 고양이 12"
      ],
      "id": "169c61f6-e2e0-40c0-b8a6-5ca64d1418fc"
    },
    {
      "cell_type": "code",
      "execution_count": 91,
      "metadata": {},
      "outputs": [],
      "source": [
        "[s[0].isupper() for s in set(lst)].count(False) # 강아지 25 "
      ],
      "id": "78dcdfed-2de6-4fd5-aaaa-bff1a6dae852"
    },
    {
      "cell_type": "markdown",
      "metadata": {},
      "source": [
        "`3`. 아래는 1번의 결과로 얻어진 lst의 첫 10개의 원소와 마지막 10개의\n",
        "원소이다."
      ],
      "id": "7daeb52e-930d-47f9-bde2-582c45a3e484"
    },
    {
      "cell_type": "code",
      "execution_count": 141,
      "metadata": {},
      "outputs": [],
      "source": [
        "lst[:10], lst[-10:]"
      ],
      "id": "032dbc8b-184d-45a7-9706-005ab51894e3"
    },
    {
      "cell_type": "markdown",
      "metadata": {},
      "source": [
        "적당한 변환을 정의하여 lst를 아래와 같이 바꾸어라."
      ],
      "id": "489e6740-334d-4700-a3cd-2f56b83ced84"
    },
    {
      "cell_type": "code",
      "execution_count": 142,
      "metadata": {},
      "outputs": [],
      "source": [
        "lst2[:10], lst2[-10:] # 바뀐 lst"
      ],
      "id": "42461165-f847-4f1f-b7e7-d1f3e8dbebc8"
    },
    {
      "cell_type": "markdown",
      "metadata": {},
      "source": [
        "(풀이1)"
      ],
      "id": "54f4b2e1-bd21-44c8-bc94-5aedcb335451"
    },
    {
      "cell_type": "code",
      "execution_count": 111,
      "metadata": {},
      "outputs": [],
      "source": [
        "dct = {'cat':[s for s in set(lst) if s[0].isupper()], 'dog': [s for s in set(lst) if not s[0].isupper()]}\n",
        "lst2 = [k for l in lst for k,v in dct.items() if l in v]"
      ],
      "id": "915b938f-c7a1-41b3-9040-86765656f455"
    },
    {
      "cell_type": "markdown",
      "metadata": {},
      "source": [
        "(풀이2)"
      ],
      "id": "6c6c89d5-358a-4169-9dec-58cc1eed0f6e"
    },
    {
      "cell_type": "code",
      "execution_count": 112,
      "metadata": {},
      "outputs": [],
      "source": [
        "def f(fname): \n",
        "    return 'cat' if fname[0].isupper() else 'dog'\n",
        "lst2= [f(fname) for fname in lst]"
      ],
      "id": "489d55e7-4e64-457e-9785-8a79784a327b"
    },
    {
      "cell_type": "markdown",
      "metadata": {},
      "source": [
        "`4`. txt에는 강아지사진과 고양이사진이 모두 몇장씩 들어있는가?"
      ],
      "id": "db9d5d82-a319-4b23-93da-2b0c4981da65"
    },
    {
      "cell_type": "code",
      "execution_count": 145,
      "metadata": {},
      "outputs": [],
      "source": [
        "## 출력예시 "
      ],
      "id": "9996a8a2-c5c8-49a0-9274-616ede24a547"
    },
    {
      "cell_type": "markdown",
      "metadata": {},
      "source": [
        "(풀이)"
      ],
      "id": "01b4dfbc-8606-498f-abb2-2fdad1a9d21f"
    },
    {
      "cell_type": "code",
      "execution_count": 114,
      "metadata": {},
      "outputs": [],
      "source": [
        "{k:lst2.count(k) for k in ['dog','cat']}"
      ],
      "id": "1304dd80-a24f-404c-abd5-678e70f41280"
    },
    {
      "cell_type": "markdown",
      "metadata": {},
      "source": [
        "`5`. txt에 각 종별로 몇장의 사진이 있는지 조사하라."
      ],
      "id": "8115ff5f-8168-4946-824f-302f738f4feb"
    },
    {
      "cell_type": "code",
      "execution_count": 150,
      "metadata": {},
      "outputs": [],
      "source": [
        "## 출력예시"
      ],
      "id": "f5267271-179f-41ef-9682-b9e19b1fc222"
    },
    {
      "cell_type": "markdown",
      "metadata": {},
      "source": [
        "(풀이)"
      ],
      "id": "2c421af2-e741-48fc-b71a-7568b2bc8ac7"
    },
    {
      "cell_type": "code",
      "execution_count": 117,
      "metadata": {},
      "outputs": [],
      "source": [
        "{k:lst.count(k) for k in set(lst)}"
      ],
      "id": "88fd9c2e-c0f8-4840-a8c1-593a447f2e37"
    }
  ],
  "nbformat": 4,
  "nbformat_minor": 5,
  "metadata": {
    "kernelspec": {
      "name": "python3",
      "display_name": "Python 3",
      "language": "python"
    },
    "language_info": {
      "name": "python",
      "codemirror_mode": {
        "name": "ipython",
        "version": "3"
      },
      "file_extension": ".py",
      "mimetype": "text/x-python",
      "nbconvert_exporter": "python",
      "pygments_lexer": "ipython3",
      "version": "3.8.16"
    }
  }
}