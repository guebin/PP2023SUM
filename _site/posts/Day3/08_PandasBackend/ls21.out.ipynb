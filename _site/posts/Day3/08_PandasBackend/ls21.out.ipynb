{
  "cells": [
    {
      "cell_type": "markdown",
      "metadata": {},
      "source": [
        "# Lesson 21: 저출산 자료 시각화 (지저분한 데이터)\n",
        "\n",
        "최규빈  \n",
        "2023-07-26\n",
        "\n",
        "<a href=\"https://colab.research.google.com/github/guebin/IP2023WIN/blob/main/posts/Day3/09_PandasBackend/2023-02-01-Lesson21.ipynb\"><img src=\"https://colab.research.google.com/assets/colab-badge.svg\" style=\"text-align: left\"></a>\n",
        "\n",
        "# ref\n",
        "\n",
        "<https://guebin.github.io/DV2022/posts/2022-11-16-11wk-2.html#자료분석-저출산>\n",
        "\n",
        "# imports"
      ],
      "id": "71812661-5622-4f0e-9e01-5ae01a8611c2"
    },
    {
      "cell_type": "code",
      "execution_count": 1,
      "metadata": {
        "vscode": {
          "languageId": "python"
        }
      },
      "outputs": [],
      "source": [
        "import pandas as pd \n",
        "import numpy as np"
      ],
      "id": "21cdca31-aa3a-4e0f-90a2-2f6e74ec1f37"
    },
    {
      "cell_type": "markdown",
      "metadata": {},
      "source": [
        "# 자료분석: 저출산\n",
        "\n",
        "## 데이터읽기 // `pd.read_html()`\n",
        "\n",
        "`-` 대한민국의 저출산문제\n",
        "\n",
        "-   ref: https://ko.wikipedia.org/wiki/대한민국의_저출산\n",
        "\n",
        "`-` 위의 url에서 3,5번째 테이블을 읽고싶다. - 3번째 테이블: 시도별\n",
        "출산율 - 5번째 테이블: 시도별 출생아 수"
      ],
      "id": "3de3364e-a843-4137-a105-fb8c8304471b"
    },
    {
      "cell_type": "code",
      "execution_count": 6,
      "metadata": {
        "vscode": {
          "languageId": "python"
        }
      },
      "outputs": [],
      "source": [
        "_dflst = pd.read_html('https://ko.wikipedia.org/wiki/%EB%8C%80%ED%95%9C%EB%AF%BC%EA%B5%AD%EC%9D%98_%EC%A0%80%EC%B6%9C%EC%82%B0')\n",
        "_df1 = _dflst[2] \n",
        "_df2 = _dflst[4] "
      ],
      "id": "816b54d8-97d1-4276-8572-ac4b40228f85"
    },
    {
      "cell_type": "code",
      "execution_count": 30,
      "metadata": {
        "vscode": {
          "languageId": "python"
        }
      },
      "outputs": [],
      "source": [
        "pd.DataFrame(np.array([[1,2],[3,4]])).applymap(lambda x: x+1)"
      ],
      "id": "5321f245-c6d3-47dc-aa8b-990099429921"
    },
    {
      "cell_type": "code",
      "execution_count": null,
      "metadata": {
        "vscode": {
          "languageId": "python"
        }
      },
      "outputs": [],
      "source": [
        "_df2"
      ],
      "id": "3c946463-aebd-4684-a1bf-d3f96b7c1a6b"
    },
    {
      "cell_type": "markdown",
      "metadata": {},
      "source": [
        "`-` 데이터정리"
      ],
      "id": "81394773-91ad-4fc5-853d-450284968ef1"
    },
    {
      "cell_type": "code",
      "execution_count": 41,
      "metadata": {
        "vscode": {
          "languageId": "python"
        }
      },
      "outputs": [],
      "source": [
        "df1 = _df1.drop(17)\\\n",
        ".melt(id_vars='지역/연도[6]')\\\n",
        ".assign(variable = lambda df: list(map(lambda x: x[:4], df.variable)))\\\n",
        ".assign(value = lambda df: list(map(lambda x: None if x=='-' else float(x), df.value)))\\\n",
        ".set_axis(['지역','연도','출산율'],axis=1)\n",
        "df1"
      ],
      "id": "ecad82e8-521b-4331-ae30-207d48848572"
    },
    {
      "cell_type": "code",
      "execution_count": 42,
      "metadata": {
        "vscode": {
          "languageId": "python"
        }
      },
      "outputs": [],
      "source": [
        "df2 = _df2.drop(17)\\\n",
        ".melt(id_vars='지역/연도[6]')\\\n",
        ".assign(value = lambda df: list(map(lambda x: None if x=='-' else float(x), df.value)))\\\n",
        ".set_axis(['지역','연도','출생아수'],axis=1)\n",
        "df2"
      ],
      "id": "d6dee496-8ef4-4933-a60b-e3dd71a4040d"
    },
    {
      "cell_type": "markdown",
      "metadata": {},
      "source": [
        "## 시각화I: 전국 출생아수 시각화"
      ],
      "id": "a1a5dad0-28a7-42b0-ab6d-3a6d39118410"
    },
    {
      "cell_type": "code",
      "execution_count": 43,
      "metadata": {
        "vscode": {
          "languageId": "python"
        }
      },
      "outputs": [],
      "source": [
        "df2.groupby(['연도'])\\\n",
        ".agg({'출생아수':np.sum})\\\n",
        ".reset_index()\\\n",
        ".plot(x='연도',y='출생아수',backend='plotly')"
      ],
      "id": "3978ab6a-1919-4b21-8090-6ab6c6d22fba"
    },
    {
      "cell_type": "markdown",
      "metadata": {},
      "source": [
        "-   일괄적으로 감소하는 느낌은 없음\n",
        "\n",
        "## 시각화II: 시도별 출생아수 시각화\n",
        "\n",
        "`-` 시각화예시1"
      ],
      "id": "e64ec82a-1360-4795-af82-7d3c53c0bde3"
    },
    {
      "cell_type": "code",
      "execution_count": 44,
      "metadata": {
        "vscode": {
          "languageId": "python"
        }
      },
      "outputs": [],
      "source": [
        "df2.plot.line(backend='plotly', x='연도',y='출생아수',color='지역')"
      ],
      "id": "6adb393c-3e03-4cae-a948-dd8057ba73e7"
    },
    {
      "cell_type": "markdown",
      "metadata": {},
      "source": [
        "-   서울과 경기가 특이함\n",
        "\n",
        "`-` 시각화예시2"
      ],
      "id": "c8c91730-808e-40e6-a56a-b5f82063ce68"
    },
    {
      "cell_type": "code",
      "execution_count": 45,
      "metadata": {
        "vscode": {
          "languageId": "python"
        }
      },
      "outputs": [],
      "source": [
        "df2.plot.area(backend='plotly',x='연도',y='출생아수',color='지역')"
      ],
      "id": "b827c999-550c-4ede-b4e6-d03407966f1a"
    },
    {
      "cell_type": "markdown",
      "metadata": {},
      "source": [
        "-   areaplot의 최상단의 선: 전국출생아수 시각화와 같음 (일괄적으로\n",
        "    감소하는 느낌은 별로 없음, 그 이유를 살펴보니 서울과 경기지역\n",
        "    떄문임)\n",
        "-   areaplot의 장점: 전국출생아수를 년도별로 시각화 하는 느낌 + 각\n",
        "    연도를 도시별로 분해하여 해석하는 느낌\n",
        "\n",
        "## 시각화III: 시도별 출산율 시각화"
      ],
      "id": "8a6c96d7-0389-442d-bb70-458494085f0a"
    },
    {
      "cell_type": "code",
      "execution_count": 46,
      "metadata": {
        "vscode": {
          "languageId": "python"
        }
      },
      "outputs": [],
      "source": [
        "df1.plot.line(backend='plotly',x='연도',y='출산율',color='지역')"
      ],
      "id": "2ed99352-bea0-4bbb-bc2a-e444135bd003"
    },
    {
      "cell_type": "markdown",
      "metadata": {},
      "source": [
        "-   상식과 일치하는 정상적인 플랏 (출산율이 2012년 이후로 꺽이는 느낌이\n",
        "    든다)\n",
        "-   여기서는 서울/경기가 정상인듯 보인다.\n",
        "\n",
        "> 출산율의 경우 합계출산율이 크게 의미가 없으므로 areaplot은 생략한다.\n",
        "\n",
        "## 해석\n",
        "\n",
        "`-` 이상한점: 서울/경기지역에서 특정연도의 출생아수가 매우 낮음. 그런데\n",
        "서울/경기지역의 출산율은 모든 년도에서 고른값을 가짐.\n",
        "\n",
        "`-` 해석: 데이터가 이상하다.. // 위키를 살펴보니 오타가 있음!!\n",
        "\n",
        "## 데이터의 수정 (1): df2 상태에서 수정\n",
        "\n",
        "`-` df2의 수정"
      ],
      "id": "55168569-b62e-4f6b-801b-f551b6978baa"
    },
    {
      "cell_type": "code",
      "execution_count": 47,
      "metadata": {
        "vscode": {
          "languageId": "python"
        }
      },
      "outputs": [],
      "source": [
        "df2.sort_values(\"출생아수\")[:10]"
      ],
      "id": "09aee14b-c258-4a3a-ae61-2ea72ec2d1f9"
    },
    {
      "cell_type": "markdown",
      "metadata": {},
      "source": [
        "`-` 오타로 예상되는 서울/경기/충남 이외의 가장 작은 값은 2012년\n",
        "세종시인데, 이 값이 1054로 1000보다 크다.\n",
        "\n",
        "-   출생아수 \\< 1000 이면 출생아수 \\* 1000 을 수행하는 함수를 구현하자."
      ],
      "id": "dd96bb75-194b-4add-a3f8-907cba1aada4"
    },
    {
      "cell_type": "code",
      "execution_count": 48,
      "metadata": {
        "vscode": {
          "languageId": "python"
        }
      },
      "outputs": [],
      "source": [
        "df2.assign(출생아수= list(map(lambda x: x*1000 if x<1000 else x, df2.출생아수)))"
      ],
      "id": "eb764401-8d26-49f6-bf32-871da171c26e"
    },
    {
      "cell_type": "markdown",
      "metadata": {},
      "source": [
        "`-` 잘 변환되었는지 확인하기 위한 시각화"
      ],
      "id": "dcc3df87-7aff-412e-96bb-ecad9674bbcc"
    },
    {
      "cell_type": "code",
      "execution_count": 49,
      "metadata": {
        "vscode": {
          "languageId": "python"
        }
      },
      "outputs": [],
      "source": [
        "df2.assign(출생아수= list(map(lambda x: x*1000 if x<1000 else x, df2.출생아수)))\\\n",
        ".plot.area(x='연도',y='출생아수',color='지역',backend='plotly')"
      ],
      "id": "8852ea27-e928-497e-b1ef-dd1ffa3ebf33"
    },
    {
      "cell_type": "markdown",
      "metadata": {},
      "source": [
        "-   상식적인 결과: 전체출산율이 점점 낮아지고 있고 항목별로 살펴보아도\n",
        "    모든 도시의 출생아수가 점차 낮아지고 있음\n",
        "\n",
        "## 데이터의 수정 (2): \\_df2 상태에서 수정\n",
        "\n",
        "`-` applymap"
      ],
      "id": "3b419731-57b5-4e10-842c-1507c7dddef7"
    },
    {
      "cell_type": "code",
      "execution_count": 50,
      "metadata": {
        "vscode": {
          "languageId": "python"
        }
      },
      "outputs": [],
      "source": [
        "_df2.set_index('지역/연도[6]') # applymap을 쓰기 위해서 임시로 지역/연도[6]을 인덱스로만듬 "
      ],
      "id": "a6e2edbb-8363-4e51-bc45-43fedb545397"
    },
    {
      "cell_type": "markdown",
      "metadata": {},
      "source": [
        "`-` 방법1"
      ],
      "id": "2225adac-0362-425f-859f-5a453682b98f"
    },
    {
      "cell_type": "code",
      "execution_count": 51,
      "metadata": {
        "vscode": {
          "languageId": "python"
        }
      },
      "outputs": [],
      "source": [
        "_df2.set_index('지역/연도[6]')\\\n",
        ".applymap(lambda x: None if x == '-' else float(x))\\\n",
        ".applymap(lambda x: x*1000 if x<1000 else x)\\\n",
        ".drop('전국')\\\n",
        ".stack().reset_index()"
      ],
      "id": "d2de76fa-7876-4350-8cc9-dfb9a24c9bde"
    },
    {
      "cell_type": "markdown",
      "metadata": {},
      "source": [
        "`-` 방법2"
      ],
      "id": "089be0a5-46e1-4beb-8c4a-eef46eb0d054"
    },
    {
      "cell_type": "code",
      "execution_count": 52,
      "metadata": {
        "vscode": {
          "languageId": "python"
        }
      },
      "outputs": [],
      "source": [
        "df2 = _df2.set_index('지역/연도[6]')\\\n",
        ".applymap(lambda x: None if x == '-' else float(x))\\\n",
        ".applymap(lambda x: x*1000 if x<1000 else x)\\\n",
        ".drop('전국')\\\n",
        ".reset_index()\\\n",
        ".melt(id_vars='지역/연도[6]')\\\n",
        ".set_axis(['지역','연도','출생아수'],axis=1)\n",
        "df2"
      ],
      "id": "ba744c41-956e-48ee-ac87-4e90093b5ac7"
    },
    {
      "cell_type": "code",
      "execution_count": 53,
      "metadata": {
        "vscode": {
          "languageId": "python"
        }
      },
      "outputs": [],
      "source": [
        "df2.plot.area(backend='plotly',x='연도',y='출생아수',color='지역')"
      ],
      "id": "7ccfa399-8ae3-47bd-9c04-7c7e494fcfe4"
    },
    {
      "cell_type": "markdown",
      "metadata": {},
      "source": [
        "## 숙제\n",
        "\n",
        "아래와 같은 통계량을 구하라.\n",
        "\n",
        "-   $서울_{2010} = \\frac{\\text{2010년 서울의 출생자 수}}{\\text{2010년 출생자수}}, \\dots, 서울_{2021} = \\frac{\\text{2021년 서울의 출생자 수}}{\\text{2021년 출생자수}}$\n",
        "\n",
        "> 참고로 계산결과는 \\[0.198, 0.196, 0.196, 0.193, 0.192, 0.189, 0.186,\n",
        "> 0.182, 0.18, 0.177, 0.174, 0.175\\] 와 같다.\n",
        "\n",
        "lineplot을 이용하여 아래와 같이 시각화 하라.\n",
        "\n",
        "(풀이)"
      ],
      "id": "bf9a8143-3ea0-49ba-9ad5-d5b6fc7d4a0c"
    },
    {
      "cell_type": "code",
      "execution_count": 54,
      "metadata": {
        "vscode": {
          "languageId": "python"
        }
      },
      "outputs": [],
      "source": [
        "df2.groupby('연도')[['출생아수']].sum().reset_index().rename({'출생아수':'년도별출생아수합'},axis=1).\\\n",
        "merge(df2).eval('ratio = 출생아수/년도별출생아수합').query('지역==\"서울\"').\\\n",
        "plot.line(x='연도',y='ratio',backend='plotly')"
      ],
      "id": "1f810ee8-e86c-4d40-b842-f0de5b74d19a"
    }
  ],
  "nbformat": 4,
  "nbformat_minor": 5,
  "metadata": {
    "kernelspec": {
      "name": "python3",
      "display_name": "Python 3 (ipykernel)",
      "language": "python"
    },
    "language_info": {
      "name": "python",
      "codemirror_mode": {
        "name": "ipython",
        "version": "3"
      },
      "file_extension": ".py",
      "mimetype": "text/x-python",
      "nbconvert_exporter": "python",
      "pygments_lexer": "ipython3",
      "version": "3.10.12"
    }
  }
}