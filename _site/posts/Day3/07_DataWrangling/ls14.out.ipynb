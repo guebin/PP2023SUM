{
  "cells": [
    {
      "cell_type": "markdown",
      "metadata": {},
      "source": [
        "# Lesson 15: tidydata\n",
        "\n",
        "최규빈  \n",
        "2023-07-26\n",
        "\n",
        "<a href=\"https://colab.research.google.com/github/guebin/IP2023WIN/blob/main/posts/Day3/07_DataWrangling/2023-02-01-Lesson15.ipynb\"><img src=\"https://colab.research.google.com/assets/colab-badge.svg\" style=\"text-align: left\"></a>\n",
        "\n",
        "# ref\n",
        "\n",
        "<https://guebin.github.io/DV2022/posts/2022-11-07-10wk-1.html#판다스-melt-stack>\n",
        "\n",
        "# imports"
      ],
      "id": "757385fd-7b7a-4f59-8f73-5adebc63c3a7"
    },
    {
      "cell_type": "code",
      "execution_count": 1,
      "metadata": {
        "vscode": {
          "languageId": "python"
        }
      },
      "outputs": [],
      "source": [
        "import pandas as pd"
      ],
      "id": "e6b8a97a-c254-492f-b563-688afa5632d6"
    },
    {
      "cell_type": "markdown",
      "metadata": {},
      "source": [
        "# 판다스: melt, stack\n",
        "\n",
        "### melt\n",
        "\n",
        "`-` 설명:\n",
        "\n",
        "`-` 데이터"
      ],
      "id": "370ac44e-ce08-4127-8601-45f8ec0ebb27"
    },
    {
      "cell_type": "code",
      "execution_count": 5,
      "metadata": {
        "vscode": {
          "languageId": "python"
        }
      },
      "outputs": [],
      "source": [
        "df=pd.read_csv('https://raw.githubusercontent.com/guebin/2021DV/master/_notebooks/phone.csv')\n",
        "df"
      ],
      "id": "0219ab44-7418-4f5d-8479-f6ad29b2876d"
    },
    {
      "cell_type": "markdown",
      "metadata": {},
      "source": [
        "`-` 사용예시1: 기본사용"
      ],
      "id": "6710b042-55c1-4c64-a17a-d7580bff1ff7"
    },
    {
      "cell_type": "code",
      "execution_count": 12,
      "metadata": {
        "vscode": {
          "languageId": "python"
        }
      },
      "outputs": [],
      "source": [
        "df.melt()"
      ],
      "id": "bfd487d3-d0f3-40bb-af1a-0590605beb85"
    },
    {
      "cell_type": "markdown",
      "metadata": {},
      "source": [
        "-   variable: column name들이 들어간다.\n",
        "-   value: column name에 대응하는 값들이 들어간다.\n",
        "\n",
        "`-` 사용예시2: id_vars –\\> tidy data"
      ],
      "id": "8e52c5a3-f495-419b-ba3b-35bb7997b1af"
    },
    {
      "cell_type": "code",
      "execution_count": 28,
      "metadata": {
        "vscode": {
          "languageId": "python"
        }
      },
      "outputs": [],
      "source": [
        "df.melt(id_vars='Date')"
      ],
      "id": "fc17e1ef-e17c-4ec2-b07c-01d0f7aa74d4"
    },
    {
      "cell_type": "markdown",
      "metadata": {},
      "source": [
        "`-` 사용예시3:"
      ],
      "id": "102801ab-c722-4bd5-a8ca-9bee108f4c32"
    },
    {
      "cell_type": "code",
      "execution_count": 9,
      "metadata": {
        "vscode": {
          "languageId": "python"
        }
      },
      "outputs": [],
      "source": [
        "df.set_index('Date').melt()"
      ],
      "id": "56c667c0-6aad-4f83-88a7-f39944f56a29"
    },
    {
      "cell_type": "markdown",
      "metadata": {},
      "source": [
        "`-` 사용예시4: ignore_index=False"
      ],
      "id": "15c36cf1-312f-4278-ac39-e3a6fdbb2d37"
    },
    {
      "cell_type": "code",
      "execution_count": 37,
      "metadata": {
        "vscode": {
          "languageId": "python"
        }
      },
      "outputs": [],
      "source": [
        "df.melt(id_vars='Date')"
      ],
      "id": "58dd1067-98aa-4103-94b0-aed9206d0495"
    },
    {
      "cell_type": "code",
      "execution_count": 10,
      "metadata": {
        "vscode": {
          "languageId": "python"
        }
      },
      "outputs": [],
      "source": [
        "df.set_index('Date').melt(ignore_index=False).reset_index()"
      ],
      "id": "55e25cdc-4630-4e7c-b5f3-51596e77c93e"
    },
    {
      "cell_type": "markdown",
      "metadata": {},
      "source": [
        "## stack\n",
        "\n",
        "`-` 설명:"
      ],
      "id": "8a917414-a9ae-4260-98e7-09f2f5f72f39"
    },
    {
      "cell_type": "code",
      "execution_count": 48,
      "metadata": {
        "vscode": {
          "languageId": "python"
        }
      },
      "outputs": [],
      "source": [
        "df=pd.read_csv('https://raw.githubusercontent.com/PacktPublishing/Pandas-Cookbook/master/data/flights.csv')\\\n",
        ".groupby([\"AIRLINE\",\"WEEKDAY\"]).agg({\"CANCELLED\":[np.mean,\"count\"],\"DIVERTED\":[np.mean,\"count\"]})\n",
        "df"
      ],
      "id": "9211731c-ea86-4492-b522-086472efdd66"
    },
    {
      "cell_type": "markdown",
      "metadata": {},
      "source": [
        "`-` 사용예시1"
      ],
      "id": "507a033c-c99f-48e8-9e1d-c71231c5f7d6"
    },
    {
      "cell_type": "code",
      "execution_count": 12,
      "metadata": {
        "vscode": {
          "languageId": "python"
        }
      },
      "outputs": [],
      "source": [
        "df.stack()"
      ],
      "id": "19c9cb79-0e72-41f8-bf31-e9d67a505068"
    },
    {
      "cell_type": "markdown",
      "metadata": {},
      "source": [
        "`-` 사용예시2"
      ],
      "id": "40048cd4-2b42-4137-ab31-dff1b40a9634"
    },
    {
      "cell_type": "code",
      "execution_count": 13,
      "metadata": {
        "vscode": {
          "languageId": "python"
        }
      },
      "outputs": [],
      "source": [
        "df.stack().stack().reset_index().rename({0:'value'},axis=1)\n",
        "#df.stack().stack().reset_index().rename(columns={'level_2':'aggtype'})"
      ],
      "id": "0dd1a26d-69e4-4e4e-b128-161d9ed8b86f"
    },
    {
      "cell_type": "markdown",
      "metadata": {},
      "source": [
        "`-` 사용예시3 (unstack)"
      ],
      "id": "1ea1650f-a2f6-4aaa-8fa7-55f355a7f082"
    },
    {
      "cell_type": "code",
      "execution_count": 65,
      "metadata": {
        "vscode": {
          "languageId": "python"
        }
      },
      "outputs": [],
      "source": [
        "df.stack().unstack()"
      ],
      "id": "e84a2920-748c-410c-a5bc-083aea0b8a86"
    },
    {
      "cell_type": "markdown",
      "metadata": {},
      "source": [
        "> melt, stack 을 set_index와 reset_index와 함께 사용하면 tidydata를\n",
        "> 만들기 용이하다.\n",
        "\n",
        "# tidydata\n",
        "\n",
        "## tidydata의 정의\n",
        "\n",
        "`-` 느낌: ggplot으로 그림 그리기 좋은 데이터 + pandas로 query, group by\n",
        "등을 쓰기 좋은 자료\n",
        "\n",
        "`-` 정의: https://r4ds.had.co.nz/tidy-data.html\n",
        "\n",
        "-   Each variable must have its own column.\n",
        "-   Each observation must have its own row.\n",
        "-   Each value must have its own cell.\n",
        "\n",
        "예시1 (tidy data)\n",
        "\n",
        "| obs |  x  |  y  | shape  | color |\n",
        "|:---:|:---:|:---:|:------:|:-----:|\n",
        "|  0  |  0  |  0  | ‘star’ |  ‘F’  |\n",
        "|  1  |  0  |  1  | ‘circ’ |  ‘F’  |\n",
        "|  2  |  1  |  0  | ‘star’ |  ‘M’  |\n",
        "|  3  |  1  |  1  | ‘circ’ |  ‘M’  |\n",
        "\n",
        "예시2 (tidy data x)\n",
        "\n",
        "|         | shape=star | shape=circ |\n",
        "|:-------:|:----------:|:----------:|\n",
        "| color=F |   (0,0)    |   (0,1)    |\n",
        "| color=M |   (1,0)    |   (1,1)    |\n",
        "\n",
        "## 예제1: wide df\n",
        "\n",
        "`-` data"
      ],
      "id": "fb1f0eea-7eb1-4538-9a45-fde909a9f255"
    },
    {
      "cell_type": "code",
      "execution_count": 740,
      "metadata": {
        "vscode": {
          "languageId": "python"
        }
      },
      "outputs": [],
      "source": [
        "df=pd.read_csv('https://raw.githubusercontent.com/guebin/2021DV/master/_notebooks/phone.csv')\n",
        "df"
      ],
      "id": "6f05c84b-3ae1-429c-9802-1b56d82fd22f"
    },
    {
      "cell_type": "markdown",
      "metadata": {},
      "source": [
        "-   tidy data 아님\n",
        "-   정의에 의한 판단: 하나의 observation이 하나의 행을 차지하고 있지\n",
        "    않음.\n",
        "-   직관적인 판단: 회사별로 색을 다르게 하여 x:‘Date’, y:’판매량’을 하고\n",
        "    싶다면?\n",
        "\n",
        "`-` tidydata로 변환 (melt는 너무 쉬우니까 stack으로 해보자)"
      ],
      "id": "179ffce9-3d18-4167-90e0-b9f6aae97da5"
    },
    {
      "cell_type": "code",
      "execution_count": 747,
      "metadata": {
        "vscode": {
          "languageId": "python"
        }
      },
      "outputs": [],
      "source": [
        "df.set_index('Date').stack().reset_index().rename({'level_1':'Company',0:'Sales'},axis=1)"
      ],
      "id": "3e9025d8-b44a-4ceb-83d3-dfea5c19a945"
    },
    {
      "cell_type": "markdown",
      "metadata": {},
      "source": [
        "## 예제2: multi-indexed data\n",
        "\n",
        "`-` 데이터"
      ],
      "id": "18fe5780-00c5-4b81-82a8-3154682c7a72"
    },
    {
      "cell_type": "code",
      "execution_count": 748,
      "metadata": {
        "vscode": {
          "languageId": "python"
        }
      },
      "outputs": [],
      "source": [
        "df=pd.read_csv('https://raw.githubusercontent.com/PacktPublishing/Pandas-Cookbook/master/data/flights.csv')\\\n",
        ".groupby([\"AIRLINE\",\"WEEKDAY\"]).agg({\"CANCELLED\":[np.mean,\"count\"],\"DIVERTED\":[np.mean,\"count\"]})\n",
        "df"
      ],
      "id": "a25d8ec2-24dc-4060-8ef2-3daf5b0c16fa"
    },
    {
      "cell_type": "markdown",
      "metadata": {},
      "source": [
        "-   tidy data 아님\n",
        "-   정의에 의한 판단: 하나의 셀에 여러 관측치가 있음 (표안의 표 느낌)\n",
        "-   직관적인 판단: WEEKDAY == 4 and mean(CANCELLED) \\> 0.001 인 자료를\n",
        "    뽑고 싶다면?\n",
        "\n",
        "`-` tidydata로 변환 (stack으로 풀면 너무 쉬우니까 melt로 해보자)"
      ],
      "id": "614b25ad-d1f9-4fdb-9937-f63ea46f83c0"
    },
    {
      "cell_type": "code",
      "execution_count": 753,
      "metadata": {
        "vscode": {
          "languageId": "python"
        }
      },
      "outputs": [],
      "source": [
        "df.melt(ignore_index=False).reset_index()"
      ],
      "id": "cf6f1435-9b3f-46f3-92a7-e9c73dda0594"
    }
  ],
  "nbformat": 4,
  "nbformat_minor": 5,
  "metadata": {
    "kernelspec": {
      "name": "python3",
      "display_name": "Python 3",
      "language": "python"
    },
    "language_info": {
      "name": "python",
      "codemirror_mode": {
        "name": "ipython",
        "version": "3"
      },
      "file_extension": ".py",
      "mimetype": "text/x-python",
      "nbconvert_exporter": "python",
      "pygments_lexer": "ipython3",
      "version": "3.8.16"
    }
  }
}