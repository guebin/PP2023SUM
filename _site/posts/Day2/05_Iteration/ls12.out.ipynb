{
  "cells": [
    {
      "cell_type": "markdown",
      "metadata": {},
      "source": [
        "# Lesson 12: groupby\n",
        "\n",
        "최규빈  \n",
        "2023-07-25\n",
        "\n",
        "<a href=\"https://colab.research.google.com/github/guebin/IP2023WIN/blob/main/posts/Day3/07_DataWrangling/2023-02-01-Lesson14.ipynb\"><img src=\"https://colab.research.google.com/assets/colab-badge.svg\" style=\"text-align: left\"></a>\n",
        "\n",
        "# imports"
      ],
      "id": "3dfabe87-88cb-4764-8cc8-348ddc34e28b"
    },
    {
      "cell_type": "code",
      "execution_count": 1,
      "metadata": {
        "vscode": {
          "languageId": "python"
        }
      },
      "outputs": [],
      "source": [
        "import pandas as pd"
      ],
      "id": "0f85a09e-5a90-434d-bd0e-46a7ade187f3"
    },
    {
      "cell_type": "markdown",
      "metadata": {},
      "source": [
        "# 판다스: groupby\n",
        "\n",
        "## flights data"
      ],
      "id": "27b94fb1-c228-49e1-acaf-531c6916d0d5"
    },
    {
      "cell_type": "code",
      "execution_count": 2,
      "metadata": {
        "vscode": {
          "languageId": "python"
        }
      },
      "outputs": [
        {
          "output_type": "stream",
          "name": "stdout",
          "text": [
            "<class 'pandas.core.frame.DataFrame'>\n",
            "RangeIndex: 58492 entries, 0 to 58491\n",
            "Data columns (total 14 columns):\n",
            " #   Column     Non-Null Count  Dtype  \n",
            "---  ------     --------------  -----  \n",
            " 0   MONTH      58492 non-null  int64  \n",
            " 1   DAY        58492 non-null  int64  \n",
            " 2   WEEKDAY    58492 non-null  int64  \n",
            " 3   AIRLINE    58492 non-null  object \n",
            " 4   ORG_AIR    58492 non-null  object \n",
            " 5   DEST_AIR   58492 non-null  object \n",
            " 6   SCHED_DEP  58492 non-null  int64  \n",
            " 7   DEP_DELAY  57659 non-null  float64\n",
            " 8   AIR_TIME   57474 non-null  float64\n",
            " 9   DIST       58492 non-null  int64  \n",
            " 10  SCHED_ARR  58492 non-null  int64  \n",
            " 11  ARR_DELAY  57474 non-null  float64\n",
            " 12  DIVERTED   58492 non-null  int64  \n",
            " 13  CANCELLED  58492 non-null  int64  \n",
            "dtypes: float64(3), int64(8), object(3)\n",
            "memory usage: 6.2+ MB"
          ]
        }
      ],
      "source": [
        "df=pd.read_csv('https://raw.githubusercontent.com/PacktPublishing/Pandas-Cookbook/master/data/flights.csv')\n",
        "df.info()"
      ],
      "id": "032e7cf5-7beb-4930-ad3a-31f7b4f93210"
    },
    {
      "cell_type": "markdown",
      "metadata": {},
      "source": [
        "## get_groups\n",
        "\n",
        "`-` groupby - 데이터프레임을 여러개의 서브데이터프레임으로 나누는 기술 -\n",
        "단독으로 쓸 이유는 별로 없다. $\\to$ 그룹을 나누고 each 그룹마다 어떠한\n",
        "“변수”에 “연산”을 하기 위함."
      ],
      "id": "9e5679df-22a1-4bff-9ab5-2d350628b95e"
    },
    {
      "cell_type": "code",
      "execution_count": 20,
      "metadata": {
        "vscode": {
          "languageId": "python"
        }
      },
      "outputs": [],
      "source": [
        "df.groupby(by=\"AIRLINE\")"
      ],
      "id": "936263b5-5713-44e6-9d62-741c6097535b"
    },
    {
      "cell_type": "markdown",
      "metadata": {},
      "source": [
        "-   지금 이것이 항공사별로 데이터프레임이 나누어진 상태임\n",
        "\n",
        "`-` 진짜 sub dataframe 으로 나누어져 있는지 확인"
      ],
      "id": "c6a1473d-bcb5-43b3-8e63-5341282b9657"
    },
    {
      "cell_type": "code",
      "execution_count": 21,
      "metadata": {
        "vscode": {
          "languageId": "python"
        }
      },
      "outputs": [],
      "source": [
        "grouped = df.groupby(by=\"AIRLINE\")\n",
        "grouped.groups.keys()"
      ],
      "id": "9368e338-bc6d-4b4a-8dc1-46c71482d397"
    },
    {
      "cell_type": "code",
      "execution_count": 54,
      "metadata": {
        "vscode": {
          "languageId": "python"
        }
      },
      "outputs": [],
      "source": [
        "display(grouped.get_group('AS'))"
      ],
      "id": "26e07b74-11ef-4f87-afde-a947941f44fc"
    },
    {
      "cell_type": "code",
      "execution_count": 24,
      "metadata": {
        "vscode": {
          "languageId": "python"
        }
      },
      "outputs": [],
      "source": [
        "grouped.groups.keys()"
      ],
      "id": "67150334-6854-4d16-b681-6fb4a76d33b5"
    },
    {
      "cell_type": "code",
      "execution_count": 26,
      "metadata": {
        "vscode": {
          "languageId": "python"
        }
      },
      "outputs": [],
      "source": [
        "#collapse_output\n",
        "for key in grouped.groups.keys():\n",
        "    display(grouped.get_group(key))"
      ],
      "id": "5f8cada2-a575-42c1-b1a2-c2ffc1770932"
    },
    {
      "cell_type": "markdown",
      "metadata": {},
      "source": [
        "## 범주형변수를 기준으로 groupby -\\> agg"
      ],
      "id": "79f4e144-35e6-4583-8adf-9dc9a883be83"
    },
    {
      "cell_type": "code",
      "execution_count": 33,
      "metadata": {
        "vscode": {
          "languageId": "python"
        }
      },
      "outputs": [],
      "source": [
        "df.columns"
      ],
      "id": "1fe0cf0d-fadc-4c5c-a908-5b3ffab147e1"
    },
    {
      "cell_type": "code",
      "execution_count": 37,
      "metadata": {
        "vscode": {
          "languageId": "python"
        }
      },
      "outputs": [],
      "source": [
        "grouped.get_group('AA').ARR_DELAY.mean(),grouped.get_group('WN').ARR_DELAY.mean()"
      ],
      "id": "dd201d53-a44f-460e-b7d0-b6715993e565"
    },
    {
      "cell_type": "markdown",
      "metadata": {},
      "source": [
        "### `#` EX1: \\[AIRLINE\\] $\\to$ {ARR_DELAY:mean}\n",
        "\n",
        "`-` 방법1: grouby() $\\to$ .agg({colname: function})\n",
        "\n",
        "(예시1)"
      ],
      "id": "962a2220-20db-4313-9ed2-5777b89c8e47"
    },
    {
      "cell_type": "code",
      "execution_count": 43,
      "metadata": {
        "vscode": {
          "languageId": "python"
        }
      },
      "outputs": [],
      "source": [
        "df.groupby(by=\"AIRLINE\").agg({'ARR_DELAY':np.mean})"
      ],
      "id": "38aa488a-a504-49cf-b27d-db4c10d1a605"
    },
    {
      "cell_type": "markdown",
      "metadata": {},
      "source": [
        "(예시2)"
      ],
      "id": "fabecf89-ff22-4a68-a1de-d24a17dda31e"
    },
    {
      "cell_type": "code",
      "execution_count": 57,
      "metadata": {
        "vscode": {
          "languageId": "python"
        }
      },
      "outputs": [],
      "source": [
        "df.groupby(by=\"AIRLINE\").agg({'ARR_DELAY':'mean'})"
      ],
      "id": "f6920fd2-88d4-402b-bf09-69097880565f"
    },
    {
      "cell_type": "markdown",
      "metadata": {},
      "source": [
        "`-` 방법2: grouby() $\\to$ key로 column선택 $\\to$ .agg(f) or .f()\n",
        "\n",
        "(예시1)"
      ],
      "id": "f0d16003-e6b6-458e-859c-f54cae17734c"
    },
    {
      "cell_type": "code",
      "execution_count": 49,
      "metadata": {
        "vscode": {
          "languageId": "python"
        }
      },
      "outputs": [],
      "source": [
        "df.groupby(by='AIRLINE')['ARR_DELAY'].agg(np.mean)"
      ],
      "id": "26b70a54-2a44-4e37-849b-f337dbfa64f9"
    },
    {
      "cell_type": "markdown",
      "metadata": {},
      "source": [
        "(예시2)"
      ],
      "id": "c0735ca4-80c4-41e0-afb7-d0399399192f"
    },
    {
      "cell_type": "code",
      "execution_count": 59,
      "metadata": {
        "vscode": {
          "languageId": "python"
        }
      },
      "outputs": [],
      "source": [
        "df.groupby(by='AIRLINE')['ARR_DELAY'].agg(\"mean\")"
      ],
      "id": "6ed3b800-7906-48f0-bcf1-c6403efcd206"
    },
    {
      "cell_type": "markdown",
      "metadata": {},
      "source": [
        "(예시3)"
      ],
      "id": "0b475d41-bbe3-4868-b615-3444b5c72bae"
    },
    {
      "cell_type": "code",
      "execution_count": 60,
      "metadata": {
        "vscode": {
          "languageId": "python"
        }
      },
      "outputs": [],
      "source": [
        "df.groupby(by='AIRLINE')['ARR_DELAY'].mean()"
      ],
      "id": "b9a31734-7374-4d2c-bbc8-39525a041ed1"
    },
    {
      "cell_type": "markdown",
      "metadata": {},
      "source": [
        "### `#` EX2: \\[AIRLINE,WEEKDAY\\] $\\to$ {CANCELLED:sum}\n",
        "\n",
        "`-` 방법1\n",
        "\n",
        "(예시1)"
      ],
      "id": "39bf0a64-9754-49ff-9356-54eb6942e12c"
    },
    {
      "cell_type": "code",
      "execution_count": 61,
      "metadata": {
        "vscode": {
          "languageId": "python"
        }
      },
      "outputs": [],
      "source": [
        "df.groupby(by=[\"AIRLINE\",\"WEEKDAY\"]).agg({\"CANCELLED\":np.sum})"
      ],
      "id": "035aa734-5ef3-400c-b8cf-40a9a5fb4724"
    },
    {
      "cell_type": "markdown",
      "metadata": {},
      "source": [
        "(예시2)"
      ],
      "id": "73351b70-baa6-497a-98eb-41c7e26a7f6f"
    },
    {
      "cell_type": "code",
      "execution_count": 62,
      "metadata": {
        "vscode": {
          "languageId": "python"
        }
      },
      "outputs": [],
      "source": [
        "df.groupby(by=[\"AIRLINE\",\"WEEKDAY\"]).agg({\"CANCELLED\":\"sum\"})"
      ],
      "id": "b961b92d-4918-4fc4-8a15-4e028012505a"
    },
    {
      "cell_type": "markdown",
      "metadata": {},
      "source": [
        "`-` 방법2\n",
        "\n",
        "(예시1)"
      ],
      "id": "0dd97b5e-9acc-44a0-bfff-25eb8804e79c"
    },
    {
      "cell_type": "code",
      "execution_count": 63,
      "metadata": {
        "vscode": {
          "languageId": "python"
        }
      },
      "outputs": [],
      "source": [
        "df.groupby(by=[\"AIRLINE\",\"WEEKDAY\"])[[\"CANCELLED\"]].agg(np.sum)"
      ],
      "id": "4c374914-81df-4aaa-ad1d-aeb4fd6f8b5e"
    },
    {
      "cell_type": "markdown",
      "metadata": {},
      "source": [
        "(예시2)"
      ],
      "id": "67577fd7-5493-4730-b276-972b26d9057c"
    },
    {
      "cell_type": "code",
      "execution_count": 64,
      "metadata": {
        "vscode": {
          "languageId": "python"
        }
      },
      "outputs": [],
      "source": [
        "df.groupby(by=[\"AIRLINE\",\"WEEKDAY\"])[\"CANCELLED\"].agg(\"sum\")"
      ],
      "id": "063ed13b-6218-4303-86fd-8e2df919dc0e"
    },
    {
      "cell_type": "markdown",
      "metadata": {},
      "source": [
        "(예시3)"
      ],
      "id": "c07b7b21-e0b2-4270-ae0b-cdd3e8825624"
    },
    {
      "cell_type": "code",
      "execution_count": 65,
      "metadata": {
        "vscode": {
          "languageId": "python"
        }
      },
      "outputs": [],
      "source": [
        "df.groupby(by=[\"AIRLINE\",\"WEEKDAY\"])[\"CANCELLED\"].sum()"
      ],
      "id": "e1029553-e50d-4df4-be17-7896a6ef1ec5"
    },
    {
      "cell_type": "code",
      "execution_count": 66,
      "metadata": {
        "vscode": {
          "languageId": "python"
        }
      },
      "outputs": [],
      "source": [
        "df.DIVERTED"
      ],
      "id": "04ab03fe-5414-45bd-a2d8-2e0f40070248"
    },
    {
      "cell_type": "markdown",
      "metadata": {},
      "source": [
        "### `#` EX3: \\[AIRLINE,WEEKDAY\\] $\\to$ {CANCELLED:sum,mean}, {DIVERTED: sum,mean}\n",
        "\n",
        "`-` 방법1\n",
        "\n",
        "(예시1)"
      ],
      "id": "e790135c-a5c1-4072-a802-afbd37ead63e"
    },
    {
      "cell_type": "code",
      "execution_count": 67,
      "metadata": {
        "vscode": {
          "languageId": "python"
        }
      },
      "outputs": [],
      "source": [
        "df.groupby([\"AIRLINE\",\"WEEKDAY\"])\\\n",
        ".agg({\"CANCELLED\":[np.sum,np.mean],\"DIVERTED\":[np.sum,np.mean]})"
      ],
      "id": "955350ec-ed79-4c9b-8ca9-ecbccb98a024"
    },
    {
      "cell_type": "markdown",
      "metadata": {},
      "source": [
        "(예시2)"
      ],
      "id": "47447c1e-49ec-4734-9db8-3f7ea3f8a8b8"
    },
    {
      "cell_type": "code",
      "execution_count": 68,
      "metadata": {
        "vscode": {
          "languageId": "python"
        }
      },
      "outputs": [],
      "source": [
        "df.groupby([\"AIRLINE\",\"WEEKDAY\"])\\\n",
        ".agg({\"CANCELLED\":[\"sum\",\"mean\"],\"DIVERTED\":[\"sum\",\"mean\"]})"
      ],
      "id": "a74e8972-23fb-411e-86f1-8a6fac729a7d"
    },
    {
      "cell_type": "markdown",
      "metadata": {},
      "source": [
        "`-` 방법2\n",
        "\n",
        "(예시1)"
      ],
      "id": "c6acaed9-5079-4e7a-acf8-8ac6820a9af0"
    },
    {
      "cell_type": "code",
      "execution_count": 69,
      "metadata": {
        "vscode": {
          "languageId": "python"
        }
      },
      "outputs": [],
      "source": [
        "df.groupby([\"AIRLINE\",\"WEEKDAY\"])[[\"CANCELLED\",\"DIVERTED\"]]\\\n",
        ".agg([np.sum,np.mean])"
      ],
      "id": "283d3daf-eaa2-43f6-a3ae-efda2b6e6a61"
    },
    {
      "cell_type": "markdown",
      "metadata": {},
      "source": [
        "(예시2)"
      ],
      "id": "63739944-1b77-4567-9574-be28c4cb29fb"
    },
    {
      "cell_type": "code",
      "execution_count": 70,
      "metadata": {
        "vscode": {
          "languageId": "python"
        }
      },
      "outputs": [],
      "source": [
        "df.groupby([\"AIRLINE\",\"WEEKDAY\"])[[\"CANCELLED\",\"DIVERTED\"]]\\\n",
        ".agg([\"sum\",\"mean\"])"
      ],
      "id": "7895f697-89c7-4e2b-8ec5-6cc5fc503062"
    },
    {
      "cell_type": "markdown",
      "metadata": {},
      "source": [
        "(예시3) – 사용불가능\n",
        "\n",
        "### `#` EX4: \\[AIRLINE,WEEKDAY\\] $\\to$ {CANCELLED:sum,mean,count}, {AIR_TIME: mean,var}\n",
        "\n",
        "`-` 방법1\n",
        "\n",
        "(예시1)"
      ],
      "id": "f4893d35-38b9-4d5f-a5db-97ff3e71f76b"
    },
    {
      "cell_type": "code",
      "execution_count": 71,
      "metadata": {
        "vscode": {
          "languageId": "python"
        }
      },
      "outputs": [],
      "source": [
        "df.groupby([\"AIRLINE\",\"WEEKDAY\"])\\\n",
        ".agg({'CANCELLED':[np.sum,np.mean,len],'AIR_TIME':[np.mean,np.var]})"
      ],
      "id": "de2f4191-369c-4d3a-9994-bcb31a68b8ca"
    },
    {
      "cell_type": "markdown",
      "metadata": {},
      "source": [
        "(예시2)"
      ],
      "id": "48c60906-6128-4c27-9b3b-8e0cc4c76b11"
    },
    {
      "cell_type": "code",
      "execution_count": 72,
      "metadata": {
        "vscode": {
          "languageId": "python"
        }
      },
      "outputs": [],
      "source": [
        "df.groupby([\"AIRLINE\",\"WEEKDAY\"])\\\n",
        ".agg({'CANCELLED':[\"sum\",\"mean\",\"count\"],'AIR_TIME':[\"mean\",\"var\"]})"
      ],
      "id": "4a901b99-8236-42a2-bc46-22d6c3c2fa4d"
    },
    {
      "cell_type": "markdown",
      "metadata": {},
      "source": [
        "(사용자정의함수)"
      ],
      "id": "6a7e17ad-195b-409d-9af5-6f549372322e"
    },
    {
      "cell_type": "code",
      "execution_count": 73,
      "metadata": {
        "vscode": {
          "languageId": "python"
        }
      },
      "outputs": [],
      "source": [
        "df.groupby([\"AIRLINE\",\"WEEKDAY\"])\\\n",
        ".agg({'CANCELLED':[np.sum,np.mean,len],\n",
        "      'AIR_TIME':[np.mean,lambda x: np.std(x,ddof=1)**2]})"
      ],
      "id": "306f1755-7245-4399-963e-a1ece4e7d8c3"
    },
    {
      "cell_type": "markdown",
      "metadata": {},
      "source": [
        "## 연속형변수를 기준으로 groupby -\\> agg"
      ],
      "id": "07f337f5-8f02-4dc1-8fc7-82a3ee8a7f37"
    },
    {
      "cell_type": "code",
      "execution_count": 74,
      "metadata": {
        "vscode": {
          "languageId": "python"
        }
      },
      "outputs": [],
      "source": [
        "df.T"
      ],
      "id": "7c24e8dc-8597-43b4-af6e-d1730658804e"
    },
    {
      "cell_type": "code",
      "execution_count": 75,
      "metadata": {
        "vscode": {
          "languageId": "python"
        }
      },
      "outputs": [],
      "source": [
        "df.DIST.describe()"
      ],
      "id": "5142bebf-9edc-408b-8127-cbd3a18c5b45"
    },
    {
      "cell_type": "code",
      "execution_count": 76,
      "metadata": {
        "vscode": {
          "languageId": "python"
        }
      },
      "outputs": [],
      "source": [
        "df.assign(DIST2 = pd.cut(df.DIST,[-np.inf,391,690,1199,np.inf]))\\\n",
        ".groupby([\"AIRLINE\",\"DIST2\"]).agg({'CANCELLED':[\"sum\",\"mean\",\"count\"]})"
      ],
      "id": "dd667a6e-a29c-4202-9836-52e10d11185d"
    },
    {
      "cell_type": "code",
      "execution_count": 77,
      "metadata": {
        "vscode": {
          "languageId": "python"
        }
      },
      "outputs": [],
      "source": [
        "pd.cut(df.DIST,[-np.inf,400,700,1200,np.inf],labels=['~400','400~700','700~1200','1200~'])"
      ],
      "id": "5929c6f7-e5b6-4e26-9921-2f08a50a7bf5"
    },
    {
      "cell_type": "code",
      "execution_count": 78,
      "metadata": {
        "vscode": {
          "languageId": "python"
        }
      },
      "outputs": [],
      "source": [
        "df.assign(DIST2 = pd.cut(df.DIST,[-np.inf,400,700,1200,np.inf],labels=['~400','400~700','700~1200','1200~']))\\\n",
        ".groupby([\"AIRLINE\",\"DIST2\"]).agg({'CANCELLED':[\"sum\",\"mean\",\"count\"]})"
      ],
      "id": "356e6e1d-060d-43f9-af7f-5b08e8bb255c"
    },
    {
      "cell_type": "markdown",
      "metadata": {},
      "source": [
        "## HRDataset_v14 자료분석\n",
        "\n",
        "아래의 코드를 활용하여 Kaggle의\n",
        "[HRdataset](https://www.kaggle.com/datasets/rhuebner/human-resources-data-set)을\n",
        "불러오라."
      ],
      "id": "aecd07c5-5057-4e97-a282-9974676f8eae"
    },
    {
      "cell_type": "code",
      "execution_count": 50,
      "metadata": {
        "vscode": {
          "languageId": "python"
        }
      },
      "outputs": [],
      "source": [
        "df = pd.read_csv('https://raw.githubusercontent.com/guebin/DV2022/master/posts/HRDataset_v14.csv')\n",
        "df"
      ],
      "id": "86b484b3-3b2f-41fb-842d-4bb1697d23aa"
    },
    {
      "cell_type": "code",
      "execution_count": 53,
      "metadata": {
        "vscode": {
          "languageId": "python"
        }
      },
      "outputs": [],
      "source": [
        "df.groupby('RaceDesc')"
      ],
      "id": "2576b357-088b-4851-bce4-b9e5f2892e0d"
    },
    {
      "cell_type": "markdown",
      "metadata": {},
      "source": [
        "데이터를 조사하고 올바르게 분석한 사람을 모두 고르라. (모두 맞칠경우만\n",
        "정답으로 인정)\n",
        "\n",
        "-   소윤: 근무인원수가 가장 많은 인종(RaceDesc)은 ’White’이며 이는\n",
        "    ’Asian’인종과 ’Black or African American’의 합보다 많다.\n",
        "-   다호: ’RaceDesc==White’의 성별(Sex)임금차이는 2000이상이다.\n",
        "-   하니: 퇴직한사람(Termd==1)은 모두 104명이며 백인여성의 퇴직자수가\n",
        "    가장 많다.\n",
        "-   도한: 퇴직한사람중 아시아인의 비율은 10%가 넘지 않는다.\n",
        "\n",
        "(풀이)\n",
        "\n",
        "모두 참이다.\n",
        "\n",
        "**데이터조사**"
      ],
      "id": "62a84763-47e6-42c8-8e71-4253ae4f48cb"
    },
    {
      "cell_type": "code",
      "execution_count": 78,
      "metadata": {
        "vscode": {
          "languageId": "python"
        }
      },
      "outputs": [
        {
          "output_type": "stream",
          "name": "stdout",
          "text": [
            "<class 'pandas.core.frame.DataFrame'>\n",
            "RangeIndex: 311 entries, 0 to 310\n",
            "Data columns (total 36 columns):\n",
            " #   Column                      Non-Null Count  Dtype  \n",
            "---  ------                      --------------  -----  \n",
            " 0   Employee_Name               311 non-null    object \n",
            " 1   EmpID                       311 non-null    int64  \n",
            " 2   MarriedID                   311 non-null    int64  \n",
            " 3   MaritalStatusID             311 non-null    int64  \n",
            " 4   GenderID                    311 non-null    int64  \n",
            " 5   EmpStatusID                 311 non-null    int64  \n",
            " 6   DeptID                      311 non-null    int64  \n",
            " 7   PerfScoreID                 311 non-null    int64  \n",
            " 8   FromDiversityJobFairID      311 non-null    int64  \n",
            " 9   Salary                      311 non-null    int64  \n",
            " 10  Termd                       311 non-null    int64  \n",
            " 11  PositionID                  311 non-null    int64  \n",
            " 12  Position                    311 non-null    object \n",
            " 13  State                       311 non-null    object \n",
            " 14  Zip                         311 non-null    int64  \n",
            " 15  DOB                         311 non-null    object \n",
            " 16  Sex                         311 non-null    object \n",
            " 17  MaritalDesc                 311 non-null    object \n",
            " 18  CitizenDesc                 311 non-null    object \n",
            " 19  HispanicLatino              311 non-null    object \n",
            " 20  RaceDesc                    311 non-null    object \n",
            " 21  DateofHire                  311 non-null    object \n",
            " 22  DateofTermination           104 non-null    object \n",
            " 23  TermReason                  311 non-null    object \n",
            " 24  EmploymentStatus            311 non-null    object \n",
            " 25  Department                  311 non-null    object \n",
            " 26  ManagerName                 311 non-null    object \n",
            " 27  ManagerID                   303 non-null    float64\n",
            " 28  RecruitmentSource           311 non-null    object \n",
            " 29  PerformanceScore            311 non-null    object \n",
            " 30  EngagementSurvey            311 non-null    float64\n",
            " 31  EmpSatisfaction             311 non-null    int64  \n",
            " 32  SpecialProjectsCount        311 non-null    int64  \n",
            " 33  LastPerformanceReview_Date  311 non-null    object \n",
            " 34  DaysLateLast30              311 non-null    int64  \n",
            " 35  Absences                    311 non-null    int64  \n",
            "dtypes: float64(2), int64(16), object(18)\n",
            "memory usage: 87.6+ KB"
          ]
        }
      ],
      "source": [
        "df.info()"
      ],
      "id": "72bc4d8c-ae69-48ba-8459-c444af1dc248"
    },
    {
      "cell_type": "markdown",
      "metadata": {},
      "source": [
        "-   EmpID가 missing이 없는 열임\n",
        "\n",
        "***소윤: 근무인원수가 가장 많은 인종(RaceDesc)은 ’White’이며 이는\n",
        "’Asian’인종과 ’Black or African American’의 합보다 많다. — 참***"
      ],
      "id": "afba3bba-b0bb-4f91-98be-9b24ff6096c3"
    },
    {
      "cell_type": "code",
      "execution_count": 79,
      "metadata": {
        "vscode": {
          "languageId": "python"
        }
      },
      "outputs": [],
      "source": [
        "df.groupby(by='RaceDesc').agg({'EmpID':len})"
      ],
      "id": "112d6a13-356c-4a5e-9d05-eb9c4fc84706"
    },
    {
      "cell_type": "code",
      "execution_count": 80,
      "metadata": {
        "vscode": {
          "languageId": "python"
        }
      },
      "outputs": [],
      "source": [
        "29+80"
      ],
      "id": "0dcd8072-2b97-44f7-a913-0a03e17c5f8f"
    },
    {
      "cell_type": "markdown",
      "metadata": {},
      "source": [
        "***다호: ’RaceDesc==White’의 성별(Sex)임금차이는 2000이상이다. — 참***"
      ],
      "id": "3233f6ba-0cdb-4e79-8d65-00af3a6be988"
    },
    {
      "cell_type": "code",
      "execution_count": 81,
      "metadata": {
        "vscode": {
          "languageId": "python"
        }
      },
      "outputs": [],
      "source": [
        "df.groupby(by=['RaceDesc','Sex']).agg({'Salary':np.mean})"
      ],
      "id": "77409159-cae8-4a8e-8198-7268bceef882"
    },
    {
      "cell_type": "code",
      "execution_count": 82,
      "metadata": {
        "vscode": {
          "languageId": "python"
        }
      },
      "outputs": [],
      "source": [
        "68846.519231 - 65334.132530"
      ],
      "id": "4fdd8aac-6cb5-4c7c-9031-109878179224"
    },
    {
      "cell_type": "markdown",
      "metadata": {},
      "source": [
        "***하니: 퇴직한사람(Termd==1)은 모두 104명이며 백인여성의 퇴직자수가\n",
        "가장 많다. — 참***"
      ],
      "id": "ebe74bf9-dcdc-4349-8a0f-fe873cabaed0"
    },
    {
      "cell_type": "code",
      "execution_count": 83,
      "metadata": {
        "vscode": {
          "languageId": "python"
        }
      },
      "outputs": [],
      "source": [
        "(df.Termd==1).sum()"
      ],
      "id": "bbbb30d1-1103-4bce-9f2d-1df67cd7af3d"
    },
    {
      "cell_type": "code",
      "execution_count": 84,
      "metadata": {
        "vscode": {
          "languageId": "python"
        }
      },
      "outputs": [],
      "source": [
        "df.groupby(by=['RaceDesc','Sex']).agg({'Termd':np.sum})"
      ],
      "id": "04badd01-86dc-4dae-852f-31fc725c80c3"
    },
    {
      "cell_type": "markdown",
      "metadata": {},
      "source": [
        "***도한: 퇴직한사람중 아시아인의 비율은 10%가 넘지 않는다. — 참***"
      ],
      "id": "8f4c213f-9ecf-48a3-9f40-0afa61ebe059"
    },
    {
      "cell_type": "code",
      "execution_count": 85,
      "metadata": {
        "vscode": {
          "languageId": "python"
        }
      },
      "outputs": [],
      "source": [
        "(df.Termd==1).sum()"
      ],
      "id": "87c2b627-301e-4892-9059-316c94c7653a"
    },
    {
      "cell_type": "code",
      "execution_count": 86,
      "metadata": {
        "vscode": {
          "languageId": "python"
        }
      },
      "outputs": [],
      "source": [
        "df.groupby(by=['RaceDesc']).agg({'Termd':np.sum})"
      ],
      "id": "feea1246-5030-49d2-9738-1129eec255d0"
    }
  ],
  "nbformat": 4,
  "nbformat_minor": 5,
  "metadata": {
    "kernelspec": {
      "name": "python3",
      "display_name": "Python 3 (ipykernel)",
      "language": "python"
    },
    "language_info": {
      "name": "python",
      "codemirror_mode": {
        "name": "ipython",
        "version": "3"
      },
      "file_extension": ".py",
      "mimetype": "text/x-python",
      "nbconvert_exporter": "python",
      "pygments_lexer": "ipython3",
      "version": "3.10.12"
    }
  }
}