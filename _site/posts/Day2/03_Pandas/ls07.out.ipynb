{
  "cells": [
    {
      "cell_type": "markdown",
      "metadata": {},
      "source": [
        "# Lesson 07: pandas 공부 1단계 ~ 2단계\n",
        "\n",
        "최규빈  \n",
        "2023-07-24\n",
        "\n",
        "<a href=\"https://colab.research.google.com/github/guebin/PP2023SUM/blob/main/posts/Day2/03_Pandas/ls07.ipynb\"><img src=\"https://colab.research.google.com/assets/colab-badge.svg\" style=\"text-align: left\"></a>\n",
        "\n",
        "# 강의영상\n",
        "\n",
        "<https://youtu.be/JkdKck7utkE>\n",
        "\n",
        "# imports"
      ],
      "id": "6f34cc4e-e4c4-4427-ad59-129c105c5da5"
    },
    {
      "cell_type": "code",
      "execution_count": 1,
      "metadata": {},
      "outputs": [],
      "source": [
        "import numpy as np\n",
        "import pandas as pd "
      ],
      "id": "720575dc-3bcb-49f2-8550-66f6434d4fa4"
    },
    {
      "cell_type": "markdown",
      "metadata": {},
      "source": [
        "# pandas 공부 1단계: 선언 및 기본정보\n",
        "\n",
        "## 데이터프레임 선언\n",
        "\n",
        "`-` 방법1: dictionary에서 만든다."
      ],
      "id": "41337389-757d-411c-b789-38b0dcd10978"
    },
    {
      "cell_type": "code",
      "execution_count": 2,
      "metadata": {},
      "outputs": [],
      "source": [
        "pd.DataFrame({'att':[30,40,50],'mid':[50,60,70]})"
      ],
      "id": "47aa63f6"
    },
    {
      "cell_type": "code",
      "execution_count": 3,
      "metadata": {},
      "outputs": [],
      "source": [
        "pd.DataFrame({'att':(30,40,50),'mid':(50,60,70)})"
      ],
      "id": "6aa55148"
    },
    {
      "cell_type": "code",
      "execution_count": 4,
      "metadata": {},
      "outputs": [],
      "source": [
        "pd.DataFrame({'att':np.array([30,40,50]),'mid':np.array([50,60,70])})"
      ],
      "id": "47768055"
    },
    {
      "cell_type": "markdown",
      "metadata": {},
      "source": [
        "`-` 방법: 2차원 ndarray에서 만든다."
      ],
      "id": "a8c4b3dd-c015-4db3-b225-c3f106140c3a"
    },
    {
      "cell_type": "code",
      "execution_count": 23,
      "metadata": {},
      "outputs": [],
      "source": [
        "np.arange(2*3).reshape(2,3)"
      ],
      "id": "55290ccd"
    },
    {
      "cell_type": "code",
      "execution_count": 24,
      "metadata": {},
      "outputs": [],
      "source": [
        "pd.DataFrame(np.arange(2*3).reshape(2,3))"
      ],
      "id": "76fcfafd"
    },
    {
      "cell_type": "markdown",
      "metadata": {},
      "source": [
        "## 열의 이름 부여\n",
        "\n",
        "`-` 방법1: 딕셔너리를 통하여 만들면 딕셔너리의 key가 자동으로 열의\n",
        "이름이 된다."
      ],
      "id": "efe2baa6-c979-4b00-9176-e66b5871c5f1"
    },
    {
      "cell_type": "code",
      "execution_count": 25,
      "metadata": {},
      "outputs": [],
      "source": [
        "pd.DataFrame({'att':np.array([30,40,50]),'mid':np.array([50,60,70])})"
      ],
      "id": "4fa3fb73"
    },
    {
      "cell_type": "markdown",
      "metadata": {},
      "source": [
        "`-` 방법2: pd.DataFrame()의 옵션에 columns를 이용"
      ],
      "id": "cbee32a4-0d06-4228-8c45-462caea1de05"
    },
    {
      "cell_type": "code",
      "execution_count": 26,
      "metadata": {},
      "outputs": [],
      "source": [
        "pd.DataFrame(np.arange(2*3).reshape(2,3),columns=['X1','X2','X3'])"
      ],
      "id": "d616b21a"
    },
    {
      "cell_type": "markdown",
      "metadata": {},
      "source": [
        "`-` 방법3: df.columns에 원하는 열이름을 덮어씀 (1)"
      ],
      "id": "98746c5e-4e10-46e9-b895-f9dce10099df"
    },
    {
      "cell_type": "code",
      "execution_count": 27,
      "metadata": {},
      "outputs": [],
      "source": [
        "df=pd.DataFrame(np.arange(2*3).reshape(2,3))\n",
        "df"
      ],
      "id": "01927ad9"
    },
    {
      "cell_type": "code",
      "execution_count": 28,
      "metadata": {},
      "outputs": [],
      "source": [
        "df.columns = ['X1','X2','X3']\n",
        "df"
      ],
      "id": "3b0642b7"
    },
    {
      "cell_type": "markdown",
      "metadata": {},
      "source": [
        "`-` 방법4: df.columns에 원하는 열이름을 덮어씀 (2)"
      ],
      "id": "35fd0e6c-5614-404b-9a3e-9f86f05d98bd"
    },
    {
      "cell_type": "code",
      "execution_count": 29,
      "metadata": {},
      "outputs": [],
      "source": [
        "df=pd.DataFrame(np.arange(2*3).reshape(2,3))\n",
        "df"
      ],
      "id": "224182f6"
    },
    {
      "cell_type": "code",
      "execution_count": 30,
      "metadata": {},
      "outputs": [],
      "source": [
        "df.columns = pd.Index(['X1','X2','X3'])"
      ],
      "id": "7687ffe6"
    },
    {
      "cell_type": "code",
      "execution_count": 31,
      "metadata": {},
      "outputs": [],
      "source": [
        "df"
      ],
      "id": "263d541f"
    },
    {
      "cell_type": "markdown",
      "metadata": {},
      "source": [
        "`-` 방법5: set_axis를 이용"
      ],
      "id": "d7293fbb-6626-4288-b5ed-f7ff52290768"
    },
    {
      "cell_type": "code",
      "execution_count": 5,
      "metadata": {},
      "outputs": [],
      "source": [
        "df=pd.DataFrame(np.arange(2*3).reshape(2,3))\n",
        "df"
      ],
      "id": "367d88fb-91e9-4c68-97e6-245659e56f76"
    },
    {
      "cell_type": "code",
      "execution_count": 8,
      "metadata": {},
      "outputs": [],
      "source": [
        "df.set_axis(pd.Index(['X1','X2','X3']),axis=1)"
      ],
      "id": "c87c873c-7a6e-47a0-bf3d-d10c4ec11409"
    },
    {
      "cell_type": "markdown",
      "metadata": {},
      "source": [
        "## 행의 이름 부여\n",
        "\n",
        "`-` 방법1: df.set_axis() 를 이용하여 덮어씌운다"
      ],
      "id": "dcb5e03e-97a6-43ed-b1af-88738be19da4"
    },
    {
      "cell_type": "code",
      "execution_count": 9,
      "metadata": {},
      "outputs": [],
      "source": [
        "df=pd.DataFrame({'att':[30,40,50] , 'mid':[5,45,90]})\n",
        "df"
      ],
      "id": "5ffa95bd"
    },
    {
      "cell_type": "code",
      "execution_count": 12,
      "metadata": {},
      "outputs": [],
      "source": [
        "df.set_axis(pd.Index(['guebin','iu','hynn']),axis=0)"
      ],
      "id": "c899ddc8"
    },
    {
      "cell_type": "markdown",
      "metadata": {},
      "source": [
        "## 자료형, len, shape, for문의 반복변수"
      ],
      "id": "7093749e-dde1-4a98-842a-1f6732856290"
    },
    {
      "cell_type": "code",
      "execution_count": 40,
      "metadata": {},
      "outputs": [],
      "source": [
        "df = pd.DataFrame({'att':[30,40,50],'mid':[5,45,90]})\n",
        "df"
      ],
      "id": "e73ea845"
    },
    {
      "cell_type": "markdown",
      "metadata": {},
      "source": [
        "`-` type"
      ],
      "id": "ed1ce8dd-acf3-4475-8abe-c8be221ab24c"
    },
    {
      "cell_type": "code",
      "execution_count": 41,
      "metadata": {},
      "outputs": [],
      "source": [
        "type(df)"
      ],
      "id": "d43ac14c"
    },
    {
      "cell_type": "markdown",
      "metadata": {},
      "source": [
        "`-` len"
      ],
      "id": "940567d3-95c5-4cea-b68c-866eabfea1d3"
    },
    {
      "cell_type": "code",
      "execution_count": 42,
      "metadata": {},
      "outputs": [],
      "source": [
        "len(df) # row의 갯수 "
      ],
      "id": "f42e21d4"
    },
    {
      "cell_type": "markdown",
      "metadata": {},
      "source": [
        "`-` shape"
      ],
      "id": "192eadf6-8c09-4759-9013-d408352e8f56"
    },
    {
      "cell_type": "code",
      "execution_count": 43,
      "metadata": {},
      "outputs": [],
      "source": [
        "df.shape "
      ],
      "id": "9e3a1218"
    },
    {
      "cell_type": "markdown",
      "metadata": {},
      "source": [
        "`-` for문의 반복변수"
      ],
      "id": "b996bd31-f8b9-4a6d-8a85-38261900c05d"
    },
    {
      "cell_type": "code",
      "execution_count": 11,
      "metadata": {},
      "outputs": [],
      "source": [
        "df"
      ],
      "id": "ca7f7c17-33b8-483a-8116-39ad0d838c5e"
    },
    {
      "cell_type": "code",
      "execution_count": 19,
      "metadata": {},
      "outputs": [
        {
          "output_type": "stream",
          "name": "stdout",
          "text": [
            "att\n",
            "mid"
          ]
        }
      ],
      "source": [
        "for k in df:\n",
        "    print(k)"
      ],
      "id": "2958c6c8"
    },
    {
      "cell_type": "markdown",
      "metadata": {},
      "source": [
        "**참고:** df는 진짜 딕셔너리 느낌 강해요"
      ],
      "id": "150e920d-f3a7-4a8a-882f-9b1fa8bd3f24"
    },
    {
      "cell_type": "code",
      "execution_count": 21,
      "metadata": {},
      "outputs": [],
      "source": [
        "df.keys()"
      ],
      "id": "a5666359-f888-4e4f-bbe7-1e2e168c3e5e"
    },
    {
      "cell_type": "code",
      "execution_count": 25,
      "metadata": {},
      "outputs": [
        {
          "output_type": "stream",
          "name": "stdout",
          "text": [
            "0    30\n",
            "1    40\n",
            "2    50\n",
            "Name: att, dtype: int64\n",
            "0     5\n",
            "1    45\n",
            "2    90\n",
            "Name: mid, dtype: int64"
          ]
        }
      ],
      "source": [
        "for col_name,col_array in df.items():\n",
        "    print(col_array)"
      ],
      "id": "4377ad9a"
    },
    {
      "cell_type": "markdown",
      "metadata": {},
      "source": [
        "# pandas 공부 2단계: 행과 열의 선택\n",
        "\n",
        "`-` 데이터"
      ],
      "id": "a825ecb2-a403-4619-a0ef-7ef90e300a3f"
    },
    {
      "cell_type": "code",
      "execution_count": 26,
      "metadata": {},
      "outputs": [],
      "source": [
        "np.random.seed(43052)\n",
        "att = np.random.choice(np.arange(10,21)*5,20)\n",
        "rep = np.random.choice(np.arange(5,21)*5,20)\n",
        "mid = np.random.choice(np.arange(0,21)*5,20)\n",
        "fin = np.random.choice(np.arange(0,21)*5,20)\n",
        "student_id = ['2022-12'+str(s) for s in np.random.choice(np.arange(300,501),20,replace=False)]"
      ],
      "id": "c0e3cf0f"
    },
    {
      "cell_type": "code",
      "execution_count": 29,
      "metadata": {},
      "outputs": [],
      "source": [
        "df = pd.DataFrame({'att':att,'rep':rep,'mid':mid,'fin':fin})\n",
        "df.head()"
      ],
      "id": "85267e83"
    },
    {
      "cell_type": "code",
      "execution_count": 30,
      "metadata": {},
      "outputs": [],
      "source": [
        "df2 = pd.DataFrame({'id':student_id,'att':att,'rep':rep,'mid':mid,'fin':fin})\n",
        "df2.head()"
      ],
      "id": "9672986f-b39d-47c9-8414-bed85c851c69"
    },
    {
      "cell_type": "markdown",
      "metadata": {},
      "source": [
        "## 열의 선택\n",
        "\n",
        "`-` 방법1: `df.?` + str\n",
        "\n",
        "`-` 방법2: `df[?]` + str, \\[str,str\\]"
      ],
      "id": "0470731f-c606-434c-a6ec-e25460fd7428"
    },
    {
      "cell_type": "code",
      "execution_count": 349,
      "metadata": {},
      "outputs": [],
      "source": [
        "# df['att'] # str \n",
        "# df[['att']] # [str]\n",
        "# df[['att','rep']] # [str,str]"
      ],
      "id": "b4ce0d43-b31f-461c-b6e1-c0f4ccd4ae83"
    },
    {
      "cell_type": "markdown",
      "metadata": {},
      "source": [
        "`-` 방법3: `df.iloc[:,?]` + int, int:int, \\[int,int\\], \\[bool,bool\\],\n",
        "range"
      ],
      "id": "ebf837db-af55-4827-83cc-024354b14bb2"
    },
    {
      "cell_type": "code",
      "execution_count": 350,
      "metadata": {},
      "outputs": [],
      "source": [
        "# df.iloc[:,0] # int\n",
        "# df.iloc[:,-2:] # int:int - 슬라이싱\n",
        "# df.iloc[:,1::2] # int:int - 스트라이딩\n",
        "# df.iloc[:,[0]] # [int]\n",
        "# df.iloc[:,[0,1]] # [int,int]\n",
        "# df.iloc[:,[True,True,False,False]] # bool의 list \n",
        "# df.iloc[:,range(2)] # range"
      ],
      "id": "ddf35c44"
    },
    {
      "cell_type": "markdown",
      "metadata": {},
      "source": [
        "`-` 방법4: `df.loc[:,?]` + str, ‘str:str’, \\[str,str\\], \\[bool,bool\\]"
      ],
      "id": "06e79263-7ebc-4cea-b4c7-a38ca0687687"
    },
    {
      "cell_type": "code",
      "execution_count": 357,
      "metadata": {},
      "outputs": [],
      "source": [
        "# df.loc[:,'att'] # str\n",
        "# df.loc[:,'rep':'mid'] # 'str':'str' -- 칼럼이름으로 슬라이싱 **\n",
        "# df.loc[:,'rep'::2] # 'str':'str' -- 칼럼이름으로 스트라이딩 ** \n",
        "# df.loc[:,['att']] # [str]\n",
        "# df.loc[:,['att','rep']] # [str,str]\n",
        "# df.loc[:,[True,False,False,True]] # bool의 list"
      ],
      "id": "c996519f"
    },
    {
      "cell_type": "markdown",
      "metadata": {},
      "source": [
        "## 행의 선택\n",
        "\n",
        "`-` 방법1: `df[]` + int:int, str:str, \\[bool,bool\\],\n",
        "pd.Series(\\[bool,bool\\]) – $(\\star\\star\\star\\star\\star)$"
      ],
      "id": "e9432461-f059-497d-84af-72824d7e451d"
    },
    {
      "cell_type": "code",
      "execution_count": 379,
      "metadata": {},
      "outputs": [],
      "source": [
        "# df[:2] # int:int -- 슬라이싱 // df.iloc[:2,:], df.iloc[:2] 와 같음\n",
        "# df[0:5:2] # int:int -- 스트라이딩 \n",
        "# df[:'2022-12312'] # str:str -- 슬라이싱 // df.loc[:'2022-12312'], df.loc[:'2022-12312',:] 와 같음\n",
        "# df[:'2022-12312':2] # str:str -- 스트라이딩\n",
        "# df[list(df.att < 70)] # [bool,bool]\n",
        "# df[df.att < 70] # pd.Series([bool,bool])"
      ],
      "id": "bfa1db85-d013-4cec-9bd5-201cfc83e3c2"
    },
    {
      "cell_type": "markdown",
      "metadata": {},
      "source": [
        "`-` 방법2: `df.iloc[]`, `df.iloc[,:]` + int, int:int, \\[int,int\\],\n",
        "\\[bool,bool\\], range"
      ],
      "id": "460f7ade-dd66-4c9a-a631-d5ac4d83c9ca"
    },
    {
      "cell_type": "code",
      "execution_count": 381,
      "metadata": {},
      "outputs": [],
      "source": [
        "# df.iloc[0] # int \n",
        "# df.iloc[-2:] # int:int -- 슬라이싱\n",
        "# df.iloc[1::2] # int:int -- 스트라이딩\n",
        "# df.iloc[[0]] # [int]\n",
        "# df.iloc[[0,1]] # [int,int]\n",
        "# df.iloc[[True]+[False]*19] # [bool,bool]\n",
        "# df.iloc[range(2)] # range"
      ],
      "id": "17edc896"
    },
    {
      "cell_type": "code",
      "execution_count": 384,
      "metadata": {},
      "outputs": [],
      "source": [
        "# df.iloc[0,:] # int \n",
        "# df.iloc[-2:,:] # int:int -- 슬라이싱\n",
        "# df.iloc[1::2,:] # int:int -- 스트라이딩\n",
        "# df.iloc[[0],:] # [int]\n",
        "# df.iloc[[0,1],:] # [int,int]\n",
        "# df.iloc[[True]+[False]*19,:] # [bool,bool]\n",
        "# df.iloc[range(2),:] # range"
      ],
      "id": "27c47db1"
    },
    {
      "cell_type": "markdown",
      "metadata": {},
      "source": [
        "`-` 방법3: `df.loc[]`, `df.loc[,:]` + int, str, int:int, str:str,\n",
        "\\[int,int\\], \\[str,str\\], \\[bool,bool\\], pd.Series(\\[bool,bool\\])"
      ],
      "id": "b2911c71-e92b-4b66-8b3c-afcaaa864f83"
    },
    {
      "cell_type": "code",
      "execution_count": 415,
      "metadata": {},
      "outputs": [],
      "source": [
        "# df2.loc[0] # int \n",
        "# df.loc['2022-12380'] # str \n",
        "# df2.loc[:2] # int:int \n",
        "# df.loc[:'2022-12363'] # str:str \n",
        "# df2.loc[[0,1]] # [int,int]\n",
        "# df.loc[['2022-12380','2022-12370']] # [str,str]\n",
        "# df.loc[[True]+[False]*19] # [bool,bool]\n",
        "# df.loc[df.att>70] # pd.Series([bool,bool]) "
      ],
      "id": "6c6eec49"
    },
    {
      "cell_type": "code",
      "execution_count": 416,
      "metadata": {},
      "outputs": [],
      "source": [
        "# df2.loc[0,:] # int \n",
        "# df.loc['2022-12380',:] # str \n",
        "# df2.loc[:2,:] # int:int \n",
        "# df.loc[:'2022-12363',:] # str:str \n",
        "# df2.loc[[0,1],:] # [int,int]\n",
        "# df.loc[['2022-12380','2022-12370'],:] # [str,str]\n",
        "# df.loc[[True]+[False]*19,:] # [bool,bool]\n",
        "# df.loc[df.att>70,:] # pd.Series([bool,bool]) "
      ],
      "id": "14c52144-881a-4b4a-929c-99072c559905"
    },
    {
      "cell_type": "markdown",
      "metadata": {},
      "source": [
        "## 요약\n",
        "\n",
        "`-` 알아두면 좋은 규칙\n",
        "\n",
        "-   `.iloc[]` 와 `.iloc[,:]`는 완전히 동등하다.\n",
        "-   `.loc[]` 와 `.loc[,:]`는 완전히 동등하다.\n",
        "\n",
        "`-` 정리\n",
        "\n",
        "|     type of indexer      | target | `.` | `[]` | `.iloc` |  `.loc`  | comment |\n",
        "|:------------------------:|:------:|:---:|:----:|:-------:|:--------:|:-------:|\n",
        "|           int            |  row   |  X  |  X   |    O    | $\\Delta$ |         |\n",
        "|           int            |  col   |  X  |  X   |    O    |    X     |         |\n",
        "|           str            |  row   |  X  |  X   |    X    |    O     |         |\n",
        "|           str            |  col   |  O  |  O   |    X    |    O     |         |\n",
        "|         int:int          |  row   |  X  |  O   |    O    | $\\Delta$ |         |\n",
        "|         int:int          |  col   |  X  |  X   |    O    |    X     |         |\n",
        "|         str:str          |  row   |  X  |  O   |    X    |    O     |         |\n",
        "|         str:str          |  col   |  X  |  X   |    X    |    O     |         |\n",
        "|       \\[int,int\\]        |  row   |  X  |  X   |    O    | $\\Delta$ |         |\n",
        "|       \\[int,int\\]        |  col   |  X  |  X   |    O    |    X     |         |\n",
        "|       \\[str,str\\]        |  row   |  X  |  X   |    X    |    O     |         |\n",
        "|       \\[str,str\\]        |  col   |  X  |  O   |    X    |    O     |         |\n",
        "|      \\[bool,bool\\]       |  row   |  X  |  O   |    O    |    O     |         |\n",
        "|      \\[bool,bool\\]       |  col   |  X  |  X   |    O    |    O     |         |\n",
        "| pd.Series(\\[bool,bool\\]) |  row   |  X  |  O   |    X    |    O     |         |\n",
        "\n",
        "## 제 스타일\n",
        "\n",
        "`-` **가장 안전한 코드**"
      ],
      "id": "ed4ef938-f28f-4e66-ab7a-163acec283ad"
    },
    {
      "cell_type": "code",
      "execution_count": 65,
      "metadata": {},
      "outputs": [],
      "source": [
        "# df.loc[:,:]"
      ],
      "id": "ff90e607-a2af-4b4e-86d1-67a51bfb548e"
    },
    {
      "cell_type": "markdown",
      "metadata": {},
      "source": [
        "`-` 상황1: 하나의 col을 뽑으려 할때 좋은 코드"
      ],
      "id": "0b49b0e2-d41f-4290-853f-7b6c1f61e46d"
    },
    {
      "cell_type": "code",
      "execution_count": 286,
      "metadata": {},
      "outputs": [],
      "source": [
        "# df.att # 최애 \n",
        "# df['att'] # 차애 \n",
        "# df[['att']] # 차애의 대안"
      ],
      "id": "8659f013-12f9-40c3-9d1b-ee2b6a008789"
    },
    {
      "cell_type": "markdown",
      "metadata": {},
      "source": [
        "`-` 상황2: row 슬라이싱을 할때 좋은 코드 $(\\star\\star\\star)$"
      ],
      "id": "bf236cc7-f47d-46e9-ae99-a2bed17e3d8f"
    },
    {
      "cell_type": "code",
      "execution_count": 73,
      "metadata": {},
      "outputs": [],
      "source": [
        "# df[:5] # 최애, df.iloc[:5]와 같다. \n",
        "# df[:'2022-12312'] # 차애, df.loc[:'2022-12312'] 와 같다"
      ],
      "id": "578579b3-ab7b-4409-bfc2-eac5aeb6125b"
    },
    {
      "cell_type": "markdown",
      "metadata": {},
      "source": [
        "`-` 상황3: 조건에 맞는 row를 뽑을때 좋은 코드"
      ],
      "id": "ae1d49bb-a6ca-4795-aaa6-6f5d036f68a3"
    },
    {
      "cell_type": "code",
      "execution_count": 304,
      "metadata": {},
      "outputs": [],
      "source": [
        "# df[df.att<60] # 최애\n",
        "# df[[att<60 for att in df.att]] # 차애"
      ],
      "id": "374952df-9c9f-49da-bbe5-ba59fa03c20d"
    },
    {
      "cell_type": "markdown",
      "metadata": {},
      "source": [
        "`-` 상황4: 하나의 row를 뽑으려 할때 좋은 코드"
      ],
      "id": "17314c1c-d8ec-4ec0-9205-0827ec80d579"
    },
    {
      "cell_type": "code",
      "execution_count": 305,
      "metadata": {},
      "outputs": [],
      "source": [
        "# df.loc[0] # 최애\n",
        "# df.iloc[0] # 최애 \n",
        "# df.loc[[0]] # 최애의 대안\n",
        "# df.iloc[[0]] # 최애의 대안"
      ],
      "id": "b6c8c863-be85-4e6a-a275-f386df649297"
    },
    {
      "cell_type": "markdown",
      "metadata": {},
      "source": [
        "`-` 상황5: (row,col)을 뽑으려 할때 좋은 코드"
      ],
      "id": "2f592df4-9160-44e7-9e68-9b5130d22f66"
    },
    {
      "cell_type": "code",
      "execution_count": 119,
      "metadata": {},
      "outputs": [],
      "source": [
        "# 방법1: pd.Series를 뽑고 -> 인덱스로접근\n",
        "# df.att[0]\n",
        "# df['att'][0]\n",
        "\n",
        "# 방법2: iloc, loc 으로 한번에 뽑기\n",
        "# df.iloc[0,0]\n",
        "# df.loc[0,'att']"
      ],
      "id": "6a3c5b60-63d7-4d00-8a52-d0bfa00b2cb5"
    },
    {
      "cell_type": "markdown",
      "metadata": {},
      "source": [
        "***위의 상황이외에는 `df.loc[:,:]`를 사용하는것이 유리하다***\n",
        "\n",
        "`-` 상황6: column 슬라이싱을 할때"
      ],
      "id": "93ab8bd0-da8e-4f44-b180-0057e5b6fd53"
    },
    {
      "cell_type": "code",
      "execution_count": 223,
      "metadata": {},
      "outputs": [],
      "source": [
        "# df.loc[:,'att':'mid'] # 끝점포함"
      ],
      "id": "bb01bd9d-a8ca-48ed-8727-5798cc0347bc"
    },
    {
      "cell_type": "markdown",
      "metadata": {},
      "source": [
        "`-` 상황7: row + column 슬라이싱을 하는 가장 좋은 코드"
      ],
      "id": "52a78065-b2b2-4396-bcf8-8077dcd63886"
    },
    {
      "cell_type": "code",
      "execution_count": 224,
      "metadata": {},
      "outputs": [],
      "source": [
        "# df.loc[0:5,'att':'mid']"
      ],
      "id": "28b54ecb-9acf-47d3-9a62-c1d8cd3453ff"
    },
    {
      "cell_type": "markdown",
      "metadata": {},
      "source": [
        "`-` 상황8: 조건에 맞는 col을 뽑기에 가장 좋은 코드"
      ],
      "id": "2cb6f2c1-0e53-49c2-87fd-bab6699db938"
    },
    {
      "cell_type": "code",
      "execution_count": 226,
      "metadata": {},
      "outputs": [],
      "source": [
        "# df.loc[:,[len(col_name)>2 for col_name in df.columns]]"
      ],
      "id": "0bd34bc6-1054-45a2-bcbd-a6872f44b38e"
    },
    {
      "cell_type": "markdown",
      "metadata": {},
      "source": [
        "`-` 상황9: 조건에 맞는 row, col을 뽑기에 가장 좋은 코드"
      ],
      "id": "e3b2771a-5307-4eb0-bcef-ee68cd222350"
    },
    {
      "cell_type": "code",
      "execution_count": 242,
      "metadata": {},
      "outputs": [],
      "source": [
        "# df.loc[df.att<60,[len(col_name)>2 for col_name in df.columns]]"
      ],
      "id": "e4a995cb-340a-4aa4-b286-9b6aff53c14e"
    },
    {
      "cell_type": "markdown",
      "metadata": {},
      "source": [
        "## 제 스타일 X\n",
        "\n",
        "`-` 제가 안쓰는 코드1"
      ],
      "id": "2ff0b542-9a1d-4ab0-a7b2-fc11686dc884"
    },
    {
      "cell_type": "code",
      "execution_count": 125,
      "metadata": {},
      "outputs": [],
      "source": [
        "df[:1]"
      ],
      "id": "a6cd5736"
    },
    {
      "cell_type": "markdown",
      "metadata": {},
      "source": [
        "이러면 내 입장에서는 마치 아래가 동작할 것 같잖아.."
      ],
      "id": "1e0281c6-f791-439c-a634-f692240c894b"
    },
    {
      "cell_type": "code",
      "execution_count": 302,
      "metadata": {},
      "outputs": [],
      "source": [
        "df[0] "
      ],
      "id": "fdf15e20"
    },
    {
      "cell_type": "markdown",
      "metadata": {},
      "source": [
        "`-` 제가 안쓰는 코드2: bool의 list를 사용할때 iloc은 가급적 쓰지마세요"
      ],
      "id": "9c0298c3-8a57-4f2b-93ef-65fd3630d7db"
    },
    {
      "cell_type": "code",
      "execution_count": 128,
      "metadata": {},
      "outputs": [],
      "source": [
        "df.iloc[list(df['att']<80),:]"
      ],
      "id": "6494de36"
    },
    {
      "cell_type": "markdown",
      "metadata": {},
      "source": [
        "이러면 마치 아래도 동작할 것 같잖아.."
      ],
      "id": "74530a30-e593-49b7-9e54-f3c241a6e335"
    },
    {
      "cell_type": "code",
      "execution_count": 419,
      "metadata": {},
      "outputs": [],
      "source": [
        "df.iloc[df['att']<80,:]"
      ],
      "id": "b46298e7"
    },
    {
      "cell_type": "markdown",
      "metadata": {},
      "source": [
        "# Quiz\n",
        "\n",
        "`(1)` 아래와 같은 데이터 프레임을 선언하라."
      ],
      "id": "e2465ee2-8053-49fe-aaab-2827173abf6e"
    },
    {
      "cell_type": "code",
      "execution_count": null,
      "metadata": {},
      "outputs": [],
      "source": [
        "from IPython.core.display import HTML \n",
        "HTML('<table border=\"1\" class=\"dataframe\">\\n  <thead>\\n    <tr style=\"text-align: right;\">\\n      <th></th>\\n      <th>A</th>\\n      <th>B</th>\\n    </tr>\\n  </thead>\\n  <tbody>\\n    <tr>\\n      <th>0</th>\\n      <td>1</td>\\n      <td>-2</td>\\n    </tr>\\n    <tr>\\n      <th>1</th>\\n      <td>2</td>\\n      <td>-3</td>\\n    </tr>\\n    <tr>\\n      <th>2</th>\\n      <td>3</td>\\n      <td>-4</td>\\n    </tr>\\n  </tbody>\\n</table>')"
      ],
      "id": "d8f559d7"
    },
    {
      "cell_type": "markdown",
      "metadata": {},
      "source": [
        "`(2)` Column을 이름을 X1, X2로 변경하라. 출력결과는 아래와 같아야 한다."
      ],
      "id": "9dc333da-68a1-484b-9375-f2cfdb2a67c7"
    },
    {
      "cell_type": "code",
      "execution_count": null,
      "metadata": {},
      "outputs": [],
      "source": [
        "from IPython.core.display import HTML \n",
        "HTML('<table border=\"1\" class=\"dataframe\">\\n  <thead>\\n    <tr style=\"text-align: right;\">\\n      <th></th>\\n      <th>X1</th>\\n      <th>X2</th>\\n    </tr>\\n  </thead>\\n  <tbody>\\n    <tr>\\n      <th>0</th>\\n      <td>1</td>\\n      <td>-2</td>\\n    </tr>\\n    <tr>\\n      <th>1</th>\\n      <td>2</td>\\n      <td>-3</td>\\n    </tr>\\n    <tr>\\n      <th>2</th>\\n      <td>3</td>\\n      <td>-4</td>\\n    </tr>\\n  </tbody>\\n</table>')"
      ],
      "id": "4bf25299"
    },
    {
      "cell_type": "markdown",
      "metadata": {},
      "source": [
        "`(3)-(5)` 아래와 같은 자료를 고려하자."
      ],
      "id": "120a4035-5897-454c-a603-c4ceadafc12d"
    },
    {
      "cell_type": "code",
      "execution_count": 129,
      "metadata": {},
      "outputs": [],
      "source": [
        "df = pd.DataFrame(np.random.normal(size=(100,5)),columns=list('ABCDE'))\n",
        "df"
      ],
      "id": "00c887d0"
    },
    {
      "cell_type": "markdown",
      "metadata": {},
      "source": [
        "`(3)` B,D열을 선택하라."
      ],
      "id": "4aba041e-997f-40fe-a11e-80628744a02f"
    },
    {
      "cell_type": "code",
      "execution_count": 130,
      "metadata": {},
      "outputs": [],
      "source": [
        "df.loc[:,['B','D']]"
      ],
      "id": "3e273c28-24c9-41f5-9448-169ed5896ede"
    },
    {
      "cell_type": "markdown",
      "metadata": {},
      "source": [
        "`(4)` 마지막 10개의 row를 출력하라."
      ],
      "id": "9d65525a-c768-4261-b4e0-7e2254c0358e"
    },
    {
      "cell_type": "code",
      "execution_count": 131,
      "metadata": {},
      "outputs": [],
      "source": [
        "df[-10:]"
      ],
      "id": "c4b60d47-d5fd-4c13-93a6-7f40e0596115"
    },
    {
      "cell_type": "markdown",
      "metadata": {},
      "source": [
        "`(5)` A,B 열의 처음 10개의 row를 출력하라."
      ],
      "id": "40642cd3-d7c0-4598-812c-e0275c4e53b9"
    },
    {
      "cell_type": "code",
      "execution_count": 133,
      "metadata": {},
      "outputs": [],
      "source": [
        "df.loc[:10,['A','B']]"
      ],
      "id": "46213a2d-b9f4-4f19-9a95-bf04305c7e73"
    },
    {
      "cell_type": "markdown",
      "metadata": {},
      "source": [
        "`(6)-(10)` 아래와 같은 자료를 고려하자."
      ],
      "id": "ca2bb713-400f-429d-ba82-a188488f7506"
    },
    {
      "cell_type": "code",
      "execution_count": 134,
      "metadata": {},
      "outputs": [],
      "source": [
        "df=pd.read_csv('https://raw.githubusercontent.com/PacktPublishing/Pandas-Cookbook/master/data/movie.csv')\n",
        "df"
      ],
      "id": "b42e10d7"
    },
    {
      "cell_type": "markdown",
      "metadata": {},
      "source": [
        "`(6)` 이 데이터프레임에는 몇개의 컬럼이 있는지 count하라."
      ],
      "id": "246cf4b1-3768-4a16-86b4-d2a3ffdbb976"
    },
    {
      "cell_type": "code",
      "execution_count": 137,
      "metadata": {},
      "outputs": [],
      "source": [
        "len(df.columns)"
      ],
      "id": "824856a0-3b78-49cd-9837-e495d164302e"
    },
    {
      "cell_type": "markdown",
      "metadata": {},
      "source": [
        "`(7)` 데이터프레임의 컬럼이름이 c혹은 d로 시작하는 열은 몇개 있는지\n",
        "세어보라."
      ],
      "id": "b1ded59b-65eb-4570-97d1-316071f832ab"
    },
    {
      "cell_type": "code",
      "execution_count": 141,
      "metadata": {},
      "outputs": [],
      "source": [
        "sum([l[0]=='c' or l[0]=='d' for l in df.columns])"
      ],
      "id": "602bec92-d4e0-48d6-85dd-24905c338996"
    },
    {
      "cell_type": "markdown",
      "metadata": {},
      "source": [
        "`(8)` c 혹은 d로 시작하는 열을 출력하라."
      ],
      "id": "96eb0a21-a337-4c29-9848-1098fff78884"
    },
    {
      "cell_type": "code",
      "execution_count": 146,
      "metadata": {},
      "outputs": [],
      "source": [
        "df.loc[:,[l[0]=='c' or l[0]=='d' for l in df.columns]]"
      ],
      "id": "d8d1af24-272e-4868-89d8-50009d9677a7"
    },
    {
      "cell_type": "markdown",
      "metadata": {},
      "source": [
        "`(9)` 이 데이터프레임에서 ’actor’라는 단어가 포함된 열의 출력하라."
      ],
      "id": "bff26222-5a26-4e18-b9b7-457159b3c549"
    },
    {
      "cell_type": "code",
      "execution_count": 153,
      "metadata": {},
      "outputs": [],
      "source": [
        "df.loc[:,['actor' in l for l in df.columns]]"
      ],
      "id": "be033865-fd56-4b18-9884-fce707079c4a"
    },
    {
      "cell_type": "markdown",
      "metadata": {},
      "source": [
        "`(10)` 이 데이터프레임에서 ’\\_’ 가 포함된 열을 출력하라."
      ],
      "id": "1c8c79e7-fb8d-41c7-9c77-fb54586298ca"
    }
  ],
  "nbformat": 4,
  "nbformat_minor": 5,
  "metadata": {
    "kernelspec": {
      "name": "python3",
      "display_name": "Python 3 (ipykernel)",
      "language": "python"
    },
    "language_info": {
      "name": "python",
      "codemirror_mode": {
        "name": "ipython",
        "version": "3"
      },
      "file_extension": ".py",
      "mimetype": "text/x-python",
      "nbconvert_exporter": "python",
      "pygments_lexer": "ipython3",
      "version": "3.10.12"
    }
  }
}