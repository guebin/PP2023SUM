{
  "cells": [
    {
      "cell_type": "markdown",
      "metadata": {},
      "source": [
        "# Lesson 08: pandas 공부 3단계\n",
        "\n",
        "최규빈  \n",
        "2023-07-24\n",
        "\n",
        "<a href=\"https://colab.research.google.com/github/guebin/PP2023SUM/blob/main/posts/Day1/03_Pandas/ls08.ipynb\"><img src=\"https://colab.research.google.com/assets/colab-badge.svg\" style=\"text-align: left\"></a>\n",
        "\n",
        "# imports"
      ],
      "id": "0e5524b1-0e92-453b-815a-e90364b30748"
    },
    {
      "cell_type": "code",
      "execution_count": 3,
      "metadata": {},
      "outputs": [],
      "source": [
        "import numpy as np\n",
        "import pandas as pd"
      ],
      "id": "0d527451-1e68-4cf4-a77d-f20fe9831983"
    },
    {
      "cell_type": "markdown",
      "metadata": {},
      "source": [
        "# pandas 공부 3단계: 필터링"
      ],
      "id": "1e696687-dce5-4bd0-94f9-82d788bcbf57"
    },
    {
      "cell_type": "code",
      "execution_count": 4,
      "metadata": {},
      "outputs": [],
      "source": [
        "np.random.seed(43052)\n",
        "att = np.random.choice(np.arange(10,21)*5,20)\n",
        "rep = np.random.choice(np.arange(5,21)*5,20)\n",
        "mid = np.random.choice(np.arange(0,21)*5,20)\n",
        "fin = np.random.choice(np.arange(0,21)*5,20)\n",
        "key = ['2022-12'+str(s) for s in np.random.choice(np.arange(300,501),20,replace=False)]\n",
        "df = pd.DataFrame({'att':att,'rep':rep,'mid':mid,'fin':fin},index=key)\n",
        "df.head()"
      ],
      "id": "816924c6-2c45-487a-a051-49bec9a706f9"
    },
    {
      "cell_type": "markdown",
      "metadata": {},
      "source": [
        "## query ($\\star$)\n",
        "\n",
        "`-` 예제1: att==90 and fin\\>30"
      ],
      "id": "beb62e47-97f4-479c-a8f5-aa9106597dd1"
    },
    {
      "cell_type": "code",
      "execution_count": 423,
      "metadata": {},
      "outputs": [],
      "source": [
        "df.query('att ==90 and fin >30')"
      ],
      "id": "4c6ccbc8-2c10-4e25-ad81-63ce539b0a7b"
    },
    {
      "cell_type": "markdown",
      "metadata": {},
      "source": [
        "`-` 예제2: att\\<rep and mid\\<fin"
      ],
      "id": "054f9ee0-6965-4ab9-87e8-03ae972b8261"
    },
    {
      "cell_type": "code",
      "execution_count": 424,
      "metadata": {},
      "outputs": [],
      "source": [
        "df.query('att<rep and mid<fin')"
      ],
      "id": "0c5f2af5-1c30-4d6f-911c-8d4c4ccd8a0c"
    },
    {
      "cell_type": "markdown",
      "metadata": {},
      "source": [
        "`-` 예제3: att \\< rep \\< 80"
      ],
      "id": "286f0e36-85d4-4ac3-a6f7-785ff5e45156"
    },
    {
      "cell_type": "code",
      "execution_count": 425,
      "metadata": {},
      "outputs": [],
      "source": [
        "df.query('att<rep<80')"
      ],
      "id": "8e273fc9-3c1c-423c-8e00-9d1143f21088"
    },
    {
      "cell_type": "markdown",
      "metadata": {},
      "source": [
        "`-` 예제4: 50 \\< att \\<= 90 and mid \\< fin"
      ],
      "id": "e1756cd3-2f0a-40ff-9d08-094b74423b53"
    },
    {
      "cell_type": "code",
      "execution_count": 426,
      "metadata": {},
      "outputs": [],
      "source": [
        "df.query('50<att<=90 and mid<fin')"
      ],
      "id": "3e143860-c657-4319-8bee-36ef0a830475"
    },
    {
      "cell_type": "markdown",
      "metadata": {},
      "source": [
        "`-` 예제5: (mid+fin)/2 \\>=60"
      ],
      "id": "e6f45a93-8f4e-46ca-bbcf-3d0e46f3db24"
    },
    {
      "cell_type": "code",
      "execution_count": 427,
      "metadata": {},
      "outputs": [],
      "source": [
        "df.query('(mid+fin)/2>=60')"
      ],
      "id": "c42df76d-b867-431e-8373-82c227464996"
    },
    {
      "cell_type": "markdown",
      "metadata": {},
      "source": [
        "`-` 예제6: att \\> mean(att)"
      ],
      "id": "8886d170-e7f7-4dfb-a704-3166402269dd"
    },
    {
      "cell_type": "code",
      "execution_count": 428,
      "metadata": {},
      "outputs": [],
      "source": [
        "_mean = df['att'].mean() \n",
        "_mean "
      ],
      "id": "0f7d3245-110e-4775-a618-cbfca1d31738"
    },
    {
      "cell_type": "code",
      "execution_count": 429,
      "metadata": {},
      "outputs": [],
      "source": [
        "df.query('att> @_mean')"
      ],
      "id": "cd0b66b0-1dc6-4304-95e8-7d27fbf9a770"
    },
    {
      "cell_type": "markdown",
      "metadata": {},
      "source": [
        "## query 사용금지"
      ],
      "id": "bbd1da02-3a5d-4f1f-a9bf-578ee3fa9cbc"
    }
  ],
  "nbformat": 4,
  "nbformat_minor": 5,
  "metadata": {
    "kernelspec": {
      "name": "python3",
      "display_name": "Python 3 (ipykernel)",
      "language": "python"
    },
    "language_info": {
      "name": "python",
      "codemirror_mode": {
        "name": "ipython",
        "version": "3"
      },
      "file_extension": ".py",
      "mimetype": "text/x-python",
      "nbconvert_exporter": "python",
      "pygments_lexer": "ipython3",
      "version": "3.10.12"
    }
  }
}