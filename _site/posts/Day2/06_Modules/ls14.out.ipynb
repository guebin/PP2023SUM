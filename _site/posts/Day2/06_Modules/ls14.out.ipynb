{
  "cells": [
    {
      "cell_type": "markdown",
      "metadata": {},
      "source": [
        "# Lesson 14: re, datatime, heapq, bisect\n",
        "\n",
        "최규빈  \n",
        "2023-07-25\n",
        "\n",
        "# re"
      ],
      "id": "89c63f06-8880-4fef-a07a-2b38c72f3cc4"
    },
    {
      "cell_type": "code",
      "execution_count": 39,
      "metadata": {},
      "outputs": [],
      "source": [
        "import re"
      ],
      "id": "305fc87e-a0d8-4c60-a78a-088029c7b828"
    },
    {
      "cell_type": "code",
      "execution_count": 41,
      "metadata": {},
      "outputs": [],
      "source": [
        "re.sub('[-:/ ]','',\"2023-07/23 12:30:45\")"
      ],
      "id": "0a6ac2bf-6647-49ff-9a3b-3ceb506596ec"
    },
    {
      "cell_type": "markdown",
      "metadata": {},
      "source": [
        "# datetime"
      ],
      "id": "35442972-c6e9-454f-bea4-6f1b62e51ffc"
    },
    {
      "cell_type": "code",
      "execution_count": 42,
      "metadata": {},
      "outputs": [],
      "source": [
        "import datetime"
      ],
      "id": "23cbf86c-cb42-487c-aee8-8a8b318112b4"
    },
    {
      "cell_type": "markdown",
      "metadata": {},
      "source": [
        "`-` 날짜의 선언"
      ],
      "id": "21168588-2673-4aa1-bc68-259d51547c3a"
    },
    {
      "cell_type": "code",
      "execution_count": 43,
      "metadata": {},
      "outputs": [],
      "source": [
        "day1 = datetime.date(2019, 12, 14)\n",
        "day1"
      ],
      "id": "ac8cee2b-e07a-4666-b594-80a781d6addf"
    },
    {
      "cell_type": "code",
      "execution_count": 45,
      "metadata": {},
      "outputs": [],
      "source": [
        "day2 = datetime.date(2021, 6, 5)\n",
        "day2"
      ],
      "id": "643006a1-a91c-448d-8ea7-396526fe7b69"
    },
    {
      "cell_type": "markdown",
      "metadata": {},
      "source": [
        "`-` 차이를 알아보자."
      ],
      "id": "f4ee829d-cf10-4253-9f1f-203aaec1543e"
    },
    {
      "cell_type": "code",
      "execution_count": 46,
      "metadata": {},
      "outputs": [],
      "source": [
        "day2-day1"
      ],
      "id": "75c7c4cc-489b-43ef-be78-72c2449e701d"
    },
    {
      "cell_type": "markdown",
      "metadata": {},
      "source": [
        "`-` 요일을 알아보자."
      ],
      "id": "c45affab-fd85-4a75-a9eb-8b9c53963883"
    },
    {
      "cell_type": "code",
      "execution_count": 52,
      "metadata": {},
      "outputs": [],
      "source": [
        "day1.weekday()"
      ],
      "id": "28016794-0e70-4d56-96af-c40b7d6881c7"
    },
    {
      "cell_type": "markdown",
      "metadata": {},
      "source": [
        "`-` 응용"
      ],
      "id": "a2866d7b-488d-4d2d-a8c8-deee128fbdb6"
    },
    {
      "cell_type": "code",
      "execution_count": 62,
      "metadata": {},
      "outputs": [],
      "source": [
        "tdy = datetime.date.today()\n",
        "tdy"
      ],
      "id": "5ddaa0c6-e5bd-4138-bf0b-be4e51771c1c"
    },
    {
      "cell_type": "code",
      "execution_count": 63,
      "metadata": {},
      "outputs": [],
      "source": [
        "diff = datetime.timedelta(days=1)"
      ],
      "id": "c8fe9af2-bed6-48eb-ac40-0d69b4ac3cd1"
    },
    {
      "cell_type": "code",
      "execution_count": 64,
      "metadata": {},
      "outputs": [],
      "source": [
        "tdy + diff "
      ],
      "id": "f453edbc-e66d-4868-ba55-026d5778501a"
    },
    {
      "cell_type": "markdown",
      "metadata": {},
      "source": [
        "# heapq\n",
        "\n",
        "# bisect\n",
        "\n",
        "# time"
      ],
      "id": "f30f8a06-3894-460d-bac3-4114800897aa"
    }
  ],
  "nbformat": 4,
  "nbformat_minor": 5,
  "metadata": {
    "kernelspec": {
      "name": "python3",
      "display_name": "Python 3 (ipykernel)",
      "language": "python"
    },
    "language_info": {
      "name": "python",
      "codemirror_mode": {
        "name": "ipython",
        "version": "3"
      },
      "file_extension": ".py",
      "mimetype": "text/x-python",
      "nbconvert_exporter": "python",
      "pygments_lexer": "ipython3",
      "version": "3.10.12"
    }
  }
}