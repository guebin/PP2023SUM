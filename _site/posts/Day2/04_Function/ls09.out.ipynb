{
  "cells": [
    {
      "cell_type": "markdown",
      "metadata": {},
      "source": [
        "# Lesson 09: 내장함수, lambda, 데코레이터\n",
        "\n",
        "최규빈  \n",
        "2023-07-25\n",
        "\n",
        "# 내장함수\n",
        "\n",
        "`-` sum,min,max"
      ],
      "id": "4083cc87-6005-49c3-b6cd-aae617a22fc4"
    },
    {
      "cell_type": "code",
      "execution_count": 5,
      "metadata": {},
      "outputs": [],
      "source": [
        "sum([1,2,3]),min([1,2,3]),max([1,2,3])"
      ],
      "id": "9bf13d1b-5fc4-4c9c-a92a-48fb4a95c9ac"
    },
    {
      "cell_type": "code",
      "execution_count": 9,
      "metadata": {},
      "outputs": [],
      "source": [
        "min('abc'),max('abc')"
      ],
      "id": "d00269b3-21e1-401a-b93d-3a27bd979202"
    },
    {
      "cell_type": "markdown",
      "metadata": {},
      "source": [
        "`-` eval:"
      ],
      "id": "ea26be33-29ce-4d8b-8cd5-0e2638361551"
    },
    {
      "cell_type": "code",
      "execution_count": 13,
      "metadata": {},
      "outputs": [],
      "source": [
        "eval(\"(1-1)*6\")"
      ],
      "id": "7549ef3a-02f1-4943-8edd-e1821e781147"
    },
    {
      "cell_type": "code",
      "execution_count": 14,
      "metadata": {},
      "outputs": [],
      "source": [
        "eval(\"'a'+'b'\")"
      ],
      "id": "24e5a475-bd8b-4135-bdab-810f979a734d"
    },
    {
      "cell_type": "code",
      "execution_count": 15,
      "metadata": {},
      "outputs": [],
      "source": [
        "eval(\"[1,2,3]+[4]\")"
      ],
      "id": "172202c9-d615-4306-8020-e4388ee35a3f"
    },
    {
      "cell_type": "code",
      "execution_count": 38,
      "metadata": {},
      "outputs": [],
      "source": [
        "import numpy as np\n",
        "eval(\"np.array([1,2,3])+1\")"
      ],
      "id": "3bef9ce9-05a5-4274-b46f-76c11c02668e"
    },
    {
      "cell_type": "markdown",
      "metadata": {},
      "source": [
        "`-` sorted"
      ],
      "id": "840a7fc4-3cdf-4aad-8d7f-c7de8daf39a1"
    },
    {
      "cell_type": "code",
      "execution_count": 20,
      "metadata": {},
      "outputs": [],
      "source": [
        "sorted([1,2,4,3])"
      ],
      "id": "b82d41d6-6bb6-461a-94f4-3a51a3fecfdf"
    },
    {
      "cell_type": "code",
      "execution_count": 25,
      "metadata": {},
      "outputs": [],
      "source": [
        "a=[1,2,4,3]\n",
        "a.sort()\n",
        "a"
      ],
      "id": "83f352cc-a27f-4646-83f3-f222a4663e74"
    },
    {
      "cell_type": "code",
      "execution_count": 21,
      "metadata": {},
      "outputs": [],
      "source": [
        "sorted([1,2,4,3],reverse=True)"
      ],
      "id": "5b7f7f8e-8773-440b-af79-2b41e8c85e88"
    },
    {
      "cell_type": "markdown",
      "metadata": {},
      "source": [
        "`-` all, any"
      ],
      "id": "331974ad-d99a-420b-bc3b-e64048d18c3b"
    },
    {
      "cell_type": "code",
      "execution_count": 26,
      "metadata": {},
      "outputs": [],
      "source": [
        "all([True,False,True,False])"
      ],
      "id": "705a7391-e1d5-4511-b1cb-f5dcad46d11d"
    },
    {
      "cell_type": "code",
      "execution_count": 28,
      "metadata": {},
      "outputs": [],
      "source": [
        "any([True,False,True,False])"
      ],
      "id": "c403fc03-f75c-4597-95ad-b9951493cc60"
    },
    {
      "cell_type": "markdown",
      "metadata": {},
      "source": [
        "# lambda\n",
        "\n",
        "`-` 예제1: 람다표현식(lambda expression)자체가 하나의 오브젝트임"
      ],
      "id": "3f4e142e-9a72-470d-9bc0-4318d55dc407"
    },
    {
      "cell_type": "code",
      "execution_count": 2,
      "metadata": {
        "vscode": {
          "languageId": "python"
        }
      },
      "outputs": [],
      "source": [
        "lambda x: (x-2)**2 ### lambda x: (x-2)**2 가 실행되는 순간 메모리상에 함수 오브젝트가 저장됨 "
      ],
      "id": "6e447590-252a-4a83-950c-128991cdc854"
    },
    {
      "cell_type": "markdown",
      "metadata": {},
      "source": [
        "-   “lambda x: (x-2)\\*\\*2” 는 $lambda(x)=(x-2)^2$의 느낌으로 기억하면\n",
        "    쉬움\n",
        "\n",
        "**(사용방법)**"
      ],
      "id": "b17d1f66-df9f-46ce-b47b-5dd8e7377563"
    },
    {
      "cell_type": "code",
      "execution_count": 192,
      "metadata": {
        "vscode": {
          "languageId": "python"
        }
      },
      "outputs": [],
      "source": [
        "(lambda x: (x-2)**2)(2) # 입력2 -> 출력 (2-2)^2 =0 "
      ],
      "id": "5a157c3b-4df6-4744-898d-2101d8261ea4"
    },
    {
      "cell_type": "code",
      "execution_count": 10,
      "metadata": {
        "vscode": {
          "languageId": "python"
        }
      },
      "outputs": [],
      "source": [
        "(lambda x: (x-2)**2)(5) # 입력5 -> 출력 (5-2)^2 =9"
      ],
      "id": "48e29f60-baeb-49b3-a75d-49d968715cfe"
    },
    {
      "cell_type": "code",
      "execution_count": 11,
      "metadata": {
        "vscode": {
          "languageId": "python"
        }
      },
      "outputs": [],
      "source": [
        "(lambda x: (x-2)**2)(6) # 입력6 -> 출력 (6-2)^2 =16"
      ],
      "id": "cab5f80d-7469-4658-9cf5-85718887d02a"
    },
    {
      "cell_type": "code",
      "execution_count": 12,
      "metadata": {
        "vscode": {
          "languageId": "python"
        }
      },
      "outputs": [],
      "source": [
        "(lambda x: (x-2)**2)(-2) # 입력-2 -> 출력 (-2-2)^2 =16"
      ],
      "id": "f70ae45b-8be4-4b1a-88a0-47668d26b6e2"
    },
    {
      "cell_type": "markdown",
      "metadata": {},
      "source": [
        "**Quiz**\n",
        "\n",
        "$f(x)=\\sqrt{x}$ 를 수행하는 함수를 lambda를 이용하여 구성하라.\n",
        "\n",
        "`-` 예제2: 람다표현식에 이름을 줄 수 있음."
      ],
      "id": "42a19ce7-47ce-4ccc-958e-048bedc763b9"
    },
    {
      "cell_type": "code",
      "execution_count": 196,
      "metadata": {
        "vscode": {
          "languageId": "python"
        }
      },
      "outputs": [],
      "source": [
        "f = lambda x: (x-2)**2"
      ],
      "id": "aba0cbaa-68d7-4992-9af5-d0a141564d37"
    },
    {
      "cell_type": "code",
      "execution_count": 197,
      "metadata": {
        "vscode": {
          "languageId": "python"
        }
      },
      "outputs": [],
      "source": [
        "f(2),f(4),f(6),f(-2)"
      ],
      "id": "9433c9a1-0852-459d-978f-2ce4ac6507cb"
    },
    {
      "cell_type": "markdown",
      "metadata": {},
      "source": [
        "위의 코드는 아래와 같다."
      ],
      "id": "06be2836-2cca-431b-a8a6-c89b619c20c7"
    },
    {
      "cell_type": "code",
      "execution_count": 198,
      "metadata": {
        "vscode": {
          "languageId": "python"
        }
      },
      "outputs": [],
      "source": [
        "def f(x):\n",
        "    return (x-2)**2\n",
        "f(2),f(4),f(6),f(-2)"
      ],
      "id": "661bafbb-9490-48f4-9d17-c466e259c1f5"
    },
    {
      "cell_type": "markdown",
      "metadata": {},
      "source": [
        "`-` 예제3: 조건부 출력"
      ],
      "id": "36ac75fb-ccb8-4720-9a01-4ae27160cd0a"
    },
    {
      "cell_type": "code",
      "execution_count": 32,
      "metadata": {
        "vscode": {
          "languageId": "python"
        }
      },
      "outputs": [],
      "source": [
        "f = lambda x,y: x if x>y else y # x,y가 입력 -> x>y 일때만 x를 리턴하고 그렇지않으면 y를 리턴 = 큰값을 리턴하라는 소리임 "
      ],
      "id": "09eaa929-5cf4-4a71-aa45-89e4793c91dd"
    },
    {
      "cell_type": "code",
      "execution_count": 33,
      "metadata": {
        "vscode": {
          "languageId": "python"
        }
      },
      "outputs": [],
      "source": [
        "f(1,20)"
      ],
      "id": "386143ec-8ab7-45f4-b2cf-eed41815c973"
    },
    {
      "cell_type": "markdown",
      "metadata": {},
      "source": [
        "**Quiz**\n",
        "\n",
        "임의의 알파벳 문자열을 입력으로 하고, 알파벳이 대문자이면 “대문자\n",
        "입니다”를 출력하고 소문자이면 “소문자 입니다”를 출력하는 함수를\n",
        "구성하라.\n",
        "\n",
        "(힌트) 아래코드 이용"
      ],
      "id": "1ff396a4-58d1-48b4-b157-cec417b5cea6"
    },
    {
      "cell_type": "code",
      "execution_count": 54,
      "metadata": {
        "vscode": {
          "languageId": "python"
        }
      },
      "outputs": [],
      "source": [
        "'a'.isupper()"
      ],
      "id": "4b62961f-2d31-4912-a018-ac319f5cbae0"
    },
    {
      "cell_type": "markdown",
      "metadata": {},
      "source": [
        "`-` 예제4: 람다표현식들의 리스트"
      ],
      "id": "d025d160-4383-4ce9-bfdb-b1a0369e5586"
    },
    {
      "cell_type": "code",
      "execution_count": 67,
      "metadata": {
        "vscode": {
          "languageId": "python"
        }
      },
      "outputs": [],
      "source": [
        "fl = [lambda x: x, lambda x: x**2, lambda x: x**3]"
      ],
      "id": "0a7d5549-3b75-44ad-9977-235d88cd3a88"
    },
    {
      "cell_type": "code",
      "execution_count": 102,
      "metadata": {
        "vscode": {
          "languageId": "python"
        }
      },
      "outputs": [
        {
          "output_type": "stream",
          "name": "stdout",
          "text": [
            "2\n",
            "4\n",
            "8"
          ]
        }
      ],
      "source": [
        "for f in fl: \n",
        "    print(f(2))"
      ],
      "id": "57d70fb1-9e85-4576-af4b-58d31ef5b35d"
    },
    {
      "cell_type": "code",
      "execution_count": 92,
      "metadata": {
        "vscode": {
          "languageId": "python"
        }
      },
      "outputs": [
        {
          "output_type": "display_data",
          "metadata": {},
          "data": {
            "image/png": "[encoded data removed]"
          }
        }
      ],
      "source": [
        "x = np.linspace(-1,1,100)\n",
        "for f in fl:\n",
        "    plt.plot(x,f(x),'--') "
      ],
      "id": "b30f6478-713a-40e2-a3ac-f6a1a75d7a2c"
    },
    {
      "cell_type": "markdown",
      "metadata": {},
      "source": [
        "`-` 예제5: 람다표현식들의 딕셔너리"
      ],
      "id": "006aee1d-9d61-4db9-9859-b3abf2d5d3c0"
    },
    {
      "cell_type": "code",
      "execution_count": 115,
      "metadata": {
        "vscode": {
          "languageId": "python"
        }
      },
      "outputs": [],
      "source": [
        "fd = {'f1':lambda x: x, 'f2':lambda x: x**2, 'f3':lambda x: x**3}\n",
        "fd"
      ],
      "id": "b3f6156f-9e86-475c-b55a-4b3c02d9c2d3"
    },
    {
      "cell_type": "code",
      "execution_count": 121,
      "metadata": {
        "vscode": {
          "languageId": "python"
        }
      },
      "outputs": [
        {
          "output_type": "display_data",
          "metadata": {},
          "data": {
            "image/png": "[encoded data removed]"
          }
        }
      ],
      "source": [
        "for k in fd:\n",
        "    plt.plot(x,fd[k](x),'--')"
      ],
      "id": "e18ab47e-9c32-4b4f-87fd-b9332abc1ca1"
    },
    {
      "cell_type": "markdown",
      "metadata": {},
      "source": [
        "`-` 예제6: 람다표현식을 리턴하는 함수 (함수를 리턴하는 함수)\n",
        "\n",
        "(예비학습) 함수 $g(x)$가 정의되어 있을때 $\\frac{d}{dx}g(x)$의 값을\n",
        "계산해보기"
      ],
      "id": "d06fcd44-56b0-4d2b-b469-941064f52eaa"
    },
    {
      "cell_type": "code",
      "execution_count": 132,
      "metadata": {
        "vscode": {
          "languageId": "python"
        }
      },
      "outputs": [],
      "source": [
        "g = lambda x: x**2 "
      ],
      "id": "3725ecc5-4a9b-42f5-b8b5-48753bec0fb6"
    },
    {
      "cell_type": "code",
      "execution_count": 133,
      "metadata": {
        "vscode": {
          "languageId": "python"
        }
      },
      "outputs": [],
      "source": [
        "gg = lambda x : (g(x+0.001)-g(x))/0.001"
      ],
      "id": "0c146d8c-a502-4e47-917f-806a61b8444e"
    },
    {
      "cell_type": "code",
      "execution_count": 134,
      "metadata": {
        "vscode": {
          "languageId": "python"
        }
      },
      "outputs": [],
      "source": [
        "gg(4)"
      ],
      "id": "5e25abf2-cd16-42a9-b2d8-44af9a09ae8a"
    },
    {
      "cell_type": "markdown",
      "metadata": {},
      "source": [
        "(목표) 도함수를 구해주는 `derivate` 함수를 정의하자. 이 함수는 임의의\n",
        "함수 g를 입력으로 받으면, g의 도함수(gg)가 리턴되는 기능을 가진다."
      ],
      "id": "b8ab8773-5358-4437-a074-02fec01ab542"
    },
    {
      "cell_type": "code",
      "execution_count": 135,
      "metadata": {
        "vscode": {
          "languageId": "python"
        }
      },
      "outputs": [],
      "source": [
        "def derivate(g):\n",
        "    return lambda x : (g(x+0.001)-g(x))/0.001"
      ],
      "id": "6bedae08-269d-4f71-8d17-8f29c94a7504"
    },
    {
      "cell_type": "markdown",
      "metadata": {},
      "source": [
        "(사용1)"
      ],
      "id": "5c4a7866-5a11-4c85-833b-e6180207378f"
    },
    {
      "cell_type": "code",
      "execution_count": 129,
      "metadata": {
        "vscode": {
          "languageId": "python"
        }
      },
      "outputs": [],
      "source": [
        "gg = derivate(g) "
      ],
      "id": "b91d8f40-27ab-400d-9f52-fd986d7aad41"
    },
    {
      "cell_type": "code",
      "execution_count": 212,
      "metadata": {
        "vscode": {
          "languageId": "python"
        }
      },
      "outputs": [],
      "source": [
        "x = np.linspace(0,6.28,1000) "
      ],
      "id": "ead162ab-31ae-49c3-8170-f190a52b33d8"
    },
    {
      "cell_type": "code",
      "execution_count": 1,
      "metadata": {
        "vscode": {
          "languageId": "python"
        }
      },
      "outputs": [],
      "source": [
        "plt.plot(x,g(x),label=r'$g(x)=sin(x)$')\n",
        "plt.plot(x,gg(x),label=r'$\\frac{d}{dx}g(x)=cos(x)$')\n",
        "plt.legend(fontsize=15)"
      ],
      "id": "2ea2629f-f82f-4142-bf76-54de569c211b"
    },
    {
      "cell_type": "markdown",
      "metadata": {},
      "source": [
        "(사용2)"
      ],
      "id": "66159d7b-996c-4dc9-bc12-cf960317bbc6"
    },
    {
      "cell_type": "code",
      "execution_count": 146,
      "metadata": {
        "vscode": {
          "languageId": "python"
        }
      },
      "outputs": [],
      "source": [
        "g0 = lambda x: (1/6)*x**3\n",
        "g1 = derivate(g0) # (1/2)x^2 \n",
        "g2 = derivate(g1) # x "
      ],
      "id": "1a77c458-2f7f-4deb-b71f-2cacbff42d57"
    },
    {
      "cell_type": "code",
      "execution_count": 147,
      "metadata": {
        "vscode": {
          "languageId": "python"
        }
      },
      "outputs": [
        {
          "output_type": "display_data",
          "metadata": {},
          "data": {
            "image/png": "[encoded data removed]"
          }
        }
      ],
      "source": [
        "x = np.linspace(-1,1,100)\n",
        "plt.plot(x,g0(x),'--',label=r'$g_0(x)=\\frac{1}{6}x^3$')\n",
        "plt.plot(x,g1(x),'--',label=r'$g_1(x)=\\frac{1}{2}x^2$')\n",
        "plt.plot(x,g2(x),'--',label=r'$g_2(x)=x$')\n",
        "plt.legend(fontsize=15)"
      ],
      "id": "2e4a91cd-544e-4ea6-80f5-d28002c4726f"
    },
    {
      "cell_type": "markdown",
      "metadata": {},
      "source": [
        "`-` 예제7: 예제6의 다른표현"
      ],
      "id": "7685d6d2-1bc4-4455-818f-ff0dfa42e6d4"
    },
    {
      "cell_type": "code",
      "execution_count": 148,
      "metadata": {
        "vscode": {
          "languageId": "python"
        }
      },
      "outputs": [],
      "source": [
        "derivate = lambda g: lambda x : (g(x+0.001)-g(x))/0.001"
      ],
      "id": "a82a07ef-4ac7-4d0a-9901-67e46602cb27"
    },
    {
      "cell_type": "markdown",
      "metadata": {},
      "source": [
        "(사용1)"
      ],
      "id": "1b709a4b-32b6-4927-a59e-0145afd0b8d7"
    },
    {
      "cell_type": "code",
      "execution_count": 149,
      "metadata": {
        "vscode": {
          "languageId": "python"
        }
      },
      "outputs": [],
      "source": [
        "g = lambda x: np.sin(x) "
      ],
      "id": "880d825d-b215-4cc7-b105-304bdc9b9a92"
    },
    {
      "cell_type": "code",
      "execution_count": 150,
      "metadata": {
        "vscode": {
          "languageId": "python"
        }
      },
      "outputs": [],
      "source": [
        "gg = derivate(g) "
      ],
      "id": "4f78e6a7-6359-4bfd-b0ed-0642abd0e6a2"
    },
    {
      "cell_type": "code",
      "execution_count": 151,
      "metadata": {
        "vscode": {
          "languageId": "python"
        }
      },
      "outputs": [],
      "source": [
        "x = np.linspace(0,6.28,1000) "
      ],
      "id": "d22534c7-fddc-4053-beec-a2ce5edd4f2a"
    },
    {
      "cell_type": "code",
      "execution_count": 152,
      "metadata": {
        "vscode": {
          "languageId": "python"
        }
      },
      "outputs": [
        {
          "output_type": "display_data",
          "metadata": {},
          "data": {
            "image/png": "[encoded data removed]"
          }
        }
      ],
      "source": [
        "plt.plot(x,g(x),label=r'$f(x)=sin(x)$')\n",
        "plt.plot(x,gg(x),label=r'$\\frac{d}{dx}f(x)=cos(x)$')\n",
        "plt.legend(fontsize=15)"
      ],
      "id": "be1ccbe9-2530-40a0-920a-a64a23f49a5c"
    },
    {
      "cell_type": "markdown",
      "metadata": {},
      "source": [
        "(사용2)"
      ],
      "id": "423fba70-02ac-4ba3-ad7d-32ce34ed84ef"
    },
    {
      "cell_type": "code",
      "execution_count": 153,
      "metadata": {
        "vscode": {
          "languageId": "python"
        }
      },
      "outputs": [],
      "source": [
        "g0 = lambda x: (1/6)*x**3\n",
        "g1 = derivate(g0) # (1/2)x^2 \n",
        "g2 = derivate(g1) # x "
      ],
      "id": "fc2f6c43-3c41-4ab6-aa5a-91235998a33f"
    },
    {
      "cell_type": "code",
      "execution_count": 154,
      "metadata": {
        "vscode": {
          "languageId": "python"
        }
      },
      "outputs": [
        {
          "output_type": "display_data",
          "metadata": {},
          "data": {
            "image/png": "[encoded data removed]"
          }
        }
      ],
      "source": [
        "x = np.linspace(-1,1,100)\n",
        "plt.plot(x,g0(x),'--',label=r'$g_0(x)=\\frac{1}{6}x^3$')\n",
        "plt.plot(x,g1(x),'--',label=r'$g_1(x)=\\frac{1}{2}x^2$')\n",
        "plt.plot(x,g2(x),'--',label=r'$g_2(x)=x$')\n",
        "plt.legend(fontsize=15)"
      ],
      "id": "c94284a8-4d1e-4484-8d76-3b619e46df64"
    },
    {
      "cell_type": "markdown",
      "metadata": {},
      "source": [
        "# 데코레이터\n",
        "\n",
        "`-` 예제1: 함수를 모듈화"
      ],
      "id": "17f76ac2-d11c-47f9-8d3c-92cbd43dc008"
    },
    {
      "cell_type": "code",
      "execution_count": 24,
      "metadata": {},
      "outputs": [],
      "source": [
        "derivate = lambda g: lambda x : (g(x+0.001)-g(x))/0.001"
      ],
      "id": "2378af55-1b5d-41dc-be9d-469e77e63c08"
    },
    {
      "cell_type": "code",
      "execution_count": 25,
      "metadata": {},
      "outputs": [],
      "source": [
        "def f(x):\n",
        "    return x**2\n",
        "f(3)"
      ],
      "id": "cbeda9eb-5172-4178-bbac-7773a9368b25"
    },
    {
      "cell_type": "code",
      "execution_count": 26,
      "metadata": {},
      "outputs": [],
      "source": [
        "@derivate\n",
        "def f(x):\n",
        "    return x**2\n",
        "f(3)"
      ],
      "id": "504b967e-84db-4bbb-ba8e-e5cf34ec70fe"
    },
    {
      "cell_type": "markdown",
      "metadata": {},
      "source": [
        "`-` 예제2:"
      ],
      "id": "fdb4747a-2a52-4cc4-9207-b07c419716f4"
    }
  ],
  "nbformat": 4,
  "nbformat_minor": 5,
  "metadata": {
    "kernelspec": {
      "name": "python3",
      "display_name": "Python 3 (ipykernel)",
      "language": "python"
    },
    "language_info": {
      "name": "python",
      "codemirror_mode": {
        "name": "ipython",
        "version": "3"
      },
      "file_extension": ".py",
      "mimetype": "text/x-python",
      "nbconvert_exporter": "python",
      "pygments_lexer": "ipython3",
      "version": "3.10.12"
    }
  }
}