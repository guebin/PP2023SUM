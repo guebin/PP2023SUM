{
  "cells": [
    {
      "cell_type": "markdown",
      "metadata": {},
      "source": [
        "# Lesson 13: 데이터 전처리\n",
        "\n",
        "최규빈  \n",
        "2023-07-25\n",
        "\n",
        "<a href=\"https://colab.research.google.com/github/guebin/IP2023WIN/blob/main/posts/Day2/06_Functions, ControlFlow/2023-01-31-Lesson13.ipynb\"><img src=\"https://colab.research.google.com/assets/colab-badge.svg\" style=\"text-align: left\"></a>\n",
        "\n",
        "# ref\n",
        "\n",
        "<https://guebin.github.io/DV2022/posts/2022-10-24-8wk-12.html#fifa23-데이터분석>\n",
        "\n",
        "# imports"
      ],
      "id": "4f353fb2-935a-42f4-aea1-382918eb84e9"
    },
    {
      "cell_type": "code",
      "execution_count": 1,
      "metadata": {
        "vscode": {
          "languageId": "python"
        }
      },
      "outputs": [],
      "source": [
        "import pandas as pd"
      ],
      "id": "b92decca-f58b-428d-a56f-e5aee15ce990"
    },
    {
      "cell_type": "markdown",
      "metadata": {},
      "source": [
        "# FIFA23 데이터분석\n",
        "\n",
        "## FIFA23 data\n",
        "\n",
        "`-` FIFA23라는 축구게임이 있음\n",
        "\n",
        "`-` 게임에 실제 선수들이 나오면서 선수들의 능력치가 세밀하게 구현되어\n",
        "있음\n",
        "\n",
        "`-` 선수들 능력치에 대한 데이터셋은 캐글에 공개되어 있음 -\n",
        "https://www.kaggle.com/datasets/bryanb/fifa-player-stats-database?select=FIFA23_official_data.csv\n",
        "\n",
        "## 데이터살펴보기\n",
        "\n",
        "`-` 일단 살펴보기"
      ],
      "id": "35bbae0f-866d-4092-93f1-8a8d1006bf22"
    },
    {
      "cell_type": "code",
      "execution_count": 2,
      "metadata": {
        "vscode": {
          "languageId": "python"
        }
      },
      "outputs": [],
      "source": [
        "df=pd.read_csv('https://raw.githubusercontent.com/guebin/DV2022/master/posts/FIFA23_official_data.csv')\n",
        "df.head()"
      ],
      "id": "3404a44f-0fae-4c62-b7dd-4b531e37bee6"
    },
    {
      "cell_type": "markdown",
      "metadata": {},
      "source": [
        "트랜스포즈하여 보는 것이 편할때도 있음"
      ],
      "id": "af98738a-97da-4225-a522-205e81437752"
    },
    {
      "cell_type": "code",
      "execution_count": 3,
      "metadata": {
        "vscode": {
          "languageId": "python"
        }
      },
      "outputs": [],
      "source": [
        "df.T"
      ],
      "id": "f82cac31-ec90-4ebc-80cb-712d3c6ae8fe"
    },
    {
      "cell_type": "markdown",
      "metadata": {},
      "source": [
        "`-` column이름조사"
      ],
      "id": "4c0bd2c5-2ce2-4f87-ae11-5f038292614f"
    },
    {
      "cell_type": "code",
      "execution_count": 4,
      "metadata": {
        "vscode": {
          "languageId": "python"
        }
      },
      "outputs": [],
      "source": [
        "df.keys()"
      ],
      "id": "9fab7612-8ef6-4e36-b85e-ed51012cb044"
    },
    {
      "cell_type": "markdown",
      "metadata": {},
      "source": [
        "-   이름에 space가 있어서 좀 거슬림\n",
        "\n",
        "**Quiz** column이름에 space를 제거할 수 있을까?\n",
        "\n",
        "`-` 각 column 별로 자료형조사"
      ],
      "id": "3063189e-0819-4180-adad-f47d7a234493"
    },
    {
      "cell_type": "code",
      "execution_count": 7,
      "metadata": {
        "vscode": {
          "languageId": "python"
        }
      },
      "outputs": [],
      "source": [
        "df.ID"
      ],
      "id": "dbbcb704-b42a-4f63-9aca-4c861dac1fe5"
    },
    {
      "cell_type": "code",
      "execution_count": 9,
      "metadata": {
        "vscode": {
          "languageId": "python"
        }
      },
      "outputs": [],
      "source": [
        "df.ID.dtype"
      ],
      "id": "0da4198c-9ecc-495b-b99a-c39cc876ce57"
    },
    {
      "cell_type": "markdown",
      "metadata": {},
      "source": [
        "**Quiz** 각 컬럼별로 자료형을 조사할 수 있을까?\n",
        "\n",
        "`-` 결측치조사"
      ],
      "id": "cfe08832-6ad9-46ee-9f80-d53d1ee4a057"
    },
    {
      "cell_type": "code",
      "execution_count": 11,
      "metadata": {
        "vscode": {
          "languageId": "python"
        }
      },
      "outputs": [],
      "source": [
        "df.Club "
      ],
      "id": "a4e6ea1a-e85b-4d99-a893-77a52f924a0b"
    },
    {
      "cell_type": "markdown",
      "metadata": {},
      "source": [
        "-   무소속인 선수도 있지 않나?\n",
        "\n",
        "(예비학습)"
      ],
      "id": "8e155d1f-200d-4bc2-bb34-838351d36e95"
    },
    {
      "cell_type": "code",
      "execution_count": 17,
      "metadata": {
        "vscode": {
          "languageId": "python"
        }
      },
      "outputs": [],
      "source": [
        "pd.Series([1,2,None,2,3]).isna()"
      ],
      "id": "a21ccfb4-90a6-4064-acf0-ba0465401bcc"
    },
    {
      "cell_type": "markdown",
      "metadata": {},
      "source": [
        "예비학습 끝"
      ],
      "id": "060073f1-b95e-46c5-a3eb-7903a401efa3"
    },
    {
      "cell_type": "code",
      "execution_count": 18,
      "metadata": {
        "vscode": {
          "languageId": "python"
        }
      },
      "outputs": [],
      "source": [
        "df.Club.isna().sum() # 무소속인 선수는 211명 "
      ],
      "id": "107867a1-4681-4094-857a-7efecdf9536c"
    },
    {
      "cell_type": "markdown",
      "metadata": {},
      "source": [
        "**Quiz** 각 컬럼별로 결측시의 수를 조사할 수 있을까?\n",
        "\n",
        "**Quiz** 각 col별로 자료형과 결측치의 수를 조사한 표를 얻을 수 있을까?"
      ],
      "id": "5397321d-ef13-4580-9d0e-aab56d63ab52"
    },
    {
      "cell_type": "code",
      "execution_count": 7,
      "metadata": {
        "vscode": {
          "languageId": "python"
        }
      },
      "outputs": [],
      "source": [
        "# 이런식으로!!"
      ],
      "id": "fd94455a-70fb-4120-b6b9-05ee94630755"
    },
    {
      "cell_type": "markdown",
      "metadata": {},
      "source": [
        "**Quiz** 열의선택: 결측치가 10000개 이상인 열을 보고싶다면? (먼가 문제가\n",
        "있는 열 같은데?)"
      ],
      "id": "8bc6132f-88e9-41e4-ad98-42e72a4d008f"
    },
    {
      "cell_type": "code",
      "execution_count": 8,
      "metadata": {
        "vscode": {
          "languageId": "python"
        }
      },
      "outputs": [],
      "source": [
        "df.loc[:,[df[key].isna().sum()>10000 for key in df.keys()]]"
      ],
      "id": "227418fc-8c59-4e9f-8758-57e99ca66d16"
    },
    {
      "cell_type": "markdown",
      "metadata": {},
      "source": [
        "`-` .info()"
      ],
      "id": "079c9b11-3b56-4009-990a-37c75b9c2a66"
    },
    {
      "cell_type": "code",
      "execution_count": 9,
      "metadata": {
        "vscode": {
          "languageId": "python"
        }
      },
      "outputs": [
        {
          "output_type": "stream",
          "name": "stdout",
          "text": [
            "<class 'pandas.core.frame.DataFrame'>\n",
            "RangeIndex: 17660 entries, 0 to 17659\n",
            "Data columns (total 29 columns):\n",
            " #   Column                    Non-Null Count  Dtype  \n",
            "---  ------                    --------------  -----  \n",
            " 0   ID                        17660 non-null  int64  \n",
            " 1   Name                      17660 non-null  object \n",
            " 2   Age                       17660 non-null  int64  \n",
            " 3   Photo                     17660 non-null  object \n",
            " 4   Nationality               17660 non-null  object \n",
            " 5   Flag                      17660 non-null  object \n",
            " 6   Overall                   17660 non-null  int64  \n",
            " 7   Potential                 17660 non-null  int64  \n",
            " 8   Club                      17449 non-null  object \n",
            " 9   Club Logo                 17660 non-null  object \n",
            " 10  Value                     17660 non-null  object \n",
            " 11  Wage                      17660 non-null  object \n",
            " 12  Special                   17660 non-null  int64  \n",
            " 13  Preferred Foot            17660 non-null  object \n",
            " 14  International Reputation  17660 non-null  float64\n",
            " 15  Weak Foot                 17660 non-null  float64\n",
            " 16  Skill Moves               17660 non-null  float64\n",
            " 17  Work Rate                 17660 non-null  object \n",
            " 18  Body Type                 17622 non-null  object \n",
            " 19  Real Face                 17622 non-null  object \n",
            " 20  Position                  17625 non-null  object \n",
            " 21  Joined                    16562 non-null  object \n",
            " 22  Loaned From               694 non-null    object \n",
            " 23  Contract Valid Until      17299 non-null  object \n",
            " 24  Height                    17660 non-null  object \n",
            " 25  Weight                    17660 non-null  object \n",
            " 26  Release Clause            16509 non-null  object \n",
            " 27  Kit Number                17625 non-null  float64\n",
            " 28  Best Overall Rating       21 non-null     object \n",
            "dtypes: float64(4), int64(5), object(20)\n",
            "memory usage: 3.9+ MB"
          ]
        }
      ],
      "source": [
        "df.info()"
      ],
      "id": "2d037768-8f63-4f3e-aeaa-7cf3042c59ee"
    },
    {
      "cell_type": "markdown",
      "metadata": {},
      "source": [
        "## 데이터정리하기\n",
        "\n",
        "`-` 칼럼이름변경"
      ],
      "id": "16346806-199d-450f-90c6-57072491dd7e"
    },
    {
      "cell_type": "code",
      "execution_count": 19,
      "metadata": {
        "vscode": {
          "languageId": "python"
        }
      },
      "outputs": [],
      "source": [
        "df.set_axis(pd.Index(map(lambda x: x.replace(' ','_'), df.columns)), axis=1)"
      ],
      "id": "dc34e21c-5fdb-4950-8396-b395f4b80148"
    },
    {
      "cell_type": "markdown",
      "metadata": {},
      "source": [
        "`-` 결측치제거"
      ],
      "id": "931ae6bc-f528-4990-86e9-7418001ac507"
    },
    {
      "cell_type": "code",
      "execution_count": 20,
      "metadata": {
        "vscode": {
          "languageId": "python"
        }
      },
      "outputs": [],
      "source": [
        "df.drop(columns=['Loaned From', 'Best Overall Rating']).dropna()"
      ],
      "id": "fa7586a8-a1be-4d59-87df-bd0b2b8878e1"
    },
    {
      "cell_type": "markdown",
      "metadata": {},
      "source": [
        "`-` Height, Weight의 자료형을 float형으로 수정하기"
      ],
      "id": "d482644d-db9d-4063-9a80-3b272c04fc13"
    },
    {
      "cell_type": "code",
      "execution_count": 21,
      "metadata": {
        "vscode": {
          "languageId": "python"
        }
      },
      "outputs": [],
      "source": [
        "df.assign(\n",
        "    Height= list(map(lambda x: float(x[:-2]), df.Height)),\n",
        "    Weight= list(map(lambda x: float(x[:-2]), df.Weight))\n",
        ")"
      ],
      "id": "d94c424a-55e0-47ef-9143-baa53303cb95"
    },
    {
      "cell_type": "markdown",
      "metadata": {},
      "source": [
        "`-` Release Clause의 자료형을 float으로 수정하기"
      ],
      "id": "37cade9e-b3c8-47ad-8aad-37f859174b95"
    },
    {
      "cell_type": "code",
      "execution_count": 22,
      "metadata": {
        "vscode": {
          "languageId": "python"
        }
      },
      "outputs": [],
      "source": [
        "df['Release Clause']"
      ],
      "id": "f2e30d10-0551-4b38-b8a3-e3f78ff3093d"
    },
    {
      "cell_type": "code",
      "execution_count": 23,
      "metadata": {
        "vscode": {
          "languageId": "python"
        }
      },
      "outputs": [],
      "source": [
        "_f = lambda x: float(x[1:-1])*1000 if x[-1]=='K' else float(x[1:-1])*1000000"
      ],
      "id": "5147970b-19c6-437f-b841-db0aba7bbabf"
    },
    {
      "cell_type": "code",
      "execution_count": 24,
      "metadata": {
        "vscode": {
          "languageId": "python"
        }
      },
      "outputs": [],
      "source": [
        "_f('€157M')"
      ],
      "id": "cad00fdf-1a0d-4179-bd34-5269e6b130e5"
    },
    {
      "cell_type": "code",
      "execution_count": 25,
      "metadata": {
        "vscode": {
          "languageId": "python"
        }
      },
      "outputs": [],
      "source": [
        "_f('€131K')"
      ],
      "id": "a9b9278d-f287-445d-8c06-6ce61c91dc65"
    },
    {
      "cell_type": "markdown",
      "metadata": {},
      "source": [
        "(시도1–실패)"
      ],
      "id": "c527667e-290c-47b7-a31a-1290c129988e"
    },
    {
      "cell_type": "code",
      "execution_count": 26,
      "metadata": {
        "vscode": {
          "languageId": "python"
        }
      },
      "outputs": [],
      "source": [
        "list(map(_f,df['Release Clause']))"
      ],
      "id": "b98fbd72-9224-43f7-85fa-89b3bedf9381"
    },
    {
      "cell_type": "markdown",
      "metadata": {},
      "source": [
        "(시도1이 실패한 이유)"
      ],
      "id": "dffefbd8-fbcc-4c19-a0d7-c588d9d7316d"
    },
    {
      "cell_type": "code",
      "execution_count": 27,
      "metadata": {
        "vscode": {
          "languageId": "python"
        }
      },
      "outputs": [],
      "source": [
        "df['Release Clause'].isna().sum() # 이 column에는 1151개의 결측치가 존재"
      ],
      "id": "3dbb60ea-e0f8-4438-a807-578a98c4ee49"
    },
    {
      "cell_type": "markdown",
      "metadata": {},
      "source": [
        "(nan에 대한 예비학습)"
      ],
      "id": "3356ec0a-3a7b-45f9-be55-ceabef4e515c"
    },
    {
      "cell_type": "code",
      "execution_count": 28,
      "metadata": {
        "vscode": {
          "languageId": "python"
        }
      },
      "outputs": [],
      "source": [
        "df.loc[df['Release Clause'].isna(), 'Release Clause']"
      ],
      "id": "88ebcc54-a988-473e-b0fe-2525d096308d"
    },
    {
      "cell_type": "code",
      "execution_count": 29,
      "metadata": {
        "vscode": {
          "languageId": "python"
        }
      },
      "outputs": [],
      "source": [
        "df.loc[18, 'Release Clause']"
      ],
      "id": "30b00300-7ebc-489d-b0ae-8151a719e01d"
    },
    {
      "cell_type": "code",
      "execution_count": 30,
      "metadata": {
        "vscode": {
          "languageId": "python"
        }
      },
      "outputs": [],
      "source": [
        "pd.isna(df.loc[18, 'Release Clause'])"
      ],
      "id": "fffe1c0a-63bb-4037-bf97-12d012368aae"
    },
    {
      "cell_type": "code",
      "execution_count": 31,
      "metadata": {
        "vscode": {
          "languageId": "python"
        }
      },
      "outputs": [],
      "source": [
        "type(df.loc[18, 'Release Clause'])"
      ],
      "id": "5bdab943-7082-4212-8c23-becf1feb5d90"
    },
    {
      "cell_type": "code",
      "execution_count": 32,
      "metadata": {
        "vscode": {
          "languageId": "python"
        }
      },
      "outputs": [],
      "source": [
        "df.loc[18, 'Release Clause'][-1]"
      ],
      "id": "304c90ce-a4b6-49ba-812b-9f45706e6de8"
    },
    {
      "cell_type": "markdown",
      "metadata": {},
      "source": [
        "(시도2–성공)"
      ],
      "id": "3584ab0e-29ab-4435-a74a-0d650286d5c9"
    },
    {
      "cell_type": "code",
      "execution_count": 33,
      "metadata": {
        "vscode": {
          "languageId": "python"
        }
      },
      "outputs": [],
      "source": [
        "df.rename(columns={'Release Clause':'ReleaseClause'})\\\n",
        ".assign(ReleaseClause = list(map(lambda x: _f(x) if pd.isna(x)==False else x , df['Release Clause'])))\\\n",
        ".rename(columns={'ReleaseClause':'Release Clause'})"
      ],
      "id": "7ebbcd33-8f77-4bd0-a7ee-322ecd781592"
    },
    {
      "cell_type": "markdown",
      "metadata": {},
      "source": [
        "(시도3–성공) 그냥 결측치를 제거하고 변형해도 무방.."
      ],
      "id": "66c4fe75-236a-42f1-ac7b-54aa0034b9d9"
    },
    {
      "cell_type": "code",
      "execution_count": 34,
      "metadata": {
        "vscode": {
          "languageId": "python"
        }
      },
      "outputs": [],
      "source": [
        "df2 = df.drop(columns=['Loaned From', 'Best Overall Rating']).dropna()\n",
        "df2['Release Clause'] = list(map(lambda x: _f(x) if pd.isna(x)==False else x , df2['Release Clause']))\n",
        "df2"
      ],
      "id": "a0fa49ef-e55c-4cfd-9787-8f1c7b93c4e1"
    },
    {
      "cell_type": "markdown",
      "metadata": {},
      "source": [
        "> 분석의 편의를 위하여 (1) colnames를 변경하고 (2) 결측치를 제거하고 (3)\n",
        "> 몇 가지 전 처리를 추가로 진행한 뒤 df2를 만들어서 분석하는게 좋음"
      ],
      "id": "10eaaab7-2644-4f83-bc8e-851e9b2cfa5f"
    }
  ],
  "nbformat": 4,
  "nbformat_minor": 5,
  "metadata": {
    "kernelspec": {
      "name": "python3",
      "display_name": "Python 3",
      "language": "python"
    },
    "language_info": {
      "name": "python",
      "codemirror_mode": {
        "name": "ipython",
        "version": "3"
      },
      "file_extension": ".py",
      "mimetype": "text/x-python",
      "nbconvert_exporter": "python",
      "pygments_lexer": "ipython3",
      "version": "3.8.16"
    }
  }
}