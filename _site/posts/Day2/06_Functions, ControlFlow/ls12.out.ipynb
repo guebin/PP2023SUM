{
  "cells": [
    {
      "cell_type": "markdown",
      "metadata": {},
      "source": [
        "# Lesson 13: 데이터 전처리\n",
        "\n",
        "최규빈  \n",
        "2023-07-25\n",
        "\n",
        "<a href=\"https://colab.research.google.com/github/guebin/IP2023WIN/blob/main/posts/Day2/06_Functions, ControlFlow/2023-01-31-Lesson13.ipynb\"><img src=\"https://colab.research.google.com/assets/colab-badge.svg\" style=\"text-align: left\"></a>\n",
        "\n",
        "# ref\n",
        "\n",
        "<https://guebin.github.io/DV2022/posts/2022-10-24-8wk-12.html#fifa23-데이터분석>\n",
        "\n",
        "# imports"
      ],
      "id": "c2046ad4-2975-4406-bd92-f56cc85f91cf"
    },
    {
      "cell_type": "code",
      "execution_count": 1,
      "metadata": {
        "vscode": {
          "languageId": "python"
        }
      },
      "outputs": [],
      "source": [
        "import pandas as pd"
      ],
      "id": "b92decca-f58b-428d-a56f-e5aee15ce990"
    },
    {
      "cell_type": "markdown",
      "metadata": {},
      "source": [
        "# FIFA23 데이터분석\n",
        "\n",
        "## FIFA23 data\n",
        "\n",
        "`-` FIFA23라는 축구게임이 있음\n",
        "\n",
        "`-` 게임에 실제 선수들이 나오면서 선수들의 능력치가 세밀하게 구현되어\n",
        "있음\n",
        "\n",
        "`-` 선수들 능력치에 대한 데이터셋은 캐글에 공개되어 있음 -\n",
        "https://www.kaggle.com/datasets/bryanb/fifa-player-stats-database?select=FIFA23_official_data.csv\n",
        "\n",
        "## 데이터살펴보기\n",
        "\n",
        "`-` 일단 살펴보기"
      ],
      "id": "2bdf3ada-0d3b-430c-bac5-a572314db814"
    },
    {
      "cell_type": "code",
      "execution_count": 2,
      "metadata": {
        "vscode": {
          "languageId": "python"
        }
      },
      "outputs": [],
      "source": [
        "df=pd.read_csv('https://raw.githubusercontent.com/guebin/DV2022/master/posts/FIFA23_official_data.csv')\n",
        "df.head()"
      ],
      "id": "3404a44f-0fae-4c62-b7dd-4b531e37bee6"
    },
    {
      "cell_type": "markdown",
      "metadata": {},
      "source": [
        "트랜스포즈하여 보는 것이 편할때도 있음"
      ],
      "id": "93c5638c-3fa0-4044-a531-e8c35a53fa1c"
    },
    {
      "cell_type": "code",
      "execution_count": 3,
      "metadata": {
        "vscode": {
          "languageId": "python"
        }
      },
      "outputs": [],
      "source": [
        "df.T"
      ],
      "id": "f82cac31-ec90-4ebc-80cb-712d3c6ae8fe"
    },
    {
      "cell_type": "markdown",
      "metadata": {},
      "source": [
        "`-` column이름조사"
      ],
      "id": "5a7161a8-c39e-4470-91a2-d894e45954a4"
    },
    {
      "cell_type": "code",
      "execution_count": 4,
      "metadata": {
        "vscode": {
          "languageId": "python"
        }
      },
      "outputs": [],
      "source": [
        "df.keys()"
      ],
      "id": "9fab7612-8ef6-4e36-b85e-ed51012cb044"
    },
    {
      "cell_type": "markdown",
      "metadata": {},
      "source": [
        "-   이름에 space가 있어서 좀 거슬림\n",
        "\n",
        "**Quiz** column이름에 space를 제거할 수 있을까?\n",
        "\n",
        "`-` 각 column 별로 자료형조사"
      ],
      "id": "41b1a60a-709b-430a-abc1-108a164705f6"
    },
    {
      "cell_type": "code",
      "execution_count": 7,
      "metadata": {
        "vscode": {
          "languageId": "python"
        }
      },
      "outputs": [],
      "source": [
        "df.ID"
      ],
      "id": "dbbcb704-b42a-4f63-9aca-4c861dac1fe5"
    },
    {
      "cell_type": "code",
      "execution_count": 9,
      "metadata": {
        "vscode": {
          "languageId": "python"
        }
      },
      "outputs": [],
      "source": [
        "df.ID.dtype"
      ],
      "id": "0da4198c-9ecc-495b-b99a-c39cc876ce57"
    },
    {
      "cell_type": "markdown",
      "metadata": {},
      "source": [
        "**Quiz** 각 컬럼별로 자료형을 조사할 수 있을까?\n",
        "\n",
        "`-` 결측치조사"
      ],
      "id": "6d7189be-7c40-4a06-94ba-1b0984d362b2"
    },
    {
      "cell_type": "code",
      "execution_count": 11,
      "metadata": {
        "vscode": {
          "languageId": "python"
        }
      },
      "outputs": [],
      "source": [
        "df.Club "
      ],
      "id": "a4e6ea1a-e85b-4d99-a893-77a52f924a0b"
    },
    {
      "cell_type": "markdown",
      "metadata": {},
      "source": [
        "-   무소속인 선수도 있지 않나?\n",
        "\n",
        "(예비학습)"
      ],
      "id": "37887549-9a1a-4977-bfaa-89c80ae08a51"
    },
    {
      "cell_type": "code",
      "execution_count": 17,
      "metadata": {
        "vscode": {
          "languageId": "python"
        }
      },
      "outputs": [],
      "source": [
        "pd.Series([1,2,None,2,3]).isna()"
      ],
      "id": "a21ccfb4-90a6-4064-acf0-ba0465401bcc"
    },
    {
      "cell_type": "markdown",
      "metadata": {},
      "source": [
        "예비학습 끝"
      ],
      "id": "b7302491-8224-42e1-b61f-626b52fc304c"
    },
    {
      "cell_type": "code",
      "execution_count": 18,
      "metadata": {
        "vscode": {
          "languageId": "python"
        }
      },
      "outputs": [],
      "source": [
        "df.Club.isna().sum() # 무소속인 선수는 211명 "
      ],
      "id": "107867a1-4681-4094-857a-7efecdf9536c"
    },
    {
      "cell_type": "markdown",
      "metadata": {},
      "source": [
        "**Quiz** 각 컬럼별로 결측시의 수를 조사할 수 있을까?\n",
        "\n",
        "**Quiz** 각 col별로 자료형과 결측치의 수를 조사한 표를 얻을 수 있을까?"
      ],
      "id": "f5a37c46-8d07-4339-867d-cc3e2a94e406"
    },
    {
      "cell_type": "code",
      "execution_count": 7,
      "metadata": {
        "vscode": {
          "languageId": "python"
        }
      },
      "outputs": [],
      "source": [
        "# 이런식으로!!"
      ],
      "id": "fd94455a-70fb-4120-b6b9-05ee94630755"
    },
    {
      "cell_type": "markdown",
      "metadata": {},
      "source": [
        "**Quiz** 열의선택: 결측치가 10000개 이상인 열을 보고싶다면? (먼가 문제가\n",
        "있는 열 같은데?)"
      ],
      "id": "94a7d864-4c4c-444a-9d4b-90329fc65522"
    },
    {
      "cell_type": "code",
      "execution_count": 8,
      "metadata": {
        "vscode": {
          "languageId": "python"
        }
      },
      "outputs": [],
      "source": [
        "df.loc[:,[df[key].isna().sum()>10000 for key in df.keys()]]"
      ],
      "id": "227418fc-8c59-4e9f-8758-57e99ca66d16"
    },
    {
      "cell_type": "markdown",
      "metadata": {},
      "source": [
        "`-` .info()"
      ],
      "id": "eb8bb16b-3161-496d-813c-21ef21a5f256"
    },
    {
      "cell_type": "code",
      "execution_count": 9,
      "metadata": {
        "vscode": {
          "languageId": "python"
        }
      },
      "outputs": [
        {
          "output_type": "stream",
          "name": "stdout",
          "text": [
            "<class 'pandas.core.frame.DataFrame'>\n",
            "RangeIndex: 17660 entries, 0 to 17659\n",
            "Data columns (total 29 columns):\n",
            " #   Column                    Non-Null Count  Dtype  \n",
            "---  ------                    --------------  -----  \n",
            " 0   ID                        17660 non-null  int64  \n",
            " 1   Name                      17660 non-null  object \n",
            " 2   Age                       17660 non-null  int64  \n",
            " 3   Photo                     17660 non-null  object \n",
            " 4   Nationality               17660 non-null  object \n",
            " 5   Flag                      17660 non-null  object \n",
            " 6   Overall                   17660 non-null  int64  \n",
            " 7   Potential                 17660 non-null  int64  \n",
            " 8   Club                      17449 non-null  object \n",
            " 9   Club Logo                 17660 non-null  object \n",
            " 10  Value                     17660 non-null  object \n",
            " 11  Wage                      17660 non-null  object \n",
            " 12  Special                   17660 non-null  int64  \n",
            " 13  Preferred Foot            17660 non-null  object \n",
            " 14  International Reputation  17660 non-null  float64\n",
            " 15  Weak Foot                 17660 non-null  float64\n",
            " 16  Skill Moves               17660 non-null  float64\n",
            " 17  Work Rate                 17660 non-null  object \n",
            " 18  Body Type                 17622 non-null  object \n",
            " 19  Real Face                 17622 non-null  object \n",
            " 20  Position                  17625 non-null  object \n",
            " 21  Joined                    16562 non-null  object \n",
            " 22  Loaned From               694 non-null    object \n",
            " 23  Contract Valid Until      17299 non-null  object \n",
            " 24  Height                    17660 non-null  object \n",
            " 25  Weight                    17660 non-null  object \n",
            " 26  Release Clause            16509 non-null  object \n",
            " 27  Kit Number                17625 non-null  float64\n",
            " 28  Best Overall Rating       21 non-null     object \n",
            "dtypes: float64(4), int64(5), object(20)\n",
            "memory usage: 3.9+ MB"
          ]
        }
      ],
      "source": [
        "df.info()"
      ],
      "id": "2d037768-8f63-4f3e-aeaa-7cf3042c59ee"
    },
    {
      "cell_type": "markdown",
      "metadata": {},
      "source": [
        "## 데이터정리하기\n",
        "\n",
        "`-` 칼럼이름변경"
      ],
      "id": "9592be11-4ddd-47e0-a820-9e853bd5dcca"
    },
    {
      "cell_type": "code",
      "execution_count": 19,
      "metadata": {
        "vscode": {
          "languageId": "python"
        }
      },
      "outputs": [],
      "source": [
        "df.set_axis(pd.Index(map(lambda x: x.replace(' ','_'), df.columns)), axis=1)"
      ],
      "id": "dc34e21c-5fdb-4950-8396-b395f4b80148"
    },
    {
      "cell_type": "markdown",
      "metadata": {},
      "source": [
        "`-` 결측치제거"
      ],
      "id": "4ed93164-039a-45b6-b250-551cf09e7c75"
    },
    {
      "cell_type": "code",
      "execution_count": 20,
      "metadata": {
        "vscode": {
          "languageId": "python"
        }
      },
      "outputs": [],
      "source": [
        "df.drop(columns=['Loaned From', 'Best Overall Rating']).dropna()"
      ],
      "id": "fa7586a8-a1be-4d59-87df-bd0b2b8878e1"
    },
    {
      "cell_type": "markdown",
      "metadata": {},
      "source": [
        "`-` Height, Weight의 자료형을 float형으로 수정하기"
      ],
      "id": "350473dd-4db3-485c-b8dc-e6a47d763b65"
    },
    {
      "cell_type": "code",
      "execution_count": 21,
      "metadata": {
        "vscode": {
          "languageId": "python"
        }
      },
      "outputs": [],
      "source": [
        "df.assign(\n",
        "    Height= list(map(lambda x: float(x[:-2]), df.Height)),\n",
        "    Weight= list(map(lambda x: float(x[:-2]), df.Weight))\n",
        ")"
      ],
      "id": "d94c424a-55e0-47ef-9143-baa53303cb95"
    },
    {
      "cell_type": "markdown",
      "metadata": {},
      "source": [
        "`-` Release Clause의 자료형을 float으로 수정하기"
      ],
      "id": "24e20562-6e57-43c6-85ee-b3cd860c1319"
    },
    {
      "cell_type": "code",
      "execution_count": 22,
      "metadata": {
        "vscode": {
          "languageId": "python"
        }
      },
      "outputs": [],
      "source": [
        "df['Release Clause']"
      ],
      "id": "f2e30d10-0551-4b38-b8a3-e3f78ff3093d"
    },
    {
      "cell_type": "code",
      "execution_count": 23,
      "metadata": {
        "vscode": {
          "languageId": "python"
        }
      },
      "outputs": [],
      "source": [
        "_f = lambda x: float(x[1:-1])*1000 if x[-1]=='K' else float(x[1:-1])*1000000"
      ],
      "id": "5147970b-19c6-437f-b841-db0aba7bbabf"
    },
    {
      "cell_type": "code",
      "execution_count": 24,
      "metadata": {
        "vscode": {
          "languageId": "python"
        }
      },
      "outputs": [],
      "source": [
        "_f('€157M')"
      ],
      "id": "cad00fdf-1a0d-4179-bd34-5269e6b130e5"
    },
    {
      "cell_type": "code",
      "execution_count": 25,
      "metadata": {
        "vscode": {
          "languageId": "python"
        }
      },
      "outputs": [],
      "source": [
        "_f('€131K')"
      ],
      "id": "a9b9278d-f287-445d-8c06-6ce61c91dc65"
    },
    {
      "cell_type": "markdown",
      "metadata": {},
      "source": [
        "(시도1–실패)"
      ],
      "id": "7ac8f3b7-97ad-40fd-96a9-478b99f09e54"
    },
    {
      "cell_type": "code",
      "execution_count": 26,
      "metadata": {
        "vscode": {
          "languageId": "python"
        }
      },
      "outputs": [],
      "source": [
        "list(map(_f,df['Release Clause']))"
      ],
      "id": "b98fbd72-9224-43f7-85fa-89b3bedf9381"
    },
    {
      "cell_type": "markdown",
      "metadata": {},
      "source": [
        "(시도1이 실패한 이유)"
      ],
      "id": "524d725b-29e1-43a6-a757-faa0c26f6e47"
    },
    {
      "cell_type": "code",
      "execution_count": 27,
      "metadata": {
        "vscode": {
          "languageId": "python"
        }
      },
      "outputs": [],
      "source": [
        "df['Release Clause'].isna().sum() # 이 column에는 1151개의 결측치가 존재"
      ],
      "id": "3dbb60ea-e0f8-4438-a807-578a98c4ee49"
    },
    {
      "cell_type": "markdown",
      "metadata": {},
      "source": [
        "(nan에 대한 예비학습)"
      ],
      "id": "85fc177c-4c19-4e79-94b1-318a3dd7e5ea"
    },
    {
      "cell_type": "code",
      "execution_count": 28,
      "metadata": {
        "vscode": {
          "languageId": "python"
        }
      },
      "outputs": [],
      "source": [
        "df.loc[df['Release Clause'].isna(), 'Release Clause']"
      ],
      "id": "88ebcc54-a988-473e-b0fe-2525d096308d"
    },
    {
      "cell_type": "code",
      "execution_count": 29,
      "metadata": {
        "vscode": {
          "languageId": "python"
        }
      },
      "outputs": [],
      "source": [
        "df.loc[18, 'Release Clause']"
      ],
      "id": "30b00300-7ebc-489d-b0ae-8151a719e01d"
    },
    {
      "cell_type": "code",
      "execution_count": 30,
      "metadata": {
        "vscode": {
          "languageId": "python"
        }
      },
      "outputs": [],
      "source": [
        "pd.isna(df.loc[18, 'Release Clause'])"
      ],
      "id": "fffe1c0a-63bb-4037-bf97-12d012368aae"
    },
    {
      "cell_type": "code",
      "execution_count": 31,
      "metadata": {
        "vscode": {
          "languageId": "python"
        }
      },
      "outputs": [],
      "source": [
        "type(df.loc[18, 'Release Clause'])"
      ],
      "id": "5bdab943-7082-4212-8c23-becf1feb5d90"
    },
    {
      "cell_type": "code",
      "execution_count": 32,
      "metadata": {
        "vscode": {
          "languageId": "python"
        }
      },
      "outputs": [],
      "source": [
        "df.loc[18, 'Release Clause'][-1]"
      ],
      "id": "304c90ce-a4b6-49ba-812b-9f45706e6de8"
    },
    {
      "cell_type": "markdown",
      "metadata": {},
      "source": [
        "(시도2–성공)"
      ],
      "id": "d3029cf6-a407-42f3-a032-bf20aadb7b82"
    },
    {
      "cell_type": "code",
      "execution_count": 33,
      "metadata": {
        "vscode": {
          "languageId": "python"
        }
      },
      "outputs": [],
      "source": [
        "df.rename(columns={'Release Clause':'ReleaseClause'})\\\n",
        ".assign(ReleaseClause = list(map(lambda x: _f(x) if pd.isna(x)==False else x , df['Release Clause'])))\\\n",
        ".rename(columns={'ReleaseClause':'Release Clause'})"
      ],
      "id": "7ebbcd33-8f77-4bd0-a7ee-322ecd781592"
    },
    {
      "cell_type": "markdown",
      "metadata": {},
      "source": [
        "(시도3–성공) 그냥 결측치를 제거하고 변형해도 무방.."
      ],
      "id": "3ef31975-bc8e-4d09-aaa4-d77794e5ccfc"
    },
    {
      "cell_type": "code",
      "execution_count": 34,
      "metadata": {
        "vscode": {
          "languageId": "python"
        }
      },
      "outputs": [],
      "source": [
        "df2 = df.drop(columns=['Loaned From', 'Best Overall Rating']).dropna()\n",
        "df2['Release Clause'] = list(map(lambda x: _f(x) if pd.isna(x)==False else x , df2['Release Clause']))\n",
        "df2"
      ],
      "id": "a0fa49ef-e55c-4cfd-9787-8f1c7b93c4e1"
    },
    {
      "cell_type": "markdown",
      "metadata": {},
      "source": [
        "> 분석의 편의를 위하여 (1) colnames를 변경하고 (2) 결측치를 제거하고 (3)\n",
        "> 몇 가지 전 처리를 추가로 진행한 뒤 df2를 만들어서 분석하는게 좋음"
      ],
      "id": "810127e4-d0a1-4e8f-a3bb-d9831df76552"
    }
  ],
  "nbformat": 4,
  "nbformat_minor": 5,
  "metadata": {
    "kernelspec": {
      "name": "python3",
      "display_name": "Python 3",
      "language": "python"
    },
    "language_info": {
      "name": "python",
      "codemirror_mode": {
        "name": "ipython",
        "version": "3"
      },
      "file_extension": ".py",
      "mimetype": "text/x-python",
      "nbconvert_exporter": "python",
      "pygments_lexer": "ipython3",
      "version": "3.8.16"
    }
  }
}