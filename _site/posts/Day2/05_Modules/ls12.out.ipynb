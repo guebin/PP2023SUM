{
  "cells": [
    {
      "cell_type": "markdown",
      "metadata": {},
      "source": [
        "# Lesson 12: 소스코드 관리, 모듈, 라이브러리\n",
        "\n",
        "최규빈  \n",
        "2023-07-25\n",
        "\n",
        "<a href=\"https://colab.research.google.com/github/guebin/PP2023SUM/blob/main/posts/Day2/05_Modules/ls12.ipynb\"><img src=\"https://colab.research.google.com/assets/colab-badge.svg\" style=\"text-align: left\"></a>\n",
        "\n",
        "`-` 생략함. 아래의 강의를 참고\n",
        "\n",
        "-   “[파이썬입문: (4주차)\n",
        "    3월23일](https://guebin.github.io/IP2022/2022/03/28/(4%EC%A3%BC%EC%B0%A8)-3%EC%9B%9428%EC%9D%BC.html)”\n",
        "-   “[파이썬입문: (5주차)\n",
        "    4월4일](https://guebin.github.io/IP2022/2022/04/03/(5%EC%A3%BC%EC%B0%A8)-4%EC%9B%942%EC%9D%BC.html)”"
      ],
      "id": "f1533e86-cdce-47c7-84ec-f12c408b0e0c"
    }
  ],
  "nbformat": 4,
  "nbformat_minor": 5,
  "metadata": {
    "kernelspec": {
      "name": "python3",
      "display_name": "Python 3 (ipykernel)",
      "language": "python"
    },
    "language_info": {
      "name": "python",
      "codemirror_mode": {
        "name": "ipython",
        "version": "3"
      },
      "file_extension": ".py",
      "mimetype": "text/x-python",
      "nbconvert_exporter": "python",
      "pygments_lexer": "ipython3",
      "version": "3.10.12"
    }
  }
}